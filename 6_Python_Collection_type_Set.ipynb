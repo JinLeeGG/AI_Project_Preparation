{
  "nbformat": 4,
  "nbformat_minor": 0,
  "metadata": {
    "colab": {
      "provenance": [],
      "authorship_tag": "ABX9TyNxXng/Ica8TFlwxZ3Rne1k",
      "include_colab_link": true
    },
    "kernelspec": {
      "name": "python3",
      "display_name": "Python 3"
    },
    "language_info": {
      "name": "python"
    }
  },
  "cells": [
    {
      "cell_type": "markdown",
      "metadata": {
        "id": "view-in-github",
        "colab_type": "text"
      },
      "source": [
        "<a href=\"https://colab.research.google.com/github/JinLeeGG/AI_Project_Preparation/blob/main/6_Python_Collection_type_Set.ipynb\" target=\"_parent\"><img src=\"https://colab.research.google.com/assets/colab-badge.svg\" alt=\"Open In Colab\"/></a>"
      ]
    },
    {
      "cell_type": "markdown",
      "source": [
        "# 1. 세트\n",
        "세트(set)는 중복되지 않는 항목들의 컬렉션입니다."
      ],
      "metadata": {
        "id": "zUjKy8HRVKkL"
      }
    },
    {
      "cell_type": "code",
      "source": [
        "# 1. 생성\n",
        "# 세트는 중괄호 {}를 사용하여 생성하거나 set() 생성자를 사용할 수 있습니다.\n",
        "\n",
        "s1 = {1, 3, 5, 7}\n",
        "print(s1)\n",
        "print(type(s1))"
      ],
      "metadata": {
        "colab": {
          "base_uri": "https://localhost:8080/"
        },
        "id": "tfJoAZ1HVTSW",
        "outputId": "ec366e7b-98af-4504-cef1-7450cdf8567d"
      },
      "execution_count": 4,
      "outputs": [
        {
          "output_type": "stream",
          "name": "stdout",
          "text": [
            "{1, 3, 5, 7}\n",
            "<class 'set'>\n"
          ]
        }
      ]
    },
    {
      "cell_type": "code",
      "source": [
        "s2 = {}\n",
        "print(s2)\n",
        "print(type(s2))"
      ],
      "metadata": {
        "colab": {
          "base_uri": "https://localhost:8080/"
        },
        "id": "jNHhkDnuV-jB",
        "outputId": "efceace6-0442-4f98-c40f-d84d380fe880"
      },
      "execution_count": 6,
      "outputs": [
        {
          "output_type": "stream",
          "name": "stdout",
          "text": [
            "{}\n",
            "<class 'dict'>\n"
          ]
        }
      ]
    },
    {
      "cell_type": "code",
      "source": [
        "s3 = set([1, 3, 5, 7])\n",
        "print(s3)\n",
        "print(type(s3))"
      ],
      "metadata": {
        "colab": {
          "base_uri": "https://localhost:8080/"
        },
        "id": "0PouKgugV_e9",
        "outputId": "96145c58-331c-4a6a-84fd-98b884708747"
      },
      "execution_count": 7,
      "outputs": [
        {
          "output_type": "stream",
          "name": "stdout",
          "text": [
            "{1, 3, 5, 7}\n",
            "<class 'set'>\n"
          ]
        }
      ]
    },
    {
      "cell_type": "code",
      "source": [
        "li4 = [1, 2, 3, 4]\n",
        "print(type(li4))\n",
        "s4 = set(li4)\n",
        "print(s4)\n",
        "print(type(s4))"
      ],
      "metadata": {
        "colab": {
          "base_uri": "https://localhost:8080/"
        },
        "id": "BPQ6R9XIXITY",
        "outputId": "7006dfea-98a2-4e90-db76-04b1c4f4bf52"
      },
      "execution_count": 8,
      "outputs": [
        {
          "output_type": "stream",
          "name": "stdout",
          "text": [
            "<class 'list'>\n",
            "{1, 2, 3, 4}\n",
            "<class 'set'>\n"
          ]
        }
      ]
    },
    {
      "cell_type": "code",
      "source": [
        "s5 = {1, 3, 5, 3, 7, 9, 1, 5, 10, 7}\n",
        "print(s5)"
      ],
      "metadata": {
        "colab": {
          "base_uri": "https://localhost:8080/"
        },
        "id": "d3usvPFkXI0o",
        "outputId": "563a9f48-3fc2-43a0-b236-08366a1c317e"
      },
      "execution_count": 9,
      "outputs": [
        {
          "output_type": "stream",
          "name": "stdout",
          "text": [
            "{1, 3, 5, 7, 9, 10}\n"
          ]
        }
      ]
    },
    {
      "cell_type": "code",
      "source": [
        "li6 = [1, 3, 5, 3, 7, 9, 1, 5, 10, 7]\n",
        "print(li6)\n",
        "s6 = set(li6)\n",
        "print(s6)"
      ],
      "metadata": {
        "colab": {
          "base_uri": "https://localhost:8080/"
        },
        "id": "SQU-wB11Xx7n",
        "outputId": "8b23417d-d66c-45b9-f2b0-23d43a8205fe"
      },
      "execution_count": 10,
      "outputs": [
        {
          "output_type": "stream",
          "name": "stdout",
          "text": [
            "[1, 3, 5, 3, 7, 9, 1, 5, 10, 7]\n",
            "{1, 3, 5, 7, 9, 10}\n"
          ]
        }
      ]
    },
    {
      "cell_type": "markdown",
      "source": [
        "# 2. 메소드\n",
        "세트는 여러 메소드를 가지고 있습니다."
      ],
      "metadata": {
        "id": "prDyYdxgX_iB"
      }
    },
    {
      "cell_type": "code",
      "source": [
        "s1 = {1, 3, 5, 7}\n",
        "print(s1)\n",
        "\n",
        "# add(): 세트의 요소를 추가\n",
        "s1.add(2)\n",
        "print(s1)\n",
        "s1.add(4)\n",
        "print(s1)\n",
        "s1.add(7)\n",
        "print(s1)"
      ],
      "metadata": {
        "colab": {
          "base_uri": "https://localhost:8080/"
        },
        "id": "IauGFkq7YBOp",
        "outputId": "bf1195fa-6f71-47a1-b936-c78dc20c9bcb"
      },
      "execution_count": 11,
      "outputs": [
        {
          "output_type": "stream",
          "name": "stdout",
          "text": [
            "{1, 3, 5, 7}\n",
            "{1, 2, 3, 5, 7}\n",
            "{1, 2, 3, 4, 5, 7}\n",
            "{1, 2, 3, 4, 5, 7}\n"
          ]
        }
      ]
    },
    {
      "cell_type": "code",
      "source": [
        "s1 = {1, 3, 5, 7}\n",
        "print(s1)\n",
        "\n",
        "# update(): 세트에 여러 요소를 추가\n",
        "s1.update([2, 3, 4, 6, 8, 10])\n",
        "print(s1)"
      ],
      "metadata": {
        "colab": {
          "base_uri": "https://localhost:8080/"
        },
        "id": "eS0uU2cYYkSh",
        "outputId": "fab7171c-cac4-46e1-8934-0bb968d7bd8b"
      },
      "execution_count": 12,
      "outputs": [
        {
          "output_type": "stream",
          "name": "stdout",
          "text": [
            "{1, 3, 5, 7}\n",
            "{1, 2, 3, 4, 5, 6, 7, 8, 10}\n"
          ]
        }
      ]
    },
    {
      "cell_type": "code",
      "source": [
        "s1 = {1, 3, 5, 7}\n",
        "print(s1)\n",
        "\n",
        "# remove(): 세트의 요소를 제거. 단 요소가 없으면 에러가 발생\n",
        "s1.remove(3)\n",
        "print(s1)\n",
        "# s1.remove(3) # KeyError: 3"
      ],
      "metadata": {
        "colab": {
          "base_uri": "https://localhost:8080/"
        },
        "id": "BT9-yaO1Y4y5",
        "outputId": "8ac665c5-731a-420e-efee-4d1571cbdef5"
      },
      "execution_count": 13,
      "outputs": [
        {
          "output_type": "stream",
          "name": "stdout",
          "text": [
            "{1, 3, 5, 7}\n",
            "{1, 5, 7}\n"
          ]
        }
      ]
    },
    {
      "cell_type": "code",
      "source": [
        "s1 = {1, 3, 5, 7}\n",
        "print(s1)\n",
        "\n",
        "# discard(): 세트의 요소를 제거. 단 요소가 없어도 에러가 발생하지 않음\n",
        "s1.discard(3)\n",
        "print(s1)\n",
        "s1.discard(3)\n",
        "print(s1)"
      ],
      "metadata": {
        "colab": {
          "base_uri": "https://localhost:8080/"
        },
        "id": "nqpEegwQZEws",
        "outputId": "683b629f-1442-419d-fb3f-abd1686d6c7b"
      },
      "execution_count": 14,
      "outputs": [
        {
          "output_type": "stream",
          "name": "stdout",
          "text": [
            "{1, 3, 5, 7}\n",
            "{1, 5, 7}\n",
            "{1, 5, 7}\n"
          ]
        }
      ]
    },
    {
      "cell_type": "code",
      "source": [
        "s1 = {1, 3, 5, 7}\n",
        "print(s1)\n",
        "\n",
        "s2 = s1 # 메모리 주소를 복사\n",
        "print(id(s1))\n",
        "print(id(s2))\n",
        "\n",
        "# copy(): 세트를 복사\n",
        "s2 = s1.copy() # 값을 복사\n",
        "print(s1)\n",
        "print(s2)\n",
        "print(id(s1))\n",
        "print(id(s2))"
      ],
      "metadata": {
        "colab": {
          "base_uri": "https://localhost:8080/"
        },
        "id": "QeJiLhTQZxWV",
        "outputId": "c4830ed2-25e5-4a08-9866-d4435f5b361a"
      },
      "execution_count": 15,
      "outputs": [
        {
          "output_type": "stream",
          "name": "stdout",
          "text": [
            "{1, 3, 5, 7}\n",
            "139422361974400\n",
            "139422361974400\n",
            "{1, 3, 5, 7}\n",
            "{1, 3, 5, 7}\n",
            "139422361974400\n",
            "139421424467552\n"
          ]
        }
      ]
    }
  ]
}