{
  "nbformat": 4,
  "nbformat_minor": 0,
  "metadata": {
    "colab": {
      "provenance": [],
      "authorship_tag": "ABX9TyOOVSUuEN4x5LFRuEhkyfTY",
      "include_colab_link": true
    },
    "kernelspec": {
      "name": "python3",
      "display_name": "Python 3"
    },
    "language_info": {
      "name": "python"
    }
  },
  "cells": [
    {
      "cell_type": "markdown",
      "metadata": {
        "id": "view-in-github",
        "colab_type": "text"
      },
      "source": [
        "<a href=\"https://colab.research.google.com/github/JinLeeGG/AI_Project_with_OpenCV/blob/main/1_print()_function.ipynb\" target=\"_parent\"><img src=\"https://colab.research.google.com/assets/colab-badge.svg\" alt=\"Open In Colab\"/></a>"
      ]
    },
    {
      "cell_type": "markdown",
      "source": [
        "# **1. print()**\n",
        "print() 함수는 콘솔에 출력을 표시하는 가장 기본적인 함수입니다. 프로그램 실행 중 생성된 값을 사용자에게 보여주거나 디버깅할 때 매우 유용합니다.\n",
        "\n",
        "```\n",
        "print(값1, 값2, ..., sep='구분자', end='끝 문자')\n",
        "```\n",
        "\n",
        ""
      ],
      "metadata": {
        "id": "sTKmiUg71Mo4"
      }
    },
    {
      "cell_type": "code",
      "source": [
        "print('안녕하세요 파이썬')\n",
        "print(\"안녕하세요 파이썬\")\n",
        "print(10)\n",
        "print('10')\n",
        "print(10, 20, 30, 40)\n",
        "print('안녕하세요', '파이썬')"
      ],
      "metadata": {
        "colab": {
          "base_uri": "https://localhost:8080/"
        },
        "id": "7eC00fNF16Jo",
        "outputId": "b24cb694-3c29-4a58-c838-16a3e7b0616b"
      },
      "execution_count": 31,
      "outputs": [
        {
          "output_type": "stream",
          "name": "stdout",
          "text": [
            "안녕하세요 파이썬\n",
            "안녕하세요 파이썬\n",
            "10\n",
            "10\n",
            "10 20 30 40\n",
            "안녕하세요 파이썬\n"
          ]
        }
      ]
    },
    {
      "cell_type": "code",
      "source": [
        "# window + . 으로 이모지 생성 가능\n",
        "print(10, 20, 30, 40, sep='😎') # seperate 속성, 띄어쓰기 대신 들어가는 속성, 원래는 띄어쓰기가 기본값이다.\n",
        "print(10, 20, 30, 40, sep=' ')"
      ],
      "metadata": {
        "colab": {
          "base_uri": "https://localhost:8080/"
        },
        "id": "yhE3QcWs2rao",
        "outputId": "1d29d4ac-22d8-48fe-e5f5-74172634f5cf"
      },
      "execution_count": 34,
      "outputs": [
        {
          "output_type": "stream",
          "name": "stdout",
          "text": [
            "10😎20😎30😎40\n",
            "10 20 30 40\n"
          ]
        }
      ]
    },
    {
      "cell_type": "code",
      "source": [
        "print('Hello', end='') # end 속성, 프린트 후 옆으로 붙여주는 속성\n",
        "print('Python')        # 옆으로 붙인다\n",
        "print('Hello')         # 이제 안붙는다\n",
        "\n",
        "print('Hello', end=' ') # 바로 옆으로 붙이는데 한칸 띄어주고 붙인다.\n",
        "print('Python')         # 한칸 띄어주고 붙인다.\n",
        "\n",
        "# ex)\n",
        "print('Hello', end='🎁')\n",
        "print('Python')"
      ],
      "metadata": {
        "colab": {
          "base_uri": "https://localhost:8080/"
        },
        "id": "UGoylyGf3alF",
        "outputId": "ba6b241b-35ba-4e64-f6be-be9190e31ca2"
      },
      "execution_count": 44,
      "outputs": [
        {
          "output_type": "stream",
          "name": "stdout",
          "text": [
            "HelloPython\n",
            "Hello\n",
            "Hello Python\n",
            "Hello🎁Python\n"
          ]
        }
      ]
    },
    {
      "cell_type": "markdown",
      "source": [
        "# **2. 파이썬의 escape 문자**\n",
        "파이썬에서 이스케이프 문자(Escape Character)는 특별한 의미를 가지며, 문자열 내에서 특수한 기능을 수행하도록 하는 문자입니다. 이스케이프 문자는 백슬래시(\\\\)로 시작하며, 그 뒤에 이어지는 문자가 특정한 기능을 수행합니다.\n",
        "\n",
        "\n",
        "1. \\n: 줄바꿈을 나타냅니다.\n",
        "2. \\t: 탭 문자를 나타냅니다.\n",
        "3. \\\\: 백슬래시 자체를 나타냅니다.\n",
        "4. \\\" 또는 \\': 큰따옴표나 작은따옴표를 나타냅니다. 문자열을 감싸는 따옴표와 구분하기 위해 사용됩니다.\n",
        "5. \\r: 캐리지 리턴을 나타냅니다. 문자열을 출력한 후 커서를 줄의 처음으로 이동시킵니다.\n",
        "6. \\b: 백스페이스를 나타냅니다. 문자열 내에서 한 글자를 삭제합니다."
      ],
      "metadata": {
        "id": "aEiCO50t36vT"
      }
    },
    {
      "cell_type": "code",
      "source": [
        "print('Hello\\nPython!')"
      ],
      "metadata": {
        "colab": {
          "base_uri": "https://localhost:8080/"
        },
        "id": "qMxu7v7k4lb_",
        "outputId": "1f266bfe-d12a-4051-8b79-97f125f54a95"
      },
      "execution_count": 45,
      "outputs": [
        {
          "output_type": "stream",
          "name": "stdout",
          "text": [
            "Hello\n",
            "Python!\n"
          ]
        }
      ]
    },
    {
      "cell_type": "code",
      "source": [
        "print('Name:\\t김사과')"
      ],
      "metadata": {
        "colab": {
          "base_uri": "https://localhost:8080/"
        },
        "id": "OIicvgOh5Bb7",
        "outputId": "7a922ef8-04c6-44cd-f72f-c62d752e5599"
      },
      "execution_count": 46,
      "outputs": [
        {
          "output_type": "stream",
          "name": "stdout",
          "text": [
            "Name:\t김사과\n"
          ]
        }
      ]
    },
    {
      "cell_type": "code",
      "source": [
        "print('파이썬은 너무 재밌네: \\\\') # 백슬래시를 두개 연속으로 써야 문자열로 나온다"
      ],
      "metadata": {
        "colab": {
          "base_uri": "https://localhost:8080/"
        },
        "id": "AvHrLRew5Hw3",
        "outputId": "5c5b2d36-7d21-484f-b133-6651192d42fe"
      },
      "execution_count": 47,
      "outputs": [
        {
          "output_type": "stream",
          "name": "stdout",
          "text": [
            "파이썬은 너무 재밌네: \\\n"
          ]
        }
      ]
    },
    {
      "cell_type": "code",
      "source": [
        "print(\"C:\\\\Users\\\\Administrator\\\\Documents\")"
      ],
      "metadata": {
        "colab": {
          "base_uri": "https://localhost:8080/"
        },
        "id": "XVBraon05Pck",
        "outputId": "6ea2fa96-a39b-4d42-8f6b-e59fd2c1251c"
      },
      "execution_count": 48,
      "outputs": [
        {
          "output_type": "stream",
          "name": "stdout",
          "text": [
            "C:\\Users\\Administrator\\Documents\n"
          ]
        }
      ]
    }
  ]
}