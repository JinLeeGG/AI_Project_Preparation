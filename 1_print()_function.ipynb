{
  "nbformat": 4,
  "nbformat_minor": 0,
  "metadata": {
    "colab": {
      "provenance": [],
      "authorship_tag": "ABX9TyPRu0gW4g8gpct6dX+ys9cv",
      "include_colab_link": true
    },
    "kernelspec": {
      "name": "python3",
      "display_name": "Python 3"
    },
    "language_info": {
      "name": "python"
    }
  },
  "cells": [
    {
      "cell_type": "markdown",
      "metadata": {
        "id": "view-in-github",
        "colab_type": "text"
      },
      "source": [
        "<a href=\"https://colab.research.google.com/github/JinLeeGG/AI_Project_with_OpenCV/blob/main/1_print()_function.ipynb\" target=\"_parent\"><img src=\"https://colab.research.google.com/assets/colab-badge.svg\" alt=\"Open In Colab\"/></a>"
      ]
    },
    {
      "cell_type": "markdown",
      "source": [
        "# **1. print()**\n",
        "print() 함수는 콘솔에 출력을 표시하는 가장 기본적인 함수입니다. 프로그램 실행 중 생성된 값을 사용자에게 보여주거나 디버깅할 때 매우 유용합니다.\n",
        "\n",
        "```\n",
        "print(값1, 값2, ..., sep='구분자', end='끝 문자')\n",
        "```\n",
        "\n"
      ],
      "metadata": {
        "id": "sTKmiUg71Mo4"
      }
    },
    {
      "cell_type": "code",
      "source": [
        "print('안녕하세요 파이썬')\n",
        "print(\"안녕하세요 파이썬\")\n",
        "print(10)\n",
        "print('10')\n",
        "print(10, 20, 30, 40)\n",
        "print('안녕하세요', '파이썬')"
      ],
      "metadata": {
        "colab": {
          "base_uri": "https://localhost:8080/"
        },
        "id": "7eC00fNF16Jo",
        "outputId": "fbcd3ed3-8880-4228-a9c0-d00d762aad54"
      },
      "execution_count": null,
      "outputs": [
        {
          "output_type": "stream",
          "name": "stdout",
          "text": [
            "안녕하세요 파이썬\n",
            "안녕하세요 파이썬\n",
            "10\n",
            "10\n",
            "10 20 30 40\n",
            "안녕하세요 파이썬\n"
          ]
        }
      ]
    },
    {
      "cell_type": "code",
      "source": [
        "# window + . 으로 이모지 생성 가능\n",
        "print(10, 20, 30, 40, sep='😎') # seperate 속성, 띄어쓰기 대신 들어가는 속성, 원래는 띄어쓰기가 기본값이다.\n",
        "print(10, 20, 30, 40, sep=' ')"
      ],
      "metadata": {
        "colab": {
          "base_uri": "https://localhost:8080/"
        },
        "id": "yhE3QcWs2rao",
        "outputId": "2dee603f-3d57-44ea-f6df-c893efd2981c"
      },
      "execution_count": null,
      "outputs": [
        {
          "output_type": "stream",
          "name": "stdout",
          "text": [
            "10😎20😎30😎40\n",
            "10 20 30 40\n"
          ]
        }
      ]
    },
    {
      "cell_type": "code",
      "source": [
        "print('Hello', end='') # end 속성, 프린트 후 옆으로 붙여주는 속성\n",
        "print('Python')        # 옆으로 붙인다\n",
        "print('Hello')         # 이제 안붙는다\n",
        "\n",
        "print('Hello', end=' ') # 바로 옆으로 붙이는데 한칸 띄어주고 붙인다.\n",
        "print('Python')         # 한칸 띄어주고 붙인다.\n",
        "\n",
        "# ex)\n",
        "print('Hello', end='🎁')\n",
        "print('Python')"
      ],
      "metadata": {
        "colab": {
          "base_uri": "https://localhost:8080/"
        },
        "id": "UGoylyGf3alF",
        "outputId": "456ae6a6-35fb-4ef6-c6e0-be4aeb768efd"
      },
      "execution_count": null,
      "outputs": [
        {
          "output_type": "stream",
          "name": "stdout",
          "text": [
            "HelloPython\n",
            "Hello\n",
            "Hello Python\n",
            "Hello🎁Python\n"
          ]
        }
      ]
    },
    {
      "cell_type": "markdown",
      "source": [
        "# **2. 파이썬의 escape 문자**\n",
        "파이썬에서 이스케이프 문자(Escape Character)는 특별한 의미를 가지며, 문자열 내에서 특수한 기능을 수행하도록 하는 문자입니다. 이스케이프 문자는 백슬래시(\\\\)로 시작하며, 그 뒤에 이어지는 문자가 특정한 기능을 수행합니다.\n",
        "\n",
        "\n",
        "1. \\n: 줄바꿈을 나타냅니다.\n",
        "2. \\t: 탭 문자를 나타냅니다.\n",
        "3. \\\\: 백슬래시 자체를 나타냅니다.\n",
        "4. \\\" 또는 \\': 큰따옴표나 작은따옴표를 나타냅니다. 문자열을 감싸는 따옴표와 구분하기 위해 사용됩니다.\n",
        "5. \\r: 캐리지 리턴을 나타냅니다. 문자열을 출력한 후 커서를 줄의 처음으로 이동시킵니다.\n",
        "6. \\b: 백스페이스를 나타냅니다. 문자열 내에서 한 글자를 삭제합니다."
      ],
      "metadata": {
        "id": "aEiCO50t36vT"
      }
    },
    {
      "cell_type": "code",
      "source": [
        "print('Hello\\nPython!')"
      ],
      "metadata": {
        "colab": {
          "base_uri": "https://localhost:8080/"
        },
        "id": "qMxu7v7k4lb_",
        "outputId": "000ce69a-625b-405f-8a6c-e7db2d7437b0"
      },
      "execution_count": null,
      "outputs": [
        {
          "output_type": "stream",
          "name": "stdout",
          "text": [
            "Hello\n",
            "Python!\n"
          ]
        }
      ]
    },
    {
      "cell_type": "code",
      "source": [
        "print('Name:\\t김사과')"
      ],
      "metadata": {
        "colab": {
          "base_uri": "https://localhost:8080/"
        },
        "id": "OIicvgOh5Bb7",
        "outputId": "b1516cf2-8185-4b81-cbac-502ca7cd738c"
      },
      "execution_count": null,
      "outputs": [
        {
          "output_type": "stream",
          "name": "stdout",
          "text": [
            "Name:\t김사과\n"
          ]
        }
      ]
    },
    {
      "cell_type": "code",
      "source": [
        "print('파이썬은 너무 재밌네: \\\\') # 백슬래시를 두개 연속으로 써야 문자열로 나온다"
      ],
      "metadata": {
        "colab": {
          "base_uri": "https://localhost:8080/"
        },
        "id": "AvHrLRew5Hw3",
        "outputId": "ae38361c-a3a0-44dd-d584-248764ff1753"
      },
      "execution_count": null,
      "outputs": [
        {
          "output_type": "stream",
          "name": "stdout",
          "text": [
            "파이썬은 너무 재밌네: \\\n"
          ]
        }
      ]
    },
    {
      "cell_type": "code",
      "source": [
        "print(\"C:\\\\Users\\\\Administrator\\\\Documents\")"
      ],
      "metadata": {
        "colab": {
          "base_uri": "https://localhost:8080/"
        },
        "id": "XVBraon05Pck",
        "outputId": "0efd25bc-37a7-474c-e40f-b8462b19429f"
      },
      "execution_count": null,
      "outputs": [
        {
          "output_type": "stream",
          "name": "stdout",
          "text": [
            "C:\\Users\\Administrator\\Documents\n"
          ]
        }
      ]
    },
    {
      "cell_type": "markdown",
      "source": [
        "# **3. print 함수내의 연산**\n",
        "print() 함수는 문자열뿐만 아니라 숫자와 연산 결과도 출력할 수 있습니다.\n",
        "\n"
      ],
      "metadata": {
        "id": "fUnwRHhZyiHH"
      }
    },
    {
      "cell_type": "code",
      "source": [
        "print(10)\n",
        "print(10 + 5)\n",
        "print('덧셈: ', 10 + 5)\n",
        "print('뺄샘: ', 10 - 5)\n",
        "print('곱샘: ', 10 * 5)\n",
        "print('나눗셈: ', 10 / 5) # 실수로 만들어서 가져온다.\n",
        "print('정수 나눗셈: ', 10 // 3) # 정수 부분만 가져온다.\n",
        "print('나머지: ', 10 % 30) # 나눈 이후 나머지 값만 출력한다.\n",
        "print('거듭제곱: ', 10 ** 5)"
      ],
      "metadata": {
        "colab": {
          "base_uri": "https://localhost:8080/"
        },
        "id": "JPY4Qfztyz1q",
        "outputId": "bc9112de-70c1-46a9-e364-240cf0e4c39a"
      },
      "execution_count": null,
      "outputs": [
        {
          "output_type": "stream",
          "name": "stdout",
          "text": [
            "10\n",
            "15\n",
            "덧셈:  15\n",
            "뺄샘:  5\n",
            "곱샘:  50\n",
            "나눗셈:  2.0\n",
            "정수 나눗셈:  3\n",
            "나머지:  10\n",
            "거듭제곱:  100000\n"
          ]
        }
      ]
    },
    {
      "cell_type": "markdown",
      "source": [
        "# **4. 출력서식 지정**\n",
        "파이썬의 print() 함수에서 서식 지정(formatting)은 변수를 문자열 내에 삽입하거나, 숫자의 출력 형식을 지정하는 방법입니다.\n",
        "\n"
      ],
      "metadata": {
        "id": "JehOkuFyy_D1"
      }
    },
    {
      "cell_type": "markdown",
      "source": [
        "### **1. % 서식 지정자**\n",
        "* %s: 문자열을 출력합니다.\n",
        "* %d: 정수를 출력합니다.\n",
        "* %.nf: 소수점 이하 n자리까지 출력합니다."
      ],
      "metadata": {
        "id": "vyj6hDl80V3x"
      }
    },
    {
      "cell_type": "code",
      "source": [
        "print('정수: ', 100)\n",
        "print('정수: %d' % 100) # 정수를 출력한다.\n",
        "print('정수: %d' % 100.5) # 소수점이 있어도 정수로 출력한다.\n",
        "print('실수: %f' % 100.5) # 여섯째자리까지 소수점이 찍힌다.\n",
        "print('실수: %.2f' % 100.5) # 두번째자리까지 소수점이 찍힌다.\n",
        "print('문자열: %s' % '파이썬') # 문자열로 출력한다.\n",
        "print('문자열: %s' % 100) # 정수여도 문자열로 출력한다.\n",
        "\n",
        "\n",
        "print('5 + 3 = 8')\n",
        "print('%d + %d = %d' % (5, 3, 5+3)) # 두 개 이상 한번에 삽입 할 경우 소괄호로 감싸서 출력한다.\n",
        "\n",
        "print(\"이름: %s, 나이: %d\" % ('김사과', 20)) # 다른 종류의 타입도 동시에 삽입가능\n",
        "print(\"몸무게: %.2f\" % 50.12345) # 두번째 자리까지 반올림"
      ],
      "metadata": {
        "colab": {
          "base_uri": "https://localhost:8080/"
        },
        "id": "Ts2vEkxF1O8s",
        "outputId": "b1e7852c-35a5-4bfc-805d-a577b3037945"
      },
      "execution_count": null,
      "outputs": [
        {
          "output_type": "stream",
          "name": "stdout",
          "text": [
            "정수:  100\n",
            "정수: 100\n",
            "정수: 100\n",
            "실수: 100.500000\n",
            "실수: 100.50\n",
            "문자열: 파이썬\n",
            "문자열: 100\n",
            "5 + 3 = 8\n",
            "5 + 3 = 8\n",
            "이름: 김사과, 나이: 20\n",
            "몸무게: 50.12\n"
          ]
        }
      ]
    },
    {
      "cell_type": "markdown",
      "source": [
        "### **2. str.format() 메서드**\n",
        "* {}: 중괄호 안에 변수나 표현식을 넣어 값을 출력합니다.\n",
        "* {:d}: 정수를 출력합니다.\n",
        "* {:f}: 부동 소수점 숫자를 출력합니다.\n",
        "* {:s}: 문자열을 출력합니다.\n",
        "* {:x}: 정수를 16진수로 출력합니다.\n",
        "* {:0n}: n 자리의 정수를 0으로 채워서 출력합니다.\n",
        "* {:n.mf}: 전체 길이 n과 소수점 이하 자리수 m을 지정하여 부동 소수점 숫자를 출력합니다."
      ],
      "metadata": {
        "id": "5_60D9Of4SSJ"
      }
    },
    {
      "cell_type": "code",
      "source": [
        "print('내친구: {} {}'.format('오렌지', '반하나'))\n",
        "print('이름: {}, 나이: {}, 점수: {:.2f}'.format('김사과', 20, 95.678))\n",
        "print('첫 번째: {0}, 두 번째: {1}, 다시 첫 번째: {0}'.format('사과', '오렌지'))\n",
        "print('이름 {name}, 나이: {age}'.format(name = '김사과', age = 20))\n",
        "print('숫자: {:,}'.format(1234567890))\n",
        "print(\"16진수: {:x}, 8진수: {:o}, 2진수: {:b}\".format(255,255,255))"
      ],
      "metadata": {
        "colab": {
          "base_uri": "https://localhost:8080/"
        },
        "id": "foCxL_G54XxJ",
        "outputId": "b56b429d-18db-46a5-cf96-c56ab30c9931"
      },
      "execution_count": null,
      "outputs": [
        {
          "output_type": "stream",
          "name": "stdout",
          "text": [
            "내친구: 오렌지 반하나\n",
            "이름: 김사과, 나이: 20, 점수: 95.68\n",
            "첫 번째: 사과, 두 번째: 오렌지, 다시 첫 번째: 사과\n",
            "이름 김사과, 나이: 20\n",
            "숫자: 1,234,567,890\n",
            "16진수: ff, 8진수: 377, 2진수: 11111111\n"
          ]
        }
      ]
    },
    {
      "cell_type": "markdown",
      "source": [
        "### **3. f-string**\n",
        "f-string은 가장 직관적이고 간편한 방식입니다. 문자열 앞에 f를 붙이고 중괄호 {} 안에 변수를 넣어 사용합니다."
      ],
      "metadata": {
        "id": "7v-rVND21ULD"
      }
    },
    {
      "cell_type": "code",
      "source": [
        "print(f'10 + 20 = {10 + 20}')\n",
        "print(f'3.14159를 소수 둘째자리까지 표현 {3.14159:.2f}')"
      ],
      "metadata": {
        "colab": {
          "base_uri": "https://localhost:8080/"
        },
        "id": "zK6BZ8U2_Cxy",
        "outputId": "7f22c55b-28ff-4128-9af5-9b8b987122c6"
      },
      "execution_count": null,
      "outputs": [
        {
          "output_type": "stream",
          "name": "stdout",
          "text": [
            "10 + 20 = 30\n",
            "3.14159를 소수 둘째자리까지 표현 3.14\n"
          ]
        }
      ]
    },
    {
      "cell_type": "markdown",
      "source": [
        "# **5. 주석문**\n",
        "\n",
        "파이썬 주석은 코드 내에 프로그래머가 작성한 설명이나 메모를 포함하는데 사용됩니다. 주석은 코드를 이해하고 다른 개발자와 협업하는 데 도움이 되며, 코드의 기능과 목적을 명확하게 설명할 수 있습니다. 주석은 프로그램 실행 중에 무시되므로 코드 실행에 영향을 미치지 않습니다.\n",
        "\n",
        "1. 한 줄 주석: 코드 한 줄에서 주석을 작성하는 것입니다. # 기호를 사용하여 주석을 시작합니다. # 다음에 작성된 내용은 그 줄에서 끝까지 주석으로 처리됩니다."
      ],
      "metadata": {
        "id": "slGbBiXN_uUF"
      }
    },
    {
      "cell_type": "code",
      "source": [
        "print('파이썬 출력하기') # 문자열 출력은 작은따옴표 '' 또는 큰따옴표 \"\"를 사용함"
      ],
      "metadata": {
        "colab": {
          "base_uri": "https://localhost:8080/"
        },
        "id": "rYW-63r3AAkS",
        "outputId": "cf354ad9-33fd-4b98-9cd2-c73f25a7b3e0"
      },
      "execution_count": null,
      "outputs": [
        {
          "output_type": "stream",
          "name": "stdout",
          "text": [
            "파이썬 출력하기\n"
          ]
        }
      ]
    },
    {
      "cell_type": "code",
      "source": [
        "\"\"\"\n",
        "이것은 여러 줄 주석입니다.\n",
        "여러 줄 주석은 큰따옴표 세 개 또는 작은따옴표 세 개 사이에 작성됩니다.\n",
        "여러 줄에 걸쳐 설명을 적을 수 있습니다.\n",
        "\"\"\"\n",
        "print(\"파이썬 출력하기!\")\n"
      ],
      "metadata": {
        "colab": {
          "base_uri": "https://localhost:8080/"
        },
        "id": "D6JIRr59AZti",
        "outputId": "dfb0561e-9be0-423a-8786-afb50dae31f2"
      },
      "execution_count": null,
      "outputs": [
        {
          "output_type": "stream",
          "name": "stdout",
          "text": [
            "파이썬 출력하기!\n"
          ]
        }
      ]
    },
    {
      "cell_type": "code",
      "source": [],
      "metadata": {
        "id": "CTSMKlnSAtB4"
      },
      "execution_count": null,
      "outputs": []
    }
  ]
}