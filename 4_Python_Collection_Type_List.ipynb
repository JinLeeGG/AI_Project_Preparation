{
  "nbformat": 4,
  "nbformat_minor": 0,
  "metadata": {
    "colab": {
      "provenance": [],
      "authorship_tag": "ABX9TyOFxGETzKa2dgRZABp5W35W",
      "include_colab_link": true
    },
    "kernelspec": {
      "name": "python3",
      "display_name": "Python 3"
    },
    "language_info": {
      "name": "python"
    }
  },
  "cells": [
    {
      "cell_type": "markdown",
      "metadata": {
        "id": "view-in-github",
        "colab_type": "text"
      },
      "source": [
        "<a href=\"https://colab.research.google.com/github/JinLeeGG/AI_Project_with_OpenCV/blob/main/4_Python_Collection_Type_List.ipynb\" target=\"_parent\"><img src=\"https://colab.research.google.com/assets/colab-badge.svg\" alt=\"Open In Colab\"/></a>"
      ]
    },
    {
      "cell_type": "markdown",
      "source": [
        "# 1. 컬렉션 타입\n",
        "여러 개의 데이터 항목을 하나의 단위로 관리할 수 있게 해주는 데이터 구조를 의미합니다. 이것은 여러 개의 데이터를 하나의 변수에 저장하고, 관리할 수 있게 해줍니다. 파이썬에서는 리스트, 튜플, 세트, 딕셔너리 등이 기본적인 컬렉션 타입에 속합니다."
      ],
      "metadata": {
        "id": "uVbZKEx1cLS7"
      }
    },
    {
      "cell_type": "markdown",
      "source": [
        "### **2. 리스트**\n",
        "여러 값들을 하나의 변수에 저장하고 관리할 수 있게 해주는 순차적인 자료구조입니다.\n",
        "\n",
        "<center><img src=\"https://img1.daumcdn.net/thumb/R1280x0/?scode=mtistory2&fname=https%3A%2F%2Fblog.kakaocdn.net%2Fdn%2FrbbGS%2FbtsNlJ3pII6%2FxOarLiohBmOc4K2XLy0gq0%2Fimg.png\"></center>"
      ],
      "metadata": {
        "id": "GyEtBs3qcUXf"
      }
    },
    {
      "cell_type": "code",
      "source": [
        "# 리스트 생성\n",
        "li1 = [1, 3, 5, 7, 9]\n",
        "print(li1)\n",
        "print(type(li1))"
      ],
      "metadata": {
        "colab": {
          "base_uri": "https://localhost:8080/"
        },
        "id": "zixkEQM2gqGn",
        "outputId": "02f3da1e-403a-49a8-8ec5-d4f4022c171a"
      },
      "execution_count": 1,
      "outputs": [
        {
          "output_type": "stream",
          "name": "stdout",
          "text": [
            "[1, 3, 5, 7, 9]\n",
            "<class 'list'>\n"
          ]
        }
      ]
    },
    {
      "cell_type": "code",
      "source": [
        "li2 = list([1,3,5,7,9]) # 다른 자료형을 형 변환 할려고 이 함수가 존재한다.\n",
        "print(li2)\n",
        "print(type(li2))"
      ],
      "metadata": {
        "colab": {
          "base_uri": "https://localhost:8080/"
        },
        "id": "UJb9ctmBg2xF",
        "outputId": "c6b809dc-40d9-47a5-af36-b3aa65156e4b"
      },
      "execution_count": 2,
      "outputs": [
        {
          "output_type": "stream",
          "name": "stdout",
          "text": [
            "[1, 3, 5, 7, 9]\n",
            "<class 'list'>\n"
          ]
        }
      ]
    },
    {
      "cell_type": "code",
      "source": [
        "li3 = ['김사과', '반하나', '오렌지', '이메론']\n",
        "print(li3)"
      ],
      "metadata": {
        "colab": {
          "base_uri": "https://localhost:8080/"
        },
        "id": "uRtACeFghg4G",
        "outputId": "bb4a3b73-e562-4492-c007-e25416cd147d"
      },
      "execution_count": 3,
      "outputs": [
        {
          "output_type": "stream",
          "name": "stdout",
          "text": [
            "['김사과', '반하나', '오렌지', '이메론']\n"
          ]
        }
      ]
    },
    {
      "cell_type": "code",
      "source": [
        "li4 = [1, 50.5, '김사과', True] # 각자 타입이 다른 데이터를 저장\n",
        "\n",
        "print(li4)\n",
        "print(type(li4))\n",
        "\n",
        "print(li4[0])\n",
        "print(type(li4[0]))\n",
        "\n",
        "print(li4[0])\n",
        "print(li4[1])\n",
        "print(li4[2])\n",
        "print(li4[3])\n",
        "\n",
        "# print(li4[4]) # IndexError: list index out of range\n",
        "print(type(li4[0]))\n",
        "print(type(li4[1]))\n",
        "print(type(li4[2]))\n",
        "print(type(li4[3]))"
      ],
      "metadata": {
        "colab": {
          "base_uri": "https://localhost:8080/"
        },
        "id": "umEqEr18hr6v",
        "outputId": "3c24009f-2d2a-4dc3-9d57-af63fd183864"
      },
      "execution_count": 5,
      "outputs": [
        {
          "output_type": "stream",
          "name": "stdout",
          "text": [
            "[1, 50.5, '김사과', True]\n",
            "<class 'list'>\n",
            "1\n",
            "<class 'int'>\n",
            "1\n",
            "50.5\n",
            "김사과\n",
            "True\n",
            "<class 'int'>\n",
            "<class 'float'>\n",
            "<class 'str'>\n",
            "<class 'bool'>\n"
          ]
        }
      ]
    },
    {
      "cell_type": "code",
      "source": [
        "# 리스트 인덱싱\n",
        "# 리스트의 각 항목은 위치(인덱스)를 가지고 있으며, 인덱스를 사용하여 접근할 수 있습니다. 인덱스는 0부터 시작합니다.\n",
        "\n",
        "li1 = [1, 3, 5, 7, 9]\n",
        "print(li1)\n",
        "print(li1[0])\n",
        "print(li1[-1])\n",
        "print(li1[0] + li1[-1])\n"
      ],
      "metadata": {
        "colab": {
          "base_uri": "https://localhost:8080/"
        },
        "id": "evq7spMAi1sG",
        "outputId": "ce68be19-d9e4-4ab3-e63f-1aeef6248ee4"
      },
      "execution_count": 7,
      "outputs": [
        {
          "output_type": "stream",
          "name": "stdout",
          "text": [
            "[1, 3, 5, 7, 9]\n",
            "1\n",
            "9\n",
            "10\n",
            "[1, 2, '파이썬', ['김사과', '오렌지']]\n",
            "<class 'list'>\n",
            "2\n",
            "<class 'int'>\n",
            "['김사과', '오렌지']\n",
            "<class 'list'>\n",
            "오렌지\n",
            "<class 'str'>\n"
          ]
        }
      ]
    },
    {
      "cell_type": "code",
      "source": [
        "li2 = [1, 2, '파이썬', ['김사과', '오렌지']]\n",
        "print(li2)\n",
        "print(type(li2))\n",
        "print(li2[1])\n",
        "print(type(li2[1]))\n",
        "print(li2[3])\n",
        "print(type(li2[3]))\n",
        "print(li2[3][1])\n",
        "print(type(li2[3][1]))"
      ],
      "metadata": {
        "colab": {
          "base_uri": "https://localhost:8080/"
        },
        "id": "VZJRJ9RyklB7",
        "outputId": "f80416ee-e20b-47f2-c1c6-c46b1d45f5c5"
      },
      "execution_count": 8,
      "outputs": [
        {
          "output_type": "stream",
          "name": "stdout",
          "text": [
            "[1, 2, '파이썬', ['김사과', '오렌지']]\n",
            "<class 'list'>\n",
            "2\n",
            "<class 'int'>\n",
            "['김사과', '오렌지']\n",
            "<class 'list'>\n",
            "오렌지\n",
            "<class 'str'>\n"
          ]
        }
      ]
    },
    {
      "cell_type": "code",
      "source": [
        "\n",
        "li3 = [1, 2, 3, ['김사과', '오렌지', '반하나', ['🍟','🌭','🥩','🍗']]]\n",
        "print(li3)\n",
        "print(li3[2])\n",
        "print(li3[-1])\n",
        "print(li3[-1][-2])\n",
        "print(li3[-1][-1][-2])\n",
        "print(li3[-1][-1][-1])"
      ],
      "metadata": {
        "colab": {
          "base_uri": "https://localhost:8080/"
        },
        "id": "RTYf04ACklvg",
        "outputId": "7ff3ee48-afe6-46b4-c5ec-69c8be6d34f5"
      },
      "execution_count": 9,
      "outputs": [
        {
          "output_type": "stream",
          "name": "stdout",
          "text": [
            "[1, 2, 3, ['김사과', '오렌지', '반하나', ['🍟', '🌭', '🥩', '🍗']]]\n",
            "3\n",
            "['김사과', '오렌지', '반하나', ['🍟', '🌭', '🥩', '🍗']]\n",
            "반하나\n",
            "🥩\n",
            "🍗\n"
          ]
        }
      ]
    },
    {
      "cell_type": "code",
      "source": [
        "# 리스트 슬라이싱\n",
        "\n",
        "li1 = [10, 20, 30, 40, 50]\n",
        "print(li1)\n",
        "print(li1[0:3])\n",
        "\n",
        "li2 = li1\n",
        "print(li2)\n",
        "li2[0] = 100\n",
        "print(li2)\n",
        "print(li1)\n",
        "\n",
        "li3 = [1, 2, 3, ['김사과', '오렌지', '반하나', ['🍟','🌭','🥩','🍗']]]\n",
        "print(li3[2:3])\n",
        "print(li3[3][:2])"
      ],
      "metadata": {
        "colab": {
          "base_uri": "https://localhost:8080/"
        },
        "id": "KLwFF7FHl0_y",
        "outputId": "3eedef08-7f8f-4091-970f-7d0142d82c3f"
      },
      "execution_count": 12,
      "outputs": [
        {
          "output_type": "stream",
          "name": "stdout",
          "text": [
            "[10, 20, 30, 40, 50]\n",
            "[10, 20, 30]\n",
            "[10, 20, 30, 40, 50]\n",
            "[100, 20, 30, 40, 50]\n",
            "[100, 20, 30, 40, 50]\n"
          ]
        }
      ]
    },
    {
      "cell_type": "code",
      "source": [],
      "metadata": {
        "id": "LsuQfnvZnA1k"
      },
      "execution_count": null,
      "outputs": []
    }
  ]
}