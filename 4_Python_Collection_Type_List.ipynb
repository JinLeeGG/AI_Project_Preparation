{
  "nbformat": 4,
  "nbformat_minor": 0,
  "metadata": {
    "colab": {
      "provenance": [],
      "authorship_tag": "ABX9TyNoxCglVCgMTU6Ma2qfcMA7",
      "include_colab_link": true
    },
    "kernelspec": {
      "name": "python3",
      "display_name": "Python 3"
    },
    "language_info": {
      "name": "python"
    }
  },
  "cells": [
    {
      "cell_type": "markdown",
      "metadata": {
        "id": "view-in-github",
        "colab_type": "text"
      },
      "source": [
        "<a href=\"https://colab.research.google.com/github/JinLeeGG/AI_Project_Preparation/blob/main/4_Python_Collection_Type_List.ipynb\" target=\"_parent\"><img src=\"https://colab.research.google.com/assets/colab-badge.svg\" alt=\"Open In Colab\"/></a>"
      ]
    },
    {
      "cell_type": "markdown",
      "source": [
        "https://ryuzyproject.tistory.com/7?category=1088818"
      ],
      "metadata": {
        "id": "IVSQJgObmiVT"
      }
    },
    {
      "cell_type": "markdown",
      "source": [
        "# 1. 컬렉션 타입\n",
        "여러 개의 데이터 항목을 하나의 단위로 관리할 수 있게 해주는 데이터 구조를 의미합니다. 이것은 여러 개의 데이터를 하나의 변수에 저장하고, 관리할 수 있게 해줍니다. 파이썬에서는 리스트, 튜플, 세트, 딕셔너리 등이 기본적인 컬렉션 타입에 속합니다."
      ],
      "metadata": {
        "id": "uVbZKEx1cLS7"
      }
    },
    {
      "cell_type": "markdown",
      "source": [
        "### **2. 리스트**\n",
        "여러 값들을 하나의 변수에 저장하고 관리할 수 있게 해주는 순차적인 자료구조입니다.\n",
        "\n",
        "<center><img src=\"https://img1.daumcdn.net/thumb/R1280x0/?scode=mtistory2&fname=https%3A%2F%2Fblog.kakaocdn.net%2Fdn%2FrbbGS%2FbtsNlJ3pII6%2FxOarLiohBmOc4K2XLy0gq0%2Fimg.png\"></center>"
      ],
      "metadata": {
        "id": "GyEtBs3qcUXf"
      }
    },
    {
      "cell_type": "code",
      "source": [
        "# 리스트 생성\n",
        "li1 = [1, 3, 5, 7, 9]\n",
        "print(li1)\n",
        "print(type(li1))"
      ],
      "metadata": {
        "colab": {
          "base_uri": "https://localhost:8080/"
        },
        "id": "zixkEQM2gqGn",
        "outputId": "0dbaae52-5bea-45b5-efcc-01b94cb06418"
      },
      "execution_count": null,
      "outputs": [
        {
          "output_type": "stream",
          "name": "stdout",
          "text": [
            "[1, 3, 5, 7, 9]\n",
            "<class 'list'>\n"
          ]
        }
      ]
    },
    {
      "cell_type": "code",
      "source": [
        "li2 = list([1,3,5,7,9]) # 다른 자료형을 형 변환 할려고 이 함수가 존재한다.\n",
        "print(li2)\n",
        "print(type(li2))"
      ],
      "metadata": {
        "colab": {
          "base_uri": "https://localhost:8080/"
        },
        "id": "UJb9ctmBg2xF",
        "outputId": "762b3a05-eb00-4272-f333-ef7fd98cbdf8"
      },
      "execution_count": null,
      "outputs": [
        {
          "output_type": "stream",
          "name": "stdout",
          "text": [
            "[1, 3, 5, 7, 9]\n",
            "<class 'list'>\n"
          ]
        }
      ]
    },
    {
      "cell_type": "code",
      "source": [
        "li3 = ['김사과', '반하나', '오렌지', '이메론']\n",
        "print(li3)"
      ],
      "metadata": {
        "colab": {
          "base_uri": "https://localhost:8080/"
        },
        "id": "uRtACeFghg4G",
        "outputId": "ac2cd9c1-e6c0-4f18-fcae-1a621e86c849"
      },
      "execution_count": null,
      "outputs": [
        {
          "output_type": "stream",
          "name": "stdout",
          "text": [
            "['김사과', '반하나', '오렌지', '이메론']\n"
          ]
        }
      ]
    },
    {
      "cell_type": "code",
      "source": [
        "li4 = [1, 50.5, '김사과', True] # 각자 타입이 다른 데이터를 저장\n",
        "\n",
        "print(li4)\n",
        "print(type(li4))\n",
        "\n",
        "print(li4[0])\n",
        "print(type(li4[0]))\n",
        "\n",
        "print(li4[0])\n",
        "print(li4[1])\n",
        "print(li4[2])\n",
        "print(li4[3])\n",
        "\n",
        "# print(li4[4]) # IndexError: list index out of range\n",
        "print(type(li4[0]))\n",
        "print(type(li4[1]))\n",
        "print(type(li4[2]))\n",
        "print(type(li4[3]))"
      ],
      "metadata": {
        "colab": {
          "base_uri": "https://localhost:8080/"
        },
        "id": "umEqEr18hr6v",
        "outputId": "26f15bc5-f696-4872-fbff-f34bf3d56f01"
      },
      "execution_count": null,
      "outputs": [
        {
          "output_type": "stream",
          "name": "stdout",
          "text": [
            "[1, 50.5, '김사과', True]\n",
            "<class 'list'>\n",
            "1\n",
            "<class 'int'>\n",
            "1\n",
            "50.5\n",
            "김사과\n",
            "True\n",
            "<class 'int'>\n",
            "<class 'float'>\n",
            "<class 'str'>\n",
            "<class 'bool'>\n"
          ]
        }
      ]
    },
    {
      "cell_type": "code",
      "source": [
        "# 리스트 인덱싱\n",
        "# 리스트의 각 항목은 위치(인덱스)를 가지고 있으며, 인덱스를 사용하여 접근할 수 있습니다. 인덱스는 0부터 시작합니다.\n",
        "\n",
        "li1 = [1, 3, 5, 7, 9]\n",
        "print(li1)\n",
        "print(li1[0])\n",
        "print(li1[-1])\n",
        "print(li1[0] + li1[-1])\n"
      ],
      "metadata": {
        "colab": {
          "base_uri": "https://localhost:8080/"
        },
        "id": "evq7spMAi1sG",
        "outputId": "9dada44b-2d40-430e-a508-c4ff5e2ddece"
      },
      "execution_count": null,
      "outputs": [
        {
          "output_type": "stream",
          "name": "stdout",
          "text": [
            "[1, 3, 5, 7, 9]\n",
            "1\n",
            "9\n",
            "10\n"
          ]
        }
      ]
    },
    {
      "cell_type": "code",
      "source": [
        "li2 = [1, 2, '파이썬', ['김사과', '오렌지']]\n",
        "print(li2)\n",
        "print(type(li2))\n",
        "print(li2[1])\n",
        "print(type(li2[1]))\n",
        "print(li2[3])\n",
        "print(type(li2[3]))\n",
        "print(li2[3][1])\n",
        "print(type(li2[3][1]))"
      ],
      "metadata": {
        "colab": {
          "base_uri": "https://localhost:8080/"
        },
        "id": "VZJRJ9RyklB7",
        "outputId": "22629f4e-b887-4bd2-e6c5-ea38b77940db"
      },
      "execution_count": null,
      "outputs": [
        {
          "output_type": "stream",
          "name": "stdout",
          "text": [
            "[1, 2, '파이썬', ['김사과', '오렌지']]\n",
            "<class 'list'>\n",
            "2\n",
            "<class 'int'>\n",
            "['김사과', '오렌지']\n",
            "<class 'list'>\n",
            "오렌지\n",
            "<class 'str'>\n"
          ]
        }
      ]
    },
    {
      "cell_type": "code",
      "source": [
        "\n",
        "li3 = [1, 2, 3, ['김사과', '오렌지', '반하나', ['🍟','🌭','🥩','🍗']]]\n",
        "print(li3)\n",
        "print(li3[2])\n",
        "print(li3[-1])\n",
        "print(li3[-1][-2])\n",
        "print(li3[-1][-1][-2])\n",
        "print(li3[-1][-1][-1])"
      ],
      "metadata": {
        "colab": {
          "base_uri": "https://localhost:8080/"
        },
        "id": "RTYf04ACklvg",
        "outputId": "08af4c20-4aaf-4518-8139-939ba832ce49"
      },
      "execution_count": null,
      "outputs": [
        {
          "output_type": "stream",
          "name": "stdout",
          "text": [
            "[1, 2, 3, ['김사과', '오렌지', '반하나', ['🍟', '🌭', '🥩', '🍗']]]\n",
            "3\n",
            "['김사과', '오렌지', '반하나', ['🍟', '🌭', '🥩', '🍗']]\n",
            "반하나\n",
            "🥩\n",
            "🍗\n"
          ]
        }
      ]
    },
    {
      "cell_type": "code",
      "source": [
        "# 리스트 슬라이싱\n",
        "\n",
        "li1 = [10, 20, 30, 40, 50]\n",
        "print(li1)\n",
        "print(li1[0:3])\n",
        "\n",
        "li2 = li1\n",
        "print(li2)\n",
        "li2[0] = 100\n",
        "print(li2)\n",
        "print(li1)\n",
        "\n",
        "li3 = [1, 2, 3, ['김사과', '오렌지', '반하나', ['🍟','🌭','🥩','🍗']]]\n",
        "print(li3[2:3])\n",
        "print(li3[3][:2])"
      ],
      "metadata": {
        "colab": {
          "base_uri": "https://localhost:8080/"
        },
        "id": "KLwFF7FHl0_y",
        "outputId": "c327ef05-c963-4779-8448-186c38725981"
      },
      "execution_count": null,
      "outputs": [
        {
          "output_type": "stream",
          "name": "stdout",
          "text": [
            "[10, 20, 30, 40, 50]\n",
            "[10, 20, 30]\n",
            "[10, 20, 30, 40, 50]\n",
            "[100, 20, 30, 40, 50]\n",
            "[100, 20, 30, 40, 50]\n",
            "[3]\n",
            "['김사과', '오렌지']\n"
          ]
        }
      ]
    },
    {
      "cell_type": "markdown",
      "source": [
        "### 4. 변경 가능\n",
        "리스트의 항목들은 변경할 수 있습니다. 즉, 리스트의 항목들을 수정, 추가, 삭제할 수 있습니다."
      ],
      "metadata": {
        "id": "79tjRFsO2MVM"
      }
    },
    {
      "cell_type": "code",
      "source": [
        "li4 = [10, 20, 30, 40, 50]\n",
        "# 슬라이싱을 이용하여 요소를 추가한 경우 리스트에 데이터만 포함\n",
        "li4[1:2] =  ['🍣','🍜','🍣','🍜']\n",
        "print(li4)"
      ],
      "metadata": {
        "id": "LsuQfnvZnA1k",
        "colab": {
          "base_uri": "https://localhost:8080/"
        },
        "outputId": "5bef561d-46ef-4df0-8689-10c09ad72455"
      },
      "execution_count": null,
      "outputs": [
        {
          "output_type": "stream",
          "name": "stdout",
          "text": [
            "[10, '🍣', '🍜', '🍣', '🍜', 30, 40, 50]\n"
          ]
        }
      ]
    },
    {
      "cell_type": "code",
      "source": [
        "li4 = [10, 20, 30, 40, 50]\n",
        "# 인덱싱을 이용하여 요소를 추가한 경우 리스트 안에 리스트를 만들고 포함\n",
        "li4[1] = ['🍣','🍜','🍣','🍜']\n",
        "print(li4)"
      ],
      "metadata": {
        "colab": {
          "base_uri": "https://localhost:8080/"
        },
        "id": "PmTDNWLL2g66",
        "outputId": "5f7444fd-bdcd-4e76-c05a-82351026ee4a"
      },
      "execution_count": null,
      "outputs": [
        {
          "output_type": "stream",
          "name": "stdout",
          "text": [
            "[10, ['🍣', '🍜', '🍣', '🍜'], 30, 40, 50]\n"
          ]
        }
      ]
    },
    {
      "cell_type": "code",
      "source": [
        "li4 = [10, 20, 30, 40, 50]\n",
        "print(li4[1:3])\n",
        "li4[1:3] = [] # 빈 리스트를 슬라이싱을 통해 저장하면 해당 요소가 삭제됨\n",
        "print(li4)\n"
      ],
      "metadata": {
        "colab": {
          "base_uri": "https://localhost:8080/"
        },
        "id": "vSL-VkYM4JXk",
        "outputId": "d08b1580-9968-4872-c2e5-9819afa369ce"
      },
      "execution_count": null,
      "outputs": [
        {
          "output_type": "stream",
          "name": "stdout",
          "text": [
            "[20, 30]\n",
            "[10, 40, 50]\n"
          ]
        }
      ]
    },
    {
      "cell_type": "code",
      "source": [
        "li4 = [10, 20, 30, 40, 50]\n",
        "print(li4[1:2])\n",
        "print(li4[1])\n",
        "li4[1] = []\n",
        "print(li4)"
      ],
      "metadata": {
        "colab": {
          "base_uri": "https://localhost:8080/"
        },
        "id": "OZ7DrmI44rWN",
        "outputId": "bb207c67-afb8-486e-e867-70e44e00d110"
      },
      "execution_count": null,
      "outputs": [
        {
          "output_type": "stream",
          "name": "stdout",
          "text": [
            "[20]\n",
            "20\n",
            "[10, [], 30, 40, 50]\n"
          ]
        }
      ]
    },
    {
      "cell_type": "code",
      "source": [
        "# 리스트를 지울때:\n",
        "li4 = [10, 20, 30, 40, 50]\n",
        "print(li4)\n",
        "del li4[1]\n",
        "print(li4)"
      ],
      "metadata": {
        "colab": {
          "base_uri": "https://localhost:8080/"
        },
        "id": "257Pl9275LSs",
        "outputId": "a78e8d5a-8484-4689-c1dd-1c3a2e11b89a"
      },
      "execution_count": null,
      "outputs": [
        {
          "output_type": "stream",
          "name": "stdout",
          "text": [
            "[10, 20, 30, 40, 50]\n",
            "[10, 30, 40, 50]\n"
          ]
        }
      ]
    },
    {
      "cell_type": "markdown",
      "source": [
        "### 5. 연산\n",
        "리스트 간의 + 연산으로 리스트를 결합할 수 있고, * 연산으로 리스트를 반복할 수 있습니다."
      ],
      "metadata": {
        "id": "SiEDOty557pd"
      }
    },
    {
      "cell_type": "code",
      "source": [
        "li5 = [10, 20, 30]\n",
        "li6 = [40, 50, 60]\n",
        "print(li5 + li6)      # 연산이 아니라 리스트끼리 합쳐진다.\n",
        "print(li6 + li5)"
      ],
      "metadata": {
        "colab": {
          "base_uri": "https://localhost:8080/"
        },
        "id": "KoLDmGtN5Fa_",
        "outputId": "ed431cdf-fadf-466f-86c5-78f147179ffa"
      },
      "execution_count": null,
      "outputs": [
        {
          "output_type": "stream",
          "name": "stdout",
          "text": [
            "[10, 20, 30, 40, 50, 60]\n",
            "[40, 50, 60, 10, 20, 30]\n"
          ]
        }
      ]
    },
    {
      "cell_type": "code",
      "source": [
        "li5 = [10, 20, 30]\n",
        "li6 = li5 + [40, 50, 60] # [10, 20, 30] + [40, 50, 60]\n",
        "print(li6)"
      ],
      "metadata": {
        "colab": {
          "base_uri": "https://localhost:8080/"
        },
        "id": "7cdbjUjp6M5n",
        "outputId": "c7016073-c646-4393-bf27-834cf86e23ed"
      },
      "execution_count": null,
      "outputs": [
        {
          "output_type": "stream",
          "name": "stdout",
          "text": [
            "[10, 20, 30, 40, 50, 60]\n"
          ]
        }
      ]
    },
    {
      "cell_type": "code",
      "source": [
        "li6 = [10, 20, 30]\n",
        "li6 += [40, 50, 60] # li6 = li6 + [40, 50, 60]\n",
        "print(li6)"
      ],
      "metadata": {
        "colab": {
          "base_uri": "https://localhost:8080/"
        },
        "id": "-oGLVAGR6QLN",
        "outputId": "a84e09d8-a671-4b9d-8e08-40d09ff05909"
      },
      "execution_count": null,
      "outputs": [
        {
          "output_type": "stream",
          "name": "stdout",
          "text": [
            "[10, 20, 30, 40, 50, 60]\n"
          ]
        }
      ]
    },
    {
      "cell_type": "code",
      "source": [
        "li6 = [10, 20, 30]\n",
        "print(li6 * 3)"
      ],
      "metadata": {
        "colab": {
          "base_uri": "https://localhost:8080/"
        },
        "id": "3ZXNcGMK6l-_",
        "outputId": "abb9e797-684d-4cab-e224-28903f636e39"
      },
      "execution_count": null,
      "outputs": [
        {
          "output_type": "stream",
          "name": "stdout",
          "text": [
            "[10, 20, 30, 10, 20, 30, 10, 20, 30]\n"
          ]
        }
      ]
    },
    {
      "cell_type": "markdown",
      "source": [
        "### 6. 함수와 메서드\n",
        "리스트를 다루기 위한 여러 함수와 메소드들이 있습니다."
      ],
      "metadata": {
        "id": "XT5UYrq26yOm"
      }
    },
    {
      "cell_type": "code",
      "source": [
        "# len(): 객체의 길이를 반환하는 파이썬의 기본 내장 함수\n",
        "li6 = [10, 20, 30]\n",
        "print(len(li6))"
      ],
      "metadata": {
        "id": "ZOI5vf-h610p"
      },
      "execution_count": null,
      "outputs": []
    },
    {
      "cell_type": "code",
      "source": [
        "# append(): 리스트 요소의 끝에 새로운 요소를 추가\n",
        "li6 = [10, 20, 30]\n",
        "print(li6)\n",
        "\n",
        "li6.append(100)\n",
        "print(li6)\n",
        "# li6.append(200, 300)\n",
        "li6.append([200, 300])\n",
        "print(li6)\n"
      ],
      "metadata": {
        "colab": {
          "base_uri": "https://localhost:8080/"
        },
        "id": "bWxjubqW7LAd",
        "outputId": "37ad4ff3-e956-4f87-c8aa-82d14cca374d"
      },
      "execution_count": null,
      "outputs": [
        {
          "output_type": "stream",
          "name": "stdout",
          "text": [
            "[10, 20, 30]\n",
            "[10, 20, 30, 100]\n",
            "[10, 20, 30, 100, [200, 300]]\n"
          ]
        }
      ]
    },
    {
      "cell_type": "code",
      "source": [
        "# extend(): 리스트 요소의 끝에 새로운 여러 요소를 추가\n",
        "li6 = [10, 20, 30]\n",
        "print(li6)\n",
        "\n",
        "# li6.extend(100)\n",
        "li6.extend([100])\n",
        "print(li6)\n",
        "li6.extend([200, 300, 400])\n",
        "print(li6)"
      ],
      "metadata": {
        "colab": {
          "base_uri": "https://localhost:8080/"
        },
        "id": "10ugxjfW79Xa",
        "outputId": "12e8afd4-d038-449d-e39d-89f83c98f089"
      },
      "execution_count": null,
      "outputs": [
        {
          "output_type": "stream",
          "name": "stdout",
          "text": [
            "[10, 20, 30]\n",
            "[10, 20, 30, 100]\n",
            "[10, 20, 30, 100, 200, 300, 400]\n"
          ]
        }
      ]
    },
    {
      "cell_type": "code",
      "source": [
        "# pop(): 리스트 마지막 요소를 삭제하고 삭제된 요소를 반환\n",
        "li6 = [10, 20, 30]\n",
        "print(li6)\n",
        "\n",
        "# print(li6.pop())\n",
        "temp = li6.pop()\n",
        "print(li6)\n",
        "print(temp)"
      ],
      "metadata": {
        "colab": {
          "base_uri": "https://localhost:8080/"
        },
        "id": "toZ0OsXq8ike",
        "outputId": "7d77f4ad-9d8b-4ac5-e81c-a7af4d99350d"
      },
      "execution_count": null,
      "outputs": [
        {
          "output_type": "stream",
          "name": "stdout",
          "text": [
            "[10, 20, 30]\n",
            "[10, 20]\n",
            "30\n"
          ]
        }
      ]
    },
    {
      "cell_type": "code",
      "source": [
        "# index(): 리스트에서 특정 요소의 값 인덱스를 반환\n",
        "li6 = [10, 20, 30]\n",
        "print(li6)\n",
        "\n",
        "print(li6.index(30))\n",
        "# print(li6.index(100)) # 값이 없으면 에러"
      ],
      "metadata": {
        "colab": {
          "base_uri": "https://localhost:8080/"
        },
        "id": "OQnOn2Eb9TLG",
        "outputId": "c93939b7-9b16-45eb-eae8-2af3483eaff4"
      },
      "execution_count": null,
      "outputs": [
        {
          "output_type": "stream",
          "name": "stdout",
          "text": [
            "[10, 20, 30]\n",
            "2\n"
          ]
        }
      ]
    },
    {
      "cell_type": "code",
      "source": [
        "# reverse(): 리스트의 요소들의 순서를 반대로 설정\n",
        "li7 = [100, 50, 70, 60, 20]\n",
        "print(li7)\n",
        "\n",
        "li7.reverse()\n",
        "print(li7)"
      ],
      "metadata": {
        "colab": {
          "base_uri": "https://localhost:8080/"
        },
        "id": "iDgG8Ze--dbo",
        "outputId": "5a7c8db8-18b6-4f55-fb5c-c94e7d71f18b"
      },
      "execution_count": null,
      "outputs": [
        {
          "output_type": "stream",
          "name": "stdout",
          "text": [
            "[100, 50, 70, 60, 20]\n",
            "[20, 60, 70, 50, 100]\n"
          ]
        }
      ]
    },
    {
      "cell_type": "code",
      "source": [
        "# 슬라이싱을 사용하여 리스트의 요소들의 순서를 반대로 설정하는 방법\n",
        "li7 = [100, 50, 70, 60, 20]\n",
        "print(li7[:])                 #아무것도 안적으면 끝까지 나온다\n",
        "print(li7[0:5])               # 0 ~ 5\n",
        "print(li7[::])                # step이 생략\n",
        "print(li7[0:5:1])             # step의 기본값은 1\n",
        "print(li7[0:5:2])             # step을 2로 설정"
      ],
      "metadata": {
        "colab": {
          "base_uri": "https://localhost:8080/"
        },
        "id": "xeVZf4ae-hp_",
        "outputId": "f1f4dc55-e0ee-4607-b365-ba8236dfd9c2"
      },
      "execution_count": null,
      "outputs": [
        {
          "output_type": "stream",
          "name": "stdout",
          "text": [
            "[100, 50, 70, 60, 20]\n",
            "[100, 50, 70, 60, 20]\n",
            "[100, 50, 70, 60, 20]\n",
            "[100, 50, 70, 60, 20]\n",
            "[100, 70, 20]\n"
          ]
        }
      ]
    },
    {
      "cell_type": "code",
      "source": [
        "li7 = [100, 50, 70, 60, 20]\n",
        "print(li7[::-1])              # step이 -1일 경우 start의 기본값은 -1, stop의 기본값은 0으로 설정\n",
        "print(li7[-1::-1])\n",
        "print(li7[-1:-6:-1])"
      ],
      "metadata": {
        "colab": {
          "base_uri": "https://localhost:8080/"
        },
        "id": "czQK9lZACJ63",
        "outputId": "8d6a7b05-8999-4feb-84a8-f128d5773707"
      },
      "execution_count": null,
      "outputs": [
        {
          "output_type": "stream",
          "name": "stdout",
          "text": [
            "[20, 60, 70, 50, 100]\n",
            "[20, 60, 70, 50, 100]\n",
            "[20, 60, 70, 50, 100]\n"
          ]
        }
      ]
    },
    {
      "cell_type": "code",
      "source": [
        "# sort(): 리스트의 요소를 오름차순으로 정렬\n",
        "li7 = [100, 50, 70, 60, 20]\n",
        "print(li7)\n",
        "\n",
        "li7.sort()\n",
        "print(li7)\n",
        "\n",
        "# sort(reverse=True): 리스트의 요소를 내림차순으로 정렬\n",
        "li7.sort(reverse=True)\n",
        "print(li7)\n",
        "\n",
        "li8 = ['Apple', 'apple', 'orange', 'banana', 'melon']\n",
        "li8.sort()\n",
        "print(li8)\n",
        "\n",
        "li9 = ['김사과', '오렌지', '반하나', '이메론', '배애리']\n",
        "li9.sort()\n",
        "print(li9)\n"
      ],
      "metadata": {
        "colab": {
          "base_uri": "https://localhost:8080/"
        },
        "id": "j_jekUB3E6WZ",
        "outputId": "2894ab9a-653d-4eeb-ae07-4a4918fb6a06"
      },
      "execution_count": null,
      "outputs": [
        {
          "output_type": "stream",
          "name": "stdout",
          "text": [
            "[100, 50, 70, 60, 20]\n",
            "[20, 50, 60, 70, 100]\n",
            "[100, 70, 60, 50, 20]\n",
            "['Apple', 'apple', 'banana', 'melon', 'orange']\n",
            "['김사과', '반하나', '배애리', '오렌지', '이메론']\n"
          ]
        }
      ]
    },
    {
      "cell_type": "code",
      "source": [
        "# sorted(): 모든 요소를 정렬한 후 반환해주는 함수\n",
        "li7 = [100, 50, 70, 60, 20]\n",
        "print(li7)\n",
        "\n",
        "result = sorted(li7)\n",
        "print(li7)\n",
        "print(result)"
      ],
      "metadata": {
        "colab": {
          "base_uri": "https://localhost:8080/"
        },
        "id": "wZkv-JOZFk8y",
        "outputId": "4f4880c8-8cf2-4b95-b5a7-4a8662603c1a"
      },
      "execution_count": null,
      "outputs": [
        {
          "output_type": "stream",
          "name": "stdout",
          "text": [
            "[100, 50, 70, 60, 20]\n",
            "[100, 50, 70, 60, 20]\n",
            "[20, 50, 60, 70, 100]\n"
          ]
        }
      ]
    },
    {
      "cell_type": "code",
      "source": [
        "# count(): 리스트에서 특정 요소의 갯수를 반환\n",
        "li9 = [10, 20, 30, 50, 20, 40, 30, 20]\n",
        "print(li9)\n",
        "\n",
        "print(li9.count(20))\n",
        "print(li9.count(100))"
      ],
      "metadata": {
        "colab": {
          "base_uri": "https://localhost:8080/"
        },
        "id": "Wp72cWDSGAi2",
        "outputId": "fae592e5-089d-4e1d-99dc-829da995781a"
      },
      "execution_count": null,
      "outputs": [
        {
          "output_type": "stream",
          "name": "stdout",
          "text": [
            "[10, 20, 30, 50, 20, 40, 30, 20]\n",
            "3\n",
            "0\n"
          ]
        }
      ]
    }
  ]
}