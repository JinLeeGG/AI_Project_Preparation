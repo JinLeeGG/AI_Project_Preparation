{
  "nbformat": 4,
  "nbformat_minor": 0,
  "metadata": {
    "colab": {
      "provenance": [],
      "authorship_tag": "ABX9TyM0pzDvkutz3/peNUrrNl/H",
      "include_colab_link": true
    },
    "kernelspec": {
      "name": "python3",
      "display_name": "Python 3"
    },
    "language_info": {
      "name": "python"
    }
  },
  "cells": [
    {
      "cell_type": "markdown",
      "metadata": {
        "id": "view-in-github",
        "colab_type": "text"
      },
      "source": [
        "<a href=\"https://colab.research.google.com/github/JinLeeGG/AI_Project_Preparation/blob/main/2.%20Web%20Development%20(providing%20LLM%20service)/02.%20Closure%20and%20Decorator/CodingExample/2_Closure_and_Decorator.ipynb\" target=\"_parent\"><img src=\"https://colab.research.google.com/assets/colab-badge.svg\" alt=\"Open In Colab\"/></a>"
      ]
    },
    {
      "cell_type": "markdown",
      "source": [
        "https://ryuzyproject.tistory.com/40"
      ],
      "metadata": {
        "id": "miQgFsSdAIzv"
      }
    },
    {
      "cell_type": "markdown",
      "source": [
        "# 1. 클로저\n",
        "클로저(Closure)는 내부 함수가 자신을 감싸고 있는 외부 함수의 변수에 접근할 수 있는 특성을 가지며, 외부 함수가 호출된 후에도 그 변수의 상태를 기억하고 사용할 수 있는 기능으로, 주로 데이터 은닉과 상태 유지에 활용됩니다."
      ],
      "metadata": {
        "id": "rCFpcaWlSwyt"
      }
    },
    {
      "cell_type": "code",
      "source": [
        "def mul2(n):\n",
        "    return n * 2"
      ],
      "metadata": {
        "id": "UQ-wc8oaS16W"
      },
      "execution_count": null,
      "outputs": []
    },
    {
      "cell_type": "code",
      "source": [
        "print(mul2(10))\n",
        "print(mul2(5))"
      ],
      "metadata": {
        "colab": {
          "base_uri": "https://localhost:8080/"
        },
        "id": "SGV-zSjlTRSJ",
        "outputId": "b893d3ba-6e9e-4815-ee9b-2bc7a98ccc91"
      },
      "execution_count": null,
      "outputs": [
        {
          "output_type": "stream",
          "name": "stdout",
          "text": [
            "20\n",
            "10\n"
          ]
        }
      ]
    },
    {
      "cell_type": "code",
      "source": [
        "def mul5(n):\n",
        "    return n * 5"
      ],
      "metadata": {
        "id": "sG_D_nZKTVRs"
      },
      "execution_count": null,
      "outputs": []
    },
    {
      "cell_type": "code",
      "source": [
        "print(mul5(10))\n",
        "print(mul5(5))"
      ],
      "metadata": {
        "colab": {
          "base_uri": "https://localhost:8080/"
        },
        "id": "zq8CBii_Tf32",
        "outputId": "2429b9d8-eee7-488c-a658-fcf34f04cf62"
      },
      "execution_count": null,
      "outputs": [
        {
          "output_type": "stream",
          "name": "stdout",
          "text": [
            "50\n",
            "25\n"
          ]
        }
      ]
    },
    {
      "cell_type": "code",
      "source": [
        "# mul1, mul2, mul3 ... mul100도 만들어야 하나?\n",
        "# Class로 만들어보자\n",
        "\n",
        "class Mul:\n",
        "    def __init__(self, m):\n",
        "        self.m = m\n",
        "    def mul(self, n):\n",
        "        return self.m * n"
      ],
      "metadata": {
        "id": "4i9ockk6TjJM"
      },
      "execution_count": null,
      "outputs": []
    },
    {
      "cell_type": "code",
      "source": [
        "mul2 = Mul(2)\n",
        "print(mul2.mul(10))\n",
        "print(mul2.mul(4))"
      ],
      "metadata": {
        "colab": {
          "base_uri": "https://localhost:8080/"
        },
        "id": "8lPNQt10Tyvp",
        "outputId": "dfdadea1-0255-4f9b-886c-074e8c62d3df"
      },
      "execution_count": null,
      "outputs": [
        {
          "output_type": "stream",
          "name": "stdout",
          "text": [
            "20\n",
            "8\n"
          ]
        }
      ]
    },
    {
      "cell_type": "code",
      "source": [
        "mul5 = Mul(5)\n",
        "print(mul5.mul(10))\n",
        "print(mul5.mul(4))"
      ],
      "metadata": {
        "colab": {
          "base_uri": "https://localhost:8080/"
        },
        "id": "eqay-hL9Umbx",
        "outputId": "d7651b42-869a-4de3-fc54-57380d81ea2a"
      },
      "execution_count": null,
      "outputs": [
        {
          "output_type": "stream",
          "name": "stdout",
          "text": [
            "50\n",
            "20\n"
          ]
        }
      ]
    },
    {
      "cell_type": "code",
      "source": [
        "# Magic method 이용해서 조금 더 편하게 만들기\n",
        "class Mul:\n",
        "    def __init__(self, m):\n",
        "        print('생성자 호출')\n",
        "        self.m = m\n",
        "    def __call__(self, n):\n",
        "        print('call 호출')\n",
        "        return self.m * n"
      ],
      "metadata": {
        "id": "ThSVx6QVU7-F"
      },
      "execution_count": null,
      "outputs": []
    },
    {
      "cell_type": "code",
      "source": [
        "mul2 = Mul(2)\n",
        "print(mul2(10)) # 이제는 그냥 객체를 함수처럼 사용가능"
      ],
      "metadata": {
        "colab": {
          "base_uri": "https://localhost:8080/"
        },
        "id": "u4idBf6XUs7G",
        "outputId": "72051866-fe13-4026-babd-336606c92045"
      },
      "execution_count": null,
      "outputs": [
        {
          "output_type": "stream",
          "name": "stdout",
          "text": [
            "생성자 호출\n",
            "call 호출\n",
            "20\n"
          ]
        }
      ]
    },
    {
      "cell_type": "code",
      "source": [
        "# closure 사용\n",
        "def mul(m):\n",
        "    def wrapper(n):   # 이걸 불러준 녀석을 반환시킨다.\n",
        "        return m * n\n",
        "    return wrapper # 함수의 메모리 주소를 반환"
      ],
      "metadata": {
        "id": "zmu7E6dkVKRR"
      },
      "execution_count": null,
      "outputs": []
    },
    {
      "cell_type": "code",
      "source": [
        "mul2 = mul(2) # 함수 자체가 담긴다. (메모리주소가 담긴다.)\n",
        "print(mul2(10))"
      ],
      "metadata": {
        "colab": {
          "base_uri": "https://localhost:8080/"
        },
        "id": "-okQ_jx2Vejd",
        "outputId": "3c7dd121-8339-4795-b64f-424e4988c2d2"
      },
      "execution_count": null,
      "outputs": [
        {
          "output_type": "stream",
          "name": "stdout",
          "text": [
            "20\n"
          ]
        }
      ]
    },
    {
      "cell_type": "code",
      "source": [
        "mul5 = mul(5)\n",
        "print(mul5(10))"
      ],
      "metadata": {
        "colab": {
          "base_uri": "https://localhost:8080/"
        },
        "id": "2-08ycKiV7ak",
        "outputId": "0f755e6e-b886-4912-aa8d-ae92aad0a752"
      },
      "execution_count": null,
      "outputs": [
        {
          "output_type": "stream",
          "name": "stdout",
          "text": [
            "50\n"
          ]
        }
      ]
    },
    {
      "cell_type": "markdown",
      "source": [
        "# 2. 데코레이터\n",
        "데코레이터(Decorator)는 파이썬에서 함수나 클래스에 새로운 기능을 추가할 수 있도록 해주는 문법입니다. 함수 앞에 @ 기호를 붙여 사용하며, 기존 함수를 변경하지 않고도 그 동작을 확장하거나 수정할 수 있습니다. 예를 들어, 실행 시간을 측정하거나, 로그인 여부를 검사하는 기능을 함수에 쉽게 덧붙일 수 있습니다. 데코레이터는 다른 함수를 인자로 받아서 감싸는 방식으로 작동하며, 코드의 재사용성과 가독성을 높이는 데 유용한 도구입니다."
      ],
      "metadata": {
        "id": "4CpxDgWaWTOI"
      }
    },
    {
      "cell_type": "code",
      "source": [
        "import time # 시간 값, 관계된 기능 임포트\n",
        "\n",
        "# 더하기함수\n",
        "def func1(a,b):\n",
        "  start = time.time() # 현재시간을 밀리초단위로 가져온다.\n",
        "  result = a + b\n",
        "  end = time.time() # 연산이 끝나는 시간을 기록하기위해 저장한다.\n",
        "  print(f'함수 수행시간: {end - start}')\n",
        "  return result"
      ],
      "metadata": {
        "id": "60OoR2dhWVNd"
      },
      "execution_count": null,
      "outputs": []
    },
    {
      "cell_type": "code",
      "source": [
        "result = func1(10, 3)\n",
        "print(result)"
      ],
      "metadata": {
        "colab": {
          "base_uri": "https://localhost:8080/"
        },
        "id": "Q8K_619cXLfc",
        "outputId": "663ec8a4-772a-4bd9-ed93-d16efb429bdc"
      },
      "execution_count": null,
      "outputs": [
        {
          "output_type": "stream",
          "name": "stdout",
          "text": [
            "함수 수행시간: 4.76837158203125e-07\n",
            "13\n"
          ]
        }
      ]
    },
    {
      "cell_type": "code",
      "source": [
        "# 곱하기함수\n",
        "def func2(a,b):\n",
        "  start = time.time() # 현재시간을 밀리초단위로 가져온다.\n",
        "  result = a * b\n",
        "  end = time.time() # 연산이 끝나는 시간을 기록하기위해 저장한다.\n",
        "  print(f'함수 수행시간: {end - start}')\n",
        "  return result"
      ],
      "metadata": {
        "id": "BcWA8K6wXaOL"
      },
      "execution_count": null,
      "outputs": []
    },
    {
      "cell_type": "code",
      "source": [
        "result = func2(10, 3)\n",
        "print(result)"
      ],
      "metadata": {
        "colab": {
          "base_uri": "https://localhost:8080/"
        },
        "id": "sAtDnPG5Xe1Q",
        "outputId": "15d1c51e-8732-4074-ea3f-5d6ccb9f040b"
      },
      "execution_count": null,
      "outputs": [
        {
          "output_type": "stream",
          "name": "stdout",
          "text": [
            "함수 수행시간: 7.152557373046875e-07\n",
            "30\n"
          ]
        }
      ]
    },
    {
      "cell_type": "code",
      "source": [
        "def func1(a, b):\n",
        "    result = a + b\n",
        "    return result\n",
        "\n",
        "def func2(a, b):\n",
        "    result = a * b\n",
        "    return result\n",
        "\n",
        "# 함수를 보내면 감싸서 시간계산을 해주는 반환해주는 함수이다. (데코레이터)\n",
        "def elapsed(func):\n",
        "    def wrapper(a, b):\n",
        "        start = time.time()\n",
        "        print('함수가 시작되었습니다.')\n",
        "        result = func(a, b)\n",
        "        end = time.time()\n",
        "        print(f'함수 수행시간: {end - start}')\n",
        "        return result\n",
        "    return wrapper"
      ],
      "metadata": {
        "id": "UBoPZGg3XqjY"
      },
      "execution_count": null,
      "outputs": []
    },
    {
      "cell_type": "code",
      "source": [
        "deco1 = elapsed(func1) # func1 함수가 elapsed 함수 안에 감싸져있다.\n",
        "result = deco1(10, 3) # 10, 3을 매개변수로 넣으면 func1 -> wrapper 순으로 실행시킨다.\n",
        "print(result)"
      ],
      "metadata": {
        "colab": {
          "base_uri": "https://localhost:8080/"
        },
        "id": "5WWNT5M1Xzms",
        "outputId": "ea381ad1-820f-44c8-ca89-2bf94e96c64e"
      },
      "execution_count": null,
      "outputs": [
        {
          "output_type": "stream",
          "name": "stdout",
          "text": [
            "함수가 시작되었습니다.\n",
            "함수 수행시간: 5.984306335449219e-05\n",
            "13\n"
          ]
        }
      ]
    },
    {
      "cell_type": "code",
      "source": [
        "deco2 = elapsed(func2) # func2 함수가 elapsed 함수 안에 감싸져있다.\n",
        "result = deco2(10, 3) # 10, 3을 매개변수로 넣으면 func2 -> wrapper 순으로 실행시킨다.\n",
        "print(result)"
      ],
      "metadata": {
        "colab": {
          "base_uri": "https://localhost:8080/"
        },
        "id": "vAfTxfhwZTHd",
        "outputId": "9de659ba-9510-4fff-e50b-2c149cb82de7"
      },
      "execution_count": null,
      "outputs": [
        {
          "output_type": "stream",
          "name": "stdout",
          "text": [
            "함수가 시작되었습니다.\n",
            "함수 수행시간: 5.14984130859375e-05\n",
            "30\n"
          ]
        }
      ]
    },
    {
      "cell_type": "code",
      "source": [
        "# 데코레이터를 만들면 @ 을 붙여서 만들 수 있다.\n",
        "# elasped(func1)\n",
        "@elapsed\n",
        "def func1(a, b):\n",
        "    result = a + b\n",
        "    return result"
      ],
      "metadata": {
        "id": "UEFOOiM1ZkKy"
      },
      "execution_count": null,
      "outputs": []
    },
    {
      "cell_type": "code",
      "source": [
        "result = func1(10, 3)\n",
        "print(result)"
      ],
      "metadata": {
        "colab": {
          "base_uri": "https://localhost:8080/"
        },
        "id": "2ZVMOVrzZ4Mq",
        "outputId": "a95c719e-a7d9-4ac3-fbbd-0a10d57700c4"
      },
      "execution_count": null,
      "outputs": [
        {
          "output_type": "stream",
          "name": "stdout",
          "text": [
            "함수가 시작되었습니다.\n",
            "함수 수행시간: 5.340576171875e-05\n",
            "13\n"
          ]
        }
      ]
    },
    {
      "cell_type": "code",
      "source": [
        "# elasped(func2)\n",
        "@elapsed\n",
        "def func2(a, b):\n",
        "    result = a * b\n",
        "    return result"
      ],
      "metadata": {
        "id": "Qam5FmwtZ5po"
      },
      "execution_count": null,
      "outputs": []
    },
    {
      "cell_type": "code",
      "source": [
        "result = func2(10, 3)\n",
        "print(result)"
      ],
      "metadata": {
        "colab": {
          "base_uri": "https://localhost:8080/"
        },
        "id": "kUSJmEOnZ7ib",
        "outputId": "166f805d-f6de-4405-ce5b-cff9b0a2f3b0"
      },
      "execution_count": null,
      "outputs": [
        {
          "output_type": "stream",
          "name": "stdout",
          "text": [
            "함수가 시작되었습니다.\n",
            "함수 수행시간: 5.817413330078125e-05\n",
            "30\n"
          ]
        }
      ]
    }
  ]
}