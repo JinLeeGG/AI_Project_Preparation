{
  "nbformat": 4,
  "nbformat_minor": 0,
  "metadata": {
    "colab": {
      "provenance": [],
      "authorship_tag": "ABX9TyM76omOQM8kdCUAhopMSsny",
      "include_colab_link": true
    },
    "kernelspec": {
      "name": "python3",
      "display_name": "Python 3"
    },
    "language_info": {
      "name": "python"
    }
  },
  "cells": [
    {
      "cell_type": "markdown",
      "metadata": {
        "id": "view-in-github",
        "colab_type": "text"
      },
      "source": [
        "<a href=\"https://colab.research.google.com/github/JinLeeGG/AI_Project_Preparation/blob/main/2.%20Web%20Development%20(providing%20LLM%20service)/03.%20Asynchronous%20programming%20(%EB%B9%84%EB%8F%99%EA%B8%B0%20%ED%94%84%EB%A1%9C%EA%B7%B8%EB%9E%98%EB%B0%8D)/CodingExample/3_Asynchronous_programming_(%EB%B9%84%EB%8F%99%EA%B8%B0_%ED%94%84%EB%A1%9C%EA%B7%B8%EB%9E%98%EB%B0%8D).ipynb\" target=\"_parent\"><img src=\"https://colab.research.google.com/assets/colab-badge.svg\" alt=\"Open In Colab\"/></a>"
      ]
    },
    {
      "cell_type": "markdown",
      "source": [
        "https://ryuzyproject.tistory.com/60?category=1088818"
      ],
      "metadata": {
        "id": "f2jKeKzgerxP"
      }
    },
    {
      "cell_type": "markdown",
      "source": [
        "# 1. 비동기 프로그래밍\n",
        "파이썬의 비동기 프로그래밍(asynchronous programming)은 시간이 오래 걸리는 작업(예: 웹 요청, 파일 읽기, 데이터베이스 조회 등)을 기다리는 동안 다른 작업을 동시에 진행할 수 있도록 해주는 프로그래밍 방식입니다. 예를 들어 웹 서버를 만든다고 할 때, 한 사용자의 요청을 처리하는 동안 다른 사용자는 기다려야 한다면? 서버가 느려지고 사용자 경험이 나빠집니다. 비동기를 쓰면, 하나의 요청을 기다리는 동안 다른 요청을 처리할 수 있습니다."
      ],
      "metadata": {
        "id": "JgQ0JaBle4by"
      }
    },
    {
      "cell_type": "markdown",
      "source": [
        "### 1. 동기(Synchronous)\n",
        "작업이 순차적으로 실행됩니다. 하나의 작업이 끝날 때까지 다음 작업이 대기합니다."
      ],
      "metadata": {
        "id": "2Wro5lLQe6fC"
      }
    },
    {
      "cell_type": "code",
      "source": [
        "import time\n",
        "# def 키워드로 선언하는 모든 함수는 파이썬에서 기본적으로 동기 방식으로 동작\n",
        "def sync_func():\n",
        "    print(\"동기 함수 시작\")\n",
        "    time.sleep(2)  # 2초간 멈춤\n",
        "    print(\"동기 함수 끝\")"
      ],
      "metadata": {
        "id": "0w8dzOyvfKZ2"
      },
      "execution_count": null,
      "outputs": []
    },
    {
      "cell_type": "markdown",
      "source": [
        "### 2. 비동기(Asynchronous)\n",
        "작업이 독립적으로 실행되며, 대기 시간이 발생하면 다른 작업을 처리할 수 있습니다."
      ],
      "metadata": {
        "id": "imB1sGIVfRiy"
      }
    },
    {
      "cell_type": "code",
      "source": [
        "# def 키워드 앞에 async 키워드를 붙이면 함수는 비동기 처리됨\n",
        "# 이러한 비동기 함수를 파이썬에서는 코루틴(coroutine)이라고 함\n",
        "async def async_func():\n",
        "    print(\"비동기 함수 시작\")\n",
        "    await asyncio.sleep(2)  # 2초 기다림, 다른 작업은 계속 가능\n",
        "    print(\"비동기 함수 끝\")"
      ],
      "metadata": {
        "id": "uVtQuV9ofgEA"
      },
      "execution_count": null,
      "outputs": []
    },
    {
      "cell_type": "markdown",
      "source": [
        "# 동기와 비동기 비교"
      ],
      "metadata": {
        "id": "FQqDBwVvfkBg"
      }
    },
    {
      "cell_type": "code",
      "source": [
        "import asyncio # 비동기화 시켜줄수 있는 모듈\n",
        "import time\n",
        "\n",
        "def sync_func():\n",
        "    print('동기 함수 시작')\n",
        "    time.sleep(2)\n",
        "    print('동기 함수 끝')\n",
        "\n",
        "async def async_func():   # 비동기함수라는걸 알려주는것\n",
        "    print('비동기 함수 시작')\n",
        "    await asyncio.sleep(2)\n",
        "    print('비동기 함수 끝')\n",
        "\n",
        "async def main():\n",
        "    print('동기 방식: ')\n",
        "    sync_func() # 2초 +\n",
        "    sync_func() # 2초 = 4초\n",
        "    print('비동기 방식: ')\n",
        "    await asyncio.gather(\n",
        "        async_func(), # 밑에거랑 동시에 돌아서 2초만에 끝난다\n",
        "        async_func()\n",
        "    )\n",
        "\n",
        "asyncio.run(main()) # 코랩에서는 막힌다."
      ],
      "metadata": {
        "colab": {
          "base_uri": "https://localhost:8080/",
          "height": 312
        },
        "id": "jT7Go8-cf4Gq",
        "outputId": "3ac29caa-b3a2-419f-8ef3-84b18c5b8a72"
      },
      "execution_count": null,
      "outputs": [
        {
          "output_type": "error",
          "ename": "RuntimeError",
          "evalue": "asyncio.run() cannot be called from a running event loop",
          "traceback": [
            "\u001b[0;31m---------------------------------------------------------------------------\u001b[0m",
            "\u001b[0;31mRuntimeError\u001b[0m                              Traceback (most recent call last)",
            "\u001b[0;32m<ipython-input-4-f5c03ddb665e>\u001b[0m in \u001b[0;36m<cell line: 0>\u001b[0;34m()\u001b[0m\n\u001b[1;32m     22\u001b[0m     )\n\u001b[1;32m     23\u001b[0m \u001b[0;34m\u001b[0m\u001b[0m\n\u001b[0;32m---> 24\u001b[0;31m \u001b[0masyncio\u001b[0m\u001b[0;34m.\u001b[0m\u001b[0mrun\u001b[0m\u001b[0;34m(\u001b[0m\u001b[0mmain\u001b[0m\u001b[0;34m(\u001b[0m\u001b[0;34m)\u001b[0m\u001b[0;34m)\u001b[0m\u001b[0;34m\u001b[0m\u001b[0;34m\u001b[0m\u001b[0m\n\u001b[0m",
            "\u001b[0;32m/usr/lib/python3.11/asyncio/runners.py\u001b[0m in \u001b[0;36mrun\u001b[0;34m(main, debug)\u001b[0m\n\u001b[1;32m    184\u001b[0m     \u001b[0;32mif\u001b[0m \u001b[0mevents\u001b[0m\u001b[0;34m.\u001b[0m\u001b[0m_get_running_loop\u001b[0m\u001b[0;34m(\u001b[0m\u001b[0;34m)\u001b[0m \u001b[0;32mis\u001b[0m \u001b[0;32mnot\u001b[0m \u001b[0;32mNone\u001b[0m\u001b[0;34m:\u001b[0m\u001b[0;34m\u001b[0m\u001b[0;34m\u001b[0m\u001b[0m\n\u001b[1;32m    185\u001b[0m         \u001b[0;31m# fail fast with short traceback\u001b[0m\u001b[0;34m\u001b[0m\u001b[0;34m\u001b[0m\u001b[0m\n\u001b[0;32m--> 186\u001b[0;31m         raise RuntimeError(\n\u001b[0m\u001b[1;32m    187\u001b[0m             \"asyncio.run() cannot be called from a running event loop\")\n\u001b[1;32m    188\u001b[0m \u001b[0;34m\u001b[0m\u001b[0m\n",
            "\u001b[0;31mRuntimeError\u001b[0m: asyncio.run() cannot be called from a running event loop"
          ]
        }
      ]
    }
  ]
}