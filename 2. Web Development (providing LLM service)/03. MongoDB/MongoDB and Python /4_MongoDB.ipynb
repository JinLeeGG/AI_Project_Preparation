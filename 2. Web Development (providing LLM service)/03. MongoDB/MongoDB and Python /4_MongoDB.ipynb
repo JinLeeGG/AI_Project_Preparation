{
  "nbformat": 4,
  "nbformat_minor": 0,
  "metadata": {
    "colab": {
      "provenance": [],
      "authorship_tag": "ABX9TyP9NeaLKl7yEEFfkazNgmfr",
      "include_colab_link": true
    },
    "kernelspec": {
      "name": "python3",
      "display_name": "Python 3"
    },
    "language_info": {
      "name": "python"
    }
  },
  "cells": [
    {
      "cell_type": "markdown",
      "metadata": {
        "id": "view-in-github",
        "colab_type": "text"
      },
      "source": [
        "<a href=\"https://colab.research.google.com/github/JinLeeGG/AI_Project_Preparation/blob/main/2.%20Web%20Development%20(providing%20LLM%20service)/03.%20MongoDB/4_MongoDB.ipynb\" target=\"_parent\"><img src=\"https://colab.research.google.com/assets/colab-badge.svg\" alt=\"Open In Colab\"/></a>"
      ]
    },
    {
      "cell_type": "markdown",
      "source": [
        "https://ryuzyproject.tistory.com/55"
      ],
      "metadata": {
        "id": "YDTMKiYfX5Gl"
      }
    },
    {
      "cell_type": "markdown",
      "source": [
        "# 1. pymongo 설치\n",
        "pymongo는 파이썬에서 MongoDB와 상호작용하기 위해 사용하는 공식 Python 클라이언트 라이브러리입니다. 이 라이브러리를 사용하면 MongoDB에 데이터를 쉽게 삽입, 조회, 수정, 삭제할 수 있습니다."
      ],
      "metadata": {
        "id": "NOZjKE-2YjsZ"
      }
    },
    {
      "cell_type": "code",
      "source": [
        "! pip install pymongo"
      ],
      "metadata": {
        "colab": {
          "base_uri": "https://localhost:8080/"
        },
        "id": "lCZC-XwnX_XA",
        "outputId": "e24fc7d0-7826-470a-be42-5c0823bc62b8"
      },
      "execution_count": 1,
      "outputs": [
        {
          "output_type": "stream",
          "name": "stdout",
          "text": [
            "Collecting pymongo\n",
            "  Downloading pymongo-4.13.0-cp311-cp311-manylinux_2_17_x86_64.manylinux2014_x86_64.whl.metadata (22 kB)\n",
            "Collecting dnspython<3.0.0,>=1.16.0 (from pymongo)\n",
            "  Downloading dnspython-2.7.0-py3-none-any.whl.metadata (5.8 kB)\n",
            "Downloading pymongo-4.13.0-cp311-cp311-manylinux_2_17_x86_64.manylinux2014_x86_64.whl (1.4 MB)\n",
            "\u001b[2K   \u001b[90m━━━━━━━━━━━━━━━━━━━━━━━━━━━━━━━━━━━━━━━━\u001b[0m \u001b[32m1.4/1.4 MB\u001b[0m \u001b[31m23.5 MB/s\u001b[0m eta \u001b[36m0:00:00\u001b[0m\n",
            "\u001b[?25hDownloading dnspython-2.7.0-py3-none-any.whl (313 kB)\n",
            "\u001b[2K   \u001b[90m━━━━━━━━━━━━━━━━━━━━━━━━━━━━━━━━━━━━━━━━\u001b[0m \u001b[32m313.6/313.6 kB\u001b[0m \u001b[31m16.9 MB/s\u001b[0m eta \u001b[36m0:00:00\u001b[0m\n",
            "\u001b[?25hInstalling collected packages: dnspython, pymongo\n",
            "Successfully installed dnspython-2.7.0 pymongo-4.13.0\n"
          ]
        }
      ]
    },
    {
      "cell_type": "markdown",
      "source": [
        "# 2. 몽고DB 서버와의 연결"
      ],
      "metadata": {
        "id": "aNp0d_YGZy4r"
      }
    },
    {
      "cell_type": "code",
      "source": [
        "from pymongo import MongoClient"
      ],
      "metadata": {
        "id": "8gKwVX8YYyHg"
      },
      "execution_count": 2,
      "outputs": []
    },
    {
      "cell_type": "code",
      "source": [
        "url = '' #MongoDB connection string\n",
        "client = MongoClient(url) # make new client\n",
        "print(client) # shows responses (it connected)"
      ],
      "metadata": {
        "colab": {
          "base_uri": "https://localhost:8080/"
        },
        "id": "OEn9rvGSY7dZ",
        "outputId": "80fc0d6f-010e-46e9-d115-3c62d7961c1a"
      },
      "execution_count": 4,
      "outputs": [
        {
          "output_type": "stream",
          "name": "stdout",
          "text": [
            "MongoClient(host=['ac-0ykfnjn-shard-00-01.arbx7wl.mongodb.net:27017', 'ac-0ykfnjn-shard-00-02.arbx7wl.mongodb.net:27017', 'ac-0ykfnjn-shard-00-00.arbx7wl.mongodb.net:27017'], document_class=dict, tz_aware=False, connect=True, retrywrites=True, w='majority', appname='Cluster0', authsource='admin', replicaset='atlas-apbh5q-shard-0', tls=True)\n"
          ]
        }
      ]
    },
    {
      "cell_type": "code",
      "source": [
        "# 데이터베이스 선택\n",
        "database = client['aiproject'] # client에 접속하고자하는 db를 지정\n",
        "\n",
        "# 컬렉션 선택\n",
        "collection = database['users'] # db에 있는 collection 선택"
      ],
      "metadata": {
        "id": "juCyhO3eZo2P"
      },
      "execution_count": 5,
      "outputs": []
    },
    {
      "cell_type": "markdown",
      "source": [
        "# 3. 데이터 추가"
      ],
      "metadata": {
        "id": "4lNNd6UwbHOa"
      }
    },
    {
      "cell_type": "code",
      "source": [
        "# 데이터 한개 추가\n",
        "user_insert = {'userid':'apple', 'name':'김사과', 'age':20} # 데이터 형식 생성\n",
        "result = collection.insert_one(user_insert) # collection 안에 데이터 넣기\n",
        "print(f'입력된 데이터 id: {result.inserted_id}') # 입력된 번호가 나온다 (object id)"
      ],
      "metadata": {
        "colab": {
          "base_uri": "https://localhost:8080/"
        },
        "id": "M40065gHbMSW",
        "outputId": "c643f452-7aa7-4a9a-f823-b3d1095607f0"
      },
      "execution_count": 6,
      "outputs": [
        {
          "output_type": "stream",
          "name": "stdout",
          "text": [
            "입력된 데이터 id: 6836e4fcd7a2607c6789a512\n"
          ]
        }
      ]
    },
    {
      "cell_type": "markdown",
      "source": [
        "### 추가된걸 확인:\n",
        "![image.png](data:image/png;base64,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)"
      ],
      "metadata": {
        "id": "ElCsUiI9cLz0"
      }
    },
    {
      "cell_type": "code",
      "source": [
        "# 데이터 복수 추가\n",
        "users_insert = [\n",
        "    {'userid':'banana', 'name':'반하나', 'age':25},\n",
        "    {'userid':'orange', 'name':'오렌지', 'age':30},\n",
        "    {'userid':'melon', 'name':'이메론', 'age':28}\n",
        "]\n",
        "\n",
        "result = collection.insert_many(users_insert) # 여러개를 한꺼번에 넣기\n",
        "print(f'입력된 데이터 id: {result.inserted_ids}') # inserted_ids, 복수를 보여준다."
      ],
      "metadata": {
        "colab": {
          "base_uri": "https://localhost:8080/"
        },
        "id": "0bwWStvRb2Ao",
        "outputId": "8007d13c-ef31-475a-cb50-3a8c3b60f4cb"
      },
      "execution_count": 10,
      "outputs": [
        {
          "output_type": "stream",
          "name": "stdout",
          "text": [
            "입력된 데이터 id: [ObjectId('6836e698d7a2607c6789a513'), ObjectId('6836e698d7a2607c6789a514'), ObjectId('6836e698d7a2607c6789a515')]\n"
          ]
        }
      ]
    },
    {
      "cell_type": "markdown",
      "source": [
        "# 4. 데이터 조회하기"
      ],
      "metadata": {
        "id": "vx97_PnedtFu"
      }
    },
    {
      "cell_type": "code",
      "source": [
        "user_find = {'userid':'apple'} # 찾을 내용 저장\n",
        "result = collection.find_one(user_find) # 찾기\n",
        "print(f'데이터: {result}')"
      ],
      "metadata": {
        "colab": {
          "base_uri": "https://localhost:8080/"
        },
        "id": "ulPXn769d30b",
        "outputId": "5f50e3fb-43b7-405f-e773-e3b675007f86"
      },
      "execution_count": 11,
      "outputs": [
        {
          "output_type": "stream",
          "name": "stdout",
          "text": [
            "데이터: {'_id': ObjectId('6836e4fcd7a2607c6789a512'), 'userid': 'apple', 'name': '김사과', 'age': 20}\n"
          ]
        }
      ]
    },
    {
      "cell_type": "code",
      "source": [
        "result = collection.find({}) # 조건이 없을때는 전체를 다 가져온다.\n",
        "result # 객체로 담겨져있다. (cursor object - 제일 첫번째꺼를 가르킨다). 반복문을 이용하면 커서를 계속 이동한다. (iterater)\n",
        "\n",
        "for data in result:\n",
        "    print(data)   # 데이터 전체를 하나씩 다 찍어준다."
      ],
      "metadata": {
        "colab": {
          "base_uri": "https://localhost:8080/"
        },
        "id": "2BsJkL20eL3g",
        "outputId": "8dd19261-e18f-4751-b9de-6ca6d453db45"
      },
      "execution_count": 13,
      "outputs": [
        {
          "output_type": "stream",
          "name": "stdout",
          "text": [
            "{'_id': 1, 'name': '김사과', 'age': 20, 'gender': '여', 'joinDate': datetime.datetime(2023, 1, 10, 0, 0), 'tags': ['몽고DB', '집계'], 'orders': [{'orderId': 101, 'amount': 200000, 'orderDate': datetime.datetime(2024, 1, 15, 0, 0)}, {'orderId': 102, 'amount': 450000, 'orderDate': datetime.datetime(2024, 3, 22, 0, 0)}], 'products': [{'productId': 'p1', 'category': '전자제품', 'price': 500000, 'rating': 4.8}, {'productId': 'p2', 'category': '의류', 'price': 50000, 'rating': 4.2}]}\n",
            "{'_id': 3, 'name': '오렌지', 'age': 30, 'gender': '남', 'joinDate': datetime.datetime(2024, 3, 5, 0, 0), 'tags': ['몽고DB', '집계', '데이터베이스'], 'orders': [], 'products': [{'productId': 'p4', 'category': '의류', 'price': 80000, 'rating': 4.1}]}\n",
            "{'_id': 2, 'name': '반하나', 'age': 25, 'gender': '여', 'joinDate': datetime.datetime(2024, 2, 20, 0, 0), 'tags': ['데이터베이스', '몽고DB'], 'orders': [{'orderId': 103, 'amount': 300000, 'orderDate': datetime.datetime(2024, 2, 18, 0, 0)}], 'products': [{'productId': 'p3', 'category': '전자제품', 'price': 120000, 'rating': 4.6}]}\n",
            "{'_id': ObjectId('6836e4fcd7a2607c6789a512'), 'userid': 'apple', 'name': '김사과', 'age': 20}\n",
            "{'_id': ObjectId('6836e698d7a2607c6789a513'), 'userid': 'banana', 'name': '반하나', 'age': 25}\n",
            "{'_id': ObjectId('6836e698d7a2607c6789a514'), 'userid': 'orange', 'name': '오렌지', 'age': 30}\n",
            "{'_id': ObjectId('6836e698d7a2607c6789a515'), 'userid': 'melon', 'name': '이메론', 'age': 28}\n"
          ]
        }
      ]
    },
    {
      "cell_type": "markdown",
      "source": [
        "# 5. 데이터 수정"
      ],
      "metadata": {
        "id": "SF_QGX0ufJiB"
      }
    },
    {
      "cell_type": "code",
      "source": [
        "user_update = {'userid':'apple'} # userid가 apple 인걸 타깃\n",
        "new_value = {'$set': {'age':30}} # set을 이용해서 age를 30으로 업데이트를 시킨다.\n",
        "result = collection.update_one(user_update, new_value) # update --> new_value로 바꾼다.\n",
        "print(result)\n",
        "\n",
        "user_find = {\"userid\":\"apple\"}\n",
        "result = collection.find_one(user_find)\n",
        "print(f'데이터: {result}')"
      ],
      "metadata": {
        "colab": {
          "base_uri": "https://localhost:8080/"
        },
        "id": "zFfXi-oGfMQp",
        "outputId": "98490107-27ca-4171-844d-b2f14ea34340"
      },
      "execution_count": 15,
      "outputs": [
        {
          "output_type": "stream",
          "name": "stdout",
          "text": [
            "UpdateResult({'n': 1, 'electionId': ObjectId('7fffffff00000000000000ba'), 'opTime': {'ts': Timestamp(1748429562, 3), 't': 186}, 'nModified': 0, 'ok': 1.0, '$clusterTime': {'clusterTime': Timestamp(1748429562, 3), 'signature': {'hash': b'9\\x92\\r\\xde\\xffE2\\xab\\xbd\\xd6\\xe4\\xda\\x9b<\\x17s\\xd4I\\x1e\\xa5', 'keyId': 7452261432474730504}}, 'operationTime': Timestamp(1748429562, 3), 'updatedExisting': True}, acknowledged=True)\n",
            "데이터: {'_id': ObjectId('6836e4fcd7a2607c6789a512'), 'userid': 'apple', 'name': '김사과', 'age': 30}\n"
          ]
        }
      ]
    },
    {
      "cell_type": "markdown",
      "source": [
        "# 6. 데이터 삭제"
      ],
      "metadata": {
        "id": "8mealeGLhxDP"
      }
    },
    {
      "cell_type": "code",
      "source": [
        "user_delete = {'userid':'apple'}\n",
        "result = collection.delete_one(user_delete)\n",
        "print(result)"
      ],
      "metadata": {
        "colab": {
          "base_uri": "https://localhost:8080/"
        },
        "id": "4A-htfydhn8k",
        "outputId": "ad5fef8b-d0ec-45be-d16e-5ee756a73e8d"
      },
      "execution_count": 16,
      "outputs": [
        {
          "output_type": "stream",
          "name": "stdout",
          "text": [
            "DeleteResult({'n': 1, 'electionId': ObjectId('7fffffff00000000000000ba'), 'opTime': {'ts': Timestamp(1748429592, 922), 't': 186}, 'ok': 1.0, '$clusterTime': {'clusterTime': Timestamp(1748429592, 922), 'signature': {'hash': b'\\x19W\\x025\\xaf7\\xb9cM\\x06L\\xbd\\xab\\x0f\\xc9\\xeatm\\xab%', 'keyId': 7452261432474730504}}, 'operationTime': Timestamp(1748429592, 922)}, acknowledged=True)\n"
          ]
        }
      ]
    }
  ]
}