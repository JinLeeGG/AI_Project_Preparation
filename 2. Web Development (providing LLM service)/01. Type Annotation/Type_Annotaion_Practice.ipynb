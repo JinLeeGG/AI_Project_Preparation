{
  "nbformat": 4,
  "nbformat_minor": 0,
  "metadata": {
    "colab": {
      "provenance": [],
      "authorship_tag": "ABX9TyObJLH34iwIXiJVZ3EunmoA",
      "include_colab_link": true
    },
    "kernelspec": {
      "name": "python3",
      "display_name": "Python 3"
    },
    "language_info": {
      "name": "python"
    }
  },
  "cells": [
    {
      "cell_type": "markdown",
      "metadata": {
        "id": "view-in-github",
        "colab_type": "text"
      },
      "source": [
        "<a href=\"https://colab.research.google.com/github/JinLeeGG/AI_Project_Preparation/blob/main/2.%20Web%20Development%20(providing%20LLM%20service)/01.%20Type%20Annotation/Type_Annotaion_Practice.ipynb\" target=\"_parent\"><img src=\"https://colab.research.google.com/assets/colab-badge.svg\" alt=\"Open In Colab\"/></a>"
      ]
    },
    {
      "cell_type": "code",
      "execution_count": null,
      "metadata": {
        "colab": {
          "base_uri": "https://localhost:8080/"
        },
        "id": "6eLBH728svXf",
        "outputId": "b74be795-581e-479e-e6a0-324320c4a441"
      },
      "outputs": [
        {
          "output_type": "stream",
          "name": "stdout",
          "text": [
            "John\n",
            "10\n",
            "170.2\n",
            "True\n"
          ]
        }
      ],
      "source": [
        "# variable type annotation\n",
        "name = 'John'\n",
        "name: str = 'John'\n",
        "print(name)\n",
        "\n",
        "age = 10\n",
        "age: int = 10\n",
        "print(age)\n",
        "\n",
        "height = 170.2\n",
        "height: float = 170.2\n",
        "print(height)\n",
        "\n",
        "is_lover = True\n",
        "is_lover: bool = True\n",
        "print(is_lover)"
      ]
    },
    {
      "cell_type": "code",
      "source": [
        "# list type annotation\n",
        "names = ['apple', 'orange', 'banana']\n",
        "names: list[str] = ['apple', 'banana', 'orange']\n",
        "print(names)\n"
      ],
      "metadata": {
        "id": "Uz7OJDyZuRxY",
        "colab": {
          "base_uri": "https://localhost:8080/"
        },
        "outputId": "3ff766b5-787c-447e-da06-d65e3bc3e25f"
      },
      "execution_count": null,
      "outputs": [
        {
          "output_type": "stream",
          "name": "stdout",
          "text": [
            "['apple', 'banana', 'orange']\n"
          ]
        }
      ]
    },
    {
      "cell_type": "code",
      "source": [
        "# does not cause err if its differnt type annotation\n",
        "name: list[int] = ['apple', 'oragne', 'banana']\n",
        "print(name)"
      ],
      "metadata": {
        "colab": {
          "base_uri": "https://localhost:8080/"
        },
        "id": "Y2JwVM930t2S",
        "outputId": "b8294cc4-7752-41a5-8557-bd53624e24cf"
      },
      "execution_count": null,
      "outputs": [
        {
          "output_type": "stream",
          "name": "stdout",
          "text": [
            "['apple', 'oragne', 'banana']\n"
          ]
        }
      ]
    },
    {
      "cell_type": "code",
      "source": [
        "# Tuple type annotation\n",
        "age = (25, 30)\n",
        "age: tuple[int, int] = (25, 30)\n",
        "print(age)\n",
        "\n",
        "# Multiple same types:\n",
        "numbers: tuple[int, ...] = (1,2,3,4,5)\n",
        "print(numbers)"
      ],
      "metadata": {
        "colab": {
          "base_uri": "https://localhost:8080/"
        },
        "id": "tQVnbpYm1OEb",
        "outputId": "496ab043-260a-40b7-99f7-b9c67cde1664"
      },
      "execution_count": null,
      "outputs": [
        {
          "output_type": "stream",
          "name": "stdout",
          "text": [
            "(25, 30)\n",
            "(1, 2, 3, 4, 5)\n"
          ]
        }
      ]
    },
    {
      "cell_type": "code",
      "source": [
        "# Dictionary type annotation\n",
        "student_scores = {'apple' : 90.5, 'orange' : 88.3}\n",
        "student_scores: dict[str, float] = {'apple' : 90.5, 'orange' : 88.3}\n",
        "print(student_scores)"
      ],
      "metadata": {
        "colab": {
          "base_uri": "https://localhost:8080/"
        },
        "id": "lrmrzeMo15MN",
        "outputId": "ce455e0b-0593-430e-934e-5d6f4db527b3"
      },
      "execution_count": null,
      "outputs": [
        {
          "output_type": "stream",
          "name": "stdout",
          "text": [
            "{'apple': 90.5, 'orange': 88.3}\n"
          ]
        }
      ]
    },
    {
      "cell_type": "code",
      "source": [
        "# Set type annotation\n",
        "unique_numbers = {1, 2, 3, 3, 4}\n",
        "nuique_numbers: set[int] = {1, 2, 3, 3, 4}\n",
        "print(unique_numbers)"
      ],
      "metadata": {
        "colab": {
          "base_uri": "https://localhost:8080/"
        },
        "id": "vJzXPq6Z3bGU",
        "outputId": "e2d65d73-f2a5-4aa3-b29d-7c5acd16210a"
      },
      "execution_count": null,
      "outputs": [
        {
          "output_type": "stream",
          "name": "stdout",
          "text": [
            "{1, 2, 3, 4}\n"
          ]
        }
      ]
    },
    {
      "cell_type": "code",
      "source": [
        "# functions\n",
        "\n",
        "def add(a, b):\n",
        "    return a + b\n",
        "\n",
        "print(add(10,3))"
      ],
      "metadata": {
        "colab": {
          "base_uri": "https://localhost:8080/"
        },
        "id": "LoDSP5S031EN",
        "outputId": "3f1b260b-fde9-4512-c59d-32740b5d70a1"
      },
      "execution_count": null,
      "outputs": [
        {
          "output_type": "stream",
          "name": "stdout",
          "text": [
            "13\n"
          ]
        }
      ]
    },
    {
      "cell_type": "code",
      "source": [
        "def add(a: int, b: int) -> int:\n",
        "    return a + b\n",
        "\n",
        "print(add(10, 3))\n",
        "print(add('십', '삼'))\n",
        "\n",
        "#check type annotation\n",
        "add.__annotations__ # Magic method that checks type annotation in class or functions"
      ],
      "metadata": {
        "colab": {
          "base_uri": "https://localhost:8080/"
        },
        "id": "P9scy6j23854",
        "outputId": "670e8f3c-afba-4cb7-c6e0-39283641b53b"
      },
      "execution_count": null,
      "outputs": [
        {
          "output_type": "stream",
          "name": "stdout",
          "text": [
            "13\n",
            "십삼\n"
          ]
        },
        {
          "output_type": "execute_result",
          "data": {
            "text/plain": [
              "{'a': int, 'b': int, 'return': int}"
            ]
          },
          "metadata": {},
          "execution_count": 17
        }
      ]
    },
    {
      "cell_type": "code",
      "source": [
        "def greet(user: str | None) -> str: # Parameter can be str or None and returns str at the end\n",
        "    return f\"Hello, {user or 'Guest'}\"\n",
        "\n",
        "print(greet(None))\n",
        "print(greet('apple')) #both none or str works"
      ],
      "metadata": {
        "colab": {
          "base_uri": "https://localhost:8080/"
        },
        "id": "M3gIpxyB4THS",
        "outputId": "0a00d7fc-f399-4d93-9525-af594173f35e"
      },
      "execution_count": null,
      "outputs": [
        {
          "output_type": "stream",
          "name": "stdout",
          "text": [
            "Hello, Guest\n",
            "Hello, apple\n"
          ]
        }
      ]
    },
    {
      "cell_type": "code",
      "source": [
        "# Class\n",
        "\n",
        "class Student:\n",
        "    def __init__(self, name: str, age: int): # name as string and age as integer\n",
        "          self.name = name\n",
        "          self.age = age\n",
        "    def __str__(self) -> str: # returns string\n",
        "          return 'name: ' + self.name + ', age: ' + str(self.age)\n",
        "\n",
        "def print_student(s: Student) -> None: # s must be student class object and returms None\n",
        "    print(f'name: {s.name}, age: {s.age} HEEE')"
      ],
      "metadata": {
        "id": "9rE2B4x34z55"
      },
      "execution_count": null,
      "outputs": []
    },
    {
      "cell_type": "code",
      "source": [
        "student = Student('apple', 20)\n",
        "print(student)"
      ],
      "metadata": {
        "colab": {
          "base_uri": "https://localhost:8080/"
        },
        "id": "6znBcRpX5qoK",
        "outputId": "f362d8a8-39fa-42cc-8024-2f0d90713758"
      },
      "execution_count": null,
      "outputs": [
        {
          "output_type": "stream",
          "name": "stdout",
          "text": [
            "name: apple, age: 20\n"
          ]
        }
      ]
    },
    {
      "cell_type": "code",
      "source": [
        "print_student(student)"
      ],
      "metadata": {
        "id": "Af-xrJpI5vC5",
        "outputId": "5b1a92b6-9758-41d7-9b32-098e5ee04df9",
        "colab": {
          "base_uri": "https://localhost:8080/"
        }
      },
      "execution_count": null,
      "outputs": [
        {
          "output_type": "stream",
          "name": "stdout",
          "text": [
            "name: apple, age: 20 HEEE\n"
          ]
        }
      ]
    },
    {
      "cell_type": "code",
      "source": [
        "# Optional in parameters\n",
        "def Hello(name: str | None) -> str: # parameter can be str or None and returns string\n",
        "  if name is None:\n",
        "      return \"Hello Guest!\"\n",
        "  return f\"Hello, {name}!\""
      ],
      "metadata": {
        "id": "-ig8_HfWG0LV"
      },
      "execution_count": null,
      "outputs": []
    },
    {
      "cell_type": "code",
      "source": [
        "print(Hello('apple'))\n",
        "print(Hello(None))"
      ],
      "metadata": {
        "colab": {
          "base_uri": "https://localhost:8080/"
        },
        "id": "2up688siHeZ4",
        "outputId": "8e82456d-88aa-4939-f975-d8c4cbd9f338"
      },
      "execution_count": null,
      "outputs": [
        {
          "output_type": "stream",
          "name": "stdout",
          "text": [
            "Hello, apple!\n",
            "Hello Guest!\n"
          ]
        }
      ]
    },
    {
      "cell_type": "code",
      "source": [
        "# optional in return type\n",
        "def find_user(user_id: int) -> str | None:\n",
        "    if user_id == 1:\n",
        "        return \"apple\"\n",
        "    return None"
      ],
      "metadata": {
        "id": "LJgA7hm2Hk2J"
      },
      "execution_count": null,
      "outputs": []
    },
    {
      "cell_type": "code",
      "source": [
        "find_user(1) # returns apple"
      ],
      "metadata": {
        "colab": {
          "base_uri": "https://localhost:8080/",
          "height": 36
        },
        "id": "ec3-2-Q7H7Ed",
        "outputId": "c95b768a-e3af-492a-ab03-9084b1c2c0cb"
      },
      "execution_count": null,
      "outputs": [
        {
          "output_type": "execute_result",
          "data": {
            "text/plain": [
              "'apple'"
            ],
            "application/vnd.google.colaboratory.intrinsic+json": {
              "type": "string"
            }
          },
          "metadata": {},
          "execution_count": 28
        }
      ]
    },
    {
      "cell_type": "code",
      "source": [
        "find_user(99) # returns None"
      ],
      "metadata": {
        "id": "zIE2tUTkH_W0"
      },
      "execution_count": null,
      "outputs": []
    },
    {
      "cell_type": "code",
      "source": [
        "# dictionary\n",
        "users: dict[int, str] = {\n",
        "    1: \"apple\",\n",
        "    2: \"banana\"\n",
        "}\n",
        "\n",
        "def get_user(user_id: int) -> str | None: # returns string or None\n",
        "    return users.get(user_id)"
      ],
      "metadata": {
        "id": "tchnqKPGICnH"
      },
      "execution_count": null,
      "outputs": []
    },
    {
      "cell_type": "code",
      "source": [
        "get_user(1)"
      ],
      "metadata": {
        "colab": {
          "base_uri": "https://localhost:8080/",
          "height": 36
        },
        "id": "DHGg2n2kIWqG",
        "outputId": "722fead9-6621-4c76-f3e4-196cc5c7a08f"
      },
      "execution_count": null,
      "outputs": [
        {
          "output_type": "execute_result",
          "data": {
            "text/plain": [
              "'apple'"
            ],
            "application/vnd.google.colaboratory.intrinsic+json": {
              "type": "string"
            }
          },
          "metadata": {},
          "execution_count": 33
        }
      ]
    },
    {
      "cell_type": "code",
      "source": [
        "get_user(2)"
      ],
      "metadata": {
        "colab": {
          "base_uri": "https://localhost:8080/",
          "height": 36
        },
        "id": "LdD3oDoHIYoJ",
        "outputId": "a9a61d75-4f5b-452c-943b-f8dd02b6b8cb"
      },
      "execution_count": null,
      "outputs": [
        {
          "output_type": "execute_result",
          "data": {
            "text/plain": [
              "'banana'"
            ],
            "application/vnd.google.colaboratory.intrinsic+json": {
              "type": "string"
            }
          },
          "metadata": {},
          "execution_count": 34
        }
      ]
    },
    {
      "cell_type": "code",
      "source": [
        "get_user(3) #does not cause err because return type can be none"
      ],
      "metadata": {
        "id": "Xf-dIqpJIZzJ"
      },
      "execution_count": null,
      "outputs": []
    },
    {
      "cell_type": "code",
      "source": [
        "# Any\n",
        "\n",
        "from typing import Any # must use typing module to use any\n",
        "\n",
        "def process(data: Any) -> None:\n",
        "    print(data)"
      ],
      "metadata": {
        "id": "0NJkidsnIhng"
      },
      "execution_count": null,
      "outputs": []
    },
    {
      "cell_type": "code",
      "source": [
        "process('Hi')"
      ],
      "metadata": {
        "id": "I1FKxkWwIxch"
      },
      "execution_count": null,
      "outputs": []
    }
  ]
}