{
  "nbformat": 4,
  "nbformat_minor": 0,
  "metadata": {
    "colab": {
      "provenance": [],
      "authorship_tag": "ABX9TyMEhlafv2e6YIkoOLqTF5eQ",
      "include_colab_link": true
    },
    "kernelspec": {
      "name": "python3",
      "display_name": "Python 3"
    },
    "language_info": {
      "name": "python"
    }
  },
  "cells": [
    {
      "cell_type": "markdown",
      "metadata": {
        "id": "view-in-github",
        "colab_type": "text"
      },
      "source": [
        "<a href=\"https://colab.research.google.com/github/JinLeeGG/AI_Project_Preparation/blob/main/2.%20Web%20service%20dev%20with%20LLM/01.%20Type%20Annotation/1_Type_Annotation.ipynb\" target=\"_parent\"><img src=\"https://colab.research.google.com/assets/colab-badge.svg\" alt=\"Open In Colab\"/></a>"
      ]
    },
    {
      "cell_type": "markdown",
      "source": [
        "https://ryuzyproject.tistory.com/25"
      ],
      "metadata": {
        "id": "Hb7awVu_3x-B"
      }
    },
    {
      "cell_type": "markdown",
      "source": [
        "# 1. 타입 어노테이션\n",
        "파이썬의 타입 어노테이션(Type Annotation) 은 변수나 함수의 데이터 타입을 명시적으로 표시해주는 기능입니다. 파이썬은 기본적으로 동적 타이핑(dynamic typing) 언어이기 때문에 변수의 타입을 명시하지 않아도 됩니다. 하지만 코드의 가독성과 정적 분석 도구(myPy 등) 사용, IDE의 자동완성에 도움이 되기 때문에 타입 어노테이션을 사용하는 것이 좋습니다."
      ],
      "metadata": {
        "id": "ksZzBVxt3_hF"
      }
    },
    {
      "cell_type": "markdown",
      "source": [
        "# 2. 변수 타입 어노테이션\n",
        "실제로 name = 123 같은 다른 타입을 할당해도 파이썬이 에러를 내지는 않습니다. (런타임에는 영향을 주지 않음)"
      ],
      "metadata": {
        "id": "1of0YfNw4Drt"
      }
    },
    {
      "cell_type": "code",
      "source": [
        "name = '김사과'\n",
        "name: str = '김사과' # String type annotation\n",
        "print(name)\n",
        "\n",
        "age = 10\n",
        "age:int = 10 # 띄어쓰기 상관없음\n",
        "print(age)\n",
        "\n",
        "height = 160.5\n",
        "height: float = 160.5\n",
        "print(height)\n",
        "\n",
        "is_lover = True\n",
        "is_lover: bool = True\n",
        "print(is_lover)"
      ],
      "metadata": {
        "colab": {
          "base_uri": "https://localhost:8080/"
        },
        "id": "ccGDv0wg4TOk",
        "outputId": "715b03da-ae7f-4cc0-e7d8-26626f669153"
      },
      "execution_count": 8,
      "outputs": [
        {
          "output_type": "stream",
          "name": "stdout",
          "text": [
            "김사과\n",
            "10\n",
            "160.5\n",
            "True\n"
          ]
        }
      ]
    },
    {
      "cell_type": "markdown",
      "source": [
        "![image.png](data:image/png;base64,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)"
      ],
      "metadata": {
        "id": "JAC7c9Yr7TXh"
      }
    },
    {
      "cell_type": "markdown",
      "source": [
        "# 3. 리스트, 튜플, 딕셔너리, 세트\n"
      ],
      "metadata": {
        "id": "ZHN2fYTL5Q18"
      }
    },
    {
      "cell_type": "code",
      "source": [
        "# List\n",
        "names = ['김사과', '오렌지', '반하나']\n",
        "name: list[str] = ['김사과', '오렌지', '반하나'] # 리스트 어노테이션\n",
        "print(names)\n",
        "\n",
        "# 다양한 타입을 한번에 넣는법\n",
        "values: list[int | str] = [1, 'two', 3, 'four'] # integer or string\n",
        "print(values)"
      ],
      "metadata": {
        "colab": {
          "base_uri": "https://localhost:8080/"
        },
        "id": "X76s-W8Q5T9e",
        "outputId": "e6a93135-b13e-40dc-e7bc-5454d7745b6e"
      },
      "execution_count": 10,
      "outputs": [
        {
          "output_type": "stream",
          "name": "stdout",
          "text": [
            "['김사과', '오렌지', '반하나']\n",
            "[1, 'two', 3, 'four']\n"
          ]
        }
      ]
    },
    {
      "cell_type": "code",
      "source": [
        "name: list[int] = ['김사과', '오렌지', '반하나'] # 에러가 발생하지는 않는다 (그냥 개발자들이 볼려고 쓰는것)\n",
        "print(names)"
      ],
      "metadata": {
        "colab": {
          "base_uri": "https://localhost:8080/"
        },
        "id": "hTmuDYYf5YW4",
        "outputId": "a819e6e8-9593-4e0b-b4d9-5fd8f45d36f0"
      },
      "execution_count": 11,
      "outputs": [
        {
          "output_type": "stream",
          "name": "stdout",
          "text": [
            "['김사과', '오렌지', '반하나']\n"
          ]
        }
      ]
    },
    {
      "cell_type": "code",
      "source": [
        "# Tuple\n",
        "age = (25, 20)\n",
        "age: tuple[int, int] = (25, 20) # 들어가는 개수만큼 타입을 써야한다.\n",
        "print(age)\n",
        "\n",
        "# 같은타입을 여러개를 넣고싶을때\n",
        "numbers: tuple[int, ...] = (1, 2, 3, 4, 5)\n",
        "print(numbers)"
      ],
      "metadata": {
        "colab": {
          "base_uri": "https://localhost:8080/"
        },
        "id": "qV_sgfC65_6q",
        "outputId": "26d0532b-70bb-4ba8-e3cb-3d8538962086"
      },
      "execution_count": 17,
      "outputs": [
        {
          "output_type": "stream",
          "name": "stdout",
          "text": [
            "(25, 20)\n",
            "(1, 2, 3, 4, 5)\n"
          ]
        }
      ]
    },
    {
      "cell_type": "code",
      "source": [
        "# Dictionary\n",
        "student_scores = {'김사과' : 90.5, '오렌지' : 88.3}\n",
        "student_scores: dict[str, float] = {'김사과' : 90.5, '오렌지' : 88.3}\n",
        "print(student_scores)"
      ],
      "metadata": {
        "colab": {
          "base_uri": "https://localhost:8080/"
        },
        "id": "B5yV_rj96iLx",
        "outputId": "14d769dd-0787-4fcd-cc85-084a65088079"
      },
      "execution_count": 20,
      "outputs": [
        {
          "output_type": "stream",
          "name": "stdout",
          "text": [
            "{'김사과': 90.5, '오렌지': 88.3}\n"
          ]
        }
      ]
    },
    {
      "cell_type": "code",
      "source": [
        "# Set\n",
        "unique_numbers = {1, 2, 3, 3, 4}\n",
        "unique_numbers: set[int] = {1, 2, 3, 3, 4}\n",
        "print(unique_numbers)"
      ],
      "metadata": {
        "colab": {
          "base_uri": "https://localhost:8080/"
        },
        "id": "48xmy4G_63mx",
        "outputId": "41c62a2c-be8a-47c6-bb63-5f6b9a9e536f"
      },
      "execution_count": 22,
      "outputs": [
        {
          "output_type": "stream",
          "name": "stdout",
          "text": [
            "{1, 2, 3, 4}\n"
          ]
        }
      ]
    },
    {
      "cell_type": "markdown",
      "source": [
        "# 4. 함수"
      ],
      "metadata": {
        "id": "ysCTwIC76q1Y"
      }
    },
    {
      "cell_type": "code",
      "source": [
        "def add(a, b):\n",
        "    return a + b\n",
        "\n",
        "print(add(10, 3))"
      ],
      "metadata": {
        "colab": {
          "base_uri": "https://localhost:8080/"
        },
        "id": "F9s5z31O7WZo",
        "outputId": "4ba0d6ef-36bb-4dca-cc4a-77f90a859934"
      },
      "execution_count": 23,
      "outputs": [
        {
          "output_type": "stream",
          "name": "stdout",
          "text": [
            "13\n"
          ]
        }
      ]
    },
    {
      "cell_type": "code",
      "source": [
        "# 만약 함수가 모듈안에 들어있으면 실수를 할 수 있다(타입을 모르기 때문)\n",
        "# 따라서 타입을 넣어주면 가독성이 좋아진다.\n",
        "\n",
        "def add(a: int, b: int) -> int:\n",
        "    return a + b\n",
        "\n",
        "print(add(10, 3))\n",
        "print(add('십', '삼')) # 결과는 같지만 실수를 적게하게된다.\n",
        "\n",
        "# 타입 어노테이션을 확인\n",
        "add.__annotations__ # 어떤 함수나 클래스에대해서 타입 어노테이션을 확인할 수 있는 매직 메서드"
      ],
      "metadata": {
        "colab": {
          "base_uri": "https://localhost:8080/"
        },
        "id": "GzDaj7b-7mYi",
        "outputId": "0f15f86e-1a6e-4a17-eccf-3d351e8e7f39"
      },
      "execution_count": 25,
      "outputs": [
        {
          "output_type": "stream",
          "name": "stdout",
          "text": [
            "13\n",
            "십삼\n"
          ]
        },
        {
          "output_type": "execute_result",
          "data": {
            "text/plain": [
              "{'a': int, 'b': int, 'return': int}"
            ]
          },
          "metadata": {},
          "execution_count": 25
        }
      ]
    },
    {
      "cell_type": "code",
      "source": [
        "def greet(user: str | None) -> str:   # str이 들어갈수 있지만 None도 들어갈수 있다. 근데 결과는 Str로 나온다.\n",
        "    return f\"Hello, {user or 'Guest'}\"\n",
        "\n",
        "print(greet(None))\n",
        "print(greet('apple')) #none, str 둘다 가능"
      ],
      "metadata": {
        "colab": {
          "base_uri": "https://localhost:8080/"
        },
        "id": "AKO92UXr70_z",
        "outputId": "1edf7467-48db-4331-ca7b-9b15742507b4"
      },
      "execution_count": 26,
      "outputs": [
        {
          "output_type": "stream",
          "name": "stdout",
          "text": [
            "Hello, Guest\n",
            "Hello, apple\n"
          ]
        }
      ]
    },
    {
      "cell_type": "markdown",
      "source": [
        "# 5. 클래스"
      ],
      "metadata": {
        "id": "k_N1AXIh8pVi"
      }
    },
    {
      "cell_type": "code",
      "source": [
        "class Student:\n",
        "    def __init__(self, name: str, age: int):  # name -> str, age -> int\n",
        "          self.name = name\n",
        "          self.age = age\n",
        "    def __str__(self) -> str: # returns string\n",
        "          return '이름: ' + self.name + ', 나이: ' + str(self.age)\n",
        "\n",
        "def print_student(s: Student) -> None:  # s는 student 클래스로 만든 Object 여야 한다. 그리고 결과는 None (리턴타입이 없다)\n",
        "    print(f'이름: {s.name}, 나이: {s.age} 🎃')"
      ],
      "metadata": {
        "id": "Sxb3Vio6_gGJ"
      },
      "execution_count": 28,
      "outputs": []
    },
    {
      "cell_type": "code",
      "source": [
        "student = Student('김사과', 20)\n",
        "print(student)"
      ],
      "metadata": {
        "colab": {
          "base_uri": "https://localhost:8080/"
        },
        "id": "QN9TajSo_lVZ",
        "outputId": "ecb88784-8e43-4e6a-9ebf-bf731619784a"
      },
      "execution_count": 29,
      "outputs": [
        {
          "output_type": "stream",
          "name": "stdout",
          "text": [
            "이름: 김사과, 나이: 20\n"
          ]
        }
      ]
    },
    {
      "cell_type": "code",
      "source": [
        "print_student(student)"
      ],
      "metadata": {
        "colab": {
          "base_uri": "https://localhost:8080/"
        },
        "id": "JqTicz6XAbLs",
        "outputId": "3ee5b7a8-12ea-46e6-8440-baea4e346de7"
      },
      "execution_count": 30,
      "outputs": [
        {
          "output_type": "stream",
          "name": "stdout",
          "text": [
            "이름: 김사과, 나이: 20 🎃\n"
          ]
        }
      ]
    },
    {
      "cell_type": "markdown",
      "source": [
        "# **6. 옵셔널**\n",
        "변수가 특정 타입이거나 None일 수 있는 경우 Optional을 사용합니다."
      ],
      "metadata": {
        "id": "emXaNWURAlE3"
      }
    },
    {
      "cell_type": "code",
      "source": [
        "# 매개변수의 옵셔널\n",
        "def Hello(name: str | None) -> str: # var can be str or None and returns str\n",
        "    if name is None: # None하고 비교할때는 is로\n",
        "        return \"Hello, Guest!\"\n",
        "    return f\"Hello, {name}!\""
      ],
      "metadata": {
        "id": "sHoK5lRNAsfL"
      },
      "execution_count": 31,
      "outputs": []
    },
    {
      "cell_type": "code",
      "source": [
        "print(Hello('apple'))\n",
        "print(Hello(None))"
      ],
      "metadata": {
        "colab": {
          "base_uri": "https://localhost:8080/"
        },
        "id": "FxYQ0gPwA-c5",
        "outputId": "c47fd58d-13de-45ea-8add-0858bf0f2163"
      },
      "execution_count": 32,
      "outputs": [
        {
          "output_type": "stream",
          "name": "stdout",
          "text": [
            "Hello, apple!\n",
            "Hello, Guest!\n"
          ]
        }
      ]
    },
    {
      "cell_type": "code",
      "source": [
        "# 리턴타입의 옵셔널\n",
        "def find_user(user_id: int) -> str | None:\n",
        "    if user_id == 1:\n",
        "        return \"apple\"\n",
        "    return None"
      ],
      "metadata": {
        "id": "VVE9Up-oBHTK"
      },
      "execution_count": 48,
      "outputs": []
    },
    {
      "cell_type": "code",
      "source": [
        "find_user(1) # returns apple"
      ],
      "metadata": {
        "id": "1f5UED6iB-S-",
        "colab": {
          "base_uri": "https://localhost:8080/",
          "height": 35
        },
        "outputId": "273c1abb-46ee-4957-bc18-155dedbd303a"
      },
      "execution_count": 52,
      "outputs": [
        {
          "output_type": "execute_result",
          "data": {
            "text/plain": [
              "'apple'"
            ],
            "application/vnd.google.colaboratory.intrinsic+json": {
              "type": "string"
            }
          },
          "metadata": {},
          "execution_count": 52
        }
      ]
    },
    {
      "cell_type": "code",
      "source": [
        "find_user(99) # returns none"
      ],
      "metadata": {
        "id": "MlF-vP0ZB7oH"
      },
      "execution_count": 53,
      "outputs": []
    },
    {
      "cell_type": "code",
      "source": [
        "# dictionary\n",
        "users: dict[int, str] = {\n",
        "    1: \"apple\",\n",
        "    2: \"banana\"\n",
        "}\n",
        "\n",
        "def get_user(user_id: int) -> str | None: # returns string or None\n",
        "    return users.get(user_id)"
      ],
      "metadata": {
        "id": "33EpYDgIBxwt"
      },
      "execution_count": 54,
      "outputs": []
    },
    {
      "cell_type": "code",
      "source": [
        "get_user(1)"
      ],
      "metadata": {
        "colab": {
          "base_uri": "https://localhost:8080/",
          "height": 35
        },
        "id": "_0Ew_nWsBzHI",
        "outputId": "bb79fb4d-4aa3-474f-ea98-2b2b76587be1"
      },
      "execution_count": 44,
      "outputs": [
        {
          "output_type": "execute_result",
          "data": {
            "text/plain": [
              "'apple'"
            ],
            "application/vnd.google.colaboratory.intrinsic+json": {
              "type": "string"
            }
          },
          "metadata": {},
          "execution_count": 44
        }
      ]
    },
    {
      "cell_type": "code",
      "source": [
        "get_user(2)"
      ],
      "metadata": {
        "colab": {
          "base_uri": "https://localhost:8080/",
          "height": 35
        },
        "id": "xT6sEyqRB0dd",
        "outputId": "e63e979d-6ff3-4d88-b24a-ebbc61a19287"
      },
      "execution_count": 45,
      "outputs": [
        {
          "output_type": "execute_result",
          "data": {
            "text/plain": [
              "'banana'"
            ],
            "application/vnd.google.colaboratory.intrinsic+json": {
              "type": "string"
            }
          },
          "metadata": {},
          "execution_count": 45
        }
      ]
    },
    {
      "cell_type": "code",
      "source": [
        "get_user(3) # does not cause err"
      ],
      "metadata": {
        "id": "AsKlz3_AB2XA"
      },
      "execution_count": 46,
      "outputs": []
    },
    {
      "cell_type": "markdown",
      "source": [
        "# 7. Any\n",
        "Any는 특정 타입을 지정할 수 없을 때 사용하는 타입 힌트용 특수 타입입니다."
      ],
      "metadata": {
        "id": "2pPJtamIB4XK"
      }
    },
    {
      "cell_type": "code",
      "source": [
        "from typing import Any # typing 이라는 모듈을 사용해야만 any를 쓸 수 있다.\n",
        "\n",
        "def process(data: Any) -> None: # 모든 타입을 넣을 수 있다.\n",
        "    print(data)"
      ],
      "metadata": {
        "id": "UwbKpIBJCTea"
      },
      "execution_count": 55,
      "outputs": []
    },
    {
      "cell_type": "code",
      "source": [
        "process('안녕')"
      ],
      "metadata": {
        "colab": {
          "base_uri": "https://localhost:8080/"
        },
        "id": "3ATcoxF7CgKO",
        "outputId": "ab045b58-2cb7-480b-cb0c-9872ad936e7b"
      },
      "execution_count": 56,
      "outputs": [
        {
          "output_type": "stream",
          "name": "stdout",
          "text": [
            "안녕\n"
          ]
        }
      ]
    },
    {
      "cell_type": "code",
      "source": [
        "process(1)"
      ],
      "metadata": {
        "colab": {
          "base_uri": "https://localhost:8080/"
        },
        "id": "HAe8TQyGCh8N",
        "outputId": "1c117830-a9fa-4a30-d65c-18d1ecd007d1"
      },
      "execution_count": 57,
      "outputs": [
        {
          "output_type": "stream",
          "name": "stdout",
          "text": [
            "1\n"
          ]
        }
      ]
    }
  ]
}