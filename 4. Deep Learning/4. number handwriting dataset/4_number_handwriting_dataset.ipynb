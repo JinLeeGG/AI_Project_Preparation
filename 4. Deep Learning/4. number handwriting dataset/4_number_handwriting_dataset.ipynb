{
  "nbformat": 4,
  "nbformat_minor": 0,
  "metadata": {
    "colab": {
      "provenance": [],
      "authorship_tag": "ABX9TyMvCIji7TwPKLBzi6Ls2u43",
      "include_colab_link": true
    },
    "kernelspec": {
      "name": "python3",
      "display_name": "Python 3"
    },
    "language_info": {
      "name": "python"
    }
  },
  "cells": [
    {
      "cell_type": "markdown",
      "metadata": {
        "id": "view-in-github",
        "colab_type": "text"
      },
      "source": [
        "<a href=\"https://colab.research.google.com/github/JinLeeGG/AI_Project_Preparation/blob/main/4.%20Deep%20Learning/4.%20number%20handwriting%20dataset/4_number_handwriting_dataset.ipynb\" target=\"_parent\"><img src=\"https://colab.research.google.com/assets/colab-badge.svg\" alt=\"Open In Colab\"/></a>"
      ]
    },
    {
      "cell_type": "markdown",
      "source": [
        "https://ryuzyproject.tistory.com/75?category=1177429\n",
        "\n",
        "dataset:\n",
        "https://scikit-learn.org/stable/modules/generated/sklearn.datasets.load_digits.html"
      ],
      "metadata": {
        "id": "vq7rKNanNBtG"
      }
    },
    {
      "cell_type": "markdown",
      "source": [
        "# 1. 손 글씨 숫자 데이터셋\n",
        "손글씨 숫자 데이터셋은 0부터 9까지의 숫자를 손글씨로 쓴 흑백 이미지로 구성되어 있으며, 각 이미지는 8x8 픽셀 크기의 64차원 벡터로 표현됩니다. 각 픽셀 값은 0(흰색)에서 16(검은색)까지의 명암값을 가집니다. 이 데이터는 총 1797개의 샘플로 이루어져 있으며, 각 샘플에는 숫자 클래스(0~9)가 레이블로 붙어 있습니다. 주로 분류 알고리즘을 학습시키거나 데이터 시각화, 차원 축소 기법 등을 실험하는 데 사용됩니다.\n",
        "\n"
      ],
      "metadata": {
        "id": "k3dQtk78NAlm"
      }
    },
    {
      "cell_type": "code",
      "source": [
        "import torch\n",
        "import torch.nn as nn\n",
        "import torch.optim as optim\n",
        "import matplotlib.pyplot as plt\n",
        "from sklearn.datasets import load_digits # dataset을 불러오기 위한 load_digits\n",
        "from sklearn.model_selection import train_test_split\n",
        "from torch.utils.data import DataLoader # batch 단위로 나누어서 데이터셋을 모델에 제공"
      ],
      "metadata": {
        "id": "a27eRn02NjJU"
      },
      "execution_count": 46,
      "outputs": []
    },
    {
      "cell_type": "code",
      "source": [
        "# 데이터 불러오기\n",
        "digits = load_digits()\n",
        "\n",
        "# 데이터 보기\n",
        "X_data = digits['data'] # 밝기 데이터가 들어있다.\n",
        "X_data"
      ],
      "metadata": {
        "colab": {
          "base_uri": "https://localhost:8080/"
        },
        "id": "EyKFpYiKNk7O",
        "outputId": "a9caebe5-5340-46b9-a2e4-6a81f775b3ba"
      },
      "execution_count": 47,
      "outputs": [
        {
          "output_type": "execute_result",
          "data": {
            "text/plain": [
              "array([[ 0.,  0.,  5., ...,  0.,  0.,  0.],\n",
              "       [ 0.,  0.,  0., ..., 10.,  0.,  0.],\n",
              "       [ 0.,  0.,  0., ..., 16.,  9.,  0.],\n",
              "       ...,\n",
              "       [ 0.,  0.,  1., ...,  6.,  0.,  0.],\n",
              "       [ 0.,  0.,  2., ..., 12.,  0.,  0.],\n",
              "       [ 0.,  0., 10., ..., 12.,  1.,  0.]])"
            ]
          },
          "metadata": {},
          "execution_count": 47
        }
      ]
    },
    {
      "cell_type": "code",
      "source": [
        "y_data = digits['target']\n",
        "y_data # 정답이 들어있다."
      ],
      "metadata": {
        "colab": {
          "base_uri": "https://localhost:8080/"
        },
        "id": "em7o1iJNOaw4",
        "outputId": "a9c638eb-f5f7-4faa-83e4-a6f7e2b0ce82"
      },
      "execution_count": 48,
      "outputs": [
        {
          "output_type": "execute_result",
          "data": {
            "text/plain": [
              "array([0, 1, 2, ..., 8, 9, 8])"
            ]
          },
          "metadata": {},
          "execution_count": 48
        }
      ]
    },
    {
      "cell_type": "code",
      "source": [
        "print(X_data.shape) # 이미지 자체\n",
        "print(y_data.shape) # 정답"
      ],
      "metadata": {
        "colab": {
          "base_uri": "https://localhost:8080/"
        },
        "id": "nlPzioCSOeU0",
        "outputId": "b22390ce-1be5-4dbe-9937-96ece04a8547"
      },
      "execution_count": 49,
      "outputs": [
        {
          "output_type": "stream",
          "name": "stdout",
          "text": [
            "(1797, 64)\n",
            "(1797,)\n"
          ]
        }
      ]
    },
    {
      "cell_type": "code",
      "source": [
        "# 데이터 보기\n",
        "fig, axes = plt.subplots(nrows=2, ncols=5, figsize=(14, 8)) # 축을 2행 5열\n",
        "\n",
        "for i, ax in enumerate(axes.flatten()): # 일렬로 만드는 과정 (10바퀴를 돌린다.)\n",
        "    ax.imshow(X_data[i].reshape((8, 8)), cmap='gray')\n",
        "    ax.set_title(y_data[i])\n",
        "    ax.axis('off')"
      ],
      "metadata": {
        "colab": {
          "base_uri": "https://localhost:8080/",
          "height": 443
        },
        "id": "fhGmNfPbOhZL",
        "outputId": "4b5225c2-55c4-4be8-e0c9-78b6518b3381"
      },
      "execution_count": 50,
      "outputs": [
        {
          "output_type": "display_data",
          "data": {
            "text/plain": [
              "<Figure size 1400x800 with 10 Axes>"
            ],
            "image/png": "[encoded data removed]"
          },
          "metadata": {}
        }
      ]
    },
    {
      "cell_type": "code",
      "source": [
        "X_data = torch.FloatTensor(X_data)\n",
        "y_data = torch.LongTensor(y_data) # 결과가 class로 나올것이기 때문에 LongTensor로 넣어준다.\n",
        "\n",
        "print(X_data.shape)\n",
        "print(y_data.shape)"
      ],
      "metadata": {
        "colab": {
          "base_uri": "https://localhost:8080/"
        },
        "id": "xLwwlZ0POqV9",
        "outputId": "8dd1b141-ef31-45b9-f432-c24546bc0618"
      },
      "execution_count": 51,
      "outputs": [
        {
          "output_type": "stream",
          "name": "stdout",
          "text": [
            "torch.Size([1797, 64])\n",
            "torch.Size([1797])\n"
          ]
        }
      ]
    },
    {
      "cell_type": "code",
      "source": [
        "x_train, x_test, y_train, y_test = train_test_split(X_data, y_data, test_size=0.2, random_state=2025)\n",
        "print(x_train.shape, y_train.shape) # train data\n",
        "print(x_test.shape, y_test.shape) # test data"
      ],
      "metadata": {
        "colab": {
          "base_uri": "https://localhost:8080/"
        },
        "id": "jDnGcBA4P4JE",
        "outputId": "bdfcac51-c80e-4077-c4fa-ee1eb6c42f2d"
      },
      "execution_count": 52,
      "outputs": [
        {
          "output_type": "stream",
          "name": "stdout",
          "text": [
            "torch.Size([1437, 64]) torch.Size([1437])\n",
            "torch.Size([360, 64]) torch.Size([360])\n"
          ]
        }
      ]
    },
    {
      "cell_type": "markdown",
      "source": [
        "# 2. 데이터 로더\n",
        "데이터로더(Data Loader)는 데이터셋을 효율적으로 관리하고, 모델 학습 과정에서 데이터를 쉽게 가져올 수 있도록 도와주는 도구입니다. 일반적으로 데이터셋을 배치(batch) 단위로 나누어 모델에 제공하며, 데이터의 크기가 클 경우에도 메모리 효율적으로 처리할 수 있도록 설계되었습니다. 데이터 증강, 셔플링, 병렬 처리와 같은 기능을 지원하여 학습 성능을 향상시키고, 모델 학습과 평가 시 일관된 데이터 제공 방식을 유지합니다. 딥러닝 프레임워크에서는 PyTorch의 DataLoader나 TensorFlow의 tf.data 같은 도구를 통해 쉽게 사용할 수 있습니다."
      ],
      "metadata": {
        "id": "iIoiEJclQGWh"
      }
    },
    {
      "cell_type": "markdown",
      "source": [
        "### ※ 데이터로더의 주요 역할\n",
        "\n",
        "1. 배치 처리: 데이터를 지정된 크기의 배치로 나누어 모델에 제공.\n",
        "2. 셔플링: 데이터 순서를 무작위로 섞어 과적합 방지.\n",
        "3. 병렬 처리: num_workers 옵션을 통해 데이터를 병렬로 로드하여 속도 향상.\n",
        "4. 반복 처리: 학습 epoch 동안 데이터를 자동으로 반복해서 제공."
      ],
      "metadata": {
        "id": "drVk7Cm9QMJ2"
      }
    },
    {
      "cell_type": "code",
      "source": [
        "loader = DataLoader(\n",
        "    dataset = list(zip(x_train, y_train)), # 문제집 데이터(x_train)와 정답 데이터(y_train)를 하나씩 짝지어 전체 데이터셋을 만듭니다.\n",
        "    batch_size = 64, # 64개씩 데이터를 제공\n",
        "    shuffle = True, # 데이터 섞임을 True\n",
        "    drop_last = False # 학습하고 남은 데이터를 버리지 않고 사용한다.\n",
        ")\n",
        "\n",
        "# 64개의 img, 정답들을 각각 뽑아준다.\n",
        "imgs, labels = next(iter(loader)) #iter() iterator로 만들어주는 함수 (순서가 있는 함수 )\n",
        "\n",
        "# 시각화\n",
        "fig, axes = plt.subplots(nrows=8, ncols=8, figsize=(14, 14))\n",
        "\n",
        "for ax, img, label in zip(axes.flatten(), imgs, labels):\n",
        "    ax.imshow(img.reshape((8, 8)), cmap='gray')\n",
        "    ax.set_title(str(label))\n",
        "    ax.axis('off')"
      ],
      "metadata": {
        "colab": {
          "base_uri": "https://localhost:8080/",
          "height": 863
        },
        "id": "iG77HrnCRKvu",
        "outputId": "51d34c11-7acd-4cd2-f8f5-25a4bfeba38e"
      },
      "execution_count": 53,
      "outputs": [
        {
          "output_type": "display_data",
          "data": {
            "text/plain": [
              "<Figure size 1400x1400 with 64 Axes>"
            ],
            "image/png": "[encoded data removed]"
          },
          "metadata": {}
        }
      ]
    },
    {
      "cell_type": "markdown",
      "source": [
        "### ※ axes.flatten()\n",
        "\n",
        "axes.flatten()은 다차원 배열 형태로 구성된 Matplotlib의 서브플롯 배열을 1차원 배열로 변환하는 메서드입니다. Matplotlib에서 다수의 서브플롯을 생성할 때, plt.subplots()는 2차원 배열 형태로 서브플롯 객체를 반환합니다. 이 배열은 각 서브플롯을 접근하기 위해 행과 열의 인덱스를 사용해야 하지만, flatten() 메서드를 사용하면 이 배열을 1차원으로 펼쳐서 각 서브플롯을 단일 인덱스로 순회할 수 있게 됩니다."
      ],
      "metadata": {
        "id": "vFSelB53TQX2"
      }
    },
    {
      "cell_type": "code",
      "source": [
        "model = nn.Sequential(\n",
        "    nn.Linear(64, 10) # 64개의 인풋, 10개 아웃풋\n",
        ")\n",
        "\n",
        "optimizer = optim.Adam(model.parameters(), lr=0.01) # optimizer\n",
        "\n",
        "epochs = 50 # 50바퀴동안 학습\n",
        "for epoch in range(epochs + 1):\n",
        "    sum_losses = 0 # 전체 lost 값\n",
        "    sum_accs = 0 # 전체 accuracy 값\n",
        "\n",
        "    # x_batch 이미지, ybatch 정답\n",
        "    for x_batch, y_batch in loader:  # loader의 개수만큼 돌기 1437개/64 의 값\n",
        "        y_pred = model(x_batch) # 이미지를 넣어서 예측\n",
        "        loss = nn.CrossEntropyLoss()(y_pred, y_batch) # 다항으로 분류\n",
        "\n",
        "        optimizer.zero_grad()\n",
        "        loss.backward()\n",
        "        optimizer.step()\n",
        "\n",
        "        sum_losses = sum_losses + loss # 오차값 누적 업데이트\n",
        "\n",
        "        y_prob = nn.Softmax(1)(y_pred) # 확률적으로 누가 가장 높은지 뽑기\n",
        "\n",
        "        y_pred_index = torch.argmax(y_prob, axis=1) # 그 인덱스번호를 이 확률에서 구해주기 (0~9중)\n",
        "\n",
        "        acc = (y_batch == y_pred_index).float().sum() / len(y_batch) * 100 # accuracy 구하기\n",
        "\n",
        "        sum_accs = sum_accs + acc # 정확도 누적 업데이트\n",
        "\n",
        "    avg_loss = sum_losses / len(loader)\n",
        "    avg_acc = sum_accs / len(loader)\n",
        "    print(f'Epoch {epoch:4d}/{epochs} Loss: {avg_loss:.6f} Accuracy: {avg_acc:.2f}%')"
      ],
      "metadata": {
        "colab": {
          "base_uri": "https://localhost:8080/"
        },
        "id": "jSkmPs7hTpcW",
        "outputId": "33014003-51dd-46f7-dfc1-59ba8bdfbeaa"
      },
      "execution_count": 54,
      "outputs": [
        {
          "output_type": "stream",
          "name": "stdout",
          "text": [
            "Epoch    0/50 Loss: 1.623254 Accuracy: 60.41%\n",
            "Epoch    1/50 Loss: 0.285067 Accuracy: 91.72%\n",
            "Epoch    2/50 Loss: 0.177013 Accuracy: 94.06%\n",
            "Epoch    3/50 Loss: 0.124482 Accuracy: 95.92%\n",
            "Epoch    4/50 Loss: 0.101437 Accuracy: 97.01%\n",
            "Epoch    5/50 Loss: 0.086160 Accuracy: 97.62%\n",
            "Epoch    6/50 Loss: 0.072557 Accuracy: 97.96%\n",
            "Epoch    7/50 Loss: 0.067238 Accuracy: 98.03%\n",
            "Epoch    8/50 Loss: 0.065505 Accuracy: 98.14%\n",
            "Epoch    9/50 Loss: 0.068358 Accuracy: 97.88%\n",
            "Epoch   10/50 Loss: 0.055087 Accuracy: 98.42%\n",
            "Epoch   11/50 Loss: 0.049443 Accuracy: 98.64%\n",
            "Epoch   12/50 Loss: 0.044767 Accuracy: 98.98%\n",
            "Epoch   13/50 Loss: 0.047144 Accuracy: 98.56%\n",
            "Epoch   14/50 Loss: 0.044470 Accuracy: 98.71%\n",
            "Epoch   15/50 Loss: 0.036468 Accuracy: 99.25%\n",
            "Epoch   16/50 Loss: 0.033499 Accuracy: 99.17%\n",
            "Epoch   17/50 Loss: 0.031408 Accuracy: 99.32%\n",
            "Epoch   18/50 Loss: 0.035331 Accuracy: 99.22%\n",
            "Epoch   19/50 Loss: 0.030917 Accuracy: 99.12%\n",
            "Epoch   20/50 Loss: 0.035374 Accuracy: 99.05%\n",
            "Epoch   21/50 Loss: 0.025784 Accuracy: 99.59%\n",
            "Epoch   22/50 Loss: 0.020979 Accuracy: 99.66%\n",
            "Epoch   23/50 Loss: 0.019547 Accuracy: 99.80%\n",
            "Epoch   24/50 Loss: 0.022838 Accuracy: 99.39%\n",
            "Epoch   25/50 Loss: 0.022187 Accuracy: 99.73%\n",
            "Epoch   26/50 Loss: 0.027257 Accuracy: 99.25%\n",
            "Epoch   27/50 Loss: 0.019020 Accuracy: 99.66%\n",
            "Epoch   28/50 Loss: 0.016515 Accuracy: 99.80%\n",
            "Epoch   29/50 Loss: 0.013795 Accuracy: 99.80%\n",
            "Epoch   30/50 Loss: 0.015345 Accuracy: 99.86%\n",
            "Epoch   31/50 Loss: 0.012487 Accuracy: 99.93%\n",
            "Epoch   32/50 Loss: 0.015725 Accuracy: 99.73%\n",
            "Epoch   33/50 Loss: 0.011036 Accuracy: 99.93%\n",
            "Epoch   34/50 Loss: 0.013808 Accuracy: 99.86%\n",
            "Epoch   35/50 Loss: 0.011139 Accuracy: 99.93%\n",
            "Epoch   36/50 Loss: 0.012065 Accuracy: 99.80%\n",
            "Epoch   37/50 Loss: 0.009441 Accuracy: 99.93%\n",
            "Epoch   38/50 Loss: 0.012178 Accuracy: 99.78%\n",
            "Epoch   39/50 Loss: 0.012709 Accuracy: 99.86%\n",
            "Epoch   40/50 Loss: 0.009257 Accuracy: 100.00%\n",
            "Epoch   41/50 Loss: 0.009577 Accuracy: 99.80%\n",
            "Epoch   42/50 Loss: 0.008099 Accuracy: 100.00%\n",
            "Epoch   43/50 Loss: 0.008339 Accuracy: 99.93%\n",
            "Epoch   44/50 Loss: 0.006698 Accuracy: 100.00%\n",
            "Epoch   45/50 Loss: 0.009741 Accuracy: 100.00%\n",
            "Epoch   46/50 Loss: 0.010737 Accuracy: 99.80%\n",
            "Epoch   47/50 Loss: 0.008190 Accuracy: 99.86%\n",
            "Epoch   48/50 Loss: 0.007057 Accuracy: 99.93%\n",
            "Epoch   49/50 Loss: 0.006182 Accuracy: 100.00%\n",
            "Epoch   50/50 Loss: 0.005783 Accuracy: 100.00%\n"
          ]
        }
      ]
    },
    {
      "cell_type": "code",
      "source": [
        "# 테스트 데이터 중 10번쨰 있는걸 가져온다.\n",
        "# 8 * 8 로 바꿔준다.\n",
        "# cmap 으로 바꾼뒤 화면에 띄어준다.\n",
        "plt.imshow(x_test[10].reshape((8, 8)), cmap='gray')\n",
        "print(y_test[10])"
      ],
      "metadata": {
        "colab": {
          "base_uri": "https://localhost:8080/",
          "height": 448
        },
        "id": "QU4EgQWBgqcs",
        "outputId": "4fa0d3a4-9473-4f04-a492-ea1fda71b3a3"
      },
      "execution_count": 55,
      "outputs": [
        {
          "output_type": "stream",
          "name": "stdout",
          "text": [
            "tensor(5)\n"
          ]
        },
        {
          "output_type": "display_data",
          "data": {
            "text/plain": [
              "<Figure size 640x480 with 1 Axes>"
            ],
            "image/png": "[encoded data removed]"
          },
          "metadata": {}
        }
      ]
    },
    {
      "cell_type": "code",
      "source": [
        "# 테스트를 통째로 모델에 넣어준다.\n",
        "y_pred = model(x_test)\n",
        "y_pred[10] # y test의 10번째는?\n",
        "\n",
        "# weight의 의한 값들이 쭉 나온다."
      ],
      "metadata": {
        "colab": {
          "base_uri": "https://localhost:8080/"
        },
        "id": "2ACEhQDsg_uU",
        "outputId": "877b9d75-b3b3-4686-b80b-17d120781a14"
      },
      "execution_count": 56,
      "outputs": [
        {
          "output_type": "execute_result",
          "data": {
            "text/plain": [
              "tensor([ -4.6648, -11.4085,  -5.3918,  -1.4652,  -6.2488,  11.0734,  -9.6975,\n",
              "          0.7465,   0.6387,  -7.0925], grad_fn=<SelectBackward0>)"
            ]
          },
          "metadata": {},
          "execution_count": 56
        }
      ]
    },
    {
      "cell_type": "code",
      "source": [
        "y_prob = nn.Softmax(1)(y_pred) # 1은 행을 의미하고 0은 열을 의미한다. 따라서 이건 행을 가져온다.\n",
        "y_prob[10] # 확율을 가져온다."
      ],
      "metadata": {
        "colab": {
          "base_uri": "https://localhost:8080/"
        },
        "id": "5ndJp-iUhRVu",
        "outputId": "7e5f2db1-08fb-4a0f-dae8-4388e6f07dfe"
      },
      "execution_count": 57,
      "outputs": [
        {
          "output_type": "execute_result",
          "data": {
            "text/plain": [
              "tensor([1.4620e-07, 1.7228e-10, 7.0670e-08, 3.5854e-06, 2.9995e-08, 9.9993e-01,\n",
              "        9.5341e-10, 3.2741e-05, 2.9393e-05, 1.2901e-08],\n",
              "       grad_fn=<SelectBackward0>)"
            ]
          },
          "metadata": {},
          "execution_count": 57
        }
      ]
    },
    {
      "cell_type": "code",
      "source": [
        "for i in range(10):\n",
        "    print(f'숫자 {i}일 확률: {y_prob[10][i]:.2f}')"
      ],
      "metadata": {
        "colab": {
          "base_uri": "https://localhost:8080/"
        },
        "id": "81EXsdwjhwxE",
        "outputId": "04917c9c-cb3a-4a2a-e997-3be3072fa5d5"
      },
      "execution_count": 58,
      "outputs": [
        {
          "output_type": "stream",
          "name": "stdout",
          "text": [
            "숫자 0일 확률: 0.00\n",
            "숫자 1일 확률: 0.00\n",
            "숫자 2일 확률: 0.00\n",
            "숫자 3일 확률: 0.00\n",
            "숫자 4일 확률: 0.00\n",
            "숫자 5일 확률: 1.00\n",
            "숫자 6일 확률: 0.00\n",
            "숫자 7일 확률: 0.00\n",
            "숫자 8일 확률: 0.00\n",
            "숫자 9일 확률: 0.00\n"
          ]
        }
      ]
    },
    {
      "cell_type": "code",
      "source": [
        "y_pred_index = torch.argmax(y_prob, axis=1)\n",
        "accuracy = (y_test == y_pred_index).float().sum() / len(y_test) * 100\n",
        "print(f'테스트 정확도는 {accuracy: .2f}% 입니다.')"
      ],
      "metadata": {
        "colab": {
          "base_uri": "https://localhost:8080/"
        },
        "id": "x277Yvj7iCo_",
        "outputId": "a342f2c3-3afa-43d6-cbdb-bf35ea722d36"
      },
      "execution_count": 59,
      "outputs": [
        {
          "output_type": "stream",
          "name": "stdout",
          "text": [
            "테스트 정확도는  97.22% 입니다.\n"
          ]
        }
      ]
    },
    {
      "cell_type": "markdown",
      "source": [
        "# 3. 데이터 증강\n",
        "데이터 증강(Data Augmentation)은 학습 데이터를 인위적으로 변환하여 데이터셋의 다양성을 높이고 모델의 일반화 성능을 향상시키는 기법입니다. 회전, 크기 조정, 반전, 블러링, 밝기 조정 등 다양한 변환을 적용하여 원본 데이터로부터 새로운 데이터를 생성합니다. 이를 통해 데이터 부족 문제를 완화하고 모델이 특정 패턴에 과적합되지 않도록 도와줍니다. 특히, 이미지나 음성 데이터와 같이 특징이 직관적인 데이터에서 효과적으로 활용되며, 증강된 데이터는 모델이 예측 대상의 다양한 변형에 대해 강하게 학습할 수 있도록 돕습니다."
      ],
      "metadata": {
        "id": "ARgQdrvpjLDl"
      }
    },
    {
      "cell_type": "code",
      "source": [
        "from torchvision import transforms # 데이터를 변형시켜주는 모듈\n",
        "from torch.utils.data import TensorDataset #  Tensor형의 데이터셋을 만들 수 있게 해주는 모듈\n",
        "from torch.utils.data import Dataset"
      ],
      "metadata": {
        "id": "QTgMHlqRjN2U"
      },
      "execution_count": 60,
      "outputs": []
    },
    {
      "cell_type": "code",
      "source": [
        "X_train, X_test, y_train, y_test = train_test_split(X_data, y_data, test_size=0.2, random_state=2025)\n",
        "print(X_train.shape, y_train.shape)\n",
        "print(X_train.shape, y_test.shape)"
      ],
      "metadata": {
        "colab": {
          "base_uri": "https://localhost:8080/"
        },
        "id": "IL8FoQKAj3tZ",
        "outputId": "e386e6d5-6815-419e-9c02-aca1fd1e05b5"
      },
      "execution_count": 61,
      "outputs": [
        {
          "output_type": "stream",
          "name": "stdout",
          "text": [
            "torch.Size([1437, 64]) torch.Size([1437])\n",
            "torch.Size([1437, 64]) torch.Size([360])\n"
          ]
        }
      ]
    },
    {
      "cell_type": "code",
      "source": [
        "# tensor형으로 데이터셋 만들어놓기\n",
        "train_dataset = TensorDataset(X_train, y_train)\n",
        "test_dataset = TensorDataset(X_test, y_test)"
      ],
      "metadata": {
        "id": "FNBeV4qknyNM"
      },
      "execution_count": 62,
      "outputs": []
    },
    {
      "cell_type": "code",
      "source": [
        "# transforms는 데이터를 변환해주는 기능\n",
        "# compose는 기능들을 묶어서 순차적으로 변환시켜준다.\n",
        "transform = transforms.Compose([\n",
        "    transforms.RandomRotation(10),\n",
        "    transforms.RandomAffine(0, shear=5, scale=(0.9, 1.1)),\n",
        "])"
      ],
      "metadata": {
        "id": "U2w4Am3ykOoB"
      },
      "execution_count": 63,
      "outputs": []
    },
    {
      "cell_type": "markdown",
      "source": [
        "### ※ transforms.Compose\n",
        "\n",
        "여러 데이터 변환(transform) 작업을 순차적으로 적용할 수 있도록 해줍니다. 이미지 데이터 전처리와 증강 과정에서 자주 사용되며, 각 변환을 하나의 리스트로 묶어 실행합니다.\n",
        "\n",
        "\n",
        "\n",
        "1. transforms.RandomRotation(10)\n",
        "\n",
        "    - 기능: 이미지를 -10도에서 +10도 사이로 무작위 회전시킵니다.\n",
        "      - 10은 회전 범위를 나타냅니다.\n",
        "      - 각 호출 시, -10도 ~ +10도 범위에서 무작위로 각도를 선택하여 이미지를 회전합니다.\n",
        "\n",
        "2. transforms.RandomAffine(0, shear=5, scale=(0.9, 1.1))\n",
        "\n",
        "    - 기능: 이미지를 비틀기(shear), 크기 조정(scale) 등의 변환을 수행합니다.\n",
        "      - 0: 회전(각도) 변환을 수행하지 않음을 의미합니다.\n",
        "      - shear=5: 이미지를 최대 5도만큼 비스듬하게 비틀기(shear) 변환을 수행합니다.\n",
        "\n",
        "        - 예: 정사각형이 평행사변형처럼 기울어질 수 있습니다.\n",
        "\n",
        "      - scale=(0.9, 1.1):\n",
        "        - 이미지를 0.9배(축소)에서 1.1배(확대) 범위 내에서 무작위 크기 조정을 수행합니다.\n",
        "        - 각 호출 시, 무작위로 크기가 변경됩니다."
      ],
      "metadata": {
        "id": "rqg-n2bwkoLp"
      }
    },
    {
      "cell_type": "code",
      "source": [
        "# 직접 데이터셋 만들기\n",
        "# 데이터셋 자체에다가 부여할 수 있는 기능들을 사용할수 있게 해준다.\n",
        "class AugmentedDataset(Dataset):\n",
        "    def __init__(self, dataset, transform):\n",
        "        self.dataset = dataset\n",
        "        self.transform = transform\n",
        "\n",
        "    # len special method\n",
        "    def __len__(self):\n",
        "        return len(self.dataset)\n",
        "\n",
        "    def __getitem__(self, idx):\n",
        "        x, y = self.dataset[idx]\n",
        "        x = x.view(8, 8).unsqueeze(0)  # 8x8 이미지를 1채널로 변환 (1, 8, 8) 1은 grey채널\n",
        "        x = self.transform(x)  # 증강 적용\n",
        "        return x.flatten(), y  # 다시 Flatten"
      ],
      "metadata": {
        "id": "gFxOQyU4lwKd"
      },
      "execution_count": 64,
      "outputs": []
    },
    {
      "cell_type": "code",
      "source": [
        "augmented_train_dataset = AugmentedDataset(train_dataset, transform)"
      ],
      "metadata": {
        "id": "5m6pyNn2mODF"
      },
      "execution_count": 65,
      "outputs": []
    },
    {
      "cell_type": "code",
      "source": [
        "len(augmented_train_dataset)"
      ],
      "metadata": {
        "colab": {
          "base_uri": "https://localhost:8080/"
        },
        "id": "FI2cyByQosRd",
        "outputId": "cb2e12e2-004d-4c02-d76f-ecd954cae184"
      },
      "execution_count": 69,
      "outputs": [
        {
          "output_type": "execute_result",
          "data": {
            "text/plain": [
              "1437"
            ]
          },
          "metadata": {},
          "execution_count": 69
        }
      ]
    },
    {
      "cell_type": "code",
      "source": [
        "augmented_train_dataset[0] # 색상정보, 9를 나타내는 정보"
      ],
      "metadata": {
        "colab": {
          "base_uri": "https://localhost:8080/"
        },
        "id": "y8W9jn5en5su",
        "outputId": "ea1cd771-8062-4e72-9f14-9a456d88cf40"
      },
      "execution_count": 67,
      "outputs": [
        {
          "output_type": "execute_result",
          "data": {
            "text/plain": [
              "(tensor([ 0.,  0.,  9., 13.,  7.,  0.,  0.,  0.,  0.,  0., 12., 16., 16.,  2.,\n",
              "          0.,  0.,  0.,  0., 12., 13., 16.,  6.,  0.,  0.,  0.,  0.,  6., 16.,\n",
              "         16., 14.,  0.,  0.,  0.,  0.,  0.,  0.,  2., 16.,  3.,  0.,  0.,  0.,\n",
              "          0.,  0.,  0.,  9., 10.,  0.,  0.,  0.,  3.,  7., 12., 14., 16.,  2.,\n",
              "          0.,  0.,  7., 12., 12., 12., 11.,  0.]),\n",
              " tensor(9))"
            ]
          },
          "metadata": {},
          "execution_count": 67
        }
      ]
    },
    {
      "cell_type": "code",
      "source": [
        "# 1437 / 64 = 22...번 돈다\n",
        "train_loader = DataLoader(augmented_train_dataset, batch_size=64, shuffle=True)\n",
        " # 테스트는 증강할 필요가 없음으로 그대로 사용\n",
        "test_loader = DataLoader(test_dataset, batch_size=64, shuffle=False)"
      ],
      "metadata": {
        "id": "SypxIxLcoVYi"
      },
      "execution_count": 70,
      "outputs": []
    },
    {
      "cell_type": "code",
      "source": [
        "imgs, labels = next(iter(train_loader))\n",
        "fig, axes = plt.subplots(nrows=8, ncols=8, figsize=(14, 14))\n",
        "\n",
        "for ax, img, label in zip(axes.flatten(), imgs, labels):\n",
        "    ax.imshow(img.reshape((8, 8)), cmap='gray')\n",
        "    ax.set_title(str(label))\n",
        "    ax.axis('off')"
      ],
      "metadata": {
        "colab": {
          "base_uri": "https://localhost:8080/",
          "height": 863
        },
        "id": "lELwBxm-pB0Q",
        "outputId": "c3d6ba55-7c26-48c2-dcbf-0a60af9490e4"
      },
      "execution_count": 71,
      "outputs": [
        {
          "output_type": "display_data",
          "data": {
            "text/plain": [
              "<Figure size 1400x1400 with 64 Axes>"
            ],
            "image/png": "[encoded data removed]"
          },
          "metadata": {}
        }
      ]
    },
    {
      "cell_type": "code",
      "source": [
        "# 64 * 64 image shape\n",
        "# 64 labels\n",
        "for images, labels in train_loader:\n",
        "    print(f\"Image batch shape: {images.shape}\")\n",
        "    print(f\"Label batch shape: {labels.shape}\")\n",
        "    break"
      ],
      "metadata": {
        "colab": {
          "base_uri": "https://localhost:8080/"
        },
        "id": "U3EUvh7xpe9E",
        "outputId": "c873eaf0-e64a-4e6f-ba80-19a34ad10d93"
      },
      "execution_count": 73,
      "outputs": [
        {
          "output_type": "stream",
          "name": "stdout",
          "text": [
            "Image batch shape: torch.Size([64, 64])\n",
            "Label batch shape: torch.Size([64])\n"
          ]
        }
      ]
    },
    {
      "cell_type": "code",
      "source": [
        "model = nn.Sequential(\n",
        "    nn.Linear(64, 10)\n",
        ")\n",
        "\n",
        "optimizer = optim.Adam(model.parameters(), lr=0.01)\n",
        "\n",
        "epochs = 100\n",
        "\n",
        "for epoch in range(epochs+1):\n",
        "    sum_losses = 0\n",
        "    sum_accs = 0\n",
        "\n",
        "    for x_batch, y_batch in train_loader:\n",
        "        y_pred = model(x_batch)  # 모델한테 먹이기\n",
        "        loss = nn.CrossEntropyLoss()(y_pred, y_batch) # 오차값 구하기\n",
        "\n",
        "        optimizer.zero_grad() # 가중치 갱신\n",
        "        loss.backward()\n",
        "        optimizer.step() # weight, bias 반영, 조정\n",
        "\n",
        "        sum_losses = sum_losses + loss # 오차값 더하기\n",
        "\n",
        "        y_prob = nn.Softmax(1)(y_pred)  # 예측값의 가장 높은 확율을 뽑기위해서 넣기\n",
        "        y_pred_index = torch.argmax(y_prob, axis=1) # 가장 높은 확율의 인덱스 뽑기\n",
        "        acc = (y_batch == y_pred_index).float().sum() / len(y_batch) * 100  # 정확도 뽑기\n",
        "        sum_accs = sum_accs + acc # 정확도 누적\n",
        "\n",
        "    if epoch % 10 == 0: # 10마다 갱신해서 보여주기\n",
        "        avg_loss = sum_losses / len(loader)\n",
        "        avg_acc = sum_accs / len(loader)\n",
        "        print(f'Epoch {epoch:4d}/{epochs} Loss: {avg_loss:.6f} Accuracy: {avg_acc:.2f}%')\n",
        ""
      ],
      "metadata": {
        "colab": {
          "base_uri": "https://localhost:8080/"
        },
        "id": "h1HhdmbCpjh3",
        "outputId": "57f85a33-7f4c-466f-a46b-92948f2c7012"
      },
      "execution_count": 75,
      "outputs": [
        {
          "output_type": "stream",
          "name": "stdout",
          "text": [
            "Epoch    0/100 Loss: 1.968044 Accuracy: 56.66%\n",
            "Epoch   10/100 Loss: 0.075420 Accuracy: 97.61%\n",
            "Epoch   20/100 Loss: 0.047813 Accuracy: 98.51%\n",
            "Epoch   30/100 Loss: 0.037405 Accuracy: 98.98%\n",
            "Epoch   40/100 Loss: 0.051519 Accuracy: 98.44%\n",
            "Epoch   50/100 Loss: 0.034560 Accuracy: 98.71%\n",
            "Epoch   60/100 Loss: 0.020270 Accuracy: 99.46%\n",
            "Epoch   70/100 Loss: 0.020109 Accuracy: 99.46%\n",
            "Epoch   80/100 Loss: 0.024128 Accuracy: 98.95%\n",
            "Epoch   90/100 Loss: 0.011635 Accuracy: 99.59%\n",
            "Epoch  100/100 Loss: 0.027546 Accuracy: 99.32%\n"
          ]
        }
      ]
    },
    {
      "cell_type": "code",
      "source": [
        "# 잘 맞추는지 확인\n",
        "plt.imshow(x_test[11].reshape((8, 8)), cmap='gray')\n",
        "print(y_test[11])"
      ],
      "metadata": {
        "colab": {
          "base_uri": "https://localhost:8080/",
          "height": 448
        },
        "id": "D4u4RfpwrmPQ",
        "outputId": "d1f8c984-33c6-42f2-87b6-95e66d2bf26d"
      },
      "execution_count": 76,
      "outputs": [
        {
          "output_type": "stream",
          "name": "stdout",
          "text": [
            "tensor(7)\n"
          ]
        },
        {
          "output_type": "display_data",
          "data": {
            "text/plain": [
              "<Figure size 640x480 with 1 Axes>"
            ],
            "image/png": "[encoded data removed]"
          },
          "metadata": {}
        }
      ]
    },
    {
      "cell_type": "code",
      "source": [
        "# 예측 한거에 11번을 꺼내기\n",
        "y_pred = model(x_test)\n",
        "y_pred[11]"
      ],
      "metadata": {
        "colab": {
          "base_uri": "https://localhost:8080/"
        },
        "id": "oCF1IRLErpyj",
        "outputId": "46cb98d4-27ee-4dd0-a445-bb10e38784f3"
      },
      "execution_count": 78,
      "outputs": [
        {
          "output_type": "execute_result",
          "data": {
            "text/plain": [
              "tensor([-17.8166,  -7.1620,  -2.6029,   5.5432, -10.2335,  -6.5548, -25.2926,\n",
              "         21.0026,  -6.8452,   5.3086], grad_fn=<SelectBackward0>)"
            ]
          },
          "metadata": {},
          "execution_count": 78
        }
      ]
    },
    {
      "cell_type": "code",
      "source": [
        "# 확률로 변환\n",
        "y_prob = nn.Softmax(1)(y_pred)\n",
        "y_prob[11]"
      ],
      "metadata": {
        "colab": {
          "base_uri": "https://localhost:8080/"
        },
        "id": "cvHbes07ru-J",
        "outputId": "07979f96-6a50-40a3-bdd8-485620001d01"
      },
      "execution_count": 79,
      "outputs": [
        {
          "output_type": "execute_result",
          "data": {
            "text/plain": [
              "tensor([1.3837e-17, 5.8646e-13, 5.6006e-11, 1.9322e-07, 2.7185e-14, 1.0764e-12,\n",
              "        7.8385e-21, 1.0000e+00, 8.0508e-13, 1.5282e-07],\n",
              "       grad_fn=<SelectBackward0>)"
            ]
          },
          "metadata": {},
          "execution_count": 79
        }
      ]
    },
    {
      "cell_type": "code",
      "source": [
        "for i in range(10):\n",
        "    print(f'숫자 {i}일 확률: {y_prob[11][i]:.2f}') # 확율내기"
      ],
      "metadata": {
        "colab": {
          "base_uri": "https://localhost:8080/"
        },
        "id": "W1o6hx0grxkb",
        "outputId": "f2dba355-2b04-4e76-a322-016d2817e721"
      },
      "execution_count": 81,
      "outputs": [
        {
          "output_type": "stream",
          "name": "stdout",
          "text": [
            "숫자 0일 확률: 0.00\n",
            "숫자 1일 확률: 0.00\n",
            "숫자 2일 확률: 0.00\n",
            "숫자 3일 확률: 0.00\n",
            "숫자 4일 확률: 0.00\n",
            "숫자 5일 확률: 0.00\n",
            "숫자 6일 확률: 0.00\n",
            "숫자 7일 확률: 1.00\n",
            "숫자 8일 확률: 0.00\n",
            "숫자 9일 확률: 0.00\n"
          ]
        }
      ]
    }
  ]
}