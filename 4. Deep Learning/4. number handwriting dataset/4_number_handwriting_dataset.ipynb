{
  "nbformat": 4,
  "nbformat_minor": 0,
  "metadata": {
    "colab": {
      "provenance": [],
      "authorship_tag": "ABX9TyOz3MFCbBYHF8Pq17AZ4H3A",
      "include_colab_link": true
    },
    "kernelspec": {
      "name": "python3",
      "display_name": "Python 3"
    },
    "language_info": {
      "name": "python"
    }
  },
  "cells": [
    {
      "cell_type": "markdown",
      "metadata": {
        "id": "view-in-github",
        "colab_type": "text"
      },
      "source": [
        "<a href=\"https://colab.research.google.com/github/JinLeeGG/AI_Project_Preparation/blob/main/4.%20Deep%20Learning/4.%20number%20handwriting%20dataset/4_number_handwriting_dataset.ipynb\" target=\"_parent\"><img src=\"https://colab.research.google.com/assets/colab-badge.svg\" alt=\"Open In Colab\"/></a>"
      ]
    },
    {
      "cell_type": "markdown",
      "source": [
        "https://ryuzyproject.tistory.com/75?category=1177429\n",
        "\n",
        "dataset:\n",
        "https://scikit-learn.org/stable/modules/generated/sklearn.datasets.load_digits.html"
      ],
      "metadata": {
        "id": "vq7rKNanNBtG"
      }
    },
    {
      "cell_type": "markdown",
      "source": [
        "# 1. 손 글씨 숫자 데이터셋\n",
        "손글씨 숫자 데이터셋은 0부터 9까지의 숫자를 손글씨로 쓴 흑백 이미지로 구성되어 있으며, 각 이미지는 8x8 픽셀 크기의 64차원 벡터로 표현됩니다. 각 픽셀 값은 0(흰색)에서 16(검은색)까지의 명암값을 가집니다. 이 데이터는 총 1797개의 샘플로 이루어져 있으며, 각 샘플에는 숫자 클래스(0~9)가 레이블로 붙어 있습니다. 주로 분류 알고리즘을 학습시키거나 데이터 시각화, 차원 축소 기법 등을 실험하는 데 사용됩니다.\n",
        "\n"
      ],
      "metadata": {
        "id": "k3dQtk78NAlm"
      }
    },
    {
      "cell_type": "code",
      "source": [
        "import torch\n",
        "import torch.nn as nn\n",
        "import torch.optim as optim\n",
        "import matplotlib.pyplot as plt\n",
        "from sklearn.datasets import load_digits # dataset을 불러오기 위한 load_digits\n",
        "from sklearn.model_selection import train_test_split\n",
        "from torch.utils.data import DataLoader # batch 단위로 나누어서 데이터셋을 모델에 제공"
      ],
      "metadata": {
        "id": "a27eRn02NjJU"
      },
      "execution_count": 1,
      "outputs": []
    },
    {
      "cell_type": "code",
      "source": [
        "# 데이터 불러오기\n",
        "digits = load_digits()\n",
        "\n",
        "# 데이터 보기\n",
        "X_data = digits['data'] # 밝기 데이터가 들어있다.\n",
        "X_data"
      ],
      "metadata": {
        "colab": {
          "base_uri": "https://localhost:8080/"
        },
        "id": "EyKFpYiKNk7O",
        "outputId": "6b6edb33-2de0-4170-a120-a2b641fa27d6"
      },
      "execution_count": 2,
      "outputs": [
        {
          "output_type": "execute_result",
          "data": {
            "text/plain": [
              "array([[ 0.,  0.,  5., ...,  0.,  0.,  0.],\n",
              "       [ 0.,  0.,  0., ..., 10.,  0.,  0.],\n",
              "       [ 0.,  0.,  0., ..., 16.,  9.,  0.],\n",
              "       ...,\n",
              "       [ 0.,  0.,  1., ...,  6.,  0.,  0.],\n",
              "       [ 0.,  0.,  2., ..., 12.,  0.,  0.],\n",
              "       [ 0.,  0., 10., ..., 12.,  1.,  0.]])"
            ]
          },
          "metadata": {},
          "execution_count": 2
        }
      ]
    },
    {
      "cell_type": "code",
      "source": [
        "y_data = digits['target']\n",
        "y_data # 정답이 들어있다."
      ],
      "metadata": {
        "colab": {
          "base_uri": "https://localhost:8080/"
        },
        "id": "em7o1iJNOaw4",
        "outputId": "fc54cdbb-251e-4dcf-8189-34639a867d5e"
      },
      "execution_count": 3,
      "outputs": [
        {
          "output_type": "execute_result",
          "data": {
            "text/plain": [
              "array([0, 1, 2, ..., 8, 9, 8])"
            ]
          },
          "metadata": {},
          "execution_count": 3
        }
      ]
    },
    {
      "cell_type": "code",
      "source": [
        "print(X_data.shape) # 이미지 자체\n",
        "print(y_data.shape) # 정답"
      ],
      "metadata": {
        "colab": {
          "base_uri": "https://localhost:8080/"
        },
        "id": "nlPzioCSOeU0",
        "outputId": "e8b3b57e-ac94-4187-c23a-0e0bce0d1e2c"
      },
      "execution_count": 4,
      "outputs": [
        {
          "output_type": "stream",
          "name": "stdout",
          "text": [
            "(1797, 64)\n",
            "(1797,)\n"
          ]
        }
      ]
    },
    {
      "cell_type": "code",
      "source": [
        "# 데이터 보기\n",
        "fig, axes = plt.subplots(nrows=2, ncols=5, figsize=(14, 8)) # 축을 2행 5열\n",
        "\n",
        "for i, ax in enumerate(axes.flatten()): # 일렬로 만드는 과정 (10바퀴를 돌린다.)\n",
        "    ax.imshow(X_data[i].reshape((8, 8)), cmap='gray')\n",
        "    ax.set_title(y_data[i])\n",
        "    ax.axis('off')"
      ],
      "metadata": {
        "colab": {
          "base_uri": "https://localhost:8080/",
          "height": 443
        },
        "id": "fhGmNfPbOhZL",
        "outputId": "60ee004a-4008-4846-a8d2-1be79363bdbd"
      },
      "execution_count": 5,
      "outputs": [
        {
          "output_type": "display_data",
          "data": {
            "text/plain": [
              "<Figure size 1400x800 with 10 Axes>"
            ],
            "image/png": "[encoded data removed]"
          },
          "metadata": {}
        }
      ]
    },
    {
      "cell_type": "code",
      "source": [
        "X_data = torch.FloatTensor(X_data)\n",
        "y_data = torch.LongTensor(y_data) # 결과가 class로 나올것이기 때문에 LongTensor로 넣어준다.\n",
        "\n",
        "print(X_data.shape)\n",
        "print(y_data.shape)"
      ],
      "metadata": {
        "colab": {
          "base_uri": "https://localhost:8080/"
        },
        "id": "xLwwlZ0POqV9",
        "outputId": "4aef4ba4-22d0-43ac-8c44-ff6673136ff9"
      },
      "execution_count": 6,
      "outputs": [
        {
          "output_type": "stream",
          "name": "stdout",
          "text": [
            "torch.Size([1797, 64])\n",
            "torch.Size([1797])\n"
          ]
        }
      ]
    },
    {
      "cell_type": "code",
      "source": [
        "x_train, x_test, y_train, y_test = train_test_split(X_data, y_data, test_size=0.2, random_state=2025)\n",
        "print(x_train.shape, y_train.shape) # train data\n",
        "print(x_test.shape, y_test.shape) # test data"
      ],
      "metadata": {
        "colab": {
          "base_uri": "https://localhost:8080/"
        },
        "id": "jDnGcBA4P4JE",
        "outputId": "5eb8f05a-a0c0-4f17-c272-e6f726ddb452"
      },
      "execution_count": 7,
      "outputs": [
        {
          "output_type": "stream",
          "name": "stdout",
          "text": [
            "torch.Size([1437, 64]) torch.Size([1437])\n",
            "torch.Size([360, 64]) torch.Size([360])\n"
          ]
        }
      ]
    },
    {
      "cell_type": "markdown",
      "source": [
        "# 2. 데이터 로더\n",
        "데이터로더(Data Loader)는 데이터셋을 효율적으로 관리하고, 모델 학습 과정에서 데이터를 쉽게 가져올 수 있도록 도와주는 도구입니다. 일반적으로 데이터셋을 배치(batch) 단위로 나누어 모델에 제공하며, 데이터의 크기가 클 경우에도 메모리 효율적으로 처리할 수 있도록 설계되었습니다. 데이터 증강, 셔플링, 병렬 처리와 같은 기능을 지원하여 학습 성능을 향상시키고, 모델 학습과 평가 시 일관된 데이터 제공 방식을 유지합니다. 딥러닝 프레임워크에서는 PyTorch의 DataLoader나 TensorFlow의 tf.data 같은 도구를 통해 쉽게 사용할 수 있습니다."
      ],
      "metadata": {
        "id": "iIoiEJclQGWh"
      }
    },
    {
      "cell_type": "markdown",
      "source": [
        "### ※ 데이터로더의 주요 역할\n",
        "\n",
        "1. 배치 처리: 데이터를 지정된 크기의 배치로 나누어 모델에 제공.\n",
        "2. 셔플링: 데이터 순서를 무작위로 섞어 과적합 방지.\n",
        "3. 병렬 처리: num_workers 옵션을 통해 데이터를 병렬로 로드하여 속도 향상.\n",
        "4. 반복 처리: 학습 epoch 동안 데이터를 자동으로 반복해서 제공."
      ],
      "metadata": {
        "id": "drVk7Cm9QMJ2"
      }
    },
    {
      "cell_type": "code",
      "source": [
        "loader = DataLoader(\n",
        "    dataset = list(zip(x_train, y_train)), # 문제집 데이터(x_train)와 정답 데이터(y_train)를 하나씩 짝지어 전체 데이터셋을 만듭니다.\n",
        "    batch_size = 64, # 64개씩 데이터를 제공\n",
        "    shuffle = True, # 데이터 섞임을 True\n",
        "    drop_last = False # 학습하고 남은 데이터를 버리지 않고 사용한다.\n",
        ")\n",
        "\n",
        "# 64개의 img, 정답들을 각각 뽑아준다.\n",
        "imgs, labels = next(iter(loader)) #iter() iterator로 만들어주는 함수 (순서가 있는 함수 )\n",
        "\n",
        "# 시각화\n",
        "fig, axes = plt.subplots(nrows=8, ncols=8, figsize=(14, 14))\n",
        "\n",
        "for ax, img, label in zip(axes.flatten(), imgs, labels):\n",
        "    ax.imshow(img.reshape((8, 8)), cmap='gray')\n",
        "    ax.set_title(str(label))\n",
        "    ax.axis('off')"
      ],
      "metadata": {
        "colab": {
          "base_uri": "https://localhost:8080/",
          "height": 863
        },
        "id": "iG77HrnCRKvu",
        "outputId": "30d2ddaa-4402-46db-f2be-4377ab728b9a"
      },
      "execution_count": 8,
      "outputs": [
        {
          "output_type": "display_data",
          "data": {
            "text/plain": [
              "<Figure size 1400x1400 with 64 Axes>"
            ],
            "image/png": "[encoded data removed]"
          },
          "metadata": {}
        }
      ]
    },
    {
      "cell_type": "markdown",
      "source": [
        "### ※ axes.flatten()\n",
        "\n",
        "axes.flatten()은 다차원 배열 형태로 구성된 Matplotlib의 서브플롯 배열을 1차원 배열로 변환하는 메서드입니다. Matplotlib에서 다수의 서브플롯을 생성할 때, plt.subplots()는 2차원 배열 형태로 서브플롯 객체를 반환합니다. 이 배열은 각 서브플롯을 접근하기 위해 행과 열의 인덱스를 사용해야 하지만, flatten() 메서드를 사용하면 이 배열을 1차원으로 펼쳐서 각 서브플롯을 단일 인덱스로 순회할 수 있게 됩니다."
      ],
      "metadata": {
        "id": "vFSelB53TQX2"
      }
    },
    {
      "cell_type": "code",
      "source": [
        "model = nn.Sequential(\n",
        "    nn.Linear(64, 10) # 64개의 인풋, 10개 아웃풋\n",
        ")\n",
        "\n",
        "optimizer = optim.Adam(model.parameters(), lr=0.01) # optimizer\n",
        "\n",
        "epochs = 50 # 50바퀴동안 학습\n",
        "for epoch in range(epochs + 1):\n",
        "    sum_losses = 0 # 전체 lost 값\n",
        "    sum_accs = 0 # 전체 accuracy 값\n",
        "\n",
        "    # x_batch 이미지, ybatch 정답\n",
        "    for x_batch, y_batch in loader:  # loader의 개수만큼 돌기 1437개/64 의 값\n",
        "        y_pred = model(x_batch) # 이미지를 넣어서 예측\n",
        "        loss = nn.CrossEntropyLoss()(y_pred, y_batch) # 다항으로 분류\n",
        "\n",
        "        optimizer.zero_grad()\n",
        "        loss.backward()\n",
        "        optimizer.step()\n",
        "\n",
        "        sum_losses = sum_losses + loss # 오차값 누적 업데이트\n",
        "\n",
        "        y_prob = nn.Softmax(1)(y_pred) # 확률적으로 누가 가장 높은지 뽑기\n",
        "\n",
        "        y_pred_index = torch.argmax(y_prob, axis=1) # 그 인덱스번호를 이 확률에서 구해주기 (0~9중)\n",
        "\n",
        "        acc = (y_batch == y_pred_index).float().sum() / len(y_batch) * 100 # accuracy 구하기\n",
        "\n",
        "        sum_accs = sum_accs + acc # 정확도 누적 업데이트\n",
        "\n",
        "    avg_loss = sum_losses / len(loader)\n",
        "    avg_acc = sum_accs / len(loader)\n",
        "    print(f'Epoch {epoch:4d}/{epochs} Loss: {avg_loss:.6f} Accuracy: {avg_acc:.2f}%')"
      ],
      "metadata": {
        "colab": {
          "base_uri": "https://localhost:8080/"
        },
        "id": "jSkmPs7hTpcW",
        "outputId": "12dbb64d-f0b3-4e4b-e529-213fb2e57bee"
      },
      "execution_count": 9,
      "outputs": [
        {
          "output_type": "stream",
          "name": "stdout",
          "text": [
            "Epoch    0/50 Loss: 1.564586 Accuracy: 63.54%\n",
            "Epoch    1/50 Loss: 0.234516 Accuracy: 92.69%\n",
            "Epoch    2/50 Loss: 0.147846 Accuracy: 95.64%\n",
            "Epoch    3/50 Loss: 0.112647 Accuracy: 96.67%\n",
            "Epoch    4/50 Loss: 0.097826 Accuracy: 97.08%\n",
            "Epoch    5/50 Loss: 0.079904 Accuracy: 97.89%\n",
            "Epoch    6/50 Loss: 0.080411 Accuracy: 97.83%\n",
            "Epoch    7/50 Loss: 0.075675 Accuracy: 97.89%\n",
            "Epoch    8/50 Loss: 0.072010 Accuracy: 97.62%\n",
            "Epoch    9/50 Loss: 0.063748 Accuracy: 97.95%\n",
            "Epoch   10/50 Loss: 0.058293 Accuracy: 98.41%\n",
            "Epoch   11/50 Loss: 0.039221 Accuracy: 99.25%\n",
            "Epoch   12/50 Loss: 0.038495 Accuracy: 98.98%\n",
            "Epoch   13/50 Loss: 0.045188 Accuracy: 98.76%\n",
            "Epoch   14/50 Loss: 0.035546 Accuracy: 98.82%\n",
            "Epoch   15/50 Loss: 0.039048 Accuracy: 98.98%\n",
            "Epoch   16/50 Loss: 0.032877 Accuracy: 99.10%\n",
            "Epoch   17/50 Loss: 0.029011 Accuracy: 99.32%\n",
            "Epoch   18/50 Loss: 0.025322 Accuracy: 99.32%\n",
            "Epoch   19/50 Loss: 0.026882 Accuracy: 99.59%\n",
            "Epoch   20/50 Loss: 0.021632 Accuracy: 99.66%\n",
            "Epoch   21/50 Loss: 0.019608 Accuracy: 99.80%\n",
            "Epoch   22/50 Loss: 0.024172 Accuracy: 99.59%\n",
            "Epoch   23/50 Loss: 0.030765 Accuracy: 99.32%\n",
            "Epoch   24/50 Loss: 0.022021 Accuracy: 99.73%\n",
            "Epoch   25/50 Loss: 0.020587 Accuracy: 99.37%\n",
            "Epoch   26/50 Loss: 0.021184 Accuracy: 99.71%\n",
            "Epoch   27/50 Loss: 0.020292 Accuracy: 99.66%\n",
            "Epoch   28/50 Loss: 0.016084 Accuracy: 99.73%\n",
            "Epoch   29/50 Loss: 0.014302 Accuracy: 99.80%\n",
            "Epoch   30/50 Loss: 0.012833 Accuracy: 99.93%\n",
            "Epoch   31/50 Loss: 0.011831 Accuracy: 99.93%\n",
            "Epoch   32/50 Loss: 0.014055 Accuracy: 99.80%\n",
            "Epoch   33/50 Loss: 0.021332 Accuracy: 99.37%\n",
            "Epoch   34/50 Loss: 0.014639 Accuracy: 99.85%\n",
            "Epoch   35/50 Loss: 0.012985 Accuracy: 99.80%\n",
            "Epoch   36/50 Loss: 0.012768 Accuracy: 99.86%\n",
            "Epoch   37/50 Loss: 0.011415 Accuracy: 99.80%\n",
            "Epoch   38/50 Loss: 0.012605 Accuracy: 100.00%\n",
            "Epoch   39/50 Loss: 0.009840 Accuracy: 99.93%\n",
            "Epoch   40/50 Loss: 0.007728 Accuracy: 100.00%\n",
            "Epoch   41/50 Loss: 0.007195 Accuracy: 100.00%\n",
            "Epoch   42/50 Loss: 0.008369 Accuracy: 100.00%\n",
            "Epoch   43/50 Loss: 0.009212 Accuracy: 99.86%\n",
            "Epoch   44/50 Loss: 0.007175 Accuracy: 99.93%\n",
            "Epoch   45/50 Loss: 0.007454 Accuracy: 100.00%\n",
            "Epoch   46/50 Loss: 0.007392 Accuracy: 99.93%\n",
            "Epoch   47/50 Loss: 0.008047 Accuracy: 99.93%\n",
            "Epoch   48/50 Loss: 0.006255 Accuracy: 100.00%\n",
            "Epoch   49/50 Loss: 0.005912 Accuracy: 100.00%\n",
            "Epoch   50/50 Loss: 0.005916 Accuracy: 100.00%\n"
          ]
        }
      ]
    },
    {
      "cell_type": "code",
      "source": [
        "# 테스트 데이터 중 10번쨰 있는걸 가져온다.\n",
        "# 8 * 8 로 바꿔준다.\n",
        "# cmap 으로 바꾼뒤 화면에 띄어준다.\n",
        "plt.imshow(x_test[10].reshape((8, 8)), cmap='gray')\n",
        "print(y_test[10])"
      ],
      "metadata": {
        "colab": {
          "base_uri": "https://localhost:8080/",
          "height": 448
        },
        "id": "QU4EgQWBgqcs",
        "outputId": "7b403678-b9c7-4404-c2be-9a61f136b13d"
      },
      "execution_count": 11,
      "outputs": [
        {
          "output_type": "stream",
          "name": "stdout",
          "text": [
            "tensor(5)\n"
          ]
        },
        {
          "output_type": "display_data",
          "data": {
            "text/plain": [
              "<Figure size 640x480 with 1 Axes>"
            ],
            "image/png": "[encoded data removed]"
          },
          "metadata": {}
        }
      ]
    },
    {
      "cell_type": "code",
      "source": [
        "# 테스트를 통째로 모델에 넣어준다.\n",
        "y_pred = model(x_test)\n",
        "y_pred[10] # y test의 10번째는?\n",
        "\n",
        "# weight의 의한 값들이 쭉 나온다."
      ],
      "metadata": {
        "colab": {
          "base_uri": "https://localhost:8080/"
        },
        "id": "2ACEhQDsg_uU",
        "outputId": "ebaf70e5-3d2b-4a2f-97c7-efdb74559641"
      },
      "execution_count": 12,
      "outputs": [
        {
          "output_type": "execute_result",
          "data": {
            "text/plain": [
              "tensor([-0.9714, -3.9223, -0.9738,  3.2295, -0.2516, 16.9421, -1.1092,  5.5465,\n",
              "         6.5005, -3.9272], grad_fn=<SelectBackward0>)"
            ]
          },
          "metadata": {},
          "execution_count": 12
        }
      ]
    },
    {
      "cell_type": "code",
      "source": [
        "y_prob = nn.Softmax(1)(y_pred) # 1은 행을 의미하고 0은 열을 의미한다. 따라서 이건 행을 가져온다.\n",
        "y_prob[10] # 확율을 가져온다."
      ],
      "metadata": {
        "colab": {
          "base_uri": "https://localhost:8080/"
        },
        "id": "5ndJp-iUhRVu",
        "outputId": "2a505061-9d7e-495e-be23-4ae2532612fd"
      },
      "execution_count": 14,
      "outputs": [
        {
          "output_type": "execute_result",
          "data": {
            "text/plain": [
              "tensor([1.6607e-08, 8.6836e-10, 1.6567e-08, 1.1084e-06, 3.4108e-08, 9.9996e-01,\n",
              "        1.4469e-08, 1.1245e-05, 2.9191e-05, 8.6412e-10],\n",
              "       grad_fn=<SelectBackward0>)"
            ]
          },
          "metadata": {},
          "execution_count": 14
        }
      ]
    },
    {
      "cell_type": "code",
      "source": [
        "for i in range(10):\n",
        "    print(f'숫자 {i}일 확률: {y_prob[10][i]:.2f}')"
      ],
      "metadata": {
        "colab": {
          "base_uri": "https://localhost:8080/"
        },
        "id": "81EXsdwjhwxE",
        "outputId": "e6282576-11a3-4de7-a862-9220f1d00f73"
      },
      "execution_count": 15,
      "outputs": [
        {
          "output_type": "stream",
          "name": "stdout",
          "text": [
            "숫자 0일 확률: 0.00\n",
            "숫자 1일 확률: 0.00\n",
            "숫자 2일 확률: 0.00\n",
            "숫자 3일 확률: 0.00\n",
            "숫자 4일 확률: 0.00\n",
            "숫자 5일 확률: 1.00\n",
            "숫자 6일 확률: 0.00\n",
            "숫자 7일 확률: 0.00\n",
            "숫자 8일 확률: 0.00\n",
            "숫자 9일 확률: 0.00\n"
          ]
        }
      ]
    },
    {
      "cell_type": "code",
      "source": [
        "y_pred_index = torch.argmax(y_prob, axis=1)\n",
        "accuracy = (y_test == y_pred_index).float().sum() / len(y_test) * 100\n",
        "print(f'테스트 정확도는 {accuracy: .2f}% 입니다.')"
      ],
      "metadata": {
        "colab": {
          "base_uri": "https://localhost:8080/"
        },
        "id": "x277Yvj7iCo_",
        "outputId": "4d705542-5f12-430e-dd09-0e9d210c6781"
      },
      "execution_count": 17,
      "outputs": [
        {
          "output_type": "stream",
          "name": "stdout",
          "text": [
            "테스트 정확도는  96.39% 입니다.\n"
          ]
        }
      ]
    }
  ]
}