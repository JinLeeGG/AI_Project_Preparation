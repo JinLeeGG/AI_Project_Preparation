{
  "nbformat": 4,
  "nbformat_minor": 0,
  "metadata": {
    "colab": {
      "provenance": [],
      "authorship_tag": "ABX9TyPDL9k/gMiFgix00xELrv2B",
      "include_colab_link": true
    },
    "kernelspec": {
      "name": "python3",
      "display_name": "Python 3"
    },
    "language_info": {
      "name": "python"
    }
  },
  "cells": [
    {
      "cell_type": "markdown",
      "metadata": {
        "id": "view-in-github",
        "colab_type": "text"
      },
      "source": [
        "<a href=\"https://colab.research.google.com/github/JinLeeGG/AI_Project_Preparation/blob/main/4.%20Deep%20Learning/3.%20Logistic%20Regression%20with%20Pytorch/3_Logistic_Regression_with_Pytorch.ipynb\" target=\"_parent\"><img src=\"https://colab.research.google.com/assets/colab-badge.svg\" alt=\"Open In Colab\"/></a>"
      ]
    },
    {
      "cell_type": "markdown",
      "source": [
        "https://ryuzyproject.tistory.com/71?category=1177429"
      ],
      "metadata": {
        "id": "7BAFDjp63nea"
      }
    },
    {
      "cell_type": "markdown",
      "source": [
        "# 1. 논리 회귀\n",
        "논리 회귀(Logistic Regression)는 주어진 입력 데이터를 기반으로 두 가지 이상의 범주로 분류하는 지도 학습 알고리즘입니다. 주로 이진 분류 문제에 사용되며, 입력 변수의 선형 결합을 통해 특정 사건이 발생할 확률을 예측합니다. 이 알고리즘은 시그모이드(Sigmoid) 함수 또는 로지스틱 함수라는 비선형 함수를 사용하여 예측값을 0과 1 사이의 확률로 변환합니다. 모델의 결과는 일반적으로 특정 임계값(예: 0.5)을 기준으로 두 범주 중 하나로 분류됩니다. 예를 들어, 이메일이 스팸인지 아닌지를 판별하거나 환자의 병 진단 여부를 예측하는 데 사용될 수 있습니다. 논리 회귀는 계산이 비교적 간단하고 해석이 용이하여 머신러닝에서 널리 사용되는 알고리즘입니다.\n"
      ],
      "metadata": {
        "id": "Ehyuy3vG3d39"
      }
    },
    {
      "cell_type": "markdown",
      "source": [
        "### ※ 시그모이드 함수\n",
        "\n",
        "시그모이드 함수(Sigmoid Function)는 입력 값을 받아서 이를 0과 1 사이의 값으로 변환하는 수학 함수입니다. 주로 확률을 예측해야 하는 문제에서 사용됩니다. 논리 회귀(Logistic Regression)와 인공신경망(Artificial Neural Network)에서 매우 중요한 역할을 합니다. (e: 자연 상수로, 약 2.718입니다.)\n",
        "\n",
        "<img src=\"https://img1.daumcdn.net/thumb/R1280x0/?scode=mtistory2&fname=https%3A%2F%2Fblog.kakaocdn.net%2Fdna%2FyCiui%2FbtsLCKSniUS%2FAAAAAAAAAAAAAAAAAAAAAEHdiMoiThP7L2lJ8A-CnrzNeM10c6zfTgmHTHj56XEs%2Fimg.png%3Fcredential%3DyqXZFxpELC7KVnFOS48ylbz2pIh7yKj8%26expires%3D1753973999%26allow_ip%3D%26allow_referer%3D%26signature%3DZq%252FVl9oN76xPdnYb36JPiY1SX5Q%253D\">\n",
        "\n",
        "<img src=\"https://img1.daumcdn.net/thumb/R1280x0/?scode=mtistory2&fname=https%3A%2F%2Fblog.kakaocdn.net%2Fdna%2FcVJtIu%2FbtsLEhnV5OU%2FAAAAAAAAAAAAAAAAAAAAAHI-wEM4U3e9ckJoaPzazzkW8j6ck3U8qT0Nj77fXVdV%2Fimg.png%3Fcredential%3DyqXZFxpELC7KVnFOS48ylbz2pIh7yKj8%26expires%3D1753973999%26allow_ip%3D%26allow_referer%3D%26signature%3DVByhXA%252B3Ax7O3DxHCUmM%252F0iyk7w%253D\" width=500>"
      ],
      "metadata": {
        "id": "iCQOhU7p3moW"
      }
    },
    {
      "cell_type": "markdown",
      "source": [
        "# 2. 단항 논리 회귀\n",
        "단항 논리 회귀 (Univariate Logistic Regression)는 하나의 독립 변수(입력 변수)를 사용하여 이진 분류 문제를 해결하는 논리 회귀(Logistic Regression)의 한 형태입니다. 예를 들어, 학생의 하루 공부 시간(독립 변수)에 따라 시험 합격 여부(종속 변수: 합격/불합격)를 예측하는 경우가 여기에 해당합니다. 단항 논리 회귀는 입력 변수의 값을 시그모이드(Sigmoid) 함수에 전달하여 해당 사건(예: 합격)이 발생할 확률(0과 1 사이의 값)을 계산합니다. 이후 이 확률 값이 특정 임계값(일반적으로 0.5)을 초과하면 한 클래스로, 그렇지 않으면 다른 클래스로 분류합니다. 단항 논리 회귀는 간단하면서도 직관적이어서 이진 분류 문제를 설명하고 해석하는 데 자주 사용됩니다."
      ],
      "metadata": {
        "id": "F4idV5294liY"
      }
    },
    {
      "cell_type": "code",
      "source": [
        "import torch\n",
        "import torch.nn as nn"
      ],
      "metadata": {
        "id": "89K6-d4z5Wq7"
      },
      "execution_count": 3,
      "outputs": []
    },
    {
      "cell_type": "code",
      "source": [
        "x = torch.tensor([1.0, 2.0, 3.0]) # 입력할 값\n",
        "w = torch.tensor([0.1, 0.2, 0.3]) # 기울기\n",
        "b = torch.tensor(0.5) # bias"
      ],
      "metadata": {
        "id": "nP_zR2-d5Fwk"
      },
      "execution_count": 4,
      "outputs": []
    },
    {
      "cell_type": "code",
      "source": [
        "# 선형 회기로 생각을 하고 수식을 만들어보자\n",
        "# z = W1*x1 + W2*x2 + W3*x3 + b\n",
        "z = 0.1*1.0 + 0.2*2.0 + 0.3*3.0 + 0.5\n",
        "print(z)\n",
        "z = torch.dot(w,x) + b\n",
        "print(z)\n",
        "\n",
        "# sigmoid 함수\n",
        "sigmoid = nn.Sigmoid()\n",
        "output = sigmoid(z)\n",
        "print(output) # 0-1사이의 값을 뽑을 수 있다."
      ],
      "metadata": {
        "colab": {
          "base_uri": "https://localhost:8080/"
        },
        "id": "jrYqruDj5cye",
        "outputId": "072981b5-fef9-4dcb-9a11-19feec101c76"
      },
      "execution_count": 6,
      "outputs": [
        {
          "output_type": "stream",
          "name": "stdout",
          "text": [
            "1.9\n",
            "tensor(1.9000)\n",
            "tensor(0.8699)\n"
          ]
        }
      ]
    },
    {
      "cell_type": "code",
      "source": [
        "# 단항 논리 회귀 예제\n",
        "# 몇시간 공부를 해야 시험에 합격할까?"
      ],
      "metadata": {
        "id": "Y76l_nRf6mPF"
      },
      "execution_count": null,
      "outputs": []
    },
    {
      "cell_type": "code",
      "source": [
        "import torch.optim as optim\n",
        "import matplotlib.pyplot as plt"
      ],
      "metadata": {
        "id": "bF2kX77V6pYU"
      },
      "execution_count": 7,
      "outputs": []
    },
    {
      "cell_type": "code",
      "source": [
        "torch.manual_seed(2025)\n",
        "\n",
        "x_train = torch.FloatTensor([[0], [1], [3], [5], [8], [11], [15], [20]])# 문제\n",
        "y_train = torch.FloatTensor([[0], [0], [0], [0], [1], [1], [1], [1]]) # 정답 0은 fail 1은 pass\n",
        "print(x_train.shape)\n",
        "print(y_train.shape)\n",
        "\n",
        "# 값 visualization\n",
        "plt.figure(figsize=(8, 5))\n",
        "plt.scatter(x_train, y_train)"
      ],
      "metadata": {
        "colab": {
          "base_uri": "https://localhost:8080/",
          "height": 500
        },
        "id": "1MX63Sk16qtL",
        "outputId": "1d59148c-10c6-46eb-cc14-b3f17ae2885e"
      },
      "execution_count": 10,
      "outputs": [
        {
          "output_type": "stream",
          "name": "stdout",
          "text": [
            "torch.Size([8, 1])\n",
            "torch.Size([8, 1])\n"
          ]
        },
        {
          "output_type": "execute_result",
          "data": {
            "text/plain": [
              "<matplotlib.collections.PathCollection at 0x791b9a18d590>"
            ]
          },
          "metadata": {},
          "execution_count": 10
        },
        {
          "output_type": "display_data",
          "data": {
            "text/plain": [
              "<Figure size 800x500 with 1 Axes>"
            ],
            "image/png": "[encoded data removed]"
          },
          "metadata": {}
        }
      ]
    },
    {
      "cell_type": "code",
      "source": [
        "# 파이토치 사용해서 방정식 구현\n",
        "# 히든 레이어가 없기 때문에 아직 머신 러닝이다.\n",
        "\n",
        "model = nn.Sequential(\n",
        "    nn.Linear(1, 1), # 1개 입력 1개 아웃\n",
        "    nn.Sigmoid() # sigmoid에다가 넣어서 결과 만들기\n",
        ")\n",
        "\n",
        "model"
      ],
      "metadata": {
        "colab": {
          "base_uri": "https://localhost:8080/"
        },
        "id": "A8ew2vs07JGo",
        "outputId": "0b5532ba-3378-455a-f2fa-bf97baf5a07f"
      },
      "execution_count": 11,
      "outputs": [
        {
          "output_type": "execute_result",
          "data": {
            "text/plain": [
              "Sequential(\n",
              "  (0): Linear(in_features=1, out_features=1, bias=True)\n",
              "  (1): Sigmoid()\n",
              ")"
            ]
          },
          "metadata": {},
          "execution_count": 11
        }
      ]
    },
    {
      "cell_type": "code",
      "source": [
        "list(model.parameters()) # 이미 기울기와 bias는 정해져 있다 (랜덤하게 넣어저있다.)"
      ],
      "metadata": {
        "colab": {
          "base_uri": "https://localhost:8080/"
        },
        "id": "LUt25WX98A25",
        "outputId": "85d8ae55-33f8-40fe-e3ad-66864e306071"
      },
      "execution_count": 12,
      "outputs": [
        {
          "output_type": "execute_result",
          "data": {
            "text/plain": [
              "[Parameter containing:\n",
              " tensor([[0.3699]], requires_grad=True),\n",
              " Parameter containing:\n",
              " tensor([0.8711], requires_grad=True)]"
            ]
          },
          "metadata": {},
          "execution_count": 12
        }
      ]
    },
    {
      "cell_type": "code",
      "source": [
        "y_pred = model(x_train) # 8개를 넣었을때 0-1 사이의 값이 나온다.\n",
        "y_pred"
      ],
      "metadata": {
        "colab": {
          "base_uri": "https://localhost:8080/"
        },
        "id": "HHJ4otuo8K5Y",
        "outputId": "fb1d2230-db12-48c8-e06a-3fd263fc5964"
      },
      "execution_count": 13,
      "outputs": [
        {
          "output_type": "execute_result",
          "data": {
            "text/plain": [
              "tensor([[0.7050],\n",
              "        [0.7757],\n",
              "        [0.8788],\n",
              "        [0.9382],\n",
              "        [0.9788],\n",
              "        [0.9929],\n",
              "        [0.9984],\n",
              "        [0.9997]], grad_fn=<SigmoidBackward0>)"
            ]
          },
          "metadata": {},
          "execution_count": 13
        }
      ]
    },
    {
      "cell_type": "markdown",
      "source": [
        "BCE 손실 함수\n",
        "\n",
        "Binary Cross Entropy (BCE)는 이진 분류 문제에서 모델이 예측한 확률 분포와 실제 정답 레이블 사이의 차이를 측정하는 손실 함수(Loss Function)입니다. BCE는 예측된 확률 값과 실제 값(0 또는 1) 사이의 차이를 로그 확률로 변환하여 손실을 계산합니다.\n",
        "\n",
        "<img src=\"https://img1.daumcdn.net/thumb/R1280x0/?scode=mtistory2&fname=https%3A%2F%2Fblog.kakaocdn.net%2Fdna%2FoslY0%2FbtsLCHawxeG%2FAAAAAAAAAAAAAAAAAAAAAGHwwEFSYt27yqPADmRDoznSpe0WrSCaiLZ08tu_hg0t%2Fimg.png%3Fcredential%3DyqXZFxpELC7KVnFOS48ylbz2pIh7yKj8%26expires%3D1753973999%26allow_ip%3D%26allow_referer%3D%26signature%3DvtxJlPHa4ZEAq8fXswXxGznlPfg%253D\" width=500>\n",
        "\n",
        "\n",
        "<img src=\"https://img1.daumcdn.net/thumb/R1280x0/?scode=mtistory2&fname=https%3A%2F%2Fblog.kakaocdn.net%2Fdna%2FRHljk%2FbtsLC1T532t%2FAAAAAAAAAAAAAAAAAAAAANNo1_hcidkBatvuIvZjoGiegZrbRwDcgJYTOkZyhyzC%2Fimg.png%3Fcredential%3DyqXZFxpELC7KVnFOS48ylbz2pIh7yKj8%26expires%3D1753973999%26allow_ip%3D%26allow_referer%3D%26signature%3DESb4Qt4Q%252F9k2lA3fQd0FaTDiZj4%253D\" width=500>"
      ],
      "metadata": {
        "id": "4BI5cR6Y8XUC"
      }
    },
    {
      "cell_type": "code",
      "source": [
        "loss = nn.BCELoss()(y_pred, y_train) # loss값 구하기\n",
        "loss"
      ],
      "metadata": {
        "colab": {
          "base_uri": "https://localhost:8080/"
        },
        "id": "Ce62RmPC8fJx",
        "outputId": "d65fc160-61e0-4337-8927-e6486841363e"
      },
      "execution_count": 15,
      "outputs": [
        {
          "output_type": "execute_result",
          "data": {
            "text/plain": [
              "tensor(0.9551, grad_fn=<BinaryCrossEntropyBackward0>)"
            ]
          },
          "metadata": {},
          "execution_count": 15
        }
      ]
    },
    {
      "cell_type": "code",
      "source": [
        "optimizer = optim.SGD(model.parameters(), lr=0.01) # optimizer"
      ],
      "metadata": {
        "id": "ffG07qSHAouS"
      },
      "execution_count": 16,
      "outputs": []
    },
    {
      "cell_type": "code",
      "source": [
        "epochs = 1000 # 1000바퀴 학습\n",
        "\n",
        "for epoch in range(epochs + 1):\n",
        "    y_pred = model(x_train) # 예측 모델에 넣고 예측값\n",
        "    loss = nn.BCELoss()(y_pred, y_train) # 로스값\n",
        "    optimizer.zero_grad() # 옵티마이져 초기화\n",
        "    loss.backward()\n",
        "    optimizer.step() # 옵티마이져 적용\n",
        "\n",
        "    if epoch % 100 == 0:\n",
        "        print(f'Epoch: {epoch}/{epochs} Loss: {loss:.6f}')"
      ],
      "metadata": {
        "colab": {
          "base_uri": "https://localhost:8080/"
        },
        "id": "CveHIjyHAwkN",
        "outputId": "adfb3c63-2bb7-4fb4-cdfc-c67db977e673"
      },
      "execution_count": 17,
      "outputs": [
        {
          "output_type": "stream",
          "name": "stdout",
          "text": [
            "Epoch: 0/1000 Loss: 0.955088\n",
            "Epoch: 100/1000 Loss: 0.656269\n",
            "Epoch: 200/1000 Loss: 0.587461\n",
            "Epoch: 300/1000 Loss: 0.529375\n",
            "Epoch: 400/1000 Loss: 0.480471\n",
            "Epoch: 500/1000 Loss: 0.439265\n",
            "Epoch: 600/1000 Loss: 0.404423\n",
            "Epoch: 700/1000 Loss: 0.374805\n",
            "Epoch: 800/1000 Loss: 0.349462\n",
            "Epoch: 900/1000 Loss: 0.327626\n",
            "Epoch: 1000/1000 Loss: 0.308673\n"
          ]
        }
      ]
    },
    {
      "cell_type": "code",
      "source": [
        "list(model.parameters()) # 가중치, bias"
      ],
      "metadata": {
        "colab": {
          "base_uri": "https://localhost:8080/"
        },
        "id": "hwSxzmQuBCwq",
        "outputId": "5b549ab7-6d41-442e-a0f0-b7e8b5f55731"
      },
      "execution_count": 18,
      "outputs": [
        {
          "output_type": "execute_result",
          "data": {
            "text/plain": [
              "[Parameter containing:\n",
              " tensor([[0.2780]], requires_grad=True),\n",
              " Parameter containing:\n",
              " tensor([-1.1653], requires_grad=True)]"
            ]
          },
          "metadata": {},
          "execution_count": 18
        }
      ]
    },
    {
      "cell_type": "code",
      "source": [
        "x_test = torch.FloatTensor([[10]]) # 10 이라는 임의값을 넣기\n",
        "y_pred = model(x_test)\n",
        "y_pred # 예측값은 0.8341 (10시간을 공부했을때 이 확율로 합격)"
      ],
      "metadata": {
        "colab": {
          "base_uri": "https://localhost:8080/"
        },
        "id": "7Ha_yRlUBNa3",
        "outputId": "8fad49f2-5c36-4a98-eb16-ccf7a79f9f10"
      },
      "execution_count": 26,
      "outputs": [
        {
          "output_type": "execute_result",
          "data": {
            "text/plain": [
              "tensor([[0.8341]], grad_fn=<SigmoidBackward0>)"
            ]
          },
          "metadata": {},
          "execution_count": 26
        }
      ]
    },
    {
      "cell_type": "code",
      "source": [
        "# 임계치 설정하기\n",
        "# 0.5보다 크거나 같으면 1\n",
        "# 0.5보다 작으면 0\n",
        "y_bool = (y_pred >= 0.5).float()\n",
        "y_bool"
      ],
      "metadata": {
        "colab": {
          "base_uri": "https://localhost:8080/"
        },
        "id": "TCBjRugnBZr2",
        "outputId": "9ec2db3f-510c-4497-f66d-94eb713e6e18"
      },
      "execution_count": 25,
      "outputs": [
        {
          "output_type": "execute_result",
          "data": {
            "text/plain": [
              "tensor([[1.]])"
            ]
          },
          "metadata": {},
          "execution_count": 25
        }
      ]
    },
    {
      "cell_type": "markdown",
      "source": [
        "# 3. 다항 논리 회귀\n",
        "다항 논리 회귀(Multinomial Logistic Regression)는 종속 변수가 세 개 이상의 범주로 나뉘는 다중 클래스 분류 문제를 해결하는 알고리즘입니다. 예를 들어, 과일의 색깔이 빨강, 노랑, 초록 중 하나로 분류되는 문제에서 사용할 수 있습니다. 이 알고리즘은 각 클래스에 대한 확률을 예측하기 위해 소프트맥스(Softmax) 함수를 사용합니다. 소프트맥스 함수는 각 클래스에 속할 확률을 0과 1 사이의 값으로 변환하며, 모든 클래스의 확률 합이 1이 되도록 정규화합니다. 모델은 입력 데이터가 특정 클래스에 속할 가능성을 계산한 뒤, 가장 높은 확률을 가진 클래스를 최종 예측 값으로 선택합니다. 다항 논리 회귀는 자연어 처리, 이미지 분류, 그리고 다양한 다중 클래스 분류 문제에서 널리 사용됩니다."
      ],
      "metadata": {
        "id": "bKZDS3ZvBzWZ"
      }
    },
    {
      "cell_type": "code",
      "source": [
        "x_train = [[1, 2, 1, 1], # 문제\n",
        "           [2, 1, 3, 2],\n",
        "           [3, 1, 3, 4],\n",
        "           [4, 2, 5, 5],\n",
        "           [1, 6, 5, 5],\n",
        "           [1, 4, 5, 8],\n",
        "           [1, 7, 7, 7],\n",
        "           [2, 8, 7, 8],\n",
        "           [2, 7, 6, 7],\n",
        "           [2, 6, 6, 6]]\n",
        "\n",
        "y_train = [0, 0, 0, 1, 1, 1, 2, 2, 2, 2] #정답  [1,2,1,1] --> 0 ... [2,6,6,6] --> 2"
      ],
      "metadata": {
        "id": "N_5n9dVdB4A2"
      },
      "execution_count": 29,
      "outputs": []
    },
    {
      "cell_type": "code",
      "source": [
        "x_train = torch.FloatTensor(x_train) # float로 만들기\n",
        "y_train = torch.LongTensor(y_train) # Long으로 만들기 (실수가 될 수 없다.)\n",
        "print(x_train.shape) # 10행 4열\n",
        "print(y_train.shape) # 10행"
      ],
      "metadata": {
        "colab": {
          "base_uri": "https://localhost:8080/"
        },
        "id": "2KI6gAvFCnEe",
        "outputId": "c3d890ab-a6f4-449e-cc7f-8c8c7f8bd0ae"
      },
      "execution_count": 30,
      "outputs": [
        {
          "output_type": "stream",
          "name": "stdout",
          "text": [
            "torch.Size([10, 4])\n",
            "torch.Size([10])\n"
          ]
        }
      ]
    },
    {
      "cell_type": "code",
      "source": [
        "model = nn.Sequential(\n",
        "    nn.Linear(4, 3) # 4개의 인풋, 3개 아웃풋\n",
        ")\n",
        "model"
      ],
      "metadata": {
        "colab": {
          "base_uri": "https://localhost:8080/"
        },
        "id": "AhkvMjynC2c_",
        "outputId": "ab751cd2-df41-4e06-a01c-b60a7e45dc05"
      },
      "execution_count": 31,
      "outputs": [
        {
          "output_type": "execute_result",
          "data": {
            "text/plain": [
              "Sequential(\n",
              "  (0): Linear(in_features=4, out_features=3, bias=True)\n",
              ")"
            ]
          },
          "metadata": {},
          "execution_count": 31
        }
      ]
    },
    {
      "cell_type": "markdown",
      "source": [
        "<img src=\"https://img1.daumcdn.net/thumb/R1280x0/?scode=mtistory2&fname=https%3A%2F%2Fblog.kakaocdn.net%2Fdna%2Fbj0BoC%2FbtsLEjsvQxQ%2FAAAAAAAAAAAAAAAAAAAAAO6A6mG0NoM8l2rAF27IOeAYaFNMSOJveYE7JKPNMlSZ%2Fimg.png%3Fcredential%3DyqXZFxpELC7KVnFOS48ylbz2pIh7yKj8%26expires%3D1753973999%26allow_ip%3D%26allow_referer%3D%26signature%3DS9r94R520LUA3zkAhMTv4dq522A%253D\" width=500>"
      ],
      "metadata": {
        "id": "AWm-8UeADMlM"
      }
    },
    {
      "cell_type": "code",
      "source": [
        "list(model.parameters()) # 학습 하기 전의 결과"
      ],
      "metadata": {
        "colab": {
          "base_uri": "https://localhost:8080/"
        },
        "id": "MF9uXoR8DKQA",
        "outputId": "f094b8ae-07e6-43cf-87f1-6e9dea192e76"
      },
      "execution_count": 32,
      "outputs": [
        {
          "output_type": "execute_result",
          "data": {
            "text/plain": [
              "[Parameter containing:\n",
              " tensor([[-0.2100, -0.1009,  0.2470, -0.4785],\n",
              "         [-0.4346,  0.2855, -0.1117,  0.1340],\n",
              "         [ 0.4447, -0.0227, -0.2139, -0.1113]], requires_grad=True),\n",
              " Parameter containing:\n",
              " tensor([-0.3901, -0.1394,  0.3450], requires_grad=True)]"
            ]
          },
          "metadata": {},
          "execution_count": 32
        }
      ]
    },
    {
      "cell_type": "code",
      "source": [
        "y_pred = model(x_train) # 학습 전의 결과\n",
        "y_pred"
      ],
      "metadata": {
        "colab": {
          "base_uri": "https://localhost:8080/"
        },
        "id": "icV0AEjrEDvA",
        "outputId": "df17bb8d-3b7d-4312-9f47-24e07ea27b26"
      },
      "execution_count": 33,
      "outputs": [
        {
          "output_type": "execute_result",
          "data": {
            "text/plain": [
              "tensor([[-1.0333,  0.0193,  0.4191],\n",
              "        [-1.1269, -0.7901,  0.3474],\n",
              "        [-2.2939, -0.9565,  0.5696],\n",
              "        [-2.5892, -1.1950,  0.4525],\n",
              "        [-2.3629,  1.2506, -0.9725],\n",
              "        [-3.5968,  1.0818, -1.2609],\n",
              "        [-2.9268,  1.5807, -1.6456],\n",
              "        [-3.7163,  1.5657, -1.3349],\n",
              "        [-3.3839,  1.2579, -0.9870],\n",
              "        [-2.8044,  0.8384, -0.8530]], grad_fn=<AddmmBackward0>)"
            ]
          },
          "metadata": {},
          "execution_count": 33
        }
      ]
    },
    {
      "cell_type": "markdown",
      "source": [
        "### CrossEntropyLoss\n",
        "\n",
        "CrossEntropyLoss는 다중 클래스 분류(Multiclass Classification) 문제에서 모델의 예측과 실제 정답 레이블 간의 차이를 측정하는 손실 함수(Loss Function)입니다. 이 함수는 모델이 예측한 확률 분포와 실제 레이블(정답) 간의 불확실성을 수치화합니다. CrossEntropyLoss는 주로 Softmax 함수와 함께 사용됩니다. Softmax는 각 클래스에 대한 확률 분포를 제공하며, CrossEntropyLoss는 이 확률 분포와 실제 레이블 간의 차이를 계산합니다. 예측이 실제 레이블과 가까울수록 손실 값이 작아지며, 예측이 틀릴수록 손실 값은 커집니다.\n",
        "\n",
        "1. Softmax로 각 클래스에 대한 확률을 계산\n",
        "2. log() 를 취함\n",
        "3. Loss 를 계산\n",
        "\n",
        "<img src=\"https://img1.daumcdn.net/thumb/R1280x0/?scode=mtistory2&fname=https%3A%2F%2Fblog.kakaocdn.net%2Fdna%2FdDcO2Z%2FbtsLELCjvU7%2FAAAAAAAAAAAAAAAAAAAAAFmLoFsk409JMayNRj-4hVl5mchq4W-Uk2c5quRNUopY%2Fimg.png%3Fcredential%3DyqXZFxpELC7KVnFOS48ylbz2pIh7yKj8%26expires%3D1753973999%26allow_ip%3D%26allow_referer%3D%26signature%3DS2xLXlLMI1VQ9J1Gi%252BDPC3%252B7Nq8%253D\" width=500>\n",
        "\n",
        "<img src=\"https://img1.daumcdn.net/thumb/R1280x0/?scode=mtistory2&fname=https%3A%2F%2Fblog.kakaocdn.net%2Fdna%2FcdBQAX%2FbtsLEcf41Mr%2FAAAAAAAAAAAAAAAAAAAAAKGSXZuEiWGbfeK7o-zPOVt6OgvxdzHo4l53VauQQKKB%2Fimg.png%3Fcredential%3DyqXZFxpELC7KVnFOS48ylbz2pIh7yKj8%26expires%3D1753973999%26allow_ip%3D%26allow_referer%3D%26signature%3DDxqCFBWDGftFUwW0agGgexyDX0Q%253D\" width=500>"
      ],
      "metadata": {
        "id": "q4wNSW8ZEGz9"
      }
    },
    {
      "cell_type": "markdown",
      "source": [
        "### Softmax\n",
        "\n",
        "Softmax 함수는 다중 클래스 분류(Multiclass Classification) 문제에서 사용되는 활성화 함수(Activation Function)입니다. 이 함수는 주어진 입력 벡터의 각 요소를 확률 분포(probability distribution)로 변환합니다. 즉, 각 클래스에 대한 예측값을 0과 1 사이의 값으로 변환하며, 모든 클래스의 확률 합이 항상 1이 되도록 정규화합니다.\n",
        "\n",
        "<img src=\"https://img1.daumcdn.net/thumb/R1280x0/?scode=mtistory2&fname=https%3A%2F%2Fblog.kakaocdn.net%2Fdna%2FoPwLr%2FbtsLDWLpI5b%2FAAAAAAAAAAAAAAAAAAAAALQSQBOlmRO2U3iC4JffVy2OQfVnz7S4_UvJjJ7PFLtl%2Fimg.png%3Fcredential%3DyqXZFxpELC7KVnFOS48ylbz2pIh7yKj8%26expires%3D1753973999%26allow_ip%3D%26allow_referer%3D%26signature%3DfjodbkvwBmrMQ9SNKJTGczlxK6U%253D\" width=500>\n",
        "\n",
        "<img src=\"https://img1.daumcdn.net/thumb/R1280x0/?scode=mtistory2&fname=https%3A%2F%2Fblog.kakaocdn.net%2Fdna%2FbZe0BT%2FbtsLDtQl4OI%2FAAAAAAAAAAAAAAAAAAAAAPNaBlLRKRuy-PddxAUEkfnjWZWR-I623ULXFywHa-WH%2Fimg.png%3Fcredential%3DyqXZFxpELC7KVnFOS48ylbz2pIh7yKj8%26expires%3D1753973999%26allow_ip%3D%26allow_referer%3D%26signature%3DHR8%252FDLtNj2BCJYatXM%252FRvqE%252F00I%253D\" width=500>"
      ],
      "metadata": {
        "id": "C2Cr-gaoEYMy"
      }
    },
    {
      "cell_type": "code",
      "source": [
        "loss = nn.CrossEntropyLoss()(y_pred, y_train) # CrossEntropyLoss 객체 만들기\n",
        "loss"
      ],
      "metadata": {
        "colab": {
          "base_uri": "https://localhost:8080/"
        },
        "id": "qpK-S071E3Qj",
        "outputId": "67f80e91-5d2b-4fb4-e110-ebd8f658c95f"
      },
      "execution_count": 36,
      "outputs": [
        {
          "output_type": "execute_result",
          "data": {
            "text/plain": [
              "tensor(1.9676, grad_fn=<NllLossBackward0>)"
            ]
          },
          "metadata": {},
          "execution_count": 36
        }
      ]
    },
    {
      "cell_type": "code",
      "source": [
        "optimizer = optim.SGD(model.parameters(), lr=0.01) # optimizer"
      ],
      "metadata": {
        "id": "QAWp0etpFy0o"
      },
      "execution_count": 37,
      "outputs": []
    },
    {
      "cell_type": "code",
      "source": [
        "epochs = 10000 # 10000바퀴 돌리기\n",
        "\n",
        "for epoch in range(epochs + 1):\n",
        "    y_pred = model(x_train) # 예측 값\n",
        "    loss = nn.CrossEntropyLoss()(y_pred, y_train) # 로스값\n",
        "    optimizer.zero_grad() # optimizer 설정\n",
        "    loss.backward()\n",
        "    optimizer.step() #optimizer 적용\n",
        "\n",
        "    if epoch % 100 == 0:\n",
        "        print(f'Epoch: {epoch}/{epochs} Loss: {loss: .6f}')"
      ],
      "metadata": {
        "colab": {
          "base_uri": "https://localhost:8080/"
        },
        "id": "pDHqX2OGFz-g",
        "outputId": "3306f058-0a48-4e18-bb8a-29b640157ed0"
      },
      "execution_count": 38,
      "outputs": [
        {
          "output_type": "stream",
          "name": "stdout",
          "text": [
            "Epoch: 0/10000 Loss:  1.967613\n",
            "Epoch: 100/10000 Loss:  0.872644\n",
            "Epoch: 200/10000 Loss:  0.762529\n",
            "Epoch: 300/10000 Loss:  0.716454\n",
            "Epoch: 400/10000 Loss:  0.686174\n",
            "Epoch: 500/10000 Loss:  0.662485\n",
            "Epoch: 600/10000 Loss:  0.642596\n",
            "Epoch: 700/10000 Loss:  0.625351\n",
            "Epoch: 800/10000 Loss:  0.610145\n",
            "Epoch: 900/10000 Loss:  0.596596\n",
            "Epoch: 1000/10000 Loss:  0.584434\n",
            "Epoch: 1100/10000 Loss:  0.573449\n",
            "Epoch: 1200/10000 Loss:  0.563474\n",
            "Epoch: 1300/10000 Loss:  0.554368\n",
            "Epoch: 1400/10000 Loss:  0.546018\n",
            "Epoch: 1500/10000 Loss:  0.538325\n",
            "Epoch: 1600/10000 Loss:  0.531208\n",
            "Epoch: 1700/10000 Loss:  0.524595\n",
            "Epoch: 1800/10000 Loss:  0.518427\n",
            "Epoch: 1900/10000 Loss:  0.512655\n",
            "Epoch: 2000/10000 Loss:  0.507233\n",
            "Epoch: 2100/10000 Loss:  0.502124\n",
            "Epoch: 2200/10000 Loss:  0.497295\n",
            "Epoch: 2300/10000 Loss:  0.492719\n",
            "Epoch: 2400/10000 Loss:  0.488371\n",
            "Epoch: 2500/10000 Loss:  0.484229\n",
            "Epoch: 2600/10000 Loss:  0.480275\n",
            "Epoch: 2700/10000 Loss:  0.476492\n",
            "Epoch: 2800/10000 Loss:  0.472865\n",
            "Epoch: 2900/10000 Loss:  0.469381\n",
            "Epoch: 3000/10000 Loss:  0.466029\n",
            "Epoch: 3100/10000 Loss:  0.462799\n",
            "Epoch: 3200/10000 Loss:  0.459681\n",
            "Epoch: 3300/10000 Loss:  0.456667\n",
            "Epoch: 3400/10000 Loss:  0.453751\n",
            "Epoch: 3500/10000 Loss:  0.450924\n",
            "Epoch: 3600/10000 Loss:  0.448181\n",
            "Epoch: 3700/10000 Loss:  0.445516\n",
            "Epoch: 3800/10000 Loss:  0.442925\n",
            "Epoch: 3900/10000 Loss:  0.440403\n",
            "Epoch: 4000/10000 Loss:  0.437946\n",
            "Epoch: 4100/10000 Loss:  0.435550\n",
            "Epoch: 4200/10000 Loss:  0.433211\n",
            "Epoch: 4300/10000 Loss:  0.430927\n",
            "Epoch: 4400/10000 Loss:  0.428694\n",
            "Epoch: 4500/10000 Loss:  0.426510\n",
            "Epoch: 4600/10000 Loss:  0.424373\n",
            "Epoch: 4700/10000 Loss:  0.422279\n",
            "Epoch: 4800/10000 Loss:  0.420227\n",
            "Epoch: 4900/10000 Loss:  0.418214\n",
            "Epoch: 5000/10000 Loss:  0.416240\n",
            "Epoch: 5100/10000 Loss:  0.414302\n",
            "Epoch: 5200/10000 Loss:  0.412398\n",
            "Epoch: 5300/10000 Loss:  0.410528\n",
            "Epoch: 5400/10000 Loss:  0.408689\n",
            "Epoch: 5500/10000 Loss:  0.406881\n",
            "Epoch: 5600/10000 Loss:  0.405102\n",
            "Epoch: 5700/10000 Loss:  0.403351\n",
            "Epoch: 5800/10000 Loss:  0.401627\n",
            "Epoch: 5900/10000 Loss:  0.399929\n",
            "Epoch: 6000/10000 Loss:  0.398256\n",
            "Epoch: 6100/10000 Loss:  0.396608\n",
            "Epoch: 6200/10000 Loss:  0.394982\n",
            "Epoch: 6300/10000 Loss:  0.393379\n",
            "Epoch: 6400/10000 Loss:  0.391798\n",
            "Epoch: 6500/10000 Loss:  0.390237\n",
            "Epoch: 6600/10000 Loss:  0.388697\n",
            "Epoch: 6700/10000 Loss:  0.387177\n",
            "Epoch: 6800/10000 Loss:  0.385676\n",
            "Epoch: 6900/10000 Loss:  0.384193\n",
            "Epoch: 7000/10000 Loss:  0.382728\n",
            "Epoch: 7100/10000 Loss:  0.381281\n",
            "Epoch: 7200/10000 Loss:  0.379851\n",
            "Epoch: 7300/10000 Loss:  0.378437\n",
            "Epoch: 7400/10000 Loss:  0.377039\n",
            "Epoch: 7500/10000 Loss:  0.375657\n",
            "Epoch: 7600/10000 Loss:  0.374290\n",
            "Epoch: 7700/10000 Loss:  0.372938\n",
            "Epoch: 7800/10000 Loss:  0.371600\n",
            "Epoch: 7900/10000 Loss:  0.370276\n",
            "Epoch: 8000/10000 Loss:  0.368966\n",
            "Epoch: 8100/10000 Loss:  0.367670\n",
            "Epoch: 8200/10000 Loss:  0.366386\n",
            "Epoch: 8300/10000 Loss:  0.365115\n",
            "Epoch: 8400/10000 Loss:  0.363857\n",
            "Epoch: 8500/10000 Loss:  0.362611\n",
            "Epoch: 8600/10000 Loss:  0.361376\n",
            "Epoch: 8700/10000 Loss:  0.360154\n",
            "Epoch: 8800/10000 Loss:  0.358943\n",
            "Epoch: 8900/10000 Loss:  0.357743\n",
            "Epoch: 9000/10000 Loss:  0.356554\n",
            "Epoch: 9100/10000 Loss:  0.355375\n",
            "Epoch: 9200/10000 Loss:  0.354208\n",
            "Epoch: 9300/10000 Loss:  0.353050\n",
            "Epoch: 9400/10000 Loss:  0.351903\n",
            "Epoch: 9500/10000 Loss:  0.350765\n",
            "Epoch: 9600/10000 Loss:  0.349638\n",
            "Epoch: 9700/10000 Loss:  0.348519\n",
            "Epoch: 9800/10000 Loss:  0.347411\n",
            "Epoch: 9900/10000 Loss:  0.346311\n",
            "Epoch: 10000/10000 Loss:  0.345220\n"
          ]
        }
      ]
    },
    {
      "cell_type": "code",
      "source": [
        "x_test = torch.FloatTensor([[1, 9, 9, 8]]) # 임의값\n",
        "y_pred = model(x_test) # 모델로 예측\n",
        "y_pred # 가중치로 나온다."
      ],
      "metadata": {
        "colab": {
          "base_uri": "https://localhost:8080/"
        },
        "id": "XCROSGmnGV_p",
        "outputId": "2f2ecc9d-af4c-42b1-d9e8-fb7be76710ea"
      },
      "execution_count": 39,
      "outputs": [
        {
          "output_type": "execute_result",
          "data": {
            "text/plain": [
              "tensor([[-13.2952,   3.5899,   6.4243]], grad_fn=<AddmmBackward0>)"
            ]
          },
          "metadata": {},
          "execution_count": 39
        }
      ]
    },
    {
      "cell_type": "code",
      "source": [
        "# demension, pred\n",
        "y_prob = nn.Softmax(1)(y_pred) # softmax에다가 넣어서 확율을 뽑아낸다.\n",
        "y_prob # 확율"
      ],
      "metadata": {
        "colab": {
          "base_uri": "https://localhost:8080/"
        },
        "id": "NHdhvSRdGwMl",
        "outputId": "9ff43353-70c7-40d5-ce99-6d39a61db83f"
      },
      "execution_count": 40,
      "outputs": [
        {
          "output_type": "execute_result",
          "data": {
            "text/plain": [
              "tensor([[2.5770e-09, 5.5491e-02, 9.4451e-01]], grad_fn=<SoftmaxBackward0>)"
            ]
          },
          "metadata": {},
          "execution_count": 40
        }
      ]
    },
    {
      "cell_type": "code",
      "source": [
        "print(f'0일 확률: {y_prob[0][0]:.2f}') # 소수점 2째자리까지 출력\n",
        "print(f'1일 확률: {y_prob[0][1]:.2f}')\n",
        "print(f'2일 확률: {y_prob[0][2]:.2f}') # 2일 확율이 가장 크다."
      ],
      "metadata": {
        "colab": {
          "base_uri": "https://localhost:8080/"
        },
        "id": "pc5ipy95GxRr",
        "outputId": "b85a9e55-3e8d-4c9b-8825-7e43fed467ee"
      },
      "execution_count": 41,
      "outputs": [
        {
          "output_type": "stream",
          "name": "stdout",
          "text": [
            "0일 확률: 0.00\n",
            "1일 확률: 0.06\n",
            "2일 확률: 0.94\n"
          ]
        }
      ]
    },
    {
      "cell_type": "code",
      "source": [
        "torch.argmax(y_prob, axis=1) # max값 argmax 출력시 2번을 출력한다."
      ],
      "metadata": {
        "colab": {
          "base_uri": "https://localhost:8080/"
        },
        "id": "-HmEmiKpGyp_",
        "outputId": "1a293bfb-afa5-4384-9912-3c4505ed1279"
      },
      "execution_count": 42,
      "outputs": [
        {
          "output_type": "execute_result",
          "data": {
            "text/plain": [
              "tensor([2])"
            ]
          },
          "metadata": {},
          "execution_count": 42
        }
      ]
    }
  ]
}