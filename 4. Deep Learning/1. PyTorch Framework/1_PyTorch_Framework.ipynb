{
  "nbformat": 4,
  "nbformat_minor": 0,
  "metadata": {
    "colab": {
      "provenance": [],
      "authorship_tag": "ABX9TyNNyp8lx0gYLGAmibk2PKfG",
      "include_colab_link": true
    },
    "kernelspec": {
      "name": "python3",
      "display_name": "Python 3"
    },
    "language_info": {
      "name": "python"
    }
  },
  "cells": [
    {
      "cell_type": "markdown",
      "metadata": {
        "id": "view-in-github",
        "colab_type": "text"
      },
      "source": [
        "<a href=\"https://colab.research.google.com/github/JinLeeGG/AI_Project_Preparation/blob/main/4.%20Deep%20Learning/1.%20PyTorch%20Framework/1_PyTorch_Framework.ipynb\" target=\"_parent\"><img src=\"https://colab.research.google.com/assets/colab-badge.svg\" alt=\"Open In Colab\"/></a>"
      ]
    },
    {
      "cell_type": "markdown",
      "source": [
        "https://ryuzyproject.tistory.com/67"
      ],
      "metadata": {
        "id": "MfNTQdg_eXII"
      }
    },
    {
      "cell_type": "markdown",
      "source": [
        "# 1. 파이토치\n",
        "PyTorch는 파이썬 기반의 오픈소스 딥러닝 프레임워크로, 파이썬 코드로 AI 모델을 직관적으로 만들고 학습할 수 있도록 도와주는 도구입니다. 특히 동적 계산 그래프 방식을 사용하기 때문에 코드 실행 시점에 실시간으로 계산 흐름이 결정되어 디버깅과 수정이 쉽고, GPU 가속과 자동 미분 기능을 통해 대규모 모델도 빠르게 학습할 수 있습니다."
      ],
      "metadata": {
        "id": "LM63wRO5eaya"
      }
    },
    {
      "cell_type": "markdown",
      "source": [
        "### ※ 동적 계산 그래프 방식\n",
        "\n",
        "딥러닝 모델이 학습 및 예측을 수행할 때 계산 그래프를 실행 시점(runtime)에 실시간으로 생성 및 수정하는 방식입니다. 이 방식은 조건문, 반복문 등 복잡한 논리 구조를 유연하게 처리할 수 있으며, 주로 PyTorch와 같은 프레임워크에서 사용됩니다. 계산 그래프는 입력 데이터를 바탕으로 연산을 수행하면서 그래프를 생성하고, 역전파를 통해 미분을 계산하며, 최종적으로 가중치를 업데이트하는 과정을 거칩니다. 이러한 특성 덕분에 디버깅이 용이하고 연구 및 개발 속도가 빠르며 직관적인 코드 작성이 가능합니다.\n"
      ],
      "metadata": {
        "id": "O6x8QybxfMk5"
      }
    },
    {
      "cell_type": "markdown",
      "source": [
        "### 1. 스칼라\n",
        "\n",
        "스칼라(Scalar)는 단 하나의 숫자(정수, 실수 등)만을 담는 자료형을 말합니다. 파이토치(PyTorch)에서 스칼라는 0차원 텐서(0-dimensional Tensor)로 표현합니다. 즉, 텐서의 차원(Shape)이 전혀 없는 상태를 의미합니다."
      ],
      "metadata": {
        "id": "Q9pBcJgEfazl"
      }
    },
    {
      "cell_type": "code",
      "source": [
        "import torch\n",
        "\n",
        "var1 = torch.tensor(5)"
      ],
      "metadata": {
        "id": "a570PwThgYi1"
      },
      "execution_count": 1,
      "outputs": []
    },
    {
      "cell_type": "code",
      "source": [
        "var1 = torch.tensor(5)\n",
        "print(var1)\n",
        "print(var1.shape)       # torch.Size([]) -> 0차원 텐서\n",
        "var2 = torch.tensor([10]) # vector 안에다가 넣음\n",
        "print(var2.shape)       # torch.Size([1]) -> 1차원 텐서. 스칼라가 아님"
      ],
      "metadata": {
        "colab": {
          "base_uri": "https://localhost:8080/"
        },
        "id": "Xg2emyzRhNti",
        "outputId": "79bfc765-6dd3-491d-cb48-2a6930172001"
      },
      "execution_count": 5,
      "outputs": [
        {
          "output_type": "stream",
          "name": "stdout",
          "text": [
            "tensor(5)\n",
            "torch.Size([])\n",
            "torch.Size([1])\n"
          ]
        }
      ]
    },
    {
      "cell_type": "code",
      "source": [
        "var3 = torch.tensor(3)\n",
        "result = var1 + var3\n",
        "print(result)        # tensor(8)\n",
        "print(result.item()) # 8 -> 텐서 값(스칼라)을 파이썬 숫자로 추출함"
      ],
      "metadata": {
        "colab": {
          "base_uri": "https://localhost:8080/"
        },
        "id": "63d2KFjVhfoP",
        "outputId": "46b76945-6cf0-4793-cfdc-650667d4525b"
      },
      "execution_count": 6,
      "outputs": [
        {
          "output_type": "stream",
          "name": "stdout",
          "text": [
            "tensor(8)\n",
            "8\n"
          ]
        }
      ]
    },
    {
      "cell_type": "markdown",
      "source": [
        "### 2. 벡터(Vector)\n",
        "\n",
        "벡터(Vector)는 하나 이상의 원소가 일렬로 나열된 1차원 텐서(1D Tensor)를 의미합니다. 파이토치(PyTorch)에서 벡터는 일반적으로 torch.tensor([...]) 형태로 만들며, 이때 텐서의 shape(차원)가 (n,) 형태입니다. 즉, 원소가 n개 들어 있으면 1차원 벡터가 됩니다."
      ],
      "metadata": {
        "id": "uVKJWXTNh1E2"
      }
    },
    {
      "cell_type": "code",
      "source": [
        "var1 = torch.tensor([1.0, 2.0, 3.0]) #  벡터\n",
        "print(var1)\n",
        "print(var1.shape)\n",
        "\n",
        "var2 = var1 + 10\n",
        "print(var2)\n",
        "var3 = var1 * 2\n",
        "print(var3)\n",
        "\n",
        "var4 = torch.tensor([4.0, 5.0, 6.0])\n",
        "result = var1 + var4\n",
        "print(result)"
      ],
      "metadata": {
        "colab": {
          "base_uri": "https://localhost:8080/"
        },
        "id": "BNXL56UIiKFt",
        "outputId": "3b4a25d9-c0e4-4464-b797-ea8b56cf7ab1"
      },
      "execution_count": 13,
      "outputs": [
        {
          "output_type": "stream",
          "name": "stdout",
          "text": [
            "tensor([1., 2., 3.])\n",
            "torch.Size([3])\n",
            "tensor([11., 12., 13.])\n",
            "tensor([2., 4., 6.])\n",
            "tensor([5., 7., 9.])\n"
          ]
        }
      ]
    },
    {
      "cell_type": "markdown",
      "source": [
        "###  3. 행렬\n",
        "\n",
        "행렬(Matrix)은 2차원 형태의 텐서로, 파이토치(PyTorch)에서는 shape가 (m, n)처럼 2개의 차원을 가진 텐서를 의미합니다. 예를 들어, torch.tensor([[1, 2], [3, 4]])는 2행×2열 형태의 행렬입니다. 행렬 연산에서는 행렬 곱셈, 원소별 연산, 전치(Transpose) 등이 자주 활용되며, 파이토치는 torch.mm 또는 @ 연산자를 통해 행렬 곱셈을 수행할 수 있습니다.\n"
      ],
      "metadata": {
        "id": "MUmnhi3iizBT"
      }
    },
    {
      "cell_type": "code",
      "source": [
        "var1 = torch.tensor([[1, 2],\n",
        "                  [3, 4]])\n",
        "var2 = torch.tensor([[5, 6],\n",
        "                  [7, 8]])\n",
        "\n",
        "print(var1)\n",
        "print(var1.shape) # torch.Size([2, 2]) -> 2차원 텐서\n",
        "\n",
        "result1 = var1 + var2\n",
        "print(result1)\n",
        "result2 = var1 + var2\n",
        "print(result2)\n",
        "\n",
        "result3 = torch.mm(var1, var2)   # 행렬 곱 연산자\n",
        "print(result3)\n",
        "\n",
        "result4 = var1 @ var2   # 행렬 곱 연산자\n",
        "print(result4)"
      ],
      "metadata": {
        "colab": {
          "base_uri": "https://localhost:8080/"
        },
        "id": "GgyAqfTkida8",
        "outputId": "0c825d0e-6623-4273-e8bd-64f79fb05897"
      },
      "execution_count": 22,
      "outputs": [
        {
          "output_type": "stream",
          "name": "stdout",
          "text": [
            "tensor([[1, 2],\n",
            "        [3, 4]])\n",
            "torch.Size([2, 2])\n",
            "tensor([[ 6,  8],\n",
            "        [10, 12]])\n",
            "tensor([[ 6,  8],\n",
            "        [10, 12]])\n",
            "tensor([[19, 22],\n",
            "        [43, 50]])\n",
            "tensor([[19, 22],\n",
            "        [43, 50]])\n"
          ]
        }
      ]
    },
    {
      "cell_type": "markdown",
      "source": [
        "# 4. 다차원 텐서\n",
        "\n",
        "파이토치(PyTorch)에서 다차원 텐서란, 여러 축(차원)을 가지는 텐서를 의미합니다. 예를 들어, 0차원 텐서는 “스칼라(Scalar)”, 1차원 텐서는 “벡터(Vector)”, 2차원 텐서는 “행렬(Matrix)”, 그 이상의 3차원, 4차원 텐서 등을 통틀어 “다차원 텐서(Multi-dimensional Tensor)”라고 부릅니다. 다차원 텐서는 이미지, 음성, 동영상, 시계열 데이터를 비롯하여 여러 축을 필요로 하는 다양한 형태의 데이터를 표현할 때 쓰입니다."
      ],
      "metadata": {
        "id": "DaKIyCYijnDL"
      }
    },
    {
      "cell_type": "code",
      "source": [
        "var1 = torch.tensor([\n",
        "    [[1, 2],\n",
        "     [3, 4]],\n",
        "\n",
        "    [[5, 6],\n",
        "     [7, 8]]\n",
        "])\n",
        "\n",
        "print(var1)\n",
        "print(var1.shape)  # torch.Size([2, 2, 2])"
      ],
      "metadata": {
        "colab": {
          "base_uri": "https://localhost:8080/"
        },
        "id": "kV2x2D_ojnbP",
        "outputId": "a3069c84-4296-4bbb-abe7-4aa2cb498b67"
      },
      "execution_count": 23,
      "outputs": [
        {
          "output_type": "stream",
          "name": "stdout",
          "text": [
            "tensor([[[1, 2],\n",
            "         [3, 4]],\n",
            "\n",
            "        [[5, 6],\n",
            "         [7, 8]]])\n",
            "torch.Size([2, 2, 2])\n"
          ]
        }
      ]
    },
    {
      "cell_type": "markdown",
      "source": [
        "![image.png](data:image/png;base64,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)"
      ],
      "metadata": {
        "id": "1SJNIAJ8kg1z"
      }
    },
    {
      "cell_type": "code",
      "source": [],
      "metadata": {
        "id": "n7ZsNBqKkiIz"
      },
      "execution_count": null,
      "outputs": []
    }
  ]
}