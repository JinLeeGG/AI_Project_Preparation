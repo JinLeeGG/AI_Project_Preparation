{
  "nbformat": 4,
  "nbformat_minor": 0,
  "metadata": {
    "colab": {
      "provenance": [],
      "authorship_tag": "ABX9TyOi8mhpk+4cK0g/TJyL3dvE",
      "include_colab_link": true
    },
    "kernelspec": {
      "name": "python3",
      "display_name": "Python 3"
    },
    "language_info": {
      "name": "python"
    }
  },
  "cells": [
    {
      "cell_type": "markdown",
      "metadata": {
        "id": "view-in-github",
        "colab_type": "text"
      },
      "source": [
        "<a href=\"https://colab.research.google.com/github/JinLeeGG/AI_Project_Preparation/blob/main/3.%20Data%20Analysis/01.%20Numpy/Numpy.ipynb\" target=\"_parent\"><img src=\"https://colab.research.google.com/assets/colab-badge.svg\" alt=\"Open In Colab\"/></a>"
      ]
    },
    {
      "cell_type": "markdown",
      "source": [
        "https://ryuzyproject.tistory.com/35"
      ],
      "metadata": {
        "id": "tzMfnmiQhLso"
      }
    },
    {
      "cell_type": "markdown",
      "source": [
        "# **1. 넘파이(Numpy)**\n",
        "넘파이(Numpy)는 파이썬에서 사용되는 과학 및 수학 연산을 위한 강력한 라이브러리입니다. 주로 다차원 배열을 다루는 데에 특화되어 있어, 데이터 분석, 머신러닝, 과학 계산 등 다양한 분야에서 널리 사용됩니다. 넘파이 배열은 C 언어로 구현되어 있어 연산이 빠르고 효율적입니다. 특히 큰 데이터셋에서 수치 연산을 수행할 때 뛰어난 성능을 보입니다. 또한 메모리 사용을 최적화하고 효율적으로 관리합니다."
      ],
      "metadata": {
        "id": "4yKB1vZxrOAv"
      }
    },
    {
      "cell_type": "code",
      "source": [
        "!pip install numpy"
      ],
      "metadata": {
        "colab": {
          "base_uri": "https://localhost:8080/"
        },
        "id": "HED8o7B0rcY7",
        "outputId": "39c36375-a3bd-4f2e-f6e9-10cf56d04c05"
      },
      "execution_count": 1,
      "outputs": [
        {
          "output_type": "stream",
          "name": "stdout",
          "text": [
            "Requirement already satisfied: numpy in /usr/local/lib/python3.11/dist-packages (2.0.2)\n"
          ]
        }
      ]
    },
    {
      "cell_type": "code",
      "source": [
        "import numpy as np"
      ],
      "metadata": {
        "id": "GU9k0qAYsxJt"
      },
      "execution_count": 2,
      "outputs": []
    },
    {
      "cell_type": "markdown",
      "source": [
        "# **2. 넘파이의 주요 특징과 기능**"
      ],
      "metadata": {
        "id": "3DF9FglFs0TS"
      }
    },
    {
      "cell_type": "markdown",
      "source": [
        "### 1. 다차원 배열(N-dimensional array)\n",
        "\n",
        "넘파이의 핵심은 다차원 배열인 ndarray입니다. ndarray는 동일한 자료형을 가지는 원소들로 이루어져 있습니다. 다차원 배열은 1차원, 2차원, 3차원 등 다양한 차원을 가질 수 있습니다."
      ],
      "metadata": {
        "id": "Mn5c3Jhds3Lu"
      }
    },
    {
      "cell_type": "code",
      "source": [
        "list1 = [1, 2, 3, 4]\n",
        "print(list1)\n",
        "print(type(list1))\n",
        "print(type(list1[0]))\n",
        "print(list1[0]) # indexing 할때는 scalar 값이 나온다.\n",
        "print(list1[:1]) # slicing 일때는 차원이 유지된다.\n",
        "\n",
        "list2 = [[1,2,3,4], [5,6,7,8]]\n",
        "print(list2)\n",
        "print(type(list2))\n",
        "print(type(list2[0]))"
      ],
      "metadata": {
        "colab": {
          "base_uri": "https://localhost:8080/"
        },
        "id": "1-vNwyMIs97t",
        "outputId": "e9e68b03-c363-42cb-b293-b5bb76581566"
      },
      "execution_count": 3,
      "outputs": [
        {
          "output_type": "stream",
          "name": "stdout",
          "text": [
            "[1, 2, 3, 4]\n",
            "<class 'list'>\n",
            "<class 'int'>\n",
            "1\n",
            "[1]\n",
            "[[1, 2, 3, 4], [5, 6, 7, 8]]\n",
            "<class 'list'>\n",
            "<class 'list'>\n"
          ]
        }
      ]
    },
    {
      "cell_type": "code",
      "source": [
        "ndarr1 = np.array([1,2,3,4])\n",
        "print(ndarr1)\n",
        "print(type(ndarr1))\n",
        "print(ndarr1[0])\n",
        "print(type(ndarr1[0]))\n",
        "# 리스트와 NDarray의 변환은 언제든지 가능하다."
      ],
      "metadata": {
        "colab": {
          "base_uri": "https://localhost:8080/"
        },
        "id": "NJiP7uLLuNHE",
        "outputId": "b1158f8e-440b-4bf9-cb48-e638bfb39a92"
      },
      "execution_count": 4,
      "outputs": [
        {
          "output_type": "stream",
          "name": "stdout",
          "text": [
            "[1 2 3 4]\n",
            "<class 'numpy.ndarray'>\n",
            "1\n",
            "<class 'numpy.int64'>\n"
          ]
        }
      ]
    },
    {
      "cell_type": "markdown",
      "source": [
        "### 2. 리스트와 ndarray 변환\n",
        "\n",
        "데이터 타입을 다른 데이터 타입으로 변환할 수 있습니다. 리스트에서 배열로의 변환은 np.array() 함수를 사용하고, 배열에서 리스트로의 변환은 tolist() 메서드를 사용합니다."
      ],
      "metadata": {
        "id": "UoSoaVxcuRSw"
      }
    },
    {
      "cell_type": "code",
      "source": [
        "# 리스트를 ndarray로 변환\n",
        "list1 = [1, 2, 3, 4]\n",
        "ndarr1 = np.array(list1)\n",
        "print(ndarr1)\n",
        "print(type(ndarr1))\n",
        "\n",
        "# ndarray를 리스트로 변환\n",
        "list2 = ndarr1.tolist()\n",
        "print(list2)\n",
        "print(type(list2))"
      ],
      "metadata": {
        "colab": {
          "base_uri": "https://localhost:8080/"
        },
        "id": "46gpDTAJvEP_",
        "outputId": "270d897c-53c2-4405-a803-6eacf7e3f359"
      },
      "execution_count": 5,
      "outputs": [
        {
          "output_type": "stream",
          "name": "stdout",
          "text": [
            "[1 2 3 4]\n",
            "<class 'numpy.ndarray'>\n",
            "[1, 2, 3, 4]\n",
            "<class 'list'>\n"
          ]
        }
      ]
    },
    {
      "cell_type": "markdown",
      "source": [
        "### 3. ndarray의 데이터 타입\n",
        "\n",
        "넘파이의 ndarray는 동일한 자료형을 가지는 원소들로 이루어져 있으며, 다양한 데이터 타입을 지원합니다."
      ],
      "metadata": {
        "id": "wVj8m4aQvMPq"
      }
    },
    {
      "cell_type": "code",
      "source": [
        "list1 = [1, 3.14, \"python\", \"◆\", True]\n",
        "print(list1)\n",
        "print(type(list1))\n",
        "print(type(list1[0]))\n",
        "print(type(list1[1]))\n",
        "print(type(list1[2]))\n",
        "print(type(list1[3]))\n",
        "print(type(list1[4]))"
      ],
      "metadata": {
        "colab": {
          "base_uri": "https://localhost:8080/"
        },
        "id": "28bsuEVXvmiR",
        "outputId": "acca3558-0813-4659-868b-125e430a9079"
      },
      "execution_count": 6,
      "outputs": [
        {
          "output_type": "stream",
          "name": "stdout",
          "text": [
            "[1, 3.14, 'python', '◆', True]\n",
            "<class 'list'>\n",
            "<class 'int'>\n",
            "<class 'float'>\n",
            "<class 'str'>\n",
            "<class 'str'>\n",
            "<class 'bool'>\n"
          ]
        }
      ]
    },
    {
      "cell_type": "code",
      "source": [
        "ndarr1 = np.array([1,2,3,4])\n",
        "print(ndarr1)\n",
        "print(type(ndarr1))\n",
        "print(type(ndarr1[0]))\n",
        "print(type(ndarr1[1]))"
      ],
      "metadata": {
        "colab": {
          "base_uri": "https://localhost:8080/"
        },
        "id": "aXG2lyXDwFdD",
        "outputId": "cb16fea9-1d9d-4f56-d9f7-dea8bb7db9ad"
      },
      "execution_count": 7,
      "outputs": [
        {
          "output_type": "stream",
          "name": "stdout",
          "text": [
            "[1 2 3 4]\n",
            "<class 'numpy.ndarray'>\n",
            "<class 'numpy.int64'>\n",
            "<class 'numpy.int64'>\n"
          ]
        }
      ]
    },
    {
      "cell_type": "code",
      "source": [
        "ndarr2 = np.array([1,2,3.14,4])\n",
        "print(ndarr2) # float로 변환된다.\n",
        "print(type(ndarr2[0]))\n",
        "print(type(ndarr2[1]))"
      ],
      "metadata": {
        "colab": {
          "base_uri": "https://localhost:8080/"
        },
        "id": "KvWkRyeHwWcO",
        "outputId": "a21dd442-8145-4c43-efbb-7bad60d61ece"
      },
      "execution_count": 8,
      "outputs": [
        {
          "output_type": "stream",
          "name": "stdout",
          "text": [
            "[1.   2.   3.14 4.  ]\n",
            "<class 'numpy.float64'>\n",
            "<class 'numpy.float64'>\n"
          ]
        }
      ]
    },
    {
      "cell_type": "code",
      "source": [
        "# 우선순위 float > int > bool\n",
        "ndarr3 = np.array([1, 2, 3.14, True]) # True는 1.0 으로 전환된다. True : 1 , False: 0\n",
        "print(ndarr3)\n",
        "print(type(ndarr3))\n",
        "print(type(ndarr3[0]))\n",
        "print(type(ndarr3[1]))\n",
        "print(type(ndarr3[2]))\n",
        "print(type(ndarr3[3]))"
      ],
      "metadata": {
        "colab": {
          "base_uri": "https://localhost:8080/"
        },
        "id": "RLB2c1hGwpuA",
        "outputId": "3f06bd2b-6870-479e-a239-cd509a3215ce"
      },
      "execution_count": 9,
      "outputs": [
        {
          "output_type": "stream",
          "name": "stdout",
          "text": [
            "[1.   2.   3.14 1.  ]\n",
            "<class 'numpy.ndarray'>\n",
            "<class 'numpy.float64'>\n",
            "<class 'numpy.float64'>\n",
            "<class 'numpy.float64'>\n",
            "<class 'numpy.float64'>\n"
          ]
        }
      ]
    },
    {
      "cell_type": "code",
      "source": [
        "# 우선순위 String > float > int > bool\n",
        "ndarr4 = np.array(['1', 2, 3.14, True])\n",
        "print(ndarr4)\n",
        "print(type(ndarr4))\n",
        "print(type(ndarr4[0]))\n",
        "print(type(ndarr4[1]))\n",
        "print(type(ndarr4[2]))\n",
        "print(type(ndarr4[3]))"
      ],
      "metadata": {
        "colab": {
          "base_uri": "https://localhost:8080/"
        },
        "id": "-nmScnS0xFwj",
        "outputId": "fdafd47d-573e-46a4-c946-4b797161e902"
      },
      "execution_count": 10,
      "outputs": [
        {
          "output_type": "stream",
          "name": "stdout",
          "text": [
            "['1' '2' '3.14' 'True']\n",
            "<class 'numpy.ndarray'>\n",
            "<class 'numpy.str_'>\n",
            "<class 'numpy.str_'>\n",
            "<class 'numpy.str_'>\n",
            "<class 'numpy.str_'>\n"
          ]
        }
      ]
    },
    {
      "cell_type": "code",
      "source": [
        "ndarr3 = np.array([1, 2, 3.14, True], dtype=int) # int 로 전체변환\n",
        "print(ndarr3)\n",
        "print(type(ndarr3))\n",
        "print(type(ndarr3[0]))\n",
        "print(type(ndarr3[1]))\n",
        "print(type(ndarr3[2]))\n",
        "print(type(ndarr3[3]))"
      ],
      "metadata": {
        "colab": {
          "base_uri": "https://localhost:8080/"
        },
        "id": "esotl9KkxPBU",
        "outputId": "d2ababbd-f9f3-4ce8-bba8-c40b97edf154"
      },
      "execution_count": 11,
      "outputs": [
        {
          "output_type": "stream",
          "name": "stdout",
          "text": [
            "[1 2 3 1]\n",
            "<class 'numpy.ndarray'>\n",
            "<class 'numpy.int64'>\n",
            "<class 'numpy.int64'>\n",
            "<class 'numpy.int64'>\n",
            "<class 'numpy.int64'>\n"
          ]
        }
      ]
    },
    {
      "cell_type": "code",
      "source": [
        "ndarr4 = np.array(['1', 2, 3.14, True], dtype=int) # string 이여도 int로 전체변환\n",
        "print(ndarr4)\n",
        "print(type(ndarr4))\n",
        "print(type(ndarr4[0]))\n",
        "print(type(ndarr4[1]))\n",
        "print(type(ndarr4[2]))\n",
        "print(type(ndarr4[3]))"
      ],
      "metadata": {
        "id": "lGk0euo5xj7e",
        "outputId": "43ff62da-ad11-4ba3-a4f1-e6373829e9d2",
        "colab": {
          "base_uri": "https://localhost:8080/"
        }
      },
      "execution_count": 12,
      "outputs": [
        {
          "output_type": "stream",
          "name": "stdout",
          "text": [
            "[1 2 3 1]\n",
            "<class 'numpy.ndarray'>\n",
            "<class 'numpy.int64'>\n",
            "<class 'numpy.int64'>\n",
            "<class 'numpy.int64'>\n",
            "<class 'numpy.int64'>\n"
          ]
        }
      ]
    },
    {
      "cell_type": "markdown",
      "source": [
        "### 4. ndarray 인덱싱과 슬라이싱\n",
        "\n",
        "넘파이의 ndarray는 리스트와 유사하게 인덱싱과 슬라이싱을 지원합니다."
      ],
      "metadata": {
        "id": "svr58VdEhC5X"
      }
    },
    {
      "cell_type": "code",
      "source": [
        "ndarr1 = np.array(['🍓', '🍉', '🍌', '🍒', '🍑'])\n",
        "print(ndarr1)\n",
        "print(ndarr1.shape) # 튜플로 반환한다.\n",
        "\n",
        "# 인덱싱 (하나를 가져온다)\n",
        "print(ndarr1[0])\n",
        "print(ndarr1[4])\n",
        "print(ndarr1[-1])\n",
        "print(ndarr1[-2])\n",
        "\n",
        "# 슬라이싱 (array 유지)\n",
        "print(ndarr1[0:3])\n",
        "print(ndarr1[2:])\n",
        "print(ndarr1[:3])"
      ],
      "metadata": {
        "colab": {
          "base_uri": "https://localhost:8080/"
        },
        "id": "heWuVJIkhTDu",
        "outputId": "0ec91f5d-7f2b-46f4-efee-e8d928b5804f"
      },
      "execution_count": 18,
      "outputs": [
        {
          "output_type": "stream",
          "name": "stdout",
          "text": [
            "['🍓' '🍉' '🍌' '🍒' '🍑']\n",
            "(5,)\n",
            "🍓\n",
            "🍑\n",
            "🍑\n",
            "🍒\n",
            "['🍓' '🍉' '🍌']\n",
            "['🍌' '🍒' '🍑']\n",
            "['🍓' '🍉' '🍌']\n"
          ]
        }
      ]
    },
    {
      "cell_type": "code",
      "source": [
        "# 2차원 배열\n",
        "ndarr2d = np.array([[1, 2, 3, 4],\n",
        "                    [5, 6, 7, 8],\n",
        "                    [9, 10, 11, 12]])\n",
        "print(ndarr2d)\n",
        "print(ndarr2d.shape) # (3,4) (행, 열)\n",
        "\n",
        "print(ndarr2d[0,:]) #0행, 전체열\n",
        "print(ndarr2d[0,]) #0행, 전체열\n",
        "print(ndarr2d[0]) #0행, 전체열\n",
        "\n",
        "# 0열 가져오기\n",
        "print(ndarr2d[:, 0])"
      ],
      "metadata": {
        "colab": {
          "base_uri": "https://localhost:8080/"
        },
        "id": "rwiyxPPJiR1X",
        "outputId": "4929a42a-ce9c-4779-ce69-c019ee3408ec"
      },
      "execution_count": 26,
      "outputs": [
        {
          "output_type": "stream",
          "name": "stdout",
          "text": [
            "[[ 1  2  3  4]\n",
            " [ 5  6  7  8]\n",
            " [ 9 10 11 12]]\n",
            "(3, 4)\n",
            "[1 2 3 4]\n",
            "[1 2 3 4]\n",
            "[1 2 3 4]\n",
            "[1 5 9]\n"
          ]
        }
      ]
    },
    {
      "cell_type": "code",
      "source": [
        "ndarr1 = np.array([10, 15, 2, 8, 20, 90, 85, 44, 23, 32])\n",
        "idx = [2, 5, 9]\n",
        "\n",
        "print(ndarr1[idx]) # ndarr1[[2, 5, 9]] indexing 2, 5, 9\n",
        "\n",
        "ndarr2d = np.array([[1, 2, 3, 4],\n",
        "                    [5, 6, 7, 8],\n",
        "                    [9, 10, 11, 12]])\n",
        "\n",
        "print(ndarr2d[[0, 1], :]) # 0, 1번행, 전체열 가져오기"
      ],
      "metadata": {
        "colab": {
          "base_uri": "https://localhost:8080/"
        },
        "id": "doxxl_PHi36i",
        "outputId": "0798139a-b14d-4152-caaa-31c69620c388"
      },
      "execution_count": 30,
      "outputs": [
        {
          "output_type": "stream",
          "name": "stdout",
          "text": [
            "[ 2 90 32]\n",
            "[[1 2 3 4]\n",
            " [5 6 7 8]]\n"
          ]
        }
      ]
    },
    {
      "cell_type": "code",
      "source": [
        "# boolean 값이 들어가면 가져올지 말지를 정해준다.\n",
        "ndarr1 = np.array(['🍓', '🍉', '🍌', '🍒', '🍑'])\n",
        "sel = [True, False, True, True, False]\n",
        "print(ndarr1[sel]) # True 값들만 가져온다."
      ],
      "metadata": {
        "colab": {
          "base_uri": "https://localhost:8080/"
        },
        "id": "nIRMYF84kBFa",
        "outputId": "84180635-5ae5-4766-9105-ee4e03704d1d"
      },
      "execution_count": 33,
      "outputs": [
        {
          "output_type": "stream",
          "name": "stdout",
          "text": [
            "['🍓' '🍌' '🍒']\n"
          ]
        }
      ]
    },
    {
      "cell_type": "code",
      "source": [
        "ndarr2d = np.array([[1, 2, 3, 4],\n",
        "                    [5, 6, 7, 8],\n",
        "                    [9, 10, 11, 12]])\n",
        "\n",
        "print(ndarr2d > 7) # 각각의 요소와 비교연산을 해서 boolean 값으로 표현해준다.\n",
        "print(ndarr2d[ndarr2d > 7]) # True False 에대한 값이 들어가면 해당하는 내용만 뽑아온다."
      ],
      "metadata": {
        "colab": {
          "base_uri": "https://localhost:8080/"
        },
        "id": "dtVOfMHbkYO6",
        "outputId": "df8ab2c2-2a59-4c33-b94d-25c6fc49c71a"
      },
      "execution_count": 35,
      "outputs": [
        {
          "output_type": "stream",
          "name": "stdout",
          "text": [
            "[[False False False False]\n",
            " [False False False  True]\n",
            " [ True  True  True  True]]\n",
            "[ 8  9 10 11 12]\n"
          ]
        }
      ]
    },
    {
      "cell_type": "markdown",
      "source": [
        "# 3. 행렬 연산\n",
        "넘파이에서는 다차원 배열인 ndarray를 사용하여 행렬 연산을 수행할 수 있습니다. 행렬 연산은 선형 대수와 관련이 깊어, 데이터 과학, 머신러닝, 통계 등 다양한 분야에서 사용됩니다.\n",
        "\n",
        "\n",
        "\n",
        "※ 선형 대수\n",
        "\n",
        "> 선형 대수는 벡터와 행렬을 사용해 공간과 변환을 다루는 수학의 한 분야입니다. 쉽게 말해, 여러 숫자를 체계적으로 배열한 벡터(리스트 같은 것)와 행렬(숫자가 격자로 배열된 표)을 이용해 데이터를 표현하고 조작하는 방법입니다. 선형 대수는 컴퓨터 그래픽스, 머신러닝, 물리학, 공학 등 다양한 분야에서 사용됩니다. 예를 들어, 사진에서 색상을 조정하거나, 로봇이 움직일 경로를 계산하거나, AI가 데이터를 분석하는 데도 선형 대수가 필요합니다.\n",
        "\n",
        "* 백터 : 특정 데이터를 한줄로 묶어놓은것 [1,2,3,4]\n",
        "* 행열 : 백터가 여러개 있는것 [[1,2,3],[1,2,3]]\n"
      ],
      "metadata": {
        "id": "gF4VFV0IlAYg"
      }
    },
    {
      "cell_type": "code",
      "source": [
        "a = np.array([[1, 2, 3],\n",
        "              [2, 3, 4]])\n",
        "\n",
        "b = np.array([[3, 4, 5],\n",
        "              [1, 2, 3]])\n",
        "\n",
        "print(a.shape, b.shape)"
      ],
      "metadata": {
        "id": "p8-giNfFlL3u",
        "colab": {
          "base_uri": "https://localhost:8080/"
        },
        "outputId": "8ffa7ecb-a3f8-4118-c00e-a1d5c1b30ecf"
      },
      "execution_count": 47,
      "outputs": [
        {
          "output_type": "stream",
          "name": "stdout",
          "text": [
            "(2, 3) (2, 3)\n"
          ]
        }
      ]
    },
    {
      "cell_type": "code",
      "source": [
        "# 행렬 덧셈\n",
        "print(a + b)"
      ],
      "metadata": {
        "colab": {
          "base_uri": "https://localhost:8080/"
        },
        "id": "xxVLd-iQlihv",
        "outputId": "75a6c75c-8c0a-4468-a2de-48ab30eacdf1"
      },
      "execution_count": 45,
      "outputs": [
        {
          "output_type": "stream",
          "name": "stdout",
          "text": [
            "[[4 6 8]\n",
            " [3 5 7]]\n"
          ]
        }
      ]
    },
    {
      "cell_type": "code",
      "source": [
        "# 행렬 뺄셈\n",
        "print(a - b)"
      ],
      "metadata": {
        "colab": {
          "base_uri": "https://localhost:8080/"
        },
        "id": "4gVrfu-PnNM8",
        "outputId": "ecadfe92-87e2-4e57-8c9c-c53bbcefe974"
      },
      "execution_count": 42,
      "outputs": [
        {
          "output_type": "stream",
          "name": "stdout",
          "text": [
            "[[-2 -2 -2]\n",
            " [ 1  1  1]]\n"
          ]
        }
      ]
    },
    {
      "cell_type": "code",
      "source": [
        "# 행렬 원소별 곱셈\n",
        "print(a * b)"
      ],
      "metadata": {
        "colab": {
          "base_uri": "https://localhost:8080/"
        },
        "id": "VOc5LDY4nOju",
        "outputId": "cb7f0210-14ba-462e-d2be-0b31e2695b45"
      },
      "execution_count": 43,
      "outputs": [
        {
          "output_type": "stream",
          "name": "stdout",
          "text": [
            "[[ 3  8 15]\n",
            " [ 2  6 12]]\n"
          ]
        }
      ]
    },
    {
      "cell_type": "code",
      "source": [
        "# 행렬 나눗셈\n",
        "print(a / b)"
      ],
      "metadata": {
        "colab": {
          "base_uri": "https://localhost:8080/"
        },
        "id": "2A9t_3XNnQgX",
        "outputId": "14672970-e250-4160-e431-99922c007a37"
      },
      "execution_count": 44,
      "outputs": [
        {
          "output_type": "stream",
          "name": "stdout",
          "text": [
            "[[0.33333333 0.5        0.6       ]\n",
            " [2.         1.5        1.33333333]]\n"
          ]
        }
      ]
    },
    {
      "cell_type": "markdown",
      "source": [
        "### 행렬곱\n",
        "\n",
        "행렬곱은 두 행렬을 곱해서 새로운 행렬을 만드는 연산으로, 데이터의 변환이나 계산에서 많이 사용됩니다. 행렬은 숫자를 격자로 배열한 것으로, 벡터나 데이터를 다루는 데 유용합니다.\n",
        "\n",
        "\n",
        "\n",
        "※  행렬곱의 규칙\n",
        "1. 첫 번째 행렬의 열(가로 숫자 개수)과 두 번째 행렬의 행(세로 숫자 개수)이 같아야 합니다.\n",
        "예: A가 2×3 행렬이고 B가 3×2 행렬이라면, A와 B를 곱할 수 있습니다.\n",
        "2. 결과 행렬은 첫 번째 행렬의 행 개수 × 두 번째 행렬의 열 개수입니다.\n",
        "예: A(2×3) × B(3×2) → 결과는 2×2 행렬.\n",
        "3. 행렬곱은 첫 번째 행렬의 한 행과 두 번째 행렬의 한 열을 각각 곱한 뒤 더해서 계산합니다."
      ],
      "metadata": {
        "id": "VvUmXTNInUUN"
      }
    },
    {
      "cell_type": "code",
      "source": [
        "ndarr3 = np.array([[1, 2, 3],\n",
        "                   [1, 2, 3],\n",
        "                   [2, 3, 4]])\n",
        "ndarr4 = np.array([[1, 2],\n",
        "                   [3, 4],\n",
        "                   [5, 6]])\n",
        "\n",
        "print(ndarr3.shape)\n",
        "print(ndarr4.shape)"
      ],
      "metadata": {
        "colab": {
          "base_uri": "https://localhost:8080/"
        },
        "id": "TC3AuBhEntxL",
        "outputId": "2b42001c-a086-4061-8570-2392560622d2"
      },
      "execution_count": 49,
      "outputs": [
        {
          "output_type": "stream",
          "name": "stdout",
          "text": [
            "(3, 3)\n",
            "(3, 2)\n"
          ]
        }
      ]
    },
    {
      "cell_type": "code",
      "source": [
        "print((1*1 + 2*3 + 3*5), (1*2 + 2*4 + 3*6))\n",
        "print((1*1 + 2*3 + 3*5), (1*2 + 2*4 + 3*6))\n",
        "print((2*1 + 3*3 + 4*5), (2*2 + 3*4 + 4*6))"
      ],
      "metadata": {
        "colab": {
          "base_uri": "https://localhost:8080/"
        },
        "id": "m2gRWa2KoCDQ",
        "outputId": "fd589ae0-1a02-4d18-b2fb-64cc347d8913"
      },
      "execution_count": 51,
      "outputs": [
        {
          "output_type": "stream",
          "name": "stdout",
          "text": [
            "22 28\n",
            "22 28\n",
            "31 40\n"
          ]
        }
      ]
    },
    {
      "cell_type": "code",
      "source": [
        "# 행렬곱 (할때 이걸로 사용)\n",
        "print(ndarr3 @ ndarr4)"
      ],
      "metadata": {
        "colab": {
          "base_uri": "https://localhost:8080/"
        },
        "id": "OSF1zo8ypNTX",
        "outputId": "68d1cc25-5e7d-4f9e-f413-755a6b510bd2"
      },
      "execution_count": 52,
      "outputs": [
        {
          "output_type": "stream",
          "name": "stdout",
          "text": [
            "[[22 28]\n",
            " [22 28]\n",
            " [31 40]]\n"
          ]
        }
      ]
    },
    {
      "cell_type": "code",
      "source": [
        "# dot product (완전히 같은건 아님)\n",
        "np.dot(ndarr3, ndarr4)"
      ],
      "metadata": {
        "colab": {
          "base_uri": "https://localhost:8080/"
        },
        "id": "3ZWmiYhhpc8U",
        "outputId": "468af670-482f-4e58-f595-0191e83941cb"
      },
      "execution_count": 53,
      "outputs": [
        {
          "output_type": "execute_result",
          "data": {
            "text/plain": [
              "array([[22, 28],\n",
              "       [22, 28],\n",
              "       [31, 40]])"
            ]
          },
          "metadata": {},
          "execution_count": 53
        }
      ]
    },
    {
      "cell_type": "markdown",
      "source": [
        "# 4. 순차적인 값 생성\n",
        "NumPy에서 np.arange() 함수는 일정한 간격으로 숫자들을 생성하는 데 사용됩니다. 이 함수는 Python의 기본 range() 함수와 유사하지만, NumPy 배열을 반환하므로 수학적인 연산이 가능합니다."
      ],
      "metadata": {
        "id": "PeflP98xpfU6"
      }
    },
    {
      "cell_type": "code",
      "source": [
        "arr1 = range(1, 11)\n",
        "print(arr1)\n",
        "\n",
        "for i in arr1:\n",
        "    print(i, end=' ')"
      ],
      "metadata": {
        "colab": {
          "base_uri": "https://localhost:8080/"
        },
        "id": "RODAdW_Qpqki",
        "outputId": "1f07852d-400f-4fd5-ff86-9cb1e7337b40"
      },
      "execution_count": 56,
      "outputs": [
        {
          "output_type": "stream",
          "name": "stdout",
          "text": [
            "range(1, 11)\n",
            "1 2 3 4 5 6 7 8 9 10 "
          ]
        }
      ]
    },
    {
      "cell_type": "code",
      "source": [
        "# numpy 배열 반환\n",
        "arr2 = np.arange(1, 11)\n",
        "print(arr2)\n",
        "print(type(arr2))\n",
        "\n",
        "for i in arr2:\n",
        "    print(i, end=' ')"
      ],
      "metadata": {
        "colab": {
          "base_uri": "https://localhost:8080/"
        },
        "id": "mI0m-NUcqC2v",
        "outputId": "5034343a-f0d4-4842-a333-cfac6549da4e"
      },
      "execution_count": 63,
      "outputs": [
        {
          "output_type": "stream",
          "name": "stdout",
          "text": [
            "[ 1  2  3  4  5  6  7  8  9 10]\n",
            "<class 'numpy.ndarray'>\n",
            "1 2 3 4 5 6 7 8 9 10 "
          ]
        }
      ]
    },
    {
      "cell_type": "markdown",
      "source": [
        "# 5. 정렬\n",
        "NumPy의 np.sort() 함수는 배열을 정렬하는 데 사용됩니다. 이 함수는 기본적으로 원래 배열을 변경하지 않고 정렬된 배열의 복사본을 반환합니다."
      ],
      "metadata": {
        "id": "Mi4YiEcnqNHA"
      }
    },
    {
      "cell_type": "code",
      "source": [
        "ndarr1 = np.array([1, 10, 5, 7, 2, 4, 3, 6, 8, 9])\n",
        "print(ndarr1, \"원본\")\n",
        "\n",
        "print(np.sort(ndarr1), \"오름차순\") # 오름차순 정렬\n",
        "print(ndarr1, \"원본\")\n",
        "\n",
        "print(np.sort(ndarr1)[::-1], \"내림차순\") # 내림차순"
      ],
      "metadata": {
        "colab": {
          "base_uri": "https://localhost:8080/"
        },
        "id": "YJfp0QoJqXL_",
        "outputId": "87328827-3e27-4d37-e4f8-d11b0816501e"
      },
      "execution_count": 73,
      "outputs": [
        {
          "output_type": "stream",
          "name": "stdout",
          "text": [
            "[ 1 10  5  7  2  4  3  6  8  9] 원본\n",
            "[ 1  2  3  4  5  6  7  8  9 10] 오름차순\n",
            "[ 1 10  5  7  2  4  3  6  8  9] 원본\n",
            "[10  9  8  7  6  5  4  3  2  1] 내림차순\n"
          ]
        }
      ]
    },
    {
      "cell_type": "code",
      "source": [
        "ndarr2d = np.array([[11, 10, 12, 9],\n",
        "                    [3, 1, 4, 2],\n",
        "                    [5, 6, 7, 8]])\n",
        "print(ndarr2d.shape)"
      ],
      "metadata": {
        "colab": {
          "base_uri": "https://localhost:8080/"
        },
        "id": "ipiYFzyprR5_",
        "outputId": "1bbea5ef-a4f9-4335-92b6-1c4835cff413"
      },
      "execution_count": 74,
      "outputs": [
        {
          "output_type": "stream",
          "name": "stdout",
          "text": [
            "(3, 4)\n"
          ]
        }
      ]
    },
    {
      "cell_type": "code",
      "source": [
        "# 열 단위로 정렬. 각 열의 값들을 개별적으로 오름차순으로 정렬하며, 행(row)의 순서는 재배열\n",
        "np.sort(ndarr2d, axis=0) # 0번축"
      ],
      "metadata": {
        "colab": {
          "base_uri": "https://localhost:8080/"
        },
        "id": "40fTRaoerTVo",
        "outputId": "a3ab036d-65a0-48f0-aeca-74584ca92b4b"
      },
      "execution_count": 76,
      "outputs": [
        {
          "output_type": "execute_result",
          "data": {
            "text/plain": [
              "array([[ 3,  1,  4,  2],\n",
              "       [ 5,  6,  7,  8],\n",
              "       [11, 10, 12,  9]])"
            ]
          },
          "metadata": {},
          "execution_count": 76
        }
      ]
    },
    {
      "cell_type": "code",
      "source": [
        "# 행(row) 단위로 정렬. 각 행의 원소들이 개별적으로 오름차순으로 정렬\n",
        "np.sort(ndarr2d, axis=1)"
      ],
      "metadata": {
        "colab": {
          "base_uri": "https://localhost:8080/"
        },
        "id": "7jNmCpXZrmIh",
        "outputId": "cd40d65d-422e-48a3-cb30-9699b4e4631e"
      },
      "execution_count": 77,
      "outputs": [
        {
          "output_type": "execute_result",
          "data": {
            "text/plain": [
              "array([[ 9, 10, 11, 12],\n",
              "       [ 1,  2,  3,  4],\n",
              "       [ 5,  6,  7,  8]])"
            ]
          },
          "metadata": {},
          "execution_count": 77
        }
      ]
    },
    {
      "cell_type": "code",
      "source": [
        "# 행 단위로 정렬한 후, 각 행의 값을 역순으로 정렬하는 동작을 수행\n",
        "np.sort(ndarr2d, axis=1)[:, ::-1]"
      ],
      "metadata": {
        "colab": {
          "base_uri": "https://localhost:8080/"
        },
        "id": "FHRryeBPru7v",
        "outputId": "e26fa862-8629-434f-d33c-7c9cf5087dff"
      },
      "execution_count": 78,
      "outputs": [
        {
          "output_type": "execute_result",
          "data": {
            "text/plain": [
              "array([[12, 11, 10,  9],\n",
              "       [ 4,  3,  2,  1],\n",
              "       [ 8,  7,  6,  5]])"
            ]
          },
          "metadata": {},
          "execution_count": 78
        }
      ]
    },
    {
      "cell_type": "code",
      "source": [
        "# axis=1과 동일하게 동작. -1은 배열의 마지막 축을 기준으로 동작하라는 의미. 2차원 배열에서 마지막 축은 axis=1을 나타냄\n",
        "np.sort(ndarr2d, axis=-1) # [0, 1] 중 -1은 1을 나타냄 따라서 1과 동일하게 동작"
      ],
      "metadata": {
        "colab": {
          "base_uri": "https://localhost:8080/"
        },
        "id": "PVyTdp4Tr9AQ",
        "outputId": "b2a063a4-7b9e-439d-fdaf-bcac0e309971"
      },
      "execution_count": 79,
      "outputs": [
        {
          "output_type": "execute_result",
          "data": {
            "text/plain": [
              "array([[ 9, 10, 11, 12],\n",
              "       [ 1,  2,  3,  4],\n",
              "       [ 5,  6,  7,  8]])"
            ]
          },
          "metadata": {},
          "execution_count": 79
        }
      ]
    }
  ]
}