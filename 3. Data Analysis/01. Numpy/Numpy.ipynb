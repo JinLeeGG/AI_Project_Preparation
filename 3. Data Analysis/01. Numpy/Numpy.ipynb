{
  "nbformat": 4,
  "nbformat_minor": 0,
  "metadata": {
    "colab": {
      "provenance": [],
      "authorship_tag": "ABX9TyPAWDZda59eVuTHNvorCvmm",
      "include_colab_link": true
    },
    "kernelspec": {
      "name": "python3",
      "display_name": "Python 3"
    },
    "language_info": {
      "name": "python"
    }
  },
  "cells": [
    {
      "cell_type": "markdown",
      "metadata": {
        "id": "view-in-github",
        "colab_type": "text"
      },
      "source": [
        "<a href=\"https://colab.research.google.com/github/JinLeeGG/AI_Project_Preparation/blob/main/3.%20Data%20Analysis/01.%20Numpy/Numpy.ipynb\" target=\"_parent\"><img src=\"https://colab.research.google.com/assets/colab-badge.svg\" alt=\"Open In Colab\"/></a>"
      ]
    },
    {
      "cell_type": "markdown",
      "source": [
        "# **1. 넘파이(Numpy)**\n",
        "넘파이(Numpy)는 파이썬에서 사용되는 과학 및 수학 연산을 위한 강력한 라이브러리입니다. 주로 다차원 배열을 다루는 데에 특화되어 있어, 데이터 분석, 머신러닝, 과학 계산 등 다양한 분야에서 널리 사용됩니다. 넘파이 배열은 C 언어로 구현되어 있어 연산이 빠르고 효율적입니다. 특히 큰 데이터셋에서 수치 연산을 수행할 때 뛰어난 성능을 보입니다. 또한 메모리 사용을 최적화하고 효율적으로 관리합니다."
      ],
      "metadata": {
        "id": "4yKB1vZxrOAv"
      }
    },
    {
      "cell_type": "code",
      "source": [
        "!pip install numpy"
      ],
      "metadata": {
        "colab": {
          "base_uri": "https://localhost:8080/"
        },
        "id": "HED8o7B0rcY7",
        "outputId": "4c66e179-b1b3-40ff-ab2a-2ca4ec858adb"
      },
      "execution_count": 1,
      "outputs": [
        {
          "output_type": "stream",
          "name": "stdout",
          "text": [
            "Requirement already satisfied: numpy in /usr/local/lib/python3.11/dist-packages (2.0.2)\n"
          ]
        }
      ]
    },
    {
      "cell_type": "code",
      "source": [
        "import numpy as np"
      ],
      "metadata": {
        "id": "GU9k0qAYsxJt"
      },
      "execution_count": 2,
      "outputs": []
    },
    {
      "cell_type": "markdown",
      "source": [
        "# **2. 넘파이의 주요 특징과 기능**"
      ],
      "metadata": {
        "id": "3DF9FglFs0TS"
      }
    },
    {
      "cell_type": "markdown",
      "source": [
        "### 1. 다차원 배열(N-dimensional array)\n",
        "\n",
        "넘파이의 핵심은 다차원 배열인 ndarray입니다. ndarray는 동일한 자료형을 가지는 원소들로 이루어져 있습니다. 다차원 배열은 1차원, 2차원, 3차원 등 다양한 차원을 가질 수 있습니다."
      ],
      "metadata": {
        "id": "Mn5c3Jhds3Lu"
      }
    },
    {
      "cell_type": "code",
      "source": [
        "list1 = [1, 2, 3, 4]\n",
        "print(list1)\n",
        "print(type(list1))\n",
        "print(type(list1[0]))\n",
        "print(list1[0]) # indexing 할때는 scalar 값이 나온다.\n",
        "print(list1[:1]) # slicing 일때는 차원이 유지된다.\n",
        "\n",
        "list2 = [[1,2,3,4], [5,6,7,8]]\n",
        "print(list2)\n",
        "print(type(list2))\n",
        "print(type(list2[0]))"
      ],
      "metadata": {
        "colab": {
          "base_uri": "https://localhost:8080/"
        },
        "id": "1-vNwyMIs97t",
        "outputId": "1d084881-e79b-4334-892a-6ca07a11bdbc"
      },
      "execution_count": 8,
      "outputs": [
        {
          "output_type": "stream",
          "name": "stdout",
          "text": [
            "[1, 2, 3, 4]\n",
            "<class 'list'>\n",
            "<class 'int'>\n",
            "1\n",
            "[1]\n",
            "[[1, 2, 3, 4], [5, 6, 7, 8]]\n",
            "<class 'list'>\n",
            "<class 'list'>\n"
          ]
        }
      ]
    },
    {
      "cell_type": "code",
      "source": [
        "ndarr1 = np.array([1,2,3,4])\n",
        "print(ndarr1)\n",
        "print(type(ndarr1))\n",
        "print(ndarr1[0])\n",
        "print(type(ndarr1[0]))\n",
        "# 리스트와 NDarray의 변환은 언제든지 가능하다."
      ],
      "metadata": {
        "colab": {
          "base_uri": "https://localhost:8080/"
        },
        "id": "NJiP7uLLuNHE",
        "outputId": "350c2498-8103-418c-e331-c051dc1c4d1e"
      },
      "execution_count": 12,
      "outputs": [
        {
          "output_type": "stream",
          "name": "stdout",
          "text": [
            "[1 2 3 4]\n",
            "<class 'numpy.ndarray'>\n",
            "1\n",
            "<class 'numpy.int64'>\n"
          ]
        }
      ]
    },
    {
      "cell_type": "markdown",
      "source": [
        "### 2. 리스트와 ndarray 변환\n",
        "\n",
        "데이터 타입을 다른 데이터 타입으로 변환할 수 있습니다. 리스트에서 배열로의 변환은 np.array() 함수를 사용하고, 배열에서 리스트로의 변환은 tolist() 메서드를 사용합니다."
      ],
      "metadata": {
        "id": "UoSoaVxcuRSw"
      }
    },
    {
      "cell_type": "code",
      "source": [
        "# 리스트를 ndarray로 변환\n",
        "list1 = [1, 2, 3, 4]\n",
        "ndarr1 = np.array(list1)\n",
        "print(ndarr1)\n",
        "print(type(ndarr1))\n",
        "\n",
        "# ndarray를 리스트로 변환\n",
        "list2 = ndarr1.tolist()\n",
        "print(list2)\n",
        "print(type(list2))"
      ],
      "metadata": {
        "colab": {
          "base_uri": "https://localhost:8080/"
        },
        "id": "46gpDTAJvEP_",
        "outputId": "1bd3be85-2f27-4e37-8154-05936028e7d3"
      },
      "execution_count": 16,
      "outputs": [
        {
          "output_type": "stream",
          "name": "stdout",
          "text": [
            "[1 2 3 4]\n",
            "<class 'numpy.ndarray'>\n",
            "[1, 2, 3, 4]\n",
            "<class 'list'>\n"
          ]
        }
      ]
    },
    {
      "cell_type": "markdown",
      "source": [
        "### 3. ndarray의 데이터 타입\n",
        "\n",
        "넘파이의 ndarray는 동일한 자료형을 가지는 원소들로 이루어져 있으며, 다양한 데이터 타입을 지원합니다."
      ],
      "metadata": {
        "id": "wVj8m4aQvMPq"
      }
    },
    {
      "cell_type": "code",
      "source": [
        "list1 = [1, 3.14, \"python\", \"◆\", True]\n",
        "print(list1)\n",
        "print(type(list1))\n",
        "print(type(list1[0]))\n",
        "print(type(list1[1]))\n",
        "print(type(list1[2]))\n",
        "print(type(list1[3]))\n",
        "print(type(list1[4]))"
      ],
      "metadata": {
        "colab": {
          "base_uri": "https://localhost:8080/"
        },
        "id": "28bsuEVXvmiR",
        "outputId": "1e441c85-2434-41ef-f4dd-5e5cf245034f"
      },
      "execution_count": 21,
      "outputs": [
        {
          "output_type": "stream",
          "name": "stdout",
          "text": [
            "[1, 3.14, 'python', '◆', True]\n",
            "<class 'list'>\n",
            "<class 'int'>\n",
            "<class 'float'>\n",
            "<class 'str'>\n",
            "<class 'str'>\n",
            "<class 'bool'>\n"
          ]
        }
      ]
    },
    {
      "cell_type": "code",
      "source": [
        "ndarr1 = np.array([1,2,3,4])\n",
        "print(ndarr1)\n",
        "print(type(ndarr1))\n",
        "print(type(ndarr1[0]))\n",
        "print(type(ndarr1[1]))"
      ],
      "metadata": {
        "colab": {
          "base_uri": "https://localhost:8080/"
        },
        "id": "aXG2lyXDwFdD",
        "outputId": "0d2dfa73-c350-4b12-faa7-b810d75efe17"
      },
      "execution_count": 23,
      "outputs": [
        {
          "output_type": "stream",
          "name": "stdout",
          "text": [
            "[1 2 3 4]\n",
            "<class 'numpy.ndarray'>\n",
            "<class 'numpy.int64'>\n",
            "<class 'numpy.int64'>\n"
          ]
        }
      ]
    },
    {
      "cell_type": "code",
      "source": [
        "ndarr2 = np.array([1,2,3.14,4])\n",
        "print(ndarr2) # float로 변환된다.\n",
        "print(type(ndarr2[0]))\n",
        "print(type(ndarr2[1]))"
      ],
      "metadata": {
        "colab": {
          "base_uri": "https://localhost:8080/"
        },
        "id": "KvWkRyeHwWcO",
        "outputId": "ad54ceb8-8750-413f-e698-ff32d5bff6d6"
      },
      "execution_count": 26,
      "outputs": [
        {
          "output_type": "stream",
          "name": "stdout",
          "text": [
            "[1.   2.   3.14 4.  ]\n",
            "<class 'numpy.float64'>\n",
            "<class 'numpy.float64'>\n"
          ]
        }
      ]
    },
    {
      "cell_type": "code",
      "source": [
        "# 우선순위 float > int > bool\n",
        "ndarr3 = np.array([1, 2, 3.14, True]) # True는 1.0 으로 전환된다. True : 1 , False: 0\n",
        "print(ndarr3)\n",
        "print(type(ndarr3))\n",
        "print(type(ndarr3[0]))\n",
        "print(type(ndarr3[1]))\n",
        "print(type(ndarr3[2]))\n",
        "print(type(ndarr3[3]))"
      ],
      "metadata": {
        "colab": {
          "base_uri": "https://localhost:8080/"
        },
        "id": "RLB2c1hGwpuA",
        "outputId": "9d36dff1-8b5c-4af2-8578-82fc5db38bf8"
      },
      "execution_count": 27,
      "outputs": [
        {
          "output_type": "stream",
          "name": "stdout",
          "text": [
            "[1.   2.   3.14 1.  ]\n",
            "<class 'numpy.ndarray'>\n",
            "<class 'numpy.float64'>\n",
            "<class 'numpy.float64'>\n",
            "<class 'numpy.float64'>\n",
            "<class 'numpy.float64'>\n"
          ]
        }
      ]
    },
    {
      "cell_type": "code",
      "source": [
        "# 우선순위 String > float > int > bool\n",
        "ndarr4 = np.array(['1', 2, 3.14, True])\n",
        "print(ndarr4)\n",
        "print(type(ndarr4))\n",
        "print(type(ndarr4[0]))\n",
        "print(type(ndarr4[1]))\n",
        "print(type(ndarr4[2]))\n",
        "print(type(ndarr4[3]))"
      ],
      "metadata": {
        "colab": {
          "base_uri": "https://localhost:8080/"
        },
        "id": "-nmScnS0xFwj",
        "outputId": "bbe7477c-efa8-4a00-f975-329209f34fa0"
      },
      "execution_count": 29,
      "outputs": [
        {
          "output_type": "stream",
          "name": "stdout",
          "text": [
            "['1' '2' '3.14' 'True']\n",
            "<class 'numpy.ndarray'>\n",
            "<class 'numpy.str_'>\n",
            "<class 'numpy.str_'>\n",
            "<class 'numpy.str_'>\n",
            "<class 'numpy.str_'>\n"
          ]
        }
      ]
    },
    {
      "cell_type": "code",
      "source": [
        "ndarr3 = np.array([1, 2, 3.14, True], dtype=int) # int 로 전체변환\n",
        "print(ndarr3)\n",
        "print(type(ndarr3))\n",
        "print(type(ndarr3[0]))\n",
        "print(type(ndarr3[1]))\n",
        "print(type(ndarr3[2]))\n",
        "print(type(ndarr3[3]))"
      ],
      "metadata": {
        "colab": {
          "base_uri": "https://localhost:8080/"
        },
        "id": "esotl9KkxPBU",
        "outputId": "a2c005de-d28c-4f3c-dbc9-241fb64546c2"
      },
      "execution_count": 30,
      "outputs": [
        {
          "output_type": "stream",
          "name": "stdout",
          "text": [
            "[1 2 3 1]\n",
            "<class 'numpy.ndarray'>\n",
            "<class 'numpy.int64'>\n",
            "<class 'numpy.int64'>\n",
            "<class 'numpy.int64'>\n",
            "<class 'numpy.int64'>\n"
          ]
        }
      ]
    },
    {
      "cell_type": "code",
      "source": [
        "ndarr4 = np.array(['1', 2, 3.14, True], dtype=int) # string 이여도 int로 전체변환\n",
        "print(ndarr4)\n",
        "print(type(ndarr4))\n",
        "print(type(ndarr4[0]))\n",
        "print(type(ndarr4[1]))\n",
        "print(type(ndarr4[2]))\n",
        "print(type(ndarr4[3]))"
      ],
      "metadata": {
        "colab": {
          "base_uri": "https://localhost:8080/"
        },
        "id": "lGk0euo5xj7e",
        "outputId": "62e371ab-cdd5-4da0-cb79-0ac147cf09cf"
      },
      "execution_count": 31,
      "outputs": [
        {
          "output_type": "stream",
          "name": "stdout",
          "text": [
            "[1 2 3 1]\n",
            "<class 'numpy.ndarray'>\n",
            "<class 'numpy.int64'>\n",
            "<class 'numpy.int64'>\n",
            "<class 'numpy.int64'>\n",
            "<class 'numpy.int64'>\n"
          ]
        }
      ]
    }
  ]
}