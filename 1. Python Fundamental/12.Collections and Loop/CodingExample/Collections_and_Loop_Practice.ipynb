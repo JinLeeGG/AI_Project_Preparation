{
  "nbformat": 4,
  "nbformat_minor": 0,
  "metadata": {
    "colab": {
      "provenance": [],
      "authorship_tag": "ABX9TyPIsCkdS0bi83fBoak8LvDV",
      "include_colab_link": true
    },
    "kernelspec": {
      "name": "python3",
      "display_name": "Python 3"
    },
    "language_info": {
      "name": "python"
    }
  },
  "cells": [
    {
      "cell_type": "markdown",
      "metadata": {
        "id": "view-in-github",
        "colab_type": "text"
      },
      "source": [
        "<a href=\"https://colab.research.google.com/github/JinLeeGG/AI_Project_Preparation/blob/main/1.%20Python%20Basics/12.Collections%20and%20Loop/CodingExample/Collections_and_Loop_Practice.ipynb\" target=\"_parent\"><img src=\"https://colab.research.google.com/assets/colab-badge.svg\" alt=\"Open In Colab\"/></a>"
      ]
    },
    {
      "cell_type": "code",
      "execution_count": null,
      "metadata": {
        "colab": {
          "base_uri": "https://localhost:8080/"
        },
        "id": "BN1UimtKK1BX",
        "outputId": "ceaafd99-136c-4c68-857c-d6666950b4f2"
      },
      "outputs": [
        {
          "output_type": "stream",
          "name": "stdout",
          "text": [
            "10\n",
            "20\n",
            "30\n"
          ]
        }
      ],
      "source": [
        "numbers = [10, 20, 30]\n",
        "\n",
        "# iterable >> iterator\n",
        "iterator = iter(numbers)\n",
        "\n",
        "# bring out each element by using next()\n",
        "print(next(iterator))\n",
        "print(next(iterator))\n",
        "print(next(iterator))\n"
      ]
    },
    {
      "cell_type": "code",
      "source": [
        "# list and for loop\n",
        "\n",
        "li1 = ['apple', 'banana', 'orange', 'melon']\n",
        "\n",
        "for i in li1:\n",
        "    print(i, end= ' ')\n"
      ],
      "metadata": {
        "colab": {
          "base_uri": "https://localhost:8080/"
        },
        "id": "5wVmP_vTMh4t",
        "outputId": "721d9da5-8919-4ba0-a861-5f1a1d5b3955"
      },
      "execution_count": null,
      "outputs": [
        {
          "output_type": "stream",
          "name": "stdout",
          "text": [
            "apple banana orange melon "
          ]
        }
      ]
    },
    {
      "cell_type": "code",
      "source": [
        "# how many students are above 60?\n",
        "score = [90, 30, 50, 60, 80, 70, 100, 40, 20, 10]\n",
        "\n",
        "count = 0\n",
        "\n",
        "for i in score:\n",
        "    if i > 60:\n",
        "        count += 1\n",
        "\n",
        "print(count)"
      ],
      "metadata": {
        "colab": {
          "base_uri": "https://localhost:8080/"
        },
        "id": "BlNuX8sOMuiu",
        "outputId": "637271c2-ab79-4549-b93f-c2a6d1c24df1"
      },
      "execution_count": null,
      "outputs": [
        {
          "output_type": "stream",
          "name": "stdout",
          "text": [
            "4\n"
          ]
        }
      ]
    },
    {
      "cell_type": "code",
      "source": [
        "# print only the string length is more than 5\n",
        "words = ['apple', 'hi', 'banana', 'go', 'mango']\n",
        "\n",
        "# my answer\n",
        "for i in words:\n",
        "  if len(i) >= 5:\n",
        "    print(i)"
      ],
      "metadata": {
        "id": "pnW3We5iNINQ",
        "colab": {
          "base_uri": "https://localhost:8080/"
        },
        "outputId": "41460e5e-52dc-4387-e8bc-631baee5593e"
      },
      "execution_count": null,
      "outputs": [
        {
          "output_type": "stream",
          "name": "stdout",
          "text": [
            "apple\n",
            "banana\n",
            "mango\n"
          ]
        }
      ]
    },
    {
      "cell_type": "code",
      "source": [
        "# another method using walrus expression\n",
        "words = ['apple', 'hi', 'banana', 'go', 'mango']\n",
        "\n",
        "for word in words:\n",
        "  if (length := len(word)) >= 5:\n",
        "    print(f'{word} (length: {length})')"
      ],
      "metadata": {
        "id": "dSIdPlPlRRjI",
        "colab": {
          "base_uri": "https://localhost:8080/"
        },
        "outputId": "1f05a03e-46a9-45c5-c219-8607a10fdf85"
      },
      "execution_count": null,
      "outputs": [
        {
          "output_type": "stream",
          "name": "stdout",
          "text": [
            "apple (length: 5)\n",
            "banana (length: 6)\n",
            "mango (length: 5)\n"
          ]
        }
      ]
    },
    {
      "cell_type": "code",
      "source": [
        "# 3. Dictionary and for loop\n",
        "dic1 = {'no':1, 'userid':'apple', 'name':'김사과', 'hp':'010-1111-1111'}\n",
        "\n",
        "for i in dic1:\n",
        "    print(i, end=' ') # copy only keys"
      ],
      "metadata": {
        "colab": {
          "base_uri": "https://localhost:8080/"
        },
        "id": "72g5cBYRUeBG",
        "outputId": "a5275f69-dc62-4e9e-ba66-c754e7572b66"
      },
      "execution_count": null,
      "outputs": [
        {
          "output_type": "stream",
          "name": "stdout",
          "text": [
            "no userid name hp "
          ]
        }
      ]
    },
    {
      "cell_type": "code",
      "source": [
        "for i in dic1.keys():\n",
        "    print(i, end = ' ') #copy only keys"
      ],
      "metadata": {
        "colab": {
          "base_uri": "https://localhost:8080/"
        },
        "id": "w0MZu2S7UzV0",
        "outputId": "91847597-3afe-46f3-82c6-86e016c43d35"
      },
      "execution_count": null,
      "outputs": [
        {
          "output_type": "stream",
          "name": "stdout",
          "text": [
            "no userid name hp "
          ]
        }
      ]
    },
    {
      "cell_type": "code",
      "source": [
        "for i in dic1.values():\n",
        "    print(i, end = ' ') #copy values"
      ],
      "metadata": {
        "colab": {
          "base_uri": "https://localhost:8080/"
        },
        "id": "ehJnWALGU9wB",
        "outputId": "ac5418b0-5987-4955-a881-c3e42114ac4d"
      },
      "execution_count": null,
      "outputs": [
        {
          "output_type": "stream",
          "name": "stdout",
          "text": [
            "1 apple 김사과 010-1111-1111 "
          ]
        }
      ]
    },
    {
      "cell_type": "code",
      "source": [
        "for i in dic1:\n",
        "    print(dic1[i], end=' ') # bring values using key"
      ],
      "metadata": {
        "colab": {
          "base_uri": "https://localhost:8080/"
        },
        "id": "6t7GiNgyVKYY",
        "outputId": "c4a18ab1-2b41-4910-b1e2-cb7f363973ac"
      },
      "execution_count": null,
      "outputs": [
        {
          "output_type": "stream",
          "name": "stdout",
          "text": [
            "1 apple 김사과 010-1111-1111 "
          ]
        }
      ]
    },
    {
      "cell_type": "code",
      "source": [
        "for i in dic1:\n",
        "    print(dic1.get(i), end= ' ') # using get() method"
      ],
      "metadata": {
        "colab": {
          "base_uri": "https://localhost:8080/"
        },
        "id": "Yx2KiRYqVUQI",
        "outputId": "11584425-bfdb-49d4-c477-9819c1d07447"
      },
      "execution_count": null,
      "outputs": [
        {
          "output_type": "stream",
          "name": "stdout",
          "text": [
            "1 apple 김사과 010-1111-1111 "
          ]
        }
      ]
    },
    {
      "cell_type": "code",
      "source": [
        "for i in dic1.items():\n",
        "    print(i) # prints in the form of tuples"
      ],
      "metadata": {
        "colab": {
          "base_uri": "https://localhost:8080/"
        },
        "id": "nBfKFl1KVgK1",
        "outputId": "418648d8-dfe0-4180-b4e2-1f8eb7256c41"
      },
      "execution_count": null,
      "outputs": [
        {
          "output_type": "stream",
          "name": "stdout",
          "text": [
            "('no', 1)\n",
            "('userid', 'apple')\n",
            "('name', '김사과')\n",
            "('hp', '010-1111-1111')\n"
          ]
        }
      ]
    },
    {
      "cell_type": "code",
      "source": [
        "for key, value in dic1.items():\n",
        "    print(key, value)   #stores key, value seperately"
      ],
      "metadata": {
        "colab": {
          "base_uri": "https://localhost:8080/"
        },
        "id": "a82fbVJwV9xu",
        "outputId": "947f210d-8414-4a58-a2c9-b0c1a68ccd93"
      },
      "execution_count": null,
      "outputs": [
        {
          "output_type": "stream",
          "name": "stdout",
          "text": [
            "no 1\n",
            "userid apple\n",
            "name 김사과\n",
            "hp 010-1111-1111\n"
          ]
        }
      ]
    },
    {
      "cell_type": "code",
      "source": [
        "# Comprehension\n",
        "\n",
        "# 1. List comprehension\n",
        "n = 10\n",
        "result = [0 for i in range(n)] # [0 * n]\n",
        "print(result)\n",
        "\n",
        "result = [i for i in range(n)]\n",
        "print(result)"
      ],
      "metadata": {
        "colab": {
          "base_uri": "https://localhost:8080/"
        },
        "id": "vLWYbYOyWIJ-",
        "outputId": "b2ed8bd4-39e2-45fe-c4a5-749db1cf7bbc"
      },
      "execution_count": null,
      "outputs": [
        {
          "output_type": "stream",
          "name": "stdout",
          "text": [
            "[0, 0, 0, 0, 0, 0, 0, 0, 0, 0]\n",
            "[0, 1, 2, 3, 4, 5, 6, 7, 8, 9]\n"
          ]
        }
      ]
    },
    {
      "cell_type": "code",
      "source": [
        "li = [10, 20, 30, 40, 50, 60, 70, 80, 90, 100]\n",
        "\n",
        "result = [n for n in li] # take each element from li and put it in result\n",
        "print(result)"
      ],
      "metadata": {
        "colab": {
          "base_uri": "https://localhost:8080/"
        },
        "id": "kMseE-rWXCPu",
        "outputId": "5c93720c-0b28-456f-ee80-4e661191ffcc"
      },
      "execution_count": null,
      "outputs": [
        {
          "output_type": "stream",
          "name": "stdout",
          "text": [
            "[10, 20, 30, 40, 50, 60, 70, 80, 90, 100]\n"
          ]
        }
      ]
    },
    {
      "cell_type": "code",
      "source": [
        "result = [n*2 for n in li]\n",
        "print(result)"
      ],
      "metadata": {
        "colab": {
          "base_uri": "https://localhost:8080/"
        },
        "id": "AMC3Rkp3ZRg9",
        "outputId": "6e08d461-f3e9-42dc-a441-a475b5f31fb1"
      },
      "execution_count": null,
      "outputs": [
        {
          "output_type": "stream",
          "name": "stdout",
          "text": [
            "[20, 40, 60, 80, 100, 120, 140, 160, 180, 200]\n"
          ]
        }
      ]
    },
    {
      "cell_type": "code",
      "source": [
        "li = [-1, 0, -4, 24, 5, -10, 2, 20]\n",
        "\n",
        "result = [n if n > 0 else 0 for n in li] #n if more than 0 or return 0\n",
        "print(result)"
      ],
      "metadata": {
        "colab": {
          "base_uri": "https://localhost:8080/"
        },
        "id": "TtnjjxunZbzz",
        "outputId": "0d879c5d-ba95-45d9-ab51-03994d869998"
      },
      "execution_count": null,
      "outputs": [
        {
          "output_type": "stream",
          "name": "stdout",
          "text": [
            "[0, 0, 0, 24, 5, 0, 2, 20]\n"
          ]
        }
      ]
    },
    {
      "cell_type": "code",
      "source": [
        "result = [n for n in range(10) if n % 2 == 0]\n",
        "print(result)"
      ],
      "metadata": {
        "colab": {
          "base_uri": "https://localhost:8080/"
        },
        "id": "pY2CiMHOaJmA",
        "outputId": "4ba287ba-b9e9-4c95-ba25-82502a7069c0"
      },
      "execution_count": null,
      "outputs": [
        {
          "output_type": "stream",
          "name": "stdout",
          "text": [
            "[0, 2, 4, 6, 8]\n"
          ]
        }
      ]
    },
    {
      "cell_type": "code",
      "source": [
        "# for loop solution\n",
        "li = []\n",
        "\n",
        "for i in range(1, 4):\n",
        "    for j in range(1, 3):\n",
        "        li.append(i * j)\n",
        "print(li)\n",
        "\n",
        "# List comprehension\n",
        "li = [i*j for i in range(1, 4) for j in range(1, 3)]\n",
        "print(li)"
      ],
      "metadata": {
        "colab": {
          "base_uri": "https://localhost:8080/"
        },
        "id": "eKBCl63ZazoJ",
        "outputId": "f68055e4-967c-47e6-9a7a-c13811fa1888"
      },
      "execution_count": null,
      "outputs": [
        {
          "output_type": "stream",
          "name": "stdout",
          "text": [
            "[1, 2, 2, 4, 3, 6]\n"
          ]
        }
      ]
    },
    {
      "cell_type": "code",
      "source": [
        "#2 Set Comprehension\n",
        "li = [1, 2, 3, 4, 5, 2, 3, 4]\n",
        "unique_numbers = set(li)\n",
        "print(unique_numbers)\n",
        "\n",
        "li = [1, 2, 3, 4, 5, 2, 3, 4]\n",
        "unique_numbers = {x for x in li}\n",
        "print(unique_numbers)"
      ],
      "metadata": {
        "colab": {
          "base_uri": "https://localhost:8080/"
        },
        "id": "v0FZPOqlcjl-",
        "outputId": "bf3bcf7a-6601-4686-abcf-61a03238b308"
      },
      "execution_count": null,
      "outputs": [
        {
          "output_type": "stream",
          "name": "stdout",
          "text": [
            "{1, 2, 3, 4, 5}\n",
            "{1, 2, 3, 4, 5}\n"
          ]
        }
      ]
    },
    {
      "cell_type": "code",
      "source": [
        "#3 Dictionary comprehension\n",
        "names = ['apple', 'banana', 'orange']\n",
        "name_lengths = {name:len(name) for name in names}\n",
        "print(name_lengths)"
      ],
      "metadata": {
        "colab": {
          "base_uri": "https://localhost:8080/"
        },
        "id": "bu27a7frdK3A",
        "outputId": "296e7973-7ed1-45dd-9e9e-5890af5b2362"
      },
      "execution_count": null,
      "outputs": [
        {
          "output_type": "stream",
          "name": "stdout",
          "text": [
            "{'apple': 5, 'banana': 6, 'orange': 6}\n"
          ]
        }
      ]
    }
  ]
}