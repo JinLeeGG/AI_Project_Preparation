{
  "nbformat": 4,
  "nbformat_minor": 0,
  "metadata": {
    "colab": {
      "provenance": [],
      "authorship_tag": "ABX9TyMRV5IehWj1EF9ZM6YEfzpL",
      "include_colab_link": true
    },
    "kernelspec": {
      "name": "python3",
      "display_name": "Python 3"
    },
    "language_info": {
      "name": "python"
    }
  },
  "cells": [
    {
      "cell_type": "markdown",
      "metadata": {
        "id": "view-in-github",
        "colab_type": "text"
      },
      "source": [
        "<a href=\"https://colab.research.google.com/github/JinLeeGG/AI_Project_Preparation/blob/main/1.%20Python%20Basics/12.Collections%20and%20Loop/CodingExample/12_Collections_and_Loop.ipynb\" target=\"_parent\"><img src=\"https://colab.research.google.com/assets/colab-badge.svg\" alt=\"Open In Colab\"/></a>"
      ]
    },
    {
      "cell_type": "markdown",
      "source": [
        "https://ryuzyproject.tistory.com/15"
      ],
      "metadata": {
        "id": "m2T_An-J-mmr"
      }
    },
    {
      "cell_type": "markdown",
      "source": [
        "# 1. 이터러블과 이터레이터\n",
        "\n",
        "### 1. 이터러블(iterable)\n",
        "이터러블은 for문처럼 반복문에서 사용할 수 있는 모든 객체를 의미합니다. 이터러블한 객체는 for item in 객체: 구조에서 사용 가능합니다. 모든 순서 있는 컬렉션은 이터러블입니다. 하지만 모든 이터러블이 순서 있는 것은 아닙니다. (set, dict.keys()는 반복은 되지만 인덱스가 없음)\n",
        "\n",
        "### 2. 이터레이터(Iterator)\n",
        "이터러블 객체는 iter() 함수를 사용해서 이터레이터로 바꿀 수 있습니다. 또한 next()를 사용해서 값을 하나씩 꺼낼 수 있습니다.\n",
        "\n",
        "![image.png](data:image/png;base64,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)"
      ],
      "metadata": {
        "id": "6UbGP8Il-HOd"
      }
    },
    {
      "cell_type": "code",
      "source": [
        "numbers = [10, 20, 30]\n",
        "\n",
        "# 이터러블 >> 이터레이터로 전환\n",
        "iterator = iter(numbers)\n",
        "\n",
        "# next()로 값을 하나씩 꺼냄\n",
        "print(next(iterator))\n",
        "print(next(iterator))\n",
        "print(next(iterator))\n",
        "#print(next(iterator)) # → 여기서 더 꺼내면 StopIteration 예외 발생"
      ],
      "metadata": {
        "colab": {
          "base_uri": "https://localhost:8080/"
        },
        "id": "5pf_D9yH-nXb",
        "outputId": "2947df24-f8a6-4a1f-b183-4fec4dc87165"
      },
      "execution_count": 6,
      "outputs": [
        {
          "output_type": "stream",
          "name": "stdout",
          "text": [
            "10\n",
            "20\n",
            "30\n"
          ]
        }
      ]
    },
    {
      "cell_type": "markdown",
      "source": [
        "# 2. 리스트와 for문"
      ],
      "metadata": {
        "id": "u1VxWtYE-_Jm"
      }
    },
    {
      "cell_type": "code",
      "source": [
        "li1 = ['apple', 'banana', 'orange', 'melon']\n",
        "\n",
        "# for 문에서 list 사용가능\n",
        "for i in li1:\n",
        "    print(i, end=' ')\n",
        "\n"
      ],
      "metadata": {
        "colab": {
          "base_uri": "https://localhost:8080/"
        },
        "id": "-KImr0z1_QLl",
        "outputId": "d7a7cdb7-f007-4740-90fc-5eec5886a201"
      },
      "execution_count": 10,
      "outputs": [
        {
          "output_type": "stream",
          "name": "stdout",
          "text": [
            "apple banana orange melon "
          ]
        }
      ]
    },
    {
      "cell_type": "code",
      "source": [
        "# score 리스트에 저장된 점수가 60점 이상인 학생이 몇명인지 확인\n",
        "score = [90, 30, 50, 60, 80, 70, 100, 40, 20, 10]\n",
        "\n",
        "count = 0   # 60명 이상인 학생이 몇명인지 저장할 변수\n",
        "\n",
        "for i in score:\n",
        "    if i > 60:\n",
        "        count +=1\n",
        "\n",
        "print(count, '명입니다')"
      ],
      "metadata": {
        "colab": {
          "base_uri": "https://localhost:8080/"
        },
        "id": "UOSe9YLE_e4o",
        "outputId": "6ed73653-3f63-47d9-846e-9341210006a8"
      },
      "execution_count": 14,
      "outputs": [
        {
          "output_type": "stream",
          "name": "stdout",
          "text": [
            "4 명입니다\n"
          ]
        }
      ]
    },
    {
      "cell_type": "code",
      "source": [
        "# 리스트에서 길이가 5 이상인 문자열만 출력\n",
        "words = [\"apple\", \"hi\", \"banana\", \"go\", \"mango\"]\n",
        "\n",
        "# my answer\n",
        "for i in words:\n",
        "  if len(i) >= 5:\n",
        "    print(i)"
      ],
      "metadata": {
        "colab": {
          "base_uri": "https://localhost:8080/"
        },
        "id": "X-u5Xz1WARkq",
        "outputId": "4b2f4ff0-fafe-45a2-8d31-580777bd034a"
      },
      "execution_count": 15,
      "outputs": [
        {
          "output_type": "stream",
          "name": "stdout",
          "text": [
            "apple\n",
            "banana\n",
            "mango\n"
          ]
        }
      ]
    },
    {
      "cell_type": "code",
      "source": [
        "# 리스트에서 길이가 5 이상인 문자열만 출력\n",
        "words = [\"apple\", \"hi\", \"banana\", \"go\", \"mango\"]\n",
        "\n",
        "for word in words:\n",
        "    if (length := len(word)) >= 5:\n",
        "      print(f'{word} (길이: {length})')"
      ],
      "metadata": {
        "colab": {
          "base_uri": "https://localhost:8080/"
        },
        "id": "U6Z5ci4oAkgm",
        "outputId": "e1c31bdd-82b3-4876-886e-2414d5d2eafe"
      },
      "execution_count": 16,
      "outputs": [
        {
          "output_type": "stream",
          "name": "stdout",
          "text": [
            "apple (길이: 5)\n",
            "banana (길이: 6)\n",
            "mango (길이: 5)\n"
          ]
        }
      ]
    },
    {
      "cell_type": "markdown",
      "source": [
        "# 3. 딕셔너리와 for 문"
      ],
      "metadata": {
        "id": "gEYY0G-YA7zb"
      }
    },
    {
      "cell_type": "code",
      "source": [
        "dic1 = {'no':1, 'userid':'apple', 'name':'김사과', 'hp':'010-1111-1111'}\n",
        "\n",
        "for i in dic1:\n",
        "  print(i, end=' ') # 키만 복사\n"
      ],
      "metadata": {
        "colab": {
          "base_uri": "https://localhost:8080/"
        },
        "id": "LNjY7TDBBMRF",
        "outputId": "90157832-4aca-4906-f287-e20288b7c241"
      },
      "execution_count": 17,
      "outputs": [
        {
          "output_type": "stream",
          "name": "stdout",
          "text": [
            "no userid name hp "
          ]
        }
      ]
    },
    {
      "cell_type": "code",
      "source": [
        "for i in dic1.keys():\n",
        "    print(i, end=' ') # 키만 복사"
      ],
      "metadata": {
        "colab": {
          "base_uri": "https://localhost:8080/"
        },
        "id": "ET9fauisBgWr",
        "outputId": "ca172829-00b1-4cf5-cce0-0b54bcb38aa3"
      },
      "execution_count": 18,
      "outputs": [
        {
          "output_type": "stream",
          "name": "stdout",
          "text": [
            "no userid name hp "
          ]
        }
      ]
    },
    {
      "cell_type": "code",
      "source": [
        "for i in dic1.values():\n",
        "    print(i, end=' ') # 값만 복사"
      ],
      "metadata": {
        "colab": {
          "base_uri": "https://localhost:8080/"
        },
        "id": "vQEnmJ04Bl6L",
        "outputId": "d4e6ab1d-1adb-4bac-82b0-679efc6efd00"
      },
      "execution_count": 19,
      "outputs": [
        {
          "output_type": "stream",
          "name": "stdout",
          "text": [
            "1 apple 김사과 010-1111-1111 "
          ]
        }
      ]
    },
    {
      "cell_type": "code",
      "source": [
        "for i in dic1:\n",
        "    print(dic1[i], end=' ') # 이런식으로 dic1이 키만 복사하는 성질을 이용해서 value를 가져온다."
      ],
      "metadata": {
        "colab": {
          "base_uri": "https://localhost:8080/"
        },
        "id": "cyE0WH8LB5mh",
        "outputId": "d0738427-818b-4df0-a249-041469e2f1e5"
      },
      "execution_count": 21,
      "outputs": [
        {
          "output_type": "stream",
          "name": "stdout",
          "text": [
            "1 apple 김사과 010-1111-1111 "
          ]
        }
      ]
    },
    {
      "cell_type": "code",
      "source": [
        "for i in dic1:\n",
        "  print(dic1.get(i), end= ' ') # get(i) 메서드를 이용해서 값을 가져온다."
      ],
      "metadata": {
        "colab": {
          "base_uri": "https://localhost:8080/"
        },
        "id": "vyKVpcKVCEfg",
        "outputId": "40c18619-7f2f-406b-9daa-a2458f008ad3"
      },
      "execution_count": 23,
      "outputs": [
        {
          "output_type": "stream",
          "name": "stdout",
          "text": [
            "1 apple 김사과 010-1111-1111 "
          ]
        }
      ]
    },
    {
      "cell_type": "code",
      "source": [
        "for i in dic1.items():\n",
        "    print(i)          # items()로 튜플형태로 가져온다."
      ],
      "metadata": {
        "colab": {
          "base_uri": "https://localhost:8080/"
        },
        "id": "f0MNYx1TCO91",
        "outputId": "81993860-e789-4cbd-a8f1-e1829363afd1"
      },
      "execution_count": 24,
      "outputs": [
        {
          "output_type": "stream",
          "name": "stdout",
          "text": [
            "('no', 1)\n",
            "('userid', 'apple')\n",
            "('name', '김사과')\n",
            "('hp', '010-1111-1111')\n"
          ]
        }
      ]
    },
    {
      "cell_type": "code",
      "source": [
        "for key, value in dic1.items():\n",
        "    print(key, value)             # 키, 값을 따로 저장할 수 있다."
      ],
      "metadata": {
        "colab": {
          "base_uri": "https://localhost:8080/"
        },
        "id": "WDiQnq7_CYqP",
        "outputId": "7b76d252-e3b5-467d-b1f5-410f7c3ccce0"
      },
      "execution_count": 25,
      "outputs": [
        {
          "output_type": "stream",
          "name": "stdout",
          "text": [
            "no 1\n",
            "userid apple\n",
            "name 김사과\n",
            "hp 010-1111-1111\n"
          ]
        }
      ]
    },
    {
      "cell_type": "markdown",
      "source": [
        "# 4. 컴프리헨션(Comprehension)\n",
        "컴프리헨션(Comprehension)은 파이썬에서 리스트, 세트, 딕셔너리 등의 컬렉션을 간단하게 생성하거나 변형하는 방법 중 하나입니다. 컴프리헨션은 반복문과 조건문을 사용하여 간결하게 컬렉션을 생성하는 기법으로, 코드를 더 간단하고 가독성 좋게 작성할 수 있도록 도와줍니다."
      ],
      "metadata": {
        "id": "6VoIZ1LKFKdb"
      }
    },
    {
      "cell_type": "markdown",
      "source": [
        "### 1. 리스트 컴프리헨션\n",
        "리스트 컴프리헨션은 새로운 리스트를 생성하는데 사용됩니다. 기존 리스트의 각 요소를 반복하면서 조건을 적용하여 새로운 리스트를 생성할 수 있습니다."
      ],
      "metadata": {
        "id": "kbGlltK7FL6l"
      }
    },
    {
      "cell_type": "code",
      "source": [
        "n = 10\n",
        "result = [0 for i in range(n)]  # 10까지\n",
        "print(result)\n",
        "\n",
        "result = [i for i in range(n)]\n",
        "print(result)"
      ],
      "metadata": {
        "colab": {
          "base_uri": "https://localhost:8080/"
        },
        "id": "1XiUMe2wFfk7",
        "outputId": "5b543028-a613-4f37-bbfa-d25939bd8489"
      },
      "execution_count": 27,
      "outputs": [
        {
          "output_type": "stream",
          "name": "stdout",
          "text": [
            "[0, 0, 0, 0, 0, 0, 0, 0, 0, 0]\n",
            "[0, 1, 2, 3, 4, 5, 6, 7, 8, 9]\n"
          ]
        }
      ]
    },
    {
      "cell_type": "code",
      "source": [
        "li = [10, 20, 30, 40, 50, 60, 70, 80, 90, 100]\n",
        "\n",
        "result = [n for n in li]     # 리스트에 있는걸 하나씩 꺼내서 다른 리스트에 담아라\n",
        "print(result)"
      ],
      "metadata": {
        "colab": {
          "base_uri": "https://localhost:8080/"
        },
        "id": "d4BBM1IuGNCR",
        "outputId": "62e30482-fb49-49e3-ae21-6432a65125b7"
      },
      "execution_count": 34,
      "outputs": [
        {
          "output_type": "stream",
          "name": "stdout",
          "text": [
            "[10, 20, 30, 40, 50, 60, 70, 80, 90, 100]\n"
          ]
        }
      ]
    },
    {
      "cell_type": "code",
      "source": [
        "result = [n*2 for n in li] # 리스트에 있는걸 하나씩 꺼내서 *2 후 다른 리스트에 담아라\n",
        "print(result)"
      ],
      "metadata": {
        "colab": {
          "base_uri": "https://localhost:8080/"
        },
        "id": "sVbNCDW-GbhL",
        "outputId": "ff7eb688-dcfa-4007-d234-719c14c79f2c"
      },
      "execution_count": 30,
      "outputs": [
        {
          "output_type": "stream",
          "name": "stdout",
          "text": [
            "[20, 40, 60, 80, 100, 120, 140, 160, 180, 200]\n"
          ]
        }
      ]
    },
    {
      "cell_type": "code",
      "source": [
        "result = [n for n in range(10) if n % 2 == 0]  # 0 ~ 9까지 뽑아서 리스트에 담는데 짝수만 담을것.\n",
        "print(result)"
      ],
      "metadata": {
        "colab": {
          "base_uri": "https://localhost:8080/"
        },
        "id": "dNLuaLBPGgSa",
        "outputId": "ee448f68-04ad-4454-ed8b-f878f4f23d37"
      },
      "execution_count": 33,
      "outputs": [
        {
          "output_type": "stream",
          "name": "stdout",
          "text": [
            "[0, 2, 4, 6, 8]\n"
          ]
        }
      ]
    },
    {
      "cell_type": "code",
      "source": [
        "# 양수는 리스트에 그대로 저장하고, 음수는 0으로 변환해서 저장하기\n",
        "li = [-1, 0, -4, 24, 5, -10, 2, 20]\n",
        "\n",
        "result = [n if n>0 else 0 for n in li]    #li에 담긴 내용을 하나씩 꺼내서 0보다 크면 리턴, 아니면 0을 리턴\n",
        "print(result)"
      ],
      "metadata": {
        "id": "AAUaRrQRHIqI"
      },
      "execution_count": null,
      "outputs": []
    },
    {
      "cell_type": "code",
      "source": [
        "li = []\n",
        "\n",
        "# 일반 for문 풀이\n",
        "for i in range(1, 4):\n",
        "    for j in range(1, 3):\n",
        "        li.append(i * j)\n",
        "print(li)\n",
        "\n",
        "# List comprehension 풀이\n",
        "li = [i*j for i in range(1, 4) for j in range(1, 3)]\n",
        "print(li)"
      ],
      "metadata": {
        "colab": {
          "base_uri": "https://localhost:8080/"
        },
        "id": "W1T7-yZ2IUKy",
        "outputId": "04d47802-4aff-4444-bf9b-bce8c5fbeee9"
      },
      "execution_count": 36,
      "outputs": [
        {
          "output_type": "stream",
          "name": "stdout",
          "text": [
            "[1, 2, 2, 4, 3, 6]\n",
            "[1, 2, 2, 4, 3, 6]\n"
          ]
        }
      ]
    },
    {
      "cell_type": "markdown",
      "source": [
        "# 2. 세트 컴프리헨션\n",
        "세트 컴프리헨션은 새로운 세트를 생성하는데 사용됩니다. 기존 세트의 각 요소를 반복하면서 조건을 적용하여 새로운 세트를 생성할 수 있습니다."
      ],
      "metadata": {
        "id": "l-dEZYZQI1wh"
      }
    },
    {
      "cell_type": "code",
      "source": [
        "li = [1, 2, 3, 4, 5, 2, 3, 4]\n",
        "unique_numbers = set(li)\n",
        "print(unique_numbers)\n",
        "\n",
        "li = [1, 2, 3, 4, 5, 2, 3, 4]\n",
        "unique_numbers = {x for x in li}  # List >> Set으로 변환함으로서 중복값을 제거한다.\n",
        "print(unique_numbers)"
      ],
      "metadata": {
        "colab": {
          "base_uri": "https://localhost:8080/"
        },
        "id": "zdEUCCBvI29C",
        "outputId": "848467f6-1aca-4245-ecaa-30d46c71e587"
      },
      "execution_count": 39,
      "outputs": [
        {
          "output_type": "stream",
          "name": "stdout",
          "text": [
            "{1, 2, 3, 4, 5}\n",
            "{1, 2, 3, 4, 5}\n"
          ]
        }
      ]
    },
    {
      "cell_type": "markdown",
      "source": [
        "# 3. 딕셔너리 컴프리헨션\n",
        "딕셔너리 컴프리헨션은 새로운 딕셔너리를 생성하는데 사용됩니다. 기존 딕셔너리의 키와 값을 반복하면서 조건을 적용하여 새로운 딕셔너리를 생성할 수 있습니다."
      ],
      "metadata": {
        "id": "g1euzL7EJZK5"
      }
    },
    {
      "cell_type": "code",
      "source": [
        "names = ['apple', 'banana', 'orange']\n",
        "name_lengths = {name:len(name) for name in names}\n",
        "print(name_lengths)"
      ],
      "metadata": {
        "colab": {
          "base_uri": "https://localhost:8080/"
        },
        "id": "ds4Hh59TJWhS",
        "outputId": "267b364b-9390-490e-f398-7a559d0c9cda"
      },
      "execution_count": 40,
      "outputs": [
        {
          "output_type": "stream",
          "name": "stdout",
          "text": [
            "{'apple': 5, 'banana': 6, 'orange': 6}\n"
          ]
        }
      ]
    }
  ]
}