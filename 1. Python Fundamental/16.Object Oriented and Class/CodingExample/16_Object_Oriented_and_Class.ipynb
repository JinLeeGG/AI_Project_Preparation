{
  "nbformat": 4,
  "nbformat_minor": 0,
  "metadata": {
    "colab": {
      "provenance": [],
      "authorship_tag": "ABX9TyO9bGBkGSDVbHqCytgmrV05",
      "include_colab_link": true
    },
    "kernelspec": {
      "name": "python3",
      "display_name": "Python 3"
    },
    "language_info": {
      "name": "python"
    }
  },
  "cells": [
    {
      "cell_type": "markdown",
      "metadata": {
        "id": "view-in-github",
        "colab_type": "text"
      },
      "source": [
        "<a href=\"https://colab.research.google.com/github/JinLeeGG/AI_Project_Preparation/blob/main/1.%20Python%20Basics/16.Object%20Oriented%20and%20Class/CodingExample/16_Object_Oriented_and_Class.ipynb\" target=\"_parent\"><img src=\"https://colab.research.google.com/assets/colab-badge.svg\" alt=\"Open In Colab\"/></a>"
      ]
    },
    {
      "cell_type": "markdown",
      "source": [
        "https://ryuzyproject.tistory.com/20"
      ],
      "metadata": {
        "id": "gfZqbUziM1nO"
      }
    },
    {
      "cell_type": "markdown",
      "source": [
        "# 1. 프로그래밍 방법론\n",
        "프로그래밍 방법론은 프로그램을 개발하는 다양한 접근 방식이나 철학을 뜻합니다. 프로젝트 규모, 요구 사항, 개발 팀의 특성에 따라 적합한 방법론이 달라지기 때문에 각 방법론의 특징과 장단점을 이해하는 게 중요합니다."
      ],
      "metadata": {
        "id": "HSnKlgjcebYu"
      }
    },
    {
      "cell_type": "markdown",
      "source": [
        "### 1. 절차적 프로그래밍(Procedural Programming)\n",
        "\n",
        "절차(Procedure)를 중시하는 방식으로, 작업을 순서대로 실행하도록 프로그램을 구성합니다. 코드가 명령문으로 이루어져 있고, 작업 순서가 중요합니다. 변수와 함수가 함께 사용되며, 함수를 통해 프로그램의 기능을 분리하고, 코드 중복을 줄입니다."
      ],
      "metadata": {
        "id": "aLV3y04senov"
      }
    },
    {
      "cell_type": "markdown",
      "source": [
        "### 2. 객체지향 프로그래밍 (Object-Oriented Programming, OOP)\n",
        "\n",
        "객체(Object)라는 개념을 사용해 프로그램을 구성합니다. 객체는 데이터(속성)와 함수(메서드)를 하나의 단위로 묶은 것을 말합니다. 클래스라는 틀을 이용해 객체를 정의하고, 이를 통해 여러 개의 객체를 생성할 수 있습니다. 캡슐화(Encapsulation), 상속(Inheritance), 다형성(Polymorphism) 등의 특징을 활용해 코드를 재사용하고 확장할 수 있습니다"
      ],
      "metadata": {
        "id": "RqP3btjfewFz"
      }
    },
    {
      "cell_type": "markdown",
      "source": [
        "### 3. 함수형 프로그래밍 (Functional Programming)\n",
        "\n",
        "함수를 중심으로 프로그램을 구성합니다. 수학적인 함수 개념에 기초하고 있으며 코드가 간결하고 직관적입니다. 예를 들어 map, filter, reduce 등의 함수나 재귀를 주로 사용하여 데이터 처리를 간결하게 수행합니다."
      ],
      "metadata": {
        "id": "st1dng3OfX4R"
      }
    },
    {
      "cell_type": "markdown",
      "source": [
        "# 2. 클래스 만들기\n",
        "파이썬에서 클래스를 정의하려면 class 키워드를 사용합니다. 클래스 이름은 관례적으로 대문자로 시작하는 것이 좋습니다. 클래스 내부에는 속성(멤버 변수)과 메서드(멤버 함수)를 정의할 수 있습니다.\n",
        "\n",
        "```\n",
        "class 클래스이름:\n",
        "    # 클래스 속성(멤버 변수) 정의\n",
        "    속성1 = 초기값1\n",
        "    속성2 = 초기값2\n",
        "\n",
        "    # 생성자 메서드 (생략 가능)\n",
        "    def __init__(self, 매개변수1, 매개변수2, ...):\n",
        "        # 인스턴스 속성 초기화\n",
        "        self.속성1 = 매개변수1\n",
        "        self.속성2 = 매개변수2\n",
        "\n",
        "    # 메서드(멤버 함수) 정의\n",
        "    def 메서드1(self, 매개변수1, 매개변수2, ...):\n",
        "        # 메서드 동작 정의\n",
        "        pass\n",
        "\n",
        "    def 메서드2(self, 매개변수1, 매개변수2, ...):\n",
        "        # 메서드 동작 정의\n",
        "        pass\n",
        "```"
      ],
      "metadata": {
        "id": "iSKNsfodfbN3"
      }
    },
    {
      "cell_type": "markdown",
      "source": [
        "* 객체(Object): 객체는 현실 세계에서의 실제 개체나 추상적인 개념을 모델링한 것입니다. 예를 들어, 자동차, 사람, 은행 계좌 등이 객체가 될 수 있습니다. 객체는 데이터(속성, 상태)와 메서드(동작, 함수)로 구성됩니다. 클래스에서 만들어진 실제 존재하는 데이터(프로그램 내에서 사용된 것)\n",
        "\n",
        "* 클래스(Class): 클래스는 객체를 만들기 위한 템플릿 또는 설계도입니다. 클래스는 객체의 공통 속성과 동작을 정의하며, 객체를 생성하는데 사용됩니다. 예를 들어, \"자동차\" 클래스는 모든 자동차 객체가 가져야 하는 속성(색상, 속도)과 메서드(주행, 멈춤)를 정의할 수 있습니다.\n",
        "\n",
        "* 인스턴스(Instance): 클래스를 기반으로 실제로 생성된 객체를 인스턴스라고 합니다. 클래스는 여러 인스턴스를 생성할 수 있으며, 각 인스턴스는 독립적인 데이터와 메서드를 가집니다. 객체가 어떤 클래스에서 나왔는지에 초점을 맞출 때 사용하는 용어\n",
        "\n",
        "\n",
        "\n",
        "* 속성(Attributes) 또는 멤버 변수(Fields): 객체는 데이터를 저장하기 위한 속성을 가집니다. 이러한 속성은 객체의 상태나 특성을 나타내며 변수로 표현됩니다. 예를 들어, 자동차 객체의 속성은 색상, 속도, 모델 등이 될 수 있습니다.\n",
        "\n",
        "* 메서드(Methods) 또는 멤버 함수(Functions): 객체는 데이터를 조작하거나 특정 작업을 수행하기 위한 메서드를 포함합니다. 이러한 메서드는 함수와 비슷하게 동작하지만, 객체의 상태에 접근하고 조작할 수 있습니다. 자동차 객체의 메서드로는 주행, 정지, 경적 울리기 등이 있을 수 있습니다."
      ],
      "metadata": {
        "id": "MBc1Y-zghaoh"
      }
    },
    {
      "cell_type": "markdown",
      "source": [
        "# 3. 객체(인스턴스) 생성\n",
        "클래스를 정의한 후에는 이를 기반으로 객체(인스턴스)를 생성할 수 있습니다."
      ],
      "metadata": {
        "id": "a4oxSh0ViPb9"
      }
    },
    {
      "cell_type": "code",
      "source": [
        "class Dog:\n",
        "    pass # 클래스, 함수를 만들때 내용이 없는 블록을 만들 때 사용"
      ],
      "metadata": {
        "id": "GkiXEKd1iRvi"
      },
      "execution_count": 1,
      "outputs": []
    },
    {
      "cell_type": "code",
      "source": [
        "Dog() # 메모리 주소를 16진수로 알려준다.\n",
        "# 하지만 가르키는 내용이 없기 때문에 사라진다."
      ],
      "metadata": {
        "colab": {
          "base_uri": "https://localhost:8080/"
        },
        "id": "QPBQhvcTib5Z",
        "outputId": "361ba90c-2259-4dcd-f638-b926f7347a06"
      },
      "execution_count": 2,
      "outputs": [
        {
          "output_type": "execute_result",
          "data": {
            "text/plain": [
              "<__main__.Dog at 0x79d08a883a10>"
            ]
          },
          "metadata": {},
          "execution_count": 2
        }
      ]
    },
    {
      "cell_type": "code",
      "source": [
        "rucy = Dog() # 객체화 시킨다\n",
        "print(rucy)\n",
        "print(type(rucy)) # Dog 타입을 가진다.\n",
        "print(id(rucy))"
      ],
      "metadata": {
        "colab": {
          "base_uri": "https://localhost:8080/"
        },
        "id": "sOc9nByfiyHU",
        "outputId": "7c42050c-c252-48b7-ab2e-37110dc52b49"
      },
      "execution_count": 3,
      "outputs": [
        {
          "output_type": "stream",
          "name": "stdout",
          "text": [
            "<__main__.Dog object at 0x79d08a889050>\n",
            "<class '__main__.Dog'>\n",
            "133936584364112\n"
          ]
        }
      ]
    },
    {
      "cell_type": "code",
      "source": [
        "PPomi = Dog() # Dog을 토대로 만들어진 객체\n",
        "print(PPomi)\n",
        "print(type(PPomi)) # 같은 Dog 타입을 가진다.\n",
        "print(id(PPomi))  #rucy와 다른 메모리 주소를 가지고 있다."
      ],
      "metadata": {
        "colab": {
          "base_uri": "https://localhost:8080/"
        },
        "id": "OwFFwjwOjKp9",
        "outputId": "092d5c36-8943-461f-f9e0-d878f34e1ebf"
      },
      "execution_count": 4,
      "outputs": [
        {
          "output_type": "stream",
          "name": "stdout",
          "text": [
            "<__main__.Dog object at 0x79d08a889d90>\n",
            "<class '__main__.Dog'>\n",
            "133936584367504\n"
          ]
        }
      ]
    },
    {
      "cell_type": "markdown",
      "source": [
        "# 4. 객체 속성 초기화\n",
        "객체를 생성한 후에는 객체의 속성을 초기화할 수 있습니다. 이를 위해 . 연산자를 사용하여 객체의 속성에 접근하고 값을 할당합니다. 또한 . 연산자를 사용하여 객체의 메서드를 호출할 수 있습니다."
      ],
      "metadata": {
        "id": "N9gwP3OUjXcM"
      }
    },
    {
      "cell_type": "code",
      "source": [
        "class Dog:\n",
        "    name = '무명'\n",
        "    age = 0\n",
        "    family = '알수없음'"
      ],
      "metadata": {
        "id": "YsxDMFWNmHvJ"
      },
      "execution_count": 5,
      "outputs": []
    },
    {
      "cell_type": "code",
      "source": [
        "# 클래스 변수(속성) - 클래스 이름으로 바로 접근이 가능하다.\n",
        "# 객체가 힙에 저장되어서 Dog를 사용하던, 객체를 만들어서 접근하든 다 접근이 가능하다.\n",
        "# 공통적으로 사용하는 클래스 변수이다.\n",
        "print(Dog.name)\n",
        "print(Dog.age)\n",
        "print(Dog.family)"
      ],
      "metadata": {
        "colab": {
          "base_uri": "https://localhost:8080/"
        },
        "id": "0xsqm7KGm0ns",
        "outputId": "72c90029-6dac-4593-926d-f3967405abe7"
      },
      "execution_count": 6,
      "outputs": [
        {
          "output_type": "stream",
          "name": "stdout",
          "text": [
            "무명\n",
            "0\n",
            "알수없음\n"
          ]
        }
      ]
    },
    {
      "cell_type": "code",
      "source": [
        "rucy = Dog()  # Dog 객체 만듬\n",
        "print(rucy.name)  # 안에 있는 맴버변수를 불러와서 값을 찍어볼 수 있다.\n",
        "print(rucy.age)\n",
        "print(rucy.family)"
      ],
      "metadata": {
        "colab": {
          "base_uri": "https://localhost:8080/"
        },
        "id": "8yFvw4_rmb5q",
        "outputId": "2d0bb756-fd70-4a26-d4b8-10d82c5b21c4"
      },
      "execution_count": 7,
      "outputs": [
        {
          "output_type": "stream",
          "name": "stdout",
          "text": [
            "무명\n",
            "0\n",
            "알수없음\n"
          ]
        }
      ]
    },
    {
      "cell_type": "code",
      "source": [
        "rucy.name = '루시'\n",
        "rucy.age = 15\n",
        "rucy.family = '포메'\n",
        "# 갚이 바뀌어있는것처럼 보인다.\n",
        "print(rucy.name)\n",
        "print(rucy.age)\n",
        "print(rucy.family)"
      ],
      "metadata": {
        "colab": {
          "base_uri": "https://localhost:8080/"
        },
        "id": "_2FAiv6RnXvq",
        "outputId": "297387df-68e0-4429-ba11-548423c06c8d"
      },
      "execution_count": 8,
      "outputs": [
        {
          "output_type": "stream",
          "name": "stdout",
          "text": [
            "루시\n",
            "15\n",
            "포메\n"
          ]
        }
      ]
    },
    {
      "cell_type": "markdown",
      "source": [
        "# 5. 생성자\n",
        "\n",
        "파이썬에서 생성자(Constructor)는 클래스의 인스턴스가 생성될 때 자동으로 호출되는 특별한 메서드입니다. 생성자는 객체의 초기화를 담당하며, 객체가 생성될 때 필요한 속성을 초기화하고 설정하는 역할을 합니다. 파이썬에서 생성자 메서드는 \\_\\_init\\_\\_라고 이름이 정해져 있습니다. 속성은 self를 사용하여 접근하고 설정합니다. 이렇게 초기화된 속성은 객체가 생성될 때마다 다른 값을 가질 수 있습니다.\n",
        "\n",
        "```\n",
        "class 클래스이름:\n",
        "    def __init__(self, 매개변수1, 매개변수2):\n",
        "        self.속성1 = 매개변수1\n",
        "        self.속성2 = 매개변수2\n",
        "```"
      ],
      "metadata": {
        "id": "vl00tKD8oTDD"
      }
    },
    {
      "cell_type": "code",
      "source": [
        "class Dog:\n",
        "    def __init__(self):\n",
        "        print(self, 'init 호출!')"
      ],
      "metadata": {
        "id": "boQwnUpcoVw5"
      },
      "execution_count": 9,
      "outputs": []
    },
    {
      "cell_type": "code",
      "source": [
        "rucy = Dog() # Dog 객체 만들기\n",
        "\n",
        "#() 는 init를 호출하는 함수를 나타낸다\n",
        "# 없으면 내부적으로 빈 생성자를 만들고 그걸 호출한다.\n",
        "# 만약 만들면 무조건 init을 호출한다\n",
        "# self라는 변수나 변수 하나는 만들어줘야 한다."
      ],
      "metadata": {
        "colab": {
          "base_uri": "https://localhost:8080/"
        },
        "id": "_kLGVld0o75w",
        "outputId": "2c98838d-5232-49fe-b84a-539b874ae8ef"
      },
      "execution_count": 10,
      "outputs": [
        {
          "output_type": "stream",
          "name": "stdout",
          "text": [
            "<__main__.Dog object at 0x79d08a87c450> init 호출!\n"
          ]
        }
      ]
    },
    {
      "cell_type": "code",
      "source": [
        "PPomi = Dog()"
      ],
      "metadata": {
        "colab": {
          "base_uri": "https://localhost:8080/"
        },
        "id": "uTcDkKW5qUM0",
        "outputId": "fbb0c13c-c93a-4126-84a7-9acdf39ec35d"
      },
      "execution_count": 11,
      "outputs": [
        {
          "output_type": "stream",
          "name": "stdout",
          "text": [
            "<__main__.Dog object at 0x79d08a87d990> init 호출!\n"
          ]
        }
      ]
    },
    {
      "cell_type": "code",
      "source": [
        "class Dog:\n",
        "    def __init__(self):\n",
        "        self.name = '무명'\n",
        "        self.age = 0"
      ],
      "metadata": {
        "id": "fTtjJcHUqfEF"
      },
      "execution_count": 12,
      "outputs": []
    },
    {
      "cell_type": "code",
      "source": [
        "rucy = Dog()\n",
        "print(rucy.name)\n",
        "print(rucy.age)\n",
        "rucy.name = '루시'\n",
        "rucy.age = 15\n",
        "print(rucy.name)\n",
        "print(rucy.age)"
      ],
      "metadata": {
        "colab": {
          "base_uri": "https://localhost:8080/"
        },
        "id": "lHlOGeJDqlJ3",
        "outputId": "16392217-b90d-42b0-e4bc-661c0c8d9ece"
      },
      "execution_count": 13,
      "outputs": [
        {
          "output_type": "stream",
          "name": "stdout",
          "text": [
            "무명\n",
            "0\n",
            "루시\n",
            "15\n"
          ]
        }
      ]
    },
    {
      "cell_type": "code",
      "source": [
        "PPomi = Dog()\n",
        "print(PPomi.name)\n",
        "print(PPomi.age)\n",
        "PPomi.name = '뽀미'\n",
        "PPomi.age = 8\n",
        "print(PPomi.name)\n",
        "print(PPomi.age)"
      ],
      "metadata": {
        "colab": {
          "base_uri": "https://localhost:8080/"
        },
        "id": "19gG8T9PrBdJ",
        "outputId": "02b58147-cf45-499f-f397-067345257368"
      },
      "execution_count": 14,
      "outputs": [
        {
          "output_type": "stream",
          "name": "stdout",
          "text": [
            "무명\n",
            "0\n",
            "뽀미\n",
            "8\n"
          ]
        }
      ]
    },
    {
      "cell_type": "code",
      "source": [
        "class Dog:\n",
        "    def __init__(self, name, age, family='족보없음'): #self는 모든 객체가 공통으로 사용하기 때문에 이게 누구의 이름인지 알수 있다 (메모리 주소를 나타낸다.)\n",
        "        self.name = name\n",
        "        self.age = age\n",
        "        self.family = family"
      ],
      "metadata": {
        "id": "NWnXkP2CrgS0"
      },
      "execution_count": 15,
      "outputs": []
    },
    {
      "cell_type": "code",
      "source": [
        "# TypeError: Dog.__init__() missing 2 required positional arguments: 'name' and 'age'\n",
        "#rucy = Dog() # 매개변수를 안넣어서 애러가 난다\n",
        "\n",
        "rucy = Dog('루시', 15, '포메')\n",
        "print(rucy)\n",
        "print(rucy.name)\n",
        "print(rucy.age)\n",
        "print(rucy.family)"
      ],
      "metadata": {
        "colab": {
          "base_uri": "https://localhost:8080/"
        },
        "id": "B4VcRYJwrq4M",
        "outputId": "493feae2-3406-4cf3-9518-b41e28e2c90d"
      },
      "execution_count": 16,
      "outputs": [
        {
          "output_type": "stream",
          "name": "stdout",
          "text": [
            "<__main__.Dog object at 0x79d08a87f650>\n",
            "루시\n",
            "15\n",
            "포메\n"
          ]
        }
      ]
    },
    {
      "cell_type": "code",
      "source": [
        "PPomi = Dog('뽀미', 8, '폼피츠')\n",
        "print(PPomi)\n",
        "print(PPomi.name)\n",
        "print(PPomi.age)\n",
        "print(PPomi.family)"
      ],
      "metadata": {
        "colab": {
          "base_uri": "https://localhost:8080/"
        },
        "id": "fQVe5U84sLgI",
        "outputId": "173cce8e-c6dc-4a53-d79e-626c19bb4e56"
      },
      "execution_count": 17,
      "outputs": [
        {
          "output_type": "stream",
          "name": "stdout",
          "text": [
            "<__main__.Dog object at 0x79d08a868890>\n",
            "뽀미\n",
            "8\n",
            "폼피츠\n"
          ]
        }
      ]
    },
    {
      "cell_type": "code",
      "source": [
        "class Dog:\n",
        "    family = \"포메\" # 클래스 변수\n",
        "\n",
        "    def __init__(self, name, age):  # 각 객체의 주소를 넘기기 위해 self라는 parameter를 사용한다.\n",
        "        # instance variables\n",
        "        self.name = name\n",
        "        self.age = age\n",
        "\n",
        "    def print_info(self):\n",
        "        print(f'종: {Dog.family}') # class variable\n",
        "        print(f'이름: {self.name}') # instance variable\n",
        "        print(f'나이: {self.age}') # instance variable"
      ],
      "metadata": {
        "id": "pzmqgvpBrqzb",
        "colab": {
          "base_uri": "https://localhost:8080/"
        },
        "outputId": "199d5e72-9d23-4c6e-b355-1c3abd007b44"
      },
      "execution_count": 23,
      "outputs": [
        {
          "output_type": "stream",
          "name": "stdout",
          "text": [
            "종: 포메\n",
            "이름: 루시\n",
            "나이: 15\n",
            "종: 포메\n",
            "이름: 뽀미\n",
            "나이: 8\n"
          ]
        }
      ]
    },
    {
      "cell_type": "code",
      "source": [
        "Rucy = Dog('루시', 15)\n",
        "Ppomi = Dog('뽀미', 8)\n",
        "Rucy.print_info()\n",
        "Ppomi.print_info()"
      ],
      "metadata": {
        "colab": {
          "base_uri": "https://localhost:8080/"
        },
        "id": "jcMV7K_GQlHa",
        "outputId": "e717a63a-615f-4d5c-f734-6c5ee16a8e1b"
      },
      "execution_count": 24,
      "outputs": [
        {
          "output_type": "stream",
          "name": "stdout",
          "text": [
            "종: 포메\n",
            "이름: 루시\n",
            "나이: 15\n",
            "종: 포메\n",
            "이름: 뽀미\n",
            "나이: 8\n"
          ]
        }
      ]
    },
    {
      "cell_type": "code",
      "source": [
        "Dog.family = '폼피츠' # resetting defaults (class variables)\n",
        "Rucy.print_info()\n",
        "Ppomi.print_info()"
      ],
      "metadata": {
        "colab": {
          "base_uri": "https://localhost:8080/"
        },
        "id": "SYvNQVQWQlqc",
        "outputId": "6d10e39a-f804-464a-a5b2-b91c6422c4d2"
      },
      "execution_count": 26,
      "outputs": [
        {
          "output_type": "stream",
          "name": "stdout",
          "text": [
            "종: 폼피츠\n",
            "이름: 루시\n",
            "나이: 15\n",
            "종: 폼피츠\n",
            "이름: 뽀미\n",
            "나이: 8\n"
          ]
        }
      ]
    },
    {
      "cell_type": "code",
      "source": [
        "rucy.family = '포메' # 클래스 변수랑 관계가 끊어지고 인스턴스 변수로 새로 생긴다.\n",
        "Rucy.print_info() # 하지만 클래스 변수만 프린트하게 설정되어 있음으로 변경되지 않는다.\n",
        "print(rucy.family) # 직접 인스턴스 변수를 뽑아보자\n",
        "print(Ppomi.family) # 루시만 변경되었기 때문에 그대로이다."
      ],
      "metadata": {
        "colab": {
          "base_uri": "https://localhost:8080/"
        },
        "id": "HMxdXGWGQ2DS",
        "outputId": "759da137-d5bf-4f52-fa26-32a86642c60f"
      },
      "execution_count": 30,
      "outputs": [
        {
          "output_type": "stream",
          "name": "stdout",
          "text": [
            "종: 폼피츠\n",
            "이름: 루시\n",
            "나이: 15\n",
            "포메\n",
            "폼피츠\n"
          ]
        }
      ]
    },
    {
      "cell_type": "code",
      "source": [
        "class Counter:\n",
        "    def __init__(self):\n",
        "        self.num = 0 # instance 변수 생성\n",
        "\n",
        "    def increment(self):\n",
        "        self.num += 1\n",
        "\n",
        "    def current_value(self):\n",
        "        return self.num\n",
        "\n",
        "    def decrement(self):\n",
        "        self.num -= 1\n",
        "\n",
        "    def reset(self):\n",
        "        self.num = 0"
      ],
      "metadata": {
        "id": "eh445U2YRcfF"
      },
      "execution_count": 31,
      "outputs": []
    },
    {
      "cell_type": "code",
      "source": [
        "KBBank = Counter()\n",
        "print(KBBank.num) # 0 으로 초기화됨\n",
        "print(KBBank.current_value()) # 현재 값 호출\n",
        "KBBank.increment()\n",
        "KBBank.increment()            # increment\n",
        "KBBank.increment()\n",
        "print(KBBank.current_value())\n",
        "KBBank.decrement()\n",
        "KBBank.decrement()            # decrement\n",
        "print(KBBank.current_value())\n",
        "KBBank.reset()                # reset\n",
        "print(KBBank.current_value())"
      ],
      "metadata": {
        "colab": {
          "base_uri": "https://localhost:8080/"
        },
        "id": "cfOIxADoSPZ1",
        "outputId": "9207fd3c-c330-4149-90fd-8a2d7fb74e00"
      },
      "execution_count": 38,
      "outputs": [
        {
          "output_type": "stream",
          "name": "stdout",
          "text": [
            "0\n",
            "0\n",
            "3\n",
            "1\n",
            "0\n"
          ]
        }
      ]
    },
    {
      "cell_type": "code",
      "source": [
        "# KB와 Hana는 객체가 서로 다르기때문에 다른 값을 가진다.\n",
        "HanaBank = Counter()\n",
        "print(HanaBank.current_value())\n",
        "HanaBank.increment()\n",
        "HanaBank.increment()\n",
        "HanaBank.increment()\n",
        "HanaBank.increment()\n",
        "HanaBank.increment()\n",
        "print(HanaBank.current_value())\n",
        "print(KBBank.current_value())"
      ],
      "metadata": {
        "colab": {
          "base_uri": "https://localhost:8080/"
        },
        "id": "s4r0iLK0UTkF",
        "outputId": "993c12c0-2370-4088-f43a-bb3bf071a5b3"
      },
      "execution_count": 40,
      "outputs": [
        {
          "output_type": "stream",
          "name": "stdout",
          "text": [
            "0\n",
            "5\n",
            "0\n"
          ]
        }
      ]
    },
    {
      "cell_type": "markdown",
      "source": [
        "# 메서드 타입\n",
        "* 인스턴스 메서드(Instance Method)\n",
        "  * 객체의 상태를 조작하거나 객체에 특정 작업을 수행하는 메서드입니다. 대부분의 클래스 메서드는 인스턴스 메서드입니다. __init__ 메서드도 인스턴스 메서드입니다.\n",
        "\n",
        "* 클래스 메서드(Class Method)\n",
        "  * 클래스 레벨에서 동작하며, 모든 인스턴스가 공유하는 메서드입니다. 클래스 메서드는 @classmethod 데코레이터를 사용하여 정의하며, 첫 번째 매개변수로 cls를 사용합니다.\n",
        "\n",
        "* 정적 메서드(Static Method)\n",
        "  * 특정 클래스나 인스턴스와 관련이 없는 메서드로, 클래스 내부에 정의되어 있지만 클래스나 인스턴스와 독립적으로 호출될 수 있습니다. 정적 메서드는 @staticmethod 데코레이터를 사용하여 정의합니다."
      ],
      "metadata": {
        "id": "3BQxdDeyU7vV"
      }
    },
    {
      "cell_type": "code",
      "source": [
        "class Calculator:\n",
        "    def add(self, x, y):\n",
        "        return x + y\n",
        "\n",
        "    # 클래스 변수 사용가능\n",
        "    #\n",
        "    @classmethod\n",
        "    def subtract(cls, x, y):  #관례처럼 cls를 사용한다.\n",
        "        return x - y\n",
        "\n",
        "    @staticmethod #클래스와 관계없이, 별도로 작동한다. (따로 힙에 올라간다.)\n",
        "    def multiply(x, y):\n",
        "        return x * y"
      ],
      "metadata": {
        "id": "3r9IrJyKVEaW"
      },
      "execution_count": 44,
      "outputs": []
    },
    {
      "cell_type": "code",
      "source": [
        "calc = Calculator()\n",
        "\n",
        "result1 = calc.add(5,3) # instance method 사용\n",
        "print(result1)"
      ],
      "metadata": {
        "colab": {
          "base_uri": "https://localhost:8080/"
        },
        "id": "r0QgddI3Xfwx",
        "outputId": "b8b8ffea-1b6a-452b-c54b-3dac50f4ec3d"
      },
      "execution_count": 45,
      "outputs": [
        {
          "output_type": "stream",
          "name": "stdout",
          "text": [
            "8\n"
          ]
        }
      ]
    },
    {
      "cell_type": "code",
      "source": [
        "result2 = Calculator.subtract(10, 4) # 클래스 메서드\n",
        "print(result2)"
      ],
      "metadata": {
        "colab": {
          "base_uri": "https://localhost:8080/"
        },
        "id": "g1TpFMgQXrGC",
        "outputId": "037ad8ad-c657-481f-be93-d37cf225a27d"
      },
      "execution_count": 49,
      "outputs": [
        {
          "output_type": "stream",
          "name": "stdout",
          "text": [
            "6\n"
          ]
        }
      ]
    },
    {
      "cell_type": "code",
      "source": [
        "result3 = Calculator.multiply(6,2)  # static 메서드\n",
        "print(result3)"
      ],
      "metadata": {
        "colab": {
          "base_uri": "https://localhost:8080/"
        },
        "id": "UFQv7R-zXz5p",
        "outputId": "481005e0-a362-474b-b992-0c23a7a77575"
      },
      "execution_count": 50,
      "outputs": [
        {
          "output_type": "stream",
          "name": "stdout",
          "text": [
            "12\n"
          ]
        }
      ]
    }
  ]
}