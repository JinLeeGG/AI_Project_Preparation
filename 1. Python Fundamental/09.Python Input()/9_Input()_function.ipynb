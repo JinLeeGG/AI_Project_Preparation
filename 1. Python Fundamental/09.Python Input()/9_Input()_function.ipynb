{
  "nbformat": 4,
  "nbformat_minor": 0,
  "metadata": {
    "colab": {
      "provenance": [],
      "authorship_tag": "ABX9TyPxaslTW1Pf7NemBomee2y6",
      "include_colab_link": true
    },
    "kernelspec": {
      "name": "python3",
      "display_name": "Python 3"
    },
    "language_info": {
      "name": "python"
    }
  },
  "cells": [
    {
      "cell_type": "markdown",
      "metadata": {
        "id": "view-in-github",
        "colab_type": "text"
      },
      "source": [
        "<a href=\"https://colab.research.google.com/github/JinLeeGG/AI_Project_Preparation/blob/main/9_Input()_function.ipynb\" target=\"_parent\"><img src=\"https://colab.research.google.com/assets/colab-badge.svg\" alt=\"Open In Colab\"/></a>"
      ]
    },
    {
      "cell_type": "markdown",
      "source": [
        "https://ryuzyproject.tistory.com/12"
      ],
      "metadata": {
        "id": "tSF_Mhnpi6XP"
      }
    },
    {
      "cell_type": "markdown",
      "source": [
        "# 1. input()\n",
        "input() 함수는 사용자로부터 키보드 입력을 받는 데 사용되는 내장 함수입니다. 프로그램 실행 중에 사용자가 값을 입력하면, 입력한 값이 문자열로 반환되어 변수에 저장하거나 처리할 수 있습니다."
      ],
      "metadata": {
        "id": "en2gkxH9i_y9"
      }
    },
    {
      "cell_type": "code",
      "source": [
        "input()"
      ],
      "metadata": {
        "colab": {
          "base_uri": "https://localhost:8080/",
          "height": 54
        },
        "id": "icP-qFAyjCoF",
        "outputId": "fc774dda-4509-462d-f111-e08a22703b19"
      },
      "execution_count": null,
      "outputs": [
        {
          "name": "stdout",
          "output_type": "stream",
          "text": [
            "apple\n"
          ]
        },
        {
          "output_type": "execute_result",
          "data": {
            "text/plain": [
              "'apple'"
            ],
            "application/vnd.google.colaboratory.intrinsic+json": {
              "type": "string"
            }
          },
          "metadata": {},
          "execution_count": 1
        }
      ]
    },
    {
      "cell_type": "code",
      "source": [
        "name = input()\n",
        "print('입력한 값: ',name)"
      ],
      "metadata": {
        "colab": {
          "base_uri": "https://localhost:8080/"
        },
        "id": "_FmvP43gj3Oq",
        "outputId": "16d05d7f-bacf-4478-8a14-2208de41f340"
      },
      "execution_count": null,
      "outputs": [
        {
          "output_type": "stream",
          "name": "stdout",
          "text": [
            "김사규\n",
            "입력한 값:  김사규\n"
          ]
        }
      ]
    },
    {
      "cell_type": "code",
      "source": [
        "name = input('이름을 입력하세요')\n",
        "print(f'{name}님 안녕하세요')"
      ],
      "metadata": {
        "colab": {
          "base_uri": "https://localhost:8080/"
        },
        "id": "qzu_loibkBtI",
        "outputId": "5353c59c-797b-49e1-d46d-925ff3f80032"
      },
      "execution_count": null,
      "outputs": [
        {
          "output_type": "stream",
          "name": "stdout",
          "text": [
            "이름을 입력하세요이규진\n",
            "이규진님 안녕하세요\n"
          ]
        }
      ]
    },
    {
      "cell_type": "code",
      "source": [
        "name, age, weight = '김사과', 20, 50.5\n",
        "print(name)\n",
        "print(age)\n",
        "print(weight)"
      ],
      "metadata": {
        "colab": {
          "base_uri": "https://localhost:8080/"
        },
        "id": "xZ1ZNIu_kKHh",
        "outputId": "6bab7a27-f049-44d8-dc2e-d8020a1e528d"
      },
      "execution_count": null,
      "outputs": [
        {
          "output_type": "stream",
          "name": "stdout",
          "text": [
            "김사과\n",
            "20\n",
            "50.5\n"
          ]
        }
      ]
    },
    {
      "cell_type": "code",
      "source": [
        "name, age, weight = input('이름, 나이, 몸무게를 차례대로 입력하세요').split(' ')\n",
        "print(name)\n",
        "print(age)\n",
        "print(weight)"
      ],
      "metadata": {
        "colab": {
          "base_uri": "https://localhost:8080/"
        },
        "id": "RXvkYUmykgnM",
        "outputId": "92db002e-1cc8-465d-c2a7-a2d095e24f84"
      },
      "execution_count": null,
      "outputs": [
        {
          "output_type": "stream",
          "name": "stdout",
          "text": [
            "이름, 나이, 몸무게를 차례대로 입력하세요규진 22 321321\n",
            "규진\n",
            "22\n",
            "321321\n"
          ]
        }
      ]
    },
    {
      "cell_type": "code",
      "source": [
        "num1 = input('첫 번째 숫자를 입력하세요')\n",
        "num2 = input('두 번째 숫자를 입력하세요')\n",
        "print('결과: ', num1 + num2) # 문자열이여서 더하면 붙는다."
      ],
      "metadata": {
        "colab": {
          "base_uri": "https://localhost:8080/"
        },
        "id": "KD90KiRmk112",
        "outputId": "9c18a79c-9108-4b72-da7e-5223469e0198"
      },
      "execution_count": null,
      "outputs": [
        {
          "output_type": "stream",
          "name": "stdout",
          "text": [
            "첫 번째 숫자를 입력하세요100\n",
            "두 번째 숫자를 입력하세요40\n",
            "결과:  10040\n"
          ]
        }
      ]
    },
    {
      "cell_type": "code",
      "source": [
        "# int(): 문자열을 숫자(정수)타입으로 변환\n",
        "num1 = input('첫번째 숫자를 입력하세요')\n",
        "num2 = input('두번째 숫자를 입력하세요')\n",
        "print('결과: ', int(num1) + int(num2))"
      ],
      "metadata": {
        "colab": {
          "base_uri": "https://localhost:8080/"
        },
        "id": "fXt250t7mAns",
        "outputId": "f7b2ddef-1ccd-4176-e921-5e8826877ab8"
      },
      "execution_count": null,
      "outputs": [
        {
          "output_type": "stream",
          "name": "stdout",
          "text": [
            "첫번째 숫자를 입력하세요10\n",
            "두번째 숫자를 입력하세요10\n",
            "결과:  20\n"
          ]
        }
      ]
    }
  ]
}