{
  "nbformat": 4,
  "nbformat_minor": 0,
  "metadata": {
    "colab": {
      "provenance": [],
      "authorship_tag": "ABX9TyOeDJhjKRtL1Y3UCabpq9Va",
      "include_colab_link": true
    },
    "kernelspec": {
      "name": "python3",
      "display_name": "Python 3"
    },
    "language_info": {
      "name": "python"
    }
  },
  "cells": [
    {
      "cell_type": "markdown",
      "metadata": {
        "id": "view-in-github",
        "colab_type": "text"
      },
      "source": [
        "<a href=\"https://colab.research.google.com/github/JinLeeGG/AI_Project_Preparation/blob/main/1.%20Python%20Basics/08.Python%20Operator/CodingExample/Python_Operator_Practice.ipynb\" target=\"_parent\"><img src=\"https://colab.research.google.com/assets/colab-badge.svg\" alt=\"Open In Colab\"/></a>"
      ]
    },
    {
      "cell_type": "code",
      "execution_count": 1,
      "metadata": {
        "colab": {
          "base_uri": "https://localhost:8080/"
        },
        "id": "n7gHd3YIwn_y",
        "outputId": "cbdc872f-416a-4999-e2cb-60b5d9447d56"
      },
      "outputs": [
        {
          "output_type": "stream",
          "name": "stdout",
          "text": [
            "13\n",
            "7\n",
            "30\n",
            "3.3333333333333335\n",
            "3\n",
            "1\n",
            "1000\n"
          ]
        }
      ],
      "source": [
        "print(10 + 3)\n",
        "print(10 - 3)\n",
        "print(10 * 3)\n",
        "print(10 / 3)\n",
        "print(10 // 3)\n",
        "print(10 % 3)\n",
        "print(10 ** 3)"
      ]
    },
    {
      "cell_type": "code",
      "source": [
        "print(10 > 5)\n",
        "print(10 < 5)\n",
        "print(10 >= 5)\n",
        "print(10 <= 5)\n",
        "print(10 == 5)\n",
        "print(10 != 5)"
      ],
      "metadata": {
        "colab": {
          "base_uri": "https://localhost:8080/"
        },
        "id": "NO5wccVFx0Gd",
        "outputId": "a489cac3-56d3-4777-92c9-4c45b2b10056"
      },
      "execution_count": 2,
      "outputs": [
        {
          "output_type": "stream",
          "name": "stdout",
          "text": [
            "True\n",
            "False\n",
            "True\n",
            "False\n",
            "False\n",
            "True\n"
          ]
        }
      ]
    },
    {
      "cell_type": "code",
      "source": [
        "num = 10\n",
        "\n",
        "num += 1    # num = num + 1\n",
        "print(num)\n",
        "num -= 1\n",
        "print(num)\n",
        "num *= 10\n",
        "print(num)\n",
        "num /= 10\n",
        "print(num)\n",
        "num %= 2\n",
        "print(num)"
      ],
      "metadata": {
        "colab": {
          "base_uri": "https://localhost:8080/"
        },
        "id": "e0i37Y1Kx3Fe",
        "outputId": "d130ee3d-b76e-4e3d-c24e-ba87c3860dfb"
      },
      "execution_count": 3,
      "outputs": [
        {
          "output_type": "stream",
          "name": "stdout",
          "text": [
            "11\n",
            "10\n",
            "100\n",
            "10.0\n",
            "0.0\n"
          ]
        }
      ]
    },
    {
      "cell_type": "code",
      "source": [
        "a = 60  # 111100\n",
        "b = 13  # 001101\n",
        "\n",
        "print(a & b)  # 12, 즉 1100\n",
        "print(a | b)  # 61, 즉 111101\n",
        "print(a ^ b)  # 49, 즉 110001\n",
        "print(~a)  # -61\n",
        "print(a << 2)  # 240, 즉 11110000\n",
        "print(a >> 2)  # 15, 즉 1111"
      ],
      "metadata": {
        "colab": {
          "base_uri": "https://localhost:8080/"
        },
        "id": "8CGGIp46x-Iw",
        "outputId": "c02450ed-9f2c-4458-dce1-fe5511bc38f8"
      },
      "execution_count": 4,
      "outputs": [
        {
          "output_type": "stream",
          "name": "stdout",
          "text": [
            "12\n",
            "61\n",
            "49\n",
            "-61\n",
            "240\n",
            "15\n"
          ]
        }
      ]
    },
    {
      "cell_type": "code",
      "source": [
        "# and 둘다 참이여야 참\n",
        "print(True and True)\n",
        "print(False and True)\n",
        "print(False and False)\n",
        "print(True and 3)       # 3  앞이 참이므로 뒤 리턴\n",
        "print(3 and 5)         # 5   앞이 참임으로 뒤 리턴\n",
        "print(0 and 5)         # 0    앞이 거짓임으로 앞 리턴"
      ],
      "metadata": {
        "colab": {
          "base_uri": "https://localhost:8080/"
        },
        "id": "lTm7Si2ByB2m",
        "outputId": "6cfaa4c0-8454-4e5b-d0b0-d398f5951315"
      },
      "execution_count": 5,
      "outputs": [
        {
          "output_type": "stream",
          "name": "stdout",
          "text": [
            "True\n",
            "False\n",
            "False\n",
            "3\n",
            "5\n",
            "0\n"
          ]
        }
      ]
    },
    {
      "cell_type": "code",
      "source": [
        "# or 둘중 하나라도 참이면 참\n",
        "print(False or 3)      # 3  #앞이 거짓임으로 뒤 리턴\n",
        "print(3 or 5)          # 3  # 앞이 참임으로 앞 리턴\n",
        "print(0 or 5)          # 5  # 앞이 거짓임으로 뒤 리턴"
      ],
      "metadata": {
        "colab": {
          "base_uri": "https://localhost:8080/"
        },
        "id": "25qVx_nlyIBY",
        "outputId": "75b89f9a-8e1f-4ec2-cc70-c93d4b353c5b"
      },
      "execution_count": 6,
      "outputs": [
        {
          "output_type": "stream",
          "name": "stdout",
          "text": [
            "3\n",
            "3\n",
            "5\n"
          ]
        }
      ]
    },
    {
      "cell_type": "code",
      "source": [
        "# not 참이면 거짓으로 거짓이면 참으로\n",
        "print(not True)        # False 참 >> 거짓\n",
        "print(not 0)           # True 거짓 >> 참\n",
        "print(not 3)           # False  참 >> 거짓"
      ],
      "metadata": {
        "colab": {
          "base_uri": "https://localhost:8080/"
        },
        "id": "u4zTb_LUyJnJ",
        "outputId": "0890982f-0802-4fc3-b48f-a1b4b05e53c0"
      },
      "execution_count": 7,
      "outputs": [
        {
          "output_type": "stream",
          "name": "stdout",
          "text": [
            "False\n",
            "True\n",
            "False\n"
          ]
        }
      ]
    }
  ]
}