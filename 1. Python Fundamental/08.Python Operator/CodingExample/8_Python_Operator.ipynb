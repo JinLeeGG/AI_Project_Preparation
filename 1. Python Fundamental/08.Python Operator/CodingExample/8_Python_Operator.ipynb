{
  "nbformat": 4,
  "nbformat_minor": 0,
  "metadata": {
    "colab": {
      "provenance": [],
      "authorship_tag": "ABX9TyP67u2Rp5eMm7asqAfXRMEA",
      "include_colab_link": true
    },
    "kernelspec": {
      "name": "python3",
      "display_name": "Python 3"
    },
    "language_info": {
      "name": "python"
    }
  },
  "cells": [
    {
      "cell_type": "markdown",
      "metadata": {
        "id": "view-in-github",
        "colab_type": "text"
      },
      "source": [
        "<a href=\"https://colab.research.google.com/github/JinLeeGG/AI_Project_Preparation/blob/main/8_Python_Operator.ipynb\" target=\"_parent\"><img src=\"https://colab.research.google.com/assets/colab-badge.svg\" alt=\"Open In Colab\"/></a>"
      ]
    },
    {
      "cell_type": "markdown",
      "source": [
        "https://ryuzyproject.tistory.com/11"
      ],
      "metadata": {
        "id": "xUMfz5ClYJIA"
      }
    },
    {
      "cell_type": "markdown",
      "source": [
        "# 1. 산술 연산자\n",
        "산술 연산자는 주로 수치 데이터 유형에 대한 기본 산술 연산을 수행하기 위해 사용됩니다.\n",
        "\n",
        "```\n",
        "+ : 더하기\n",
        "- : 빼기\n",
        "* : 곱하기\n",
        "/ : 나누기\n",
        "//: 몫 (정수 나누기)\n",
        "% : 나머지\n",
        "**: 지수 (거듭제곱)\n",
        "print(10 + 3)\n",
        "```"
      ],
      "metadata": {
        "id": "SXoLwFxzYAXH"
      }
    },
    {
      "cell_type": "code",
      "source": [
        "print(10 + 3)\n",
        "print(10 - 3)\n",
        "print(10 * 3)\n",
        "print(10 / 3)\n",
        "print(10 // 3)\n",
        "print(10 % 3)\n",
        "print(10 ** 3)"
      ],
      "metadata": {
        "colab": {
          "base_uri": "https://localhost:8080/"
        },
        "id": "8rIISiROYc93",
        "outputId": "34ef3e53-5409-4500-f553-80e2fde206b0"
      },
      "execution_count": null,
      "outputs": [
        {
          "output_type": "stream",
          "name": "stdout",
          "text": [
            "13\n",
            "7\n",
            "30\n",
            "3.3333333333333335\n",
            "3\n",
            "1\n",
            "1000\n"
          ]
        }
      ]
    },
    {
      "cell_type": "markdown",
      "source": [
        "# 2. 비교 연산자\n",
        "비교 연산자는 주로 두 값을 비교하는 데 사용되며, 그 결과는 항상 불리언(True 또는 False) 값입니다.\n",
        "\n",
        "```\n",
        "==: 동등\n",
        "!=: 동등하지 않음\n",
        "< : 작다\n",
        "<=: 작거나 같다\n",
        "> : 크다\n",
        ">=: 크거나 같다\n",
        "```"
      ],
      "metadata": {
        "id": "lU5SZHGlYhCh"
      }
    },
    {
      "cell_type": "code",
      "source": [
        "print(10 > 5)\n",
        "print(10 < 5)\n",
        "print(10 >= 5)\n",
        "print(10 <= 5)\n",
        "print(10 == 5)\n",
        "print(10 != 5)"
      ],
      "metadata": {
        "colab": {
          "base_uri": "https://localhost:8080/"
        },
        "id": "GwUTys4SYgpn",
        "outputId": "af65bf2a-99a4-4e6d-d7f0-deefb17f1ee7"
      },
      "execution_count": null,
      "outputs": [
        {
          "output_type": "stream",
          "name": "stdout",
          "text": [
            "True\n",
            "False\n",
            "True\n",
            "False\n",
            "False\n",
            "True\n"
          ]
        }
      ]
    },
    {
      "cell_type": "markdown",
      "source": [
        "# 3. 할당 연산자\n",
        "변수에 값을 할당하는데 사용됩니다. 파이썬에서는 기본 할당 연산자 외에도 복합 할당 연산자를 제공하여 코드를 간결하게 작성할 수 있게 도와줍니다.\n",
        "\n",
        "```\n",
        "= : 할당\n",
        "+= : 더하기 후 할당\n",
        "-= : 빼기 후 할당\n",
        "*= : 곱하기 후 할당\n",
        "/= : 나누기 후 할당\n",
        "//=: 몫 후 할당\n",
        "%= : 나머지 후 할당\n",
        "**=: 지수 후 할당\n",
        "```"
      ],
      "metadata": {
        "id": "mbDdttTdYzhW"
      }
    },
    {
      "cell_type": "code",
      "source": [
        "num = 10\n",
        "\n",
        "num += 1    # num = num + 1\n",
        "print(num)\n",
        "num -= 1\n",
        "print(num)\n",
        "num *= 10\n",
        "print(num)\n",
        "num /= 10\n",
        "print(num)\n",
        "num %= 2\n",
        "print(num)"
      ],
      "metadata": {
        "colab": {
          "base_uri": "https://localhost:8080/"
        },
        "id": "lACYplGsZ5XT",
        "outputId": "3bf2fddd-3e33-4a62-c115-082ab8ade06f"
      },
      "execution_count": null,
      "outputs": [
        {
          "output_type": "stream",
          "name": "stdout",
          "text": [
            "11\n",
            "10\n",
            "100\n",
            "10.0\n",
            "0.0\n"
          ]
        }
      ]
    },
    {
      "cell_type": "markdown",
      "source": [
        "# 4. 비트 연산자\n",
        "비트 연산자는 정수를 이진 비트로 표현했을 때 사용하는 연산자들입니다. 각 연산자는 정수의 비트 단위로 동작합니다.\n",
        "\n",
        "```\n",
        "& : 비트 단위 AND\n",
        "| : 비트 단위 OR\n",
        "^ : 비트 단위 XOR\n",
        "~ : 비트 단위 NOT\n",
        "<< : 왼쪽 시프트\n",
        ">> : 오른쪽 시프트\n",
        "```"
      ],
      "metadata": {
        "id": "rARFV4AVaJIG"
      }
    },
    {
      "cell_type": "code",
      "source": [
        "a = 60  # 111100\n",
        "b = 13  # 001101\n",
        "\n",
        "print(a & b)  # 12, 즉 1100\n",
        "print(a | b)  # 61, 즉 111101\n",
        "print(a ^ b)  # 49, 즉 110001\n",
        "print(~a)  # -61\n",
        "print(a << 2)  # 240, 즉 11110000\n",
        "print(a >> 2)  # 15, 즉 1111"
      ],
      "metadata": {
        "colab": {
          "base_uri": "https://localhost:8080/"
        },
        "id": "LIxloSXNaMq7",
        "outputId": "31fd1e02-5dd6-4bb9-fec3-959a52a0e158"
      },
      "execution_count": null,
      "outputs": [
        {
          "output_type": "stream",
          "name": "stdout",
          "text": [
            "12\n",
            "61\n",
            "49\n",
            "-61\n",
            "240\n",
            "15\n"
          ]
        }
      ]
    },
    {
      "cell_type": "markdown",
      "source": [
        "### 데이터의 크기를 나타내는 용량 단위\n",
        "\n",
        "```\n",
        "Bit: 가장 기본적인 데이터 단위로, 0 또는 1의 값을 가질 수 있습니다.\n",
        "바이트(byte): 8개의 비트로 구성되며, 일반적으로 하나의 문자(알파벳, 숫자 등)를 저장할 수 있는 크기.\n",
        "킬로바이트(KB): 1,024 바이트\n",
        "메가바이트(MB): 1,024 KB (약 1,048,576 바이트)\n",
        "기가바이트(GB): 1,024 MB (약 1,073,741,824 바이트)\n",
        "테라바이트(TB): 1,024 GB (약 1,099,511,627,776 바이트)\n",
        "페타바이트(PB): 1,024 TB (약 1,125,899,906,842,624 바이트)\n",
        "엑사바이트(EB): 1,024 PB (약 1,152,921,504,606,846,976 바이트)\n",
        "제타바이트(ZB): 1,024 EB (약 1,180,591,620,717,411,303,424 바이트)\n",
        "요타바이트(YB): 1,024 ZB (약 1,208,925,819,614,629,174,706,176 바이트)\n",
        "```"
      ],
      "metadata": {
        "id": "zf0nTOi2eTuu"
      }
    },
    {
      "cell_type": "markdown",
      "source": [
        "# 5. 논리 연산자\n",
        "파이썬에서의 논리 연산자는 주로 불린(Boolean) 값을 조작하기 위해 사용됩니다. 그러나 파이썬의 논리 연산자는 다른 언어와는 다르게, 연산의 결과로 항상 True 또는 False만을 반환하는 것은 아닙니다. 대신 마지막으로 평가된 피연산자의 값을 반환합니다.\n",
        "\n",
        "```\n",
        "and: 논리 AND\n",
        "or : 논리 OR\n",
        "not: 논리 NOT\n",
        "```"
      ],
      "metadata": {
        "id": "slBj-iAveV7V"
      }
    },
    {
      "cell_type": "code",
      "source": [
        "# and\n",
        "print(True and True)\n",
        "print(False and True)\n",
        "print(False and False)\n",
        "print(True and 3)       # 3\n",
        "print(3 and 5)         # 5\n",
        "print(0 and 5)         # 0"
      ],
      "metadata": {
        "colab": {
          "base_uri": "https://localhost:8080/"
        },
        "id": "RDtLo7WIe21X",
        "outputId": "3127c768-70da-4d13-835f-2c7cff19f79a"
      },
      "execution_count": null,
      "outputs": [
        {
          "output_type": "stream",
          "name": "stdout",
          "text": [
            "True\n",
            "False\n",
            "False\n",
            "3\n",
            "5\n",
            "0\n"
          ]
        }
      ]
    },
    {
      "cell_type": "code",
      "source": [
        "# or\n",
        "print(False or 3)      # 3\n",
        "print(3 or 5)          # 3\n",
        "print(0 or 5)          # 5"
      ],
      "metadata": {
        "id": "grUK1KE3hQhW",
        "outputId": "7715d09e-917a-452d-dcda-2a6da28d810b",
        "colab": {
          "base_uri": "https://localhost:8080/"
        }
      },
      "execution_count": null,
      "outputs": [
        {
          "output_type": "stream",
          "name": "stdout",
          "text": [
            "3\n",
            "3\n",
            "5\n"
          ]
        }
      ]
    },
    {
      "cell_type": "code",
      "source": [
        "# not\n",
        "print(not True)        # False\n",
        "print(not 0)           # True\n",
        "print(not 3)           # False"
      ],
      "metadata": {
        "id": "lmIbl_G4hQ_d",
        "outputId": "57cf3f39-51cb-4a2f-db3d-a32c7b59c9af",
        "colab": {
          "base_uri": "https://localhost:8080/"
        }
      },
      "execution_count": null,
      "outputs": [
        {
          "output_type": "stream",
          "name": "stdout",
          "text": [
            "False\n",
            "True\n",
            "False\n"
          ]
        }
      ]
    }
  ]
}