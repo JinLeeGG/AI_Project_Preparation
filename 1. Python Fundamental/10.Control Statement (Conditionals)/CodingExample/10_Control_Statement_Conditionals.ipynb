{
  "nbformat": 4,
  "nbformat_minor": 0,
  "metadata": {
    "colab": {
      "provenance": [],
      "authorship_tag": "ABX9TyMthGK8GxZV5Ga9K+xP1zk5",
      "include_colab_link": true
    },
    "kernelspec": {
      "name": "python3",
      "display_name": "Python 3"
    },
    "language_info": {
      "name": "python"
    }
  },
  "cells": [
    {
      "cell_type": "markdown",
      "metadata": {
        "id": "view-in-github",
        "colab_type": "text"
      },
      "source": [
        "<a href=\"https://colab.research.google.com/github/JinLeeGG/AI_Project_Preparation/blob/main/1.%20Python%20Basics/Day6%20-%20Control%20Statement%20(Conditionals)/10_Control_Statement_Conditionals.ipynb\" target=\"_parent\"><img src=\"https://colab.research.google.com/assets/colab-badge.svg\" alt=\"Open In Colab\"/></a>"
      ]
    },
    {
      "cell_type": "markdown",
      "source": [
        "https://ryuzyproject.tistory.com/13"
      ],
      "metadata": {
        "id": "9B13Pa6mnUE8"
      }
    },
    {
      "cell_type": "markdown",
      "source": [
        "# 1. 조건문\n",
        "조건문은 코드의 실행 흐름을 제어하기 위해 사용하는 구문입니다. 이 조건문은 주어진 조건이 참인지 거짓인지에 따라 다른 코드를 실행하게 합니다.\n",
        "\n"
      ],
      "metadata": {
        "id": "b7Mx1VLqnGYA"
      }
    },
    {
      "cell_type": "markdown",
      "source": [
        "# 2. if 문\n",
        "가장 기본적인 조건문입니다. 특정 조건이 참(True)일 경우에만 해당 블록 내의 코드가 실행됩니다.\n",
        "\n",
        "```\n",
        "if 조건:\n",
        "    실행할 코드\n",
        "```\n",
        "\n",
        "여기에서 조건은 True 또는 False로 평가될 수 있는 표현식이어야 합니다. 조건이 True로 평가되면 if 문 바로 아래의 코드 블록이 실행됩니다. 그렇지 않으면 그 코드 블록은 건너뜁니다."
      ],
      "metadata": {
        "id": "u-1jBAhXnjb0"
      }
    },
    {
      "cell_type": "code",
      "source": [
        "if True:\n",
        "    print('결과는 참입니다.')    # 결과가 참이기 때문에 출력된다.\n",
        "print('프로그램을 종료합니다.')"
      ],
      "metadata": {
        "colab": {
          "base_uri": "https://localhost:8080/"
        },
        "id": "Aydn9QdopCwT",
        "outputId": "e604f8c3-7af4-41a9-9fbc-7e41cd2d2c7f"
      },
      "execution_count": null,
      "outputs": [
        {
          "output_type": "stream",
          "name": "stdout",
          "text": [
            "결과는 참입니다.\n",
            "프로그램을 종료합니다.\n"
          ]
        }
      ]
    },
    {
      "cell_type": "code",
      "source": [
        "if False:\n",
        "    print('결과는 참입니다.')     # 결과가 참이기 때문에 출력이 안된다.\n",
        "print('프로그램을 종료합니다.')"
      ],
      "metadata": {
        "colab": {
          "base_uri": "https://localhost:8080/"
        },
        "id": "KoT1BCN_ppWR",
        "outputId": "1ca7066f-9268-4b66-9734-1b23b565eb4c"
      },
      "execution_count": null,
      "outputs": [
        {
          "output_type": "stream",
          "name": "stdout",
          "text": [
            "프로그램을 종료합니다.\n"
          ]
        }
      ]
    },
    {
      "cell_type": "code",
      "source": [
        "if '안녕하세요': # 비어 있지 않은 문자열은 True이다.\n",
        "    print('결과는 참입니다')\n",
        "print('프로그램을 종료합니다')"
      ],
      "metadata": {
        "colab": {
          "base_uri": "https://localhost:8080/"
        },
        "id": "3Bm27O1Sp5RW",
        "outputId": "45b31687-f8bb-4b05-f838-228e93118b26"
      },
      "execution_count": null,
      "outputs": [
        {
          "output_type": "stream",
          "name": "stdout",
          "text": [
            "결과는 참입니다\n",
            "프로그램을 종료합니다\n"
          ]
        }
      ]
    },
    {
      "cell_type": "code",
      "source": [
        "if '': # 빈 문자열은 false이다.\n",
        "    print('결과는 참입니다')\n",
        "print('프로그램을 종료합니다')"
      ],
      "metadata": {
        "colab": {
          "base_uri": "https://localhost:8080/"
        },
        "id": "W0yxxJLgp_WR",
        "outputId": "f7f60e5d-6bb9-489c-ac24-de840e03ac35"
      },
      "execution_count": null,
      "outputs": [
        {
          "output_type": "stream",
          "name": "stdout",
          "text": [
            "프로그램을 종료합니다\n"
          ]
        }
      ]
    },
    {
      "cell_type": "code",
      "source": [
        "if '안녕하세요':print('결과는 참입니다')\n",
        "print('프로그램을 종료합니다')"
      ],
      "metadata": {
        "colab": {
          "base_uri": "https://localhost:8080/"
        },
        "id": "SLx7BkbAqG0a",
        "outputId": "acbda967-216d-4bee-e9b2-98a70a9975ab"
      },
      "execution_count": null,
      "outputs": [
        {
          "output_type": "stream",
          "name": "stdout",
          "text": [
            "결과는 참입니다\n",
            "프로그램을 종료합니다\n"
          ]
        }
      ]
    },
    {
      "cell_type": "code",
      "source": [
        "if '':print('결과는 참입니다')\n",
        "print('프로그램을 종료합니다')"
      ],
      "metadata": {
        "colab": {
          "base_uri": "https://localhost:8080/"
        },
        "id": "GHqNPBwUqKCd",
        "outputId": "bf168230-16b9-4116-bc63-3d4c3a1463ce"
      },
      "execution_count": null,
      "outputs": [
        {
          "output_type": "stream",
          "name": "stdout",
          "text": [
            "프로그램을 종료합니다\n"
          ]
        }
      ]
    },
    {
      "cell_type": "code",
      "source": [
        "if '안녕하세요':\n",
        "  print('결과는 참입니다')\n",
        "  print('결과는 참입니다')\n",
        "print('프로그램을 종료합니다')"
      ],
      "metadata": {
        "colab": {
          "base_uri": "https://localhost:8080/"
        },
        "id": "2vFN-weaqMik",
        "outputId": "56593540-4da1-48c1-884a-ba2057b53f36"
      },
      "execution_count": null,
      "outputs": [
        {
          "output_type": "stream",
          "name": "stdout",
          "text": [
            "결과는 참입니다\n",
            "결과는 참입니다\n",
            "프로그램을 종료합니다\n"
          ]
        }
      ]
    },
    {
      "cell_type": "code",
      "source": [
        "age = int(input('나이를 입력하세요: '))\n",
        "\n",
        "if age > 19:\n",
        "    print('성인입니다.')\n",
        "print('입력한 나이: ', age)"
      ],
      "metadata": {
        "colab": {
          "base_uri": "https://localhost:8080/"
        },
        "id": "NQBNcB96qlM7",
        "outputId": "4e3d98f6-cc3f-4118-9b93-64cf0b4fdf71"
      },
      "execution_count": null,
      "outputs": [
        {
          "output_type": "stream",
          "name": "stdout",
          "text": [
            "나이를 입력하세요: 20\n",
            "성인입니다.\n",
            "입력한 나이:  20\n"
          ]
        }
      ]
    },
    {
      "cell_type": "code",
      "source": [
        "age = int(input('나이를 입력하세요: '))\n",
        "\n",
        "if age > 19:\n",
        "    print('성인입니다.')\n",
        "    print('넷플릭스 성인영화를 감상할 수 있습니다')\n",
        "print('입력한 나이: ', age)"
      ],
      "metadata": {
        "colab": {
          "base_uri": "https://localhost:8080/"
        },
        "id": "b-kv4pRrquDz",
        "outputId": "f10626fa-cd7e-49e2-ea04-7e63895c050c"
      },
      "execution_count": null,
      "outputs": [
        {
          "output_type": "stream",
          "name": "stdout",
          "text": [
            "나이를 입력하세요: 20\n",
            "성인입니다.\n",
            "넷플릭스 성인영화를 감상할 수 있습니다\n",
            "입력한 나이:  20\n"
          ]
        }
      ]
    },
    {
      "cell_type": "markdown",
      "source": [
        "# 3. else 문\n",
        "else 문은 조건문에서 특정 조건이 충족되지 않을 때 실행할 코드 블록을 정의할 때 사용합니다.\n",
        "\n",
        "```\n",
        "if 조건1:\n",
        "    코드 블록1\n",
        "else:\n",
        "    코드 블록3\n",
        "```"
      ],
      "metadata": {
        "id": "CKK80DqBrado"
      }
    },
    {
      "cell_type": "code",
      "source": [
        "age = int(input('나이를 입력하세요: '))\n",
        "\n",
        "if age > 19:\n",
        "    print('성인입니다.')\n",
        "    print('넷플릭스 성인영화를 감상할 수 있습니다')\n",
        "else:\n",
        "    print('미성년입니다')\n",
        "    print('디즈니플러스를 보세요')\n",
        "print('입력한 나이: ', age)"
      ],
      "metadata": {
        "colab": {
          "base_uri": "https://localhost:8080/"
        },
        "id": "UiPhGe64rdoQ",
        "outputId": "47d10b60-380c-4d9e-8f02-13a24ddf8647"
      },
      "execution_count": null,
      "outputs": [
        {
          "output_type": "stream",
          "name": "stdout",
          "text": [
            "나이를 입력하세요: 20\n",
            "성인입니다.\n",
            "넷플릭스 성인영화를 감상할 수 있습니다\n",
            "입력한 나이:  20\n"
          ]
        }
      ]
    },
    {
      "cell_type": "markdown",
      "source": [
        "# 4. elif 문\n",
        "elif는 if-else 구조에서 추가적인 조건을 검사하기 위해 사용합니다. elif는 \"else if\"의 줄임말이며, 주어진 여러 조건 중에서 하나만 참일 때 실행되는 코드 블록을 정의합니다.\n",
        "\n",
        "- elif는 if 없이 단독으로 사용될 수 없습니다.\n",
        "\n",
        "- elif는 필요에 따라 여러 번 사용될 수 있습니다.\n",
        "\n",
        "- else는 선택적입니다. 사용될 경우, 항상 if나 elif 뒤에 나타나야 합니다.\n",
        "\n",
        "```\n",
        "if 조건1:\n",
        "    코드 블록1\n",
        "elif 조건2:\n",
        "    코드 블록2\n",
        "elif 조건3:\n",
        "    코드 블록3\n",
        "else:\n",
        "    코드 블록4\n",
        "```"
      ],
      "metadata": {
        "id": "1nY3u3YNrrlS"
      }
    },
    {
      "cell_type": "code",
      "source": [
        "age = int(input('나이를 입력하세요: '))\n",
        "\n",
        "if age > 19:\n",
        "    print('성인입니다.')\n",
        "elif age > 14:\n",
        "    print('청소년입니다.')\n",
        "elif age > 6:\n",
        "    print('어린이입니다.')\n",
        "elif age > 0:\n",
        "    print('유아입니다.')\n",
        "else:\n",
        "    print('입력을 확인하세요')\n",
        "\n",
        "print('입력한 나이: ', age)"
      ],
      "metadata": {
        "colab": {
          "base_uri": "https://localhost:8080/"
        },
        "id": "HZlTXttybAgS",
        "outputId": "698e36e1-6612-4738-f66a-5edc5165727f"
      },
      "execution_count": null,
      "outputs": [
        {
          "output_type": "stream",
          "name": "stdout",
          "text": [
            "나이를 입력하세요: -1\n",
            "입력을 확인하세요\n",
            "입력한 나이:  -1\n"
          ]
        }
      ]
    },
    {
      "cell_type": "code",
      "source": [
        "# 아이디 길이 체크하기\n",
        "# Walrus Operator(x := expression)\n",
        "# (변수 := 표현식)\n",
        "# expression을 계산한 값을 x에 할당하고, 동시에 그 값을 사용합니다.\n",
        "\n",
        "text = input('아이디를 입력하세요: ')\n",
        "\n",
        "if (length := len(text)) < 3:\n",
        "    print(f\"아이디가 너무 짧습니다. (입력한 글자 수: {length})\")\n",
        "else:\n",
        "    print(f\"아이디 '{text}'는 사용 가능합니다.\")"
      ],
      "metadata": {
        "colab": {
          "base_uri": "https://localhost:8080/"
        },
        "id": "jJwZzDDRdIbq",
        "outputId": "0afa998a-9677-4d6d-fab6-3c6537a04745"
      },
      "execution_count": null,
      "outputs": [
        {
          "output_type": "stream",
          "name": "stdout",
          "text": [
            "아이디를 입력하세요: dsadsa\n",
            "아이디 'dsadsa'는 사용 가능합니다.\n"
          ]
        }
      ]
    },
    {
      "cell_type": "code",
      "source": [
        "# 로그인 프로그램 만들기\n",
        "# 아이디 : admin, 비밀번호 : 1234\n",
        "userid = input('아이디를 입력하세요')\n",
        "userpw = input('비밀번호를 입력하세요')\n",
        "\n",
        "if userid == 'admin' and userpw == '1234':\n",
        "    print('로그인 되었습니다')\n",
        "else:\n",
        "    print('아이디 또는 비밀번호를 확인하세요.')"
      ],
      "metadata": {
        "colab": {
          "base_uri": "https://localhost:8080/"
        },
        "id": "T4pKnQTpe3lg",
        "outputId": "d50f97e3-92e2-4770-b4aa-7eeecdef8736"
      },
      "execution_count": null,
      "outputs": [
        {
          "output_type": "stream",
          "name": "stdout",
          "text": [
            "아이디를 입력하세요admin\n",
            "비밀번호를 입력하세요1234\n",
            "로그인 되었습니다\n"
          ]
        }
      ]
    },
    {
      "cell_type": "code",
      "source": [
        "# 주민등록번호에 의한 성별을 판별하는 프로그램 만들기\n",
        "# 0010113068518\\\n",
        "# 숫자로 받는순간 앞에 붙은 0은 사라지기때문에 문자열로 받는다.\n",
        "juminNo = input('주민들록번호 13자리를 -없이 입력하세요')\n",
        "\n",
        "if juminNo[6] == '1' or juminNo[6] == '3' or juminNo[6] == '5' or juminNo[6] == '7' or juminNo[6] == '9':\n",
        "    print('남자')\n",
        "else:\n",
        "    print('여자')"
      ],
      "metadata": {
        "colab": {
          "base_uri": "https://localhost:8080/"
        },
        "id": "OxjsyMYtfb9V",
        "outputId": "9bb803b3-4aeb-4041-e5f1-54275085d8b2"
      },
      "execution_count": null,
      "outputs": [
        {
          "output_type": "stream",
          "name": "stdout",
          "text": [
            "주민들록번호 13자리를 -없이 입력하세요3213213123\n",
            "남자\n"
          ]
        }
      ]
    },
    {
      "cell_type": "code",
      "source": [
        "print(\"MBTI 간단 성격 유형 검사에 오신 걸 환영합니다!\")\n",
        "\n",
        "# 첫 번째 질문: 외향/내향\n",
        "answer1 = input(\"Q1. 새로운 사람들과 만나는 걸 좋아하시나요? (y/n): \")\n",
        "if answer1.lower() == 'y':\n",
        "    # 외향형으로 진행\n",
        "    print(\"외향형으로 분석 중...\")\n",
        "    answer2 = input(\"Q2. 주변 환경에 대해 자주 인지하고 있나요? (y/n): \")\n",
        "\n",
        "    if answer2.lower() == 'y':\n",
        "        # 감각형(외향, 감각)\n",
        "        answer3 = input(\"Q3. 계획을 세우는 것을 좋아하시나요? (y/n): \")\n",
        "        if answer3.lower() == 'y':\n",
        "            print(\"당신의 성격 유형은 ESTJ입니다!\")\n",
        "        else:\n",
        "            print(\"당신의 성격 유형은 ESFP입니다!\")\n",
        "    else:\n",
        "        # 직관형(외향, 직관)\n",
        "        answer3 = input(\"Q3. 큰 그림을 보는 것을 좋아하시나요? (y/n): \")\n",
        "        if answer3.lower() == 'y':\n",
        "            print(\"당신의 성격 유형은 ENFP입니다!\")\n",
        "        else:\n",
        "            print(\"당신의 성격 유형은 ENTJ입니다!\")\n",
        "\n",
        "else:\n",
        "    # 내향형으로 진행\n",
        "    print(\"내향형으로 분석 중...\")\n",
        "    answer2 = input(\"Q2. 구체적인 정보나 사실을 중요하게 생각하시나요? (y/n): \")\n",
        "\n",
        "    if answer2.lower() == 'y':\n",
        "        # 감각형(내향, 감각)\n",
        "        answer3 = input(\"Q3. 일정을 엄격하게 관리하는 것을 좋아하시나요? (y/n): \")\n",
        "        if answer3.lower() == 'y':\n",
        "            print(\"당신의 성격 유형은 ISTJ입니다!\")\n",
        "        else:\n",
        "            print(\"당신의 성격 유형은 ISFP입니다!\")\n",
        "    else:\n",
        "        # 직관형(내향, 직관)\n",
        "        answer3 = input(\"Q3. 논리적인 문제 해결을 좋아하시나요? (y/n): \")\n",
        "        if answer3.lower() == 'y':\n",
        "            print(\"당신의 성격 유형은 INTP입니다!\")\n",
        "        else:\n",
        "            print(\"당신의 성격 유형은 INFJ입니다!\")"
      ],
      "metadata": {
        "colab": {
          "base_uri": "https://localhost:8080/"
        },
        "id": "J9w-BZf3hOoI",
        "outputId": "bbb776ff-dfc2-4f0e-821a-85ca17743e7b"
      },
      "execution_count": null,
      "outputs": [
        {
          "output_type": "stream",
          "name": "stdout",
          "text": [
            "MBTI 간단 성격 유형 검사에 오신 걸 환영합니다!\n",
            "Q1. 새로운 사람들과 만나는 걸 좋아하시나요? (y/n): y\n",
            "외향형으로 분석 중...\n",
            "Q2. 주변 환경에 대해 자주 인지하고 있나요? (y/n): y\n",
            "Q3. 계획을 세우는 것을 좋아하시나요? (y/n): y\n",
            "당신의 성격 유형은 ESTJ입니다!\n"
          ]
        }
      ]
    },
    {
      "cell_type": "markdown",
      "source": [
        "# 5. 조건부 표현식(Conditional Expression)\n",
        "조건부 표현식은 파이썬에서 삼항연산자라고도 불립니다. 간단한 if-else 구문을 더 간결하게 표현할 수 있는 방법을 제공합니다.  조건부 표현식은 코드를 간결하게 만들어주지만, 너무 복잡한 조건이나 연산을 포함하면 코드의 가독성이 떨어질 수 있습니다. 따라서 적절한 상황에서만 사용하는 것이 좋습니다.\n",
        "\n",
        "```\n",
        "조건이 참인 경우 값 if condition else 조건이 거짓인 경우 값\n",
        "```"
      ],
      "metadata": {
        "id": "005Fbf9qjCvp"
      }
    },
    {
      "cell_type": "code",
      "source": [
        "num = int(input('숫자를 입력하세요: '))\n",
        "if num % 2 == 0:\n",
        "    print('짝수')\n",
        "else:\n",
        "    print('홀수')\n",
        "\n"
      ],
      "metadata": {
        "colab": {
          "base_uri": "https://localhost:8080/"
        },
        "id": "RKYWbn6jjHBS",
        "outputId": "0ab38e65-16d4-4e32-e1e9-29f4129ca764"
      },
      "execution_count": null,
      "outputs": [
        {
          "output_type": "stream",
          "name": "stdout",
          "text": [
            "숫자를 입력하세요: 13\n",
            "홀수\n"
          ]
        }
      ]
    },
    {
      "cell_type": "code",
      "source": [
        "# 조건부 표현식\n",
        "num = int(input('숫자를 입력하세요: '))\n",
        "print('짝수') if num % 2 == 0 else print('홀수')"
      ],
      "metadata": {
        "colab": {
          "base_uri": "https://localhost:8080/"
        },
        "id": "S0Rbz2YkjuH5",
        "outputId": "6ecddc9a-97aa-4166-f247-bc7917cc6841"
      },
      "execution_count": null,
      "outputs": [
        {
          "output_type": "stream",
          "name": "stdout",
          "text": [
            "숫자를 입력하세요: 13\n",
            "홀수\n"
          ]
        }
      ]
    },
    {
      "cell_type": "code",
      "source": [
        "# if~elif~else로 작성\n",
        "age = int(input('나이를 입력하세요'))\n",
        "\n",
        "if age > 19:\n",
        "    print('성인입니다')\n",
        "elif age > 14:\n",
        "    print('청소년입니다')\n",
        "elif age > 6:\n",
        "    print('어린이입니다')\n",
        "elif age > 0:\n",
        "    print('유아입니다')\n",
        "else:\n",
        "    print('다시 입력해주세요')\n",
        "print('입력한 나이: ', age)"
      ],
      "metadata": {
        "colab": {
          "base_uri": "https://localhost:8080/"
        },
        "id": "CRp9UP17kaiZ",
        "outputId": "653ebf18-7116-4045-ed02-5cb9ab31c0d3"
      },
      "execution_count": null,
      "outputs": [
        {
          "output_type": "stream",
          "name": "stdout",
          "text": [
            "나이를 입력하세요20\n",
            "성인입니다\n",
            "입력한 나이:  20\n"
          ]
        }
      ]
    },
    {
      "cell_type": "code",
      "source": [
        "age = int(input('나이를 입력하세요'))\n",
        "print('성인입니다') if age > 19 else print('청소년입니다') if age > 14 else print('어린이입니다') if age > 6 else print('유아입니다') if age > 0 else print('다시 입력해주세요')"
      ],
      "metadata": {
        "colab": {
          "base_uri": "https://localhost:8080/"
        },
        "id": "30bSqJTKkfv_",
        "outputId": "79d7b913-83b4-4fee-94a7-d367d7cd748a"
      },
      "execution_count": null,
      "outputs": [
        {
          "output_type": "stream",
          "name": "stdout",
          "text": [
            "나이를 입력하세요20\n",
            "성인입니다\n"
          ]
        }
      ]
    },
    {
      "cell_type": "markdown",
      "source": [
        "# 6. 구조적 패턴 매칭\n",
        "파이썬에서 if-elif-else 구문을 좀 더 간결하고 읽기 쉽게 만든 새로운 분기문입니다. Java/C의 switch-case와 비슷하지만 훨씬 더 강력한 기능을 가집니다.\n",
        "\n",
        "```\n",
        "match 값:\n",
        "    case 패턴1:\n",
        "        실행할 코드1\n",
        "    case 패턴2:\n",
        "        실행할 코드2\n",
        "    case _:\n",
        "        기본 실행 코드 (default)\n",
        "```\n"
      ],
      "metadata": {
        "id": "haNRqaKFlPVg"
      }
    },
    {
      "cell_type": "code",
      "source": [
        "month = int(input('월을 입력하세요 (1~12): '))\n",
        "\n",
        "match month:\n",
        "    case 1 | 3 | 5 | 7 | 8 | 10 | 12:\n",
        "        print(f\"{month}월은 31일까지 있습니다.\")\n",
        "    case 4 | 6 | 9 | 11:\n",
        "        print(f\"{month}월은 30일까지 있습니다.\")\n",
        "    case 2:\n",
        "        print('2월은 28일 또는 윤년이면 29일까지 있습니다.')\n",
        "    case _: # 이 케이스에 모두 해당이 안될경우\n",
        "        print(\"잘못된 월 입니다. 1~12 사이의 숫자를 입력해주세요\")"
      ],
      "metadata": {
        "colab": {
          "base_uri": "https://localhost:8080/"
        },
        "id": "TyqHCmPFlRrd",
        "outputId": "5c31f12c-70b7-4c3c-f513-8d71ab5807c6"
      },
      "execution_count": null,
      "outputs": [
        {
          "output_type": "stream",
          "name": "stdout",
          "text": [
            "월을 입력하세요 (1~12): 2\n",
            "2월은 28일 또는 윤년이면 29일까지 있습니다.\n"
          ]
        }
      ]
    },
    {
      "cell_type": "code",
      "source": [
        "blood = input(\"혈액형을 입력하세요 (A, B, AB, O): \").upper()  # 대소문자 구분 없이 입력\n",
        "\n",
        "match blood:\n",
        "    case \"A\":\n",
        "        print(\"A형은 꼼꼼하고 성실한 성격이 많습니다.\")\n",
        "    case \"B\":\n",
        "        print(\"B형은 자유롭고 창의적인 성격이 많습니다.\")\n",
        "    case \"AB\":\n",
        "        print(\"AB형은 이성과 감성을 모두 가진 복합형입니다.\")\n",
        "    case \"O\":\n",
        "        print(\"O형은 외향적이고 리더십이 강한 편입니다.\")\n",
        "    case _:\n",
        "        print(\"잘못된 혈액형입니다. A, B, AB, O 중 하나를 입력하세요.\")"
      ],
      "metadata": {
        "colab": {
          "base_uri": "https://localhost:8080/"
        },
        "id": "lukF6io4qexj",
        "outputId": "cd07f722-0f92-4b9a-95ad-3957a7f4788b"
      },
      "execution_count": null,
      "outputs": [
        {
          "output_type": "stream",
          "name": "stdout",
          "text": [
            "혈액형을 입력하세요 (A, B, AB, O): AB\n",
            "AB형은 이성과 감성을 모두 가진 복합형입니다.\n"
          ]
        }
      ]
    },
    {
      "cell_type": "code",
      "source": [
        "# user = (\"김사과\", 20) # 튜플로 저장\n",
        "user = ('반하나', 13)\n",
        "\n",
        "match user:\n",
        "    case (name, age) if age > 19:\n",
        "        print(f\"{name}님은 성인입니다.\")\n",
        "    case (name, age) if age > 15:\n",
        "        print(f'{name}님은 청소년입니다.')\n",
        "    case (name, age) if age > 6:\n",
        "        print(f'{name}님은 어린이입니다.')\n",
        "    case _:\n",
        "        print(f'{name}님은 유아입니다.')"
      ],
      "metadata": {
        "colab": {
          "base_uri": "https://localhost:8080/"
        },
        "id": "ltDn7-dzqxTo",
        "outputId": "226f3415-ea43-4bbd-e862-47bb14ed244d"
      },
      "execution_count": null,
      "outputs": [
        {
          "output_type": "stream",
          "name": "stdout",
          "text": [
            "반하나님은 어린이입니다.\n"
          ]
        }
      ]
    },
    {
      "cell_type": "code",
      "source": [
        "# scores = [95, 88, 76]\n",
        "scores = (95, 88, 76, 100)\n",
        "# scores = {\"국어\":95, \"영어\":88, \"수학\":76}\n",
        "\n",
        "match scores:\n",
        "    case [korean, english, math]:\n",
        "        print(f\"1. 국어: {korean}, 영어: {english}, 수학: {math}\")\n",
        "    case (korean, _, math, computer):\n",
        "        print(f\"2. 국어: {korean}, 수학: {math}, 컴퓨터: {computer}\")\n",
        "    case {\"국어\": korean, \"영어\": english, \"수학\": math}:\n",
        "        print(f\"3. 국어: {korean}, 영어: {english}, 수학: {math}\")"
      ],
      "metadata": {
        "colab": {
          "base_uri": "https://localhost:8080/"
        },
        "id": "PRb9JUvPr3fI",
        "outputId": "2ca9858f-a0ca-4d01-8281-f83cdf950d75"
      },
      "execution_count": null,
      "outputs": [
        {
          "output_type": "stream",
          "name": "stdout",
          "text": [
            "2. 국어: 95, 수학: 76, 컴퓨터: 100\n"
          ]
        }
      ]
    }
  ]
}