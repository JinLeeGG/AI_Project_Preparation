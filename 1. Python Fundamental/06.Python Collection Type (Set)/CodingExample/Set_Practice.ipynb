{
  "nbformat": 4,
  "nbformat_minor": 0,
  "metadata": {
    "colab": {
      "provenance": [],
      "authorship_tag": "ABX9TyNY0K83bZussVMOSpQ9iLmF",
      "include_colab_link": true
    },
    "kernelspec": {
      "name": "python3",
      "display_name": "Python 3"
    },
    "language_info": {
      "name": "python"
    }
  },
  "cells": [
    {
      "cell_type": "markdown",
      "metadata": {
        "id": "view-in-github",
        "colab_type": "text"
      },
      "source": [
        "<a href=\"https://colab.research.google.com/github/JinLeeGG/AI_Project_Preparation/blob/main/1.%20Python%20Basics/06.Python%20Collection%20Type%20(Set)/CodingExample/Set_Practice.ipynb\" target=\"_parent\"><img src=\"https://colab.research.google.com/assets/colab-badge.svg\" alt=\"Open In Colab\"/></a>"
      ]
    },
    {
      "cell_type": "code",
      "execution_count": 1,
      "metadata": {
        "colab": {
          "base_uri": "https://localhost:8080/"
        },
        "id": "J_MHNn111xKO",
        "outputId": "2ca8e42f-030a-4e5f-c270-f1b62e78da92"
      },
      "outputs": [
        {
          "output_type": "stream",
          "name": "stdout",
          "text": [
            "{1, 3, 5, 7}\n",
            "<class 'set'>\n"
          ]
        }
      ],
      "source": [
        "# Set\n",
        "# Set is a collection of non-duplicated elements\n",
        "\n",
        "s1 = {1, 3, 5, 7}\n",
        "print(s1)\n",
        "print(type(s1))"
      ]
    },
    {
      "cell_type": "code",
      "source": [
        "# if nothing is inside of {}, it recognizes as dictionary\n",
        "s2 = {}\n",
        "print(s2)\n",
        "print(type(s2))"
      ],
      "metadata": {
        "colab": {
          "base_uri": "https://localhost:8080/"
        },
        "id": "mI3VsFYN2Im_",
        "outputId": "b6a55525-075e-4d5e-8189-59b4f79d9626"
      },
      "execution_count": 3,
      "outputs": [
        {
          "output_type": "stream",
          "name": "stdout",
          "text": [
            "{}\n",
            "<class 'dict'>\n"
          ]
        }
      ]
    },
    {
      "cell_type": "code",
      "source": [
        "# List --> Set\n",
        "s3 = set([1,3,7,6])\n",
        "print(s3)\n",
        "print(type(s3))"
      ],
      "metadata": {
        "colab": {
          "base_uri": "https://localhost:8080/"
        },
        "id": "rnfChmma2t9E",
        "outputId": "800a0c5a-ecc8-4893-a210-193227ee770b"
      },
      "execution_count": 5,
      "outputs": [
        {
          "output_type": "stream",
          "name": "stdout",
          "text": [
            "{1, 3, 6, 7}\n",
            "<class 'set'>\n"
          ]
        }
      ]
    },
    {
      "cell_type": "code",
      "source": [
        "# Removes any duplicates\n",
        "s5 = {1, 3, 5, 3, 7, 9, 1, 5, 10, 7}\n",
        "print(s5)"
      ],
      "metadata": {
        "colab": {
          "base_uri": "https://localhost:8080/"
        },
        "id": "mLhSshXZ5d64",
        "outputId": "42e16c20-1981-4490-cd33-dfc1c6b273b1"
      },
      "execution_count": 6,
      "outputs": [
        {
          "output_type": "stream",
          "name": "stdout",
          "text": [
            "{1, 3, 5, 7, 9, 10}\n"
          ]
        }
      ]
    },
    {
      "cell_type": "code",
      "source": [
        "# If you want to remove duplicates from the list\n",
        "li6 = [1, 3, 5, 3, 7, 9, 1, 5, 10, 7]\n",
        "print(li6)\n",
        "s6 = set(li6)\n",
        "print(s6)"
      ],
      "metadata": {
        "colab": {
          "base_uri": "https://localhost:8080/"
        },
        "id": "ZDe8s4qs5oKY",
        "outputId": "8320afa9-1d5b-4198-ccda-e49145562f00"
      },
      "execution_count": 7,
      "outputs": [
        {
          "output_type": "stream",
          "name": "stdout",
          "text": [
            "[1, 3, 5, 3, 7, 9, 1, 5, 10, 7]\n",
            "{1, 3, 5, 7, 9, 10}\n"
          ]
        }
      ]
    },
    {
      "cell_type": "code",
      "source": [
        "# Methods\n",
        "\n",
        "s1 = {1, 3, 5, 7}\n",
        "print(s1)\n",
        "\n",
        "# add() : adding new element in set\n",
        "s1.add(2)\n",
        "print(s1)\n",
        "s1.add(4)\n",
        "print(s1)\n",
        "s1.add(8)\n",
        "print(s1)\n",
        "s1.add(\"dd\")\n",
        "print(s1)"
      ],
      "metadata": {
        "colab": {
          "base_uri": "https://localhost:8080/"
        },
        "id": "W-lxd3vc5whx",
        "outputId": "eb364245-ba9f-4c09-c57f-f79fbe695c15"
      },
      "execution_count": 16,
      "outputs": [
        {
          "output_type": "stream",
          "name": "stdout",
          "text": [
            "{1, 3, 5, 7}\n",
            "{1, 2, 3, 5, 7}\n",
            "{1, 2, 3, 4, 5, 7}\n",
            "{1, 2, 3, 4, 5, 7, 8}\n",
            "{1, 2, 3, 4, 5, 7, 8, 'dd'}\n"
          ]
        }
      ]
    },
    {
      "cell_type": "code",
      "source": [
        "s1 = {1, 3, 5, 7}\n",
        "print(s1)\n",
        "\n",
        "# update(): adding mulitiple elements in the set\n",
        "s1.update([2,3,4,5,6,7,9,10])\n",
        "print(s1)"
      ],
      "metadata": {
        "colab": {
          "base_uri": "https://localhost:8080/"
        },
        "id": "Ak_HBXYG7DET",
        "outputId": "a9ebeaa0-c299-4bcb-985d-cde194240a1f"
      },
      "execution_count": 14,
      "outputs": [
        {
          "output_type": "stream",
          "name": "stdout",
          "text": [
            "{1, 3, 5, 7}\n",
            "{1, 2, 3, 4, 5, 6, 7, 9, 10}\n"
          ]
        }
      ]
    },
    {
      "cell_type": "code",
      "source": [
        "s1 = {1, 3, 5, 7}\n",
        "print(s1)\n",
        "\n",
        "# remove() : removing element inside of Set (causes err if there is no element)\n",
        "s1.remove(3)\n",
        "print(s1)\n",
        "# s1.remove(3) # KeyError: 3"
      ],
      "metadata": {
        "colab": {
          "base_uri": "https://localhost:8080/"
        },
        "id": "LgaxZGmv7uyR",
        "outputId": "0619c1a7-b3ca-4956-fcf2-76fc86308d95"
      },
      "execution_count": 17,
      "outputs": [
        {
          "output_type": "stream",
          "name": "stdout",
          "text": [
            "{1, 3, 5, 7}\n",
            "{1, 5, 7}\n"
          ]
        }
      ]
    },
    {
      "cell_type": "code",
      "source": [
        "s1 = {1, 3, 5, 7}\n",
        "print(s1)\n",
        "\n",
        "# discard() : removing element inside of Set (it does not cause err if there is no element)\n",
        "s1.discard(3)\n",
        "print(s1)\n",
        "s1.discard(3)\n",
        "print(s1)"
      ],
      "metadata": {
        "colab": {
          "base_uri": "https://localhost:8080/"
        },
        "id": "kEmYWOau8AVH",
        "outputId": "afd4d3f3-67b2-4341-bf55-e58db5f2abc3"
      },
      "execution_count": 18,
      "outputs": [
        {
          "output_type": "stream",
          "name": "stdout",
          "text": [
            "{1, 3, 5, 7}\n",
            "{1, 5, 7}\n",
            "{1, 5, 7}\n"
          ]
        }
      ]
    },
    {
      "cell_type": "code",
      "source": [
        "s1 = {1, 3, 5, 7}\n",
        "print(s1)\n",
        "\n",
        "s2 = s1\n",
        "print(id(s1))\n",
        "print(id(s2))\n",
        "\n",
        "# copy(): copying Set\n",
        "s2 = s1.copy()\n",
        "print(s1)\n",
        "print(s2)\n",
        "\n",
        "print(id(s1))\n",
        "print(id(s2))"
      ],
      "metadata": {
        "colab": {
          "base_uri": "https://localhost:8080/"
        },
        "id": "8L3Zr6jy8KOn",
        "outputId": "25a67b0f-5f74-4d86-d00a-db5e75a25ca1"
      },
      "execution_count": 24,
      "outputs": [
        {
          "output_type": "stream",
          "name": "stdout",
          "text": [
            "{1, 3, 5, 7}\n",
            "133377195626272\n",
            "133377195626272\n",
            "{1, 3, 5, 7}\n",
            "{1, 3, 5, 7}\n",
            "133377195626272\n",
            "133376182353280\n"
          ]
        }
      ]
    },
    {
      "cell_type": "code",
      "source": [
        "s3 = {10, 20, 30, 40, 50}\n",
        "s4 = {30, 40, 50, 60, 70}\n",
        "\n",
        "# union() : calcuates union of set\n",
        "result = s3.union(s4)\n",
        "print(result)\n",
        "\n",
        "result2 = s3 | s4\n",
        "print(result2)"
      ],
      "metadata": {
        "colab": {
          "base_uri": "https://localhost:8080/"
        },
        "id": "wxMdPPy78duM",
        "outputId": "c09385f7-5b18-4b17-b30c-350ab61b5e14"
      },
      "execution_count": 28,
      "outputs": [
        {
          "output_type": "stream",
          "name": "stdout",
          "text": [
            "{70, 40, 10, 50, 20, 60, 30}\n",
            "{70, 40, 10, 50, 20, 60, 30}\n"
          ]
        }
      ]
    },
    {
      "cell_type": "code",
      "source": [
        "s3 = {10, 20, 30, 40, 50}\n",
        "s4 = {30, 40, 50, 60, 70}\n",
        "\n",
        "# intersection() : calculates intersection of set\n",
        "result1 = s3.intersection(s4)\n",
        "print(result1)\n",
        "\n",
        "result2 = s3 & s4\n",
        "print(result2)"
      ],
      "metadata": {
        "colab": {
          "base_uri": "https://localhost:8080/"
        },
        "id": "rZTbJIXg8yox",
        "outputId": "97b883db-cfb8-4677-be43-2ba526f67ec6"
      },
      "execution_count": 32,
      "outputs": [
        {
          "output_type": "stream",
          "name": "stdout",
          "text": [
            "{40, 50, 30}\n",
            "{40, 50, 30}\n"
          ]
        }
      ]
    },
    {
      "cell_type": "code",
      "source": [
        "s3 = {10, 20, 30, 40, 50}\n",
        "s4 = {30, 40, 50, 60, 70}\n",
        "\n",
        "# difference() : calculates difference of set\n",
        "\n",
        "result1 = s3.difference(s4)\n",
        "print(result1)\n",
        "\n",
        "result2 = s3 - s4\n",
        "print(result2)"
      ],
      "metadata": {
        "colab": {
          "base_uri": "https://localhost:8080/"
        },
        "id": "oEmL9xMe9CWP",
        "outputId": "37ef1b7e-d043-4d06-c157-ae509cde6629"
      },
      "execution_count": 34,
      "outputs": [
        {
          "output_type": "stream",
          "name": "stdout",
          "text": [
            "{10, 20}\n",
            "{10, 20}\n"
          ]
        }
      ]
    },
    {
      "cell_type": "code",
      "source": [
        "s3 = {10, 20, 30, 40, 50}\n",
        "s4 = {30, 40, 50, 60, 70}\n",
        "\n",
        "# symmetric_difference()\n",
        "result1 = s3.symmetric_difference(s4)\n",
        "print(result1)\n",
        "\n",
        "result2 = s3 ^ s4\n",
        "print(result2)"
      ],
      "metadata": {
        "colab": {
          "base_uri": "https://localhost:8080/"
        },
        "id": "kq7mhxLE9Oa8",
        "outputId": "274b58ec-515a-4a8d-db0e-7069516a140f"
      },
      "execution_count": 35,
      "outputs": [
        {
          "output_type": "stream",
          "name": "stdout",
          "text": [
            "{20, 70, 10, 60}\n",
            "{20, 70, 10, 60}\n"
          ]
        }
      ]
    },
    {
      "cell_type": "code",
      "source": [
        "dic3 = {'no':1, 'userid':'apple', 'name':'John', 'hp':'010-1111-1111'}\n",
        "print(dic3)\n",
        "\n",
        "# pop(): take out sepecific element and returns it (causes err if there is no such key)\n",
        "temp = dic3.pop('hp')\n",
        "print(dic3)\n",
        "print(temp)"
      ],
      "metadata": {
        "colab": {
          "base_uri": "https://localhost:8080/"
        },
        "id": "kbQiXBB39Rsy",
        "outputId": "1e17ea93-6a33-4af2-c5a0-a01acd0a449f"
      },
      "execution_count": 37,
      "outputs": [
        {
          "output_type": "stream",
          "name": "stdout",
          "text": [
            "{'no': 1, 'userid': 'apple', 'name': 'John', 'hp': '010-1111-1111'}\n",
            "{'no': 1, 'userid': 'apple', 'name': 'John'}\n",
            "010-1111-1111\n"
          ]
        }
      ]
    },
    {
      "cell_type": "code",
      "source": [
        "dic3 = {'no':1, 'userid':'apple', 'name':'김사과', 'hp':'010-1111-1111'}\n",
        "print(dic3)\n",
        "\n",
        "# in: check if there is sepecific key\n",
        "print('hp' in dic3)\n",
        "print('010-1111-1111' in dic3)"
      ],
      "metadata": {
        "colab": {
          "base_uri": "https://localhost:8080/"
        },
        "id": "p6QtZ1qj9fer",
        "outputId": "8c8c6c80-7936-487d-b21f-63bc1798874e"
      },
      "execution_count": 38,
      "outputs": [
        {
          "output_type": "stream",
          "name": "stdout",
          "text": [
            "{'no': 1, 'userid': 'apple', 'name': '김사과', 'hp': '010-1111-1111'}\n",
            "True\n",
            "False\n"
          ]
        }
      ]
    }
  ]
}