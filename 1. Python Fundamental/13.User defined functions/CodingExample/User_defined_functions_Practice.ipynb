{
  "nbformat": 4,
  "nbformat_minor": 0,
  "metadata": {
    "colab": {
      "provenance": [],
      "authorship_tag": "ABX9TyOrHOmU2U9+FW6xmssPjf2u",
      "include_colab_link": true
    },
    "kernelspec": {
      "name": "python3",
      "display_name": "Python 3"
    },
    "language_info": {
      "name": "python"
    }
  },
  "cells": [
    {
      "cell_type": "markdown",
      "metadata": {
        "id": "view-in-github",
        "colab_type": "text"
      },
      "source": [
        "<a href=\"https://colab.research.google.com/github/JinLeeGG/AI_Project_Preparation/blob/main/1.%20Python%20Basics/13.User%20defined%20functions/CodingExample/User_defined_functions_Practice.ipynb\" target=\"_parent\"><img src=\"https://colab.research.google.com/assets/colab-badge.svg\" alt=\"Open In Colab\"/></a>"
      ]
    },
    {
      "cell_type": "code",
      "execution_count": null,
      "metadata": {
        "colab": {
          "base_uri": "https://localhost:8080/"
        },
        "id": "NBzbqff2erF3",
        "outputId": "d6b4bafc-9752-432e-ebd9-81d2837f05b9"
      },
      "outputs": [
        {
          "output_type": "stream",
          "name": "stdout",
          "text": [
            "inserted num: 10\n",
            "inserted num: 1\n"
          ]
        }
      ],
      "source": [
        "# parameter but no return value\n",
        "\n",
        "def func2(num):\n",
        "    print(f'inserted num: {num}')\n",
        "\n",
        "func2(10)\n",
        "func2(1)"
      ]
    },
    {
      "cell_type": "code",
      "source": [
        "def func3(start, end):\n",
        "    sum = 0\n",
        "    for i in range(start, end+1):\n",
        "        sum += i\n",
        "    print(f'from {start} to {end} sum: {sum}')\n",
        "\n",
        "func3(1, 10)\n",
        "func3(1, 100)\n"
      ],
      "metadata": {
        "colab": {
          "base_uri": "https://localhost:8080/"
        },
        "id": "gqjzPZKDigzC",
        "outputId": "361ca555-f8a2-4da7-d192-20a5b813d0af"
      },
      "execution_count": null,
      "outputs": [
        {
          "output_type": "stream",
          "name": "stdout",
          "text": [
            "from 1 to 10 sum: 55\n",
            "from 1 to 100 sum: 5050\n"
          ]
        }
      ]
    },
    {
      "cell_type": "code",
      "source": [
        "# functions that has return value\n",
        "def func1():\n",
        "    print('first function')"
      ],
      "metadata": {
        "id": "eSEhvJGki6z8"
      },
      "execution_count": null,
      "outputs": []
    },
    {
      "cell_type": "code",
      "source": [
        "func1()"
      ],
      "metadata": {
        "colab": {
          "base_uri": "https://localhost:8080/"
        },
        "id": "0oDM0ftPjGoD",
        "outputId": "44163935-7d75-4fd3-cf5c-39b8c7e1496a"
      },
      "execution_count": null,
      "outputs": [
        {
          "output_type": "stream",
          "name": "stdout",
          "text": [
            "first function\n"
          ]
        }
      ]
    },
    {
      "cell_type": "code",
      "source": [
        "temp = func1() # function does not return anything\n",
        "print(temp)"
      ],
      "metadata": {
        "colab": {
          "base_uri": "https://localhost:8080/"
        },
        "id": "h6Erv2q7jHpc",
        "outputId": "280044cf-3d46-4f6a-96a6-e69a78c42d01"
      },
      "execution_count": null,
      "outputs": [
        {
          "output_type": "stream",
          "name": "stdout",
          "text": [
            "first function\n",
            "None\n"
          ]
        }
      ]
    },
    {
      "cell_type": "code",
      "source": [
        "temp = func1  #copying address of func\n",
        "print(temp) # printing address of func\n",
        "temp() # execute function by using func's address"
      ],
      "metadata": {
        "colab": {
          "base_uri": "https://localhost:8080/"
        },
        "id": "EeIXxG_RjRi8",
        "outputId": "c68ed836-c7ba-49d1-cbda-05b4eca33cce"
      },
      "execution_count": null,
      "outputs": [
        {
          "output_type": "stream",
          "name": "stdout",
          "text": [
            "<function func1 at 0x7b03457dfa60>\n",
            "first function\n"
          ]
        }
      ]
    },
    {
      "cell_type": "code",
      "source": [
        "def func4():\n",
        "  return '@' # returns emoji\n",
        "\n",
        "print(func4())"
      ],
      "metadata": {
        "colab": {
          "base_uri": "https://localhost:8080/"
        },
        "id": "F4pZcm8vjclW",
        "outputId": "e47bcaee-41e4-4323-f114-b208de3ccc31"
      },
      "execution_count": null,
      "outputs": [
        {
          "output_type": "stream",
          "name": "stdout",
          "text": [
            "@\n"
          ]
        }
      ]
    },
    {
      "cell_type": "code",
      "source": [
        "temp = func4()  # stores return value for function\n",
        "print(f'temp value : {temp}') #print"
      ],
      "metadata": {
        "colab": {
          "base_uri": "https://localhost:8080/"
        },
        "id": "4Q8UG96Hjfd3",
        "outputId": "d31b6677-c9da-4e44-e0dc-9fd2c82241d6"
      },
      "execution_count": null,
      "outputs": [
        {
          "output_type": "stream",
          "name": "stdout",
          "text": [
            "temp value : @\n"
          ]
        }
      ]
    },
    {
      "cell_type": "code",
      "source": [
        "def func5(num1, num2):\n",
        "    sum = num1 + num2\n",
        "    return sum"
      ],
      "metadata": {
        "id": "9vl-qU9Vj2d4"
      },
      "execution_count": null,
      "outputs": []
    },
    {
      "cell_type": "code",
      "source": [
        "temp = func5(10, 5)\n",
        "print(temp)\n",
        "print(func5(10,5))"
      ],
      "metadata": {
        "colab": {
          "base_uri": "https://localhost:8080/"
        },
        "id": "okoiqHTrj9SM",
        "outputId": "a91e3124-074a-426b-c061-a5364a787016"
      },
      "execution_count": null,
      "outputs": [
        {
          "output_type": "stream",
          "name": "stdout",
          "text": [
            "15\n",
            "15\n"
          ]
        }
      ]
    },
    {
      "cell_type": "code",
      "source": [
        "# 5 default values for parameters\n",
        "def func6(num1 = 0, num2 = 0):\n",
        "    sum = num1 + num2\n",
        "    return sum"
      ],
      "metadata": {
        "id": "0hx6CLgqkH7n"
      },
      "execution_count": null,
      "outputs": []
    },
    {
      "cell_type": "code",
      "source": [
        "print(func6())\n",
        "print(func6(10))\n",
        "print(func6(10, 3))\n",
        "print(func6(num2 = 3))"
      ],
      "metadata": {
        "colab": {
          "base_uri": "https://localhost:8080/"
        },
        "id": "5tVnp0SGkpvm",
        "outputId": "88c490d6-9fbd-489b-a02c-6793a45adfd6"
      },
      "execution_count": null,
      "outputs": [
        {
          "output_type": "stream",
          "name": "stdout",
          "text": [
            "0\n",
            "10\n",
            "13\n",
            "3\n"
          ]
        }
      ]
    },
    {
      "cell_type": "code",
      "source": [
        "# 6. variable arguments\n",
        "def func7(*args):\n",
        "    return args # does not matter how many arguments\n",
        "\n",
        "print(func7())\n",
        "print(func7(10))\n",
        "print(func7(10, 30, 50)) # divide them by commma"
      ],
      "metadata": {
        "id": "-dNDvLh_k10E",
        "colab": {
          "base_uri": "https://localhost:8080/"
        },
        "outputId": "8ebe6e7f-b930-4829-da41-9f2d1cba6194"
      },
      "execution_count": null,
      "outputs": [
        {
          "output_type": "stream",
          "name": "stdout",
          "text": [
            "()\n",
            "(10,)\n"
          ]
        }
      ]
    },
    {
      "cell_type": "code",
      "source": [
        "def func8(a, b, c):\n",
        "    return a + b + c"
      ],
      "metadata": {
        "id": "UKS_-hArmKfR"
      },
      "execution_count": null,
      "outputs": []
    },
    {
      "cell_type": "code",
      "source": [
        "numbers = [1, 2, 3]\n",
        "print(func8(*numbers)) # no need to specify"
      ],
      "metadata": {
        "colab": {
          "base_uri": "https://localhost:8080/"
        },
        "id": "-vZIVZLQmRhY",
        "outputId": "040fe5c8-23d3-4cb5-a711-889097d6c4f9"
      },
      "execution_count": null,
      "outputs": [
        {
          "output_type": "stream",
          "name": "stdout",
          "text": [
            "6\n"
          ]
        }
      ]
    },
    {
      "cell_type": "code",
      "source": [
        "# 7. Keyword arguemnts\n",
        "def func9(id, name, age):\n",
        "    print(f'id : {id}')\n",
        "    print(f'name: {name}')\n",
        "    print(f'age: {age}')"
      ],
      "metadata": {
        "id": "FCpAo6mTminA"
      },
      "execution_count": null,
      "outputs": []
    },
    {
      "cell_type": "code",
      "source": [
        "func9('apple', 'kimapple', 20)\n",
        "func9('kimapple', 20, 'apple') # order does matter here\n",
        "func9(age = 30, id = 'orange', name = 'OG')"
      ],
      "metadata": {
        "colab": {
          "base_uri": "https://localhost:8080/"
        },
        "id": "YwVkDESRmzlx",
        "outputId": "0bb4b92f-7344-4817-e124-493f97428e58"
      },
      "execution_count": null,
      "outputs": [
        {
          "output_type": "stream",
          "name": "stdout",
          "text": [
            "id : apple\n",
            "name: kimapple\n",
            "age: 20\n",
            "id : kimapple\n",
            "name: 20\n",
            "age: apple\n",
            "id : orange\n",
            "name: OG\n",
            "age: 30\n"
          ]
        }
      ]
    },
    {
      "cell_type": "code",
      "source": [
        "# argument and key in dictionary must be identical\n",
        "# key must be string\n",
        "dic1 = {'age': 25, 'id':'banana', 'name':'banads'}\n",
        "func9(**dic1)"
      ],
      "metadata": {
        "colab": {
          "base_uri": "https://localhost:8080/"
        },
        "id": "dadoZKPanGdC",
        "outputId": "cba7a7a0-9ada-421b-e458-53b5f9504455"
      },
      "execution_count": null,
      "outputs": [
        {
          "output_type": "stream",
          "name": "stdout",
          "text": [
            "id : banana\n",
            "name: banads\n",
            "age: 25\n"
          ]
        }
      ]
    },
    {
      "cell_type": "code",
      "source": [
        "func9(*dic1)"
      ],
      "metadata": {
        "colab": {
          "base_uri": "https://localhost:8080/"
        },
        "id": "p7XubYmzniN0",
        "outputId": "072cc679-1c6f-4ad3-fa40-aa85237529f7"
      },
      "execution_count": null,
      "outputs": [
        {
          "output_type": "stream",
          "name": "stdout",
          "text": [
            "id : age\n",
            "name: id\n",
            "age: name\n"
          ]
        }
      ]
    },
    {
      "cell_type": "code",
      "source": [
        "# 8. different return values\n",
        "\n",
        "def func10(num1=0, num2=0):\n",
        "    return num1 + num2, num1 - num2, num1 * num2, num1 / num2"
      ],
      "metadata": {
        "id": "1Ccxau1fnrGQ"
      },
      "execution_count": null,
      "outputs": []
    },
    {
      "cell_type": "code",
      "source": [
        "result = func10(10, 3)\n",
        "print(result) # returns as tuple form"
      ],
      "metadata": {
        "colab": {
          "base_uri": "https://localhost:8080/"
        },
        "id": "CLs_FIBUogfv",
        "outputId": "afdaded7-4fd6-49d3-93a7-99c65fc7ac55"
      },
      "execution_count": null,
      "outputs": [
        {
          "output_type": "stream",
          "name": "stdout",
          "text": [
            "(13, 7, 30, 3.3333333333333335)\n"
          ]
        }
      ]
    },
    {
      "cell_type": "code",
      "source": [
        "# unpacking\n",
        "result1, result2, result3, result4 = func10(10, 3)\n",
        "print(result1)\n",
        "print(result2)\n",
        "print(result3)\n",
        "print(result4)\n"
      ],
      "metadata": {
        "colab": {
          "base_uri": "https://localhost:8080/"
        },
        "id": "U82nitB6oGVL",
        "outputId": "8cbd6431-0b68-4a65-a0ba-10364df508fc"
      },
      "execution_count": null,
      "outputs": [
        {
          "output_type": "stream",
          "name": "stdout",
          "text": [
            "13\n",
            "7\n",
            "30\n",
            "3.3333333333333335\n"
          ]
        }
      ]
    },
    {
      "cell_type": "code",
      "source": [
        "# if only need one return value?:\n",
        "_, _, result3, _ = func10(10, 3)\n",
        "print(f'multiplication: {result3}')"
      ],
      "metadata": {
        "colab": {
          "base_uri": "https://localhost:8080/"
        },
        "id": "wHSo0Kkoo0Oj",
        "outputId": "fb90fd07-8ce3-4944-ca81-c9fc1be65190"
      },
      "execution_count": null,
      "outputs": [
        {
          "output_type": "stream",
          "name": "stdout",
          "text": [
            "multiplication: 30\n"
          ]
        }
      ]
    },
    {
      "cell_type": "code",
      "source": [
        "li1 = [10, 20, 30, 40, 50]\n",
        "for _, v in enumerate(li1):\n",
        "    print(f'value: {v}')"
      ],
      "metadata": {
        "colab": {
          "base_uri": "https://localhost:8080/"
        },
        "id": "6JrLVVYzpLPQ",
        "outputId": "b03b4c4a-d47b-4438-e30b-bbb4ce2b0034"
      },
      "execution_count": null,
      "outputs": [
        {
          "output_type": "stream",
          "name": "stdout",
          "text": [
            "value: 10\n",
            "value: 20\n",
            "value: 30\n",
            "value: 40\n",
            "value: 50\n"
          ]
        }
      ]
    },
    {
      "cell_type": "code",
      "source": [
        "#9 Memory delete\n",
        "\n",
        "def func1():\n",
        "    print('first function!')"
      ],
      "metadata": {
        "id": "S8EywGn1pfUP"
      },
      "execution_count": null,
      "outputs": []
    },
    {
      "cell_type": "code",
      "source": [
        "del func1"
      ],
      "metadata": {
        "id": "64r5Yrngq67R"
      },
      "execution_count": null,
      "outputs": []
    },
    {
      "cell_type": "code",
      "source": [],
      "metadata": {
        "id": "vNjQsfBTq9gE"
      },
      "execution_count": null,
      "outputs": []
    }
  ]
}