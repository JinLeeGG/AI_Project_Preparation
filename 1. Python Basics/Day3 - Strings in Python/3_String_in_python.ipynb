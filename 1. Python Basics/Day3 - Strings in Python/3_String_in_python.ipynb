{
  "cells": [
    {
      "cell_type": "markdown",
      "metadata": {
        "colab_type": "text",
        "id": "view-in-github"
      },
      "source": [
        "<a href=\"https://colab.research.google.com/github/JinLeeGG/AI_Project_with_OpenCV/blob/main/3_String_in_python.ipynb\" target=\"_parent\"><img src=\"https://colab.research.google.com/assets/colab-badge.svg\" alt=\"Open In Colab\"/></a>"
      ]
    },
    {
      "cell_type": "markdown",
      "metadata": {
        "id": "TOPz3ESYMTXQ"
      },
      "source": [
        "블로그 : https://ryuzyproject.tistory.com/6"
      ]
    },
    {
      "cell_type": "markdown",
      "metadata": {
        "id": "Lt-Ic6N9MRUI"
      },
      "source": [
        "# 1. 문자열\n",
        "\n",
        "파이썬에서 문자열은 텍스트 데이터를 다루는 데 사용되는 중요한 데이터 타입입니다. 문자열은 작은 따옴표(')나 큰 따옴표(\"), 세 개의 따옴표(''', \"\"\")로 둘러싸인 텍스트로 표현됩니다."
      ]
    },
    {
      "cell_type": "code",
      "execution_count": null,
      "metadata": {
        "colab": {
          "base_uri": "https://localhost:8080/"
        },
        "id": "Beq0StAEK-v_",
        "outputId": "44deb1bf-328a-4806-bd64-0de3bb002cae"
      },
      "outputs": [
        {
          "name": "stdout",
          "output_type": "stream",
          "text": [
            "오늘도 즐거운 파이썬 수업\n",
            "오늘도 즐거운 파이썬 수업\n",
            "김사과:\n",
            "오늘도 즐거운 파이썬\n",
            "수업\n"
          ]
        }
      ],
      "source": [
        "str1 = '오늘도 즐거운 파이썬 수업'\n",
        "print(str1)\n",
        "\n",
        "str2 = \"오늘도 즐거운 파이썬 수업\"\n",
        "print(str2)\n",
        "\n",
        "str3 = '''김사과:\n",
        "오늘도 즐거운 파이썬\n",
        "수업'''\n",
        "print(str3)"
      ]
    },
    {
      "cell_type": "code",
      "execution_count": null,
      "metadata": {
        "colab": {
          "base_uri": "https://localhost:8080/"
        },
        "id": "n2mgiGOSMYa4",
        "outputId": "bc4d0f13-81e2-4e05-d569-74e19903d870"
      },
      "outputs": [
        {
          "name": "stdout",
          "output_type": "stream",
          "text": [
            "True\n"
          ]
        }
      ],
      "source": [
        "a = \"Hello\"\n",
        "b = \"Hello\"\n",
        "\n",
        "print(a is b)"
      ]
    },
    {
      "cell_type": "code",
      "execution_count": null,
      "metadata": {
        "id": "8P5TcjamMbyh"
      },
      "outputs": [],
      "source": [
        "a = \"Hello\"\n",
        "a = a + \", Python\"\n",
        "print(a)"
      ]
    },
    {
      "cell_type": "code",
      "execution_count": null,
      "metadata": {
        "colab": {
          "base_uri": "https://localhost:8080/"
        },
        "id": "iy0RQLXWNJXh",
        "outputId": "d2178d4d-7b20-4b3a-d725-70ea42863cf3"
      },
      "outputs": [
        {
          "name": "stdout",
          "output_type": "stream",
          "text": [
            "132459632750832\n",
            "9739968\n"
          ]
        }
      ],
      "source": [
        "text = \"Hello\"\n",
        "print(id(text))\n",
        "\n",
        "text = \"Python\"\n",
        "print(id(text))"
      ]
    },
    {
      "cell_type": "markdown",
      "metadata": {
        "id": "5SYgEmlONWo_"
      },
      "source": [
        "### 아스키코드(ASCII) 와 유니코드(Unicode)\n",
        "* 아스키:  American Standard Code for Information Interchange의 약자로, 미국에서 개발된 문자 인코딩 표준입니다. 아스키 코드는 7비트로 구성되어 총 128개의 문자(0~127)를 표현합니다.\n",
        "\n",
        "\n",
        "\n",
        "* 유니코드: 전 세계의 다양한 문자와 기호를 포함하기 위해 개발된 표준입니다. 유니코드는 각 문자를 고유한 코드 포인트로 표현하며, 다양한 인코딩 방식(UFT-8, UTF-16, UTF-32 등)을 지원합니다."
      ]
    },
    {
      "cell_type": "markdown",
      "metadata": {
        "id": "HWyEcl16NaG4"
      },
      "source": [
        "# **2. 문자열 함수와 연산자**"
      ]
    },
    {
      "cell_type": "code",
      "execution_count": null,
      "metadata": {
        "colab": {
          "base_uri": "https://localhost:8080/"
        },
        "id": "j5uCRnHRPGIg",
        "outputId": "0012fee0-b6ff-411e-c6be-5de8d8305d55"
      },
      "outputs": [
        {
          "name": "stdout",
          "output_type": "stream",
          "text": [
            "14\n"
          ]
        }
      ],
      "source": [
        "# 문자열 길이 확인\n",
        "text = \"Hello, Python!\"\n",
        "print(len(text))"
      ]
    },
    {
      "cell_type": "code",
      "execution_count": null,
      "metadata": {
        "colab": {
          "base_uri": "https://localhost:8080/"
        },
        "id": "IuruiayaPlKm",
        "outputId": "f5349132-e2a9-48a1-af6f-7d1c0b3320d3"
      },
      "outputs": [
        {
          "name": "stdout",
          "output_type": "stream",
          "text": [
            "김사과, 20살\n"
          ]
        }
      ],
      "source": [
        "# 문자열 합치기\n",
        "name = '김사과'\n",
        "age = '20살'\n",
        "message = name + \", \" + age\n",
        "print(message)"
      ]
    },
    {
      "cell_type": "code",
      "execution_count": null,
      "metadata": {
        "colab": {
          "base_uri": "https://localhost:8080/"
        },
        "id": "vdFWmGSGPujG",
        "outputId": "79d03728-bd01-4fb5-cd64-963e7f9b3dd5"
      },
      "outputs": [
        {
          "name": "stdout",
          "output_type": "stream",
          "text": [
            "🍎🍎🍎🍎🍎🍎🍎🍎🍎🍎\n"
          ]
        }
      ],
      "source": [
        "# 문자열 반복하기\n",
        "apple = '🍎' * 10\n",
        "print(apple)"
      ]
    },
    {
      "cell_type": "code",
      "execution_count": null,
      "metadata": {
        "colab": {
          "base_uri": "https://localhost:8080/"
        },
        "id": "K7skwt7zTLt4",
        "outputId": "90f3674f-184a-46c1-831c-e7c69abac67a"
      },
      "outputs": [
        {
          "name": "stdout",
          "output_type": "stream",
          "text": [
            "41\n",
            "문자열 내부의 문자에 인덱스를 사용하여 접근하거나 슬라이스할 수 있습니다.\n",
            "문\n",
            "자\n",
            "인\n",
            ".\n",
            "다\n"
          ]
        }
      ],
      "source": [
        "# 문자열 인텍싱\n",
        "str = '문자열 내부의 문자에 인덱스를 사용하여 접근하거나 슬라이스할 수 있습니다.'\n",
        "print(len(str))\n",
        "print(str)\n",
        "# 인덱싱\n",
        "print(str[0])\n",
        "print(str[1])\n",
        "print(str[12])\n",
        "print(str[-1])\n",
        "print(str[-2])"
      ]
    },
    {
      "cell_type": "code",
      "execution_count": null,
      "metadata": {
        "colab": {
          "base_uri": "https://localhost:8080/"
        },
        "id": "zBSKxXXqUyBr",
        "outputId": "6fbdde25-b240-4d54-c0f8-47262cd52279"
      },
      "outputs": [
        {
          "name": "stdout",
          "output_type": "stream",
          "text": [
            "문자열 내부의 문자에 인덱스를 사용하여 접근하거나 슬라이스할 수 있습니다.\n",
            "문자열 내부\n",
            "문자에 인덱스를\n",
            "문자열 내부의 문자에 인덱스를\n",
            "문자에 인덱스를 사용하여 접근하거나 슬라이스할 수 있습니다.\n"
          ]
        }
      ],
      "source": [
        "# 슬라이스\n",
        "str = '문자열 내부의 문자에 인덱스를 사용하여 접근하거나 슬라이스할 수 있습니다.'\n",
        "print(str)\n",
        "# 슬라이싱\n",
        "print(str[0:6]) #0 - 5\n",
        "print(str[8:16])\n",
        "print(str[:16])\n",
        "print(str[8:])"
      ]
    },
    {
      "cell_type": "markdown",
      "metadata": {
        "id": "LxDULXkFVsj3"
      },
      "source": [
        "# **3. 문자열 메서드**\n",
        "\n",
        "문자열 메서드는 문자열 객체에 적용되는 함수로, 문자열을 조작하거나 변환하는 다양한 작업을 수행할 수 있게 해줍니다."
      ]
    },
    {
      "cell_type": "code",
      "execution_count": null,
      "metadata": {
        "colab": {
          "base_uri": "https://localhost:8080/"
        },
        "id": "l6SORuJyVw3l",
        "outputId": "adaa816f-5141-48fd-9c63-ed3b17ad8d0d"
      },
      "outputs": [
        {
          "name": "stdout",
          "output_type": "stream",
          "text": [
            "HELLO, PYTHON!\n",
            "hello, python!\n"
          ]
        }
      ],
      "source": [
        "# 대소문자 변환\n",
        "text = \"Hello, Python!\"\n",
        "print(text.upper())\n",
        "print(text.lower())"
      ]
    },
    {
      "cell_type": "code",
      "execution_count": null,
      "metadata": {
        "colab": {
          "base_uri": "https://localhost:8080/"
        },
        "id": "diwLO7B9WCQv",
        "outputId": "035543e9-630b-45e6-c6c8-129af00d6352"
      },
      "outputs": [
        {
          "name": "stdout",
          "output_type": "stream",
          "text": [
            "2\n",
            "1\n",
            "0\n"
          ]
        }
      ],
      "source": [
        "# 특정 문자열의 등장 횟수 확인\n",
        "text = \"Hello, Python!\"\n",
        "print(text.count('l'))  # 글자 뿐만 아니라\n",
        "print(text.count('ll')) # 문자 찾기도 가능\n",
        "print(text.count('python')) # 대소문자를 가린다"
      ]
    },
    {
      "cell_type": "code",
      "execution_count": null,
      "metadata": {
        "colab": {
          "base_uri": "https://localhost:8080/"
        },
        "id": "lsG7UBYyWaGx",
        "outputId": "978b7a2a-f90f-4f3d-8bdc-ff31d52d73a9"
      },
      "outputs": [
        {
          "name": "stdout",
          "output_type": "stream",
          "text": [
            "2\n",
            "2\n",
            "-1\n",
            "3\n",
            "11\n"
          ]
        }
      ],
      "source": [
        "# 특정 부분 문자열의 첫 번째 등장 위치(인덱스) 확인\n",
        "\n",
        "text = \"Hello, Python!\"\n",
        "print(text.find('l'))\n",
        "print(text.find('ll'))\n",
        "print(text.find('z'))     # 없은 숫자를 찾을 시 -1로 표시된다 (index에서 없는 위치)\n",
        "print(text.rfind('l'))    # 뒤에서부터 찾아준다. (두번째 l)\n",
        "print(text.find('o', 5))  # 인덱스 5 이상에 위치해있는 'o'를 찾아라"
      ]
    },
    {
      "cell_type": "code",
      "execution_count": null,
      "metadata": {
        "colab": {
          "base_uri": "https://localhost:8080/"
        },
        "id": "vvZIyPXQXWIn",
        "outputId": "e07cd990-aa8a-4b51-eb2c-614dbde0505c"
      },
      "outputs": [
        {
          "name": "stdout",
          "output_type": "stream",
          "text": [
            "Hello, World!\n"
          ]
        }
      ],
      "source": [
        "# 문자열 대체\n",
        "text = \"Hello, Python!\"\n",
        "new_text = text.replace(\"Python\", \"World\") #Python을 찾아서 World로 바꿔달라\n",
        "\n",
        "print(new_text)"
      ]
    },
    {
      "cell_type": "code",
      "execution_count": null,
      "metadata": {
        "colab": {
          "base_uri": "https://localhost:8080/"
        },
        "id": "P20H6wWmXRLO",
        "outputId": "4633f561-32a6-4608-f6b1-df32916a91ac"
      },
      "outputs": [
        {
          "name": "stdout",
          "output_type": "stream",
          "text": [
            "   Hello, Python!   \n",
            "Hello, Python!\n"
          ]
        }
      ],
      "source": [
        "# 문자열 양쪽 공백 제거\n",
        "text = \"   Hello, Python!   \"\n",
        "print(text)\n",
        "print(text.strip())"
      ]
    },
    {
      "cell_type": "code",
      "execution_count": null,
      "metadata": {
        "colab": {
          "base_uri": "https://localhost:8080/"
        },
        "id": "FeVwvxW_XukP",
        "outputId": "b5bd3d4f-7680-403e-a720-c3eb50119d59"
      },
      "outputs": [
        {
          "data": {
            "text/plain": [
              "True"
            ]
          },
          "execution_count": 23,
          "metadata": {},
          "output_type": "execute_result"
        }
      ],
      "source": [
        "\"Hello\" == \" Hello \".strip()"
      ]
    },
    {
      "cell_type": "code",
      "execution_count": null,
      "metadata": {
        "colab": {
          "base_uri": "https://localhost:8080/"
        },
        "id": "ALJbDQe8YMUJ",
        "outputId": "4bba4c77-fcbe-4b16-ac72-90bcc5b0a577"
      },
      "outputs": [
        {
          "name": "stdout",
          "output_type": "stream",
          "text": [
            "['김사과', '반하나', '오렌지', '이메론']\n",
            "['김사과', '반하나', '오렌지', '이메론']\n"
          ]
        }
      ],
      "source": [
        "# 문자열 분리\n",
        "text = '김사과 반하나 오렌지 이메론'\n",
        "names = text.split() # 공백을 기준으로 분리\n",
        "print(names)\n",
        "\n",
        "text = '김사과,반하나,오렌지,이메론'\n",
        "names = text.split(',') # ','을 기분으로 분리\n",
        "print(names)"
      ]
    },
    {
      "cell_type": "code",
      "execution_count": null,
      "metadata": {
        "colab": {
          "base_uri": "https://localhost:8080/"
        },
        "id": "leLSkFd-YV0r",
        "outputId": "bc167b63-3c7b-421e-cb11-29fcc0b024f0"
      },
      "outputs": [
        {
          "name": "stdout",
          "output_type": "stream",
          "text": [
            "주소: city district street\n",
            "주소: city, district, street\n"
          ]
        }
      ],
      "source": [
        "# 문자열 결합\n",
        "address = ' '.join((\"city\", \"district\", \"street\"))\n",
        "print('주소:', address)\n",
        "\n",
        "address = ', '.join((\"city\", \"district\", \"street\"))\n",
        "print('주소:', address)"
      ]
    },
    {
      "cell_type": "code",
      "execution_count": null,
      "metadata": {
        "colab": {
          "base_uri": "https://localhost:8080/"
        },
        "id": "Lnyv3iJAaFWV",
        "outputId": "141adb7d-e47c-47b2-d59d-26a09a56731a"
      },
      "outputs": [
        {
          "name": "stdout",
          "output_type": "stream",
          "text": [
            "True\n",
            "False\n"
          ]
        }
      ],
      "source": [
        "# 접두사와 접미사 확인\n",
        "text = \"Hello, Python!\"\n",
        "starts_with_hello = text.startswith(\"Hello\")\n",
        "ends_with_world = text.endswith(\"World!\")\n",
        "\n",
        "print(starts_with_hello)\n",
        "print(ends_with_world)"
      ]
    },
    {
      "cell_type": "markdown",
      "metadata": {
        "id": "O-N9zhXsadsT"
      },
      "source": [
        "### 문자열은 불변(Immutable) 데이터 타입\n",
        "\n",
        "문자열 객체가 생성된 후에는 그 값을 바꿀 수 없다는 것을 의미합니다. 예를 들어, 한 번 생성된 문자열 객체 내에서 특정 문자를 바꿀 수 없습니다. 만약 문자열의 일부를 변경하고 싶다면, 새로운 문자열을 만들어서 교체해야 합니다."
      ]
    },
    {
      "cell_type": "code",
      "execution_count": null,
      "metadata": {
        "colab": {
          "base_uri": "https://localhost:8080/"
        },
        "id": "MUqDLJUrampi",
        "outputId": "d3269122-de5c-4a02-9b7c-6d66aa1bab9f"
      },
      "outputs": [
        {
          "name": "stdout",
          "output_type": "stream",
          "text": [
            "hello\n"
          ]
        }
      ],
      "source": [
        "my_string = \"Hello\"\n",
        "# my_string[0] = \"h\"  # 오류 발생!\n",
        "\n",
        "my_string = \"Hello\"\n",
        "new_string = \"h\" + my_string[1:]  # 'Hello'의 첫 글자를 바꾸기 위해 새로운 문자열 생성\n",
        "print(new_string)  # 출력: \"hello\""
      ]
    }
  ],
  "metadata": {
    "colab": {
      "authorship_tag": "ABX9TyONLvX1d+VgYEep4E1pj34p",
      "include_colab_link": true,
      "provenance": []
    },
    "kernelspec": {
      "display_name": "Python 3",
      "name": "python3"
    },
    "language_info": {
      "name": "python"
    }
  },
  "nbformat": 4,
  "nbformat_minor": 0
}
