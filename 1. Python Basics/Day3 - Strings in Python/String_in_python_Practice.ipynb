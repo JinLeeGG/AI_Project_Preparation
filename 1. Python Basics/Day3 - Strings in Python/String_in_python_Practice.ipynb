{
  "nbformat": 4,
  "nbformat_minor": 0,
  "metadata": {
    "colab": {
      "provenance": [],
      "authorship_tag": "ABX9TyM7m+uUBtXpSDjAPqzV8tTE",
      "include_colab_link": true
    },
    "kernelspec": {
      "name": "python3",
      "display_name": "Python 3"
    },
    "language_info": {
      "name": "python"
    }
  },
  "cells": [
    {
      "cell_type": "markdown",
      "metadata": {
        "id": "view-in-github",
        "colab_type": "text"
      },
      "source": [
        "<a href=\"https://colab.research.google.com/github/JinLeeGG/AI_Project_Preparation/blob/main/1.%20Python%20Basics/Day3%20-%20Strings%20in%20Python/String_in_python_Practice.ipynb\" target=\"_parent\"><img src=\"https://colab.research.google.com/assets/colab-badge.svg\" alt=\"Open In Colab\"/></a>"
      ]
    },
    {
      "cell_type": "code",
      "execution_count": 2,
      "metadata": {
        "colab": {
          "base_uri": "https://localhost:8080/"
        },
        "id": "myagPN5rbCBu",
        "outputId": "1172c05c-e321-4d73-fd1e-5f9c7fe30242"
      },
      "outputs": [
        {
          "output_type": "stream",
          "name": "stdout",
          "text": [
            "hello my name is John\n",
            "dsadasdsadasd\n",
            "Hey\n",
            "Well\n",
            "This \n",
            "is \n",
            "Coool\n",
            "\n"
          ]
        }
      ],
      "source": [
        "str1 = 'hello my name is John'\n",
        "print(str1)\n",
        "\n",
        "str2 = \"dsadasdsadasd\"\n",
        "print(str2)\n",
        "\n",
        "str3 = '''Hey\n",
        "Well\n",
        "This\n",
        "is\n",
        "Coool\n",
        "'''\n",
        "print(str3)"
      ]
    },
    {
      "cell_type": "code",
      "source": [
        "a = 'Hello'\n",
        "b = 'Hello'\n",
        "\n",
        "print(a is b)"
      ],
      "metadata": {
        "colab": {
          "base_uri": "https://localhost:8080/"
        },
        "id": "ZQDE_srVbUnZ",
        "outputId": "d01a9bed-55c6-4595-ccdc-1baf3b215490"
      },
      "execution_count": 3,
      "outputs": [
        {
          "output_type": "stream",
          "name": "stdout",
          "text": [
            "True\n"
          ]
        }
      ]
    },
    {
      "cell_type": "code",
      "source": [
        "a = \"Hello\"\n",
        "a = a + \", Python\"\n",
        "print(a)"
      ],
      "metadata": {
        "colab": {
          "base_uri": "https://localhost:8080/"
        },
        "id": "tfHD3jAdbhgA",
        "outputId": "76e92dd0-e29a-47d5-ccf0-4607a679701b"
      },
      "execution_count": 4,
      "outputs": [
        {
          "output_type": "stream",
          "name": "stdout",
          "text": [
            "Hello, Python\n"
          ]
        }
      ]
    },
    {
      "cell_type": "code",
      "source": [
        "text = \"Hello\"\n",
        "print(id(text))\n",
        "\n",
        "text = \"Python\"\n",
        "print(id(text))"
      ],
      "metadata": {
        "id": "6LgULHpobnp6",
        "colab": {
          "base_uri": "https://localhost:8080/"
        },
        "outputId": "0297a8c3-83fe-463c-eabd-5338d30bebba"
      },
      "execution_count": 7,
      "outputs": [
        {
          "output_type": "stream",
          "name": "stdout",
          "text": [
            "138602363775088\n",
            "9739968\n"
          ]
        }
      ]
    },
    {
      "cell_type": "code",
      "source": [
        "# Check the length of String\n",
        "\n",
        "text = \"dsadsadsadsadsadadsadsadasd\"\n",
        "print(len(text))"
      ],
      "metadata": {
        "colab": {
          "base_uri": "https://localhost:8080/"
        },
        "id": "Q2xSEiy5buM4",
        "outputId": "7820736a-6fab-459c-9c5f-3be69eb9f462"
      },
      "execution_count": 8,
      "outputs": [
        {
          "output_type": "stream",
          "name": "stdout",
          "text": [
            "27\n"
          ]
        }
      ]
    },
    {
      "cell_type": "code",
      "source": [
        "# Combining strings\n",
        "name = 'John'\n",
        "age = '20 years old'\n",
        "message = name + \", \" + age\n",
        "print(message)"
      ],
      "metadata": {
        "id": "dEZ5Kl9Pb2V0"
      },
      "execution_count": null,
      "outputs": []
    },
    {
      "cell_type": "code",
      "source": [
        "# repeating Strings\n",
        "heart = '💕'*10\n",
        "print(heart)"
      ],
      "metadata": {
        "colab": {
          "base_uri": "https://localhost:8080/"
        },
        "id": "GT59uCdkcDYh",
        "outputId": "5959105e-e695-4a68-8be4-7ca547e064b8"
      },
      "execution_count": 9,
      "outputs": [
        {
          "output_type": "stream",
          "name": "stdout",
          "text": [
            "💕💕💕💕💕💕💕💕💕💕\n"
          ]
        }
      ]
    },
    {
      "cell_type": "code",
      "source": [
        "# String Indexing\n",
        "str_ = 'You can acess or slice string by using indexes'\n",
        "\n",
        "print(len(str_))\n",
        "print(str_)\n",
        "\n",
        "#indexing\n",
        "print(str_[0])\n",
        "print(str_[1])\n",
        "print(str_[12])\n",
        "print(str_[-1])\n",
        "print(str_[-2])"
      ],
      "metadata": {
        "colab": {
          "base_uri": "https://localhost:8080/"
        },
        "id": "mflfNdqMcK3A",
        "outputId": "8eea7b8c-4f60-48a3-d705-6b2460df508a"
      },
      "execution_count": 16,
      "outputs": [
        {
          "output_type": "stream",
          "name": "stdout",
          "text": [
            "46\n",
            "You can acess or slice string by using indexes\n",
            "Y\n",
            "o\n",
            "s\n",
            "s\n",
            "e\n"
          ]
        }
      ]
    },
    {
      "cell_type": "code",
      "source": [
        "# Slicing\n",
        "str_ = 'You can acess or slice string by using indexes'\n",
        "print(str_)\n",
        "\n",
        "#indexing\n",
        "print(str_[0:6])\n",
        "print(str_[8:16])\n",
        "print(str_[:16])\n",
        "print(str_[8:])"
      ],
      "metadata": {
        "colab": {
          "base_uri": "https://localhost:8080/"
        },
        "id": "9c9ZeLS_cj0j",
        "outputId": "85874037-a530-4d1a-8a92-243062b3b05d"
      },
      "execution_count": 18,
      "outputs": [
        {
          "output_type": "stream",
          "name": "stdout",
          "text": [
            "You can acess or slice string by using indexes\n",
            "You ca\n",
            "acess or\n",
            "You can acess or\n",
            "acess or slice string by using indexes\n"
          ]
        }
      ]
    },
    {
      "cell_type": "code",
      "source": [
        "# String methods\n",
        "\n",
        "# Converts lower and uppercase\n",
        "\n",
        "text = \"Hello, Python!\"\n",
        "print(text.upper())\n",
        "print(text.lower())"
      ],
      "metadata": {
        "colab": {
          "base_uri": "https://localhost:8080/"
        },
        "id": "MxBA4VHJcscX",
        "outputId": "eebacbea-d93d-4994-d3c9-a2b71f46a524"
      },
      "execution_count": 19,
      "outputs": [
        {
          "output_type": "stream",
          "name": "stdout",
          "text": [
            "HELLO, PYTHON!\n",
            "hello, python!\n"
          ]
        }
      ]
    },
    {
      "cell_type": "code",
      "source": [
        "# count the amount of specific string letter or word\n",
        "\n",
        "text = \"Hello, Python\"\n",
        "print(text.count('l'))\n",
        "print(text.count('ll'))\n",
        "print(text.count('python'))\n"
      ],
      "metadata": {
        "colab": {
          "base_uri": "https://localhost:8080/"
        },
        "id": "AwrxvvTXc4vj",
        "outputId": "0450c56c-7c1d-4078-efd6-3902f6462ed2"
      },
      "execution_count": 22,
      "outputs": [
        {
          "output_type": "stream",
          "name": "stdout",
          "text": [
            "2\n",
            "1\n",
            "0\n"
          ]
        }
      ]
    },
    {
      "cell_type": "code",
      "source": [
        "# find index number\n",
        "\n",
        "text = \"Hello, Python\"\n",
        "print(text.find('l'))\n",
        "print(text.find('ll'))\n",
        "print(text.find('z'))\n",
        "print(text.rfind('l'))\n",
        "print(text.find('o', 5))"
      ],
      "metadata": {
        "colab": {
          "base_uri": "https://localhost:8080/"
        },
        "id": "qiVpXG7KdLy8",
        "outputId": "d04c797f-a8d2-4b24-8121-90f93879cb41"
      },
      "execution_count": 27,
      "outputs": [
        {
          "output_type": "stream",
          "name": "stdout",
          "text": [
            "2\n",
            "2\n",
            "-1\n",
            "3\n",
            "11\n"
          ]
        }
      ]
    },
    {
      "cell_type": "code",
      "source": [
        "# Replacing String\n",
        "text = \"Hello, Python!\"\n",
        "new_text = text.replace(\"Python\", \"World\")\n",
        "\n",
        "print(new_text)"
      ],
      "metadata": {
        "colab": {
          "base_uri": "https://localhost:8080/"
        },
        "id": "B1cMWoM8dbAN",
        "outputId": "e6b77044-3b64-420c-b530-847b0b3c8172"
      },
      "execution_count": 29,
      "outputs": [
        {
          "output_type": "stream",
          "name": "stdout",
          "text": [
            "Hello, World!\n"
          ]
        }
      ]
    },
    {
      "cell_type": "code",
      "source": [
        "# remove empty space from string\n",
        "text = \"    Hello, Python     \"\n",
        "print(text)\n",
        "print(text.strip())"
      ],
      "metadata": {
        "colab": {
          "base_uri": "https://localhost:8080/"
        },
        "id": "r-6UlQa7eSWI",
        "outputId": "6b3ddb0d-c325-4458-b448-170897902a1a"
      },
      "execution_count": 30,
      "outputs": [
        {
          "output_type": "stream",
          "name": "stdout",
          "text": [
            "    Hello, Python     \n",
            "Hello, Python\n"
          ]
        }
      ]
    },
    {
      "cell_type": "code",
      "source": [
        "\"Hello\" == \" Hello \".strip()"
      ],
      "metadata": {
        "colab": {
          "base_uri": "https://localhost:8080/"
        },
        "id": "3S5hGgs3edMM",
        "outputId": "e9ab2c6f-deb7-45d3-c39f-654a66f2aa11"
      },
      "execution_count": 31,
      "outputs": [
        {
          "output_type": "execute_result",
          "data": {
            "text/plain": [
              "True"
            ]
          },
          "metadata": {},
          "execution_count": 31
        }
      ]
    },
    {
      "cell_type": "code",
      "source": [
        "# Seperating String\n",
        "text = 'Kimapple BanHana Orange LeeMelon'\n",
        "names = text.split()\n",
        "print(names)\n",
        "\n",
        "text = 'Kimapple, BanHana, Orange, LeeMelon'\n",
        "names = text.split(',')\n",
        "print(names)"
      ],
      "metadata": {
        "colab": {
          "base_uri": "https://localhost:8080/"
        },
        "id": "jGsPE3xoefND",
        "outputId": "5f555d5c-ba89-4a35-a12c-0d49703193ce"
      },
      "execution_count": 33,
      "outputs": [
        {
          "output_type": "stream",
          "name": "stdout",
          "text": [
            "['Kimapple', 'BanHana', 'Orange', 'LeeMelon']\n",
            "['Kimapple', ' BanHana', ' Orange', ' LeeMelon']\n"
          ]
        }
      ]
    },
    {
      "cell_type": "code",
      "source": [
        "# combine strings\n",
        "\n",
        "address = ' '.join((\"city\", \"district\", \"street\"))\n",
        "print('address:', address)\n",
        "\n",
        "address = ', '.join((\"city\", \"district\", \"street\"))\n",
        "print('address:', address)"
      ],
      "metadata": {
        "colab": {
          "base_uri": "https://localhost:8080/"
        },
        "id": "JiAedvHOe28R",
        "outputId": "a3d38be2-efe8-46c2-f06c-af310d561c4f"
      },
      "execution_count": 37,
      "outputs": [
        {
          "output_type": "stream",
          "name": "stdout",
          "text": [
            "address: city district street\n",
            "address: city, district, street\n"
          ]
        }
      ]
    },
    {
      "cell_type": "code",
      "source": [
        "# check for header, closure\n",
        "text = \"Hello, Python!\"\n",
        "starts_with_hello = text.startswith(\"Hello\")\n",
        "ends_with_world = text.endswith(\"World!\")\n",
        "\n",
        "print(starts_with_hello)\n",
        "print(ends_with_world)"
      ],
      "metadata": {
        "colab": {
          "base_uri": "https://localhost:8080/"
        },
        "id": "cTiyRelsfRPQ",
        "outputId": "de332689-851e-444f-807b-ddd348aa2315"
      },
      "execution_count": 38,
      "outputs": [
        {
          "output_type": "stream",
          "name": "stdout",
          "text": [
            "True\n",
            "False\n"
          ]
        }
      ]
    },
    {
      "cell_type": "code",
      "source": [
        "# Strings is Immutable datatype\n",
        "\n",
        "my_string = \"Hello\"\n",
        "# my_string[0] = 'h'\n",
        "\n",
        "my_string = \"Hello\"\n",
        "new_string = \"h\" + my_string[1:]\n",
        "print(new_string)"
      ],
      "metadata": {
        "colab": {
          "base_uri": "https://localhost:8080/"
        },
        "id": "k_kwvsgcf80s",
        "outputId": "c90e54d0-76a8-490c-ac96-b3cee581b7d4"
      },
      "execution_count": 40,
      "outputs": [
        {
          "output_type": "stream",
          "name": "stdout",
          "text": [
            "hello\n"
          ]
        }
      ]
    }
  ]
}