{
  "nbformat": 4,
  "nbformat_minor": 0,
  "metadata": {
    "colab": {
      "provenance": [],
      "authorship_tag": "ABX9TyNGR5xlx1GGl1WYOn8K80nW",
      "include_colab_link": true
    },
    "kernelspec": {
      "name": "python3",
      "display_name": "Python 3"
    },
    "language_info": {
      "name": "python"
    }
  },
  "cells": [
    {
      "cell_type": "markdown",
      "metadata": {
        "id": "view-in-github",
        "colab_type": "text"
      },
      "source": [
        "<a href=\"https://colab.research.google.com/github/JinLeeGG/AI_Project_Preparation/blob/main/Python_List_practice.ipynb\" target=\"_parent\"><img src=\"https://colab.research.google.com/assets/colab-badge.svg\" alt=\"Open In Colab\"/></a>"
      ]
    },
    {
      "cell_type": "code",
      "execution_count": null,
      "metadata": {
        "colab": {
          "base_uri": "https://localhost:8080/"
        },
        "id": "Wjl0jLPvtXtW",
        "outputId": "57bdc8bb-4f61-477f-b479-7fd9d0faa39e"
      },
      "outputs": [
        {
          "output_type": "stream",
          "name": "stdout",
          "text": [
            "[1, 3, 5, 7, 9]\n",
            "<class 'list'>\n"
          ]
        }
      ],
      "source": [
        "li1 = [1, 3, 5, 7, 9]\n",
        "print(li1)\n",
        "print(type(li1))"
      ]
    },
    {
      "cell_type": "code",
      "source": [
        "li2 = list([1,3,5,7,9])\n",
        "print(li2)\n",
        "print(type(li2))"
      ],
      "metadata": {
        "colab": {
          "base_uri": "https://localhost:8080/"
        },
        "id": "kVy0A1PC0pJs",
        "outputId": "ae561cad-b793-4984-b314-7038c7e64e5a"
      },
      "execution_count": null,
      "outputs": [
        {
          "output_type": "stream",
          "name": "stdout",
          "text": [
            "[1, 3, 5, 7, 9]\n",
            "<class 'list'>\n"
          ]
        }
      ]
    },
    {
      "cell_type": "code",
      "source": [
        "li3 = ['김사과', '반하나', '오렌지', '이메론']\n",
        "print(li3)"
      ],
      "metadata": {
        "colab": {
          "base_uri": "https://localhost:8080/"
        },
        "id": "Qoaz8hZR1goN",
        "outputId": "fcd97605-8f5e-4a82-eaa8-29d6d4da7276"
      },
      "execution_count": null,
      "outputs": [
        {
          "output_type": "stream",
          "name": "stdout",
          "text": [
            "['김사과', '반하나', '오렌지', '이메론']\n"
          ]
        }
      ]
    },
    {
      "cell_type": "code",
      "source": [
        "li4 = [1, 50.5, '김사과', True]\n",
        "print(li4)\n",
        "print(type(li4))\n",
        "\n",
        "print(li4[0])\n",
        "print(type(li4[0]))\n",
        "\n",
        "print(li4[0])\n",
        "print(li4[1])\n",
        "print(li4[2])\n",
        "print(li4[3])\n",
        "\n",
        "# print(li4[4]) # IndexError: list index out of range\n",
        "print(type(li4[0]))\n",
        "print(type(li4[1]))\n",
        "print(type(li4[2]))\n",
        "print(type(li4[3]))"
      ],
      "metadata": {
        "colab": {
          "base_uri": "https://localhost:8080/"
        },
        "id": "fEhpxeO31k3a",
        "outputId": "be9ab121-311f-4f1d-f4d8-9ed8bce9d225"
      },
      "execution_count": null,
      "outputs": [
        {
          "output_type": "stream",
          "name": "stdout",
          "text": [
            "[1, 50.5, '김사과', True]\n",
            "<class 'list'>\n",
            "1\n",
            "<class 'int'>\n",
            "1\n",
            "50.5\n",
            "김사과\n",
            "True\n",
            "<class 'int'>\n",
            "<class 'float'>\n",
            "<class 'str'>\n",
            "<class 'bool'>\n"
          ]
        }
      ]
    },
    {
      "cell_type": "code",
      "source": [
        "li1 = [1, 3, 5, 7, 9]\n",
        "print(li1)\n",
        "print(li1[0])\n",
        "print(li1[-1])\n",
        "print(li1[0] + li1[-1])"
      ],
      "metadata": {
        "colab": {
          "base_uri": "https://localhost:8080/"
        },
        "id": "bnnCW8j-1oBV",
        "outputId": "bbef1192-52a1-42c8-b4a7-1889b37b6acd"
      },
      "execution_count": null,
      "outputs": [
        {
          "output_type": "stream",
          "name": "stdout",
          "text": [
            "[1, 3, 5, 7, 9]\n",
            "1\n",
            "9\n",
            "10\n"
          ]
        }
      ]
    },
    {
      "cell_type": "code",
      "source": [
        "li2 = [1, 2, '파이썬', ['김사과', '오렌지']]\n",
        "print(li2)\n",
        "print(type(li2))\n",
        "print(li2[1])\n",
        "print(type(li2[1]))\n",
        "print(li2[3])\n",
        "print(type(li2[3]))\n",
        "print(li2[3][1])\n",
        "print(type(li2[3][1]))"
      ],
      "metadata": {
        "colab": {
          "base_uri": "https://localhost:8080/"
        },
        "id": "ADboQ1sS1qNN",
        "outputId": "729e6e1d-41da-4abf-faea-285af2989a3b"
      },
      "execution_count": null,
      "outputs": [
        {
          "output_type": "stream",
          "name": "stdout",
          "text": [
            "[1, 2, '파이썬', ['김사과', '오렌지']]\n",
            "<class 'list'>\n",
            "2\n",
            "<class 'int'>\n",
            "['김사과', '오렌지']\n",
            "<class 'list'>\n",
            "오렌지\n",
            "<class 'str'>\n"
          ]
        }
      ]
    },
    {
      "cell_type": "code",
      "source": [
        "\n",
        "li3 = [1, 2, 3, ['김사과', '오렌지', '반하나', ['🍟','🌭','🥩','🍗']]]\n",
        "print(li3)\n",
        "print(li3[2])\n",
        "print(li3[-1])\n",
        "print(li3[-1][-2])\n",
        "print(li3[-1][-1][-2])\n",
        "print(li3[-1][-1][-1])"
      ],
      "metadata": {
        "id": "7wZ_bFsl1seL",
        "outputId": "be965817-b96f-482a-ba0d-c458a68061d6",
        "colab": {
          "base_uri": "https://localhost:8080/"
        }
      },
      "execution_count": null,
      "outputs": [
        {
          "output_type": "stream",
          "name": "stdout",
          "text": [
            "[1, 2, 3, ['김사과', '오렌지', '반하나', ['🍟', '🌭', '🥩', '🍗']]]\n",
            "3\n",
            "['김사과', '오렌지', '반하나', ['🍟', '🌭', '🥩', '🍗']]\n",
            "반하나\n",
            "🥩\n",
            "🍗\n"
          ]
        }
      ]
    },
    {
      "cell_type": "code",
      "source": [
        "li1 = [10, 20, 30, 40, 50]\n",
        "print(li1)\n",
        "print(li1[0:3])\n",
        "\n",
        "li2 = li1\n",
        "print(li2)\n",
        "li2[0] = 100\n",
        "print(li2)\n",
        "print(li1)\n",
        "\n",
        "li3 = [1, 2, 3, ['김사과', '오렌지', '반하나', ['🍟','🌭','🥩','🍗']]]\n",
        "print(li3[2:3])\n",
        "print(li3[3][:2])"
      ],
      "metadata": {
        "id": "wa2S32YO1vPP",
        "outputId": "0f66006c-b5fc-40db-8278-6549c497efe3",
        "colab": {
          "base_uri": "https://localhost:8080/"
        }
      },
      "execution_count": null,
      "outputs": [
        {
          "output_type": "stream",
          "name": "stdout",
          "text": [
            "[10, 20, 30, 40, 50]\n",
            "[10, 20, 30]\n",
            "[10, 20, 30, 40, 50]\n",
            "[100, 20, 30, 40, 50]\n",
            "[100, 20, 30, 40, 50]\n",
            "[3]\n",
            "['김사과', '오렌지']\n"
          ]
        }
      ]
    },
    {
      "cell_type": "code",
      "source": [
        "li4 = [10, 20, 30, 40, 50]\n",
        "li4[1:2] = ['🍣','🍜','🍣','🍜'] # use slicing to add elements in the list\n",
        "print(li4)"
      ],
      "metadata": {
        "id": "uKAmDGoyvlxs",
        "colab": {
          "base_uri": "https://localhost:8080/"
        },
        "outputId": "7990ca9f-6469-4cfb-e078-6291dd838b4d"
      },
      "execution_count": 1,
      "outputs": [
        {
          "output_type": "stream",
          "name": "stdout",
          "text": [
            "[10, '🍣', '🍜', '🍣', '🍜', 30, 40, 50]\n"
          ]
        }
      ]
    },
    {
      "cell_type": "code",
      "source": [
        "li4 = [10, 20, 30, 40, 50]\n",
        "li4[1] = ['🍣','🍜','🍣','🍜'] # use indexing but it added another dimention\n",
        "print(li4)"
      ],
      "metadata": {
        "colab": {
          "base_uri": "https://localhost:8080/"
        },
        "id": "feKSzNh0UNYN",
        "outputId": "7c6ff7a8-9737-459b-d606-9e8dc5b65094"
      },
      "execution_count": 2,
      "outputs": [
        {
          "output_type": "stream",
          "name": "stdout",
          "text": [
            "[10, ['🍣', '🍜', '🍣', '🍜'], 30, 40, 50]\n"
          ]
        }
      ]
    },
    {
      "cell_type": "code",
      "source": [
        "li4 = [10, 20, 30, 40, 50]\n",
        "print(li4[1:3])\n",
        "li4[1:3] = []\n",
        "print(li4)"
      ],
      "metadata": {
        "colab": {
          "base_uri": "https://localhost:8080/"
        },
        "id": "RmG4Od2YUn2l",
        "outputId": "977d8826-3a6e-415a-9cef-36d836c8ec68"
      },
      "execution_count": 4,
      "outputs": [
        {
          "output_type": "stream",
          "name": "stdout",
          "text": [
            "[20, 30]\n",
            "[10, 40, 50]\n"
          ]
        }
      ]
    },
    {
      "cell_type": "code",
      "source": [
        "li4 = [10,20,30,40,50]\n",
        "print(li4[1:2])\n",
        "print(li4[1])\n",
        "li4[1] = []\n",
        "print(li4)"
      ],
      "metadata": {
        "colab": {
          "base_uri": "https://localhost:8080/"
        },
        "id": "lbw7WAt-U20o",
        "outputId": "a32c5691-277a-4751-c31a-1cb12aa1884d"
      },
      "execution_count": 7,
      "outputs": [
        {
          "output_type": "stream",
          "name": "stdout",
          "text": [
            "[20]\n",
            "20\n",
            "[10, [], 30, 40, 50]\n"
          ]
        }
      ]
    },
    {
      "cell_type": "code",
      "source": [
        "# removing list\n",
        "li4 = [10, 20, 30, 40, 50]\n",
        "del li4[1]\n",
        "print(li4)"
      ],
      "metadata": {
        "colab": {
          "base_uri": "https://localhost:8080/"
        },
        "id": "S8d9VlcrVDmj",
        "outputId": "f24d0be4-ce04-4c58-c1bf-1ae685c98953"
      },
      "execution_count": 8,
      "outputs": [
        {
          "output_type": "stream",
          "name": "stdout",
          "text": [
            "[10, 30, 40, 50]\n"
          ]
        }
      ]
    },
    {
      "cell_type": "code",
      "source": [
        "li5 = [10, 20, 30]\n",
        "li6 = [40, 50, 60]\n",
        "print(li5 + li6)\n",
        "print(li6 + li5)"
      ],
      "metadata": {
        "colab": {
          "base_uri": "https://localhost:8080/"
        },
        "id": "_sVTcTkeVLGn",
        "outputId": "857fa907-6b0c-465b-9c6a-b53d40be925a"
      },
      "execution_count": 9,
      "outputs": [
        {
          "output_type": "stream",
          "name": "stdout",
          "text": [
            "[10, 20, 30, 40, 50, 60]\n",
            "[40, 50, 60, 10, 20, 30]\n"
          ]
        }
      ]
    },
    {
      "cell_type": "code",
      "source": [
        "li5 = [10, 20, 30]\n",
        "li6 = li5 + [40,50,60]\n",
        "print(li6)"
      ],
      "metadata": {
        "colab": {
          "base_uri": "https://localhost:8080/"
        },
        "id": "l4_rBq6UVRDt",
        "outputId": "c0bc7c59-ac89-44b6-ae8b-ee31123e837f"
      },
      "execution_count": 11,
      "outputs": [
        {
          "output_type": "stream",
          "name": "stdout",
          "text": [
            "[10, 20, 30, 40, 50, 60]\n"
          ]
        }
      ]
    },
    {
      "cell_type": "code",
      "source": [
        "li6 = [10, 20, 30]\n",
        "print(li6 * 3)"
      ],
      "metadata": {
        "colab": {
          "base_uri": "https://localhost:8080/"
        },
        "id": "j9JGRiEuVcyJ",
        "outputId": "67323af2-930b-4251-aa1e-5f8d556bf10e"
      },
      "execution_count": 12,
      "outputs": [
        {
          "output_type": "stream",
          "name": "stdout",
          "text": [
            "[10, 20, 30, 10, 20, 30, 10, 20, 30]\n"
          ]
        }
      ]
    },
    {
      "cell_type": "code",
      "source": [
        "li6 = [10, 20, 30]\n",
        "len(li6)"
      ],
      "metadata": {
        "colab": {
          "base_uri": "https://localhost:8080/"
        },
        "id": "5klZynElVgh8",
        "outputId": "52884579-6e2b-48d1-c1ea-3c5028efe8ce"
      },
      "execution_count": 13,
      "outputs": [
        {
          "output_type": "execute_result",
          "data": {
            "text/plain": [
              "3"
            ]
          },
          "metadata": {},
          "execution_count": 13
        }
      ]
    },
    {
      "cell_type": "code",
      "source": [
        "li6 = [10, 20, 30]\n",
        "print(li6)\n",
        "\n",
        "li6.append(100)\n",
        "print(li6)\n",
        "\n",
        "li6.append([200,300])\n",
        "print(li6)"
      ],
      "metadata": {
        "colab": {
          "base_uri": "https://localhost:8080/"
        },
        "id": "4uQR3K9VVjWP",
        "outputId": "a081e0f4-8c46-429d-a3de-94a56793f33e"
      },
      "execution_count": 23,
      "outputs": [
        {
          "output_type": "stream",
          "name": "stdout",
          "text": [
            "[10, 20, 30]\n",
            "[10, 20, 30, 100]\n",
            "[10, 20, 30, 100, [200, 300]]\n"
          ]
        }
      ]
    },
    {
      "cell_type": "code",
      "source": [
        "li6 = [10, 20, 30]\n",
        "print(li6)\n",
        "\n",
        "li6.extend([100])\n",
        "print(li6)\n",
        "\n",
        "li6.extend([200, 300, 400])\n",
        "print(li6)\n"
      ],
      "metadata": {
        "colab": {
          "base_uri": "https://localhost:8080/"
        },
        "id": "aXknqnMpV3KS",
        "outputId": "5bb5961e-c67a-428e-d363-107921b5bdc8"
      },
      "execution_count": 24,
      "outputs": [
        {
          "output_type": "stream",
          "name": "stdout",
          "text": [
            "[10, 20, 30]\n",
            "[10, 20, 30, 100]\n",
            "[10, 20, 30, 100, 200, 300, 400]\n"
          ]
        }
      ]
    },
    {
      "cell_type": "code",
      "source": [
        "li6 = [10, 20, 30]\n",
        "print(li6)\n",
        "\n",
        "temp = li6.pop()\n",
        "print(li6)\n",
        "print(temp)"
      ],
      "metadata": {
        "colab": {
          "base_uri": "https://localhost:8080/"
        },
        "id": "n3snrbhVWDPC",
        "outputId": "394842e7-f538-40dd-edd5-7927e3b2038a"
      },
      "execution_count": 26,
      "outputs": [
        {
          "output_type": "stream",
          "name": "stdout",
          "text": [
            "[10, 20, 30]\n",
            "[10, 20]\n",
            "30\n"
          ]
        }
      ]
    },
    {
      "cell_type": "code",
      "source": [
        "li7 = [100, 50, 70, 60, 20]\n",
        "print(li7)\n",
        "\n",
        "li7.reverse()\n",
        "print(li7)"
      ],
      "metadata": {
        "colab": {
          "base_uri": "https://localhost:8080/"
        },
        "id": "mc-oOu1fWO1m",
        "outputId": "3fe72730-6f7f-4799-c5e4-4c19c886ceb2"
      },
      "execution_count": 27,
      "outputs": [
        {
          "output_type": "stream",
          "name": "stdout",
          "text": [
            "[100, 50, 70, 60, 20]\n",
            "[20, 60, 70, 50, 100]\n"
          ]
        }
      ]
    },
    {
      "cell_type": "code",
      "source": [
        "li7 = [100, 50, 70, 60, 20]\n",
        "print(li7[:])\n",
        "print(li7[0:5])\n",
        "print(li7[::])\n",
        "print(li7[0:5:1])\n",
        "print(li7[0:5:2])"
      ],
      "metadata": {
        "colab": {
          "base_uri": "https://localhost:8080/"
        },
        "id": "wz_MAXaNWVPT",
        "outputId": "347cb7d0-3a1b-45cf-8a83-b3c57728c97a"
      },
      "execution_count": 31,
      "outputs": [
        {
          "output_type": "stream",
          "name": "stdout",
          "text": [
            "[100, 50, 70, 60, 20]\n",
            "[100, 50, 70, 60, 20]\n",
            "[100, 50, 70, 60, 20]\n",
            "[100, 50, 70, 60, 20]\n",
            "[100, 70, 20]\n"
          ]
        }
      ]
    },
    {
      "cell_type": "code",
      "source": [
        "li7 = [100, 50, 70, 60, 20]\n",
        "print(li7[::-1])\n",
        "print(li7[-1::-1])\n",
        "print(li7[-1:-6:-1])"
      ],
      "metadata": {
        "colab": {
          "base_uri": "https://localhost:8080/"
        },
        "id": "T0X5JYxAWnFG",
        "outputId": "ad3ade27-c524-4674-f9d2-d6415655eb8e"
      },
      "execution_count": 34,
      "outputs": [
        {
          "output_type": "stream",
          "name": "stdout",
          "text": [
            "[20, 60, 70, 50, 100]\n",
            "[20, 60, 70, 50, 100]\n",
            "[20, 60, 70, 50, 100]\n"
          ]
        }
      ]
    },
    {
      "cell_type": "code",
      "source": [
        "# sort()\n",
        "li7 = [100, 50, 70, 60, 20]\n",
        "print(li7)\n",
        "\n",
        "li7.sort()\n",
        "print(li7)\n",
        "\n",
        "li7.sort(reverse=True)\n",
        "print(li7)\n",
        "\n",
        "li8 = ['Apple', 'apple', 'orange', 'banana', 'melon']\n",
        "li8.sort()\n",
        "print(li8)"
      ],
      "metadata": {
        "colab": {
          "base_uri": "https://localhost:8080/"
        },
        "id": "P4Ojn3uxWzK-",
        "outputId": "fdd65469-8fca-4f7f-b3f3-21742c56988d"
      },
      "execution_count": 39,
      "outputs": [
        {
          "output_type": "stream",
          "name": "stdout",
          "text": [
            "[100, 50, 70, 60, 20]\n",
            "[20, 50, 60, 70, 100]\n",
            "[100, 70, 60, 50, 20]\n",
            "['Apple', 'apple', 'banana', 'melon', 'orange']\n"
          ]
        }
      ]
    },
    {
      "cell_type": "code",
      "source": [
        "# sorted()\n",
        "li7 = [100, 50, 70, 60, 20]\n",
        "print(li7)\n",
        "\n",
        "result = sorted(li7)\n",
        "print(li7)\n",
        "print(result)"
      ],
      "metadata": {
        "colab": {
          "base_uri": "https://localhost:8080/"
        },
        "id": "SbKQr7ptXAI3",
        "outputId": "fda7f79c-1bc4-4b65-9863-d211165287d6"
      },
      "execution_count": 41,
      "outputs": [
        {
          "output_type": "stream",
          "name": "stdout",
          "text": [
            "[100, 50, 70, 60, 20]\n",
            "[100, 50, 70, 60, 20]\n",
            "[20, 50, 60, 70, 100]\n"
          ]
        }
      ]
    },
    {
      "cell_type": "code",
      "source": [
        "# count()\n",
        "li9 = [10, 20, 30, 50, 20, 40, 30, 20]\n",
        "print(li9)\n",
        "\n",
        "print(li9.count(20))\n",
        "print(li9.count(100))"
      ],
      "metadata": {
        "colab": {
          "base_uri": "https://localhost:8080/"
        },
        "id": "exgnRbsrXFDs",
        "outputId": "33f73066-f626-4b04-a06c-9c6252894327"
      },
      "execution_count": 43,
      "outputs": [
        {
          "output_type": "stream",
          "name": "stdout",
          "text": [
            "[10, 20, 30, 50, 20, 40, 30, 20]\n",
            "3\n",
            "0\n"
          ]
        }
      ]
    }
  ]
}