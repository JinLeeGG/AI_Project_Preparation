{
  "nbformat": 4,
  "nbformat_minor": 0,
  "metadata": {
    "colab": {
      "provenance": [],
      "authorship_tag": "ABX9TyNIvT0EBvRqF98BY/b1fect",
      "include_colab_link": true
    },
    "kernelspec": {
      "name": "python3",
      "display_name": "Python 3"
    },
    "language_info": {
      "name": "python"
    }
  },
  "cells": [
    {
      "cell_type": "markdown",
      "metadata": {
        "id": "view-in-github",
        "colab_type": "text"
      },
      "source": [
        "<a href=\"https://colab.research.google.com/github/JinLeeGG/AI_Project_Preparation/blob/main/1.%20Python%20Basics/Day4%20-%20Python%20Collection%20Type/Python_List_practice.ipynb\" target=\"_parent\"><img src=\"https://colab.research.google.com/assets/colab-badge.svg\" alt=\"Open In Colab\"/></a>"
      ]
    },
    {
      "cell_type": "code",
      "execution_count": 2,
      "metadata": {
        "colab": {
          "base_uri": "https://localhost:8080/"
        },
        "id": "Wjl0jLPvtXtW",
        "outputId": "57bdc8bb-4f61-477f-b479-7fd9d0faa39e"
      },
      "outputs": [
        {
          "output_type": "stream",
          "name": "stdout",
          "text": [
            "[1, 3, 5, 7, 9]\n",
            "<class 'list'>\n"
          ]
        }
      ],
      "source": [
        "li1 = [1, 3, 5, 7, 9]\n",
        "print(li1)\n",
        "print(type(li1))"
      ]
    },
    {
      "cell_type": "code",
      "source": [
        "li2 = list([1,3,5,7,9])\n",
        "print(li2)\n",
        "print(type(li2))"
      ],
      "metadata": {
        "colab": {
          "base_uri": "https://localhost:8080/"
        },
        "id": "kVy0A1PC0pJs",
        "outputId": "ae561cad-b793-4984-b314-7038c7e64e5a"
      },
      "execution_count": 3,
      "outputs": [
        {
          "output_type": "stream",
          "name": "stdout",
          "text": [
            "[1, 3, 5, 7, 9]\n",
            "<class 'list'>\n"
          ]
        }
      ]
    },
    {
      "cell_type": "code",
      "source": [
        "li3 = ['김사과', '반하나', '오렌지', '이메론']\n",
        "print(li3)"
      ],
      "metadata": {
        "colab": {
          "base_uri": "https://localhost:8080/"
        },
        "id": "Qoaz8hZR1goN",
        "outputId": "fcd97605-8f5e-4a82-eaa8-29d6d4da7276"
      },
      "execution_count": 4,
      "outputs": [
        {
          "output_type": "stream",
          "name": "stdout",
          "text": [
            "['김사과', '반하나', '오렌지', '이메론']\n"
          ]
        }
      ]
    },
    {
      "cell_type": "code",
      "source": [
        "li4 = [1, 50.5, '김사과', True]\n",
        "print(li4)\n",
        "print(type(li4))\n",
        "\n",
        "print(li4[0])\n",
        "print(type(li4[0]))\n",
        "\n",
        "print(li4[0])\n",
        "print(li4[1])\n",
        "print(li4[2])\n",
        "print(li4[3])\n",
        "\n",
        "# print(li4[4]) # IndexError: list index out of range\n",
        "print(type(li4[0]))\n",
        "print(type(li4[1]))\n",
        "print(type(li4[2]))\n",
        "print(type(li4[3]))"
      ],
      "metadata": {
        "colab": {
          "base_uri": "https://localhost:8080/"
        },
        "id": "fEhpxeO31k3a",
        "outputId": "be9ab121-311f-4f1d-f4d8-9ed8bce9d225"
      },
      "execution_count": 5,
      "outputs": [
        {
          "output_type": "stream",
          "name": "stdout",
          "text": [
            "[1, 50.5, '김사과', True]\n",
            "<class 'list'>\n",
            "1\n",
            "<class 'int'>\n",
            "1\n",
            "50.5\n",
            "김사과\n",
            "True\n",
            "<class 'int'>\n",
            "<class 'float'>\n",
            "<class 'str'>\n",
            "<class 'bool'>\n"
          ]
        }
      ]
    },
    {
      "cell_type": "code",
      "source": [
        "li1 = [1, 3, 5, 7, 9]\n",
        "print(li1)\n",
        "print(li1[0])\n",
        "print(li1[-1])\n",
        "print(li1[0] + li1[-1])"
      ],
      "metadata": {
        "colab": {
          "base_uri": "https://localhost:8080/"
        },
        "id": "bnnCW8j-1oBV",
        "outputId": "bbef1192-52a1-42c8-b4a7-1889b37b6acd"
      },
      "execution_count": 6,
      "outputs": [
        {
          "output_type": "stream",
          "name": "stdout",
          "text": [
            "[1, 3, 5, 7, 9]\n",
            "1\n",
            "9\n",
            "10\n"
          ]
        }
      ]
    },
    {
      "cell_type": "code",
      "source": [
        "li2 = [1, 2, '파이썬', ['김사과', '오렌지']]\n",
        "print(li2)\n",
        "print(type(li2))\n",
        "print(li2[1])\n",
        "print(type(li2[1]))\n",
        "print(li2[3])\n",
        "print(type(li2[3]))\n",
        "print(li2[3][1])\n",
        "print(type(li2[3][1]))"
      ],
      "metadata": {
        "colab": {
          "base_uri": "https://localhost:8080/"
        },
        "id": "ADboQ1sS1qNN",
        "outputId": "729e6e1d-41da-4abf-faea-285af2989a3b"
      },
      "execution_count": 7,
      "outputs": [
        {
          "output_type": "stream",
          "name": "stdout",
          "text": [
            "[1, 2, '파이썬', ['김사과', '오렌지']]\n",
            "<class 'list'>\n",
            "2\n",
            "<class 'int'>\n",
            "['김사과', '오렌지']\n",
            "<class 'list'>\n",
            "오렌지\n",
            "<class 'str'>\n"
          ]
        }
      ]
    },
    {
      "cell_type": "code",
      "source": [
        "\n",
        "li3 = [1, 2, 3, ['김사과', '오렌지', '반하나', ['🍟','🌭','🥩','🍗']]]\n",
        "print(li3)\n",
        "print(li3[2])\n",
        "print(li3[-1])\n",
        "print(li3[-1][-2])\n",
        "print(li3[-1][-1][-2])\n",
        "print(li3[-1][-1][-1])"
      ],
      "metadata": {
        "colab": {
          "base_uri": "https://localhost:8080/"
        },
        "id": "7wZ_bFsl1seL",
        "outputId": "be965817-b96f-482a-ba0d-c458a68061d6"
      },
      "execution_count": 8,
      "outputs": [
        {
          "output_type": "stream",
          "name": "stdout",
          "text": [
            "[1, 2, 3, ['김사과', '오렌지', '반하나', ['🍟', '🌭', '🥩', '🍗']]]\n",
            "3\n",
            "['김사과', '오렌지', '반하나', ['🍟', '🌭', '🥩', '🍗']]\n",
            "반하나\n",
            "🥩\n",
            "🍗\n"
          ]
        }
      ]
    },
    {
      "cell_type": "code",
      "source": [
        "li1 = [10, 20, 30, 40, 50]\n",
        "print(li1)\n",
        "print(li1[0:3])\n",
        "\n",
        "li2 = li1\n",
        "print(li2)\n",
        "li2[0] = 100\n",
        "print(li2)\n",
        "print(li1)\n",
        "\n",
        "li3 = [1, 2, 3, ['김사과', '오렌지', '반하나', ['🍟','🌭','🥩','🍗']]]\n",
        "print(li3[2:3])\n",
        "print(li3[3][:2])"
      ],
      "metadata": {
        "colab": {
          "base_uri": "https://localhost:8080/"
        },
        "id": "wa2S32YO1vPP",
        "outputId": "0f66006c-b5fc-40db-8278-6549c497efe3"
      },
      "execution_count": 9,
      "outputs": [
        {
          "output_type": "stream",
          "name": "stdout",
          "text": [
            "[10, 20, 30, 40, 50]\n",
            "[10, 20, 30]\n",
            "[10, 20, 30, 40, 50]\n",
            "[100, 20, 30, 40, 50]\n",
            "[100, 20, 30, 40, 50]\n",
            "[3]\n",
            "['김사과', '오렌지']\n"
          ]
        }
      ]
    }
  ]
}