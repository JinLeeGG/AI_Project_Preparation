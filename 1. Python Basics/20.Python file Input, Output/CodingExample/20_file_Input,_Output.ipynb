{
  "nbformat": 4,
  "nbformat_minor": 0,
  "metadata": {
    "colab": {
      "provenance": [],
      "mount_file_id": "1nTvu7yaS3g7pL_mYR1dHIZm7tZJhUfwi",
      "authorship_tag": "ABX9TyMwHgPg1Bl5ib19IXDOnjc7",
      "include_colab_link": true
    },
    "kernelspec": {
      "name": "python3",
      "display_name": "Python 3"
    },
    "language_info": {
      "name": "python"
    }
  },
  "cells": [
    {
      "cell_type": "markdown",
      "metadata": {
        "id": "view-in-github",
        "colab_type": "text"
      },
      "source": [
        "<a href=\"https://colab.research.google.com/github/JinLeeGG/AI_Project_Preparation/blob/main/1.%20Python%20Basics/20.Python%20file%20Input%2C%20Output/CodingExample/20_file_Input%2C_Output.ipynb\" target=\"_parent\"><img src=\"https://colab.research.google.com/assets/colab-badge.svg\" alt=\"Open In Colab\"/></a>"
      ]
    },
    {
      "cell_type": "markdown",
      "source": [
        "https://ryuzyproject.tistory.com/24?category=1088818"
      ],
      "metadata": {
        "id": "w-ILSH1iCQC5"
      }
    },
    {
      "cell_type": "markdown",
      "source": [
        "# 1. 파일 열기\n",
        "파일을 열려면 open 함수를 사용합니다.\n",
        "\n",
        "```\n",
        "f = open(\"파일명\", \"모드\")\n",
        "```\n",
        "\n",
        "파일명: 열고자 하는 파일의 이름이나 경로\n",
        "모드: 파일을 어떻게 열 것인지를 지정\n",
        "\n",
        "r: 읽기 모드 (기본값)\n",
        "\n",
        "w: 쓰기 모드 (파일이 있으면 덮어쓰기)\n",
        "\n",
        "a: 추가 모드 (파일의 끝에 내용을 추가)\n",
        "\n",
        "b: 바이너리 모드 (텍스트가 아닌 바이너리 데이터를 읽고/쓸 때 사용)\n",
        "\n",
        "+: 읽기와 쓰기 모드\n",
        "\n",
        "> close 메서드를 사용해 파일을 닫습니다. 파일을 닫지 않으면 데이터 손실이 발생할 수 있습니다."
      ],
      "metadata": {
        "id": "Pv_riOsXCOkz"
      }
    },
    {
      "cell_type": "code",
      "source": [
        "file = open('data.txt', 'wt')\n",
        "for i in range(10):\n",
        "    file.write('파일 열기 테스트: ' + str(i) + '\\n')\n",
        "file.close() # 저장하고 다른사람들이 접근하기위해서 닫아주기\n",
        "print('data.txt 파일에 쓰기 완료!')"
      ],
      "metadata": {
        "colab": {
          "base_uri": "https://localhost:8080/"
        },
        "id": "2CDK0_ukDCKe",
        "outputId": "d0fc4162-9982-4998-9b71-e3f3f15de868"
      },
      "execution_count": 2,
      "outputs": [
        {
          "output_type": "stream",
          "name": "stdout",
          "text": [
            "data.txt 파일에 쓰기 완료!\n"
          ]
        }
      ]
    },
    {
      "cell_type": "markdown",
      "source": [
        "# 파일 경로\n",
        "파일 경로는 파일의 위치를 나타내는 문자열입니다. 이 경로를 통해 파이썬은 파일을 찾아서 해당 파일을 읽거나 쓸 수 있습니다. 파일 경로는 크게 상대 경로와 절대 경로 두 가지로 구분됩니다."
      ],
      "metadata": {
        "id": "e3o-1qDvEls0"
      }
    },
    {
      "cell_type": "markdown",
      "source": [
        "### 상대 경로 (Relative Path)\n",
        "\n",
        "현재 작업 디렉토리에 대한 파일의 위치를 나타냅니다.\n",
        "\n",
        "* \"data.txt\": 현재 디렉토리의 data.txt 파일\n",
        "\n",
        "* \"./data.txt\": 현재 디렉토리의 data.txt 파일\n",
        "\n",
        "* \"subfolder/data.txt\": 현재 디렉토리의 하위 폴더 subfolder 안의 data.txt 파일\n",
        "\n",
        "* \"../siblingfolder/data.txt\": 현재 디렉토리와 동일한 위치의 다른 폴더 siblingfolder 안의 data.txt 파일"
      ],
      "metadata": {
        "id": "pkABVLXcEo-o"
      }
    },
    {
      "cell_type": "code",
      "source": [
        "file = open('./data/data.txt', 'wt')\n",
        "for i in range(10):\n",
        "    file.write('파일 열기 테스트: ' + str(i) + '\\n')\n",
        "file.close() # 저장하고 다른사람들이 접근하기위해서 닫아주기\n",
        "print('data.txt 파일에 쓰기 완료!')"
      ],
      "metadata": {
        "colab": {
          "base_uri": "https://localhost:8080/"
        },
        "id": "3uCJOyv-E98K",
        "outputId": "57c264d8-e2ed-4d34-d885-b59f1cbf8aab"
      },
      "execution_count": 4,
      "outputs": [
        {
          "output_type": "stream",
          "name": "stdout",
          "text": [
            "data.txt 파일에 쓰기 완료!\n"
          ]
        }
      ]
    },
    {
      "cell_type": "code",
      "source": [
        "file = open('../up/data.txt', 'wt')\n",
        "for i in range(10):\n",
        "    file.write('파일 열기 테스트: ' + str(i) + '\\n')\n",
        "file.close() # 저장하고 다른사람들이 접근하기위해서 닫아주기\n",
        "print('data.txt 파일에 쓰기 완료!')"
      ],
      "metadata": {
        "colab": {
          "base_uri": "https://localhost:8080/"
        },
        "id": "C_ycFkXwF0sk",
        "outputId": "691b1102-240e-46a7-be89-0585569dbe99"
      },
      "execution_count": 6,
      "outputs": [
        {
          "output_type": "stream",
          "name": "stdout",
          "text": [
            "data.txt 파일에 쓰기 완료!\n"
          ]
        }
      ]
    }
  ]
}