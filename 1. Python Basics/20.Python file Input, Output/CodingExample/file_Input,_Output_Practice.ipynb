{
  "nbformat": 4,
  "nbformat_minor": 0,
  "metadata": {
    "colab": {
      "provenance": [],
      "toc_visible": true,
      "mount_file_id": "1rtFP_AySD1bVYBnXCsShbJTCzavJ6bBa",
      "authorship_tag": "ABX9TyPAbhSWAhvN8GTkpegSPLfo",
      "include_colab_link": true
    },
    "kernelspec": {
      "name": "python3",
      "display_name": "Python 3"
    },
    "language_info": {
      "name": "python"
    }
  },
  "cells": [
    {
      "cell_type": "markdown",
      "metadata": {
        "id": "view-in-github",
        "colab_type": "text"
      },
      "source": [
        "<a href=\"https://colab.research.google.com/github/JinLeeGG/AI_Project_Preparation/blob/main/1.%20Python%20Basics/20.Python%20file%20Input%2C%20Output/CodingExample/file_Input%2C_Output_Practice.ipynb\" target=\"_parent\"><img src=\"https://colab.research.google.com/assets/colab-badge.svg\" alt=\"Open In Colab\"/></a>"
      ]
    },
    {
      "cell_type": "code",
      "execution_count": null,
      "metadata": {
        "colab": {
          "base_uri": "https://localhost:8080/"
        },
        "id": "7aXo17y6O6Kc",
        "outputId": "6c1073a4-5a04-46fb-ca8f-7d1830b9f451"
      },
      "outputs": [
        {
          "output_type": "stream",
          "name": "stdout",
          "text": [
            "written on data.txt file.\n"
          ]
        }
      ],
      "source": [
        "file = open('data.txt', 'wt')\n",
        "for i in range(10):\n",
        "    file.write('file openning test: ' + str(i) + '\\n')\n",
        "file.close() # to save, and make it accessable to other people\n",
        "print('written on data.txt file.')"
      ]
    },
    {
      "cell_type": "markdown",
      "source": [
        "# Relative Path"
      ],
      "metadata": {
        "id": "0o6A_6CZP3yS"
      }
    },
    {
      "cell_type": "code",
      "source": [
        "file = open('./data/data.txt', 'wt')\n",
        "for i in range(10):\n",
        "    file.write('file openning test: ' + str(i) + '\\n')\n",
        "file.close()\n",
        "print('written on data.txt file.')"
      ],
      "metadata": {
        "colab": {
          "base_uri": "https://localhost:8080/"
        },
        "id": "O6O1wf7YP5oo",
        "outputId": "7f4110eb-780b-4780-9b24-812cd071e5ea"
      },
      "execution_count": null,
      "outputs": [
        {
          "output_type": "stream",
          "name": "stdout",
          "text": [
            "written on data.txt file.\n"
          ]
        }
      ]
    },
    {
      "cell_type": "code",
      "source": [
        "file = open('../up/data.txt', 'wt')\n",
        "for i in range(10):\n",
        "    file.write('file openning test: ' + str(i) + '\\n')\n",
        "file.close()\n",
        "print('written on data.txt file.')"
      ],
      "metadata": {
        "colab": {
          "base_uri": "https://localhost:8080/"
        },
        "id": "-zZL1euZQMrb",
        "outputId": "5d550c83-ef9b-46c1-9300-8a2729bb4ee1"
      },
      "execution_count": null,
      "outputs": [
        {
          "output_type": "stream",
          "name": "stdout",
          "text": [
            "written on data.txt file.\n"
          ]
        }
      ]
    }
  ]
}