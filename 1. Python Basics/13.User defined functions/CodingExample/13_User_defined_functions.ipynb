{
  "nbformat": 4,
  "nbformat_minor": 0,
  "metadata": {
    "colab": {
      "provenance": [],
      "authorship_tag": "ABX9TyOP92JrEnYmCmtZm2Xv2NMH",
      "include_colab_link": true
    },
    "kernelspec": {
      "name": "python3",
      "display_name": "Python 3"
    },
    "language_info": {
      "name": "python"
    }
  },
  "cells": [
    {
      "cell_type": "markdown",
      "metadata": {
        "id": "view-in-github",
        "colab_type": "text"
      },
      "source": [
        "<a href=\"https://colab.research.google.com/github/JinLeeGG/AI_Project_Preparation/blob/main/1.%20Python%20Basics/13.User%20defined%20functions/CodingExample/13_User_defined_functions.ipynb\" target=\"_parent\"><img src=\"https://colab.research.google.com/assets/colab-badge.svg\" alt=\"Open In Colab\"/></a>"
      ]
    },
    {
      "cell_type": "markdown",
      "source": [
        "# 1. 사용자 정의 함수\n",
        "사용자 정의 함수란 사용자가 특정 작업을 수행하기 위해 직접 작성한 함수를 의미합니다. 파이썬에는 많은 내장 함수들이 있지만, 때로는 우리의 요구사항에 맞게 동작하는 함수를 직접 만들어야 할 때가 있습니다. 이때 사용자 정의 함수를 작성하게 됩니다.\n",
        "\n",
        "```\n",
        "def 함수명(매개변수1, 매개변수2, ...):\n",
        "    # 함수 내용\n",
        "    return 결과값\n",
        "```"
      ],
      "metadata": {
        "id": "AKc5dp-GLvWt"
      }
    },
    {
      "cell_type": "markdown",
      "source": [
        "# 2. 매개변수와 반환 값이 없는 함수"
      ],
      "metadata": {
        "id": "0kQZqk-sMwC5"
      }
    },
    {
      "cell_type": "code",
      "source": [
        "def func1():\n",
        "    print('처음으로 만드는 함수!')"
      ],
      "metadata": {
        "id": "xWWm1A1bL-_9"
      },
      "execution_count": 2,
      "outputs": []
    },
    {
      "cell_type": "code",
      "source": [
        "func1()   # 여러번 실행가능\n",
        "func1()"
      ],
      "metadata": {
        "colab": {
          "base_uri": "https://localhost:8080/"
        },
        "id": "ao-aZTYuM-Md",
        "outputId": "6c743010-d2ee-472f-967c-e8e219cff0fa"
      },
      "execution_count": 4,
      "outputs": [
        {
          "output_type": "stream",
          "name": "stdout",
          "text": [
            "처음으로 만드는 함수!\n",
            "처음으로 만드는 함수!\n"
          ]
        }
      ]
    },
    {
      "cell_type": "code",
      "source": [
        "for i in range(5):\n",
        "    func1()         # for문에도 삽입가능"
      ],
      "metadata": {
        "colab": {
          "base_uri": "https://localhost:8080/"
        },
        "id": "UNw_sd8lNCwF",
        "outputId": "ad55dc14-6229-4f9c-87cb-6ae6c3db4677"
      },
      "execution_count": 6,
      "outputs": [
        {
          "output_type": "stream",
          "name": "stdout",
          "text": [
            "처음으로 만드는 함수!\n",
            "처음으로 만드는 함수!\n",
            "처음으로 만드는 함수!\n",
            "처음으로 만드는 함수!\n",
            "처음으로 만드는 함수!\n"
          ]
        }
      ]
    },
    {
      "cell_type": "markdown",
      "source": [
        "# 3. 매개변수가 있고 반환 값이 없는 함수"
      ],
      "metadata": {
        "id": "-_aFdOF3NmOC"
      }
    },
    {
      "cell_type": "code",
      "source": [
        "def func2(num):\n",
        "    print(f'입력받은 숫자: {num}')\n",
        "\n",
        "func2(10)\n",
        "func2(2)"
      ],
      "metadata": {
        "id": "rJrUzKdNNnBS"
      },
      "execution_count": null,
      "outputs": []
    },
    {
      "cell_type": "code",
      "source": [
        "def func3(start, end):\n",
        "    sum = 0\n",
        "    for i in range(start, end+1):\n",
        "        sum += i\n",
        "    print(f'{start}부터 {end}까지의 합: {sum}')\n",
        "\n",
        "func3(1, 10)\n",
        "func3(1, 100)"
      ],
      "metadata": {
        "colab": {
          "base_uri": "https://localhost:8080/"
        },
        "id": "O0CCizMiNuVN",
        "outputId": "2cfa84f9-79e5-4f59-9dae-e0ef82319414"
      },
      "execution_count": 9,
      "outputs": [
        {
          "output_type": "stream",
          "name": "stdout",
          "text": [
            "1부터 10까지의 합: 55\n",
            "1부터 100까지의 합: 5050\n"
          ]
        }
      ]
    },
    {
      "cell_type": "markdown",
      "source": [
        "# 4. 반환 값이 있는 함수"
      ],
      "metadata": {
        "id": "6pSCx4wmONfn"
      }
    },
    {
      "cell_type": "code",
      "source": [
        "def func1():\n",
        "    print('처음만든 함수')"
      ],
      "metadata": {
        "id": "iPeNEI1nRTJK"
      },
      "execution_count": 10,
      "outputs": []
    },
    {
      "cell_type": "code",
      "source": [
        "func1()"
      ],
      "metadata": {
        "colab": {
          "base_uri": "https://localhost:8080/"
        },
        "id": "b-YD1wnJRWrI",
        "outputId": "2f630704-cec0-4c2a-d9a3-c2525aaed393"
      },
      "execution_count": 11,
      "outputs": [
        {
          "output_type": "stream",
          "name": "stdout",
          "text": [
            "처음만든 함수\n"
          ]
        }
      ]
    },
    {
      "cell_type": "code",
      "source": [
        "temp = func1()\n",
        "print(temp)     # func1에서는 아무것도 반환을 안하기때문에 None값이 들어간다."
      ],
      "metadata": {
        "colab": {
          "base_uri": "https://localhost:8080/"
        },
        "id": "Uw57BmdgRW--",
        "outputId": "9e100b0c-1729-4fb7-eb79-5adf208c1618"
      },
      "execution_count": 12,
      "outputs": [
        {
          "output_type": "stream",
          "name": "stdout",
          "text": [
            "처음만든 함수\n",
            "None\n"
          ]
        }
      ]
    },
    {
      "cell_type": "code",
      "source": [
        "temp = func1      # 함수의 주소값을 변수에 저장\n",
        "print(temp)       # 함수의 주소값을 프린트\n",
        "temp()            # 함수의 주소값을 이용해서 함수를 실행"
      ],
      "metadata": {
        "colab": {
          "base_uri": "https://localhost:8080/"
        },
        "id": "G499c4psRX_g",
        "outputId": "4310cbd9-009f-40bf-a14a-11cdb693674b"
      },
      "execution_count": 13,
      "outputs": [
        {
          "output_type": "stream",
          "name": "stdout",
          "text": [
            "<function func1 at 0x78599667d800>\n",
            "처음만든 함수\n"
          ]
        }
      ]
    },
    {
      "cell_type": "code",
      "source": [
        "def func4():\n",
        "    return '🎁' # 이모지를 리턴"
      ],
      "metadata": {
        "id": "QPS0ux4lRZ5g"
      },
      "execution_count": 14,
      "outputs": []
    },
    {
      "cell_type": "code",
      "source": [
        "print(func4())  # 함수실행"
      ],
      "metadata": {
        "colab": {
          "base_uri": "https://localhost:8080/"
        },
        "id": "B7ImoEgpRaf5",
        "outputId": "255f4d3a-58df-47a4-d1a7-ad993862cb99"
      },
      "execution_count": 15,
      "outputs": [
        {
          "output_type": "stream",
          "name": "stdout",
          "text": [
            "🎁\n"
          ]
        }
      ]
    },
    {
      "cell_type": "code",
      "source": [
        "temp = func4()    # 함수의 반환값을 temp에 저장\n",
        "print(f'temp에 저장된 값: {temp}')  #프린트"
      ],
      "metadata": {
        "colab": {
          "base_uri": "https://localhost:8080/"
        },
        "id": "NF0EbZUXRbCR",
        "outputId": "497aec01-c292-4d60-eee2-bbfac102a1ab"
      },
      "execution_count": 16,
      "outputs": [
        {
          "output_type": "stream",
          "name": "stdout",
          "text": [
            "temp에 저장된 값: 🎁\n"
          ]
        }
      ]
    },
    {
      "cell_type": "code",
      "source": [
        "def func5(num1, num2):\n",
        "      sum = num1 + num2\n",
        "      return sum"
      ],
      "metadata": {
        "id": "WQAS63VRS-Ex"
      },
      "execution_count": 18,
      "outputs": []
    },
    {
      "cell_type": "code",
      "source": [
        "print(func5(10, 5))"
      ],
      "metadata": {
        "colab": {
          "base_uri": "https://localhost:8080/"
        },
        "id": "KkhhnWc0TEvh",
        "outputId": "523c08db-895e-4682-d41f-a26d4914cf5b"
      },
      "execution_count": 19,
      "outputs": [
        {
          "output_type": "stream",
          "name": "stdout",
          "text": [
            "15\n"
          ]
        }
      ]
    },
    {
      "cell_type": "code",
      "source": [
        "temp = func5(10, 5)\n",
        "print(temp)"
      ],
      "metadata": {
        "colab": {
          "base_uri": "https://localhost:8080/"
        },
        "id": "ymOKhl1mTHKQ",
        "outputId": "ebc41709-ca27-434c-c906-206618c8bc85"
      },
      "execution_count": 21,
      "outputs": [
        {
          "output_type": "stream",
          "name": "stdout",
          "text": [
            "15\n"
          ]
        }
      ]
    },
    {
      "cell_type": "code",
      "source": [
        "# 변수값이 충족이 안됬음으로 에러발생\n",
        "# print(func5(10)) # TypeError: func5() missing 1 required positional argument: 'num2'"
      ],
      "metadata": {
        "id": "Q1METIkjTKmY"
      },
      "execution_count": 23,
      "outputs": []
    },
    {
      "cell_type": "markdown",
      "source": [
        "# 5. 기본값이 설정된 매개변수"
      ],
      "metadata": {
        "id": "tQT6nPhwTRLo"
      }
    },
    {
      "cell_type": "code",
      "source": [
        "# 기본값으로 num1 = 0, num2 = 0 설정\n",
        "def func6(num1 = 0, num2 = 0):\n",
        "      sum = num1 + num2\n",
        "      return sum"
      ],
      "metadata": {
        "id": "kjpoOVHtTq3V"
      },
      "execution_count": 24,
      "outputs": []
    },
    {
      "cell_type": "code",
      "source": [
        "print(func6())\n",
        "print(func6(10))\n",
        "print(func6(10, 3))\n",
        "# print(func6(, 3))\n",
        "# print(func6(None, 3))\n",
        "print(func6(num2 = 3))  #만약 num2만 넣고싶을때는 num2 = 3 이런식으로 하면된다."
      ],
      "metadata": {
        "colab": {
          "base_uri": "https://localhost:8080/"
        },
        "id": "hfXodLW4T0Ct",
        "outputId": "08d4fdfb-60af-42b2-b869-497136c89118"
      },
      "execution_count": 32,
      "outputs": [
        {
          "output_type": "stream",
          "name": "stdout",
          "text": [
            "0\n",
            "10\n",
            "13\n",
            "3\n"
          ]
        }
      ]
    },
    {
      "cell_type": "markdown",
      "source": [
        "# 6. 가변 매개변수\n",
        "함수를 호출할 때 *를 사용하면 시퀀스(리스트, 튜플 등)의 요소를 개별적인 위치 인자로 풀어서 전달할 수 있습니다.\n"
      ],
      "metadata": {
        "id": "lX-cNzqXUOp-"
      }
    },
    {
      "cell_type": "code",
      "source": [
        "def func7(*args): # *지정시 함수에 요소를 몇개를 넣든 상관없다.\n",
        "    return args\n",
        "\n",
        "print(func7())\n",
        "print(func7(10))\n",
        "print(func7(10, 30, 50)) # 콤마로 나눠줘야 한다."
      ],
      "metadata": {
        "colab": {
          "base_uri": "https://localhost:8080/"
        },
        "id": "PTwTHEDvUtv1",
        "outputId": "bb6764dd-1911-4697-a6ec-97bb5384ceac"
      },
      "execution_count": 34,
      "outputs": [
        {
          "output_type": "stream",
          "name": "stdout",
          "text": [
            "()\n",
            "(10,)\n",
            "(10, 30, 50)\n"
          ]
        }
      ]
    },
    {
      "cell_type": "code",
      "source": [
        "def func8(a, b, c):\n",
        "    return a + b + c"
      ],
      "metadata": {
        "id": "J0qmL8g6ViDI"
      },
      "execution_count": 35,
      "outputs": []
    },
    {
      "cell_type": "code",
      "source": [
        "numbers = [1, 2, 3]\n",
        "print(func8(*numbers))    #함수에다가 지정하지 않아도 값을 넣을때 지정해도 된다."
      ],
      "metadata": {
        "colab": {
          "base_uri": "https://localhost:8080/"
        },
        "id": "KB007SO4VnQE",
        "outputId": "51519963-282f-43d7-e204-d7b5de73002d"
      },
      "execution_count": 36,
      "outputs": [
        {
          "output_type": "stream",
          "name": "stdout",
          "text": [
            "6\n"
          ]
        }
      ]
    },
    {
      "cell_type": "markdown",
      "source": [
        "# 7. 키워드 매개변수\n",
        "키워드 매개변수는 일반적으로 기본값이 설정된 매개변수와 함께 사용됩니다. 함수의 매개변수에 기본값을 설정하면, 함수를 호출할 때 해당 매개변수를 생략할 수 있습니다."
      ],
      "metadata": {
        "id": "FcyWSO0aV-xA"
      }
    },
    {
      "cell_type": "code",
      "source": [
        "def func9(id, name, age):\n",
        "    print(f'아이디: {id}')\n",
        "    print(f'이름: {name}')\n",
        "    print(f'나이: {age}')"
      ],
      "metadata": {
        "id": "soUoxFXHWBJN"
      },
      "execution_count": 37,
      "outputs": []
    },
    {
      "cell_type": "code",
      "source": [
        "func9('apple', '김사과', 20)\n",
        "\n",
        "func9('김사과', 20, 'apple')  # 순서가 다르면 다른 값이 나온다\n",
        "\n",
        "func9(age=30, id='orange', name='오렌지') # 각 요소를 하나씩 지정해주면 된다."
      ],
      "metadata": {
        "colab": {
          "base_uri": "https://localhost:8080/"
        },
        "id": "7pRkXEAfWaTg",
        "outputId": "2119992f-270c-4efb-af50-be1248632f9f"
      },
      "execution_count": 40,
      "outputs": [
        {
          "output_type": "stream",
          "name": "stdout",
          "text": [
            "아이디: apple\n",
            "이름: 김사과\n",
            "나이: 20\n",
            "아이디: 김사과\n",
            "이름: 20\n",
            "나이: apple\n",
            "아이디: orange\n",
            "이름: 오렌지\n",
            "나이: 30\n"
          ]
        }
      ]
    },
    {
      "cell_type": "code",
      "source": [
        "# 매개변수명과 딕셔너리의 키가 같아야함\n",
        "# 딕셔너리의 키는 반드시 문자열 형태\n",
        "dic1 = {'age':25, 'id':'banana', 'name':'반하나'}\n",
        "func9(**dic1)     # ** 두개일경우 딕셔너리로 보낸다는 뜻"
      ],
      "metadata": {
        "colab": {
          "base_uri": "https://localhost:8080/"
        },
        "id": "oBAjzjdLWSXc",
        "outputId": "b2a34855-93e4-4d81-fce4-1becadbede75"
      },
      "execution_count": 41,
      "outputs": [
        {
          "output_type": "stream",
          "name": "stdout",
          "text": [
            "아이디: banana\n",
            "이름: 반하나\n",
            "나이: 25\n"
          ]
        }
      ]
    },
    {
      "cell_type": "code",
      "source": [
        "# *의 데이터를 보낼 경우 키가 저장\n",
        "func9(*dic1)"
      ],
      "metadata": {
        "colab": {
          "base_uri": "https://localhost:8080/"
        },
        "id": "d8ER5hG3XNhx",
        "outputId": "2ac699a5-2bc3-4415-cfd7-3f177c65810e"
      },
      "execution_count": 42,
      "outputs": [
        {
          "output_type": "stream",
          "name": "stdout",
          "text": [
            "아이디: age\n",
            "이름: id\n",
            "나이: name\n"
          ]
        }
      ]
    },
    {
      "cell_type": "markdown",
      "source": [
        "# 8. 여러개의 반환 값"
      ],
      "metadata": {
        "id": "xKUEX-2BYIqq"
      }
    },
    {
      "cell_type": "code",
      "source": [
        "def func10(num1=0, num2=0):\n",
        "    return num1 + num2, num1 - num2, num1 * num2, num1 / num2   # 여러개의 반환값"
      ],
      "metadata": {
        "id": "xIhw76HOYJTU"
      },
      "execution_count": 43,
      "outputs": []
    },
    {
      "cell_type": "code",
      "source": [
        "result = func10(10, 3)\n",
        "print(result)   #튜플형태로 나온다."
      ],
      "metadata": {
        "colab": {
          "base_uri": "https://localhost:8080/"
        },
        "id": "1wrt8SSeYx09",
        "outputId": "2cbf643b-7f33-4be3-d292-622b64a5f43a"
      },
      "execution_count": 45,
      "outputs": [
        {
          "output_type": "stream",
          "name": "stdout",
          "text": [
            "(13, 7, 30, 3.3333333333333335)\n"
          ]
        }
      ]
    },
    {
      "cell_type": "code",
      "source": [
        "# 언패킹\n",
        "result1, result2, result3, result4 = func10(10 ,3)\n",
        "print(f'덧셈:{result1}')\n",
        "print(f'뺄셈:{result2}')\n",
        "print(f'곱셈:{result3}')\n",
        "print(f'나눗셈:{result4}')"
      ],
      "metadata": {
        "colab": {
          "base_uri": "https://localhost:8080/"
        },
        "id": "mkEr9l0qZEQ2",
        "outputId": "09e37a58-8c78-4497-bd79-a424a4f87e68"
      },
      "execution_count": 46,
      "outputs": [
        {
          "output_type": "stream",
          "name": "stdout",
          "text": [
            "덧셈:13\n",
            "뺄셈:7\n",
            "곱셈:30\n",
            "나눗셈:3.3333333333333335\n"
          ]
        }
      ]
    },
    {
      "cell_type": "code",
      "source": [
        "# 하나의 리턴값만 뽑아야 할 경우:\n",
        "_, _, result3, _ = func10(10, 3)\n",
        "print(f'곱셈: {result3}')"
      ],
      "metadata": {
        "colab": {
          "base_uri": "https://localhost:8080/"
        },
        "id": "p5SEPGJYZO1w",
        "outputId": "0476cfa8-16a1-4683-d1e9-abf8d34ebe80"
      },
      "execution_count": 51,
      "outputs": [
        {
          "output_type": "stream",
          "name": "stdout",
          "text": [
            "곱셈: 30\n"
          ]
        }
      ]
    },
    {
      "cell_type": "code",
      "source": [
        "li1 = [10, 20, 30, 40, 50]\n",
        "# i를 굳이 안만들어도 하나만 필요할때 _ 를 쓴다.\n",
        "for _, v in enumerate(li1):\n",
        "    print(f'값: {v}')"
      ],
      "metadata": {
        "colab": {
          "base_uri": "https://localhost:8080/"
        },
        "id": "XjXXBp7dZiXM",
        "outputId": "2a8610ff-037b-45ee-f733-c806b0898711"
      },
      "execution_count": 52,
      "outputs": [
        {
          "output_type": "stream",
          "name": "stdout",
          "text": [
            "값: 10\n",
            "값: 20\n",
            "값: 30\n",
            "값: 40\n",
            "값: 50\n"
          ]
        }
      ]
    },
    {
      "cell_type": "markdown",
      "source": [
        "# 9. 메모리 제거\n",
        "함수도 파이썬 객체이므로 참조 카운팅과 가비지 컬렉션의 원칙에 따라 동작합니다. 함수를 참조하는 변수나 요소가 없게 되면 해당 함수는 가비지 컬렉터에 의해 메모리에서 제거될 수 있습니다. del 명령어를 사용하여 함수에 대한 참조를 명시적으로 제거할 수 있습니다. 하지만 이것이 함수가 즉시 메모리에서 제거된다는 것을 보장하지는 않습니다."
      ],
      "metadata": {
        "id": "4pKqy2XBZ-sC"
      }
    },
    {
      "cell_type": "code",
      "source": [
        "def func1():\n",
        "    print('처음으로 만드는 함수')"
      ],
      "metadata": {
        "id": "chf-R2KFaBj9"
      },
      "execution_count": 54,
      "outputs": []
    },
    {
      "cell_type": "code",
      "source": [
        "del func1\n",
        "#메모리에서 삭제"
      ],
      "metadata": {
        "id": "XktCaforaFVI"
      },
      "execution_count": 55,
      "outputs": []
    },
    {
      "cell_type": "code",
      "source": [
        "# func1() # NameError: name 'func1' is not defined"
      ],
      "metadata": {
        "id": "VwRGCbxCaIDN"
      },
      "execution_count": 57,
      "outputs": []
    },
    {
      "cell_type": "markdown",
      "source": [
        "# 10. None의 특징\n",
        "None은 파이썬에서 특별한 값으로, 아무런 값이 없음을 표현하는 데 사용됩니다. 다른 언어에서의 null 또는 nil과 유사한 개념입니다. None은 파이썬의 내장 상수이며, 그 자체로 데이터 타입이 NoneType입니다. 모든 None은 동일하므로, 두 개의 None 값을 비교할 때 항상 True를 반환합니다.\n",
        "\n"
      ],
      "metadata": {
        "id": "sAMPbU96aLyj"
      }
    },
    {
      "cell_type": "markdown",
      "source": [
        "### 1. 변수를 초기화할 때 아무런 값이 할당되지 않았음을 나타내기 위해 None을 사용할 수 있습니다.\n"
      ],
      "metadata": {
        "id": "wErv8HRDaSev"
      }
    },
    {
      "cell_type": "code",
      "source": [
        "variable = None"
      ],
      "metadata": {
        "id": "nfIXCP-uakd1"
      },
      "execution_count": null,
      "outputs": []
    },
    {
      "cell_type": "markdown",
      "source": [
        "### 2. 함수에서 특정 조건에서 아무런 값도 반환하지 않아야 할 때 None을 사용합니다. 사실, 함수에서 return 문이 생략되거나 없으면 기본적으로 None을 반환합니다."
      ],
      "metadata": {
        "id": "lDwxEvM-ap37"
      }
    },
    {
      "cell_type": "code",
      "source": [
        "def my_function(x):\n",
        "    if x > 10:\n",
        "        return x\n",
        "    # x가 10 이하일 때는 아무런 값도 반환하지 않습니다. 실제로는 None이 반환됩니다."
      ],
      "metadata": {
        "id": "lxNccEJaaxDY"
      },
      "execution_count": 58,
      "outputs": []
    },
    {
      "cell_type": "code",
      "source": [
        "my_function(100)"
      ],
      "metadata": {
        "colab": {
          "base_uri": "https://localhost:8080/"
        },
        "id": "5CNSHJC2a2Wc",
        "outputId": "80251874-9b6f-4756-8ba5-1d8866ecfa7f"
      },
      "execution_count": 59,
      "outputs": [
        {
          "output_type": "execute_result",
          "data": {
            "text/plain": [
              "100"
            ]
          },
          "metadata": {},
          "execution_count": 59
        }
      ]
    },
    {
      "cell_type": "code",
      "source": [
        "my_function(0)\n",
        "#실제로는 None이 반환\n",
        "result = my_function(0)\n",
        "print(result)"
      ],
      "metadata": {
        "colab": {
          "base_uri": "https://localhost:8080/"
        },
        "id": "c6BgJR6xa3zR",
        "outputId": "7341700e-52c6-41e2-f67f-50b945ca6e6f"
      },
      "execution_count": 61,
      "outputs": [
        {
          "output_type": "stream",
          "name": "stdout",
          "text": [
            "None\n"
          ]
        }
      ]
    },
    {
      "cell_type": "markdown",
      "source": [
        "### 3. 함수의 매개변수에 기본값으로 None을 할당하여 선택적으로 인자를 전달받을 수 있게 만들 수 있습니다. None을 검사할 때는 == 대신 is 연산자를 사용하는 것이 좋습니다. is는 객체의 동일성을 검사하는 반면, ==는 객체의 동등성을 검사하기 때문입니다."
      ],
      "metadata": {
        "id": "Yi5aSQKdbDQ-"
      }
    },
    {
      "cell_type": "code",
      "source": [
        "def hello(message=None):\n",
        "    if message is None: # None을 검사할 때는 == 대신 is 연산자를 사용하는 것이 좋습니다 (is는 객체의 동일성을 검사)\n",
        "        print(\"Hello!\")\n",
        "    else:\n",
        "        print(message)"
      ],
      "metadata": {
        "id": "tgZFW3ITbO0t"
      },
      "execution_count": 63,
      "outputs": []
    },
    {
      "cell_type": "code",
      "source": [
        "hello('Hi')"
      ],
      "metadata": {
        "colab": {
          "base_uri": "https://localhost:8080/"
        },
        "id": "FN4JMBMAbQGe",
        "outputId": "53edb947-6e1c-46fa-cb5e-c4fe95786712"
      },
      "execution_count": 64,
      "outputs": [
        {
          "output_type": "stream",
          "name": "stdout",
          "text": [
            "Hi\n"
          ]
        }
      ]
    },
    {
      "cell_type": "code",
      "source": [
        "hello()"
      ],
      "metadata": {
        "colab": {
          "base_uri": "https://localhost:8080/"
        },
        "id": "jlH_agWUbTH4",
        "outputId": "96c8aad2-c878-41ba-f6aa-254bd7255e1c"
      },
      "execution_count": 65,
      "outputs": [
        {
          "output_type": "stream",
          "name": "stdout",
          "text": [
            "Hello!\n"
          ]
        }
      ]
    },
    {
      "cell_type": "code",
      "source": [
        "li1 = [1, 2, 3, 4, 5]\n",
        "li2 = [1, 2, 3, 4, 5]   # 값이 같아도 위에랑 같은 객체가 아니다.\n",
        "\n",
        "# 객체 비교\n",
        "result1 = li1 is li2    # 동일하지는 않다\n",
        "# 값 비교\n",
        "result2 = li1 == li2    # 값은 같다\n",
        "\n",
        "print(result1)\n",
        "print(result2)"
      ],
      "metadata": {
        "colab": {
          "base_uri": "https://localhost:8080/"
        },
        "id": "RlfxfmZabbuu",
        "outputId": "490a1ec2-66cb-4bb3-d207-8343b122d9cf"
      },
      "execution_count": 66,
      "outputs": [
        {
          "output_type": "stream",
          "name": "stdout",
          "text": [
            "False\n",
            "True\n"
          ]
        }
      ]
    },
    {
      "cell_type": "markdown",
      "source": [
        "### 4. 값의 존재 여부 확인: None을 사용하여 값의 존재 여부를 확인할 수 있습니다."
      ],
      "metadata": {
        "id": "xu9DG3m4b3XB"
      }
    },
    {
      "cell_type": "code",
      "source": [
        "# 값의 존재 여부 확인\n",
        "def get_data_from_database():\n",
        "    pass\n",
        "\n",
        "data = get_data_from_database()\n",
        "print(data)\n",
        "if data is None:\n",
        "    print('데이터를 수신하지 못함!')\n",
        "else:\n",
        "    print('데이터를 수신받음!')"
      ],
      "metadata": {
        "colab": {
          "base_uri": "https://localhost:8080/"
        },
        "id": "AZ-vie2Nb5Di",
        "outputId": "d17ada18-6d56-478e-b0f4-ddda3ddfea6e"
      },
      "execution_count": 67,
      "outputs": [
        {
          "output_type": "stream",
          "name": "stdout",
          "text": [
            "None\n",
            "데이터를 수신하지 못함!\n"
          ]
        }
      ]
    }
  ]
}