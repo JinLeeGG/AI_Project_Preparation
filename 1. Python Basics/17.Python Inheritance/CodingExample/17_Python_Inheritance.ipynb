{
  "nbformat": 4,
  "nbformat_minor": 0,
  "metadata": {
    "colab": {
      "provenance": [],
      "authorship_tag": "ABX9TyOoYcXAknT2t+xCjuuF9tI1",
      "include_colab_link": true
    },
    "kernelspec": {
      "name": "python3",
      "display_name": "Python 3"
    },
    "language_info": {
      "name": "python"
    }
  },
  "cells": [
    {
      "cell_type": "markdown",
      "metadata": {
        "id": "view-in-github",
        "colab_type": "text"
      },
      "source": [
        "<a href=\"https://colab.research.google.com/github/JinLeeGG/AI_Project_Preparation/blob/main/1.%20Python%20Basics/17.Python%20Inheritance/CodingExample/17_Python_Inheritance.ipynb\" target=\"_parent\"><img src=\"https://colab.research.google.com/assets/colab-badge.svg\" alt=\"Open In Colab\"/></a>"
      ]
    },
    {
      "cell_type": "markdown",
      "source": [
        "https://ryuzyproject.tistory.com/21"
      ],
      "metadata": {
        "id": "7JhSh5ESaUpW"
      }
    },
    {
      "cell_type": "markdown",
      "source": [
        "# 1. 상속\n",
        "파이썬 상속은 기존 클래스(부모 클래스)의 속성과 메서드를 새로운 클래스(자식 클래스)가 물려받아 코드의 재사용성과 확장성을 높이며, 자식 클래스에서 부모 클래스의 기능을 수정하거나 추가할 수 있는 기능을 제공한다. 또한 파이썬의 모든 클래스는 object라는 클래스로부터 상속받습니다.\n",
        "\n",
        "```\n",
        "class Parent:\n",
        "    pass\n",
        "\n",
        "class Child(Parent):\n",
        "    pass\n",
        "```"
      ],
      "metadata": {
        "id": "iXvIZb4kMOzx"
      }
    },
    {
      "cell_type": "code",
      "source": [
        "class Animal:\n",
        "    def __init__(self, name, age):\n",
        "        self.name = name\n",
        "        self.age = age\n",
        "\n",
        "    def eat(self, food):\n",
        "        print(f'{self.name} {food} 먹습니다.')\n",
        "\n",
        "    def sleep(self, hour):\n",
        "        print(f'{self.name} {hour}시간 동안 잠을 잡니다.')"
      ],
      "metadata": {
        "id": "jMoozjPxdF8E"
      },
      "execution_count": null,
      "outputs": []
    },
    {
      "cell_type": "code",
      "source": [
        "animal = Animal('동물', 10)\n",
        "animal.eat('먹이')\n",
        "animal.sleep(10)"
      ],
      "metadata": {
        "colab": {
          "base_uri": "https://localhost:8080/"
        },
        "id": "R6sL1oy3dd-B",
        "outputId": "3aedff33-1453-4dfb-e62b-370f99f0ff4b"
      },
      "execution_count": null,
      "outputs": [
        {
          "output_type": "stream",
          "name": "stdout",
          "text": [
            "동물 먹이 먹습니다.\n",
            "동물 10시간 동안 잠을 잡니다.\n"
          ]
        }
      ]
    },
    {
      "cell_type": "code",
      "source": [
        "class Dog(Animal):\n",
        "    pass            #animal을 상속한 빈 클래스를 만들어보자"
      ],
      "metadata": {
        "id": "carIyK67d16g"
      },
      "execution_count": null,
      "outputs": []
    },
    {
      "cell_type": "code",
      "source": [
        "# Animal 클래스를 상속 받았기 때문에 animal 클래스의 생성자 매개변수를 전달해야 함(자식 클래스의 생성자가 없을 경우)\n",
        "rucy = Dog('루시', 15)\n",
        "rucy.eat('사료')        #animal 기능을 다 가져온다.\n",
        "rucy.sleep(12)"
      ],
      "metadata": {
        "colab": {
          "base_uri": "https://localhost:8080/"
        },
        "id": "N_kT2Zedd-PB",
        "outputId": "b8c09891-4b06-4156-c196-3c584e6f8894"
      },
      "execution_count": null,
      "outputs": [
        {
          "output_type": "stream",
          "name": "stdout",
          "text": [
            "루시 사료 먹습니다.\n",
            "루시 12시간 동안 잠을 잡니다.\n"
          ]
        }
      ]
    },
    {
      "cell_type": "markdown",
      "source": [
        "# 2. 클래스 상속 시 생성자 호출 순서\n",
        "1. 자식 클래스(child class)의 생성자가 호출됩니다.\n",
        "2. 자식 클래스의 생성자에서 부모 클래스(parent class)의 생성자를 호출해야 합니다. 이를 위해 super() 함수를 사용합니다. super() 함수는 현재 클래스의 부모 클래스를 참조하며, 부모 클래스의 생성자를 호출할 수 있습니다.\n",
        "3. 부모 클래스의 생성자가 호출됩니다.\n",
        "4. 부모 클래스의 생성자가 실행을 마치면 자식 클래스의 생성자로 돌아가 자식 클래스의 생성자 코드가 실행됩니다."
      ],
      "metadata": {
        "id": "FeXRYgU7eP6D"
      }
    },
    {
      "cell_type": "code",
      "source": [
        "class Parent:\n",
        "    def __init__(self):\n",
        "        print('부모 클래스 생성자 호출')\n",
        "\n",
        "class Child(Parent):\n",
        "    def __init__(self):\n",
        "        print('child 클래스 생성자 호출')\n",
        "        super().__init__()    #부모 생성자 호출\n",
        "        print('모든 생성자 호출 완료')\n",
        "\n",
        "child = Child()"
      ],
      "metadata": {
        "colab": {
          "base_uri": "https://localhost:8080/"
        },
        "id": "23OYcN2oe2Rw",
        "outputId": "fe0cf5c6-c8e4-4f0c-eed8-359949e8120c"
      },
      "execution_count": null,
      "outputs": [
        {
          "output_type": "stream",
          "name": "stdout",
          "text": [
            "child 클래스 생성자 호출\n",
            "부모 클래스 생성자 호출\n",
            "모든 생성자 호출 완료\n"
          ]
        }
      ]
    },
    {
      "cell_type": "markdown",
      "source": [
        "# Object 클래스\n",
        "> Object 클래스는 파이썬에서 모든 클래스의 부모 클래스 역할을 하는 기본 클래스입니다. 파이썬에서 정의하는 모든 클래스는 자동으로 Object 클래스를 상속받습니다. 이를 통해 파이썬의 모든 객체는 Object 클래스에서 제공하는 기본적인 동작과 메서드를 사용할 수 있게 됩니다. 예를들어 __str__(), __repr__(), __eq__(), __hash__() 등이 있습니다.\n",
        "\n",
        "```\n",
        "class MyClass:\n",
        "    pass\n",
        "\n",
        "# 위의 코드는 다음과 동일합니다.\n",
        "class MyClass(object):\n",
        "    pass\n",
        "```"
      ],
      "metadata": {
        "id": "nUMliebVgKqs"
      }
    },
    {
      "cell_type": "markdown",
      "source": [
        "# 3. 메서드 오버라이딩\n",
        "메서드 오버라이딩(Method Overriding)은 객체 지향 프로그래밍에서 중요한 개념 중 하나로, 서브 클래스(자식 클래스)에서 슈퍼 클래스(부모 클래스)의 메서드를 재정의하는 것을 의미합니다. 오버라이딩을 사용하면, 서브 클래스에서 상속받은 메서드의 동작을 변경하거나 확장할 수 있습니다. 오버라이딩할 때, 메서드의 이름은 물론이고 매개변수의 타입과 개수도 일치해야 합니다. 반환 타입은 일치할 필요는 없지만, 일반적으로 같게 유지하는 것이 좋습니다."
      ],
      "metadata": {
        "id": "58yAFBWWgRgf"
      }
    },
    {
      "cell_type": "code",
      "source": [
        "class Animal:\n",
        "    def __init__(self, name, age):\n",
        "        self.name = name\n",
        "        self.age = age\n",
        "\n",
        "    def eat(self, food):\n",
        "        print(f'{self.name} {food} 먹습니다.')\n",
        "\n",
        "    def sleep(self, hour):\n",
        "        print(f'{self.name} {hour}시간 동안 잠을 잡니다.')\n",
        "\n",
        "class Dog(Animal):\n",
        "    def run(self):\n",
        "        print(f'{self.name} 달립니다.')\n",
        "\n",
        "    def eat(self, food):\n",
        "        print(f'{self.name} {food} 를 아주 맛있게 먹습니다.')\n",
        "\n",
        "    def superEat(self, food):\n",
        "        super().eat(food)"
      ],
      "metadata": {
        "id": "EIW70sa6g9fb"
      },
      "execution_count": null,
      "outputs": []
    },
    {
      "cell_type": "code",
      "source": [
        "rucy = Dog('rucy', 15)\n",
        "rucy.eat('사료') # 부모메서드를 오버라이드 한 메서드 사용가능\n",
        "rucy.superEat('사료') # super()를 사용해서 부모메서드 사용가능\n",
        "rucy.sleep(12)\n",
        "\n",
        "rucy.run() # 자식 메서드 사용가능"
      ],
      "metadata": {
        "colab": {
          "base_uri": "https://localhost:8080/"
        },
        "id": "pCOdCRHbhpaT",
        "outputId": "f521cc76-c21d-4c36-84ef-33848b9386b6"
      },
      "execution_count": null,
      "outputs": [
        {
          "output_type": "stream",
          "name": "stdout",
          "text": [
            "rucy 사료 를 아주 맛있게 먹습니다.\n",
            "rucy 사료 먹습니다.\n",
            "rucy 12시간 동안 잠을 잡니다.\n",
            "rucy 달립니다.\n"
          ]
        }
      ]
    },
    {
      "cell_type": "code",
      "source": [
        "animal = Animal('동물', 10)\n",
        "animal.eat('먹이')\n",
        "animal.sleep(10)\n",
        "# animal.run()  #부모는 자식의 메서드를 사용할 수 없다."
      ],
      "metadata": {
        "colab": {
          "base_uri": "https://localhost:8080/"
        },
        "id": "tJAnS7nNh29_",
        "outputId": "97acd400-c8c3-4696-bfef-8bb1489e827d"
      },
      "execution_count": null,
      "outputs": [
        {
          "output_type": "stream",
          "name": "stdout",
          "text": [
            "동물 먹이 먹습니다.\n",
            "동물 10시간 동안 잠을 잡니다.\n"
          ]
        }
      ]
    },
    {
      "cell_type": "markdown",
      "source": [
        "# 4. 다중 상속\n",
        "다중 상속은 클래스가 둘 이상의 부모 클래스로부터 상속을 받는 기능을 의미합니다. 파이썬은 다른 많은 객체 지향 언어와 달리 다중 상속을 지원합니다. 다중 상속을 사용하면 코드의 재사용성을 향상시킬 수 있지만, 동시에 복잡성이 높아지기 때문에 주의해야 합니다.\n",
        "\n",
        "```\n",
        "class Parent1:\n",
        "    pass\n",
        "\n",
        "class Parent2:\n",
        "    pass\n",
        "\n",
        "class Child(Parent1, Parent2):\n",
        "    pass\n",
        "```"
      ],
      "metadata": {
        "id": "TOPuZ2EdjHWD"
      }
    },
    {
      "cell_type": "code",
      "source": [
        "class Animal:\n",
        "    def __init__(self, name, age):\n",
        "        self.name = name\n",
        "        self.age = age\n",
        "\n",
        "    def eat(self, food):\n",
        "        print(f'{self.name} {food} 먹습니다.')\n",
        "\n",
        "    def sleep(self, hour):\n",
        "        print(f'{self.name} {hour}시간 동안 잠을 잡니다.')\n",
        "\n",
        "class Human:\n",
        "    def __init__(self, name, age):\n",
        "        self.name = name\n",
        "        self.age = age\n",
        "\n",
        "    def study(self, hour):\n",
        "        print(f'{self.name} {hour} 동안 공부를 합니다.')\n",
        "\n",
        "    def sleep(self, hour):\n",
        "        print(f'{self.name} {hour}시간 동안 꿀잠을 잡니다.')\n",
        "\n",
        "class Kim(Animal, Human):   #Animal 과 Human 둘다 상속받음.\n",
        "    pass"
      ],
      "metadata": {
        "id": "Fm8Z4pIpjLv9"
      },
      "execution_count": null,
      "outputs": []
    },
    {
      "cell_type": "code",
      "source": [
        "kim = Kim('김사과', 20)\n",
        "kim.eat('밥')   # eat은 animal 에만 있다.\n",
        "kim.study(2)    # study는 human 에만 있다.\n",
        "kim.sleep(8)    # sleep은 둘다 가지고 있는데 animal에서 가져온다.\n",
        "\n",
        "print(Kim.mro()) # 상속의 순서를 반환시켜준다."
      ],
      "metadata": {
        "id": "ssmJxSU3j_J4",
        "colab": {
          "base_uri": "https://localhost:8080/"
        },
        "outputId": "fa1e7241-9c05-44b7-e752-f9428776dda5"
      },
      "execution_count": null,
      "outputs": [
        {
          "output_type": "stream",
          "name": "stdout",
          "text": [
            "김사과 밥 먹습니다.\n",
            "김사과 2 동안 공부를 합니다.\n",
            "김사과 8시간 동안 잠을 잡니다.\n",
            "[<class '__main__.Kim'>, <class '__main__.Animal'>, <class '__main__.Human'>, <class 'object'>]\n"
          ]
        }
      ]
    },
    {
      "cell_type": "markdown",
      "source": [
        "# 5. super() 메소드\n",
        "super()는 파이썬의 내장 함수로서, 상속과 관련된 작업을 수행할 때 사용됩니다. 특히, 자식 클래스에서 부모 클래스의 메서드를 호출할 때 사용됩니다. super()의 주요 목적은 자식 클래스에서 부모 클래스의 메서드를 오버라이드(재정의)하면서도 그 오버라이드된 메서드 내에서 부모 클래스의 원본 메서드를 호출하는 것입니다."
      ],
      "metadata": {
        "id": "EyRy4dktlM6H"
      }
    },
    {
      "cell_type": "code",
      "source": [
        "class Parent:\n",
        "    def hello(self):\n",
        "        print('부모 클래스의 hello 메서드')\n",
        "\n",
        "class Child(Parent):\n",
        "    def hello(self):\n",
        "        super().hello()\n",
        "        print('자식 클래스의 hello 메서드')"
      ],
      "metadata": {
        "id": "8nwCu5_SlPcv"
      },
      "execution_count": null,
      "outputs": []
    },
    {
      "cell_type": "code",
      "source": [
        "child = Child()\n",
        "child.hello() # 순서상 부모(super) 를 먼저 부르고 자식을 부른다."
      ],
      "metadata": {
        "colab": {
          "base_uri": "https://localhost:8080/"
        },
        "id": "W3PsxD_vlhWr",
        "outputId": "830ec16b-d942-4b9f-afbd-6832ee311e62"
      },
      "execution_count": null,
      "outputs": [
        {
          "output_type": "stream",
          "name": "stdout",
          "text": [
            "부모 클래스의 hello 메서드\n",
            "자식 클래스의 hello 메서드\n"
          ]
        }
      ]
    },
    {
      "cell_type": "code",
      "source": [
        "class Parent:\n",
        "    def __init__(self, value):\n",
        "        self.value = value\n",
        "\n",
        "class Child(Parent):\n",
        "    def __init__(self, value, child_value):\n",
        "        super().__init__(value)\n",
        "        self.child_value = child_value"
      ],
      "metadata": {
        "id": "ga3esvAjlxMl"
      },
      "execution_count": null,
      "outputs": []
    },
    {
      "cell_type": "code",
      "source": [
        "child = Child(10, 20)\n",
        "print(child.value)\n",
        "print(child.child_value)"
      ],
      "metadata": {
        "colab": {
          "base_uri": "https://localhost:8080/"
        },
        "id": "0Pt8xpvUl_wn",
        "outputId": "795aea7c-5bb2-4e6f-a9ff-187d0f9caa49"
      },
      "execution_count": null,
      "outputs": [
        {
          "output_type": "stream",
          "name": "stdout",
          "text": [
            "10\n",
            "20\n"
          ]
        }
      ]
    },
    {
      "cell_type": "markdown",
      "source": [
        "# MRO\n",
        "MRO(Method Resolution Order)는 파이썬에서 다중 상속을 사용할 때, 메서드나 속성을 찾는 순서를 정의하는 규칙입니다. MRO는 특히 여러 부모 클래스를 상속받는 경우에 어떤 부모 클래스에서 메서드를 먼저 찾을지를 결정하며, 이를 통해 클래스 간의 메서드 충돌을 해결할 수 있습니다."
      ],
      "metadata": {
        "id": "TypUzHaom47-"
      }
    },
    {
      "cell_type": "code",
      "source": [
        "class Base:\n",
        "    def hello(self):\n",
        "        print('Base의 hello()')\n",
        "        print('Base 클래스의 hello() 메서드')\n",
        "\n",
        "class A(Base):\n",
        "    def hello(self):\n",
        "        print('A의 hello()')\n",
        "        super().hello()\n",
        "        print('A 클래스의 hello() 메서드')\n",
        "\n",
        "class B(Base):\n",
        "    def hello(self):\n",
        "        print('B의 hello()')\n",
        "        super().hello()\n",
        "        print('B 클래스의 hello() 메서드')\n",
        "\n",
        "class Child(A, B):\n",
        "    def hello(self):\n",
        "        print('Child의 hello()')\n",
        "        super().hello()\n",
        "        print('Child 클래스의 hello() 메서드')"
      ],
      "metadata": {
        "id": "xLEbDzZNm6AE"
      },
      "execution_count": null,
      "outputs": []
    },
    {
      "cell_type": "code",
      "source": [
        "child = Child()\n",
        "child.hello()"
      ],
      "metadata": {
        "colab": {
          "base_uri": "https://localhost:8080/"
        },
        "id": "a2kkpMAnpQuH",
        "outputId": "5eaa5edc-9aef-4574-c0d7-814353d666f0"
      },
      "execution_count": null,
      "outputs": [
        {
          "output_type": "stream",
          "name": "stdout",
          "text": [
            "Child의 hello()\n",
            "A의 hello()\n",
            "B의 hello()\n",
            "Base의 hello()\n",
            "Base 클래스의 hello() 메서드\n",
            "B 클래스의 hello() 메서드\n",
            "A 클래스의 hello() 메서드\n",
            "Child 클래스의 hello() 메서드\n"
          ]
        }
      ]
    },
    {
      "cell_type": "code",
      "source": [
        "Child.mro()"
      ],
      "metadata": {
        "colab": {
          "base_uri": "https://localhost:8080/"
        },
        "id": "KkagZDLqp2JU",
        "outputId": "0cf85c43-2563-4b32-d190-3ab57191cc0b"
      },
      "execution_count": null,
      "outputs": [
        {
          "output_type": "execute_result",
          "data": {
            "text/plain": [
              "[__main__.Child, __main__.A, __main__.B, __main__.Base, object]"
            ]
          },
          "metadata": {},
          "execution_count": 55
        }
      ]
    }
  ]
}