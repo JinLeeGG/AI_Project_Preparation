{
  "nbformat": 4,
  "nbformat_minor": 0,
  "metadata": {
    "colab": {
      "provenance": [],
      "authorship_tag": "ABX9TyN1nIekamBujwlJNuvdunMx",
      "include_colab_link": true
    },
    "kernelspec": {
      "name": "python3",
      "display_name": "Python 3"
    },
    "language_info": {
      "name": "python"
    }
  },
  "cells": [
    {
      "cell_type": "markdown",
      "metadata": {
        "id": "view-in-github",
        "colab_type": "text"
      },
      "source": [
        "<a href=\"https://colab.research.google.com/github/JinLeeGG/AI_Project_Preparation/blob/main/1.%20Python%20Basics/17.Python%20Inheritance/CodingExample/Python_Inheritance_Practice.ipynb\" target=\"_parent\"><img src=\"https://colab.research.google.com/assets/colab-badge.svg\" alt=\"Open In Colab\"/></a>"
      ]
    },
    {
      "cell_type": "markdown",
      "source": [
        "# Class Inheritance example"
      ],
      "metadata": {
        "id": "3xWVoZwiVqJn"
      }
    },
    {
      "cell_type": "code",
      "execution_count": 2,
      "metadata": {
        "id": "2uQXnkF2SkYm"
      },
      "outputs": [],
      "source": [
        "# Declaring new Animal Class\n",
        "class Animal:\n",
        "    # Constructor method\n",
        "    def __init__(self, name, age):\n",
        "        # instance variables\n",
        "        self.name = name\n",
        "        self.age = age\n",
        "\n",
        "    # methods(member functions)\n",
        "    def eat(self, food):\n",
        "        print(f'{self.name} is eating {food}')\n",
        "\n",
        "    def sleep(self, hour):\n",
        "        print(f'{self.name} is sleeping {hour} hours')"
      ]
    },
    {
      "cell_type": "code",
      "source": [
        "animal = Animal('Animal', 10)\n",
        "animal.eat('food')\n",
        "animal.sleep(10)"
      ],
      "metadata": {
        "colab": {
          "base_uri": "https://localhost:8080/"
        },
        "id": "XHVnQqIrTSUh",
        "outputId": "3a279364-782f-4137-9a67-e6654f30979f"
      },
      "execution_count": 5,
      "outputs": [
        {
          "output_type": "stream",
          "name": "stdout",
          "text": [
            "Animal is eating food\n",
            "Animal is sleeping 10 hours\n"
          ]
        }
      ]
    },
    {
      "cell_type": "code",
      "source": [
        "class Dog(Animal): # Dog class is inheriting animal class\n",
        "    pass"
      ],
      "metadata": {
        "id": "351r4Om6TZ8R"
      },
      "execution_count": 6,
      "outputs": []
    },
    {
      "cell_type": "code",
      "source": [
        "rucy = Dog('Rucy', 15)\n",
        "rucy.eat('food')  # possible to use methods from Animal class\n",
        "rucy.sleep(12)"
      ],
      "metadata": {
        "colab": {
          "base_uri": "https://localhost:8080/"
        },
        "id": "7wU4RFGQVNqQ",
        "outputId": "6f668e99-80f6-4f1e-c9ed-9c8ba2b8ca88"
      },
      "execution_count": 7,
      "outputs": [
        {
          "output_type": "stream",
          "name": "stdout",
          "text": [
            "Rucy is eating food\n",
            "Rucy is sleeping 12 hours\n"
          ]
        }
      ]
    },
    {
      "cell_type": "markdown",
      "source": [
        "# Constructor Order for class inheritance"
      ],
      "metadata": {
        "id": "IBUIhR24WHow"
      }
    },
    {
      "cell_type": "code",
      "source": [
        "class Parent:\n",
        "    def __init__(self):\n",
        "        print('calling parent constructor')\n",
        "\n",
        "class Child(Parent):\n",
        "    def __init__(self):\n",
        "        print('callig child class constructor')\n",
        "        super().__init__() #Calling Parent constructor\n",
        "        print('All constructor called!!')\n",
        "\n",
        "child = Child()"
      ],
      "metadata": {
        "colab": {
          "base_uri": "https://localhost:8080/"
        },
        "id": "AksiMXnVVbR2",
        "outputId": "30dfe352-1b85-4ad3-c2ed-9e1cd424b0df"
      },
      "execution_count": 8,
      "outputs": [
        {
          "output_type": "stream",
          "name": "stdout",
          "text": [
            "callig child class constructor\n",
            "calling parent constructor\n",
            "All constructor called!!\n"
          ]
        }
      ]
    },
    {
      "cell_type": "markdown",
      "source": [
        "# Method Overriding"
      ],
      "metadata": {
        "id": "ng2mXLy_Wphu"
      }
    },
    {
      "cell_type": "code",
      "source": [
        "# Declaring new Animal Class\n",
        "class Animal:\n",
        "    # Constructor method\n",
        "    def __init__(self, name, age):\n",
        "        # instance variables\n",
        "        self.name = name\n",
        "        self.age = age\n",
        "\n",
        "    # methods(member functions)\n",
        "    def eat(self, food):\n",
        "        print(f'{self.name} is eating {food}')\n",
        "\n",
        "    def sleep(self, hour):\n",
        "        print(f'{self.name} is sleeping {hour} hours')\n",
        "\n",
        "class Dog(Animal):\n",
        "    def run(self):\n",
        "        print(f'{self.name} is running')\n",
        "\n",
        "    def eat(self, food):\n",
        "        print(f'{self.name} is eating {food} real good')\n",
        "\n",
        "    def superEat(self, food):\n",
        "        super().eat(food)"
      ],
      "metadata": {
        "id": "Q7cxV28oWlcw"
      },
      "execution_count": 9,
      "outputs": []
    },
    {
      "cell_type": "code",
      "source": [
        "rucy = Dog('rucy', 15)\n",
        "rucy.eat('Dog food') # Overriding parent method\n",
        "rucy.superEat('Dog food') # use parent method\n",
        "rucy.sleep(12)  # also can use parent mthod\n",
        "\n",
        "rucy.run() # use child method"
      ],
      "metadata": {
        "colab": {
          "base_uri": "https://localhost:8080/"
        },
        "id": "ZzDfvadPXLwW",
        "outputId": "df5d3a1b-206a-4ef2-c21f-d6b8b3261aa8"
      },
      "execution_count": 13,
      "outputs": [
        {
          "output_type": "stream",
          "name": "stdout",
          "text": [
            "rucy is eating Dog food real good\n",
            "rucy is eating Dog food\n",
            "rucy is sleeping 12 hours\n",
            "rucy is running\n"
          ]
        }
      ]
    },
    {
      "cell_type": "code",
      "source": [
        "animal = Animal('Animal', 10)\n",
        "animal.eat('food')\n",
        "animal.sleep(10)\n",
        "# animal.run() # parent cannot use child method"
      ],
      "metadata": {
        "colab": {
          "base_uri": "https://localhost:8080/"
        },
        "id": "gXMWNSBvXqnn",
        "outputId": "0a5b7586-5e1e-4960-f262-3e37334a87ac"
      },
      "execution_count": 14,
      "outputs": [
        {
          "output_type": "stream",
          "name": "stdout",
          "text": [
            "Animal is eating food\n",
            "Animal is sleeping 10 hours\n"
          ]
        }
      ]
    },
    {
      "cell_type": "markdown",
      "source": [
        "# Multiple Inheritance"
      ],
      "metadata": {
        "id": "ZpM6nzrVX-IM"
      }
    },
    {
      "cell_type": "code",
      "source": [
        "# Declaring new Animal Class\n",
        "class Animal:\n",
        "    # Constructor method\n",
        "    def __init__(self, name, age):\n",
        "        # instance variables\n",
        "        self.name = name\n",
        "        self.age = age\n",
        "\n",
        "    # methods(member functions)\n",
        "    def eat(self, food):\n",
        "        print(f'{self.name} is eating {food}')\n",
        "\n",
        "    def sleep(self, hour):\n",
        "        print(f'{self.name} is sleeping {hour} hours')\n",
        "\n",
        "class Human:\n",
        "    def __init__(self, name, age):\n",
        "        self.name = name\n",
        "        self.age = age\n",
        "\n",
        "    def study(self, hour):\n",
        "        print(f'{self.name} is studying {hour} hours')\n",
        "\n",
        "    def sleep(self, hour):\n",
        "        print(f'{self.name} is sleeping really good for {hour} hours')\n",
        "\n",
        "class Kim(Animal, Human): # Inheriting both animal and human\n",
        "    pass"
      ],
      "metadata": {
        "id": "8pSltKD7X7sb"
      },
      "execution_count": 16,
      "outputs": []
    },
    {
      "cell_type": "code",
      "source": [
        "kim = Kim('Mr.Kim', 20)\n",
        "kim.eat('rice') # eat method is only in animal class\n",
        "kim.study(2)    # study method is only in human class\n",
        "kim.sleep(8)    # both class contains sleep method but brought from animal class\n",
        "\n",
        "print(Kim.mro()) # shows an order of inheritance"
      ],
      "metadata": {
        "colab": {
          "base_uri": "https://localhost:8080/"
        },
        "id": "LpdwfDb-ZN6D",
        "outputId": "76c90d60-1408-4dc7-a57a-cddbc350a780"
      },
      "execution_count": 18,
      "outputs": [
        {
          "output_type": "stream",
          "name": "stdout",
          "text": [
            "Mr.Kim is eating rice\n",
            "Mr.Kim is studying 2 hours\n",
            "Mr.Kim is sleeping 8 hours\n",
            "[<class '__main__.Kim'>, <class '__main__.Animal'>, <class '__main__.Human'>, <class 'object'>]\n"
          ]
        }
      ]
    },
    {
      "cell_type": "markdown",
      "source": [
        "# Super() method"
      ],
      "metadata": {
        "id": "sqUbuXHFZnRY"
      }
    },
    {
      "cell_type": "code",
      "source": [
        "class Parent:\n",
        "    def hello(self):\n",
        "        print('calling hello method from parent class')\n",
        "\n",
        "class Child(Parent):\n",
        "    def hello(self):\n",
        "        super().hello()\n",
        "        print('calling hello method from child class')"
      ],
      "metadata": {
        "id": "4NmpPtEDZt3_"
      },
      "execution_count": 20,
      "outputs": []
    },
    {
      "cell_type": "code",
      "source": [
        "child = Child()\n",
        "child.hello()"
      ],
      "metadata": {
        "colab": {
          "base_uri": "https://localhost:8080/"
        },
        "id": "5EQdKyAPaATr",
        "outputId": "493120a1-c367-406e-ce59-d435191f984e"
      },
      "execution_count": 21,
      "outputs": [
        {
          "output_type": "stream",
          "name": "stdout",
          "text": [
            "calling hello method from parent class\n",
            "calling hello method from child class\n"
          ]
        }
      ]
    },
    {
      "cell_type": "code",
      "source": [
        "class Parent:\n",
        "    def __init__(self, value):\n",
        "        self.value = value\n",
        "\n",
        "class Child(Parent):\n",
        "    def __init__(self, value, child_value):\n",
        "        super().__init__(value) # Inheriting and initializing parent instance variables\n",
        "        self.child_value = child_value"
      ],
      "metadata": {
        "id": "tJQ3_wUQaE2m"
      },
      "execution_count": 22,
      "outputs": []
    },
    {
      "cell_type": "code",
      "source": [
        "child = Child(10, 20)\n",
        "print(child.value)\n",
        "print(child.child_value)"
      ],
      "metadata": {
        "colab": {
          "base_uri": "https://localhost:8080/"
        },
        "id": "EwrKmDO0bXh9",
        "outputId": "cb9c34d1-62d8-42a2-f96b-bfd8a178235c"
      },
      "execution_count": 23,
      "outputs": [
        {
          "output_type": "stream",
          "name": "stdout",
          "text": [
            "10\n",
            "20\n"
          ]
        }
      ]
    },
    {
      "cell_type": "markdown",
      "source": [
        "# MRO"
      ],
      "metadata": {
        "id": "aIt5ZdImbmqw"
      }
    },
    {
      "cell_type": "code",
      "source": [
        "class Base:\n",
        "    def hello(self):\n",
        "        print('Base class hello()')\n",
        "        print('Base class hello() method')\n",
        "\n",
        "class A(Base):\n",
        "    def hello(self):\n",
        "        print('A class hello()')\n",
        "        super().hello()\n",
        "        print('A class hello() method')\n",
        "\n",
        "class B(Base):\n",
        "    def hello(self):\n",
        "        print('B class hello()')\n",
        "        super().hello()\n",
        "        print('B class hello() method')\n",
        "\n",
        "class Child(A, B):\n",
        "    def hello(self):\n",
        "        print('Child class hello()')\n",
        "        super().hello()\n",
        "        print('Child class hello() method')"
      ],
      "metadata": {
        "id": "9SUBpdrqbpWp"
      },
      "execution_count": 25,
      "outputs": []
    },
    {
      "cell_type": "code",
      "source": [
        "child = Child()\n",
        "child.hello()"
      ],
      "metadata": {
        "colab": {
          "base_uri": "https://localhost:8080/"
        },
        "id": "-BvvqG8lcgFM",
        "outputId": "ecd5c4fb-9c4d-4495-ec8a-19e71400d885"
      },
      "execution_count": 26,
      "outputs": [
        {
          "output_type": "stream",
          "name": "stdout",
          "text": [
            "Child class hello()\n",
            "A class hello()\n",
            "B class hello()\n",
            "Base class hello()\n",
            "Base class hello() method\n",
            "B class hello() method\n",
            "A class hello() method\n",
            "Child class hello() method\n"
          ]
        }
      ]
    },
    {
      "cell_type": "code",
      "source": [
        "Child.mro()"
      ],
      "metadata": {
        "colab": {
          "base_uri": "https://localhost:8080/"
        },
        "id": "76JdJrTdcsmi",
        "outputId": "b79838da-2a4c-408c-bd0a-1b970f013d67"
      },
      "execution_count": 27,
      "outputs": [
        {
          "output_type": "execute_result",
          "data": {
            "text/plain": [
              "[__main__.Child, __main__.A, __main__.B, __main__.Base, object]"
            ]
          },
          "metadata": {},
          "execution_count": 27
        }
      ]
    }
  ]
}