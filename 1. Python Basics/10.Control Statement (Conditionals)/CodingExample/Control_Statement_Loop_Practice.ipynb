{
  "nbformat": 4,
  "nbformat_minor": 0,
  "metadata": {
    "colab": {
      "provenance": [],
      "authorship_tag": "ABX9TyMJHVERed6ogW5dSY5yefCq",
      "include_colab_link": true
    },
    "kernelspec": {
      "name": "python3",
      "display_name": "Python 3"
    },
    "language_info": {
      "name": "python"
    }
  },
  "cells": [
    {
      "cell_type": "markdown",
      "metadata": {
        "id": "view-in-github",
        "colab_type": "text"
      },
      "source": [
        "<a href=\"https://colab.research.google.com/github/JinLeeGG/AI_Project_Preparation/blob/main/1.%20Python%20Basics/10.Control%20Statement%20(Conditionals)/CodingExample/Control_Statement_Loop_Practice.ipynb\" target=\"_parent\"><img src=\"https://colab.research.google.com/assets/colab-badge.svg\" alt=\"Open In Colab\"/></a>"
      ]
    },
    {
      "cell_type": "code",
      "execution_count": 1,
      "metadata": {
        "colab": {
          "base_uri": "https://localhost:8080/"
        },
        "id": "82iQkEQG2MvS",
        "outputId": "105c641b-3d25-4098-8de3-a662d5ce3cb4"
      },
      "outputs": [
        {
          "output_type": "stream",
          "name": "stdout",
          "text": [
            "Result is True\n",
            "Exit program\n"
          ]
        }
      ],
      "source": [
        "if True:\n",
        "    print('Result is True')\n",
        "print('Exit program')"
      ]
    },
    {
      "cell_type": "code",
      "source": [
        "if False:\n",
        "    print('Result is True') # Result is True, Therefore does not print\n",
        "print('Exit program')"
      ],
      "metadata": {
        "colab": {
          "base_uri": "https://localhost:8080/"
        },
        "id": "F9nVYZc3kG3E",
        "outputId": "e469f129-dc28-4e79-a492-253b0e13f2b5"
      },
      "execution_count": 2,
      "outputs": [
        {
          "output_type": "stream",
          "name": "stdout",
          "text": [
            "Exit program\n"
          ]
        }
      ]
    },
    {
      "cell_type": "code",
      "source": [
        "if 'Hello': # filled string is considered as True\n",
        "  print('result is True')\n",
        "print('exiting program')"
      ],
      "metadata": {
        "colab": {
          "base_uri": "https://localhost:8080/"
        },
        "id": "BHQEj16WkO-e",
        "outputId": "b3a9124f-67af-41ee-e80e-14da778b3c5d"
      },
      "execution_count": 4,
      "outputs": [
        {
          "output_type": "stream",
          "name": "stdout",
          "text": [
            "result is True\n",
            "exiting program\n"
          ]
        }
      ]
    },
    {
      "cell_type": "code",
      "source": [
        "if '':  #empty string is False\n",
        "    print('result is True')\n",
        "print('exit program')"
      ],
      "metadata": {
        "colab": {
          "base_uri": "https://localhost:8080/"
        },
        "id": "5GmpaQoakcJ_",
        "outputId": "a4c01d71-36bb-4d8b-a8ac-86e53cb7a39a"
      },
      "execution_count": 7,
      "outputs": [
        {
          "output_type": "stream",
          "name": "stdout",
          "text": [
            "exit program\n"
          ]
        }
      ]
    },
    {
      "cell_type": "code",
      "source": [
        "age = int(input('insert age: '))\n",
        "\n",
        "if age > 19:\n",
        "  print('An adult')\n",
        "print('inserted age: ', age)"
      ],
      "metadata": {
        "colab": {
          "base_uri": "https://localhost:8080/"
        },
        "id": "V0o7qI8Wlevp",
        "outputId": "2f49d312-5b83-42ca-a77f-7f00f500c90c"
      },
      "execution_count": 8,
      "outputs": [
        {
          "output_type": "stream",
          "name": "stdout",
          "text": [
            "insert age: 20\n",
            "An adult\n",
            "inserted age:  20\n"
          ]
        }
      ]
    },
    {
      "cell_type": "code",
      "source": [
        "age = int(input('insert age: '))\n",
        "\n",
        "if age > 19:\n",
        "  print('An adult')\n",
        "  print('able to watch R-rated on Netflix')\n",
        "print('inserted age: ', age)"
      ],
      "metadata": {
        "colab": {
          "base_uri": "https://localhost:8080/"
        },
        "id": "3weMMBK3lxg3",
        "outputId": "e332d6dd-26c9-4e7f-e405-07e1d54f52ce"
      },
      "execution_count": 9,
      "outputs": [
        {
          "output_type": "stream",
          "name": "stdout",
          "text": [
            "insert age: 20\n",
            "An adult\n",
            "able to watch R-rated on Netflix\n",
            "inserted age:  20\n"
          ]
        }
      ]
    },
    {
      "cell_type": "code",
      "source": [
        "# else statement\n",
        "\n",
        "age = int(input('insert age: '))\n",
        "\n",
        "if age > 19:\n",
        "  print('An adult')\n",
        "  print('able to watch R-rated on Netflix')\n",
        "else:\n",
        "  print('minor')\n",
        "  print('watch disney')\n",
        "\n",
        "print('inserted age: ', age)"
      ],
      "metadata": {
        "colab": {
          "base_uri": "https://localhost:8080/"
        },
        "id": "LcSGTLtDl4wI",
        "outputId": "3ee563e9-4be1-4953-8816-2c5147526a88"
      },
      "execution_count": 11,
      "outputs": [
        {
          "output_type": "stream",
          "name": "stdout",
          "text": [
            "insert age: 10\n",
            "minor\n",
            "watch disney\n",
            "inserted age:  10\n"
          ]
        }
      ]
    },
    {
      "cell_type": "code",
      "source": [
        "# elif statement\n",
        "\n",
        "age = int(input('insert Age: '))\n",
        "\n",
        "if age > 19:\n",
        "    print('adult.')\n",
        "elif age > 14:\n",
        "    print('youth.')\n",
        "elif age > 6:\n",
        "    print('child.')\n",
        "elif age > 0:\n",
        "    print('toddler.')\n",
        "else:\n",
        "    print('check insert')\n",
        "\n",
        "print('Inserted Age: ', age)"
      ],
      "metadata": {
        "colab": {
          "base_uri": "https://localhost:8080/"
        },
        "id": "jtl2U1xMmEUk",
        "outputId": "c4da0207-acf2-4a07-c372-87e7bd97c5ff"
      },
      "execution_count": 13,
      "outputs": [
        {
          "output_type": "stream",
          "name": "stdout",
          "text": [
            "insert Age: 1\n",
            "toddler.\n",
            "Inserted Age:  1\n"
          ]
        }
      ]
    },
    {
      "cell_type": "code",
      "source": [
        "# Checking for length of id\n",
        "# Walrus Operator(x := expression)\n",
        "# (variable := expression)\n",
        "# apply the result of expression in variable and use that value at the same time\n",
        "\n",
        "text = input('insert id')\n",
        "\n",
        "if(length := len(text)) < 3:\n",
        "    print(f\"ID is too short. (length of id: {length})\")\n",
        "else:\n",
        "    print(f'ID {text} is usable.')\n"
      ],
      "metadata": {
        "colab": {
          "base_uri": "https://localhost:8080/"
        },
        "id": "FIjYjr7HpP53",
        "outputId": "7e378ca3-fe53-4691-8290-360f9eef3135"
      },
      "execution_count": 16,
      "outputs": [
        {
          "output_type": "stream",
          "name": "stdout",
          "text": [
            "insert idss\n",
            "ID is too short. (length of id: 2)\n"
          ]
        }
      ]
    },
    {
      "cell_type": "code",
      "source": [
        "# Make Login Program\n",
        "# ID : admin, Password : 1234\n",
        "userid = input('Insert ID')\n",
        "userpw = input('insert Password')\n",
        "\n",
        "if userid == 'admin' and userpw == '1234':\n",
        "    print('logined')\n",
        "else:\n",
        "    print('check your id or password.')\n"
      ],
      "metadata": {
        "colab": {
          "base_uri": "https://localhost:8080/"
        },
        "id": "ujnw6BVUrHkz",
        "outputId": "ff46d247-cb00-4aba-cc9b-c760d45c7c0b"
      },
      "execution_count": 18,
      "outputs": [
        {
          "output_type": "stream",
          "name": "stdout",
          "text": [
            "Insert IDadmin\n",
            "insert Password1234\n",
            "logined\n"
          ]
        }
      ]
    },
    {
      "cell_type": "code",
      "source": [
        "# 주민등록번호에 의한 성별을 판별하는 프로그램 만들기\n",
        "# 0010113068518\\\n",
        "# 숫자로 받는순간 앞에 붙은 0은 사라지기때문에 문자열로 받는다.\n",
        "juminNo = input('주민들록번호 13자리를 -없이 입력하세요')\n",
        "\n",
        "if juminNo[6] == '1' or juminNo[6] == '3' or juminNo[6] == '5' or juminNo[6] == '7' or juminNo[6] == '9':\n",
        "    print('남자')\n",
        "else:\n",
        "    print('여자')"
      ],
      "metadata": {
        "colab": {
          "base_uri": "https://localhost:8080/"
        },
        "id": "c_QvHSivrnBc",
        "outputId": "66c42a94-7ace-4293-f91b-cf64948fc95e"
      },
      "execution_count": 19,
      "outputs": [
        {
          "output_type": "stream",
          "name": "stdout",
          "text": [
            "주민들록번호 13자리를 -없이 입력하세요321312321312\n",
            "남자\n"
          ]
        }
      ]
    },
    {
      "cell_type": "code",
      "source": [
        "print(\"MBTI 간단 성격 유형 검사에 오신 걸 환영합니다!\")\n",
        "\n",
        "# 첫 번째 질문: 외향/내향\n",
        "answer1 = input(\"Q1. 새로운 사람들과 만나는 걸 좋아하시나요? (y/n): \")\n",
        "if answer1.lower() == 'y':\n",
        "    # 외향형으로 진행\n",
        "    print(\"외향형으로 분석 중...\")\n",
        "    answer2 = input(\"Q2. 주변 환경에 대해 자주 인지하고 있나요? (y/n): \")\n",
        "\n",
        "    if answer2.lower() == 'y':\n",
        "        # 감각형(외향, 감각)\n",
        "        answer3 = input(\"Q3. 계획을 세우는 것을 좋아하시나요? (y/n): \")\n",
        "        if answer3.lower() == 'y':\n",
        "            print(\"당신의 성격 유형은 ESTJ입니다!\")\n",
        "        else:\n",
        "            print(\"당신의 성격 유형은 ESFP입니다!\")\n",
        "    else:\n",
        "        # 직관형(외향, 직관)\n",
        "        answer3 = input(\"Q3. 큰 그림을 보는 것을 좋아하시나요? (y/n): \")\n",
        "        if answer3.lower() == 'y':\n",
        "            print(\"당신의 성격 유형은 ENFP입니다!\")\n",
        "        else:\n",
        "            print(\"당신의 성격 유형은 ENTJ입니다!\")\n",
        "\n",
        "else:\n",
        "    # 내향형으로 진행\n",
        "    print(\"내향형으로 분석 중...\")\n",
        "    answer2 = input(\"Q2. 구체적인 정보나 사실을 중요하게 생각하시나요? (y/n): \")\n",
        "\n",
        "    if answer2.lower() == 'y':\n",
        "        # 감각형(내향, 감각)\n",
        "        answer3 = input(\"Q3. 일정을 엄격하게 관리하는 것을 좋아하시나요? (y/n): \")\n",
        "        if answer3.lower() == 'y':\n",
        "            print(\"당신의 성격 유형은 ISTJ입니다!\")\n",
        "        else:\n",
        "            print(\"당신의 성격 유형은 ISFP입니다!\")\n",
        "    else:\n",
        "        # 직관형(내향, 직관)\n",
        "        answer3 = input(\"Q3. 논리적인 문제 해결을 좋아하시나요? (y/n): \")\n",
        "        if answer3.lower() == 'y':\n",
        "            print(\"당신의 성격 유형은 INTP입니다!\")\n",
        "        else:\n",
        "            print(\"당신의 성격 유형은 INFJ입니다!\")"
      ],
      "metadata": {
        "colab": {
          "base_uri": "https://localhost:8080/"
        },
        "id": "NbAVZ_U6rqry",
        "outputId": "eae6d883-8adf-4042-e93a-78c9ec3a4ae6"
      },
      "execution_count": 20,
      "outputs": [
        {
          "output_type": "stream",
          "name": "stdout",
          "text": [
            "MBTI 간단 성격 유형 검사에 오신 걸 환영합니다!\n",
            "Q1. 새로운 사람들과 만나는 걸 좋아하시나요? (y/n): y\n",
            "외향형으로 분석 중...\n",
            "Q2. 주변 환경에 대해 자주 인지하고 있나요? (y/n): y\n",
            "Q3. 계획을 세우는 것을 좋아하시나요? (y/n): y\n",
            "당신의 성격 유형은 ESTJ입니다!\n"
          ]
        }
      ]
    },
    {
      "cell_type": "code",
      "source": [
        "# Conditional Statement\n",
        "\n",
        "num = int(input('insert number: '))\n",
        "if num % 2 == 0:\n",
        "    print('even')\n",
        "else:\n",
        "    print('odd')"
      ],
      "metadata": {
        "id": "zLIZWzOfr0c5",
        "colab": {
          "base_uri": "https://localhost:8080/"
        },
        "outputId": "dc97ba66-39c5-44bd-d1de-c001dd1827e2"
      },
      "execution_count": 21,
      "outputs": [
        {
          "output_type": "stream",
          "name": "stdout",
          "text": [
            "insert number: 2\n",
            "even\n"
          ]
        }
      ]
    },
    {
      "cell_type": "code",
      "source": [
        "# conditional statement:\n",
        "num = int(input('insert number: '))\n",
        "print('even') if num % 2 == 0 else print('odd')"
      ],
      "metadata": {
        "colab": {
          "base_uri": "https://localhost:8080/"
        },
        "id": "i-pChTaOsHj6",
        "outputId": "55610ee4-dd66-42e0-a259-d739265a494c"
      },
      "execution_count": 22,
      "outputs": [
        {
          "output_type": "stream",
          "name": "stdout",
          "text": [
            "insert number: 2\n",
            "even\n"
          ]
        }
      ]
    },
    {
      "cell_type": "code",
      "source": [
        "age = int(input('insert Age: '))\n",
        "\n",
        "if age > 19:\n",
        "    print('adult.')\n",
        "elif age > 14:\n",
        "    print('youth.')\n",
        "elif age > 6:\n",
        "    print('child.')\n",
        "elif age > 0:\n",
        "    print('toddler.')\n",
        "else:\n",
        "    print('check insert')\n",
        "\n",
        "print('Inserted Age: ', age)"
      ],
      "metadata": {
        "colab": {
          "base_uri": "https://localhost:8080/"
        },
        "id": "0kRjSuF2sRX3",
        "outputId": "c82f383c-bd6a-458a-9acb-55d7aacedc27"
      },
      "execution_count": 23,
      "outputs": [
        {
          "output_type": "stream",
          "name": "stdout",
          "text": [
            "insert Age: 2\n",
            "toddler.\n",
            "Inserted Age:  2\n"
          ]
        }
      ]
    },
    {
      "cell_type": "code",
      "source": [
        "age = int(input('insert Age: '))\n",
        "print('adult') if age > 19 else print('youth') if age > 14 else print('child') if age > 6 else print('toddler') if age > 0 else print('check insert')"
      ],
      "metadata": {
        "id": "QO5zt8UusWT9",
        "colab": {
          "base_uri": "https://localhost:8080/"
        },
        "outputId": "d3215c03-b762-49e5-a7a2-b685488b1a02"
      },
      "execution_count": 35,
      "outputs": [
        {
          "output_type": "stream",
          "name": "stdout",
          "text": [
            "insert Age: 23213\n",
            "adult\n"
          ]
        }
      ]
    },
    {
      "cell_type": "code",
      "source": [
        "# Structural Pattern Matching\n",
        "month = int(input('월을 입력하세요 (1~12): '))\n",
        "\n",
        "match month:\n",
        "    case 1 | 3 | 5 | 7 | 8 | 10 | 12:\n",
        "        print(f\"{month}월은 31일까지 있습니다.\")\n",
        "    case 4 | 6 | 9 | 11:\n",
        "        print(f\"{month}월은 30일까지 있습니다.\")\n",
        "    case 2:\n",
        "        print('2월은 28일 또는 윤년이면 29일까지 있습니다.')\n",
        "    case _: # 이 케이스에 모두 해당이 안될경우\n",
        "        print(\"잘못된 월 입니다. 1~12 사이의 숫자를 입력해주세요\")"
      ],
      "metadata": {
        "colab": {
          "base_uri": "https://localhost:8080/"
        },
        "id": "H_YRZ3-Fs_R_",
        "outputId": "cdd57f90-7fbd-49a5-c987-7bfb14dcb638"
      },
      "execution_count": 36,
      "outputs": [
        {
          "output_type": "stream",
          "name": "stdout",
          "text": [
            "월을 입력하세요 (1~12): 1\n",
            "1월은 31일까지 있습니다.\n"
          ]
        }
      ]
    },
    {
      "cell_type": "code",
      "source": [
        "blood = input(\"혈액형을 입력하세요 (A, B, AB, O): \").upper()  # 대소문자 구분 없이 입력\n",
        "\n",
        "match blood:\n",
        "    case \"A\":\n",
        "        print(\"A형은 꼼꼼하고 성실한 성격이 많습니다.\")\n",
        "    case \"B\":\n",
        "        print(\"B형은 자유롭고 창의적인 성격이 많습니다.\")\n",
        "    case \"AB\":\n",
        "        print(\"AB형은 이성과 감성을 모두 가진 복합형입니다.\")\n",
        "    case \"O\":\n",
        "        print(\"O형은 외향적이고 리더십이 강한 편입니다.\")\n",
        "    case _:\n",
        "        print(\"잘못된 혈액형입니다. A, B, AB, O 중 하나를 입력하세요.\")"
      ],
      "metadata": {
        "colab": {
          "base_uri": "https://localhost:8080/"
        },
        "id": "3l04w__MtVlS",
        "outputId": "d7183b73-f20f-4d5f-d27b-e1357ee0cfca"
      },
      "execution_count": 37,
      "outputs": [
        {
          "output_type": "stream",
          "name": "stdout",
          "text": [
            "혈액형을 입력하세요 (A, B, AB, O): A\n",
            "A형은 꼼꼼하고 성실한 성격이 많습니다.\n"
          ]
        }
      ]
    },
    {
      "cell_type": "code",
      "source": [
        "# user = (\"김사과\", 20) # 튜플로 저장\n",
        "user = ('반하나', 13)\n",
        "\n",
        "match user:\n",
        "    case (name, age) if age > 19:\n",
        "        print(f\"{name}님은 성인입니다.\")\n",
        "    case (name, age) if age > 15:\n",
        "        print(f'{name}님은 청소년입니다.')\n",
        "    case (name, age) if age > 6:\n",
        "        print(f'{name}님은 어린이입니다.')\n",
        "    case _:\n",
        "        print(f'{name}님은 유아입니다.')"
      ],
      "metadata": {
        "colab": {
          "base_uri": "https://localhost:8080/"
        },
        "id": "F_ojs2KjtX-6",
        "outputId": "4afad3b6-db9b-42ba-d759-799261712ab2"
      },
      "execution_count": 38,
      "outputs": [
        {
          "output_type": "stream",
          "name": "stdout",
          "text": [
            "반하나님은 어린이입니다.\n"
          ]
        }
      ]
    },
    {
      "cell_type": "code",
      "source": [
        "# scores = [95, 88, 76]\n",
        "scores = (95, 88, 76, 100)\n",
        "# scores = {\"국어\":95, \"영어\":88, \"수학\":76}\n",
        "\n",
        "match scores:\n",
        "    case [korean, english, math]:\n",
        "        print(f\"1. 국어: {korean}, 영어: {english}, 수학: {math}\")\n",
        "    case (korean, _, math, computer):\n",
        "        print(f\"2. 국어: {korean}, 수학: {math}, 컴퓨터: {computer}\")\n",
        "    case {\"국어\": korean, \"영어\": english, \"수학\": math}:\n",
        "        print(f\"3. 국어: {korean}, 영어: {english}, 수학: {math}\")"
      ],
      "metadata": {
        "colab": {
          "base_uri": "https://localhost:8080/"
        },
        "id": "llSypBi3taIe",
        "outputId": "95e568cc-2353-4f4c-cc05-f5976a30e82c"
      },
      "execution_count": 39,
      "outputs": [
        {
          "output_type": "stream",
          "name": "stdout",
          "text": [
            "2. 국어: 95, 수학: 76, 컴퓨터: 100\n"
          ]
        }
      ]
    }
  ]
}