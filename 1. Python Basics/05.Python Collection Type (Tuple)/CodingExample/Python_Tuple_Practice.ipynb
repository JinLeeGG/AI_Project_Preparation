{
  "nbformat": 4,
  "nbformat_minor": 0,
  "metadata": {
    "colab": {
      "provenance": [],
      "authorship_tag": "ABX9TyMxCAKhz6IGAwdg3n6j4c2r",
      "include_colab_link": true
    },
    "kernelspec": {
      "name": "python3",
      "display_name": "Python 3"
    },
    "language_info": {
      "name": "python"
    }
  },
  "cells": [
    {
      "cell_type": "markdown",
      "metadata": {
        "id": "view-in-github",
        "colab_type": "text"
      },
      "source": [
        "<a href=\"https://colab.research.google.com/github/JinLeeGG/AI_Project_Preparation/blob/main/1.%20Python%20Basics/05.Python%20Collection%20Type%20(Tuple)/CodingExample/Python_Tuple_Practice.ipynb\" target=\"_parent\"><img src=\"https://colab.research.google.com/assets/colab-badge.svg\" alt=\"Open In Colab\"/></a>"
      ]
    },
    {
      "cell_type": "code",
      "execution_count": null,
      "metadata": {
        "colab": {
          "base_uri": "https://localhost:8080/"
        },
        "id": "GbT2JiwY3LWU",
        "outputId": "8a83d6d0-eb89-48e7-f678-2b89f06da03f"
      },
      "outputs": [
        {
          "output_type": "stream",
          "name": "stdout",
          "text": [
            "()\n",
            "<class 'tuple'>\n"
          ]
        }
      ],
      "source": [
        "tu1 = ()\n",
        "print(tu1)\n",
        "print(type(tu1))"
      ]
    },
    {
      "cell_type": "code",
      "source": [
        "tu1 = (1)\n",
        "print(tu1)\n",
        "print(type(tu1)) # it detects as int instead of tuple when it has a single number\n",
        "\n",
        "tu1 = (1,)\n",
        "print(tu1)\n",
        "print(type(tu1)) # detects as tuple"
      ],
      "metadata": {
        "colab": {
          "base_uri": "https://localhost:8080/"
        },
        "id": "AA_dRQb74kK8",
        "outputId": "86167900-a5ad-42cd-b4d9-c963e9135a73"
      },
      "execution_count": null,
      "outputs": [
        {
          "output_type": "stream",
          "name": "stdout",
          "text": [
            "1\n",
            "<class 'int'>\n",
            "(1,)\n",
            "<class 'tuple'>\n"
          ]
        }
      ]
    },
    {
      "cell_type": "code",
      "source": [
        "tu3 = tuple([1, 3, 5, 7])   # List to tuple\n",
        "print(tu3)\n",
        "print(type(tu3))"
      ],
      "metadata": {
        "colab": {
          "base_uri": "https://localhost:8080/"
        },
        "id": "yBMKcDoG49SR",
        "outputId": "cf9e9eda-4a4e-409a-acf0-07f1f79c62aa"
      },
      "execution_count": null,
      "outputs": [
        {
          "output_type": "stream",
          "name": "stdout",
          "text": [
            "(1, 3, 5, 7)\n",
            "<class 'tuple'>\n"
          ]
        }
      ]
    },
    {
      "cell_type": "code",
      "source": [
        "li3 = list(tu3) # Tuple to List\n",
        "print(li3)\n",
        "print(type(li3))"
      ],
      "metadata": {
        "id": "WQy3iqjj458z",
        "colab": {
          "base_uri": "https://localhost:8080/"
        },
        "outputId": "33b94d34-e108-4c57-e228-fe732b794751"
      },
      "execution_count": null,
      "outputs": [
        {
          "output_type": "stream",
          "name": "stdout",
          "text": [
            "[1, 3, 5, 7]\n",
            "<class 'list'>\n"
          ]
        }
      ]
    },
    {
      "cell_type": "code",
      "source": [
        "tu4 = 1, 3, 5, 7    # seting as tuple\n",
        "print(tu4)\n",
        "print(type(tu4))"
      ],
      "metadata": {
        "colab": {
          "base_uri": "https://localhost:8080/"
        },
        "id": "FzAL11Q85cOY",
        "outputId": "056d734c-2b51-4e28-be80-5823e90a3713"
      },
      "execution_count": null,
      "outputs": [
        {
          "output_type": "stream",
          "name": "stdout",
          "text": [
            "(1, 3, 5, 7)\n",
            "<class 'tuple'>\n"
          ]
        }
      ]
    },
    {
      "cell_type": "code",
      "source": [
        "# packing and unpacking\n",
        "num1 = 10\n",
        "num2 = 20\n",
        "num3 = 30\n",
        "tu4 = num1, num2, num3\n",
        "print(tu4)\n",
        "\n",
        "result1, result2, result3 = tu4\n",
        "print(result1)\n",
        "print(result2)\n",
        "print(result3)"
      ],
      "metadata": {
        "colab": {
          "base_uri": "https://localhost:8080/"
        },
        "id": "pUc0CpTE85t3",
        "outputId": "e1bb873b-81c0-46e3-e303-733f65a99ad6"
      },
      "execution_count": null,
      "outputs": [
        {
          "output_type": "stream",
          "name": "stdout",
          "text": [
            "(10, 20, 30)\n",
            "10\n",
            "20\n",
            "30\n"
          ]
        }
      ]
    },
    {
      "cell_type": "code",
      "source": [
        "# Indexing and slicing\n",
        "\n",
        "tu5 = ('apple', 'banana', ('🍎', '🍌'))\n",
        "print(tu5)\n",
        "print(type(tu5))\n",
        "\n",
        "print(tu5[0])\n",
        "print(type(tu5[0]))\n",
        "print(tu5[2][0])\n",
        "print(type(tu5[2][0]))"
      ],
      "metadata": {
        "colab": {
          "base_uri": "https://localhost:8080/"
        },
        "id": "IZa1kQ3M6y6j",
        "outputId": "263da3a8-2c39-44c5-ee07-27797bab2c8c"
      },
      "execution_count": null,
      "outputs": [
        {
          "output_type": "stream",
          "name": "stdout",
          "text": [
            "('apple', 'banana', ('🍎', '🍌'))\n",
            "<class 'tuple'>\n",
            "apple\n",
            "<class 'str'>\n",
            "🍎\n",
            "<class 'str'>\n"
          ]
        }
      ]
    },
    {
      "cell_type": "code",
      "source": [
        "tu5 = ('apple', 'banana', ('🍎', '🍌'))\n",
        "# tu5[0] = 'orange' # TypeError: 'tuple' object does not support item assignment"
      ],
      "metadata": {
        "id": "ES1ic2Cy7oBy"
      },
      "execution_count": null,
      "outputs": []
    },
    {
      "cell_type": "code",
      "source": [
        "tu5 = ('apple', 'banana', ['🍎', '🍌'])\n",
        "print(tu5)\n",
        "print(type(tu5))\n",
        "print(tu5[2])\n",
        "print(type(tu5[2]))\n",
        "tu5[2][0] = '❤'\n",
        "print(tu5)\n",
        "# tu5[2] = '🎃' # TypeError: 'tuple' object does not support item assignment\n",
        "\n",
        "tu5[2][0] = '🍔'\n",
        "print(tu5)"
      ],
      "metadata": {
        "colab": {
          "base_uri": "https://localhost:8080/"
        },
        "id": "AMcuRZvs9dtE",
        "outputId": "bedbc2c6-02b9-443c-99c7-75b6660765ea"
      },
      "execution_count": null,
      "outputs": [
        {
          "output_type": "stream",
          "name": "stdout",
          "text": [
            "('apple', 'banana', ['🍎', '🍌'])\n",
            "<class 'tuple'>\n",
            "['🍎', '🍌']\n",
            "<class 'list'>\n",
            "('apple', 'banana', ['❤', '🍌'])\n",
            "('apple', 'banana', ['🍔', '🍌'])\n"
          ]
        }
      ]
    },
    {
      "cell_type": "code",
      "source": [
        "# Calculating Tuples\n",
        "\n",
        "# Tuple + Tuple = Tuple\n",
        "tu7 = (10, 20, 30)\n",
        "tu8 = (40, 50, 60)\n",
        "\n",
        "print(tu7 + tu8)\n",
        "print(tu8 + tu7)\n",
        "\n",
        "tu7 = tu7 + (40, 50, 60)\n",
        "print(tu7)\n",
        "\n",
        "# Tuple * num\n",
        "print(tu7 * 3)"
      ],
      "metadata": {
        "id": "ZjYeW3iu9kHU",
        "colab": {
          "base_uri": "https://localhost:8080/"
        },
        "outputId": "1aaa9497-f932-425b-f54b-7e456f565854"
      },
      "execution_count": 5,
      "outputs": [
        {
          "output_type": "stream",
          "name": "stdout",
          "text": [
            "(10, 20, 30, 40, 50, 60)\n",
            "(40, 50, 60, 10, 20, 30)\n",
            "(10, 20, 30, 40, 50, 60)\n",
            "(10, 20, 30, 40, 50, 60, 10, 20, 30, 40, 50, 60, 10, 20, 30, 40, 50, 60)\n"
          ]
        }
      ]
    },
    {
      "cell_type": "code",
      "source": [
        "# Membership Testing\n",
        "\n",
        "# Using \"in\", it is possible to check if there is a specific element in the tuple or list\n",
        "print(2 in [2, 4, 6, 8, 10])\n",
        "print(2 in (2, 4, 6, 8, 10))\n",
        "print(7 in (2, 4, 6, 8, 10))\n",
        "print(\"Hello\" in (\"Hello\", \"4,\", 1, 3, 4))"
      ],
      "metadata": {
        "colab": {
          "base_uri": "https://localhost:8080/"
        },
        "id": "2H4uVyIR0lfl",
        "outputId": "030c53fe-d4d6-4d56-f858-5473d788c937"
      },
      "execution_count": 7,
      "outputs": [
        {
          "output_type": "stream",
          "name": "stdout",
          "text": [
            "True\n",
            "True\n",
            "False\n",
            "True\n"
          ]
        }
      ]
    },
    {
      "cell_type": "code",
      "source": [
        "# Tuple Sorting\n",
        "# Tuple does not provide sort() method. instead, we use sorted() function\n",
        "\n",
        "tu9 = (10, 30, 100, 90, 50)\n",
        "\n",
        "result = sorted(tu9, reverse = True)\n",
        "print(result)\n",
        "print(tu9)\n",
        "\n",
        "#list --> tuple\n",
        "result = tuple(result)\n",
        "print(result)"
      ],
      "metadata": {
        "colab": {
          "base_uri": "https://localhost:8080/"
        },
        "id": "Y4sONVF_0_8e",
        "outputId": "dacff999-9531-4697-f97e-ee8e789bf1f2"
      },
      "execution_count": 13,
      "outputs": [
        {
          "output_type": "stream",
          "name": "stdout",
          "text": [
            "[100, 90, 50, 30, 10]\n",
            "(10, 30, 100, 90, 50)\n",
            "(100, 90, 50, 30, 10)\n"
          ]
        }
      ]
    },
    {
      "cell_type": "code",
      "source": [],
      "metadata": {
        "id": "V8nDiZYk1Pfs"
      },
      "execution_count": null,
      "outputs": []
    }
  ]
}