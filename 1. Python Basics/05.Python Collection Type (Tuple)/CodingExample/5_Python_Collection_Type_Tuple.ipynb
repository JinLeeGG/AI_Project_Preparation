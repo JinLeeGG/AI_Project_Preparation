{
  "nbformat": 4,
  "nbformat_minor": 0,
  "metadata": {
    "colab": {
      "provenance": [],
      "authorship_tag": "ABX9TyPzTYeBVbhCVT79cCrnodxI",
      "include_colab_link": true
    },
    "kernelspec": {
      "name": "python3",
      "display_name": "Python 3"
    },
    "language_info": {
      "name": "python"
    }
  },
  "cells": [
    {
      "cell_type": "markdown",
      "metadata": {
        "id": "view-in-github",
        "colab_type": "text"
      },
      "source": [
        "<a href=\"https://colab.research.google.com/github/JinLeeGG/AI_Project_Preparation/blob/main/5_Python_Collection_Type_Tuple.ipynb\" target=\"_parent\"><img src=\"https://colab.research.google.com/assets/colab-badge.svg\" alt=\"Open In Colab\"/></a>"
      ]
    },
    {
      "cell_type": "markdown",
      "source": [
        "https://ryuzyproject.tistory.com/8"
      ],
      "metadata": {
        "id": "g5Mbhzg2JUeb"
      }
    },
    {
      "cell_type": "markdown",
      "source": [
        "# 1. 튜플\n",
        "여러 가지 데이터 타입의 값을 저장할 수 있는, 변경 불가능(immutable)한 순서가 있는 컬렉션입니다.\n",
        "\n"
      ],
      "metadata": {
        "id": "DwhXIdiiJNg4"
      }
    },
    {
      "cell_type": "code",
      "source": [
        "tu1 = ()\n",
        "print(tu1)\n",
        "print(type(tu1))"
      ],
      "metadata": {
        "colab": {
          "base_uri": "https://localhost:8080/"
        },
        "id": "XLzsH1DSJXYD",
        "outputId": "8ac0676e-ed55-4740-bf8d-318dbdb9f030"
      },
      "execution_count": null,
      "outputs": [
        {
          "output_type": "stream",
          "name": "stdout",
          "text": [
            "()\n",
            "<class 'tuple'>\n"
          ]
        }
      ]
    },
    {
      "cell_type": "code",
      "source": [
        "tu1 = (1)\n",
        "print(tu1)\n",
        "print(type(tu1))    # 요소가 1개일 경우, 콤마를 안넣을시 int로 인식을 한다 계산살때의 괄호로 인식\n",
        "\n",
        "tu1 = (1,)          # 요소가 1개일 경우 끝에 콤마를 꼭! 붙여야 함\n",
        "print(tu1)\n",
        "print(type(tu1))    # 튜플로 인식된다."
      ],
      "metadata": {
        "colab": {
          "base_uri": "https://localhost:8080/"
        },
        "id": "DWvpsuOMJ3_c",
        "outputId": "43f9dc2e-767c-4be9-cb44-24fc08e0c8a5"
      },
      "execution_count": null,
      "outputs": [
        {
          "output_type": "stream",
          "name": "stdout",
          "text": [
            "1\n",
            "<class 'int'>\n",
            "(1,)\n",
            "<class 'tuple'>\n"
          ]
        }
      ]
    },
    {
      "cell_type": "code",
      "source": [
        "tu2 = (1, 3, 5, 7)\n",
        "print(tu2)\n",
        "print(type(tu2))"
      ],
      "metadata": {
        "colab": {
          "base_uri": "https://localhost:8080/"
        },
        "id": "L7WdviZJKrZj",
        "outputId": "f2244089-42a5-45d7-d65d-9db3e8f7b276"
      },
      "execution_count": null,
      "outputs": [
        {
          "output_type": "stream",
          "name": "stdout",
          "text": [
            "(1, 3, 5, 7)\n",
            "<class 'tuple'>\n"
          ]
        }
      ]
    },
    {
      "cell_type": "code",
      "source": [
        "tu3 = tuple([1, 3, 5, 7])\n",
        "print(tu3)\n",
        "print(type(tu3))"
      ],
      "metadata": {
        "colab": {
          "base_uri": "https://localhost:8080/"
        },
        "id": "xV00e7Q5KuKY",
        "outputId": "c8eaa8b0-f801-4e93-e917-c181ff8f11f6"
      },
      "execution_count": null,
      "outputs": [
        {
          "output_type": "stream",
          "name": "stdout",
          "text": [
            "(1, 3, 5, 7)\n",
            "<class 'tuple'>\n"
          ]
        }
      ]
    },
    {
      "cell_type": "code",
      "source": [
        "li3 = list(tu3)\n",
        "print(li3)\n",
        "print(type(li3))"
      ],
      "metadata": {
        "colab": {
          "base_uri": "https://localhost:8080/"
        },
        "id": "QGDOETO2Kvlp",
        "outputId": "b2c63468-6301-435f-e4d4-a9df487c4a31"
      },
      "execution_count": null,
      "outputs": [
        {
          "output_type": "stream",
          "name": "stdout",
          "text": [
            "[1, 3, 5, 7]\n",
            "<class 'list'>\n"
          ]
        }
      ]
    },
    {
      "cell_type": "code",
      "source": [
        "tu4 = 1, 3, 5, 7\n",
        "print(tu4)\n",
        "print(type(tu4))"
      ],
      "metadata": {
        "colab": {
          "base_uri": "https://localhost:8080/"
        },
        "id": "SKtTGJvYLHJk",
        "outputId": "016b36b6-6f50-4655-b86e-593b3d5476c1"
      },
      "execution_count": null,
      "outputs": [
        {
          "output_type": "stream",
          "name": "stdout",
          "text": [
            "(1, 3, 5, 7)\n",
            "<class 'tuple'>\n"
          ]
        }
      ]
    },
    {
      "cell_type": "markdown",
      "source": [
        "# 2. 패킹과 언패킹\n",
        "변수를 튜플에 튜플의 항목들은 변수들에 할당될 수 있습니다."
      ],
      "metadata": {
        "id": "9BbpT63sLStj"
      }
    },
    {
      "cell_type": "code",
      "source": [
        "num1 = 10\n",
        "num2 = 20\n",
        "num3 = 30\n",
        "tu4 = num1, num2, num3\n",
        "print(tu4)\n",
        "\n",
        "result1, result2, result3 = tu4\n",
        "print(result1)\n",
        "print(result2)\n",
        "print(result3)"
      ],
      "metadata": {
        "colab": {
          "base_uri": "https://localhost:8080/"
        },
        "id": "GKitgL0hLXBb",
        "outputId": "ffa7c480-7230-4237-c604-b5742e5c1731"
      },
      "execution_count": null,
      "outputs": [
        {
          "output_type": "stream",
          "name": "stdout",
          "text": [
            "(10, 20, 30)\n",
            "10\n",
            "20\n",
            "30\n"
          ]
        }
      ]
    },
    {
      "cell_type": "markdown",
      "source": [
        "# 3. 인덱싱과 슬라이싱\n",
        "튜플의 각 항목은 위치(인덱스)를 가지고 있으며, 인덱스를 사용하여 접근하거나 일부분을 추출할 수 있습니다."
      ],
      "metadata": {
        "id": "bOK_HOmpPdgK"
      }
    },
    {
      "cell_type": "code",
      "source": [
        "tu5 = ('apple', 'banana', ('🍎', '🍌'))\n",
        "print(tu5)\n",
        "print(type(tu5))\n",
        "\n",
        "print(tu5[0])\n",
        "print(type(tu5[0]))\n",
        "print(tu5[2][0])\n",
        "print(type(tu5[2][0]))"
      ],
      "metadata": {
        "colab": {
          "base_uri": "https://localhost:8080/"
        },
        "id": "47IjoNCcPmMe",
        "outputId": "51f8f93b-4af5-45f0-8dde-436e1e8792d9"
      },
      "execution_count": null,
      "outputs": [
        {
          "output_type": "stream",
          "name": "stdout",
          "text": [
            "('apple', 'banana', ('🍎', '🍌'))\n",
            "<class 'tuple'>\n",
            "apple\n",
            "<class 'str'>\n",
            "🍎\n",
            "<class 'str'>\n"
          ]
        }
      ]
    },
    {
      "cell_type": "code",
      "source": [
        "tu5 = ('apple', 'banana', ('🍎', '🍌'))\n",
        "# tu5[0] = 'orange' # TypeError: 'tuple' object does not support item assignment\n",
        "tu5 = 'orange'\n",
        "print(tu5)"
      ],
      "metadata": {
        "colab": {
          "base_uri": "https://localhost:8080/"
        },
        "id": "F78xEllAPoQt",
        "outputId": "a8878c6c-a94e-4b8c-9a17-8033d04a93e5"
      },
      "execution_count": null,
      "outputs": [
        {
          "output_type": "stream",
          "name": "stdout",
          "text": [
            "orange\n"
          ]
        }
      ]
    },
    {
      "cell_type": "code",
      "source": [
        "tu5 = ('apple', 'banana', ['🍎', '🍌'])\n",
        "print(tu5)\n",
        "print(type(tu5))\n",
        "print(tu5[2])\n",
        "print(type(tu5[2]))\n",
        "tu5[2][0] = '❤'\n",
        "print(tu5)\n",
        "# tu5[2] = '🎃' # TypeError: 'tuple' object does not support item assignment\n",
        "\n",
        "tu5[2][0] = '🍔'\n",
        "print(tu5)"
      ],
      "metadata": {
        "colab": {
          "base_uri": "https://localhost:8080/"
        },
        "id": "-iE4uWdyQAda",
        "outputId": "ff103575-2ca9-4167-9140-4ef514959f56"
      },
      "execution_count": null,
      "outputs": [
        {
          "output_type": "stream",
          "name": "stdout",
          "text": [
            "('apple', 'banana', ['🍎', '🍌'])\n",
            "<class 'tuple'>\n",
            "['🍎', '🍌']\n",
            "<class 'list'>\n",
            "('apple', 'banana', ['❤', '🍌'])\n",
            "('apple', 'banana', ['🍔', '🍌'])\n"
          ]
        }
      ]
    },
    {
      "cell_type": "code",
      "source": [
        "# 튜플의 슬라이싱은 결과도 튜플로 반환\n",
        "tu6 = (1, 2, 'apple', 'banana')\n",
        "print(tu6[1:])\n",
        "print(tu6[1:3])"
      ],
      "metadata": {
        "colab": {
          "base_uri": "https://localhost:8080/"
        },
        "id": "8LiOK-_HRUhC",
        "outputId": "86333e49-9b64-4453-c1e7-aed9d7eaffe1"
      },
      "execution_count": null,
      "outputs": [
        {
          "output_type": "stream",
          "name": "stdout",
          "text": [
            "(2, 'apple', 'banana')\n",
            "(2, 'apple')\n"
          ]
        }
      ]
    },
    {
      "cell_type": "markdown",
      "source": [
        "# 4. 연산\n",
        "튜플 간의 + 연산으로 리스트를 결합할 수 있고, * 연산으로 리스트를 반복할 수 있습니다."
      ],
      "metadata": {
        "id": "z6bwpbqeRhTf"
      }
    },
    {
      "cell_type": "code",
      "source": [
        "# 튜플간의 연산은 결과도 튜플로 반환\n",
        "tu7 = (10, 20, 30)\n",
        "tu8 = (40, 50, 60)\n",
        "\n",
        "print(tu7 + tu8)\n",
        "print(tu8 + tu7)\n",
        "\n",
        "tu7 = tu7 + (40, 50, 60)\n",
        "print(tu7)\n",
        "\n",
        "print(tu7 * 3)"
      ],
      "metadata": {
        "colab": {
          "base_uri": "https://localhost:8080/"
        },
        "id": "rqoWqUtBRktj",
        "outputId": "90f05df5-2f1d-4075-851f-181691cedaba"
      },
      "execution_count": null,
      "outputs": [
        {
          "output_type": "stream",
          "name": "stdout",
          "text": [
            "(10, 20, 30, 40, 50, 60)\n",
            "(40, 50, 60, 10, 20, 30)\n",
            "(10, 20, 30, 40, 50, 60)\n",
            "(10, 20, 30, 40, 50, 60, 10, 20, 30, 40, 50, 60, 10, 20, 30, 40, 50, 60)\n"
          ]
        }
      ]
    },
    {
      "cell_type": "markdown",
      "source": [
        "# 5. 멤버십 테스트\n",
        "in 연산자를 사용하여 튜플에 특정 값이 있는지 확인할 수 있습니다."
      ],
      "metadata": {
        "id": "yCDjUXeFRxRc"
      }
    },
    {
      "cell_type": "code",
      "source": [
        "# 컬렉션에 포함되어 있는 요소인지 확인\n",
        "print(2 in [2, 4, 6, 8, 10])\n",
        "print(2 in (2, 4, 6, 8, 10))\n",
        "print(7 in (2, 4, 6, 8, 10))\n",
        "print(\"하이\" in (\"하이\", \"4\", \"6\", \"8\", \"10\"))"
      ],
      "metadata": {
        "colab": {
          "base_uri": "https://localhost:8080/"
        },
        "id": "dMYWJ-_ASkLO",
        "outputId": "c5784c8b-4a1a-4ce4-b56d-a1e233ae617e"
      },
      "execution_count": null,
      "outputs": [
        {
          "output_type": "stream",
          "name": "stdout",
          "text": [
            "True\n",
            "True\n",
            "False\n",
            "True\n"
          ]
        }
      ]
    },
    {
      "cell_type": "markdown",
      "source": [
        "# 6. 튜플의 정렬\n",
        "튜플은 sort() 메서드를 제공하지 않습니다. sorted() 함수를 사용합니다."
      ],
      "metadata": {
        "id": "AL0lkpBtTIqv"
      }
    },
    {
      "cell_type": "code",
      "source": [
        "tu9 = (10, 30, 100, 90, 50)\n",
        "# tu10.sort() # 튜플은 sort 메서드가 존재하지 않음\n",
        "result = sorted(tu9, reverse = True) # 내림차순하여 리스트로 반환\n",
        "print(result)\n",
        "print(tu9) # 변경되지 않았음\n",
        "\n",
        "# 다시 튜플 형태로 저장\n",
        "result = tuple(result)\n",
        "print(result)"
      ],
      "metadata": {
        "colab": {
          "base_uri": "https://localhost:8080/"
        },
        "id": "L6RAEcpbTKzs",
        "outputId": "4fe50598-204d-415b-fabc-11eb3afd4193"
      },
      "execution_count": null,
      "outputs": [
        {
          "output_type": "stream",
          "name": "stdout",
          "text": [
            "[100, 90, 50, 30, 10]\n",
            "(10, 30, 100, 90, 50)\n",
            "(100, 90, 50, 30, 10)\n"
          ]
        }
      ]
    }
  ]
}