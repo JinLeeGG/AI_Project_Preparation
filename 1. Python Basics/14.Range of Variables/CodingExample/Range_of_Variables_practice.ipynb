{
  "nbformat": 4,
  "nbformat_minor": 0,
  "metadata": {
    "colab": {
      "provenance": [],
      "authorship_tag": "ABX9TyPY/5mOa43AaAyJ1df6wDcF",
      "include_colab_link": true
    },
    "kernelspec": {
      "name": "python3",
      "display_name": "Python 3"
    },
    "language_info": {
      "name": "python"
    }
  },
  "cells": [
    {
      "cell_type": "markdown",
      "metadata": {
        "id": "view-in-github",
        "colab_type": "text"
      },
      "source": [
        "<a href=\"https://colab.research.google.com/github/JinLeeGG/AI_Project_Preparation/blob/main/1.%20Python%20Basics/13.User%20defined%20functions/CodingExample/Range_of_Variables_practice.ipynb\" target=\"_parent\"><img src=\"https://colab.research.google.com/assets/colab-badge.svg\" alt=\"Open In Colab\"/></a>"
      ]
    },
    {
      "cell_type": "code",
      "execution_count": 4,
      "metadata": {
        "colab": {
          "base_uri": "https://localhost:8080/"
        },
        "id": "s-h-EqbuQbL9",
        "outputId": "b19fd41b-1754-4342-9e9a-eb38e52a1b2b"
      },
      "outputs": [
        {
          "output_type": "stream",
          "name": "stdout",
          "text": [
            "Local variable\n"
          ]
        }
      ],
      "source": [
        "def local_example():\n",
        "    local_var = \"Local variable\"\n",
        "    print(local_var)\n",
        "\n",
        "local_example()\n",
        "\n",
        "# print(local_var) Only usuable inside of function"
      ]
    },
    {
      "cell_type": "code",
      "source": [
        "def outer_function():\n",
        "    enclosing_var = \"enclosing range of variable\" # usable in inner function\n",
        "\n",
        "    def inner_function():\n",
        "        print(enclosing_var)\n",
        "        inner_var = \"Inner function variable\"\n",
        "\n",
        "    inner_function()\n",
        "    # print(inner_var) Only usable inside of inner function\n",
        "\n",
        "outer_function()"
      ],
      "metadata": {
        "colab": {
          "base_uri": "https://localhost:8080/"
        },
        "id": "u6gcNKZdQvD7",
        "outputId": "deedfc2d-4d20-42bd-80a1-e18b4ba66e37"
      },
      "execution_count": 11,
      "outputs": [
        {
          "output_type": "stream",
          "name": "stdout",
          "text": [
            "enclosing range of variable\n"
          ]
        }
      ]
    },
    {
      "cell_type": "code",
      "source": [
        "global_var = \"I am a global variable\"\n",
        "\n",
        "def test_global_scope():\n",
        "    print(global_var)\n",
        "\n",
        "test_global_scope()"
      ],
      "metadata": {
        "colab": {
          "base_uri": "https://localhost:8080/"
        },
        "id": "Tr0AoScrRwha",
        "outputId": "3b9a37e6-e9d7-44bd-90fc-12058406d8ef"
      },
      "execution_count": 13,
      "outputs": [
        {
          "output_type": "stream",
          "name": "stdout",
          "text": [
            "I am a global variable\n"
          ]
        }
      ]
    },
    {
      "cell_type": "code",
      "source": [
        "global_var = 10\n",
        "\n",
        "def modify_global():\n",
        "    global_var = 20 # program is cosidering this as local variable\n",
        "\n",
        "modify_global()\n",
        "print(global_var)"
      ],
      "metadata": {
        "colab": {
          "base_uri": "https://localhost:8080/"
        },
        "id": "z7l9vqKgSETT",
        "outputId": "0adb4138-5d8b-4b12-ec61-54435979ee71"
      },
      "execution_count": 16,
      "outputs": [
        {
          "output_type": "stream",
          "name": "stdout",
          "text": [
            "10\n"
          ]
        }
      ]
    },
    {
      "cell_type": "code",
      "source": [
        "global_var = 10\n",
        "\n",
        "def modify_global():\n",
        "    global global_var # if declared as global, program will consider this as global var\n",
        "    global_var = 20\n",
        "\n",
        "modify_global()\n",
        "print(global_var) # result is 20\n"
      ],
      "metadata": {
        "colab": {
          "base_uri": "https://localhost:8080/"
        },
        "id": "yGp2NDiySXQW",
        "outputId": "9fb07278-005b-484f-9728-03100b9132f2"
      },
      "execution_count": 17,
      "outputs": [
        {
          "output_type": "stream",
          "name": "stdout",
          "text": [
            "20\n"
          ]
        }
      ]
    },
    {
      "cell_type": "code",
      "source": [
        "a = 'hello'\n",
        "len(a)"
      ],
      "metadata": {
        "colab": {
          "base_uri": "https://localhost:8080/"
        },
        "id": "QEQgkm0OSi_S",
        "outputId": "e510d587-3bfb-4ceb-be2f-d0d4ccf7407e"
      },
      "execution_count": 18,
      "outputs": [
        {
          "output_type": "execute_result",
          "data": {
            "text/plain": [
              "5"
            ]
          },
          "metadata": {},
          "execution_count": 18
        }
      ]
    },
    {
      "cell_type": "code",
      "source": [
        "len = 5\n",
        "len(a) # now the len is global variable"
      ],
      "metadata": {
        "colab": {
          "base_uri": "https://localhost:8080/",
          "height": 158
        },
        "id": "FpCsgBviSnf9",
        "outputId": "9a10c1c6-2f03-4e1a-b517-e25e931e4c82"
      },
      "execution_count": 19,
      "outputs": [
        {
          "output_type": "error",
          "ename": "TypeError",
          "evalue": "'int' object is not callable",
          "traceback": [
            "\u001b[0;31m---------------------------------------------------------------------------\u001b[0m",
            "\u001b[0;31mTypeError\u001b[0m                                 Traceback (most recent call last)",
            "\u001b[0;32m<ipython-input-19-527da1dc9ea6>\u001b[0m in \u001b[0;36m<cell line: 0>\u001b[0;34m()\u001b[0m\n\u001b[1;32m      1\u001b[0m \u001b[0mlen\u001b[0m \u001b[0;34m=\u001b[0m \u001b[0;36m5\u001b[0m\u001b[0;34m\u001b[0m\u001b[0;34m\u001b[0m\u001b[0m\n\u001b[0;32m----> 2\u001b[0;31m \u001b[0mlen\u001b[0m\u001b[0;34m(\u001b[0m\u001b[0ma\u001b[0m\u001b[0;34m)\u001b[0m\u001b[0;34m\u001b[0m\u001b[0;34m\u001b[0m\u001b[0m\n\u001b[0m",
            "\u001b[0;31mTypeError\u001b[0m: 'int' object is not callable"
          ]
        }
      ]
    }
  ]
}