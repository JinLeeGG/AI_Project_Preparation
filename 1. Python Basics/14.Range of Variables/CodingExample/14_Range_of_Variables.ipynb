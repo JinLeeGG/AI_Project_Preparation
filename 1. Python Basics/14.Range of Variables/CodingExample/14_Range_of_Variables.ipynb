{
  "nbformat": 4,
  "nbformat_minor": 0,
  "metadata": {
    "colab": {
      "provenance": [],
      "authorship_tag": "ABX9TyMUdJ2KqPWc3Pgww1aTflhZ",
      "include_colab_link": true
    },
    "kernelspec": {
      "name": "python3",
      "display_name": "Python 3"
    },
    "language_info": {
      "name": "python"
    }
  },
  "cells": [
    {
      "cell_type": "markdown",
      "metadata": {
        "id": "view-in-github",
        "colab_type": "text"
      },
      "source": [
        "<a href=\"https://colab.research.google.com/github/JinLeeGG/AI_Project_Preparation/blob/main/1.%20Python%20Basics/14.Range%20of%20Variables/CodingExample/14_Range_of_Variables.ipynb\" target=\"_parent\"><img src=\"https://colab.research.google.com/assets/colab-badge.svg\" alt=\"Open In Colab\"/></a>"
      ]
    },
    {
      "cell_type": "markdown",
      "source": [
        "https://ryuzyproject.tistory.com/17\n"
      ],
      "metadata": {
        "id": "SxCbseflLLx0"
      }
    },
    {
      "cell_type": "markdown",
      "source": [
        "# 1. 범위(scope)\n",
        "파이썬에서 변수의 범위(scope)는 해당 변수가 프로그램 내에서 참조되고 변경될 수 있는 영역을 의미합니다. 파이썬의 변수 범위는 크게 네 가지로 분류됩니다.\n",
        "\n"
      ],
      "metadata": {
        "id": "X5KRBJq6LKbV"
      }
    },
    {
      "cell_type": "markdown",
      "source": [
        "### 1. 지역(Local) 범위: 가장 내부의 범위로, 함수 내에서 정의된 변수들이 해당됩니다. 함수 내에서만 접근할 수 있습니다."
      ],
      "metadata": {
        "id": "AR4A8YNaLdXX"
      }
    },
    {
      "cell_type": "code",
      "source": [
        "def local_example():\n",
        "    local_var = \"로컬 변수\"\n",
        "    print(local_var)\n",
        "\n",
        "local_example()\n",
        "# print(local_var) # 함수 안에서만 이 변수를 쓸 수 있다.  NameError: name 'local_var' is not defined"
      ],
      "metadata": {
        "colab": {
          "base_uri": "https://localhost:8080/"
        },
        "id": "CKkxCtDuLgB8",
        "outputId": "05cefbbd-14ea-4c8d-80e9-1f65ac7bd63f"
      },
      "execution_count": null,
      "outputs": [
        {
          "output_type": "stream",
          "name": "stdout",
          "text": [
            "로컬 변수\n"
          ]
        }
      ]
    },
    {
      "cell_type": "markdown",
      "source": [
        "2. 함수 내부의 블록(Enclosing) 범위: 중첩된 함수 내부에서, 바깥쪽 함수의 변수들을 의미합니다. 중첩 함수가 바깥 함수의 변수를 사용할 수 있게 해줍니다."
      ],
      "metadata": {
        "id": "Wwm7ItigLs5E"
      }
    },
    {
      "cell_type": "code",
      "source": [
        "def outer_function():\n",
        "    enclosing_var = \"둘러싼 범위 변수\"\n",
        "\n",
        "    def inner_function():\n",
        "        print(enclosing_var)\n",
        "        # inner_var = '내부 함수 변수'\n",
        "\n",
        "    inner_function()\n",
        "    # print(inner_var)\n",
        "\n",
        "outer_function()"
      ],
      "metadata": {
        "colab": {
          "base_uri": "https://localhost:8080/"
        },
        "id": "abruoKLdMJdc",
        "outputId": "158dee8a-9ddb-44f6-cf35-c057055f5b8f"
      },
      "execution_count": null,
      "outputs": [
        {
          "output_type": "stream",
          "name": "stdout",
          "text": [
            "둘러싼 범위 변수\n"
          ]
        }
      ]
    },
    {
      "cell_type": "markdown",
      "source": [
        "3. 전역(Global) 범위: 스크립트 전체에서 사용되는 범위로, 함수 외부에 정의된 변수가 해당됩니다. 모든 함수에서 접근할 수 있지만, 함수 내부에서 수정하려면 global 키워드가 필요합니다."
      ],
      "metadata": {
        "id": "592pYBHqM_ho"
      }
    },
    {
      "cell_type": "code",
      "source": [
        "global_var = \"I am a global variable\"\n",
        "\n",
        "def test_global_scope():\n",
        "    print(global_var)\n",
        "\n",
        "test_global_scope()"
      ],
      "metadata": {
        "colab": {
          "base_uri": "https://localhost:8080/"
        },
        "id": "f_V7vxTXNWJp",
        "outputId": "559e9f7c-a740-404e-c076-9f80652325d2"
      },
      "execution_count": null,
      "outputs": [
        {
          "output_type": "stream",
          "name": "stdout",
          "text": [
            "I am a global variable\n"
          ]
        }
      ]
    },
    {
      "cell_type": "code",
      "source": [
        "global_var = 10\n",
        "\n",
        "def modify_global():\n",
        "    global_var = 20\n",
        "\n",
        "modify_global()\n",
        "print(global_var)"
      ],
      "metadata": {
        "colab": {
          "base_uri": "https://localhost:8080/"
        },
        "id": "ybOrk2y9N2Oo",
        "outputId": "5ceb3bb1-fd39-4396-de2b-f44c199c0b1c"
      },
      "execution_count": null,
      "outputs": [
        {
          "output_type": "stream",
          "name": "stdout",
          "text": [
            "10\n"
          ]
        }
      ]
    },
    {
      "cell_type": "code",
      "source": [
        "global_var = 10\n",
        "\n",
        "def modify_global():\n",
        "    global global_var\n",
        "    global_var = 20\n",
        "\n",
        "modify_global()\n",
        "print(global_var) #20으로 전환된다.\n"
      ],
      "metadata": {
        "colab": {
          "base_uri": "https://localhost:8080/"
        },
        "id": "HsqfOR3YOodg",
        "outputId": "c5356afc-497e-4343-bcc8-c03f9b9a176c"
      },
      "execution_count": null,
      "outputs": [
        {
          "output_type": "stream",
          "name": "stdout",
          "text": [
            "20\n"
          ]
        }
      ]
    },
    {
      "cell_type": "markdown",
      "source": [
        "### 4. 내장 범위(Built-in): 파이썬이 기본적으로 제공하는 내장 함수나 예외들이 있는 범위로, 예를 들어 print(), len() 등이 해당됩니다."
      ],
      "metadata": {
        "id": "ygBTYiUMO03I"
      }
    },
    {
      "cell_type": "code",
      "source": [
        "a = 'Hello'\n",
        "len(a)"
      ],
      "metadata": {
        "colab": {
          "base_uri": "https://localhost:8080/",
          "height": 166
        },
        "id": "0l1A5VTNO4JU",
        "outputId": "7df096ba-5f83-40fa-8846-1315cddc5ed8"
      },
      "execution_count": null,
      "outputs": [
        {
          "output_type": "error",
          "ename": "TypeError",
          "evalue": "'int' object is not callable",
          "traceback": [
            "\u001b[0;31m---------------------------------------------------------------------------\u001b[0m",
            "\u001b[0;31mTypeError\u001b[0m                                 Traceback (most recent call last)",
            "\u001b[0;32m<ipython-input-14-98d77c0862c2>\u001b[0m in \u001b[0;36m<cell line: 0>\u001b[0;34m()\u001b[0m\n\u001b[1;32m      1\u001b[0m \u001b[0ma\u001b[0m \u001b[0;34m=\u001b[0m \u001b[0;34m'Hello'\u001b[0m\u001b[0;34m\u001b[0m\u001b[0;34m\u001b[0m\u001b[0m\n\u001b[0;32m----> 2\u001b[0;31m \u001b[0mlen\u001b[0m\u001b[0;34m(\u001b[0m\u001b[0ma\u001b[0m\u001b[0;34m)\u001b[0m\u001b[0;34m\u001b[0m\u001b[0;34m\u001b[0m\u001b[0m\n\u001b[0m",
            "\u001b[0;31mTypeError\u001b[0m: 'int' object is not callable"
          ]
        }
      ]
    },
    {
      "cell_type": "code",
      "source": [
        "len = 5\n",
        "len(a)"
      ],
      "metadata": {
        "colab": {
          "base_uri": "https://localhost:8080/",
          "height": 166
        },
        "id": "elZu-cDDPIEl",
        "outputId": "778c1fc2-8579-4e28-d7ab-a9e3035d0ac0"
      },
      "execution_count": null,
      "outputs": [
        {
          "output_type": "error",
          "ename": "TypeError",
          "evalue": "'int' object is not callable",
          "traceback": [
            "\u001b[0;31m---------------------------------------------------------------------------\u001b[0m",
            "\u001b[0;31mTypeError\u001b[0m                                 Traceback (most recent call last)",
            "\u001b[0;32m<ipython-input-15-527da1dc9ea6>\u001b[0m in \u001b[0;36m<cell line: 0>\u001b[0;34m()\u001b[0m\n\u001b[1;32m      1\u001b[0m \u001b[0mlen\u001b[0m \u001b[0;34m=\u001b[0m \u001b[0;36m5\u001b[0m\u001b[0;34m\u001b[0m\u001b[0;34m\u001b[0m\u001b[0m\n\u001b[0;32m----> 2\u001b[0;31m \u001b[0mlen\u001b[0m\u001b[0;34m(\u001b[0m\u001b[0ma\u001b[0m\u001b[0;34m)\u001b[0m\u001b[0;34m\u001b[0m\u001b[0;34m\u001b[0m\u001b[0m\n\u001b[0m",
            "\u001b[0;31mTypeError\u001b[0m: 'int' object is not callable"
          ]
        }
      ]
    },
    {
      "cell_type": "code",
      "source": [
        "len = 5  # 내장 함수 'len'을 덮어씀\n",
        "print(len([1, 2, 3]))  # 오류 발생! len이 함수가 아니라 변수로 인식됨"
      ],
      "metadata": {
        "colab": {
          "base_uri": "https://localhost:8080/",
          "height": 166
        },
        "id": "_fDslgxCRiOa",
        "outputId": "728d4353-4dbf-4151-f987-f973493acb24"
      },
      "execution_count": null,
      "outputs": [
        {
          "output_type": "error",
          "ename": "TypeError",
          "evalue": "'int' object is not callable",
          "traceback": [
            "\u001b[0;31m---------------------------------------------------------------------------\u001b[0m",
            "\u001b[0;31mTypeError\u001b[0m                                 Traceback (most recent call last)",
            "\u001b[0;32m<ipython-input-16-b3d6a55fb338>\u001b[0m in \u001b[0;36m<cell line: 0>\u001b[0;34m()\u001b[0m\n\u001b[1;32m      1\u001b[0m \u001b[0mlen\u001b[0m \u001b[0;34m=\u001b[0m \u001b[0;36m5\u001b[0m  \u001b[0;31m# 내장 함수 'len'을 덮어씀\u001b[0m\u001b[0;34m\u001b[0m\u001b[0;34m\u001b[0m\u001b[0m\n\u001b[0;32m----> 2\u001b[0;31m \u001b[0mprint\u001b[0m\u001b[0;34m(\u001b[0m\u001b[0mlen\u001b[0m\u001b[0;34m(\u001b[0m\u001b[0;34m[\u001b[0m\u001b[0;36m1\u001b[0m\u001b[0;34m,\u001b[0m \u001b[0;36m2\u001b[0m\u001b[0;34m,\u001b[0m \u001b[0;36m3\u001b[0m\u001b[0;34m]\u001b[0m\u001b[0;34m)\u001b[0m\u001b[0;34m)\u001b[0m  \u001b[0;31m# 오류 발생! len이 함수가 아니라 변수로 인식됨\u001b[0m\u001b[0;34m\u001b[0m\u001b[0;34m\u001b[0m\u001b[0m\n\u001b[0m",
            "\u001b[0;31mTypeError\u001b[0m: 'int' object is not callable"
          ]
        }
      ]
    },
    {
      "cell_type": "markdown",
      "source": [
        "# 2. 변수의 범위 탐색 순서\n",
        "1. Local scope\n",
        "\n",
        "2. Enclosing scope\n",
        "\n",
        "3. Global scope\n",
        "\n",
        "4. Built-in scope\n",
        "\n",
        "\n",
        "\n",
        " > 따라서 지역 범위에 동일한 이름의 변수가 없으면 파이썬은 둘러싼 범위를 확인하고, 그다음으로 전역 범위, 마지막으로 내장 범위를 확인합니다. 이렇게 변수의 범위를 이해하고 관리하는 것은 코드의 가독성과 유지 보수성을 높이고, 예기치 않은 오류를 방지하기 위함입니다."
      ],
      "metadata": {
        "id": "z_a8jQnsPszI"
      }
    },
    {
      "cell_type": "code",
      "source": [],
      "metadata": {
        "id": "EVhKYh0nPxKT"
      },
      "execution_count": null,
      "outputs": []
    }
  ]
}