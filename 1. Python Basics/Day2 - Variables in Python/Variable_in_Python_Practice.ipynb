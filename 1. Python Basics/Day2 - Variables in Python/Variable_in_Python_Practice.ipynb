{
  "nbformat": 4,
  "nbformat_minor": 0,
  "metadata": {
    "colab": {
      "provenance": [],
      "authorship_tag": "ABX9TyMXkJ2wWTMFjvvJGjojcYBY",
      "include_colab_link": true
    },
    "kernelspec": {
      "name": "python3",
      "display_name": "Python 3"
    },
    "language_info": {
      "name": "python"
    }
  },
  "cells": [
    {
      "cell_type": "markdown",
      "metadata": {
        "id": "view-in-github",
        "colab_type": "text"
      },
      "source": [
        "<a href=\"https://colab.research.google.com/github/JinLeeGG/AI_Project_Preparation/blob/main/1.%20Python%20Basics/Day2%20-%20Variables%20in%20Python/Variable_in_Python_Practice.ipynb\" target=\"_parent\"><img src=\"https://colab.research.google.com/assets/colab-badge.svg\" alt=\"Open In Colab\"/></a>"
      ]
    },
    {
      "cell_type": "code",
      "execution_count": 3,
      "metadata": {
        "id": "hiCA6zWZ4YkZ",
        "colab": {
          "base_uri": "https://localhost:8080/"
        },
        "outputId": "0a3b7164-0845-4453-b542-93afa8916860"
      },
      "outputs": [
        {
          "output_type": "stream",
          "name": "stdout",
          "text": [
            "KimApple\n",
            "20\n",
            "Banhana\n"
          ]
        }
      ],
      "source": [
        "name = 'KimApple'\n",
        "age = 20\n",
        "print(name)\n",
        "print(age)\n",
        "\n",
        "name = 'Banhana'\n",
        "print(name)\n"
      ]
    },
    {
      "cell_type": "code",
      "source": [
        "a = 200\n",
        "b = 200\n",
        "print(a)\n",
        "print(b)\n",
        "\n",
        "print(a is b)\n",
        "print(a is name)\n",
        "\n",
        "print(id(a))\n",
        "print(id(b))\n",
        "print(id(name))"
      ],
      "metadata": {
        "colab": {
          "base_uri": "https://localhost:8080/"
        },
        "id": "d4BrJq2mN-Vw",
        "outputId": "0cc41bb1-1bd9-4621-e235-1185e16bc4f1"
      },
      "execution_count": 8,
      "outputs": [
        {
          "output_type": "stream",
          "name": "stdout",
          "text": [
            "200\n",
            "200\n",
            "True\n",
            "False\n",
            "10757224\n",
            "10757224\n",
            "136417632361584\n"
          ]
        }
      ]
    },
    {
      "cell_type": "code",
      "source": [
        "name = 'Kimapple'\n",
        "age = 20\n",
        "weight = 50.5\n",
        "isLover = False\n",
        "\n",
        "print(name)\n",
        "print(age)\n",
        "print(weight)\n",
        "print(isLover)\n",
        "\n",
        "print(type(name))\n",
        "print(type(age))\n",
        "print(type(weight))\n",
        "print(type(isLover))"
      ],
      "metadata": {
        "colab": {
          "base_uri": "https://localhost:8080/"
        },
        "id": "UiR05tW7OVLy",
        "outputId": "244e944f-51c8-4802-e364-0067deeab743"
      },
      "execution_count": 10,
      "outputs": [
        {
          "output_type": "stream",
          "name": "stdout",
          "text": [
            "Kimapple\n",
            "20\n",
            "50.5\n",
            "False\n",
            "<class 'str'>\n",
            "<class 'int'>\n",
            "<class 'float'>\n",
            "<class 'bool'>\n"
          ]
        }
      ]
    },
    {
      "cell_type": "code",
      "source": [
        "name = 'banana'\n",
        "age = 25\n",
        "height = 160.123\n",
        "\n",
        "print(f\"name: {name}, age: {age}, height: {height:.1f}cm\")\n",
        "print(type(name), type(age), type(height))\n"
      ],
      "metadata": {
        "colab": {
          "base_uri": "https://localhost:8080/"
        },
        "id": "QYiEE5LDOgdf",
        "outputId": "b1f1104a-8db9-4c86-e4a5-ce8cf30f450b"
      },
      "execution_count": 14,
      "outputs": [
        {
          "output_type": "stream",
          "name": "stdout",
          "text": [
            "name: banana, age: 25, height: 160.1cm\n",
            "<class 'str'> <class 'int'> <class 'float'>\n"
          ]
        }
      ]
    },
    {
      "cell_type": "code",
      "source": [
        "my_list = [1,2,3]\n",
        "print(type(my_list))\n",
        "\n",
        "my_tuple = (1,2,3)\n",
        "print(type(my_tuple))\n",
        "\n",
        "my_dict = {'key':'val'}\n",
        "print(type(my_dict))\n",
        "\n",
        "my_set = {1, 2, 3}\n",
        "print(type(my_set))"
      ],
      "metadata": {
        "colab": {
          "base_uri": "https://localhost:8080/"
        },
        "id": "i8-hvriiOnYx",
        "outputId": "d0bcdeb8-bcc5-412a-c830-9a74a7f932c3"
      },
      "execution_count": 16,
      "outputs": [
        {
          "output_type": "stream",
          "name": "stdout",
          "text": [
            "<class 'list'>\n",
            "<class 'tuple'>\n",
            "<class 'dict'>\n",
            "<class 'set'>\n"
          ]
        }
      ]
    },
    {
      "cell_type": "code",
      "source": [
        "## Type Casting\n",
        "\n",
        "# Integer >> float\n",
        "a = 100\n",
        "b = float(a)\n",
        "print(type(b))\n",
        "\n",
        "# float >> String\n",
        "c = 3.14\n",
        "d = str(c)\n",
        "print(type(d))\n",
        "\n",
        "#String >> int, float\n",
        "e = \"100\"\n",
        "f = int(e)\n",
        "g = float(e)\n",
        "print(type(f), type(g))\n",
        "\n",
        "# Int / Float >> String\n",
        "h = 42\n",
        "i = str(h)\n",
        "j = 3.14\n",
        "k = str(j)\n",
        "print(type(i), type(j))"
      ],
      "metadata": {
        "colab": {
          "base_uri": "https://localhost:8080/"
        },
        "id": "9QPNUWOaPkNt",
        "outputId": "2d72ffc8-5cae-434d-bf8a-738567e73891"
      },
      "execution_count": 24,
      "outputs": [
        {
          "output_type": "stream",
          "name": "stdout",
          "text": [
            "<class 'float'>\n",
            "<class 'str'>\n",
            "<class 'int'> <class 'float'>\n",
            "<class 'str'> <class 'float'>\n"
          ]
        }
      ]
    },
    {
      "cell_type": "code",
      "source": [
        "# deleting variables\n",
        "print(isLover)"
      ],
      "metadata": {
        "colab": {
          "base_uri": "https://localhost:8080/"
        },
        "id": "wTZq8SDkPrl7",
        "outputId": "4c4657f7-69a2-400e-eb2b-aeceeefb0c41"
      },
      "execution_count": 25,
      "outputs": [
        {
          "output_type": "stream",
          "name": "stdout",
          "text": [
            "False\n"
          ]
        }
      ]
    },
    {
      "cell_type": "code",
      "source": [
        "del isLover"
      ],
      "metadata": {
        "id": "_F0pakYjQXGd"
      },
      "execution_count": 26,
      "outputs": []
    },
    {
      "cell_type": "code",
      "source": [
        "print(isLover)"
      ],
      "metadata": {
        "colab": {
          "base_uri": "https://localhost:8080/",
          "height": 141
        },
        "id": "JV0cKLREQZUy",
        "outputId": "bebde376-0b8e-45bb-c252-dc4da51041d0"
      },
      "execution_count": 27,
      "outputs": [
        {
          "output_type": "error",
          "ename": "NameError",
          "evalue": "name 'isLover' is not defined",
          "traceback": [
            "\u001b[0;31m---------------------------------------------------------------------------\u001b[0m",
            "\u001b[0;31mNameError\u001b[0m                                 Traceback (most recent call last)",
            "\u001b[0;32m<ipython-input-27-6053910d0aff>\u001b[0m in \u001b[0;36m<cell line: 0>\u001b[0;34m()\u001b[0m\n\u001b[0;32m----> 1\u001b[0;31m \u001b[0mprint\u001b[0m\u001b[0;34m(\u001b[0m\u001b[0misLover\u001b[0m\u001b[0;34m)\u001b[0m\u001b[0;34m\u001b[0m\u001b[0;34m\u001b[0m\u001b[0m\n\u001b[0m",
            "\u001b[0;31mNameError\u001b[0m: name 'isLover' is not defined"
          ]
        }
      ]
    },
    {
      "cell_type": "code",
      "source": [
        "name1 = \"John\"\n",
        "name2 = name1\n",
        "\n",
        "del name1\n",
        "\n",
        "print(name2)"
      ],
      "metadata": {
        "colab": {
          "base_uri": "https://localhost:8080/"
        },
        "id": "ClzWMVLhQcOi",
        "outputId": "430a161f-8513-4edc-b9b4-7ccad9dddf37"
      },
      "execution_count": 28,
      "outputs": [
        {
          "output_type": "stream",
          "name": "stdout",
          "text": [
            "John\n"
          ]
        }
      ]
    },
    {
      "cell_type": "code",
      "source": [
        "## Immutable object\n",
        "\n",
        "x = 10\n",
        "print(id(x))\n",
        "\n",
        "x = x+1\n",
        "print(id(x))\n",
        "\n",
        "y = 11\n",
        "print(id(y))"
      ],
      "metadata": {
        "colab": {
          "base_uri": "https://localhost:8080/"
        },
        "id": "jd2uGNCiQioo",
        "outputId": "80fcfcb3-4419-4543-e5d1-64a39fae3ba6"
      },
      "execution_count": 31,
      "outputs": [
        {
          "output_type": "stream",
          "name": "stdout",
          "text": [
            "10751144\n",
            "10751176\n",
            "10751176\n"
          ]
        }
      ]
    }
  ]
}