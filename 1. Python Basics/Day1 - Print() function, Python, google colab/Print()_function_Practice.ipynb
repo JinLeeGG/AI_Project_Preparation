{
  "nbformat": 4,
  "nbformat_minor": 0,
  "metadata": {
    "colab": {
      "provenance": [],
      "authorship_tag": "ABX9TyMd7q7IdTztJ67A8+d+58XK",
      "include_colab_link": true
    },
    "kernelspec": {
      "name": "python3",
      "display_name": "Python 3"
    },
    "language_info": {
      "name": "python"
    }
  },
  "cells": [
    {
      "cell_type": "markdown",
      "metadata": {
        "id": "view-in-github",
        "colab_type": "text"
      },
      "source": [
        "<a href=\"https://colab.research.google.com/github/JinLeeGG/AI_Project_Preparation/blob/main/1.%20Python%20Basics/Day1%20-%20Print()%20function%2C%20Python%2C%20google%20colab/Print()_function_Practice.ipynb\" target=\"_parent\"><img src=\"https://colab.research.google.com/assets/colab-badge.svg\" alt=\"Open In Colab\"/></a>"
      ]
    },
    {
      "cell_type": "markdown",
      "source": [
        "### Print()"
      ],
      "metadata": {
        "id": "N4TwSv92e8lM"
      }
    },
    {
      "cell_type": "code",
      "source": [
        "print('Hello Python')\n",
        "print(\"Hello Python\")\n",
        "print(10)\n",
        "print('10')\n",
        "print(10, 20, 30, 40)\n",
        "print('Hello', 'Python')"
      ],
      "metadata": {
        "id": "WKfEtW2hfJe_",
        "colab": {
          "base_uri": "https://localhost:8080/"
        },
        "outputId": "653ced1a-e6f3-49c7-aeb0-7d12b3bea50d"
      },
      "execution_count": 7,
      "outputs": [
        {
          "output_type": "stream",
          "name": "stdout",
          "text": [
            "Hello Python\n",
            "Hello Python\n",
            "10\n",
            "10\n",
            "10 20 30 40\n",
            "Hello Python\n"
          ]
        }
      ]
    },
    {
      "cell_type": "code",
      "source": [
        "print(10, 20, 30, 40, sep='😊')\n",
        "print(10, 20, 30, 40, sep = ' ')"
      ],
      "metadata": {
        "colab": {
          "base_uri": "https://localhost:8080/"
        },
        "id": "b3EJzMQZfaXS",
        "outputId": "3e52dc4b-8bfa-4ccf-dd90-3eaf95587b1a"
      },
      "execution_count": 10,
      "outputs": [
        {
          "output_type": "stream",
          "name": "stdout",
          "text": [
            "10😊20😊30😊40\n",
            "10 20 30 40\n"
          ]
        }
      ]
    },
    {
      "cell_type": "code",
      "source": [
        "print('Hello', end='')\n",
        "print('Python')"
      ],
      "metadata": {
        "colab": {
          "base_uri": "https://localhost:8080/"
        },
        "id": "GOOvG_hGfkIA",
        "outputId": "d40c8968-27ec-43e2-f77a-67a57f805587"
      },
      "execution_count": 11,
      "outputs": [
        {
          "output_type": "stream",
          "name": "stdout",
          "text": [
            "HelloPython\n"
          ]
        }
      ]
    },
    {
      "cell_type": "code",
      "source": [
        "print('Hello', end=' ')\n",
        "print('Python')"
      ],
      "metadata": {
        "colab": {
          "base_uri": "https://localhost:8080/"
        },
        "id": "OPkQaEdyfu-s",
        "outputId": "42213d99-077d-4673-979a-5f79a91b143e"
      },
      "execution_count": 12,
      "outputs": [
        {
          "output_type": "stream",
          "name": "stdout",
          "text": [
            "Hello Python\n"
          ]
        }
      ]
    },
    {
      "cell_type": "code",
      "source": [
        "print('Hello', end='🎁')\n",
        "print('Python')"
      ],
      "metadata": {
        "colab": {
          "base_uri": "https://localhost:8080/"
        },
        "id": "c4E1uGABfw8N",
        "outputId": "37f6f629-bfd2-4b7c-9657-cc4d7dbed21a"
      },
      "execution_count": 13,
      "outputs": [
        {
          "output_type": "stream",
          "name": "stdout",
          "text": [
            "Hello🎁Python\n"
          ]
        }
      ]
    },
    {
      "cell_type": "markdown",
      "source": [
        "## 2. Escape Character in Python"
      ],
      "metadata": {
        "id": "paGm8CrzfyDd"
      }
    },
    {
      "cell_type": "code",
      "source": [
        "print('Hello\\nPython')"
      ],
      "metadata": {
        "colab": {
          "base_uri": "https://localhost:8080/"
        },
        "id": "ErfszlrGf67g",
        "outputId": "1d1c0fd8-fa66-4550-8f03-e4e843d8b123"
      },
      "execution_count": 14,
      "outputs": [
        {
          "output_type": "stream",
          "name": "stdout",
          "text": [
            "Hello\n",
            "Python\n"
          ]
        }
      ]
    },
    {
      "cell_type": "code",
      "source": [
        "print('Name:\\tJohn')"
      ],
      "metadata": {
        "colab": {
          "base_uri": "https://localhost:8080/"
        },
        "id": "gt0lmauPgCsz",
        "outputId": "072efe86-6c01-4a5b-949b-5a40cf2dc204"
      },
      "execution_count": 16,
      "outputs": [
        {
          "output_type": "stream",
          "name": "stdout",
          "text": [
            "Name:\tJohn\n"
          ]
        }
      ]
    },
    {
      "cell_type": "code",
      "source": [
        "print('\\\\')"
      ],
      "metadata": {
        "colab": {
          "base_uri": "https://localhost:8080/"
        },
        "id": "rFQ0wmvHgHa9",
        "outputId": "d821a9d8-25c4-4bd7-fd41-7a0dbb4563ae"
      },
      "execution_count": 17,
      "outputs": [
        {
          "output_type": "stream",
          "name": "stdout",
          "text": [
            "\\\n"
          ]
        }
      ]
    },
    {
      "cell_type": "markdown",
      "source": [
        "### 3. Calculation inside of print() function"
      ],
      "metadata": {
        "id": "LTcr0P2ugKXI"
      }
    },
    {
      "cell_type": "code",
      "source": [
        "print(10)\n",
        "print(10 + 5)\n",
        "print('addition: ', 10 + 5)\n",
        "print('subtraction: ', 10 - 5)\n",
        "print('multiply: ', 10 * 5)\n",
        "print('division: ', 10/5)\n",
        "print('integer division: ', 10 // 3)\n",
        "print('leftover: ', 10 % 30)\n",
        "print('exponential: ', 10 ** 5)"
      ],
      "metadata": {
        "colab": {
          "base_uri": "https://localhost:8080/"
        },
        "id": "xY7_UfwHgS3k",
        "outputId": "7952521c-dabb-42e7-da57-732bc5837747"
      },
      "execution_count": 27,
      "outputs": [
        {
          "output_type": "stream",
          "name": "stdout",
          "text": [
            "10\n",
            "15\n",
            "addition:  15\n",
            "subtraction:  5\n",
            "multiply:  50\n",
            "division:  2.0\n",
            "real number division:  3\n",
            "leftover:  10\n",
            "exponential:  100000\n"
          ]
        }
      ]
    },
    {
      "cell_type": "markdown",
      "source": [
        "### 4. formatting in print() function"
      ],
      "metadata": {
        "id": "GVshNRqzgy4O"
      }
    },
    {
      "cell_type": "code",
      "source": [
        "# % formatiing\n",
        "# %s : prints string format\n",
        "# %d : prints decimal format\n",
        "# %.nf: prints until nth float format\n",
        "\n",
        "print('Integer: ', 100)\n",
        "print('Integer: %d' % 100)    # Prints an integer\n",
        "print('Integer: %d' % 100.5)  # Still prints an integer\n",
        "print('Float: %f' % 100.5)    # Prints float until 6th\n",
        "print('Float: %.2f' % 100.5)  # Prints float until 2nd\n",
        "print('String: %s' % 'Python') # Prints String\n",
        "print('String: %s' % 100)       # Still prints string\n",
        "\n",
        "print('5 + 3 = 8')\n",
        "print('%d + %d = %d' % (5, 3, 5+3))\n",
        "\n",
        "print('name: %s, age: %d' % ('김사과', 20))\n",
        "print('weight: %.2f' % 50.123213)"
      ],
      "metadata": {
        "colab": {
          "base_uri": "https://localhost:8080/"
        },
        "id": "aHfGHk3ShM3-",
        "outputId": "742d26ff-817a-4fab-e602-399db36a7e1a"
      },
      "execution_count": 40,
      "outputs": [
        {
          "output_type": "stream",
          "name": "stdout",
          "text": [
            "Integer:  100\n",
            "Integer: 100\n",
            "Integer: 100\n",
            "Float: 100.500000\n",
            "Float: 100.50\n",
            "String: Python\n",
            "String: 100\n",
            "5 + 3 = 8\n",
            "5 + 3 = 8\n",
            "name: 김사과, age: 20\n",
            "weight: 50.12\n"
          ]
        }
      ]
    },
    {
      "cell_type": "markdown",
      "source": [
        "### 2. str.format() Method\n",
        "* {}: Put a variable or expression inside curly braces to output a value.\n",
        "* {:d}: Outputs an integer.\n",
        "* {:f}: Outputs a floating-point number.\n",
        "* {:s}: Outputs a string.\n",
        "* {:x}: Outputs an integer as a hexadecimal number.\n",
        "* {:0n}: Outputs an integer with n digits padded with zeros.\n",
        "* {:n.mf}: Outputs a floating-point number, specifying the total length n and the number of decimal places m.\n",
        "\n"
      ],
      "metadata": {
        "id": "q_xGi1AnjRWm"
      }
    },
    {
      "cell_type": "code",
      "source": [
        "print('My friend: {} {}'.format('John', 'Nick'))\n",
        "print('Name: {}, Age: {}, Score: {:.2f}'.format('John', 20, 95.321312))\n",
        "print('First: {0}, Second: {1}, first again: {0}'.format('John', 'Nick'))\n",
        "print('Name {name}, Age {age},'.format(name = 'John', age = 10))\n",
        "print('Number: {:,}'.format(1234567890))\n",
        "print('Hexadecimal: {:x}, octal: {:o}, Binary: {:b}'.format(255,255,255))\n"
      ],
      "metadata": {
        "colab": {
          "base_uri": "https://localhost:8080/"
        },
        "id": "M_3WWAT0jo1c",
        "outputId": "be530d97-b2db-407b-a8d4-6202d12fba80"
      },
      "execution_count": 48,
      "outputs": [
        {
          "output_type": "stream",
          "name": "stdout",
          "text": [
            "My friend: John Nick\n",
            "Name: John, Age: 20, Score: 95.32\n",
            "First: John, Second: Nick, first again: John\n",
            "Name John, Age 10,\n",
            "Number: 1,234,567,890\n",
            "Hexadecimal: ff, octal: 377, Binary: 11111111\n"
          ]
        }
      ]
    },
    {
      "cell_type": "markdown",
      "source": [
        "### 3.f-string\n"
      ],
      "metadata": {
        "id": "-u-LVBX6oSiT"
      }
    },
    {
      "cell_type": "code",
      "source": [
        "print(f'10 + 20 = {10 + 20}')\n",
        "print(f'3.14159 >> 2nd decimal: {3.14159:.2f}')"
      ],
      "metadata": {
        "colab": {
          "base_uri": "https://localhost:8080/"
        },
        "id": "N16dtMRwppw6",
        "outputId": "7cd4eac1-86ef-4e83-adef-43ff675379f0"
      },
      "execution_count": 52,
      "outputs": [
        {
          "output_type": "stream",
          "name": "stdout",
          "text": [
            "10 + 20 = 30\n",
            "3.14159 >> 2nd decimal: 3.14\n"
          ]
        }
      ]
    },
    {
      "cell_type": "markdown",
      "source": [
        "### 4. Comments"
      ],
      "metadata": {
        "id": "Ahfc9uV5p_ir"
      }
    },
    {
      "cell_type": "code",
      "source": [
        "\"\"\"\n",
        "hello\n",
        "there\n",
        "\n",
        "\"\"\"\n",
        "\n",
        "\n",
        "# hello"
      ],
      "metadata": {
        "colab": {
          "base_uri": "https://localhost:8080/",
          "height": 35
        },
        "id": "JGgClZJ1qCFU",
        "outputId": "a653b8b9-3193-4e09-f170-a249f358b341"
      },
      "execution_count": 53,
      "outputs": [
        {
          "output_type": "execute_result",
          "data": {
            "text/plain": [
              "'\\nhello\\nthere\\n\\n'"
            ],
            "application/vnd.google.colaboratory.intrinsic+json": {
              "type": "string"
            }
          },
          "metadata": {},
          "execution_count": 53
        }
      ]
    }
  ]
}