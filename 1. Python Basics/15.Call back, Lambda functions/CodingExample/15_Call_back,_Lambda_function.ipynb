{
  "nbformat": 4,
  "nbformat_minor": 0,
  "metadata": {
    "colab": {
      "provenance": [],
      "authorship_tag": "ABX9TyOCHIuqPJgSxAD88snavJz7",
      "include_colab_link": true
    },
    "kernelspec": {
      "name": "python3",
      "display_name": "Python 3"
    },
    "language_info": {
      "name": "python"
    }
  },
  "cells": [
    {
      "cell_type": "markdown",
      "metadata": {
        "id": "view-in-github",
        "colab_type": "text"
      },
      "source": [
        "<a href=\"https://colab.research.google.com/github/JinLeeGG/AI_Project_Preparation/blob/main/1.%20Python%20Basics/15.Call%20back%2C%20Lambda%20functions/CodingExample/15_Call_back%2C_Lambda_function.ipynb\" target=\"_parent\"><img src=\"https://colab.research.google.com/assets/colab-badge.svg\" alt=\"Open In Colab\"/></a>"
      ]
    },
    {
      "cell_type": "markdown",
      "source": [
        "#1. 콜백함수(callback function)\n",
        "콜백 함수란 다른 함수에 인수로 전달되어 특정 작업이 끝난 후 호출되는 함수를 의미합니다. 어떤 작업이 완료된 후에 자동으로 호출되도록 미리 준비해둔 함수입니다. 따라서 직접적으로 호출하지 않고 특정 조건이나 이벤트가 발생할 때 실행되도록 설정합니다."
      ],
      "metadata": {
        "id": "f0ukRSS7R1CN"
      }
    },
    {
      "cell_type": "code",
      "source": [
        "def callback_func(func):  # 다른 함수의 주소를 매개변수로 넣는다.\n",
        "    for i in range(5):    # 5번동안\n",
        "        func()            # 그 주소의 함수를 실행시킨다.\n",
        "\n",
        "def print_hello():\n",
        "    print('Hello Python!')\n",
        "\n",
        "# print_hello()\n",
        "\n",
        "callback_func(print_hello)  #  callback_func에서 print_hello의 주소를 가져와서 그 주소의 함수를 5번 실행시킨다."
      ],
      "metadata": {
        "colab": {
          "base_uri": "https://localhost:8080/"
        },
        "id": "V21kLs6DR9Wt",
        "outputId": "390a8e5a-1dfd-4292-fac1-c3f5de32bc09"
      },
      "execution_count": null,
      "outputs": [
        {
          "output_type": "stream",
          "name": "stdout",
          "text": [
            "Hello Python!\n",
            "Hello Python!\n",
            "Hello Python!\n",
            "Hello Python!\n",
            "Hello Python!\n"
          ]
        }
      ]
    },
    {
      "cell_type": "code",
      "source": [
        "def callback_func(func, num):\n",
        "    for i in range(num):\n",
        "        func(i)\n",
        "\n",
        "def print_hello(num):\n",
        "    print('hello Python!', num)\n",
        "\n",
        "def print_hi(num):\n",
        "    print('hi Python!', num)\n",
        "\n",
        "callback_func(print_hello, 3)\n",
        "callback_func(print_hi, 5)"
      ],
      "metadata": {
        "colab": {
          "base_uri": "https://localhost:8080/"
        },
        "id": "8EUX8kSVTxZd",
        "outputId": "9579c3e6-7ed0-47e2-c243-f48f147432cc"
      },
      "execution_count": null,
      "outputs": [
        {
          "output_type": "stream",
          "name": "stdout",
          "text": [
            "hello Python! 0\n",
            "hello Python! 1\n",
            "hello Python! 2\n",
            "hi Python! 0\n",
            "hi Python! 1\n",
            "hi Python! 2\n",
            "hi Python! 3\n",
            "hi Python! 4\n"
          ]
        }
      ]
    },
    {
      "cell_type": "markdown",
      "source": [
        "# 2. 람다 함수(Lambda Function)\n",
        "람다 함수는 파이썬에서 익명의 간단한 함수를 생성하기 위한 특별한 구문입니다. \"익명의 함수\"라는 것은 함수에 고유한 이름이 지정되지 않았음을 의미합니다. 람다 함수는 일반적인 함수(def를 사용하여 정의)와는 달리, 한 줄로 표현되는 짧고 간결한 함수를 생성할 때 주로 사용됩니다.\n",
        "\n",
        "```\n",
        "lambda 매개변수: 표현식\n",
        "```\n",
        "\n",
        "* 간결성: 람다 함수는 간단한 연산이나 작은 기능을 가진 함수를 간결하게 표현하는 데 유용합니다.\n",
        "\n",
        "* 익명성: 람다 함수에는 명시적인 이름이 부여되지 않습니다. 그러나 필요에 따라 변수에 할당할 수 있습니다.\n",
        "\n",
        "* 일회성: 일반적으로 특정 작업을 위한 일회성 함수로 사용됩니다.\n",
        "\n"
      ],
      "metadata": {
        "id": "cPPUexF1U3Rr"
      }
    },
    {
      "cell_type": "code",
      "source": [
        "def square(x):\n",
        "    return x**2\n",
        "\n",
        "print(square(5))"
      ],
      "metadata": {
        "colab": {
          "base_uri": "https://localhost:8080/"
        },
        "id": "kArDj_Z4U4w0",
        "outputId": "d09a308f-8535-4d6d-a2c9-c0506a608583"
      },
      "execution_count": null,
      "outputs": [
        {
          "output_type": "stream",
          "name": "stdout",
          "text": [
            "25\n"
          ]
        }
      ]
    },
    {
      "cell_type": "code",
      "source": [
        "# lambda 매개변수: 표현식\n",
        "square = lambda x: x**2  # 람다는 무조건 결과가 리턴형\n",
        "print(square(5))"
      ],
      "metadata": {
        "colab": {
          "base_uri": "https://localhost:8080/"
        },
        "id": "QgKNl7IPYgeq",
        "outputId": "faaecd8f-d8f0-4d5d-ea90-3c7ece282864"
      },
      "execution_count": null,
      "outputs": [
        {
          "output_type": "stream",
          "name": "stdout",
          "text": [
            "25\n"
          ]
        }
      ]
    },
    {
      "cell_type": "code",
      "source": [
        "(lambda x: x**2)(5)"
      ],
      "metadata": {
        "colab": {
          "base_uri": "https://localhost:8080/"
        },
        "id": "GRrE6O9OY2OQ",
        "outputId": "22684b16-2bee-4b5d-f658-0cfed97ced5d"
      },
      "execution_count": null,
      "outputs": [
        {
          "output_type": "execute_result",
          "data": {
            "text/plain": [
              "25"
            ]
          },
          "metadata": {},
          "execution_count": 11
        }
      ]
    },
    {
      "cell_type": "code",
      "source": [
        "people = [\n",
        "    {'name':'오렌지', 'age':30},\n",
        "    {'name':'김사과', 'age':20},\n",
        "    {'name':'반하나', 'age':25}\n",
        "]\n",
        "\n",
        "def sort_age(x):\n",
        "    return x['age']"
      ],
      "metadata": {
        "id": "53uMe5REZC4o"
      },
      "execution_count": null,
      "outputs": []
    },
    {
      "cell_type": "code",
      "source": [
        "people[0]"
      ],
      "metadata": {
        "colab": {
          "base_uri": "https://localhost:8080/"
        },
        "id": "mOHY4YwaZT_C",
        "outputId": "eaf47610-7f49-4cb7-acb0-b7f0da92b538"
      },
      "execution_count": null,
      "outputs": [
        {
          "output_type": "execute_result",
          "data": {
            "text/plain": [
              "{'name': '오렌지', 'age': 30}"
            ]
          },
          "metadata": {},
          "execution_count": 14
        }
      ]
    },
    {
      "cell_type": "code",
      "source": [
        "sort_age(people[0]) # 0번 people 딕셔너리에 있는 내용을 때서 sorted_age 함수 안에 넣는다"
      ],
      "metadata": {
        "colab": {
          "base_uri": "https://localhost:8080/"
        },
        "id": "OH3EH7SQZWIc",
        "outputId": "0975a49d-69c1-4e6d-f734-f6e87996c7dd"
      },
      "execution_count": null,
      "outputs": [
        {
          "output_type": "execute_result",
          "data": {
            "text/plain": [
              "30"
            ]
          },
          "metadata": {},
          "execution_count": 15
        }
      ]
    },
    {
      "cell_type": "code",
      "source": [
        "sorted_people = sorted(people, key = sort_age) # key 안에 콜백함수를 넣어서 people 리스트 안에 있는 내용마다 다 실행시켜준다.\n",
        "print(sorted_people)"
      ],
      "metadata": {
        "colab": {
          "base_uri": "https://localhost:8080/"
        },
        "id": "j6xbukqMZkVb",
        "outputId": "45070ebb-854e-4ea1-9c38-f3f4701d4350"
      },
      "execution_count": null,
      "outputs": [
        {
          "output_type": "stream",
          "name": "stdout",
          "text": [
            "[{'name': '김사과', 'age': 20}, {'name': '반하나', 'age': 25}, {'name': '오렌지', 'age': 30}]\n"
          ]
        }
      ]
    },
    {
      "cell_type": "code",
      "source": [
        "sorted_people = sorted(people, key = lambda x: x['age'])\n",
        "print(sorted_people)"
      ],
      "metadata": {
        "colab": {
          "base_uri": "https://localhost:8080/"
        },
        "id": "yvEViIQiafLw",
        "outputId": "63c16b2e-472f-41b7-f620-b36ebb09ebb3"
      },
      "execution_count": null,
      "outputs": [
        {
          "output_type": "stream",
          "name": "stdout",
          "text": [
            "[{'name': '김사과', 'age': 20}, {'name': '반하나', 'age': 25}, {'name': '오렌지', 'age': 30}]\n"
          ]
        }
      ]
    },
    {
      "cell_type": "markdown",
      "source": [
        "# 3. 람다가 유용하게 사용되는 대표적인 함수"
      ],
      "metadata": {
        "id": "qFMHAtbWa2Yf"
      }
    },
    {
      "cell_type": "markdown",
      "source": [
        "### 1. filter 함수\n",
        "filter()는 파이썬의 내장 함수로, 주어진 함수의 조건을 만족하는 항목만으로 이루어진 이터레이터를 반환합니다. 이 함수는 주로 리스트나 다른 순차적인 데이터 타입에서 특정 조건을 만족하는 항목들만을 필터링할 때 사용됩니다."
      ],
      "metadata": {
        "id": "vCv1bqDra3aC"
      }
    },
    {
      "cell_type": "code",
      "source": [
        "li = [2, 5, 7, 10, 15, 17, 20, 22, 25, 28]\n",
        "\n",
        "def even(n):\n",
        "    if n % 2 == 0:\n",
        "        return True\n",
        "    else:\n",
        "        return False\n",
        "\n",
        "result = list(filter(even, li)) # 한번만 체크할꺼인데 콜백함수는 비효율적이다.\n",
        "print(result) # 주어진 함수의 조건을 만족하는 항목만으로 이루어진 이터레이터를 반환합니다"
      ],
      "metadata": {
        "colab": {
          "base_uri": "https://localhost:8080/"
        },
        "id": "DR9RGGZTa5HS",
        "outputId": "b1324a7a-4ff9-43f0-f161-a225cc814350"
      },
      "execution_count": null,
      "outputs": [
        {
          "output_type": "stream",
          "name": "stdout",
          "text": [
            "[2, 10, 20, 22, 28]\n"
          ]
        }
      ]
    },
    {
      "cell_type": "code",
      "source": [
        "result = list(filter(lambda n: n%2 == 0, li)) #람다로 해결가능\n",
        "print(result)"
      ],
      "metadata": {
        "colab": {
          "base_uri": "https://localhost:8080/"
        },
        "id": "vf-04zlub5RA",
        "outputId": "c1aa29e9-a9d0-4c26-8eac-2992e1a533a6"
      },
      "execution_count": null,
      "outputs": [
        {
          "output_type": "stream",
          "name": "stdout",
          "text": [
            "[2, 10, 20, 22, 28]\n"
          ]
        }
      ]
    },
    {
      "cell_type": "markdown",
      "source": [
        "### 2. map 함수\n",
        "map()는 파이썬의 내장 함수로, 주어진 함수를 이터러블의 모든 항목에 적용하여 결과를 반환하는 이터레이터를 생성합니다. 이 함수는 주로 리스트나 다른 순차적인 데이터 타입의 항목 각각에 함수를 적용할 때 사용됩니다."
      ],
      "metadata": {
        "id": "Sy6Nc70vcN1o"
      }
    },
    {
      "cell_type": "code",
      "source": [
        "# 함수를 모든 데이터에 적용하고 싶을때 맵 함수를 쓴다.\n",
        "\n",
        "num = [1,2,3,4,5]\n",
        "squared_num = list(map(lambda x: x**2, num)) # 1,2,3,4,5를 다 x**2에 대입시켜서 리턴해준다.\n",
        "print(squared_num)"
      ],
      "metadata": {
        "colab": {
          "base_uri": "https://localhost:8080/"
        },
        "id": "vmmKqqQCcRL5",
        "outputId": "0e8ef626-b712-4681-bd0d-fb7865e6d728"
      },
      "execution_count": null,
      "outputs": [
        {
          "output_type": "stream",
          "name": "stdout",
          "text": [
            "[1, 4, 9, 16, 25]\n"
          ]
        }
      ]
    },
    {
      "cell_type": "code",
      "source": [
        "li1 = [1, 2, 3]\n",
        "li2 = [4, 5, 6]\n",
        "sum = list(map(lambda x, y: x+y, li1, li2)) # 2개의 파라메터를 넣을 수 있다.\n",
        "print(sum)"
      ],
      "metadata": {
        "colab": {
          "base_uri": "https://localhost:8080/"
        },
        "id": "J1bpA5CNc5Zv",
        "outputId": "fe8a8bce-3db9-4d19-bd82-f981a4c3d709"
      },
      "execution_count": null,
      "outputs": [
        {
          "output_type": "stream",
          "name": "stdout",
          "text": [
            "[5, 7, 9]\n"
          ]
        }
      ]
    },
    {
      "cell_type": "code",
      "source": [
        "words = ['apple', 'banana', 'cherry']\n",
        "upper_words = list(map(lambda x: x.upper(), words))\n",
        "print(upper_words)"
      ],
      "metadata": {
        "colab": {
          "base_uri": "https://localhost:8080/"
        },
        "id": "1uvL9qJtdO3G",
        "outputId": "c7f64988-ba74-4e07-e639-584eba167816"
      },
      "execution_count": null,
      "outputs": [
        {
          "output_type": "stream",
          "name": "stdout",
          "text": [
            "['APPLE', 'BANANA', 'CHERRY']\n"
          ]
        }
      ]
    }
  ]
}