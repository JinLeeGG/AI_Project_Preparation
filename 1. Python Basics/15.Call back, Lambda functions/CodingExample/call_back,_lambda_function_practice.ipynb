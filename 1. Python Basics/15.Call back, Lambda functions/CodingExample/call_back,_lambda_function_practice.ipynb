{
  "nbformat": 4,
  "nbformat_minor": 0,
  "metadata": {
    "colab": {
      "provenance": [],
      "authorship_tag": "ABX9TyP880VbBjr7KN1/fOzjaVCq",
      "include_colab_link": true
    },
    "kernelspec": {
      "name": "python3",
      "display_name": "Python 3"
    },
    "language_info": {
      "name": "python"
    }
  },
  "cells": [
    {
      "cell_type": "markdown",
      "metadata": {
        "id": "view-in-github",
        "colab_type": "text"
      },
      "source": [
        "<a href=\"https://colab.research.google.com/github/JinLeeGG/AI_Project_Preparation/blob/main/1.%20Python%20Basics/15.Call%20back%2C%20Lambda%20functions/CodingExample/call_back%2C_lambda_function_practice.ipynb\" target=\"_parent\"><img src=\"https://colab.research.google.com/assets/colab-badge.svg\" alt=\"Open In Colab\"/></a>"
      ]
    },
    {
      "cell_type": "markdown",
      "source": [
        "# Call back function"
      ],
      "metadata": {
        "id": "yHPc-hM_hGUZ"
      }
    },
    {
      "cell_type": "code",
      "execution_count": 1,
      "metadata": {
        "colab": {
          "base_uri": "https://localhost:8080/"
        },
        "id": "6UZc3EhcUrVU",
        "outputId": "3c5ff0a0-1100-4026-fcf5-f4080b7c2589"
      },
      "outputs": [
        {
          "output_type": "stream",
          "name": "stdout",
          "text": [
            "Hello Python!\n",
            "Hello Python!\n",
            "Hello Python!\n",
            "Hello Python!\n",
            "Hello Python!\n"
          ]
        }
      ],
      "source": [
        "def callback_func(func):\n",
        "    for i in range(5):\n",
        "      func()\n",
        "\n",
        "def print_hello():\n",
        "    print('Hello Python!')\n",
        "\n",
        "callback_func(print_hello)"
      ]
    },
    {
      "cell_type": "code",
      "source": [
        "def callback_func(func, num):\n",
        "    for i in range(num):\n",
        "      func(i)\n",
        "\n",
        "def print_hello(num):\n",
        "    print('hello Python!', num)\n",
        "\n",
        "def print_hi(num):\n",
        "    print('hi Python!', num)\n",
        "\n",
        "callback_func(print_hello, 3)\n",
        "callback_func(print_hi, 5)"
      ],
      "metadata": {
        "colab": {
          "base_uri": "https://localhost:8080/"
        },
        "id": "ehowfLwgcNUT",
        "outputId": "b71b66c2-b00e-4967-fbd9-c3c2296c4509"
      },
      "execution_count": 3,
      "outputs": [
        {
          "output_type": "stream",
          "name": "stdout",
          "text": [
            "hello Python! 0\n",
            "hello Python! 1\n",
            "hello Python! 2\n",
            "hi Python! 0\n",
            "hi Python! 1\n",
            "hi Python! 2\n",
            "hi Python! 3\n",
            "hi Python! 4\n"
          ]
        }
      ]
    },
    {
      "cell_type": "markdown",
      "source": [
        "# Lambda function"
      ],
      "metadata": {
        "id": "mutUhtEfhErG"
      }
    },
    {
      "cell_type": "code",
      "source": [
        "def square(x):\n",
        "    return x**2\n",
        "\n",
        "print(square(5))"
      ],
      "metadata": {
        "colab": {
          "base_uri": "https://localhost:8080/"
        },
        "id": "07h6AKschKbv",
        "outputId": "e04321bc-130e-4350-aeb0-b2dfc4591452"
      },
      "execution_count": 6,
      "outputs": [
        {
          "output_type": "stream",
          "name": "stdout",
          "text": [
            "25\n"
          ]
        }
      ]
    },
    {
      "cell_type": "code",
      "source": [
        "# lambda parameter : expression\n",
        "square = lambda x: x**2 #lambda always returns value\n",
        "print(square(5))"
      ],
      "metadata": {
        "colab": {
          "base_uri": "https://localhost:8080/"
        },
        "id": "4_ZOmb33hUJn",
        "outputId": "ea43fd39-c2c1-4b0a-ce78-af5868eda121"
      },
      "execution_count": 7,
      "outputs": [
        {
          "output_type": "stream",
          "name": "stdout",
          "text": [
            "25\n"
          ]
        }
      ]
    },
    {
      "cell_type": "code",
      "source": [
        "(lambda x:x**2)(5)"
      ],
      "metadata": {
        "colab": {
          "base_uri": "https://localhost:8080/"
        },
        "id": "DeMRaOjAheud",
        "outputId": "1d8d6bc3-bcfc-48e1-9a49-1b03729ce0cf"
      },
      "execution_count": 8,
      "outputs": [
        {
          "output_type": "execute_result",
          "data": {
            "text/plain": [
              "25"
            ]
          },
          "metadata": {},
          "execution_count": 8
        }
      ]
    },
    {
      "cell_type": "code",
      "source": [
        "fruits = [\n",
        "    {'name' : 'Orange', 'freshness':20},\n",
        "    {'name' : 'Apple', 'freshness':30},\n",
        "    {'name' : 'Banana', 'freshness':25}\n",
        "]\n",
        "\n",
        "def sort_freshness(x):\n",
        "    return x['freshness']"
      ],
      "metadata": {
        "id": "_huAlPEbh_em"
      },
      "execution_count": 15,
      "outputs": []
    },
    {
      "cell_type": "code",
      "source": [
        "fruits[0]"
      ],
      "metadata": {
        "colab": {
          "base_uri": "https://localhost:8080/"
        },
        "id": "mWphWpHZidxO",
        "outputId": "67348116-60ec-4f18-cecb-6c536d8b9575"
      },
      "execution_count": 12,
      "outputs": [
        {
          "output_type": "execute_result",
          "data": {
            "text/plain": [
              "{'name': 'Orange', 'freshness': 20}"
            ]
          },
          "metadata": {},
          "execution_count": 12
        }
      ]
    },
    {
      "cell_type": "code",
      "source": [
        "sort_freshness(fruits[0])"
      ],
      "metadata": {
        "colab": {
          "base_uri": "https://localhost:8080/"
        },
        "id": "YvySgnbIinOl",
        "outputId": "e5f1ed0a-8241-4bca-d6b7-70befca610b3"
      },
      "execution_count": 16,
      "outputs": [
        {
          "output_type": "execute_result",
          "data": {
            "text/plain": [
              "20"
            ]
          },
          "metadata": {},
          "execution_count": 16
        }
      ]
    },
    {
      "cell_type": "code",
      "source": [
        "sorted_fruit = sorted(fruits, key=sort_freshness) #Call back function inside of Key\n",
        "print(sorted_fruit)"
      ],
      "metadata": {
        "colab": {
          "base_uri": "https://localhost:8080/"
        },
        "id": "LEnJ38ehixX2",
        "outputId": "c3aced2f-4945-48fb-85dc-a414aa885036"
      },
      "execution_count": 25,
      "outputs": [
        {
          "output_type": "stream",
          "name": "stdout",
          "text": [
            "[{'name': 'Orange', 'freshness': 20}, {'name': 'Banana', 'freshness': 25}, {'name': 'Apple', 'freshness': 30}]\n"
          ]
        }
      ]
    },
    {
      "cell_type": "code",
      "source": [
        "sorted_fruit = sorted(fruits, key = lambda x:x['freshness'])\n",
        "print(sorted_fruit)"
      ],
      "metadata": {
        "colab": {
          "base_uri": "https://localhost:8080/"
        },
        "id": "d-EE2valjBUg",
        "outputId": "40fbd8b6-891f-4357-bcf2-ab84ad91cf27"
      },
      "execution_count": 27,
      "outputs": [
        {
          "output_type": "stream",
          "name": "stdout",
          "text": [
            "[{'name': 'Orange', 'freshness': 20}, {'name': 'Banana', 'freshness': 25}, {'name': 'Apple', 'freshness': 30}]\n"
          ]
        }
      ]
    },
    {
      "cell_type": "markdown",
      "source": [
        "# Lambda functions"
      ],
      "metadata": {
        "id": "EMKAydAnkSIG"
      }
    },
    {
      "cell_type": "code",
      "source": [
        "# filter function\n",
        "\n",
        "li = [22, 5, 7, 10, 23, 23, 120, 21, 11, 45]\n",
        "\n",
        "def even(n):\n",
        "    if n % 2 == 0:\n",
        "        return True\n",
        "    else:\n",
        "        return False\n",
        "\n",
        "result = list(filter(even, li)) # it is inefficent to use call back function to check only once\n",
        "print(result) # returns iterater that only meets condition of the function"
      ],
      "metadata": {
        "colab": {
          "base_uri": "https://localhost:8080/"
        },
        "id": "gKO0qMlVjVKb",
        "outputId": "0a05b89e-7d37-41b0-ce27-98b0de2822eb"
      },
      "execution_count": 30,
      "outputs": [
        {
          "output_type": "stream",
          "name": "stdout",
          "text": [
            "[22, 10, 120]\n"
          ]
        }
      ]
    },
    {
      "cell_type": "code",
      "source": [
        "result = list(filter(lambda x: x%2 == 0, li)) # we can use lambda for memory efficiency\n",
        "print(result)"
      ],
      "metadata": {
        "colab": {
          "base_uri": "https://localhost:8080/"
        },
        "id": "XGjl9yrJj-F1",
        "outputId": "e443c8ad-49cf-4b0b-e384-92cedab7f310"
      },
      "execution_count": 33,
      "outputs": [
        {
          "output_type": "stream",
          "name": "stdout",
          "text": [
            "[22, 10, 120]\n"
          ]
        }
      ]
    },
    {
      "cell_type": "code",
      "source": [
        "# map functions\n",
        "# use map when we want to apply function to all datas\n",
        "\n",
        "num = [1, 2, 3, 4, 5]\n",
        "squared_num = list(map(lambda x: x**2, num)) # take 1, 2, 3, 4, 5 and apply to x**2 and return\n",
        "print(squared_num)"
      ],
      "metadata": {
        "colab": {
          "base_uri": "https://localhost:8080/"
        },
        "id": "FUWr9LnKkP56",
        "outputId": "7b5a5cc6-331a-4aef-e6b1-baa43d773cba"
      },
      "execution_count": 34,
      "outputs": [
        {
          "output_type": "stream",
          "name": "stdout",
          "text": [
            "[1, 4, 9, 16, 25]\n"
          ]
        }
      ]
    },
    {
      "cell_type": "code",
      "source": [
        "li1 = [1, 2, 3]\n",
        "li2 = [4, 5, 6]\n",
        "\n",
        "sum = list(map(lambda x, y: x+y, li1, li2)) # we can put two parameters by using map\n",
        "print(sum)"
      ],
      "metadata": {
        "colab": {
          "base_uri": "https://localhost:8080/"
        },
        "id": "eFsKB9RMkuVO",
        "outputId": "2b264264-5b65-466f-d068-ff8fd89161c1"
      },
      "execution_count": 35,
      "outputs": [
        {
          "output_type": "stream",
          "name": "stdout",
          "text": [
            "[5, 7, 9]\n"
          ]
        }
      ]
    },
    {
      "cell_type": "code",
      "source": [
        "words = ['apple', 'banana', 'cherry']\n",
        "upper_words = list(map(lambda x: x.upper(), words))\n",
        "print(upper_words)"
      ],
      "metadata": {
        "colab": {
          "base_uri": "https://localhost:8080/"
        },
        "id": "d_lKRc2hk9wz",
        "outputId": "c3326639-1f56-45fb-90aa-73a92cc28146"
      },
      "execution_count": 36,
      "outputs": [
        {
          "output_type": "stream",
          "name": "stdout",
          "text": [
            "['APPLE', 'BANANA', 'CHERRY']\n"
          ]
        }
      ]
    }
  ]
}