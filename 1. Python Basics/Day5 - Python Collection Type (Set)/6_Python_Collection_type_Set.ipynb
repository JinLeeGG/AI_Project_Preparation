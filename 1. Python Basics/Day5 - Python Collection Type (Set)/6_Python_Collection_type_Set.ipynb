{
  "nbformat": 4,
  "nbformat_minor": 0,
  "metadata": {
    "colab": {
      "provenance": [],
      "authorship_tag": "ABX9TyPLc4ecMps+cE6MxmLkaQ3h",
      "include_colab_link": true
    },
    "kernelspec": {
      "name": "python3",
      "display_name": "Python 3"
    },
    "language_info": {
      "name": "python"
    }
  },
  "cells": [
    {
      "cell_type": "markdown",
      "metadata": {
        "id": "view-in-github",
        "colab_type": "text"
      },
      "source": [
        "<a href=\"https://colab.research.google.com/github/JinLeeGG/AI_Project_Preparation/blob/main/1.%20Python%20Basics/Day5%20-%20Python%20Collection%20Type%20(Set)/6_Python_Collection_type_Set.ipynb\" target=\"_parent\"><img src=\"https://colab.research.google.com/assets/colab-badge.svg\" alt=\"Open In Colab\"/></a>"
      ]
    },
    {
      "cell_type": "markdown",
      "source": [
        "https://ryuzyproject.tistory.com/10"
      ],
      "metadata": {
        "id": "E5Clf2sctDtp"
      }
    },
    {
      "cell_type": "markdown",
      "source": [
        "# 1. 세트\n",
        "세트(set)는 중복되지 않는 항목들의 컬렉션입니다."
      ],
      "metadata": {
        "id": "zUjKy8HRVKkL"
      }
    },
    {
      "cell_type": "code",
      "source": [
        "# 1. 생성\n",
        "# 세트는 중괄호 {}를 사용하여 생성하거나 set() 생성자를 사용할 수 있습니다.\n",
        "\n",
        "s1 = {1, 3, 5, 7}\n",
        "print(s1)\n",
        "print(type(s1))"
      ],
      "metadata": {
        "colab": {
          "base_uri": "https://localhost:8080/"
        },
        "id": "tfJoAZ1HVTSW",
        "outputId": "75d11f37-5086-4395-b173-aaee529f09ac"
      },
      "execution_count": 1,
      "outputs": [
        {
          "output_type": "stream",
          "name": "stdout",
          "text": [
            "{1, 3, 5, 7}\n",
            "<class 'set'>\n"
          ]
        }
      ]
    },
    {
      "cell_type": "code",
      "source": [
        "s2 = {}\n",
        "print(s2)\n",
        "print(type(s2))"
      ],
      "metadata": {
        "colab": {
          "base_uri": "https://localhost:8080/"
        },
        "id": "jNHhkDnuV-jB",
        "outputId": "d006b353-c3b0-410d-caf0-e310c5f4a003"
      },
      "execution_count": 2,
      "outputs": [
        {
          "output_type": "stream",
          "name": "stdout",
          "text": [
            "{}\n",
            "<class 'dict'>\n"
          ]
        }
      ]
    },
    {
      "cell_type": "code",
      "source": [
        "s3 = set([1, 3, 5, 7])\n",
        "print(s3)\n",
        "print(type(s3))"
      ],
      "metadata": {
        "colab": {
          "base_uri": "https://localhost:8080/"
        },
        "id": "0PouKgugV_e9",
        "outputId": "fa2d00c3-aede-4749-8c0b-ab4db2882366"
      },
      "execution_count": 3,
      "outputs": [
        {
          "output_type": "stream",
          "name": "stdout",
          "text": [
            "{1, 3, 5, 7}\n",
            "<class 'set'>\n"
          ]
        }
      ]
    },
    {
      "cell_type": "code",
      "source": [
        "li4 = [1, 2, 3, 4]\n",
        "print(type(li4))\n",
        "s4 = set(li4)\n",
        "print(s4)\n",
        "print(type(s4))"
      ],
      "metadata": {
        "colab": {
          "base_uri": "https://localhost:8080/"
        },
        "id": "BPQ6R9XIXITY",
        "outputId": "5f583792-d2d6-4fef-d388-9b582e1fe659"
      },
      "execution_count": 5,
      "outputs": [
        {
          "output_type": "stream",
          "name": "stdout",
          "text": [
            "<class 'list'>\n",
            "{1, 2, 3, 4}\n",
            "<class 'set'>\n"
          ]
        }
      ]
    },
    {
      "cell_type": "code",
      "source": [
        "s5 = {1, 3, 5, 3, 7, 9, 1, 5, 10, 7}\n",
        "print(s5)"
      ],
      "metadata": {
        "colab": {
          "base_uri": "https://localhost:8080/"
        },
        "id": "d3usvPFkXI0o",
        "outputId": "472e21cd-961b-409c-d962-f2ee4dd265d8"
      },
      "execution_count": 6,
      "outputs": [
        {
          "output_type": "stream",
          "name": "stdout",
          "text": [
            "{1, 3, 5, 7, 9, 10}\n"
          ]
        }
      ]
    },
    {
      "cell_type": "code",
      "source": [
        "li6 = [1, 3, 5, 3, 7, 9, 1, 5, 10, 7]\n",
        "print(li6)\n",
        "s6 = set(li6)\n",
        "print(s6)"
      ],
      "metadata": {
        "colab": {
          "base_uri": "https://localhost:8080/"
        },
        "id": "SQU-wB11Xx7n",
        "outputId": "f2b8123c-87d5-4274-e1e4-0084ad3b5b08"
      },
      "execution_count": 7,
      "outputs": [
        {
          "output_type": "stream",
          "name": "stdout",
          "text": [
            "[1, 3, 5, 3, 7, 9, 1, 5, 10, 7]\n",
            "{1, 3, 5, 7, 9, 10}\n"
          ]
        }
      ]
    },
    {
      "cell_type": "markdown",
      "source": [
        "# 2. 메소드\n",
        "세트는 여러 메소드를 가지고 있습니다."
      ],
      "metadata": {
        "id": "prDyYdxgX_iB"
      }
    },
    {
      "cell_type": "code",
      "source": [
        "s1 = {1, 3, 5, 7}\n",
        "print(s1)\n",
        "\n",
        "# add(): 세트의 요소를 추가\n",
        "s1.add(2)\n",
        "print(s1)\n",
        "s1.add(4)\n",
        "print(s1)\n",
        "s1.add(7)\n",
        "print(s1)"
      ],
      "metadata": {
        "colab": {
          "base_uri": "https://localhost:8080/"
        },
        "id": "IauGFkq7YBOp",
        "outputId": "cdc6e246-d62e-4d6e-fc58-ecd570603abc"
      },
      "execution_count": 8,
      "outputs": [
        {
          "output_type": "stream",
          "name": "stdout",
          "text": [
            "{1, 3, 5, 7}\n",
            "{1, 2, 3, 5, 7}\n",
            "{1, 2, 3, 4, 5, 7}\n",
            "{1, 2, 3, 4, 5, 7}\n"
          ]
        }
      ]
    },
    {
      "cell_type": "code",
      "source": [
        "s1 = {1, 3, 5, 7}\n",
        "print(s1)\n",
        "\n",
        "# update(): 세트에 여러 요소를 추가\n",
        "s1.update([2, 3, 4, 6, 8, 10])\n",
        "print(s1)"
      ],
      "metadata": {
        "colab": {
          "base_uri": "https://localhost:8080/"
        },
        "id": "eS0uU2cYYkSh",
        "outputId": "e28c715f-1f74-417c-91ce-6e93d5ac0691"
      },
      "execution_count": 9,
      "outputs": [
        {
          "output_type": "stream",
          "name": "stdout",
          "text": [
            "{1, 3, 5, 7}\n",
            "{1, 2, 3, 4, 5, 6, 7, 8, 10}\n"
          ]
        }
      ]
    },
    {
      "cell_type": "code",
      "source": [
        "s1 = {1, 3, 5, 7}\n",
        "print(s1)\n",
        "\n",
        "# remove(): 세트의 요소를 제거. 단 요소가 없으면 에러가 발생\n",
        "s1.remove(3)\n",
        "print(s1)\n",
        "# s1.remove(3) # KeyError: 3"
      ],
      "metadata": {
        "colab": {
          "base_uri": "https://localhost:8080/"
        },
        "id": "BT9-yaO1Y4y5",
        "outputId": "7ae06dcf-3614-4a08-96ec-aaef9b9efd04"
      },
      "execution_count": 10,
      "outputs": [
        {
          "output_type": "stream",
          "name": "stdout",
          "text": [
            "{1, 3, 5, 7}\n",
            "{1, 5, 7}\n"
          ]
        }
      ]
    },
    {
      "cell_type": "code",
      "source": [
        "s1 = {1, 3, 5, 7}\n",
        "print(s1)\n",
        "\n",
        "# discard(): 세트의 요소를 제거. 단 요소가 없어도 에러가 발생하지 않음\n",
        "s1.discard(3)\n",
        "print(s1)\n",
        "s1.discard(3)\n",
        "print(s1)"
      ],
      "metadata": {
        "colab": {
          "base_uri": "https://localhost:8080/"
        },
        "id": "nqpEegwQZEws",
        "outputId": "621cc823-6ffd-430c-e414-70b7237ec65a"
      },
      "execution_count": 11,
      "outputs": [
        {
          "output_type": "stream",
          "name": "stdout",
          "text": [
            "{1, 3, 5, 7}\n",
            "{1, 5, 7}\n",
            "{1, 5, 7}\n"
          ]
        }
      ]
    },
    {
      "cell_type": "code",
      "source": [
        "s1 = {1, 3, 5, 7}\n",
        "print(s1)\n",
        "\n",
        "s2 = s1 # 메모리 주소를 복사\n",
        "print(id(s1))\n",
        "print(id(s2))\n",
        "\n",
        "# copy(): 세트를 복사\n",
        "s2 = s1.copy() # 값을 복사\n",
        "print(s1)\n",
        "print(s2)\n",
        "print(id(s1))\n",
        "print(id(s2))"
      ],
      "metadata": {
        "colab": {
          "base_uri": "https://localhost:8080/"
        },
        "id": "QeJiLhTQZxWV",
        "outputId": "1f6feb52-bd73-4bd4-c82d-c30d37507699"
      },
      "execution_count": 12,
      "outputs": [
        {
          "output_type": "stream",
          "name": "stdout",
          "text": [
            "{1, 3, 5, 7}\n",
            "139652251836576\n",
            "139652251836576\n",
            "{1, 3, 5, 7}\n",
            "{1, 3, 5, 7}\n",
            "139652251836576\n",
            "139652251835904\n"
          ]
        }
      ]
    },
    {
      "cell_type": "code",
      "source": [
        "s3 = {10, 20, 30, 40, 50}\n",
        "s4 = {30, 40, 50, 60, 70}\n",
        "\n",
        "# union(): 합집합을 계산하여 반환\n",
        "result1 = s3.union(s4)\n",
        "print(result1)\n",
        "\n",
        "result2 = s3 | s4\n",
        "print(result2)"
      ],
      "metadata": {
        "colab": {
          "base_uri": "https://localhost:8080/"
        },
        "id": "Ik7aljdGEb12",
        "outputId": "dad5fcb7-7f88-4218-d00a-5c9f6d8d4967"
      },
      "execution_count": 15,
      "outputs": [
        {
          "output_type": "stream",
          "name": "stdout",
          "text": [
            "{70, 40, 10, 50, 20, 60, 30}\n",
            "{70, 40, 10, 50, 20, 60, 30}\n"
          ]
        }
      ]
    },
    {
      "cell_type": "code",
      "source": [
        "s3 = {10, 20, 30, 40, 50}\n",
        "s4 = {30, 40, 50, 60, 70}\n",
        "\n",
        "# intersection() : 교집합을 계산하여 반환\n",
        "result1 = s3.intersection(s4)\n",
        "print(result1)\n",
        "\n",
        "result2 = s3 & s4\n",
        "print(result2)\n"
      ],
      "metadata": {
        "colab": {
          "base_uri": "https://localhost:8080/"
        },
        "id": "-0kAbnl6JMjx",
        "outputId": "a7896701-51af-46ac-fbfc-65a6be55f4ad"
      },
      "execution_count": 16,
      "outputs": [
        {
          "output_type": "stream",
          "name": "stdout",
          "text": [
            "{40, 50, 30}\n",
            "{40, 50, 30}\n"
          ]
        }
      ]
    },
    {
      "cell_type": "code",
      "source": [
        "s3 = {10, 20, 30, 40, 50}\n",
        "s4 = {30, 40, 50, 60, 70}\n",
        "\n",
        "# difference(): 차집합을 계산하여 반환\n",
        "\n",
        "result1 = s3.difference(s4)\n",
        "print(result1)\n",
        "\n",
        "result2 = s3 - s4\n",
        "print(result2)"
      ],
      "metadata": {
        "colab": {
          "base_uri": "https://localhost:8080/"
        },
        "id": "V5QHdpr7JmGB",
        "outputId": "a0a56269-ee05-4ecd-94f0-dbf9dcda9249"
      },
      "execution_count": 19,
      "outputs": [
        {
          "output_type": "stream",
          "name": "stdout",
          "text": [
            "{10, 20}\n",
            "{10, 20}\n"
          ]
        }
      ]
    },
    {
      "cell_type": "code",
      "source": [
        "s3 = {10, 20, 30, 40, 50}\n",
        "s4 = {30, 40, 50, 60, 70}\n",
        "\n",
        "# symmetric_difference(): 대칭 차집합을 계산하여 반환\n",
        "result1 = s3.symmetric_difference(s4)\n",
        "print(result1)\n",
        "\n",
        "result2 = s3 ^ s4\n",
        "print(result2)"
      ],
      "metadata": {
        "colab": {
          "base_uri": "https://localhost:8080/"
        },
        "id": "kez-Lv_0J_eJ",
        "outputId": "9e47bceb-5c6d-4f21-bff8-548a66ea20fe"
      },
      "execution_count": 21,
      "outputs": [
        {
          "output_type": "stream",
          "name": "stdout",
          "text": [
            "{20, 70, 10, 60}\n",
            "{20, 70, 10, 60}\n"
          ]
        }
      ]
    }
  ]
}