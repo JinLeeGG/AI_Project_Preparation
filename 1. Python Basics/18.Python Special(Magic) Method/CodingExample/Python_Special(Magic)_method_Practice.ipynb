{
  "nbformat": 4,
  "nbformat_minor": 0,
  "metadata": {
    "colab": {
      "provenance": [],
      "authorship_tag": "ABX9TyNEww4+fAYswzLHMYqV4kt9",
      "include_colab_link": true
    },
    "kernelspec": {
      "name": "python3",
      "display_name": "Python 3"
    },
    "language_info": {
      "name": "python"
    }
  },
  "cells": [
    {
      "cell_type": "markdown",
      "metadata": {
        "id": "view-in-github",
        "colab_type": "text"
      },
      "source": [
        "<a href=\"https://colab.research.google.com/github/JinLeeGG/AI_Project_Preparation/blob/main/1.%20Python%20Basics/18.Python%20Special(Magic)%20Method/CodingExample/Python_Special(Magic)_method_Practice.ipynb\" target=\"_parent\"><img src=\"https://colab.research.google.com/assets/colab-badge.svg\" alt=\"Open In Colab\"/></a>"
      ]
    },
    {
      "cell_type": "markdown",
      "source": [
        "# Special Methods"
      ],
      "metadata": {
        "id": "FBnVMbU3c_hL"
      }
    },
    {
      "cell_type": "markdown",
      "source": [
        "# \\_\\_repr__()"
      ],
      "metadata": {
        "id": "cVyQoq0OmQ3G"
      }
    },
    {
      "cell_type": "code",
      "source": [
        "class Dog:\n",
        "    def __init__(self, name, age):\n",
        "        self.name = name\n",
        "        self.age = age\n",
        "\n",
        "    def __repr__(self):\n",
        "        return f\"Dog(name='{self.name}', age = {self.age})\""
      ],
      "metadata": {
        "id": "JZy45vcHi1D2"
      },
      "execution_count": 2,
      "outputs": []
    },
    {
      "cell_type": "code",
      "source": [
        "rucy = Dog('rucy', 15)\n",
        "print(str(rucy))\n",
        "print(repr(rucy))"
      ],
      "metadata": {
        "colab": {
          "base_uri": "https://localhost:8080/"
        },
        "id": "M7fVDZrojteZ",
        "outputId": "8e52167a-b9a1-458f-987a-04b4dccc96ba"
      },
      "execution_count": 3,
      "outputs": [
        {
          "output_type": "stream",
          "name": "stdout",
          "text": [
            "Dog(name='rucy', age = 15)\n",
            "Dog(name='rucy', age = 15)\n"
          ]
        }
      ]
    },
    {
      "cell_type": "code",
      "source": [
        "# eval()\n",
        "x = 10\n",
        "y = 3\n",
        "result = x + y\n",
        "print(result)\n",
        "result = eval(\"x + y\") # enable to execute string expression using eval()\n",
        "print(result)"
      ],
      "metadata": {
        "colab": {
          "base_uri": "https://localhost:8080/"
        },
        "id": "_jLBaXGej6jy",
        "outputId": "42945f6a-67c8-4b61-c09a-f78c79966b33"
      },
      "execution_count": 4,
      "outputs": [
        {
          "output_type": "stream",
          "name": "stdout",
          "text": [
            "13\n",
            "13\n"
          ]
        }
      ]
    },
    {
      "cell_type": "code",
      "source": [
        "rucy_repr = repr(rucy)\n",
        "print(rucy_repr)\n",
        "result = eval(rucy_repr)\n",
        "print(result)\n",
        "print(result == rucy) # same value but different object"
      ],
      "metadata": {
        "colab": {
          "base_uri": "https://localhost:8080/"
        },
        "id": "-aM_x3XDkK2e",
        "outputId": "dce089e8-8afd-49a6-b520-00c5d5e2f3e6"
      },
      "execution_count": 5,
      "outputs": [
        {
          "output_type": "stream",
          "name": "stdout",
          "text": [
            "Dog(name='rucy', age = 15)\n",
            "Dog(name='rucy', age = 15)\n",
            "False\n"
          ]
        }
      ]
    },
    {
      "cell_type": "markdown",
      "source": [
        "# \\_\\_Str__()"
      ],
      "metadata": {
        "id": "IxFVd_BlmHQS"
      }
    },
    {
      "cell_type": "code",
      "source": [
        "class Book:\n",
        "  def __init__(self, title):\n",
        "      self.title = title"
      ],
      "metadata": {
        "id": "Y6J7j1NumOzc"
      },
      "execution_count": 8,
      "outputs": []
    },
    {
      "cell_type": "code",
      "source": [
        "book = Book('Yawhooo')\n",
        "print(book)\n",
        "print(str(book))"
      ],
      "metadata": {
        "colab": {
          "base_uri": "https://localhost:8080/"
        },
        "id": "bA2t48Y1mcFm",
        "outputId": "6b9a903c-42ba-4fac-83fa-84fcaab9644e"
      },
      "execution_count": 9,
      "outputs": [
        {
          "output_type": "stream",
          "name": "stdout",
          "text": [
            "<__main__.Book object at 0x7a7b56e07810>\n",
            "<__main__.Book object at 0x7a7b56e07810>\n"
          ]
        }
      ]
    },
    {
      "cell_type": "code",
      "source": [
        "class Book:\n",
        "  def __init__(self, title):\n",
        "      self.title = title\n",
        "\n",
        "  def __str__(self):\n",
        "      return self.title #returns title when its called"
      ],
      "metadata": {
        "id": "hY7PtEZbmkpm"
      },
      "execution_count": 10,
      "outputs": []
    },
    {
      "cell_type": "code",
      "source": [
        "'''\n",
        "__repr__\n",
        "for developers\n",
        "\n",
        "__str__\n",
        "for debugging\n",
        "\n",
        "'''\n",
        "book = Book('Yawhooo')\n",
        "print(book)\n",
        "print(str(book))"
      ],
      "metadata": {
        "colab": {
          "base_uri": "https://localhost:8080/"
        },
        "id": "sAnRHX5qmsBZ",
        "outputId": "a2a7d7f0-3718-476b-93ff-4210b6f0e1b3"
      },
      "execution_count": 11,
      "outputs": [
        {
          "output_type": "stream",
          "name": "stdout",
          "text": [
            "Yawhooo\n",
            "Yawhooo\n"
          ]
        }
      ]
    },
    {
      "cell_type": "markdown",
      "source": [
        "# len()"
      ],
      "metadata": {
        "id": "AVxohzKMnNgx"
      }
    },
    {
      "cell_type": "code",
      "source": [
        "class Queue:\n",
        "    def __init__(self):\n",
        "        self.items = [1,2,3,4,5]\n",
        "\n",
        "    def __len__(self):\n",
        "        return len(self.items)  # overrides len() function"
      ],
      "metadata": {
        "id": "_pFaq4gpnP0S"
      },
      "execution_count": 12,
      "outputs": []
    },
    {
      "cell_type": "code",
      "source": [
        "li = [1,2,3,4,5]\n",
        "print(len(li))"
      ],
      "metadata": {
        "colab": {
          "base_uri": "https://localhost:8080/"
        },
        "id": "IhSm4EjOoxy7",
        "outputId": "157a37f2-d04b-42a5-9b4b-beb8fb356a8f"
      },
      "execution_count": 13,
      "outputs": [
        {
          "output_type": "stream",
          "name": "stdout",
          "text": [
            "5\n"
          ]
        }
      ]
    },
    {
      "cell_type": "code",
      "source": [
        "queue = Queue()\n",
        "print(len(queue)) # returns number of object's item"
      ],
      "metadata": {
        "colab": {
          "base_uri": "https://localhost:8080/"
        },
        "id": "iGpgmf3Ho2DB",
        "outputId": "048a1342-8b9e-49d5-d282-76848d61969d"
      },
      "execution_count": 14,
      "outputs": [
        {
          "output_type": "stream",
          "name": "stdout",
          "text": [
            "5\n"
          ]
        }
      ]
    },
    {
      "cell_type": "markdown",
      "source": [
        "# getitem()"
      ],
      "metadata": {
        "id": "MeNRRSwCo_Dl"
      }
    },
    {
      "cell_type": "code",
      "source": [
        "class Point:\n",
        "    def __init__(self, x, y):\n",
        "        self.x = x\n",
        "        self.y = y\n",
        "\n",
        "    def __getitem__(self, index):\n",
        "        if index == 0:\n",
        "            return self.x\n",
        "        elif index == 0:\n",
        "            return self.y\n",
        "        else:\n",
        "            return -1"
      ],
      "metadata": {
        "id": "sy-25MAmpBRc"
      },
      "execution_count": 15,
      "outputs": []
    },
    {
      "cell_type": "code",
      "source": [
        "# indexing items by using __getitem__ method\n",
        "pt = Point(5, 3)\n",
        "print(pt)\n",
        "print(pt[0])\n",
        "print(pt[1])\n",
        "print(pt[100])"
      ],
      "metadata": {
        "colab": {
          "base_uri": "https://localhost:8080/"
        },
        "id": "sqC30jb2pF4e",
        "outputId": "bc9811c4-29c8-44bc-c9b6-55ef7c3ffe34"
      },
      "execution_count": 16,
      "outputs": [
        {
          "output_type": "stream",
          "name": "stdout",
          "text": [
            "<__main__.Point object at 0x7a7b56e43290>\n",
            "5\n",
            "-1\n",
            "-1\n"
          ]
        }
      ]
    },
    {
      "cell_type": "markdown",
      "source": [
        "# Call()"
      ],
      "metadata": {
        "id": "NtrB85Z1pa9b"
      }
    },
    {
      "cell_type": "code",
      "source": [
        "class CallableObject:\n",
        "    def __call__(self, *args, **kwargs):\n",
        "        print(f'args:{args}, kwargs:{kwargs}')"
      ],
      "metadata": {
        "id": "5LvVWRDqpWJg"
      },
      "execution_count": 18,
      "outputs": []
    },
    {
      "cell_type": "code",
      "source": [
        "callable_obj = CallableObject()\n",
        "# enable to use instance like a function\n",
        "callable_obj(1, 2, 3, a='A', b='B')"
      ],
      "metadata": {
        "colab": {
          "base_uri": "https://localhost:8080/"
        },
        "id": "3Rjjgi6bpkJb",
        "outputId": "85b8c016-3f98-411c-8427-43d81646b6b4"
      },
      "execution_count": 19,
      "outputs": [
        {
          "output_type": "stream",
          "name": "stdout",
          "text": [
            "args:(1, 2, 3), kwargs:{'a': 'A', 'b': 'B'}\n"
          ]
        }
      ]
    }
  ]
}