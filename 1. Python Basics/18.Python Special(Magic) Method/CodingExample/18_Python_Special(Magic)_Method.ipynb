{
  "nbformat": 4,
  "nbformat_minor": 0,
  "metadata": {
    "colab": {
      "provenance": [],
      "authorship_tag": "ABX9TyN9IqZnyN9ZvRhXnjvJ0oJs",
      "include_colab_link": true
    },
    "kernelspec": {
      "name": "python3",
      "display_name": "Python 3"
    },
    "language_info": {
      "name": "python"
    }
  },
  "cells": [
    {
      "cell_type": "markdown",
      "metadata": {
        "id": "view-in-github",
        "colab_type": "text"
      },
      "source": [
        "<a href=\"https://colab.research.google.com/github/JinLeeGG/AI_Project_Preparation/blob/main/1.%20Python%20Basics/18.Python%20Special(Magic)%20Method/CodingExample/18_Python_Special(Magic)_Method.ipynb\" target=\"_parent\"><img src=\"https://colab.research.google.com/assets/colab-badge.svg\" alt=\"Open In Colab\"/></a>"
      ]
    },
    {
      "cell_type": "markdown",
      "source": [
        "https://ryuzyproject.tistory.com/22"
      ],
      "metadata": {
        "id": "JpnyLOxrquJG"
      }
    },
    {
      "cell_type": "markdown",
      "source": [
        "# 1. 스페셜 메서드\n",
        "파이썬의 스페셜 메서드 (또는 매직 메서드라고도 불림)는 더블 언더스코어(__)로 시작하고 끝나는 메서드 이름을 갖습니다. 이 메서드들은 특정 구문이나 내장 함수를 사용할 때 파이썬 인터프리터에 의해 자동으로 호출됩니다."
      ],
      "metadata": {
        "id": "wlbmUtlaqsaS"
      }
    },
    {
      "cell_type": "markdown",
      "source": [
        "### 1. \\_\\_repr\\_\\_()\n",
        "\n",
        "파이썬에서 객체의 “공식적인” 문자열 표현을 정의하는 특별한 메서드로, 주로 개발자나 디버깅을 위한 정보를 제공하는 데 사용됩니다. 이 메서드는 객체를 문자열로 변환할 때 자동으로 호출됩니다.\n"
      ],
      "metadata": {
        "id": "nF193McArEUv"
      }
    },
    {
      "cell_type": "code",
      "source": [
        "class Dog:\n",
        "    def __init__(self, name, age):\n",
        "        self.name = name\n",
        "        self.age = age\n",
        "\n",
        "    def __repr__(self):\n",
        "        return f\"Dog(name='{self.name}', age = {self.age})\" # 객체를 문자열로 변환할 때 자동으로 호출."
      ],
      "metadata": {
        "id": "EPgeCmoNrZH0"
      },
      "execution_count": 1,
      "outputs": []
    },
    {
      "cell_type": "code",
      "source": [
        "rucy = Dog('루시', 15)\n",
        "print(rucy)\n",
        "print(str(rucy))\n",
        "print(repr(rucy))"
      ],
      "metadata": {
        "colab": {
          "base_uri": "https://localhost:8080/"
        },
        "id": "PwTKO0p4r4Hx",
        "outputId": "23bed7cf-f281-403d-b20f-d05b5b483fd4"
      },
      "execution_count": 4,
      "outputs": [
        {
          "output_type": "stream",
          "name": "stdout",
          "text": [
            "Dog(name='루시', age = 15)\n",
            "Dog(name='루시', age = 15)\n",
            "Dog(name='루시', age = 15)\n"
          ]
        }
      ]
    },
    {
      "cell_type": "code",
      "source": [
        "# eval() : 주어진 문자열을 파이썬 표현식으로 평가하고 실행하여 그 결과를 반환하는 내장 함수\n",
        "x = 10\n",
        "y = 3\n",
        "result = x + y\n",
        "print(result)\n",
        "result = eval(\"x + y\")  #문자열의 표현식을 실행 할 수 있다.\n",
        "print(result)\n"
      ],
      "metadata": {
        "colab": {
          "base_uri": "https://localhost:8080/"
        },
        "id": "j90eg6fJs4zy",
        "outputId": "d2dbd06b-0bec-4dca-a663-c0dcc9ec397a"
      },
      "execution_count": 6,
      "outputs": [
        {
          "output_type": "stream",
          "name": "stdout",
          "text": [
            "13\n",
            "13\n"
          ]
        }
      ]
    },
    {
      "cell_type": "code",
      "source": [
        "rucy_repr = repr(rucy)\n",
        "print(rucy_repr)\n",
        "result = eval(rucy_repr)\n",
        "print(result)\n",
        "print(result == rucy) # False, 같은 값을 가진 다른 객체 생성"
      ],
      "metadata": {
        "colab": {
          "base_uri": "https://localhost:8080/"
        },
        "id": "cJ4aeAZJtWiO",
        "outputId": "b5fa45cb-a5cd-4e0d-8d19-0aa5a4af4798"
      },
      "execution_count": 11,
      "outputs": [
        {
          "output_type": "stream",
          "name": "stdout",
          "text": [
            "Dog(name='루시', age = 15)\n",
            "Dog(name='루시', age = 15)\n",
            "False\n"
          ]
        }
      ]
    },
    {
      "cell_type": "markdown",
      "source": [
        "### 2. \\_\\_str__()\n",
        "\n",
        "사용자가 이해하기 쉽고 읽기 좋은 형태의 문자열 표현을 반환하는 메서드로, 주로 객체를 출력할 때 사용됩니다. \\_\\_str__는 사용자가 보기 쉽도록 설계된 문자열 표현을 반환하며, print()나 str()을 통해 호출됩니다. 반대로 \\_\\_repr__()는 객체의 공식적인 표현을 제공하고, repr() 함수를 통해 호출됩니다."
      ],
      "metadata": {
        "id": "SbhP2p3pt32n"
      }
    },
    {
      "cell_type": "code",
      "source": [
        "class Book:\n",
        "    def __init__(self, title):\n",
        "        self.title = title"
      ],
      "metadata": {
        "id": "_OG-1unat5Vx"
      },
      "execution_count": 12,
      "outputs": []
    },
    {
      "cell_type": "code",
      "source": [
        "book = Book('미친듯이 재밌는 파이썬')\n",
        "print(book)\n",
        "print(str(book))"
      ],
      "metadata": {
        "colab": {
          "base_uri": "https://localhost:8080/"
        },
        "id": "ZItlBm8buaJv",
        "outputId": "297cf610-ec91-4291-c1ad-ef6be67ad1da"
      },
      "execution_count": 15,
      "outputs": [
        {
          "output_type": "stream",
          "name": "stdout",
          "text": [
            "<__main__.Book object at 0x7f8a1314e990>\n",
            "<__main__.Book object at 0x7f8a1314e990>\n"
          ]
        }
      ]
    },
    {
      "cell_type": "code",
      "source": [
        "class Book:\n",
        "    def __init__(self, title):\n",
        "        self.title = title\n",
        "\n",
        "    def __str__(self):\n",
        "        return self.title # 호출되면 타이틀을 반환시켜준다"
      ],
      "metadata": {
        "id": "BKCEqSunupwD"
      },
      "execution_count": 17,
      "outputs": []
    },
    {
      "cell_type": "code",
      "source": [
        "'''\n",
        "__repr__\n",
        "객체를 복원할수 있는 문자열로 만듬\n",
        "개발할때 사용하는 용도\n",
        "__str__\n",
        "사용자에게 보여줄 깔끔한 설명 (출력용)\n",
        "디버깅용\n",
        "\n",
        "'''\n",
        "# print(book) --> __str__ 우선 >> __repr__\n",
        "book = Book('미친듯이 재밌는 파이썬')\n",
        "print(book)\n",
        "print(str(book))"
      ],
      "metadata": {
        "id": "T71w0mfkuz_H",
        "colab": {
          "base_uri": "https://localhost:8080/"
        },
        "outputId": "bd5e8319-a45c-4585-ecd2-9e450f108a1f"
      },
      "execution_count": 20,
      "outputs": [
        {
          "output_type": "stream",
          "name": "stdout",
          "text": [
            "미친듯이 재밌는 파이썬\n",
            "미친듯이 재밌는 파이썬\n"
          ]
        }
      ]
    },
    {
      "cell_type": "markdown",
      "source": [
        "# 3. __len__()\n",
        "\n",
        "파이썬에서 객체의 길이 또는 크기를 반환하는 특별한 메서드로, len() 함수가 호출될 때 자동으로 호출됩니다.  이 메서드는 객체의 항목 수를 측정하거나, 특정한 크기(예: 리스트, 문자열, 튜플 등)를 나타내고자 할 때 구현됩니다."
      ],
      "metadata": {
        "id": "9FLcEdWYvx04"
      }
    },
    {
      "cell_type": "code",
      "source": [
        "class Queue:\n",
        "    def __init__(self):\n",
        "        self.items = [1,2,3,4,5]\n",
        "\n",
        "    def __len__(self):\n",
        "        return len(self.items)  # len() 함수의 기능을 오버라이딩"
      ],
      "metadata": {
        "id": "yH5XV_pvv2DV"
      },
      "execution_count": 21,
      "outputs": []
    },
    {
      "cell_type": "code",
      "source": [
        "li = [1, 2, 3, 4 ,5]\n",
        "print(len(li))"
      ],
      "metadata": {
        "colab": {
          "base_uri": "https://localhost:8080/"
        },
        "id": "AiDDk10wwb2T",
        "outputId": "955ea775-a4b8-4a4c-f9fa-9a2e8cc1f5be"
      },
      "execution_count": 22,
      "outputs": [
        {
          "output_type": "stream",
          "name": "stdout",
          "text": [
            "5\n"
          ]
        }
      ]
    },
    {
      "cell_type": "code",
      "source": [
        "queue = Queue()\n",
        "print(len(queue)) # 객체의 item의 수를 세어준다"
      ],
      "metadata": {
        "colab": {
          "base_uri": "https://localhost:8080/"
        },
        "id": "JtxJdhpKwgHg",
        "outputId": "eed72daf-3a69-46a8-eaff-703c83e2a1ac"
      },
      "execution_count": 24,
      "outputs": [
        {
          "output_type": "stream",
          "name": "stdout",
          "text": [
            "5\n"
          ]
        }
      ]
    },
    {
      "cell_type": "markdown",
      "source": [
        "# 4. __getitem__()\n",
        "\n",
        "파이썬에서 인덱싱을 지원하기 위해 사용되는 특별한 메서드로, 객체의 특정 항목을 가져오기 위해 대괄호([])를 사용할 때 호출됩니다. 이 메서드는 객체의 특정 인덱스나 키에 해당하는 값을 반환하는 역할을 합니다."
      ],
      "metadata": {
        "id": "LYHF8jdbwz8u"
      }
    },
    {
      "cell_type": "code",
      "source": [
        "class Point:\n",
        "    def __init__(self, x, y):\n",
        "        self.x = x\n",
        "        self.y = y\n",
        "\n",
        "    # 인덱싱 기능을 추가해주는 스페셜 메서드\n",
        "    def __getitem__(self, index):\n",
        "        if index == 0:\n",
        "            return self.x\n",
        "        elif index == 0:\n",
        "            return self.y\n",
        "        else:\n",
        "            return -1"
      ],
      "metadata": {
        "id": "dP9uJhFow1zg"
      },
      "execution_count": 28,
      "outputs": []
    },
    {
      "cell_type": "code",
      "source": [
        "pt = Point(5, 3)\n",
        "print(pt)\n",
        "print(pt[0]) # __getitem__ 메서드를 사용해서 인덱싱을 해준다.\n",
        "print(pt[1])\n",
        "print(pt[100])"
      ],
      "metadata": {
        "colab": {
          "base_uri": "https://localhost:8080/"
        },
        "id": "dMQ363zlxFhX",
        "outputId": "6c3c5b0f-a0f1-46fe-a755-0605978c4c22"
      },
      "execution_count": 31,
      "outputs": [
        {
          "output_type": "stream",
          "name": "stdout",
          "text": [
            "<__main__.Point object at 0x7f8a1314f9d0>\n",
            "5\n",
            "-1\n",
            "-1\n"
          ]
        }
      ]
    },
    {
      "cell_type": "markdown",
      "source": [
        "# 5. __call__()\n",
        "\n",
        "파이썬에서 객체를 함수처럼 호출할 수 있게 해주는 특별한 메서드입니다. 이 메서드를 구현하면, 해당 클래스의 인스턴스를 함수처럼 사용할 수 있으며, 인스턴스에 대해 괄호(())를 사용하여 값을 전달하고 결과를 반환받을 수 있습니다."
      ],
      "metadata": {
        "id": "XQceKW39ycQ-"
      }
    },
    {
      "cell_type": "code",
      "source": [
        "class CallableObject:\n",
        "    def __call__(self, *args, **kwargs):\n",
        "        print(f'args:{args}, kwargs:{kwargs}')\n",
        "\n",
        "callable_obj = CallableObject()\n",
        "callable_obj(1, 2, 3, a='A', b='B')"
      ],
      "metadata": {
        "colab": {
          "base_uri": "https://localhost:8080/"
        },
        "id": "CoBKW8hAyblm",
        "outputId": "c5820d4d-a899-440c-fa3e-73e20fd85d11"
      },
      "execution_count": 33,
      "outputs": [
        {
          "output_type": "stream",
          "name": "stdout",
          "text": [
            "args:(1, 2, 3), kwargs:{'a': 'A', 'b': 'B'}\n"
          ]
        }
      ]
    }
  ]
}