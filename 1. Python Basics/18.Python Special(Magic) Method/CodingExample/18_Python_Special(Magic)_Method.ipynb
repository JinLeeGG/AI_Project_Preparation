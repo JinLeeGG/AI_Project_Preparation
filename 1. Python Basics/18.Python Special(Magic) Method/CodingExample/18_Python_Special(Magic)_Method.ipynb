{
  "nbformat": 4,
  "nbformat_minor": 0,
  "metadata": {
    "colab": {
      "provenance": [],
      "authorship_tag": "ABX9TyPeNCibIme7pWOB4aqof/si",
      "include_colab_link": true
    },
    "kernelspec": {
      "name": "python3",
      "display_name": "Python 3"
    },
    "language_info": {
      "name": "python"
    }
  },
  "cells": [
    {
      "cell_type": "markdown",
      "metadata": {
        "id": "view-in-github",
        "colab_type": "text"
      },
      "source": [
        "<a href=\"https://colab.research.google.com/github/JinLeeGG/AI_Project_Preparation/blob/main/1.%20Python%20Basics/18.Python%20Special(Magic)%20Method/CodingExample/18_Python_Special(Magic)_Method.ipynb\" target=\"_parent\"><img src=\"https://colab.research.google.com/assets/colab-badge.svg\" alt=\"Open In Colab\"/></a>"
      ]
    },
    {
      "cell_type": "markdown",
      "source": [
        "https://ryuzyproject.tistory.com/22"
      ],
      "metadata": {
        "id": "JpnyLOxrquJG"
      }
    },
    {
      "cell_type": "markdown",
      "source": [
        "# 1. 스페셜 메서드\n",
        "파이썬의 스페셜 메서드 (또는 매직 메서드라고도 불림)는 더블 언더스코어(__)로 시작하고 끝나는 메서드 이름을 갖습니다. 이 메서드들은 특정 구문이나 내장 함수를 사용할 때 파이썬 인터프리터에 의해 자동으로 호출됩니다."
      ],
      "metadata": {
        "id": "wlbmUtlaqsaS"
      }
    },
    {
      "cell_type": "markdown",
      "source": [
        "### 1. \\_\\_repr\\_\\_()\n",
        "\n",
        "파이썬에서 객체의 “공식적인” 문자열 표현을 정의하는 특별한 메서드로, 주로 개발자나 디버깅을 위한 정보를 제공하는 데 사용됩니다. 이 메서드는 객체를 문자열로 변환할 때 자동으로 호출됩니다.\n"
      ],
      "metadata": {
        "id": "nF193McArEUv"
      }
    },
    {
      "cell_type": "code",
      "source": [
        "class Dog:\n",
        "    def __init__(self, name, age):\n",
        "        self.name = name\n",
        "        self.age = age\n",
        "\n",
        "    def __repr__(self):\n",
        "        return f\"Dog(name='{self.name}', age = {self.age})\" # 객체를 문자열로 변환할 때 자동으로 호출."
      ],
      "metadata": {
        "id": "EPgeCmoNrZH0"
      },
      "execution_count": 1,
      "outputs": []
    },
    {
      "cell_type": "code",
      "source": [
        "rucy = Dog('루시', 15)\n",
        "print(rucy)\n",
        "print(str(rucy))\n",
        "print(repr(rucy))"
      ],
      "metadata": {
        "colab": {
          "base_uri": "https://localhost:8080/"
        },
        "id": "PwTKO0p4r4Hx",
        "outputId": "2da80543-b039-4cbe-998a-cec547f4cfae"
      },
      "execution_count": 2,
      "outputs": [
        {
          "output_type": "stream",
          "name": "stdout",
          "text": [
            "Dog(name='루시', age = 15)\n",
            "Dog(name='루시', age = 15)\n",
            "Dog(name='루시', age = 15)\n"
          ]
        }
      ]
    },
    {
      "cell_type": "code",
      "source": [
        "# eval() : 주어진 문자열을 파이썬 표현식으로 평가하고 실행하여 그 결과를 반환하는 내장 함수\n",
        "x = 10\n",
        "y = 3\n",
        "result = x + y\n",
        "print(result)\n",
        "result = eval(\"x + y\")  #문자열의 표현식을 실행 할 수 있다.\n",
        "print(result)\n"
      ],
      "metadata": {
        "colab": {
          "base_uri": "https://localhost:8080/"
        },
        "id": "j90eg6fJs4zy",
        "outputId": "81cf5f82-c121-4f86-9912-63248b2ef069"
      },
      "execution_count": 3,
      "outputs": [
        {
          "output_type": "stream",
          "name": "stdout",
          "text": [
            "13\n",
            "13\n"
          ]
        }
      ]
    },
    {
      "cell_type": "code",
      "source": [
        "rucy_repr = repr(rucy)\n",
        "print(rucy_repr)\n",
        "result = eval(rucy_repr)\n",
        "print(result)\n",
        "print(result == rucy) # False, 같은 값을 가진 다른 객체 생성"
      ],
      "metadata": {
        "colab": {
          "base_uri": "https://localhost:8080/"
        },
        "id": "cJ4aeAZJtWiO",
        "outputId": "4cb98b4a-b267-4d36-8fb8-356a9daece6a"
      },
      "execution_count": 4,
      "outputs": [
        {
          "output_type": "stream",
          "name": "stdout",
          "text": [
            "Dog(name='루시', age = 15)\n",
            "Dog(name='루시', age = 15)\n",
            "False\n"
          ]
        }
      ]
    },
    {
      "cell_type": "markdown",
      "source": [
        "### 2. \\_\\_str__()\n",
        "\n",
        "사용자가 이해하기 쉽고 읽기 좋은 형태의 문자열 표현을 반환하는 메서드로, 주로 객체를 출력할 때 사용됩니다. \\_\\_str__는 사용자가 보기 쉽도록 설계된 문자열 표현을 반환하며, print()나 str()을 통해 호출됩니다. 반대로 \\_\\_repr__()는 객체의 공식적인 표현을 제공하고, repr() 함수를 통해 호출됩니다."
      ],
      "metadata": {
        "id": "SbhP2p3pt32n"
      }
    },
    {
      "cell_type": "code",
      "source": [
        "class Book:\n",
        "    def __init__(self, title):\n",
        "        self.title = title"
      ],
      "metadata": {
        "id": "_OG-1unat5Vx"
      },
      "execution_count": 5,
      "outputs": []
    },
    {
      "cell_type": "code",
      "source": [
        "book = Book('미친듯이 재밌는 파이썬')\n",
        "print(book)\n",
        "print(str(book))"
      ],
      "metadata": {
        "colab": {
          "base_uri": "https://localhost:8080/"
        },
        "id": "ZItlBm8buaJv",
        "outputId": "cb6515ed-45bd-4e8a-f129-c6f277092b84"
      },
      "execution_count": 6,
      "outputs": [
        {
          "output_type": "stream",
          "name": "stdout",
          "text": [
            "<__main__.Book object at 0x7a3a0229e0d0>\n",
            "<__main__.Book object at 0x7a3a0229e0d0>\n"
          ]
        }
      ]
    },
    {
      "cell_type": "code",
      "source": [
        "class Book:\n",
        "    def __init__(self, title):\n",
        "        self.title = title\n",
        "\n",
        "    def __str__(self):\n",
        "        return self.title # 호출되면 타이틀을 반환시켜준다"
      ],
      "metadata": {
        "id": "BKCEqSunupwD"
      },
      "execution_count": 7,
      "outputs": []
    },
    {
      "cell_type": "code",
      "source": [
        "'''\n",
        "__repr__\n",
        "객체를 복원할수 있는 문자열로 만듬\n",
        "개발할때 사용하는 용도\n",
        "__str__\n",
        "사용자에게 보여줄 깔끔한 설명 (출력용)\n",
        "디버깅용\n",
        "\n",
        "'''\n",
        "# print(book) --> __str__ 우선 >> __repr__\n",
        "book = Book('미친듯이 재밌는 파이썬')\n",
        "print(book)\n",
        "print(str(book))"
      ],
      "metadata": {
        "id": "T71w0mfkuz_H",
        "colab": {
          "base_uri": "https://localhost:8080/"
        },
        "outputId": "b93acb16-07cd-4d46-c448-d7a67d3dfb09"
      },
      "execution_count": 8,
      "outputs": [
        {
          "output_type": "stream",
          "name": "stdout",
          "text": [
            "미친듯이 재밌는 파이썬\n",
            "미친듯이 재밌는 파이썬\n"
          ]
        }
      ]
    },
    {
      "cell_type": "markdown",
      "source": [
        "# 3. __len__()\n",
        "\n",
        "파이썬에서 객체의 길이 또는 크기를 반환하는 특별한 메서드로, len() 함수가 호출될 때 자동으로 호출됩니다.  이 메서드는 객체의 항목 수를 측정하거나, 특정한 크기(예: 리스트, 문자열, 튜플 등)를 나타내고자 할 때 구현됩니다."
      ],
      "metadata": {
        "id": "9FLcEdWYvx04"
      }
    },
    {
      "cell_type": "code",
      "source": [
        "class Queue:\n",
        "    def __init__(self):\n",
        "        self.items = [1,2,3,4,5]\n",
        "\n",
        "    def __len__(self):\n",
        "        return len(self.items)  # len() 함수의 기능을 오버라이딩"
      ],
      "metadata": {
        "id": "yH5XV_pvv2DV"
      },
      "execution_count": 9,
      "outputs": []
    },
    {
      "cell_type": "code",
      "source": [
        "li = [1, 2, 3, 4 ,5]\n",
        "print(len(li))"
      ],
      "metadata": {
        "colab": {
          "base_uri": "https://localhost:8080/"
        },
        "id": "AiDDk10wwb2T",
        "outputId": "dbe8686c-d82d-4aa0-e044-dcc7093faae0"
      },
      "execution_count": 10,
      "outputs": [
        {
          "output_type": "stream",
          "name": "stdout",
          "text": [
            "5\n"
          ]
        }
      ]
    },
    {
      "cell_type": "code",
      "source": [
        "queue = Queue()\n",
        "print(len(queue)) # 객체의 item의 수를 세어준다"
      ],
      "metadata": {
        "colab": {
          "base_uri": "https://localhost:8080/"
        },
        "id": "JtxJdhpKwgHg",
        "outputId": "27deea4a-60fd-43b5-94b5-45da450c0a07"
      },
      "execution_count": 11,
      "outputs": [
        {
          "output_type": "stream",
          "name": "stdout",
          "text": [
            "5\n"
          ]
        }
      ]
    },
    {
      "cell_type": "markdown",
      "source": [
        "# 4. __getitem__()\n",
        "\n",
        "파이썬에서 인덱싱을 지원하기 위해 사용되는 특별한 메서드로, 객체의 특정 항목을 가져오기 위해 대괄호([])를 사용할 때 호출됩니다. 이 메서드는 객체의 특정 인덱스나 키에 해당하는 값을 반환하는 역할을 합니다."
      ],
      "metadata": {
        "id": "LYHF8jdbwz8u"
      }
    },
    {
      "cell_type": "code",
      "source": [
        "class Point:\n",
        "    def __init__(self, x, y):\n",
        "        self.x = x\n",
        "        self.y = y\n",
        "\n",
        "    # 인덱싱 기능을 추가해주는 스페셜 메서드\n",
        "    def __getitem__(self, index):\n",
        "        if index == 0:\n",
        "            return self.x\n",
        "        elif index == 0:\n",
        "            return self.y\n",
        "        else:\n",
        "            return -1"
      ],
      "metadata": {
        "id": "dP9uJhFow1zg"
      },
      "execution_count": 12,
      "outputs": []
    },
    {
      "cell_type": "code",
      "source": [
        "pt = Point(5, 3)\n",
        "print(pt)\n",
        "print(pt[0]) # __getitem__ 메서드를 사용해서 인덱싱을 해준다.\n",
        "print(pt[1])\n",
        "print(pt[100])"
      ],
      "metadata": {
        "colab": {
          "base_uri": "https://localhost:8080/"
        },
        "id": "dMQ363zlxFhX",
        "outputId": "d41d510f-ae96-4f96-a63f-8339672b68f5"
      },
      "execution_count": 13,
      "outputs": [
        {
          "output_type": "stream",
          "name": "stdout",
          "text": [
            "<__main__.Point object at 0x7a3a02286710>\n",
            "5\n",
            "-1\n",
            "-1\n"
          ]
        }
      ]
    },
    {
      "cell_type": "code",
      "source": [
        "class MyList:\n",
        "    def __init__(self, data):\n",
        "        self.data = data # instance 변수로 저장\n",
        "\n",
        "    def __getitem__(self, index):\n",
        "        return self.data[index]"
      ],
      "metadata": {
        "id": "YUVF-QxVjlJD"
      },
      "execution_count": 16,
      "outputs": []
    },
    {
      "cell_type": "code",
      "source": [
        "ml = MyList([10, 20, 30, 40]) # List를 instnace 변수로 저장\n",
        "print(ml[0])    # indexing이 가능해진다.\n",
        "print(ml[1])\n",
        "print(ml[-1])"
      ],
      "metadata": {
        "colab": {
          "base_uri": "https://localhost:8080/"
        },
        "id": "Qypm7kQij076",
        "outputId": "0bdec4ab-fb97-4eb3-e1f5-e49c6df00d8a"
      },
      "execution_count": 19,
      "outputs": [
        {
          "output_type": "stream",
          "name": "stdout",
          "text": [
            "10\n",
            "20\n",
            "40\n"
          ]
        }
      ]
    },
    {
      "cell_type": "markdown",
      "source": [
        "# 5. \\_\\_call__()\n",
        "\n",
        "파이썬에서 객체를 함수처럼 호출할 수 있게 해주는 특별한 메서드입니다. 이 메서드를 구현하면, 해당 클래스의 인스턴스를 함수처럼 사용할 수 있으며, 인스턴스에 대해 괄호(())를 사용하여 값을 전달하고 결과를 반환받을 수 있습니다."
      ],
      "metadata": {
        "id": "XQceKW39ycQ-"
      }
    },
    {
      "cell_type": "code",
      "source": [
        "class CallableObject:\n",
        "    # * multiple parameters\n",
        "    # ** keyword arguments\n",
        "    def __call__(self, *arg, **kwargs):\n",
        "        print(f'args:{arg}, kwargs:{kwargs}')\n"
      ],
      "metadata": {
        "id": "CoBKW8hAyblm"
      },
      "execution_count": 20,
      "outputs": []
    },
    {
      "cell_type": "code",
      "source": [
        "callable_obj = CallableObject()\n",
        "callable_obj(1,2,3, a='A', b='B') # 함수를 실행하듯 호출하면 call 메서드를 호출한다."
      ],
      "metadata": {
        "colab": {
          "base_uri": "https://localhost:8080/"
        },
        "id": "YMvBbB2blLlw",
        "outputId": "df0355d4-7a42-4cb7-fdc6-bf03ad20241c"
      },
      "execution_count": 22,
      "outputs": [
        {
          "output_type": "stream",
          "name": "stdout",
          "text": [
            "args:(1, 2, 3), kwargs:{'a': 'A', 'b': 'B'}\n"
          ]
        }
      ]
    },
    {
      "cell_type": "markdown",
      "source": [
        "# 2. 파이썬 객체지향의 4대 패러다임"
      ],
      "metadata": {
        "id": "C3b9NNPwmbbc"
      }
    },
    {
      "cell_type": "markdown",
      "source": [
        "### 1. 캡슐화 (Encapsulation)\n",
        "중요한 데이터는 숨기고, 외부에는 인터페이스만 열어둡니다."
      ],
      "metadata": {
        "id": "uhd_fK5gmXH8"
      }
    },
    {
      "cell_type": "code",
      "source": [
        "class Animal:\n",
        "    def __init__(self, name, age):\n",
        "        self.name = name\n",
        "        self.__age = age  # __로 시작하면 private 속성\n",
        "\n",
        "    def get_age(self):\n",
        "        return self.__age\n",
        "\n",
        "    def set_age(self, age):\n",
        "        if age > 0:\n",
        "            self.__age = age\n",
        "        else:\n",
        "            print(\"나이는 양수여야 합니다.\")\n",
        "\n",
        "class Dog(Animal):\n",
        "    def __init__(self, name, age, breed):\n",
        "        super().__init__(name, age)\n",
        "        self.breed = breed\n",
        "\n",
        "    def bark(self):\n",
        "        print(f\"{self.name}가 멍멍 짖습니다!\")\n",
        "\n",
        "# 사용 예\n",
        "dog = Dog(\"루시\", 15, \"포메\")\n",
        "dog.bark()  # 루시가 멍멍 짖습니다!\n",
        "\n",
        "print(dog.name)      # 루시\n",
        "print(dog.breed)     # 포메\n",
        "print(dog.get_age())\n",
        "\n",
        "dog.set_age(14)\n",
        "print(dog.get_age()) # 14\n",
        "\n",
        "dog.__age = 100      # 외부에서 수정 시도 (실제 속성은 바뀌지 않음)\n",
        "print(dog.get_age()) # 여전히 14"
      ],
      "metadata": {
        "colab": {
          "base_uri": "https://localhost:8080/"
        },
        "id": "HepjjlhDmX9e",
        "outputId": "ef1a2f8e-e1bd-40b8-afd5-125a645e4770"
      },
      "execution_count": 23,
      "outputs": [
        {
          "output_type": "stream",
          "name": "stdout",
          "text": [
            "루시가 멍멍 짖습니다!\n",
            "루시\n",
            "포메\n",
            "15\n",
            "14\n",
            "14\n"
          ]
        }
      ]
    },
    {
      "cell_type": "markdown",
      "source": [
        "### 2. 상속 (Inheritance)\n",
        "부모 클래스의 속성과 메서드를 자식 클래스가 물려받아 사용합니다."
      ],
      "metadata": {
        "id": "kfEbLPmUngg-"
      }
    },
    {
      "cell_type": "code",
      "source": [
        "class Animal:\n",
        "    def speak(self):\n",
        "        print(\"동물이 소리를 냅니다.\")\n",
        "\n",
        "class Dog(Animal):\n",
        "    def speak(self):\n",
        "        print(\"멍멍!\")\n",
        "\n",
        "# 사용 예\n",
        "a = Animal()\n",
        "a.speak()  # 동물이 소리를 냅니다.\n",
        "\n",
        "rucy = Dog()\n",
        "rucy.speak()  # 멍멍! (부모 메서드를 오버라이딩)"
      ],
      "metadata": {
        "colab": {
          "base_uri": "https://localhost:8080/"
        },
        "id": "Ri4flBzqne1U",
        "outputId": "216af87a-93f2-413b-c447-1b6848b41b12"
      },
      "execution_count": 24,
      "outputs": [
        {
          "output_type": "stream",
          "name": "stdout",
          "text": [
            "동물이 소리를 냅니다.\n",
            "멍멍!\n"
          ]
        }
      ]
    },
    {
      "cell_type": "markdown",
      "source": [
        "### 3.다형성 (Polymorphism)\n",
        "같은 이름의 메서드지만, 호출하는 객체에 따라 다른 동작을 합니다."
      ],
      "metadata": {
        "id": "lQKwFB34n6Bc"
      }
    },
    {
      "cell_type": "code",
      "source": [
        "class Cat:\n",
        "    def speak(self):\n",
        "        print(\"야옹!\")\n",
        "\n",
        "class Dog:\n",
        "    def speak(self):\n",
        "        print(\"멍멍!\")\n",
        "\n",
        "def make_sound(animal):\n",
        "    animal.speak()\n",
        "\n",
        "# 사용 예\n",
        "c = Cat()\n",
        "d = Dog()\n",
        "make_sound(c)  # 야옹!\n",
        "make_sound(d)  # 멍멍!"
      ],
      "metadata": {
        "colab": {
          "base_uri": "https://localhost:8080/"
        },
        "id": "25751bvXn8S0",
        "outputId": "59219c1a-df71-4cd9-915b-e21d4df8e432"
      },
      "execution_count": 25,
      "outputs": [
        {
          "output_type": "stream",
          "name": "stdout",
          "text": [
            "야옹!\n",
            "멍멍!\n"
          ]
        }
      ]
    },
    {
      "cell_type": "markdown",
      "source": [
        "### 4. 추상화 (Abstraction)\n",
        "공통 틀만 정의하고, 구체적인 내용은 자식 클래스가 채우게 합니다."
      ],
      "metadata": {
        "id": "jtDRqh-1oe-6"
      }
    },
    {
      "cell_type": "code",
      "source": [
        "from abc import ABC, abstractmethod\n",
        "\n",
        "class Animal(ABC):\n",
        "    @abstractmethod\n",
        "    def speak(self):\n",
        "        pass  # 추상 메서드, 자식이 반드시 구현해야 함\n",
        "\n",
        "class Dog(Animal):\n",
        "    def speak(self):\n",
        "        print(\"멍멍!\")\n",
        "\n",
        "class Cat(Animal):\n",
        "    def speak(self):\n",
        "        print(\"야옹!\")\n",
        "\n",
        "rucy = Dog()\n",
        "rucy.speak()  # 멍멍!"
      ],
      "metadata": {
        "colab": {
          "base_uri": "https://localhost:8080/"
        },
        "id": "z-ewd8ntoh0c",
        "outputId": "68ade5da-d00a-4d07-96bc-e47cdd8df2ad"
      },
      "execution_count": 26,
      "outputs": [
        {
          "output_type": "stream",
          "name": "stdout",
          "text": [
            "멍멍!\n"
          ]
        }
      ]
    }
  ]
}