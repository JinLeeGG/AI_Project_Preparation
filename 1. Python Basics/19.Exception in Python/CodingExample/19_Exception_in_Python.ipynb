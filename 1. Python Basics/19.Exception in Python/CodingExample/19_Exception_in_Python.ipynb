{
  "nbformat": 4,
  "nbformat_minor": 0,
  "metadata": {
    "colab": {
      "provenance": [],
      "authorship_tag": "ABX9TyNjiVBGTnD3xKLibn3G/j1D",
      "include_colab_link": true
    },
    "kernelspec": {
      "name": "python3",
      "display_name": "Python 3"
    },
    "language_info": {
      "name": "python"
    }
  },
  "cells": [
    {
      "cell_type": "markdown",
      "metadata": {
        "id": "view-in-github",
        "colab_type": "text"
      },
      "source": [
        "<a href=\"https://colab.research.google.com/github/JinLeeGG/AI_Project_Preparation/blob/main/1.%20Python%20Basics/19.Exception%20in%20Python/CodingExample/19_Exception_in_Python.ipynb\" target=\"_parent\"><img src=\"https://colab.research.google.com/assets/colab-badge.svg\" alt=\"Open In Colab\"/></a>"
      ]
    },
    {
      "cell_type": "markdown",
      "source": [
        "https://ryuzyproject.tistory.com/23?category=1088818"
      ],
      "metadata": {
        "id": "r543XWL5ugY2"
      }
    },
    {
      "cell_type": "markdown",
      "source": [
        "# 1. 예외\n",
        "예외(Exception)는 프로그램 실행 중 발생할 수 있는 예상치 못한 문제 또는 오류 상황을 의미합니다. 예외가 발생하면 프로그램은 중단되기 때문에 이를 적절하게 처리하여 중단을 방지하거나 오류에 대한 정보를 사용자에게 제공해야 합니다."
      ],
      "metadata": {
        "id": "436hqvrLgkwM"
      }
    },
    {
      "cell_type": "code",
      "source": [
        "print(10 / 3)\n",
        "print(5 / 0) # ZeroDivisionError: division by zero\n",
        "print(4 / 2)"
      ],
      "metadata": {
        "colab": {
          "base_uri": "https://localhost:8080/",
          "height": 202
        },
        "id": "PLyZ06INurSO",
        "outputId": "178842aa-e486-41bb-e8ae-367ac8917d42"
      },
      "execution_count": null,
      "outputs": [
        {
          "output_type": "stream",
          "name": "stdout",
          "text": [
            "3.3333333333333335\n"
          ]
        },
        {
          "output_type": "error",
          "ename": "ZeroDivisionError",
          "evalue": "division by zero",
          "traceback": [
            "\u001b[0;31m---------------------------------------------------------------------------\u001b[0m",
            "\u001b[0;31mZeroDivisionError\u001b[0m                         Traceback (most recent call last)",
            "\u001b[0;32m<ipython-input-3-5340b6c8dc82>\u001b[0m in \u001b[0;36m<cell line: 0>\u001b[0;34m()\u001b[0m\n\u001b[1;32m      1\u001b[0m \u001b[0mprint\u001b[0m\u001b[0;34m(\u001b[0m\u001b[0;36m10\u001b[0m \u001b[0;34m/\u001b[0m \u001b[0;36m3\u001b[0m\u001b[0;34m)\u001b[0m\u001b[0;34m\u001b[0m\u001b[0;34m\u001b[0m\u001b[0m\n\u001b[0;32m----> 2\u001b[0;31m \u001b[0mprint\u001b[0m\u001b[0;34m(\u001b[0m\u001b[0;36m5\u001b[0m \u001b[0;34m/\u001b[0m \u001b[0;36m0\u001b[0m\u001b[0;34m)\u001b[0m \u001b[0;31m# ZeroDivisionError: division by zero\u001b[0m\u001b[0;34m\u001b[0m\u001b[0;34m\u001b[0m\u001b[0m\n\u001b[0m\u001b[1;32m      3\u001b[0m \u001b[0mprint\u001b[0m\u001b[0;34m(\u001b[0m\u001b[0;36m4\u001b[0m \u001b[0;34m/\u001b[0m \u001b[0;36m2\u001b[0m\u001b[0;34m)\u001b[0m\u001b[0;34m\u001b[0m\u001b[0;34m\u001b[0m\u001b[0m\n",
            "\u001b[0;31mZeroDivisionError\u001b[0m: division by zero"
          ]
        }
      ]
    },
    {
      "cell_type": "markdown",
      "source": [
        "# **2. 예외가 발생하는 경우**\n",
        "* ValueError\n",
        "잘못된 값을 함수나 연산에 제공할 때 발생합니다.\n",
        "예) 숫자가 아닌 문자열을 int() 함수로 변환하려고 할 때 발생.\n",
        "* TypeError\n",
        "올바르지 않은 유형의 객체를 연산에 사용하려 할 때 발생합니다.\n",
        "예) 문자열과 숫자를 함께 더하려고 할 때 발생.\n",
        "* ZeroDivisionError\n",
        "숫자를 0으로 나누려고 할 때 발생합니다.\n",
        "* IndexError\n",
        "리스트, 튜플, 문자열 등의 시퀀스 유형에서 범위를 벗어난 인덱스에 접근하려 할 때 발생합니다.\n",
        "예) 길이가 3인 리스트에 대해 4번째 요소에 접근하려고 할 때 발생.\n",
        "* KeyError\n",
        "딕셔너리에서 존재하지 않는 키를 사용하여 값을 검색하려고 할 때 발생합니다.\n",
        "* AttributeError\n",
        "객체에 없는 속성이나 메서드에 접근하려고 할 때 발생합니다.\n",
        "* FileNotFoundError\n",
        "존재하지 않는 파일을 열려고 할 때 발생합니다.\n",
        "* ImportError\n",
        "존재하지 않는 모듈을 가져오려고 할 때 또는 모듈 내에 해당 속성/함수가 없을 때 발생합니다.\n",
        "* NameError\n",
        "정의되지 않은 변수나 함수를 사용하려고 할 때 발생합니다.\n",
        "예) 프로그램에서 정의되지 않은 변수 x를 사용하려고 할 때 발생.\n",
        "* OverflowError\n",
        "수치 연산 결과가 너무 커서 표현할 수 없을 때 발생합니다.\n",
        "* MemoryError\n",
        "프로그램이 사용 가능한 모든 메모리를 소진했을 때 발생합니다."
      ],
      "metadata": {
        "id": "XJd5UxNlv0i9"
      }
    },
    {
      "cell_type": "markdown",
      "source": [
        "# 3. 예외 처리 기본 구조\n",
        "![image.png](data:image/png;base64,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)\n"
      ],
      "metadata": {
        "id": "XJphXMmawtoW"
      }
    },
    {
      "cell_type": "code",
      "source": [
        "try:\n",
        "    print(10 / 3)\n",
        "    print(5 / 0)\n",
        "    print(4 / 2)\n",
        "except: # 모든 에러가 났을때 실행\n",
        "  print('예외가 발생했어요')\n",
        "print('프로그램을 종료합니다.')"
      ],
      "metadata": {
        "colab": {
          "base_uri": "https://localhost:8080/"
        },
        "id": "D52xRWfwyH_W",
        "outputId": "053324c8-b81b-4808-d92e-06fc66393d01"
      },
      "execution_count": null,
      "outputs": [
        {
          "output_type": "stream",
          "name": "stdout",
          "text": [
            "3.3333333333333335\n",
            "예외가 발생했어요\n",
            "프로그램을 종료합니다.\n"
          ]
        }
      ]
    },
    {
      "cell_type": "code",
      "source": [
        "try:\n",
        "    print(10 / 3)\n",
        "    print(5 / 0)\n",
        "    print(4 / 2)\n",
        "except ZeroDivisionError: # ZeroDivisionError 에러가 났을때만 실행\n",
        "    print('예외가 발생했어요')\n",
        "print('프로그램을 종료합니다.')"
      ],
      "metadata": {
        "colab": {
          "base_uri": "https://localhost:8080/"
        },
        "id": "5VZfd58p0foo",
        "outputId": "8a1a2277-7d91-4d16-f0ab-75c9cec32296"
      },
      "execution_count": null,
      "outputs": [
        {
          "output_type": "stream",
          "name": "stdout",
          "text": [
            "3.3333333333333335\n",
            "예외가 발생했어요\n",
            "프로그램을 종료합니다.\n"
          ]
        }
      ]
    },
    {
      "cell_type": "code",
      "source": [
        "try :\n",
        "    data = [10, 20, 30, 40, 50]\n",
        "    print(data[0])\n",
        "    print(data[5])\n",
        "    print(data[1])\n",
        "except ZeroDivisionError: # ZeroDivisionError 에러가 났을때만 실행\n",
        "    print('예외가 발생했어요')\n",
        "except IndexError: # IndexError 에러가 났을때만 실행\n",
        "   print('인덱스 지정이 올바르지 않습니다')\n",
        "print('프로그램을 종료합니다.')"
      ],
      "metadata": {
        "colab": {
          "base_uri": "https://localhost:8080/"
        },
        "id": "7low-AZn0qrP",
        "outputId": "654a1092-24a0-4fb5-ef3a-38dc9b2ee18a"
      },
      "execution_count": null,
      "outputs": [
        {
          "output_type": "stream",
          "name": "stdout",
          "text": [
            "10\n",
            "인덱스 지정이 올바르지 않습니다\n",
            "프로그램을 종료합니다.\n"
          ]
        }
      ]
    },
    {
      "cell_type": "code",
      "source": [
        "try :\n",
        "    print(int('안녕'))\n",
        "except ZeroDivisionError: # ZeroDivisionError 에러가 났을때만 실행\n",
        "    print('0으로 나눌 수 없습니다.')\n",
        "except IndexError: # IndexError 에러가 났을때만 실행\n",
        "    print('인덱스 지정이 올바르지 않습니다')\n",
        "except ValueError:\n",
        "    print('값이 잘 못 입력되었습니다')\n",
        "except:                                 # Except는 맨 마지막에 있어야 한다 (모든 에러를 핸들링한다)\n",
        "    print('예외가 발생했어요')\n",
        "print('프로그램을 종료합니다.')"
      ],
      "metadata": {
        "colab": {
          "base_uri": "https://localhost:8080/"
        },
        "id": "6VTmledO1jSP",
        "outputId": "285b4a02-656b-4b51-d3da-5da8ac9a84bf"
      },
      "execution_count": null,
      "outputs": [
        {
          "output_type": "stream",
          "name": "stdout",
          "text": [
            "값이 잘 못 입력되었습니다\n",
            "프로그램을 종료합니다.\n"
          ]
        }
      ]
    },
    {
      "cell_type": "code",
      "source": [
        "try :\n",
        "    print(int('안녕'))\n",
        "except ZeroDivisionError as e: # ZeroDivisionError 에러가 났을때만 실행\n",
        "    print('0으로 나눌 수 없습니다.')\n",
        "except IndexError as e: # IndexError 에러가 났을때만 실행\n",
        "    print('인덱스 지정이 올바르지 않습니다')\n",
        "except ValueError as e:\n",
        "    print('값이 잘 못 입력되었습니다')\n",
        "except Exception as e:                                 # Except는 맨 마지막에 있어야 한다 (모든 에러를 핸들링한다)\n",
        "    print('예외가 발생했어요')\n",
        "print('프로그램을 종료합니다.')"
      ],
      "metadata": {
        "colab": {
          "base_uri": "https://localhost:8080/"
        },
        "id": "wnWBDCxf2S_Y",
        "outputId": "2ae16068-0795-489a-eaf4-db8a55e18b7c"
      },
      "execution_count": null,
      "outputs": [
        {
          "output_type": "stream",
          "name": "stdout",
          "text": [
            "값이 잘 못 입력되었습니다\n",
            "프로그램을 종료합니다.\n"
          ]
        }
      ]
    },
    {
      "cell_type": "code",
      "source": [
        "try :\n",
        "    print(int('안녕'))\n",
        "except ZeroDivisionError as e: # ZeroDivisionError 에러가 났을때만 실행\n",
        "    print(e)\n",
        "except IndexError as e: # IndexError 에러가 났을때만 실행\n",
        "    print(e)\n",
        "except ValueError as e:\n",
        "    print(e)\n",
        "except Exception as e:                                 # Except는 맨 마지막에 있어야 한다 (모든 에러를 핸들링한다)\n",
        "    print(e)\n",
        "print('프로그램을 종료합니다.')"
      ],
      "metadata": {
        "colab": {
          "base_uri": "https://localhost:8080/"
        },
        "id": "7aUtx4tq3Ego",
        "outputId": "bdac5eca-0509-48f1-f9b5-73372c57fa12"
      },
      "execution_count": null,
      "outputs": [
        {
          "output_type": "stream",
          "name": "stdout",
          "text": [
            "invalid literal for int() with base 10: '안녕'\n",
            "프로그램을 종료합니다.\n"
          ]
        }
      ]
    },
    {
      "cell_type": "code",
      "source": [
        "try :\n",
        "    # print(int('안녕'))\n",
        "    data = [10, 20, 30, 40, 50]\n",
        "    print(data[0])\n",
        "except ZeroDivisionError as e: # ZeroDivisionError 에러가 났을때만 실행\n",
        "    print(e)\n",
        "except IndexError as e: # IndexError 에러가 났을때만 실행\n",
        "    print(e)\n",
        "except ValueError as e:\n",
        "    print(e)\n",
        "except Exception as e:                                 # Except는 맨 마지막에 있어야 한다 (모든 에러를 핸들링한다)\n",
        "    print(e)\n",
        "else:\n",
        "  print('에러가 발생하지 않은 정상적인 프로그램')\n",
        "print('프로그램을 종료합니다.')"
      ],
      "metadata": {
        "colab": {
          "base_uri": "https://localhost:8080/"
        },
        "id": "MkmzA-H03dHs",
        "outputId": "938ad674-02ce-46af-c510-ac703686e38e"
      },
      "execution_count": null,
      "outputs": [
        {
          "output_type": "stream",
          "name": "stdout",
          "text": [
            "10\n",
            "에러가 발생하지 않은 정상적인 프로그램\n",
            "프로그램을 종료합니다.\n"
          ]
        }
      ]
    },
    {
      "cell_type": "code",
      "source": [
        "try :\n",
        "    print(int('안녕'))\n",
        "    # data = [10, 20, 30, 40, 50]\n",
        "    # print(data[0])\n",
        "except ZeroDivisionError as e: # ZeroDivisionError 에러가 났을때만 실행\n",
        "    print(e)\n",
        "except IndexError as e: # IndexError 에러가 났을때만 실행\n",
        "    print(e)\n",
        "except ValueError as e:\n",
        "    print(e)\n",
        "except Exception as e:                                 # Except는 맨 마지막에 있어야 한다 (모든 에러를 핸들링한다)\n",
        "    print(e)\n",
        "else:\n",
        "    print('에러가 발생하지 않은 정상적인 프로그램')\n",
        "finally:\n",
        "    print('에러에 관계없이 무조건 실행되는 문장')\n",
        "print('프로그램을 종료합니다.')"
      ],
      "metadata": {
        "colab": {
          "base_uri": "https://localhost:8080/"
        },
        "id": "9aF89bPz3xWg",
        "outputId": "be576f82-3cac-4d56-a610-b554506d5032"
      },
      "execution_count": null,
      "outputs": [
        {
          "output_type": "stream",
          "name": "stdout",
          "text": [
            "invalid literal for int() with base 10: '안녕'\n",
            "에러에 관계없이 무조건 실행되는 문장\n",
            "프로그램을 종료합니다.\n"
          ]
        }
      ]
    },
    {
      "cell_type": "markdown",
      "source": [
        "# 4. Exception 클래스\n",
        "Exception 클래스는 파이썬의 내장 예외 계층 구조에서 거의 모든 내장 예외의 기본 클래스입니다. 이 클래스는 사용자 정의 예외를 만들거나 특정 예외 유형을 잡기 위한 기본적인 인터페이스를 제공합니다. 예외 유형은 Exception을 상속받아서 정의됩니다. 예를 들면 ValueError, TypeError, FileNotFoundError 등이 있습니다. 이 상속 구조 덕분에 except Exception 블록은 Exception을 상속받은 모든 예외를 처리할 수 있습니다."
      ],
      "metadata": {
        "id": "4Je3UT494tI3"
      }
    },
    {
      "cell_type": "code",
      "source": [
        "# 직접 에러 핸들링을 만드는것도 가능하다.\n",
        "try:\n",
        "    raise Exception('예외가 발생했어요!!')\n",
        "except Exception as e:\n",
        "    print(e)"
      ],
      "metadata": {
        "colab": {
          "base_uri": "https://localhost:8080/"
        },
        "id": "ifxYySgX4v7K",
        "outputId": "1082511b-3455-49f1-9c40-310969b5a9db"
      },
      "execution_count": null,
      "outputs": [
        {
          "output_type": "stream",
          "name": "stdout",
          "text": [
            "예외가 발생했어요!!\n"
          ]
        }
      ]
    },
    {
      "cell_type": "code",
      "source": [
        "def func1():\n",
        "    n = int(input('짝수를 입력하세요: '))\n",
        "    # 짝수가 아닐경우:\n",
        "    if n % 2 == 1:\n",
        "        raise Exception('홀수를 입력하세요')\n",
        "    # 짝수일 경우:\n",
        "    print(n)\n",
        "\n",
        "try:\n",
        "    func1()\n",
        "except Exception as e:\n",
        "    print('예외가 발생: ', e)"
      ],
      "metadata": {
        "colab": {
          "base_uri": "https://localhost:8080/"
        },
        "id": "lcaBgVPk5cBH",
        "outputId": "f408fa04-fe6e-48a8-cf0d-dccd859866ea"
      },
      "execution_count": null,
      "outputs": [
        {
          "output_type": "stream",
          "name": "stdout",
          "text": [
            "짝수를 입력하세요: 3\n",
            "예외가 발생:  홀수를 입력하세요\n"
          ]
        }
      ]
    },
    {
      "cell_type": "code",
      "source": [
        "#어디서 에러를 처리하든 상관없다.\n",
        "def func1():\n",
        "    func2()\n",
        "    # try:\n",
        "    #     func2()\n",
        "    # except TypeError:\n",
        "    #     print('타입이 올바르지 않습니다')\n",
        "\n",
        "def func2():\n",
        "    func3()\n",
        "    # try:\n",
        "    #     func3()\n",
        "    # except TypeError:\n",
        "    #     print('타입이 올바르지 않습니다')\n",
        "\n",
        "def func3():\n",
        "    try:\n",
        "        print('%d' % '문자열')\n",
        "    except TypeError:\n",
        "        print('타입이 올바르지 않습니다')"
      ],
      "metadata": {
        "id": "SZpa4X4P8_od"
      },
      "execution_count": null,
      "outputs": []
    },
    {
      "cell_type": "code",
      "source": [
        "func1()\n",
        "\n",
        "# try:\n",
        "#     func1()\n",
        "# except TypeError :\n",
        "#     print(\"타입이 올바르지 않습니다\")"
      ],
      "metadata": {
        "colab": {
          "base_uri": "https://localhost:8080/"
        },
        "id": "QK5-mTEI9T6U",
        "outputId": "05d43a5f-ed97-4ae8-dfff-9619faafc1e9"
      },
      "execution_count": null,
      "outputs": [
        {
          "output_type": "stream",
          "name": "stdout",
          "text": [
            "타입이 올바르지 않습니다\n"
          ]
        }
      ]
    },
    {
      "cell_type": "markdown",
      "source": [
        "# 5. 사용자 정의 예외 클래스를 직접 만들고 활용하기"
      ],
      "metadata": {
        "id": "NAGTbAZf98s3"
      }
    },
    {
      "cell_type": "code",
      "source": [
        "class AgeLimitError(Exception):\n",
        "    def __init__(self, age, message='MZ세대 나이의 범위가 아님'):\n",
        "        self.age = age\n",
        "        self.message = message # 넘어온 값이 있으면 저장\n",
        "        super().__init__(self.message)\n",
        "\n",
        "def check_age(age):\n",
        "    if age < 14:\n",
        "        raise AgeLimitError(age, 'MZ 나이 범위보다 작음')\n",
        "    elif age > 43:\n",
        "        raise AgeLimitError(age, 'MZ 나이 범위보다 큼')\n",
        "    else:\n",
        "        return f'{age} 나이: MZ 나이 범위안에 포함'"
      ],
      "metadata": {
        "id": "C0IMQL3L_Hg_"
      },
      "execution_count": null,
      "outputs": []
    },
    {
      "cell_type": "code",
      "source": [
        "'''\n",
        "17 나이: MZ 나이 범위안에 포함\n",
        "60 나이 에러: MZ 나이 범위보다 큼\n",
        "...\n",
        "5 나이 에러: MZ 나이 범위보다 작음\n",
        "'''\n",
        "ages = [17, 60, 46, 20, 80, 55, 26, 12, 5]\n",
        "\n",
        "for age in ages:\n",
        "    try:\n",
        "        print(check_age(age))\n",
        "    except AgeLimitError as e: # AgeLimitError 클래스가 e라는 객체를 가지고 있어서 e.age를 불러올 수 있다.\n",
        "        print(f'{e.age} 나이 에러: {e}')"
      ],
      "metadata": {
        "colab": {
          "base_uri": "https://localhost:8080/"
        },
        "id": "90sxM590AaBp",
        "outputId": "21079358-8152-4dab-b98b-2b6e07fe24cc"
      },
      "execution_count": null,
      "outputs": [
        {
          "output_type": "stream",
          "name": "stdout",
          "text": [
            "17 나이: MZ 나이 범위안에 포함\n",
            "60 나이 에러: MZ 나이 범위보다 큼\n",
            "46 나이 에러: MZ 나이 범위보다 큼\n",
            "20 나이: MZ 나이 범위안에 포함\n",
            "80 나이 에러: MZ 나이 범위보다 큼\n",
            "55 나이 에러: MZ 나이 범위보다 큼\n",
            "26 나이: MZ 나이 범위안에 포함\n",
            "12 나이 에러: MZ 나이 범위보다 작음\n",
            "5 나이 에러: MZ 나이 범위보다 작음\n"
          ]
        }
      ]
    }
  ]
}