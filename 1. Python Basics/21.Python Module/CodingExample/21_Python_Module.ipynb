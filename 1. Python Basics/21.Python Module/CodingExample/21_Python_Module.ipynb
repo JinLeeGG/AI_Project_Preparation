{
  "nbformat": 4,
  "nbformat_minor": 0,
  "metadata": {
    "colab": {
      "provenance": [],
      "mount_file_id": "1LVSilq6rlYe6-sybIH-Xd35p7fbWEIyf",
      "authorship_tag": "ABX9TyM/PpTsvzoxzgCzBoNQwBxU",
      "include_colab_link": true
    },
    "kernelspec": {
      "name": "python3",
      "display_name": "Python 3"
    },
    "language_info": {
      "name": "python"
    }
  },
  "cells": [
    {
      "cell_type": "markdown",
      "metadata": {
        "id": "view-in-github",
        "colab_type": "text"
      },
      "source": [
        "<a href=\"https://colab.research.google.com/github/JinLeeGG/AI_Project_Preparation/blob/main/1.%20Python%20Basics/21.Python%20Module/CodingExample/21_Python_Module.ipynb\" target=\"_parent\"><img src=\"https://colab.research.google.com/assets/colab-badge.svg\" alt=\"Open In Colab\"/></a>"
      ]
    },
    {
      "cell_type": "markdown",
      "source": [
        "https://ryuzyproject.tistory.com/26?category=1088818"
      ],
      "metadata": {
        "id": "QEN_w5p2hE1A"
      }
    },
    {
      "cell_type": "markdown",
      "source": [
        "> 파이썬에서는 .ipynb 파일과 .py 파일 모두 파이썬 코드를 작성할 수 있지만, 사용 목적과 형식이 다릅니다."
      ],
      "metadata": {
        "id": "oH-mdyrNhAxm"
      }
    },
    {
      "cell_type": "markdown",
      "source": [
        "# 1. 파일 종류 소개\n",
        "\n",
        "<img src = 'https://img1.daumcdn.net/thumb/R1280x0/?scode=mtistory2&fname=https%3A%2F%2Fblog.kakaocdn.net%2Fdn%2FdrIfzo%2FbtsNXXAs4OR%2F4gJhcFZpqhdORCQFXbKMYk%2Fimg.png'>\n"
      ],
      "metadata": {
        "id": "-Bh_gv0KiQmB"
      }
    },
    {
      "cell_type": "markdown",
      "source": [
        "# 2. 모듈\n",
        "파이썬에서 모듈을 만들려면 간단히 .py 확장자를 가진 파일에 코드를 작성하면 됩니다. 모듈은 단순한 함수 뿐만 아니라 변수, 클래스 등도 포함할 수 있으며, 다른 스크립트에서 import 구문을 사용하여 가져올 수 있습니다.\n",
        "\n"
      ],
      "metadata": {
        "id": "px9ywA5hiTG3"
      }
    },
    {
      "cell_type": "code",
      "source": [
        "import math_tools"
      ],
      "metadata": {
        "id": "MBzRyxOTimYK"
      },
      "execution_count": null,
      "outputs": []
    },
    {
      "cell_type": "code",
      "source": [
        "print(math_tools.PI)"
      ],
      "metadata": {
        "colab": {
          "base_uri": "https://localhost:8080/"
        },
        "id": "v5qMpJHjoeQB",
        "outputId": "ad0bb548-b940-40dd-8df0-bd1bef7adb12"
      },
      "execution_count": null,
      "outputs": [
        {
          "output_type": "stream",
          "name": "stdout",
          "text": [
            "3.141592653589793\n"
          ]
        }
      ]
    },
    {
      "cell_type": "code",
      "source": [
        "print(math_tools.add(5, 3))"
      ],
      "metadata": {
        "colab": {
          "base_uri": "https://localhost:8080/"
        },
        "id": "gq9xmWYnolbh",
        "outputId": "ad87e6af-6fc1-4fb8-db55-7a1317d0e48f"
      },
      "execution_count": null,
      "outputs": [
        {
          "output_type": "stream",
          "name": "stdout",
          "text": [
            "8\n"
          ]
        }
      ]
    },
    {
      "cell_type": "code",
      "source": [
        "print(math_tools.subtract(5, 3))"
      ],
      "metadata": {
        "colab": {
          "base_uri": "https://localhost:8080/"
        },
        "id": "YaU0H9zHosbT",
        "outputId": "69a9c1fa-4052-4119-f37b-1e3ef634b2da"
      },
      "execution_count": null,
      "outputs": [
        {
          "output_type": "stream",
          "name": "stdout",
          "text": [
            "2\n"
          ]
        }
      ]
    },
    {
      "cell_type": "code",
      "source": [
        "circle = math_tools.Circle(5) # math_tools 모듈 안에 있는 Circle 객체 만들기\n",
        "print(circle.area()) # 함수 사용"
      ],
      "metadata": {
        "colab": {
          "base_uri": "https://localhost:8080/"
        },
        "id": "7bl1FDQBoy8Z",
        "outputId": "f0848dee-2fb8-4379-e1c6-b8a82c620cde"
      },
      "execution_count": null,
      "outputs": [
        {
          "output_type": "stream",
          "name": "stdout",
          "text": [
            "78.53981633974483\n"
          ]
        }
      ]
    },
    {
      "cell_type": "code",
      "source": [
        "from math_tools import PI, Circle"
      ],
      "metadata": {
        "id": "VZcR9CBHprlS"
      },
      "execution_count": null,
      "outputs": []
    },
    {
      "cell_type": "code",
      "source": [
        "print(PI)  # 3.141592653589793\n",
        "\n",
        "circle = Circle(5)\n",
        "print(circle.area())  # 78.53981633974483"
      ],
      "metadata": {
        "colab": {
          "base_uri": "https://localhost:8080/"
        },
        "id": "FGS4rXoHqFPA",
        "outputId": "5cc55faf-722d-46ae-9a0c-801cf634a31c"
      },
      "execution_count": null,
      "outputs": [
        {
          "output_type": "stream",
          "name": "stdout",
          "text": [
            "3.141592653589793\n",
            "78.53981633974483\n"
          ]
        }
      ]
    },
    {
      "cell_type": "code",
      "source": [
        "import math_tools as mt"
      ],
      "metadata": {
        "id": "rTq41lraqGt0"
      },
      "execution_count": null,
      "outputs": []
    },
    {
      "cell_type": "code",
      "source": [
        "# 모듈 내의 변수 사용\n",
        "print(mt.PI)  # 3.141592653589793\n",
        "\n",
        "# 모듈 내의 함수 사용\n",
        "print(mt.add(5, 3))  # 8\n",
        "print(mt.subtract(5, 3))  # 2\n",
        "\n",
        "# 모듈 내의 클래스 사용\n",
        "circle = mt.Circle(5)\n",
        "print(circle.area())  # 78.53981633974483"
      ],
      "metadata": {
        "colab": {
          "base_uri": "https://localhost:8080/"
        },
        "id": "PV-Y9sX4qXp_",
        "outputId": "20bf2002-904b-4974-c200-2b88913e7a21"
      },
      "execution_count": null,
      "outputs": [
        {
          "output_type": "stream",
          "name": "stdout",
          "text": [
            "3.141592653589793\n",
            "8\n",
            "2\n",
            "78.53981633974483\n"
          ]
        }
      ]
    },
    {
      "cell_type": "markdown",
      "source": [
        "# 3. 구글 드라이브 사용하기\n",
        "먼저 구글드라이브를 마운트하고 아래와 같이 실행합니다."
      ],
      "metadata": {
        "id": "Az4lE5fAu7_k"
      }
    },
    {
      "cell_type": "code",
      "source": [
        "path = '/content/drive/MyDrive/Python_Computer Vision With AI/2. Python Web Development and LLM Basics/module'\n",
        "\n",
        "import sys\n",
        "sys.path.append(path) # 시스템에 경로 추가"
      ],
      "metadata": {
        "id": "q5WNjUVQqZeo"
      },
      "execution_count": null,
      "outputs": []
    },
    {
      "cell_type": "code",
      "source": [
        "import math_tools as mt"
      ],
      "metadata": {
        "id": "xCxYkWdguOW6"
      },
      "execution_count": null,
      "outputs": []
    },
    {
      "cell_type": "markdown",
      "source": [
        "# 4.  \\_\\_name__ 속성 사용하기\n",
        "모듈에는 \\_\\_name__이라는 특별한 내장 변수가 있습니다. 이 변수는 모듈이 어떻게 실행되는지에 따라 다른 값을 가집니다. 모듈이 파이썬 인터프리터에 의해 첫 번째로 실행되면, \\_\\_name__은 '\\_\\_main__'으로 설정됩니다. 그러나 외부에서 import되면, \\_\\_name__은 원래의 모듈 이름으로 설정됩니다.\n",
        "\n",
        "```\n",
        "if __name__ == \"__main__\":\n",
        "    print(\"이 모듈은 직접 실행되었습니다.\")\n",
        "else:\n",
        "    print(\"이 모듈은 import 되었습니다.\")\n",
        "```\n"
      ],
      "metadata": {
        "id": "TkXYfCxkuULx"
      }
    },
    {
      "cell_type": "markdown",
      "source": [
        "# 4. 패키지\n",
        "파이썬에서 패키지는 모듈들을 포함하고 있는 디렉터리입니다. 모듈은 파이썬 코드를 담고 있는 파일이며, 여러 모듈을 논리적으로 그룹화하려는 경우 패키지를 사용합니다. 패키지를 사용하면 관련된 기능들을 함께 묶어서 코드를 더욱 체계적으로 관리할 수 있습니다.\n",
        "\n",
        "```\n",
        "my_package/\n",
        "│\n",
        "├── __init__.py\n",
        "│\n",
        "├── module_a.py\n",
        "│\n",
        "└── sub_package/\n",
        "    │\n",
        "    ├── __init__.py\n",
        "    └── module_b.py\n",
        "```\n",
        "\n",
        "패키지는 기본적으로 디렉터리와 그 안의 .py 파일들로 구성됩니다. 패키지를 구성하는 디렉터리 내에는 __init__.py라는 특별한 파일이 있어야 합니다. 이 파일은 해당 디렉터리가 파이썬 패키지임을 나타냅니다. __init__.py는 비워둘 수도 있고, 패키지 초기화 코드를 포함할 수도 있습니다. 또한 패키지 안에 다른 패키지(하위 패키지)를 포함할 수 있습니다. 이를 통해 복잡한 프로젝트의 코드를 여러 레벨의 디렉터리로 계층적으로 구성할 수 있습니다.\n"
      ],
      "metadata": {
        "id": "nEtgYTjcvDxT"
      }
    },
    {
      "cell_type": "markdown",
      "source": [
        "### 패키지 만들기 실습\n",
        "```\n",
        "shapes/\n",
        "│\n",
        "├── __init__.py\n",
        "├── circle.py\n",
        "└── rectangle.py\n",
        "```"
      ],
      "metadata": {
        "id": "8OOpgLwlwXNT"
      }
    },
    {
      "cell_type": "code",
      "source": [
        "from shapes import circle, rectangle # shape 패키지 안에 있는 circle, rectangle 모듈 임포트"
      ],
      "metadata": {
        "id": "qqzGjOSuxj8j"
      },
      "execution_count": null,
      "outputs": []
    },
    {
      "cell_type": "code",
      "source": [
        "print(circle.area(5)) # 각 모듈안에 있는 함수 사용 가능\n",
        "print(circle.circumference(5))"
      ],
      "metadata": {
        "colab": {
          "base_uri": "https://localhost:8080/"
        },
        "id": "73gKeQKjy-KV",
        "outputId": "2d2658ae-12f0-41cf-dd82-d0c0dd3dc587"
      },
      "execution_count": null,
      "outputs": [
        {
          "output_type": "stream",
          "name": "stdout",
          "text": [
            "78.53981633974483\n",
            "31.41592653589793\n"
          ]
        }
      ]
    },
    {
      "cell_type": "code",
      "source": [
        "from shapes.circle import area as circle_area\n",
        "from shapes.rectangle import area as rectangle_area"
      ],
      "metadata": {
        "id": "7DkrUj3lzLmy"
      },
      "execution_count": null,
      "outputs": []
    },
    {
      "cell_type": "code",
      "source": [
        "print(circle_area(5))\n",
        "print(rectangle_area(4, 6))"
      ],
      "metadata": {
        "colab": {
          "base_uri": "https://localhost:8080/"
        },
        "id": "e83jvgdMztwk",
        "outputId": "bba120dd-6a29-4db4-cda0-02b44a2e2a56"
      },
      "execution_count": null,
      "outputs": [
        {
          "output_type": "stream",
          "name": "stdout",
          "text": [
            "78.53981633974483\n",
            "24\n"
          ]
        }
      ]
    },
    {
      "cell_type": "code",
      "source": [],
      "metadata": {
        "id": "aGB3jU8MzzjG"
      },
      "execution_count": null,
      "outputs": []
    }
  ]
}