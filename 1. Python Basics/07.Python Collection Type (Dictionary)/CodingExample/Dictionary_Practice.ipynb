{
  "nbformat": 4,
  "nbformat_minor": 0,
  "metadata": {
    "colab": {
      "provenance": [],
      "authorship_tag": "ABX9TyOrxvTO9Rjbd7CAhVDs7lM1",
      "include_colab_link": true
    },
    "kernelspec": {
      "name": "python3",
      "display_name": "Python 3"
    },
    "language_info": {
      "name": "python"
    }
  },
  "cells": [
    {
      "cell_type": "markdown",
      "metadata": {
        "id": "view-in-github",
        "colab_type": "text"
      },
      "source": [
        "<a href=\"https://colab.research.google.com/github/JinLeeGG/AI_Project_Preparation/blob/main/1.%20Python%20Basics/07.Python%20Collection%20Type%20(Dictionary)/CodingExample/Dictionary_Practice.ipynb\" target=\"_parent\"><img src=\"https://colab.research.google.com/assets/colab-badge.svg\" alt=\"Open In Colab\"/></a>"
      ]
    },
    {
      "cell_type": "code",
      "execution_count": 1,
      "metadata": {
        "id": "787o3LVd-XXQ",
        "colab": {
          "base_uri": "https://localhost:8080/"
        },
        "outputId": "4e424c89-ac8c-42b6-e48a-a16fdd5353a2"
      },
      "outputs": [
        {
          "output_type": "stream",
          "name": "stdout",
          "text": [
            "{}\n",
            "<class 'dict'>\n"
          ]
        }
      ],
      "source": [
        "# Dictionary\n",
        "dic1 = {}\n",
        "print(dic1)\n",
        "print(type(dic1))"
      ]
    },
    {
      "cell_type": "code",
      "source": [
        "dic2 = {1: \"KimApple\", 2: \"Banana\", 3:\"Orange\"}\n",
        "print(dic2)\n",
        "print(type(dic2))"
      ],
      "metadata": {
        "colab": {
          "base_uri": "https://localhost:8080/"
        },
        "id": "FouT6nwar_t3",
        "outputId": "b1b514b5-3671-4f5b-b51c-4a7b4ed05da3"
      },
      "execution_count": 2,
      "outputs": [
        {
          "output_type": "stream",
          "name": "stdout",
          "text": [
            "{1: 'KimApple', 2: 'Banana', 3: 'Orange'}\n",
            "<class 'dict'>\n"
          ]
        }
      ]
    },
    {
      "cell_type": "code",
      "source": [
        "print(dic2[1]) # returns values by calling key\n",
        "print(dic2[2])"
      ],
      "metadata": {
        "colab": {
          "base_uri": "https://localhost:8080/"
        },
        "id": "DIvZAYOVtCrP",
        "outputId": "fc1da8ec-3c22-47b0-fe9e-76c73fac513b"
      },
      "execution_count": 3,
      "outputs": [
        {
          "output_type": "stream",
          "name": "stdout",
          "text": [
            "KimApple\n",
            "Banana\n"
          ]
        }
      ]
    },
    {
      "cell_type": "code",
      "source": [
        "dic3 = {'no':1, 'userid':'apple', 'name':'김사과', 'hp':'010-1111-1111'}\n",
        "print(dic3)\n",
        "print(dic3['userid'])\n",
        "print(dic3['hp'])"
      ],
      "metadata": {
        "colab": {
          "base_uri": "https://localhost:8080/"
        },
        "id": "p5AOTQk1tgUS",
        "outputId": "8ddf2ed5-f723-437a-e88d-fadcd328abb6"
      },
      "execution_count": 4,
      "outputs": [
        {
          "output_type": "stream",
          "name": "stdout",
          "text": [
            "{'no': 1, 'userid': 'apple', 'name': '김사과', 'hp': '010-1111-1111'}\n",
            "apple\n",
            "010-1111-1111\n"
          ]
        }
      ]
    },
    {
      "cell_type": "code",
      "source": [
        "dic3 = {'no':1, 'userid':'apple', 'name':'김사과', 'hp':'010-1111-1111'}\n",
        "print(dic3)\n",
        "\n",
        "print(dic3.items()) # Returns as Tuple"
      ],
      "metadata": {
        "colab": {
          "base_uri": "https://localhost:8080/"
        },
        "id": "43HBPu24scRl",
        "outputId": "98388f79-01ad-4134-a356-f5b3539575f3"
      },
      "execution_count": 5,
      "outputs": [
        {
          "output_type": "stream",
          "name": "stdout",
          "text": [
            "{'no': 1, 'userid': 'apple', 'name': '김사과', 'hp': '010-1111-1111'}\n",
            "dict_items([('no', 1), ('userid', 'apple'), ('name', '김사과'), ('hp', '010-1111-1111')])\n"
          ]
        }
      ]
    },
    {
      "cell_type": "code",
      "source": [
        "# Dictionary can be modified\n",
        "\n",
        "dic4 = {1:'apple'}\n",
        "print(dic4)\n",
        "\n",
        "dic4[100] = 'banana' # generates value if there is not any\n",
        "print(dic4)\n",
        "\n",
        "dic4[100] = 'orange' # Since key is assigned, change the value\n",
        "print(dic4)\n",
        "\n",
        "dic4[50] = 'melon'\n",
        "print(dic4)\n",
        "\n",
        "del dic4[100] # deleting element\n",
        "print(dic4)\n"
      ],
      "metadata": {
        "colab": {
          "base_uri": "https://localhost:8080/"
        },
        "id": "VjyvHTVys1XU",
        "outputId": "9dae2711-9005-4c6b-ba7b-006732bb62bc"
      },
      "execution_count": 6,
      "outputs": [
        {
          "output_type": "stream",
          "name": "stdout",
          "text": [
            "{1: 'apple'}\n",
            "{1: 'apple', 100: 'banana'}\n",
            "{1: 'apple', 100: 'orange'}\n",
            "{1: 'apple', 100: 'orange', 50: 'melon'}\n",
            "{1: 'apple', 50: 'melon'}\n"
          ]
        }
      ]
    },
    {
      "cell_type": "code",
      "source": [
        "dic3 = {'no':1, 'userid':'apple', 'name':'김사과', 'hp':'010-1111-1111'}\n",
        "print(dic3)\n",
        "\n",
        "dic3['gender'] = 'female'\n",
        "print(dic3)\n",
        "\n",
        "dic3['no'] = 10\n",
        "print(dic3)"
      ],
      "metadata": {
        "colab": {
          "base_uri": "https://localhost:8080/"
        },
        "id": "6P-QRs2CvnCP",
        "outputId": "82120e01-4b5e-4d90-a7a6-978d8a18e280"
      },
      "execution_count": 7,
      "outputs": [
        {
          "output_type": "stream",
          "name": "stdout",
          "text": [
            "{'no': 1, 'userid': 'apple', 'name': '김사과', 'hp': '010-1111-1111'}\n",
            "{'no': 1, 'userid': 'apple', 'name': '김사과', 'hp': '010-1111-1111', 'gender': 'female'}\n",
            "{'no': 10, 'userid': 'apple', 'name': '김사과', 'hp': '010-1111-1111', 'gender': 'female'}\n"
          ]
        }
      ]
    },
    {
      "cell_type": "code",
      "source": [
        "dic3['score'] = [100, 90, 40] # can insert list inside of dic\n",
        "print(dic3)"
      ],
      "metadata": {
        "colab": {
          "base_uri": "https://localhost:8080/"
        },
        "id": "KQwZUHAxwFb_",
        "outputId": "2744d4a3-1318-47cb-ff9a-97bd9a9d869e"
      },
      "execution_count": 8,
      "outputs": [
        {
          "output_type": "stream",
          "name": "stdout",
          "text": [
            "{'no': 10, 'userid': 'apple', 'name': '김사과', 'hp': '010-1111-1111', 'gender': 'female', 'score': [100, 90, 40]}\n"
          ]
        }
      ]
    },
    {
      "cell_type": "code",
      "source": [
        "dic3[(10, 20, 30)] = ['ten', 'twenty', 'thirty'] # Key can be tuple\n",
        "print(dic3)"
      ],
      "metadata": {
        "colab": {
          "base_uri": "https://localhost:8080/"
        },
        "id": "_JyOh-0lsaCK",
        "outputId": "a2339bc8-4951-4df3-d664-7b1923f4a491"
      },
      "execution_count": 12,
      "outputs": [
        {
          "output_type": "stream",
          "name": "stdout",
          "text": [
            "{'no': 10, 'userid': 'apple', 'name': '김사과', 'hp': '010-1111-1111', 'gender': 'female', 'score': [100, 90, 40], (10, 20, 30): ['ten', 'twenty', 'thirty']}\n"
          ]
        }
      ]
    },
    {
      "cell_type": "code",
      "source": [
        "dic3['과일'] = {'사과':'🍎', '딸기':'🍓', '수박':'🍉'}  # Value can be dictionary\n",
        "print(dic3)"
      ],
      "metadata": {
        "colab": {
          "base_uri": "https://localhost:8080/"
        },
        "id": "6yV5dwHcsuxa",
        "outputId": "16d9805f-0cde-4dce-9a4c-e3bd5bcfb29e"
      },
      "execution_count": 13,
      "outputs": [
        {
          "output_type": "stream",
          "name": "stdout",
          "text": [
            "{'no': 10, 'userid': 'apple', 'name': '김사과', 'hp': '010-1111-1111', 'gender': 'female', 'score': [100, 90, 40], (10, 20, 30): ['ten', 'twenty', 'thirty'], '과일': {'사과': '🍎', '딸기': '🍓', '수박': '🍉'}}\n"
          ]
        }
      ]
    },
    {
      "cell_type": "code",
      "source": [
        "# Functions and Methods in Dictionary\n",
        "dic3 = {'no':1, 'userid':'apple', 'name':'김사과', 'hp':'010-1111-1111'}\n",
        "print(dic3)\n",
        "\n",
        "print(dic3.keys())  # returns all keys"
      ],
      "metadata": {
        "id": "-2H6htd0wPQd",
        "colab": {
          "base_uri": "https://localhost:8080/"
        },
        "outputId": "730668b0-dda5-4127-f80c-a17a2572b104"
      },
      "execution_count": 15,
      "outputs": [
        {
          "output_type": "stream",
          "name": "stdout",
          "text": [
            "{'no': 1, 'userid': 'apple', 'name': '김사과', 'hp': '010-1111-1111'}\n",
            "dict_keys(['no', 'userid', 'name', 'hp'])\n"
          ]
        }
      ]
    },
    {
      "cell_type": "code",
      "source": [
        "dic3 = {'no':1, 'userid':'apple', 'name':'김사과', 'hp':'010-1111-1111'}\n",
        "print(dic3)\n",
        "\n",
        "print(dic3.items()) # returns it as tuples"
      ],
      "metadata": {
        "colab": {
          "base_uri": "https://localhost:8080/"
        },
        "id": "lrcjFAiTutBx",
        "outputId": "de73ef0d-1a38-424c-dc59-1fa0dc69bf7d"
      },
      "execution_count": 17,
      "outputs": [
        {
          "output_type": "stream",
          "name": "stdout",
          "text": [
            "{'no': 1, 'userid': 'apple', 'name': '김사과', 'hp': '010-1111-1111'}\n",
            "dict_items([('no', 1), ('userid', 'apple'), ('name', '김사과'), ('hp', '010-1111-1111')])\n"
          ]
        }
      ]
    },
    {
      "cell_type": "code",
      "source": [
        "dic3 = {'no':1, 'userid':'apple', 'name':'김사과', 'hp':'010-1111-1111'}\n",
        "print(dic3)\n",
        "\n",
        "# get(): 특정 키에 대한 값을 반환. 만약 키가 딕셔너리에 없으면 None을 반환\n",
        "# None을 치환할 수 있는 문자열을 설정할 수 있음\n",
        "\n",
        "print(dic3['userid'])\n",
        "# print(dic3['gender']) # 이 키의 값이 할당되어 있지 않을경우 에러가 난다.\n",
        "\n",
        "print(dic3.get('userid'))\n",
        "print(dic3.get('gender'))\n",
        "print(dic3.get('gender', '성별 알수없음'))\n",
        "print(dic3.get('name', '이름 알수없음'))"
      ],
      "metadata": {
        "colab": {
          "base_uri": "https://localhost:8080/"
        },
        "id": "ZEkXyiMzuyFc",
        "outputId": "074b0441-77eb-42e3-f321-3d008e25d0c8"
      },
      "execution_count": 19,
      "outputs": [
        {
          "output_type": "stream",
          "name": "stdout",
          "text": [
            "{'no': 1, 'userid': 'apple', 'name': '김사과', 'hp': '010-1111-1111'}\n",
            "apple\n",
            "apple\n",
            "None\n",
            "성별 알수없음\n",
            "김사과\n"
          ]
        }
      ]
    }
  ]
}