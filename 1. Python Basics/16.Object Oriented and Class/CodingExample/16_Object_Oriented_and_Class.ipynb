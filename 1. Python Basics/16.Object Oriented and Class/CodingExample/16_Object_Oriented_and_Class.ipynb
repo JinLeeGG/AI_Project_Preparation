{
  "nbformat": 4,
  "nbformat_minor": 0,
  "metadata": {
    "colab": {
      "provenance": [],
      "authorship_tag": "ABX9TyO9eiyZgeDi/H+UgKEVey4T",
      "include_colab_link": true
    },
    "kernelspec": {
      "name": "python3",
      "display_name": "Python 3"
    },
    "language_info": {
      "name": "python"
    }
  },
  "cells": [
    {
      "cell_type": "markdown",
      "metadata": {
        "id": "view-in-github",
        "colab_type": "text"
      },
      "source": [
        "<a href=\"https://colab.research.google.com/github/JinLeeGG/AI_Project_Preparation/blob/main/1.%20Python%20Basics/16.Object%20Oriented%20and%20Class/CodingExample/16_Object_Oriented_and_Class.ipynb\" target=\"_parent\"><img src=\"https://colab.research.google.com/assets/colab-badge.svg\" alt=\"Open In Colab\"/></a>"
      ]
    },
    {
      "cell_type": "markdown",
      "source": [
        "# 1. 프로그래밍 방법론\n",
        "프로그래밍 방법론은 프로그램을 개발하는 다양한 접근 방식이나 철학을 뜻합니다. 프로젝트 규모, 요구 사항, 개발 팀의 특성에 따라 적합한 방법론이 달라지기 때문에 각 방법론의 특징과 장단점을 이해하는 게 중요합니다."
      ],
      "metadata": {
        "id": "HSnKlgjcebYu"
      }
    },
    {
      "cell_type": "markdown",
      "source": [
        "### 1. 절차적 프로그래밍(Procedural Programming)\n",
        "\n",
        "절차(Procedure)를 중시하는 방식으로, 작업을 순서대로 실행하도록 프로그램을 구성합니다. 코드가 명령문으로 이루어져 있고, 작업 순서가 중요합니다. 변수와 함수가 함께 사용되며, 함수를 통해 프로그램의 기능을 분리하고, 코드 중복을 줄입니다."
      ],
      "metadata": {
        "id": "aLV3y04senov"
      }
    },
    {
      "cell_type": "markdown",
      "source": [
        "### 2. 객체지향 프로그래밍 (Object-Oriented Programming, OOP)\n",
        "\n",
        "객체(Object)라는 개념을 사용해 프로그램을 구성합니다. 객체는 데이터(속성)와 함수(메서드)를 하나의 단위로 묶은 것을 말합니다. 클래스라는 틀을 이용해 객체를 정의하고, 이를 통해 여러 개의 객체를 생성할 수 있습니다. 캡슐화(Encapsulation), 상속(Inheritance), 다형성(Polymorphism) 등의 특징을 활용해 코드를 재사용하고 확장할 수 있습니다"
      ],
      "metadata": {
        "id": "RqP3btjfewFz"
      }
    },
    {
      "cell_type": "markdown",
      "source": [
        "### 3. 함수형 프로그래밍 (Functional Programming)\n",
        "\n",
        "함수를 중심으로 프로그램을 구성합니다. 수학적인 함수 개념에 기초하고 있으며 코드가 간결하고 직관적입니다. 예를 들어 map, filter, reduce 등의 함수나 재귀를 주로 사용하여 데이터 처리를 간결하게 수행합니다."
      ],
      "metadata": {
        "id": "st1dng3OfX4R"
      }
    },
    {
      "cell_type": "markdown",
      "source": [
        "# 2. 클래스 만들기\n",
        "파이썬에서 클래스를 정의하려면 class 키워드를 사용합니다. 클래스 이름은 관례적으로 대문자로 시작하는 것이 좋습니다. 클래스 내부에는 속성(멤버 변수)과 메서드(멤버 함수)를 정의할 수 있습니다.\n",
        "\n",
        "```\n",
        "class 클래스이름:\n",
        "    # 클래스 속성(멤버 변수) 정의\n",
        "    속성1 = 초기값1\n",
        "    속성2 = 초기값2\n",
        "\n",
        "    # 생성자 메서드 (생략 가능)\n",
        "    def __init__(self, 매개변수1, 매개변수2, ...):\n",
        "        # 인스턴스 속성 초기화\n",
        "        self.속성1 = 매개변수1\n",
        "        self.속성2 = 매개변수2\n",
        "\n",
        "    # 메서드(멤버 함수) 정의\n",
        "    def 메서드1(self, 매개변수1, 매개변수2, ...):\n",
        "        # 메서드 동작 정의\n",
        "        pass\n",
        "\n",
        "    def 메서드2(self, 매개변수1, 매개변수2, ...):\n",
        "        # 메서드 동작 정의\n",
        "        pass\n",
        "```"
      ],
      "metadata": {
        "id": "iSKNsfodfbN3"
      }
    },
    {
      "cell_type": "markdown",
      "source": [
        "* 객체(Object): 객체는 현실 세계에서의 실제 개체나 추상적인 개념을 모델링한 것입니다. 예를 들어, 자동차, 사람, 은행 계좌 등이 객체가 될 수 있습니다. 객체는 데이터(속성, 상태)와 메서드(동작, 함수)로 구성됩니다. 클래스에서 만들어진 실제 존재하는 데이터(프로그램 내에서 사용된 것)\n",
        "\n",
        "* 클래스(Class): 클래스는 객체를 만들기 위한 템플릿 또는 설계도입니다. 클래스는 객체의 공통 속성과 동작을 정의하며, 객체를 생성하는데 사용됩니다. 예를 들어, \"자동차\" 클래스는 모든 자동차 객체가 가져야 하는 속성(색상, 속도)과 메서드(주행, 멈춤)를 정의할 수 있습니다.\n",
        "\n",
        "* 인스턴스(Instance): 클래스를 기반으로 실제로 생성된 객체를 인스턴스라고 합니다. 클래스는 여러 인스턴스를 생성할 수 있으며, 각 인스턴스는 독립적인 데이터와 메서드를 가집니다. 객체가 어떤 클래스에서 나왔는지에 초점을 맞출 때 사용하는 용어\n",
        "\n",
        "\n",
        "\n",
        "* 속성(Attributes) 또는 멤버 변수(Fields): 객체는 데이터를 저장하기 위한 속성을 가집니다. 이러한 속성은 객체의 상태나 특성을 나타내며 변수로 표현됩니다. 예를 들어, 자동차 객체의 속성은 색상, 속도, 모델 등이 될 수 있습니다.\n",
        "\n",
        "* 메서드(Methods) 또는 멤버 함수(Functions): 객체는 데이터를 조작하거나 특정 작업을 수행하기 위한 메서드를 포함합니다. 이러한 메서드는 함수와 비슷하게 동작하지만, 객체의 상태에 접근하고 조작할 수 있습니다. 자동차 객체의 메서드로는 주행, 정지, 경적 울리기 등이 있을 수 있습니다."
      ],
      "metadata": {
        "id": "MBc1Y-zghaoh"
      }
    },
    {
      "cell_type": "markdown",
      "source": [
        "# 3. 객체(인스턴스) 생성\n",
        "클래스를 정의한 후에는 이를 기반으로 객체(인스턴스)를 생성할 수 있습니다."
      ],
      "metadata": {
        "id": "a4oxSh0ViPb9"
      }
    },
    {
      "cell_type": "code",
      "source": [
        "class Dog:\n",
        "    pass # 클래스, 함수를 만들때 내용이 없는 블록을 만들 때 사용"
      ],
      "metadata": {
        "id": "GkiXEKd1iRvi"
      },
      "execution_count": null,
      "outputs": []
    },
    {
      "cell_type": "code",
      "source": [
        "Dog() # 메모리 주소를 16진수로 알려준다.\n",
        "# 하지만 가르키는 내용이 없기 때문에 사라진다."
      ],
      "metadata": {
        "colab": {
          "base_uri": "https://localhost:8080/"
        },
        "id": "QPBQhvcTib5Z",
        "outputId": "0e42a6d4-aaea-4d59-baa1-158b45c9e8bd"
      },
      "execution_count": null,
      "outputs": [
        {
          "output_type": "execute_result",
          "data": {
            "text/plain": [
              "<__main__.Dog at 0x7a4479d06d90>"
            ]
          },
          "metadata": {},
          "execution_count": 3
        }
      ]
    },
    {
      "cell_type": "code",
      "source": [
        "rucy = Dog() # 객체화 시킨다\n",
        "print(rucy)\n",
        "print(type(rucy)) # Dog 타입을 가진다.\n",
        "print(id(rucy))"
      ],
      "metadata": {
        "colab": {
          "base_uri": "https://localhost:8080/"
        },
        "id": "sOc9nByfiyHU",
        "outputId": "fd94259c-2f4a-4e46-808c-8b033f224feb"
      },
      "execution_count": null,
      "outputs": [
        {
          "output_type": "stream",
          "name": "stdout",
          "text": [
            "<__main__.Dog object at 0x7a4460f17b10>\n",
            "<class '__main__.Dog'>\n",
            "134434102803216\n"
          ]
        }
      ]
    },
    {
      "cell_type": "code",
      "source": [
        "PPomi = Dog() # Dog을 토대로 만들어진 객체\n",
        "print(PPomi)\n",
        "print(type(PPomi)) # 같은 Dog 타입을 가진다.\n",
        "print(id(PPomi))  #rucy와 다른 메모리 주소를 가지고 있다."
      ],
      "metadata": {
        "colab": {
          "base_uri": "https://localhost:8080/"
        },
        "id": "OwFFwjwOjKp9",
        "outputId": "9b026eb0-7215-4dca-96ab-f9b9ea18f6a8"
      },
      "execution_count": null,
      "outputs": [
        {
          "output_type": "stream",
          "name": "stdout",
          "text": [
            "<__main__.Dog object at 0x7a4460fd1d90>\n",
            "<class '__main__.Dog'>\n",
            "134434103565712\n"
          ]
        }
      ]
    },
    {
      "cell_type": "markdown",
      "source": [
        "# 4. 객체 속성 초기화\n",
        "객체를 생성한 후에는 객체의 속성을 초기화할 수 있습니다. 이를 위해 . 연산자를 사용하여 객체의 속성에 접근하고 값을 할당합니다. 또한 . 연산자를 사용하여 객체의 메서드를 호출할 수 있습니다."
      ],
      "metadata": {
        "id": "N9gwP3OUjXcM"
      }
    },
    {
      "cell_type": "code",
      "source": [
        "class Dog:\n",
        "    name = '무명'\n",
        "    age = 0\n",
        "    family = '알수없음'"
      ],
      "metadata": {
        "id": "YsxDMFWNmHvJ"
      },
      "execution_count": null,
      "outputs": []
    },
    {
      "cell_type": "code",
      "source": [
        "# 클래스 변수(속성) - 클래스 이름으로 바로 접근이 가능하다.\n",
        "# 객체가 힙에 저장되어서 Dog를 사용하던, 객체를 만들어서 접근하든 다 접근이 가능하다.\n",
        "# 공통적으로 사용하는 클래스 변수이다.\n",
        "print(Dog.name)\n",
        "print(Dog.age)\n",
        "print(Dog.family)"
      ],
      "metadata": {
        "colab": {
          "base_uri": "https://localhost:8080/"
        },
        "id": "0xsqm7KGm0ns",
        "outputId": "ce03c78b-5577-47fd-82f5-f355df5ba944"
      },
      "execution_count": null,
      "outputs": [
        {
          "output_type": "stream",
          "name": "stdout",
          "text": [
            "무명\n",
            "0\n",
            "알수없음\n"
          ]
        }
      ]
    },
    {
      "cell_type": "code",
      "source": [
        "rucy = Dog()  # Dog 객체 만듬\n",
        "print(rucy.name)  # 안에 있는 맴버변수를 불러와서 값을 찍어볼 수 있다.\n",
        "print(rucy.age)\n",
        "print(rucy.family)"
      ],
      "metadata": {
        "colab": {
          "base_uri": "https://localhost:8080/"
        },
        "id": "8yFvw4_rmb5q",
        "outputId": "8cc6d9ca-6b62-415a-872b-8ba278f5d874"
      },
      "execution_count": null,
      "outputs": [
        {
          "output_type": "stream",
          "name": "stdout",
          "text": [
            "무명\n",
            "0\n",
            "알수없음\n"
          ]
        }
      ]
    },
    {
      "cell_type": "code",
      "source": [
        "rucy.name = '루시'\n",
        "rucy.age = 15\n",
        "rucy.family = '포메'\n",
        "# 갚이 바뀌어있는것처럼 보인다.\n",
        "print(rucy.name)\n",
        "print(rucy.age)\n",
        "print(rucy.family)"
      ],
      "metadata": {
        "colab": {
          "base_uri": "https://localhost:8080/"
        },
        "id": "_2FAiv6RnXvq",
        "outputId": "7420f496-d57d-44f8-8cf8-6e03354778a2"
      },
      "execution_count": null,
      "outputs": [
        {
          "output_type": "stream",
          "name": "stdout",
          "text": [
            "루시\n",
            "15\n",
            "포메\n"
          ]
        }
      ]
    },
    {
      "cell_type": "markdown",
      "source": [
        "# 5. 생성자\n",
        "\n",
        "파이썬에서 생성자(Constructor)는 클래스의 인스턴스가 생성될 때 자동으로 호출되는 특별한 메서드입니다. 생성자는 객체의 초기화를 담당하며, 객체가 생성될 때 필요한 속성을 초기화하고 설정하는 역할을 합니다. 파이썬에서 생성자 메서드는 \\_\\_init\\_\\_라고 이름이 정해져 있습니다. 속성은 self를 사용하여 접근하고 설정합니다. 이렇게 초기화된 속성은 객체가 생성될 때마다 다른 값을 가질 수 있습니다.\n",
        "\n",
        "```\n",
        "class 클래스이름:\n",
        "    def __init__(self, 매개변수1, 매개변수2):\n",
        "        self.속성1 = 매개변수1\n",
        "        self.속성2 = 매개변수2\n",
        "```"
      ],
      "metadata": {
        "id": "vl00tKD8oTDD"
      }
    },
    {
      "cell_type": "code",
      "source": [
        "class Dog:\n",
        "    def __init__(self):\n",
        "        print(self, 'init 호출!')"
      ],
      "metadata": {
        "id": "boQwnUpcoVw5"
      },
      "execution_count": null,
      "outputs": []
    },
    {
      "cell_type": "code",
      "source": [
        "rucy = Dog() # Dog 객체 만들기\n",
        "\n",
        "#() 는 init를 호출하는 함수를 나타낸다\n",
        "# 없으면 내부적으로 빈 생성자를 만들고 그걸 호출한다.\n",
        "# 만약 만들면 무조건 init을 호출한다\n",
        "# self라는 변수나 변수 하나는 만들어줘야 한다."
      ],
      "metadata": {
        "colab": {
          "base_uri": "https://localhost:8080/"
        },
        "id": "_kLGVld0o75w",
        "outputId": "1f419cbf-c92c-492a-f6a4-d3d7529cf7ce"
      },
      "execution_count": null,
      "outputs": [
        {
          "output_type": "stream",
          "name": "stdout",
          "text": [
            "<__main__.Dog object at 0x7a443e975790> init 호출!\n"
          ]
        }
      ]
    },
    {
      "cell_type": "code",
      "source": [
        "PPomi = Dog()"
      ],
      "metadata": {
        "colab": {
          "base_uri": "https://localhost:8080/"
        },
        "id": "uTcDkKW5qUM0",
        "outputId": "23f7ff9b-1d23-4dd5-9a6e-2a4b40a6cea0"
      },
      "execution_count": null,
      "outputs": [
        {
          "output_type": "stream",
          "name": "stdout",
          "text": [
            "<__main__.Dog object at 0x7a443f87dbd0> init 호출!\n"
          ]
        }
      ]
    },
    {
      "cell_type": "code",
      "source": [
        "class Dog:\n",
        "    def __init__(self):\n",
        "        self.name = '무명'\n",
        "        self.age = 0"
      ],
      "metadata": {
        "id": "fTtjJcHUqfEF"
      },
      "execution_count": null,
      "outputs": []
    },
    {
      "cell_type": "code",
      "source": [
        "rucy = Dog()\n",
        "print(rucy.name)\n",
        "print(rucy.age)\n",
        "rucy.name = '루시'\n",
        "rucy.age = 15\n",
        "print(rucy.name)\n",
        "print(rucy.age)"
      ],
      "metadata": {
        "colab": {
          "base_uri": "https://localhost:8080/"
        },
        "id": "lHlOGeJDqlJ3",
        "outputId": "946b5606-6afa-4a9e-9d64-0a215ecd78a3"
      },
      "execution_count": null,
      "outputs": [
        {
          "output_type": "stream",
          "name": "stdout",
          "text": [
            "무명\n",
            "0\n",
            "루시\n",
            "15\n"
          ]
        }
      ]
    },
    {
      "cell_type": "code",
      "source": [
        "PPomi = Dog()\n",
        "print(PPomi.name)\n",
        "print(PPomi.age)\n",
        "PPomi.name = '뽀미'\n",
        "PPomi.age = 8\n",
        "print(PPomi.name)\n",
        "print(PPomi.age)"
      ],
      "metadata": {
        "colab": {
          "base_uri": "https://localhost:8080/"
        },
        "id": "19gG8T9PrBdJ",
        "outputId": "01d5cfcb-07c8-4fec-9e54-7028dae5bcb0"
      },
      "execution_count": null,
      "outputs": [
        {
          "output_type": "stream",
          "name": "stdout",
          "text": [
            "무명\n",
            "0\n",
            "뽀미\n",
            "8\n"
          ]
        }
      ]
    },
    {
      "cell_type": "code",
      "source": [
        "class Dog:\n",
        "    def __init__(self, name, age, family='족보없음'): #self는 모든 객체가 공통으로 사용하기 때문에 이게 누구의 이름인지 알수 있다 (메모리 주소를 나타낸다.)\n",
        "        self.name = name\n",
        "        self.age = age\n",
        "        self.family = family"
      ],
      "metadata": {
        "id": "NWnXkP2CrgS0"
      },
      "execution_count": null,
      "outputs": []
    },
    {
      "cell_type": "code",
      "source": [
        "# TypeError: Dog.__init__() missing 2 required positional arguments: 'name' and 'age'\n",
        "#rucy = Dog() # 매개변수를 안넣어서 애러가 난다\n",
        "\n",
        "rucy = Dog('루시', 15, '포메')\n",
        "print(rucy)\n",
        "print(rucy.name)\n",
        "print(rucy.age)\n",
        "print(rucy.family)"
      ],
      "metadata": {
        "colab": {
          "base_uri": "https://localhost:8080/"
        },
        "id": "B4VcRYJwrq4M",
        "outputId": "a8d4a989-2bcb-4aff-bc4e-d4481af5f1d8"
      },
      "execution_count": null,
      "outputs": [
        {
          "output_type": "stream",
          "name": "stdout",
          "text": [
            "<__main__.Dog object at 0x7a443e975e90>\n",
            "루시\n",
            "15\n",
            "포메\n"
          ]
        }
      ]
    },
    {
      "cell_type": "code",
      "source": [
        "PPomi = Dog('뽀미', 8, '폼피츠')\n",
        "print(PPomi)\n",
        "print(PPomi.name)\n",
        "print(PPomi.age)\n",
        "print(PPomi.family)"
      ],
      "metadata": {
        "colab": {
          "base_uri": "https://localhost:8080/"
        },
        "id": "fQVe5U84sLgI",
        "outputId": "610587d2-2089-461e-8b48-e1427326bb03"
      },
      "execution_count": null,
      "outputs": [
        {
          "output_type": "stream",
          "name": "stdout",
          "text": [
            "<__main__.Dog object at 0x7a443e96fb10>\n",
            "뽀미\n",
            "8\n",
            "폼피츠\n"
          ]
        }
      ]
    },
    {
      "cell_type": "markdown",
      "source": [],
      "metadata": {
        "id": "pzmqgvpBrqzb"
      }
    }
  ]
}