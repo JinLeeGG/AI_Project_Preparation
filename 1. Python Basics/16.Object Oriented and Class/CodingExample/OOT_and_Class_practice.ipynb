{
  "nbformat": 4,
  "nbformat_minor": 0,
  "metadata": {
    "colab": {
      "provenance": [],
      "authorship_tag": "ABX9TyOJjMfG14FzZKhY/mVO+Jdn",
      "include_colab_link": true
    },
    "kernelspec": {
      "name": "python3",
      "display_name": "Python 3"
    },
    "language_info": {
      "name": "python"
    }
  },
  "cells": [
    {
      "cell_type": "markdown",
      "metadata": {
        "id": "view-in-github",
        "colab_type": "text"
      },
      "source": [
        "<a href=\"https://colab.research.google.com/github/JinLeeGG/AI_Project_Preparation/blob/main/1.%20Python%20Basics/16.Object%20Oriented%20and%20Class/CodingExample/OOT_and_Class_practice.ipynb\" target=\"_parent\"><img src=\"https://colab.research.google.com/assets/colab-badge.svg\" alt=\"Open In Colab\"/></a>"
      ]
    },
    {
      "cell_type": "markdown",
      "source": [
        "# Creating Object (instance)"
      ],
      "metadata": {
        "id": "IFDy7yjNqqj9"
      }
    },
    {
      "cell_type": "code",
      "execution_count": 3,
      "metadata": {
        "id": "3T8lenPXlrzx"
      },
      "outputs": [],
      "source": [
        "class Dog:  #declaring dog class\n",
        "    pass"
      ]
    },
    {
      "cell_type": "code",
      "source": [
        "Dog() # memory address"
      ],
      "metadata": {
        "colab": {
          "base_uri": "https://localhost:8080/"
        },
        "id": "r1eelxB4p1mX",
        "outputId": "597a0a3e-e626-4c13-f8bf-9fecc568f4b0"
      },
      "execution_count": 9,
      "outputs": [
        {
          "output_type": "execute_result",
          "data": {
            "text/plain": [
              "<__main__.Dog at 0x7b9215347c50>"
            ]
          },
          "metadata": {},
          "execution_count": 9
        }
      ]
    },
    {
      "cell_type": "code",
      "source": [
        "rucy = Dog()  # set rucy as object (new instance)\n",
        "print(rucy)\n",
        "print(type(rucy)) # dog type\n",
        "print(id(rucy))"
      ],
      "metadata": {
        "colab": {
          "base_uri": "https://localhost:8080/"
        },
        "id": "kGdcdPD-p5WU",
        "outputId": "08f1677c-3410-4967-8493-8c83ba9f6b8f"
      },
      "execution_count": 8,
      "outputs": [
        {
          "output_type": "stream",
          "name": "stdout",
          "text": [
            "<__main__.Dog object at 0x7b922e24e7d0>\n",
            "<class '__main__.Dog'>\n",
            "135867769612240\n"
          ]
        }
      ]
    },
    {
      "cell_type": "code",
      "source": [
        "PPomi = Dog() # set PPomi as object (instance as well)\n",
        "print(PPomi)\n",
        "print(type(PPomi))  #same Dog type\n",
        "print(id(PPomi))"
      ],
      "metadata": {
        "colab": {
          "base_uri": "https://localhost:8080/"
        },
        "id": "94CxEVESqSop",
        "outputId": "9fb4b89e-4e5f-4820-82e8-ebb33bb438cf"
      },
      "execution_count": 14,
      "outputs": [
        {
          "output_type": "stream",
          "name": "stdout",
          "text": [
            "<__main__.Dog object at 0x7b9215381990>\n",
            "<class '__main__.Dog'>\n",
            "135867351439760\n"
          ]
        }
      ]
    },
    {
      "cell_type": "markdown",
      "source": [
        "# Resetting object attribute"
      ],
      "metadata": {
        "id": "SeBDeAiLqvDv"
      }
    },
    {
      "cell_type": "code",
      "source": [
        "class Dog:\n",
        "    name = 'no name'  # define member fields (attribute)\n",
        "    age = 0           # member variable\n",
        "    family = 'unknown'"
      ],
      "metadata": {
        "id": "MDjOKxtJq0ar"
      },
      "execution_count": 16,
      "outputs": []
    },
    {
      "cell_type": "code",
      "source": [
        "# default class variables that object uses\n",
        "print(Dog.name)\n",
        "print(Dog.age)\n",
        "print(Dog.family)"
      ],
      "metadata": {
        "colab": {
          "base_uri": "https://localhost:8080/"
        },
        "id": "wL9q3a0grNP2",
        "outputId": "7895ea4d-6a56-42af-bb0d-aa3676f5cae8"
      },
      "execution_count": 18,
      "outputs": [
        {
          "output_type": "stream",
          "name": "stdout",
          "text": [
            "no name\n",
            "0\n",
            "unknown\n"
          ]
        }
      ]
    },
    {
      "cell_type": "code",
      "source": [
        "rucy = Dog()  # Creating dog object\n",
        "print(rucy.name)  # member variables are reachable (now is default settings)\n",
        "print(rucy.age)\n",
        "print(rucy.family)"
      ],
      "metadata": {
        "colab": {
          "base_uri": "https://localhost:8080/"
        },
        "id": "kPjhSpnGrWfR",
        "outputId": "429296d6-ba2c-4636-a769-810dd9d3e597"
      },
      "execution_count": 19,
      "outputs": [
        {
          "output_type": "stream",
          "name": "stdout",
          "text": [
            "no name\n",
            "0\n",
            "unknown\n"
          ]
        }
      ]
    },
    {
      "cell_type": "code",
      "source": [
        "# member variable to instance variable\n",
        "rucy.name = 'rucy'\n",
        "rucy.age = 15\n",
        "rucy.family = 'pomeranian'\n",
        "\n",
        "print(rucy.name)\n",
        "print(rucy.age)\n",
        "print(rucy.family)"
      ],
      "metadata": {
        "colab": {
          "base_uri": "https://localhost:8080/"
        },
        "id": "181KGLCBrpAh",
        "outputId": "99f8a233-e3fc-432e-8d20-a3613794c9a3"
      },
      "execution_count": 20,
      "outputs": [
        {
          "output_type": "stream",
          "name": "stdout",
          "text": [
            "rucy\n",
            "15\n",
            "pomeranian\n"
          ]
        }
      ]
    },
    {
      "cell_type": "markdown",
      "source": [
        "# Constructor"
      ],
      "metadata": {
        "id": "8ALXAhCYsnG2"
      }
    },
    {
      "cell_type": "code",
      "source": [
        "class Dog:\n",
        "    def __init__(self):\n",
        "        print(self, 'Call init!')"
      ],
      "metadata": {
        "id": "wOHJk9Jdsq1J"
      },
      "execution_count": 21,
      "outputs": []
    },
    {
      "cell_type": "code",
      "source": [
        "rucy = Dog() # creating Dog object"
      ],
      "metadata": {
        "colab": {
          "base_uri": "https://localhost:8080/"
        },
        "id": "-HUHphFxsyXc",
        "outputId": "969bcffa-a92a-4155-a83c-43ec1bf1e401"
      },
      "execution_count": 23,
      "outputs": [
        {
          "output_type": "stream",
          "name": "stdout",
          "text": [
            "<__main__.Dog object at 0x7b9202060590> Call init!\n"
          ]
        }
      ]
    },
    {
      "cell_type": "code",
      "source": [
        "PPomi = Dog()"
      ],
      "metadata": {
        "colab": {
          "base_uri": "https://localhost:8080/"
        },
        "id": "vRR9lMpjs4tq",
        "outputId": "b25bc75b-0ffa-4984-d56a-c71f360dc7a3"
      },
      "execution_count": 24,
      "outputs": [
        {
          "output_type": "stream",
          "name": "stdout",
          "text": [
            "<__main__.Dog object at 0x7b920204e650> Call init!\n"
          ]
        }
      ]
    },
    {
      "cell_type": "code",
      "source": [
        "class Dog:\n",
        "    def __init__(self):\n",
        "        self.name = 'no name'\n",
        "        self.age = 0"
      ],
      "metadata": {
        "id": "q84kBfGuugZy"
      },
      "execution_count": 25,
      "outputs": []
    },
    {
      "cell_type": "code",
      "source": [
        "rucy = Dog()\n",
        "print(rucy.name)\n",
        "print(rucy.age)\n",
        "rucy.name = 'Rucy'\n",
        "rucy.age = 15\n",
        "print(rucy.name)\n",
        "print(rucy.name)"
      ],
      "metadata": {
        "colab": {
          "base_uri": "https://localhost:8080/"
        },
        "id": "LgbmKYhfunvJ",
        "outputId": "7d8c5c43-98d8-46ff-d3d9-38b150c96fad"
      },
      "execution_count": 30,
      "outputs": [
        {
          "output_type": "stream",
          "name": "stdout",
          "text": [
            "no name\n",
            "0\n",
            "Rucy\n",
            "Rucy\n"
          ]
        }
      ]
    },
    {
      "cell_type": "code",
      "source": [
        "PPomi = Dog()\n",
        "print(PPomi.name)\n",
        "print(PPomi.age)\n",
        "PPomi.name = 'PPomi'\n",
        "PPomi.age = 8\n",
        "print(PPomi.name)\n",
        "print(PPomi.name)"
      ],
      "metadata": {
        "colab": {
          "base_uri": "https://localhost:8080/"
        },
        "id": "E83bjq1Mu3DF",
        "outputId": "8ad94cf6-6b04-46e6-fe9b-ad814b96047f"
      },
      "execution_count": 32,
      "outputs": [
        {
          "output_type": "stream",
          "name": "stdout",
          "text": [
            "no name\n",
            "0\n",
            "PPomi\n",
            "PPomi\n"
          ]
        }
      ]
    },
    {
      "cell_type": "code",
      "source": [
        "class Dog:\n",
        "    # all object uses 'self' to know which object we are calling (represents memory address)\n",
        "    def __init__(self, name, age, family='unknown'):\n",
        "        self.name = name\n",
        "        self.age = age\n",
        "        self.family = family"
      ],
      "metadata": {
        "id": "lfRZmOISu8pS"
      },
      "execution_count": 35,
      "outputs": []
    },
    {
      "cell_type": "code",
      "source": [
        "rucy = Dog('rucy', 15, 'pome')\n",
        "print(rucy)\n",
        "print(rucy.name)\n",
        "print(rucy.age)\n",
        "print(rucy.family)"
      ],
      "metadata": {
        "colab": {
          "base_uri": "https://localhost:8080/"
        },
        "id": "wyJ8pwI3wIaJ",
        "outputId": "911113a1-bad4-47ca-a0ed-e53ba619cbc7"
      },
      "execution_count": 38,
      "outputs": [
        {
          "output_type": "stream",
          "name": "stdout",
          "text": [
            "<__main__.Dog object at 0x7b920204c750>\n",
            "rucy\n",
            "15\n",
            "pome\n"
          ]
        }
      ]
    },
    {
      "cell_type": "code",
      "source": [
        "PPomi = Dog('PPomi', 8, 'Pome')\n",
        "print(PPomi)\n",
        "print(PPomi.name)\n",
        "print(PPomi.age)\n",
        "print(PPomi.family)"
      ],
      "metadata": {
        "colab": {
          "base_uri": "https://localhost:8080/"
        },
        "id": "e-hk68hTwSlO",
        "outputId": "8c686ea3-dc8d-4ebb-a580-f6d3ba65dbb1"
      },
      "execution_count": 39,
      "outputs": [
        {
          "output_type": "stream",
          "name": "stdout",
          "text": [
            "<__main__.Dog object at 0x7b9202075e90>\n",
            "PPomi\n",
            "8\n",
            "Pome\n"
          ]
        }
      ]
    }
  ]
}