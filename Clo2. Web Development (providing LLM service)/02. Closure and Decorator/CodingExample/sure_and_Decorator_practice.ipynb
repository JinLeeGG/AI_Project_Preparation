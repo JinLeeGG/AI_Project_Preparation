{
  "nbformat": 4,
  "nbformat_minor": 0,
  "metadata": {
    "colab": {
      "provenance": [],
      "authorship_tag": "ABX9TyPY/Byw4n6K813lR3olCrln",
      "include_colab_link": true
    },
    "kernelspec": {
      "name": "python3",
      "display_name": "Python 3"
    },
    "language_info": {
      "name": "python"
    }
  },
  "cells": [
    {
      "cell_type": "markdown",
      "metadata": {
        "id": "view-in-github",
        "colab_type": "text"
      },
      "source": [
        "<a href=\"https://colab.research.google.com/github/JinLeeGG/AI_Project_Preparation/blob/main/Clo2.%20Web%20Development%20(providing%20LLM%20service)/02.%20Closure%20and%20Decorator/CodingExample/sure_and_Decorator_practice.ipynb\" target=\"_parent\"><img src=\"https://colab.research.google.com/assets/colab-badge.svg\" alt=\"Open In Colab\"/></a>"
      ]
    },
    {
      "cell_type": "code",
      "execution_count": null,
      "metadata": {
        "id": "i2G2x_nrzgKW"
      },
      "outputs": [],
      "source": [
        "# Closure\n",
        "def mul2(n):\n",
        "    return n * 2"
      ]
    },
    {
      "cell_type": "code",
      "source": [
        "print(mul2(10))\n",
        "print(mul2(5))"
      ],
      "metadata": {
        "colab": {
          "base_uri": "https://localhost:8080/"
        },
        "id": "aAgWoCtOzuMn",
        "outputId": "385c6ecb-3387-4d8f-94e9-7747b812626c"
      },
      "execution_count": null,
      "outputs": [
        {
          "output_type": "stream",
          "name": "stdout",
          "text": [
            "20\n",
            "10\n"
          ]
        }
      ]
    },
    {
      "cell_type": "code",
      "source": [
        "def mul5(n):\n",
        "    return n * 5"
      ],
      "metadata": {
        "id": "rVBKSs-ZzxuG"
      },
      "execution_count": null,
      "outputs": []
    },
    {
      "cell_type": "code",
      "source": [
        "print(mul5(10))\n",
        "print(mul5(5))"
      ],
      "metadata": {
        "colab": {
          "base_uri": "https://localhost:8080/"
        },
        "id": "J1RySo6Sz2Uv",
        "outputId": "24d4cf82-b0a1-4d22-d6c9-acc41578493b"
      },
      "execution_count": null,
      "outputs": [
        {
          "output_type": "stream",
          "name": "stdout",
          "text": [
            "50\n",
            "25\n"
          ]
        }
      ]
    },
    {
      "cell_type": "code",
      "source": [
        "# what if I need to create mul1, mul2, ... mul100?\n",
        "# make it using Class\n",
        "\n",
        "class Mul:\n",
        "    def __init__(self, m):\n",
        "        self.m = m\n",
        "    def mul(self, n):\n",
        "        return self.m * n"
      ],
      "metadata": {
        "id": "pK0iHDYvz697"
      },
      "execution_count": null,
      "outputs": []
    },
    {
      "cell_type": "code",
      "source": [
        "mul2 = Mul(2) # mul2 objects contains m as 2\n",
        "print(mul2.mul(10)) # calling mul function and set paremeter n as 10 : 2 * 10 = 20\n",
        "print(mul2.mul(4))"
      ],
      "metadata": {
        "colab": {
          "base_uri": "https://localhost:8080/"
        },
        "id": "r_5MB57h0dlk",
        "outputId": "7ace8189-37b2-4085-b376-7bbc6de25999"
      },
      "execution_count": null,
      "outputs": [
        {
          "output_type": "stream",
          "name": "stdout",
          "text": [
            "20\n",
            "8\n"
          ]
        }
      ]
    },
    {
      "cell_type": "code",
      "source": [
        "mul5 = Mul(5)\n",
        "print(mul5.mul(10))\n",
        "print(mul5.mul(4))"
      ],
      "metadata": {
        "colab": {
          "base_uri": "https://localhost:8080/"
        },
        "id": "R2ztcyy40vq0",
        "outputId": "0f45e05e-f1cb-447f-e4f7-ad3b0f619dd4"
      },
      "execution_count": null,
      "outputs": [
        {
          "output_type": "stream",
          "name": "stdout",
          "text": [
            "50\n",
            "20\n"
          ]
        }
      ]
    },
    {
      "cell_type": "code",
      "source": [
        "# Make it even more convinenet using Magic Method\n",
        "class Mul:\n",
        "    def __init__(self, m):\n",
        "        print('calling constructor')\n",
        "        self.m = m\n",
        "    def __call__(self, n):\n",
        "        print('calling call')\n",
        "        return self.m * n"
      ],
      "metadata": {
        "id": "Q-_8vKuO0-IF"
      },
      "execution_count": null,
      "outputs": []
    },
    {
      "cell_type": "code",
      "source": [
        "mul2 = Mul(2)\n",
        "print(mul2(10)) # now we can use object as function using call"
      ],
      "metadata": {
        "colab": {
          "base_uri": "https://localhost:8080/"
        },
        "id": "PseCMqGV1c9t",
        "outputId": "71190267-e665-4354-d95b-a343ae43a506"
      },
      "execution_count": null,
      "outputs": [
        {
          "output_type": "stream",
          "name": "stdout",
          "text": [
            "calling constructor\n",
            "calling call\n",
            "20\n"
          ]
        }
      ]
    },
    {
      "cell_type": "code",
      "source": [
        "# clousre useage\n",
        "def mul(m):\n",
        "    def wrapper(n): # returns whatever object called it\n",
        "        return m * n\n",
        "    return wrapper # returns memory address of a functio"
      ],
      "metadata": {
        "id": "PEniTwgO1saJ"
      },
      "execution_count": null,
      "outputs": []
    },
    {
      "cell_type": "code",
      "source": [
        "mul2 = mul(2) # contains function itself (memory address)\n",
        "print(mul2(10))"
      ],
      "metadata": {
        "colab": {
          "base_uri": "https://localhost:8080/"
        },
        "id": "eG13MTE42aDH",
        "outputId": "7946c6eb-91ff-4609-c570-67179d482568"
      },
      "execution_count": null,
      "outputs": [
        {
          "output_type": "stream",
          "name": "stdout",
          "text": [
            "20\n"
          ]
        }
      ]
    },
    {
      "cell_type": "code",
      "source": [
        "mul(2)(10) # This works!!"
      ],
      "metadata": {
        "colab": {
          "base_uri": "https://localhost:8080/"
        },
        "id": "9964Dz242h-K",
        "outputId": "29df6076-3057-402a-fe6c-37c605f38177"
      },
      "execution_count": null,
      "outputs": [
        {
          "output_type": "execute_result",
          "data": {
            "text/plain": [
              "20"
            ]
          },
          "metadata": {},
          "execution_count": 20
        }
      ]
    },
    {
      "cell_type": "code",
      "source": [
        "mul5 = mul(5)\n",
        "print(mul5(10))"
      ],
      "metadata": {
        "colab": {
          "base_uri": "https://localhost:8080/"
        },
        "id": "8qJPlE_L2-Z7",
        "outputId": "b1586186-783d-4a94-8633-937814d443c8"
      },
      "execution_count": null,
      "outputs": [
        {
          "output_type": "stream",
          "name": "stdout",
          "text": [
            "50\n"
          ]
        }
      ]
    },
    {
      "cell_type": "code",
      "source": [
        "# Decorator\n",
        "\n",
        "import time\n",
        "\n",
        "def func1(a, b):\n",
        "    start = time.time() # current time in miliseconds\n",
        "    result = a + b\n",
        "    end = time.time()\n",
        "    print(f'function execution time: {end - start}')\n",
        "    return result"
      ],
      "metadata": {
        "id": "QZ2_A9JR3QCo"
      },
      "execution_count": null,
      "outputs": []
    },
    {
      "cell_type": "code",
      "source": [
        "result = func1(10, 3)\n",
        "print(result)"
      ],
      "metadata": {
        "colab": {
          "base_uri": "https://localhost:8080/"
        },
        "id": "i5bATtR03i7k",
        "outputId": "490a0185-6682-41d1-a3d1-c1f871dbb1ad"
      },
      "execution_count": null,
      "outputs": [
        {
          "output_type": "stream",
          "name": "stdout",
          "text": [
            "function execution time: 4.76837158203125e-07\n",
            "13\n"
          ]
        }
      ]
    },
    {
      "cell_type": "code",
      "source": [
        "# multiplication function\n",
        "\n",
        "def func2(a, b):\n",
        "    start = time.time() # current time in miliseconds\n",
        "    result = a * b\n",
        "    end = time.time()\n",
        "    print(f'function execution time: {end - start}')\n",
        "    return result"
      ],
      "metadata": {
        "id": "pj3xQCC13nPb"
      },
      "execution_count": null,
      "outputs": []
    },
    {
      "cell_type": "code",
      "source": [
        "result = func2(10, 3)\n",
        "print(result)"
      ],
      "metadata": {
        "colab": {
          "base_uri": "https://localhost:8080/"
        },
        "id": "Kf2gdPCV4AD8",
        "outputId": "a2f8ee1c-54ee-4a5b-d38b-177fb32dd0f2"
      },
      "execution_count": null,
      "outputs": [
        {
          "output_type": "stream",
          "name": "stdout",
          "text": [
            "function execution time: 7.152557373046875e-07\n",
            "30\n"
          ]
        }
      ]
    },
    {
      "cell_type": "code",
      "source": [
        "def func1(a, b):\n",
        "    result = a + b\n",
        "    return result\n",
        "\n",
        "def func2(a, b):\n",
        "    result = a * b\n",
        "    return result\n",
        "\n",
        "# function that wrapps around function and calculates execution time (decorator)\n",
        "def elapsed(func):\n",
        "    def wrapper(a, b):\n",
        "        start = time.time()\n",
        "        print('function is executed')\n",
        "        result = func(a,b)\n",
        "        end = time.time()\n",
        "        print(f'function execution time: {end - start}')\n",
        "        return result\n",
        "    return wrapper"
      ],
      "metadata": {
        "id": "mqolSOul4GTI"
      },
      "execution_count": null,
      "outputs": []
    },
    {
      "cell_type": "code",
      "source": [
        "deco1 = elapsed(func1) # func1 is inside of elasped function\n",
        "result = deco1(10,3)\n",
        "print(result)"
      ],
      "metadata": {
        "colab": {
          "base_uri": "https://localhost:8080/"
        },
        "id": "JEuBn00D5BHZ",
        "outputId": "9591a96b-2732-4c5a-dd8c-7f2a8ee267d2"
      },
      "execution_count": null,
      "outputs": [
        {
          "output_type": "stream",
          "name": "stdout",
          "text": [
            "function is executed\n",
            "function execution time: 0.012056589126586914\n",
            "13\n"
          ]
        }
      ]
    },
    {
      "cell_type": "code",
      "source": [
        "deco2 = elapsed(func2)\n",
        "result = deco2(10, 3)\n",
        "print(result)"
      ],
      "metadata": {
        "colab": {
          "base_uri": "https://localhost:8080/"
        },
        "id": "vCazO1Es5VQr",
        "outputId": "e7313e30-6612-4934-e10f-fd5770246081"
      },
      "execution_count": null,
      "outputs": [
        {
          "output_type": "stream",
          "name": "stdout",
          "text": [
            "function is executed\n",
            "function execution time: 9.465217590332031e-05\n",
            "30\n"
          ]
        }
      ]
    },
    {
      "cell_type": "code",
      "source": [
        "# Decorator can use @decrator\n",
        "# elasped(func1)\n",
        "@elapsed\n",
        "def func1(a, b):\n",
        "    result = a + b\n",
        "    return result"
      ],
      "metadata": {
        "id": "LUwJbvSI5fCS"
      },
      "execution_count": null,
      "outputs": []
    },
    {
      "cell_type": "code",
      "source": [
        "result = func1(10, 3)\n",
        "print(result)"
      ],
      "metadata": {
        "colab": {
          "base_uri": "https://localhost:8080/"
        },
        "id": "dTvbxBXb5_nO",
        "outputId": "6cea9e00-a68f-4418-c3f0-67c18e0a299c"
      },
      "execution_count": null,
      "outputs": [
        {
          "output_type": "stream",
          "name": "stdout",
          "text": [
            "function is executed\n",
            "function execution time: 0.0004165172576904297\n",
            "13\n"
          ]
        }
      ]
    },
    {
      "cell_type": "code",
      "source": [
        "# elapsed(func2)\n",
        "@elapsed\n",
        "def func2(a, b):\n",
        "    result = a * b\n",
        "    return result"
      ],
      "metadata": {
        "id": "aqEK8u7m6DXZ"
      },
      "execution_count": null,
      "outputs": []
    },
    {
      "cell_type": "code",
      "source": [
        "result = func2(10, 3)\n",
        "print(result)"
      ],
      "metadata": {
        "colab": {
          "base_uri": "https://localhost:8080/"
        },
        "id": "LNBum0c-6RkS",
        "outputId": "00db77e5-1c1c-4f2e-e47c-169b040740ed"
      },
      "execution_count": null,
      "outputs": [
        {
          "output_type": "stream",
          "name": "stdout",
          "text": [
            "function is executed\n",
            "function execution time: 0.0003147125244140625\n",
            "30\n"
          ]
        }
      ]
    }
  ]
}