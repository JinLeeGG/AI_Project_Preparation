{
  "nbformat": 4,
  "nbformat_minor": 0,
  "metadata": {
    "colab": {
      "provenance": [],
      "authorship_tag": "ABX9TyPdnZW/XMoYgCyteII54sUj",
      "include_colab_link": true
    },
    "kernelspec": {
      "name": "python3",
      "display_name": "Python 3"
    },
    "language_info": {
      "name": "python"
    }
  },
  "cells": [
    {
      "cell_type": "markdown",
      "metadata": {
        "id": "view-in-github",
        "colab_type": "text"
      },
      "source": [
        "<a href=\"https://colab.research.google.com/github/JinLeeGG/AI_Project_Preparation/blob/main/1.%20Python%20Basics/19.Exception%20in%20Python/CodingExample/Exception_in_Python_Practice.ipynb\" target=\"_parent\"><img src=\"https://colab.research.google.com/assets/colab-badge.svg\" alt=\"Open In Colab\"/></a>"
      ]
    },
    {
      "cell_type": "markdown",
      "source": [
        "# Basic Structure of Exception:"
      ],
      "metadata": {
        "id": "JGZatZIxE2zG"
      }
    },
    {
      "cell_type": "code",
      "execution_count": null,
      "metadata": {
        "id": "a8nrDmPgm6Ua",
        "colab": {
          "base_uri": "https://localhost:8080/"
        },
        "outputId": "bc850f49-45ad-4a57-a822-56d6fa7c9399"
      },
      "outputs": [
        {
          "output_type": "stream",
          "name": "stdout",
          "text": [
            "3.3333333333333335\n",
            "Exception Occured!\n",
            "End of Program\n"
          ]
        }
      ],
      "source": [
        "try:\n",
        "    print(10/3)\n",
        "    print(5/0)\n",
        "    print(4/2)\n",
        "except: # execute when error occurs\n",
        "    print(\"Exception Occured!\")\n",
        "print(\"End of Program\")"
      ]
    },
    {
      "cell_type": "code",
      "source": [
        "try:\n",
        "    print(10 / 3)\n",
        "    print(5 / 0)\n",
        "    print(4 / 0)\n",
        "except ZeroDivisionError: # execute when ZeroDivisionError occurs\n",
        "    print(\"Exception occured!\")\n",
        "print('End of Program')"
      ],
      "metadata": {
        "colab": {
          "base_uri": "https://localhost:8080/"
        },
        "id": "9IzGyfcQEfjM",
        "outputId": "9327bb5c-df24-4d75-c5e5-bd2c5adc5fbd"
      },
      "execution_count": null,
      "outputs": [
        {
          "output_type": "stream",
          "name": "stdout",
          "text": [
            "3.3333333333333335\n",
            "Exception occured!\n",
            "End of Program\n"
          ]
        }
      ]
    },
    {
      "cell_type": "code",
      "source": [
        "try:\n",
        "    data = [10, 20, 30, 40, 50]\n",
        "    print(data[0])\n",
        "    print(data[5])\n",
        "    print(data[1])\n",
        "except ZeroDivisionError: # execute when ZeroDivisionError occurs\n",
        "    print(\"Exception occured!\")\n",
        "except IndexError: # execute when IndexError Occured\n",
        "    print(\"index application is not valid\")\n",
        "print('end of program')"
      ],
      "metadata": {
        "colab": {
          "base_uri": "https://localhost:8080/"
        },
        "id": "_2aLHdYdEll2",
        "outputId": "026e0555-b650-49df-ee8a-e38541040859"
      },
      "execution_count": null,
      "outputs": [
        {
          "output_type": "stream",
          "name": "stdout",
          "text": [
            "10\n",
            "index application is not valid\n",
            "end of program\n"
          ]
        }
      ]
    },
    {
      "cell_type": "code",
      "source": [
        "try :\n",
        "    print(int('hi'))\n",
        "except ZeroDivisionError: # execute when ZeroDivisionError occurs\n",
        "    print(\"Cannot divide by 0\")\n",
        "except IndexError: # execute when IndexError Occured\n",
        "    print(\"index application is not valid\")\n",
        "except ValueError:\n",
        "    print(\"Invalid Value\")\n",
        "except:\n",
        "    print(\"An Exception Occured\")\n",
        "print('end of program')"
      ],
      "metadata": {
        "colab": {
          "base_uri": "https://localhost:8080/"
        },
        "id": "xm5W1CsTFbyP",
        "outputId": "ece95a41-4529-4887-a6f3-e7bdf16ee73b"
      },
      "execution_count": null,
      "outputs": [
        {
          "output_type": "stream",
          "name": "stdout",
          "text": [
            "Invalid Value\n",
            "end of program\n"
          ]
        }
      ]
    },
    {
      "cell_type": "code",
      "source": [
        "try :\n",
        "    print(int('hi'))\n",
        "except ZeroDivisionError as e: # execute when ZeroDivisionError occurs\n",
        "    print(\"Cannot divide by 0\")\n",
        "except IndexError as e: # execute when IndexError Occured\n",
        "    print(\"index application is not valid\")\n",
        "except ValueError as e:\n",
        "    print(\"Invalid Value\")\n",
        "except Exception as e:            # Exception class handles all errors\n",
        "    print(\"An Exception Occured\")\n",
        "print('end of program')"
      ],
      "metadata": {
        "colab": {
          "base_uri": "https://localhost:8080/"
        },
        "id": "vmY_znicF31u",
        "outputId": "0004068a-4820-4f04-d6f7-93a1b2d37d86"
      },
      "execution_count": null,
      "outputs": [
        {
          "output_type": "stream",
          "name": "stdout",
          "text": [
            "Invalid Value\n",
            "end of program\n"
          ]
        }
      ]
    },
    {
      "cell_type": "code",
      "source": [
        "# e calls details about exception\n",
        "\n",
        "try :\n",
        "    print(int('hi'))\n",
        "except ZeroDivisionError as e: # execute when ZeroDivisionError occurs\n",
        "    print(e)\n",
        "except IndexError as e: # execute when IndexError Occured\n",
        "    print(e)\n",
        "except ValueError as e:\n",
        "    print(e)\n",
        "except Exception as e:            # Exception class handles all errors\n",
        "    print(e)\n",
        "print('end of program')"
      ],
      "metadata": {
        "colab": {
          "base_uri": "https://localhost:8080/"
        },
        "id": "02kXDsrOGDa1",
        "outputId": "fed70ff2-ca41-47c4-d8d3-d8546ee6873f"
      },
      "execution_count": null,
      "outputs": [
        {
          "output_type": "stream",
          "name": "stdout",
          "text": [
            "invalid literal for int() with base 10: 'hi'\n",
            "end of program\n"
          ]
        }
      ]
    },
    {
      "cell_type": "code",
      "source": [
        "# else : executes when there is no error\n",
        "\n",
        "try :\n",
        "    data = [10, 20, 30, 40, 50]\n",
        "    print(data[0])\n",
        "except ZeroDivisionError as e: # execute when ZeroDivisionError occurs\n",
        "    print(e)\n",
        "except IndexError as e: # execute when IndexError Occured\n",
        "    print(e)\n",
        "except ValueError as e:\n",
        "    print(e)\n",
        "except Exception as e:            # Exception class handles all errors\n",
        "    print(e)\n",
        "else:\n",
        "    print(\"There are no errors in this program\")\n",
        "print('end of program')"
      ],
      "metadata": {
        "colab": {
          "base_uri": "https://localhost:8080/"
        },
        "id": "ywVv5VPxH3NM",
        "outputId": "f18014e2-7c91-4080-a8a3-39f104d52b06"
      },
      "execution_count": null,
      "outputs": [
        {
          "output_type": "stream",
          "name": "stdout",
          "text": [
            "10\n",
            "There are no errors in this program\n",
            "end of program\n"
          ]
        }
      ]
    },
    {
      "cell_type": "code",
      "source": [
        "# finally : executes regardless that program contains error or not\n",
        "\n",
        "try :\n",
        "    print(int('hi'))\n",
        "    data = [10, 20, 30, 40, 50]\n",
        "    print(data[0])\n",
        "except ZeroDivisionError as e: # execute when ZeroDivisionError occurs\n",
        "    print(e)\n",
        "except IndexError as e: # execute when IndexError Occured\n",
        "    print(e)\n",
        "except ValueError as e:\n",
        "    print(e)\n",
        "except Exception as e:            # Exception class handles all errors\n",
        "    print(e)\n",
        "else:\n",
        "    print(\"There are no errors in this program\")\n",
        "finally:\n",
        "    print(\"Executes regardless of containing errors\")\n",
        "print('end of program')"
      ],
      "metadata": {
        "colab": {
          "base_uri": "https://localhost:8080/"
        },
        "id": "ObtHhpkaJmvi",
        "outputId": "685c0cfd-0556-49ee-fcb4-5cc52140bd40"
      },
      "execution_count": null,
      "outputs": [
        {
          "output_type": "stream",
          "name": "stdout",
          "text": [
            "invalid literal for int() with base 10: 'hi'\n",
            "Executes regardless of containing errors\n",
            "end of program\n"
          ]
        }
      ]
    },
    {
      "cell_type": "markdown",
      "source": [
        "# Exception Class"
      ],
      "metadata": {
        "id": "hiVABgvbJ6mA"
      }
    },
    {
      "cell_type": "code",
      "source": [
        "try:\n",
        "    raise Exception('Exception Occured!!')\n",
        "except Exception as e:\n",
        "    print(e)"
      ],
      "metadata": {
        "colab": {
          "base_uri": "https://localhost:8080/"
        },
        "id": "hZ-GJ63kJ84B",
        "outputId": "001bc45d-1403-4564-9b0c-264ad4df9e22"
      },
      "execution_count": null,
      "outputs": [
        {
          "output_type": "stream",
          "name": "stdout",
          "text": [
            "Exception Occured!!\n"
          ]
        }
      ]
    },
    {
      "cell_type": "code",
      "source": [
        "def func1():\n",
        "    n = int(input('Insert Even Number: '))\n",
        "    # If its not a even number\n",
        "    if n % 2 != 0:\n",
        "        raise Exception('The number is odd')\n",
        "    # If its even number\n",
        "    print(n)\n",
        "\n",
        "try:\n",
        "    func1()\n",
        "except Exception as e:\n",
        "    print('Exception Occured: ', e)"
      ],
      "metadata": {
        "colab": {
          "base_uri": "https://localhost:8080/"
        },
        "id": "szCq2M0hKM6o",
        "outputId": "90bc1add-8585-4a34-ccf7-41cfe9a5c531"
      },
      "execution_count": null,
      "outputs": [
        {
          "output_type": "stream",
          "name": "stdout",
          "text": [
            "Insert Even Number: 1\n",
            "Exception Occured:  The number is odd\n"
          ]
        }
      ]
    },
    {
      "cell_type": "code",
      "source": [
        "# You can do error handling anywhere\n",
        "\n",
        "def func1():\n",
        "    # func2()\n",
        "    try:\n",
        "        func2()\n",
        "    except TypeError:\n",
        "        print('Type is invalid')\n",
        "\n",
        "def func2():\n",
        "    func3()\n",
        "    # try:\n",
        "    #     func3()\n",
        "    # except TypeError:\n",
        "    #     print('Type is invalid')\n",
        "\n",
        "\n",
        "def func3():\n",
        "    print('%d' % '문자열')\n",
        "    # try:\n",
        "    #     print('%d' % '문자열')\n",
        "    # except TypeError:\n",
        "    #     print('Type is invalid')"
      ],
      "metadata": {
        "id": "Qk2eYhC6K1kT"
      },
      "execution_count": null,
      "outputs": []
    },
    {
      "cell_type": "code",
      "source": [
        "func1()"
      ],
      "metadata": {
        "colab": {
          "base_uri": "https://localhost:8080/"
        },
        "id": "xrwDWvB6NC6V",
        "outputId": "4e983897-3244-4e8a-b036-848ab77dfd42"
      },
      "execution_count": null,
      "outputs": [
        {
          "output_type": "stream",
          "name": "stdout",
          "text": [
            "Type is invalid\n"
          ]
        }
      ]
    },
    {
      "cell_type": "markdown",
      "source": [
        "# User Defined Exception"
      ],
      "metadata": {
        "id": "TjVIHxE8NgVI"
      }
    },
    {
      "cell_type": "code",
      "source": [
        "class AgeLimitError(Exception):\n",
        "    def __init__(self, age, message='Not a age range of MZ'):\n",
        "        self.age = age\n",
        "        self.message = message # if there is value, save it\n",
        "        super().__init__(self.message)\n",
        "\n",
        "def check_age(age):\n",
        "    if age < 14:\n",
        "        raise AgeLimitError(age, 'less than a age range of MZ')\n",
        "    elif age > 43:\n",
        "        raise AgeLimitError(age, 'more than a age range of MZ')\n",
        "    else:\n",
        "        return f'{age} years old : age range of MZ'"
      ],
      "metadata": {
        "id": "FB9qZT0ONkbK"
      },
      "execution_count": null,
      "outputs": []
    },
    {
      "cell_type": "code",
      "source": [
        "ages = [17, 60, 46, 20, 80, 55, 26, 12, 5]\n",
        "\n",
        "for age in ages:\n",
        "    try:\n",
        "        print(check_age(age))\n",
        "    except AgeLimitError as e:\n",
        "        print(f'{e.age} age error: {e}')"
      ],
      "metadata": {
        "colab": {
          "base_uri": "https://localhost:8080/"
        },
        "id": "6EUcIO55OVqY",
        "outputId": "3b3fd941-2bf3-4eba-afc8-b0c66d6ba823"
      },
      "execution_count": null,
      "outputs": [
        {
          "output_type": "stream",
          "name": "stdout",
          "text": [
            "17 years old : age range of MZ\n",
            "60 age error: more than a age range of MZ\n",
            "46 age error: more than a age range of MZ\n",
            "20 years old : age range of MZ\n",
            "80 age error: more than a age range of MZ\n",
            "55 age error: more than a age range of MZ\n",
            "26 years old : age range of MZ\n",
            "12 age error: less than a age range of MZ\n",
            "5 age error: less than a age range of MZ\n"
          ]
        }
      ]
    }
  ]
}