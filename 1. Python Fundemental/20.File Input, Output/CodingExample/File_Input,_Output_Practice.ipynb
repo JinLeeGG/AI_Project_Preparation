{
  "nbformat": 4,
  "nbformat_minor": 0,
  "metadata": {
    "colab": {
      "provenance": [],
      "authorship_tag": "ABX9TyPqG8jtyRRBCEaIDr1kUwQr",
      "include_colab_link": true
    },
    "kernelspec": {
      "name": "python3",
      "display_name": "Python 3"
    },
    "language_info": {
      "name": "python"
    }
  },
  "cells": [
    {
      "cell_type": "markdown",
      "metadata": {
        "id": "view-in-github",
        "colab_type": "text"
      },
      "source": [
        "<a href=\"https://colab.research.google.com/github/JinLeeGG/AI_Project_Preparation/blob/main/1.%20Python%20Basics/20.File%20Input%2C%20Output/CodingExample/File_Input%2C_Output_Practice.ipynb\" target=\"_parent\"><img src=\"https://colab.research.google.com/assets/colab-badge.svg\" alt=\"Open In Colab\"/></a>"
      ]
    },
    {
      "cell_type": "code",
      "execution_count": null,
      "metadata": {
        "colab": {
          "base_uri": "https://localhost:8080/"
        },
        "id": "Qvvv3uKeQqDm",
        "outputId": "20a6fcc7-106f-4017-f24a-2f1eedf0a598"
      },
      "outputs": [
        {
          "output_type": "stream",
          "name": "stdout",
          "text": [
            "data.txt file generated\n"
          ]
        }
      ],
      "source": [
        "# r : read\n",
        "# w : write (overriding exiting file)\n",
        "# a : adding text at the end of text file\n",
        "# b : binary mode (non-text, binary datas)\n",
        "# + : read and write\n",
        "\n",
        "file = open('data.txt', 'wt')\n",
        "for i in range(10):\n",
        "    file.write('testing opening file: ' + str(i) + '\\n')\n",
        "file.close()\n",
        "print('data.txt file generated')"
      ]
    },
    {
      "cell_type": "code",
      "source": [
        "# Relative Path\n",
        "file = open('./data.txt', 'wt')\n",
        "for i in range(10):\n",
        "    file.write('file openning test: ' + str(i) + '\\n')\n",
        "file.close() #accessable by other people if you close it\n",
        "print('data.txt file generated')"
      ],
      "metadata": {
        "colab": {
          "base_uri": "https://localhost:8080/"
        },
        "id": "kkhBUSRdRcFN",
        "outputId": "d100c23e-084c-4ebb-fc87-5bccbd75eee7"
      },
      "execution_count": null,
      "outputs": [
        {
          "output_type": "stream",
          "name": "stdout",
          "text": [
            "data.txt file generated\n"
          ]
        }
      ]
    },
    {
      "cell_type": "code",
      "source": [
        "# Using 'With'\n",
        "# it automatically closes with 'with'\n",
        "with open('word.txt', 'w') as f:\n",
        "    while True:\n",
        "        data = input('Insert Word: ')\n",
        "        if data.lower() == 'quit':\n",
        "            break\n",
        "        f.write(data + '\\n')"
      ],
      "metadata": {
        "colab": {
          "base_uri": "https://localhost:8080/"
        },
        "id": "CYbe9qT5SanO",
        "outputId": "26e370cf-e71a-4820-b166-d2ecb69f797d"
      },
      "execution_count": null,
      "outputs": [
        {
          "name": "stdout",
          "output_type": "stream",
          "text": [
            "Insert Word: Apple\n",
            "Insert Word: Banana\n",
            "Insert Word: Orange\n",
            "Insert Word: Quit\n"
          ]
        }
      ]
    },
    {
      "cell_type": "code",
      "source": [
        "class MyContext:\n",
        "    def __enter__(self):\n",
        "        print('start')\n",
        "        return 'resources'\n",
        "\n",
        "    def __exit__(self, exc_type, exc_value, traceback):\n",
        "        print('End of Process!')\n",
        "\n",
        "with MyContext() as resource:\n",
        "    print(f'Using {resource} right now.')"
      ],
      "metadata": {
        "colab": {
          "base_uri": "https://localhost:8080/"
        },
        "id": "uR-E1PliTFOF",
        "outputId": "1ba43b0f-5c52-4d93-f034-82e16d3e90c1"
      },
      "execution_count": null,
      "outputs": [
        {
          "output_type": "stream",
          "name": "stdout",
          "text": [
            "start\n",
            "Using resources right now.\n",
            "End of Process!\n"
          ]
        }
      ]
    },
    {
      "cell_type": "code",
      "source": [
        "# Reading file\n",
        "# read() : returns all content as string\n",
        "# readline() : return one line as string\n",
        "# readlines() : return all lines as list\n",
        "\n",
        "file = open('./data.txt', 'rt')\n",
        "data = file.read()\n",
        "print('data.txt file reading complete')\n",
        "print(data)\n",
        "file.close()"
      ],
      "metadata": {
        "colab": {
          "base_uri": "https://localhost:8080/"
        },
        "id": "wGq5_IjyTI8r",
        "outputId": "0cd11dfb-b239-4289-8f62-c87a361c5859"
      },
      "execution_count": null,
      "outputs": [
        {
          "output_type": "stream",
          "name": "stdout",
          "text": [
            "data.txt file reading complete\n",
            "file openning test: 0\n",
            "file openning test: 1\n",
            "file openning test: 2\n",
            "file openning test: 3\n",
            "file openning test: 4\n",
            "file openning test: 5\n",
            "file openning test: 6\n",
            "file openning test: 7\n",
            "file openning test: 8\n",
            "file openning test: 9\n",
            "\n"
          ]
        }
      ]
    },
    {
      "cell_type": "code",
      "source": [
        "file = open('./data.txt', 'rt')\n",
        "data = file.read(10) # brings number of stings\n",
        "print('data.txt file reading complete')\n",
        "print(data)\n",
        "file.close()"
      ],
      "metadata": {
        "colab": {
          "base_uri": "https://localhost:8080/"
        },
        "id": "6A6o7ZzSWtV4",
        "outputId": "221b7621-6a54-48a7-c0d1-b45ee0f85323"
      },
      "execution_count": null,
      "outputs": [
        {
          "output_type": "stream",
          "name": "stdout",
          "text": [
            "data.txt file reading complete\n",
            "file openn\n"
          ]
        }
      ]
    },
    {
      "cell_type": "code",
      "source": [
        "file = open('./data.txt', 'rt')\n",
        "while True:\n",
        "    data = file.read(10)\n",
        "    if not data:\n",
        "        break\n",
        "    print(data, end= '') # bring stings for 10 times without space\n"
      ],
      "metadata": {
        "colab": {
          "base_uri": "https://localhost:8080/"
        },
        "id": "SjakbdtaXEhd",
        "outputId": "0ce7757b-e9b5-4d48-ca43-efb8623e54e7"
      },
      "execution_count": null,
      "outputs": [
        {
          "output_type": "stream",
          "name": "stdout",
          "text": [
            "file openning test: 0\n",
            "file openning test: 1\n",
            "file openning test: 2\n",
            "file openning test: 3\n",
            "file openning test: 4\n",
            "file openning test: 5\n",
            "file openning test: 6\n",
            "file openning test: 7\n",
            "file openning test: 8\n",
            "file openning test: 9\n"
          ]
        }
      ]
    },
    {
      "cell_type": "code",
      "source": [
        "with open('word.txt', 'r') as f:\n",
        "  lines = []\n",
        "  while True:\n",
        "      line = f.readline() # read one line\n",
        "      if not line: # if there is no data\n",
        "          break\n",
        "      if len(line.strip()) != 0: # if that line has no empty space\n",
        "          print(line, end='') # prints without empty space\n",
        "          lines.append(line.strip()) # put one line in lines\n",
        "\n",
        "print(lines)\n"
      ],
      "metadata": {
        "id": "BfaL5Kg3XYtL",
        "colab": {
          "base_uri": "https://localhost:8080/"
        },
        "outputId": "4bdaa600-3a4f-445b-a65a-ca793122c18d"
      },
      "execution_count": null,
      "outputs": [
        {
          "output_type": "stream",
          "name": "stdout",
          "text": [
            "Apple\n",
            "Banana\n",
            "Orange\n",
            "['Apple', 'Banana', 'Orange']\n"
          ]
        }
      ]
    },
    {
      "cell_type": "code",
      "source": [
        "with open('./word.txt', 'r') as f:\n",
        "    lines = f.readlines() # turns every line in file into list\n",
        "    print(lines)"
      ],
      "metadata": {
        "colab": {
          "base_uri": "https://localhost:8080/"
        },
        "id": "j75IpGUMZJaT",
        "outputId": "920feb50-f659-4121-996f-207a724b482d"
      },
      "execution_count": null,
      "outputs": [
        {
          "output_type": "stream",
          "name": "stdout",
          "text": [
            "['Apple\\n', 'Banana\\n', 'Orange\\n']\n"
          ]
        }
      ]
    },
    {
      "cell_type": "code",
      "source": [
        "for i in lines:\n",
        "    print(i, end='')"
      ],
      "metadata": {
        "colab": {
          "base_uri": "https://localhost:8080/"
        },
        "id": "ExZERI-MZbuC",
        "outputId": "3415406c-32df-49c6-85c8-63539b246cdc"
      },
      "execution_count": null,
      "outputs": [
        {
          "output_type": "stream",
          "name": "stdout",
          "text": [
            "Apple\n",
            "Banana\n",
            "Orange\n"
          ]
        }
      ]
    },
    {
      "cell_type": "code",
      "source": [
        "# Use 'with' with exception\n",
        "\n",
        "try:\n",
        "    with open('noSuchfile.txt', 'r') as f:\n",
        "        content = f.read()\n",
        "        print(content)\n",
        "except FileNotFoundError:\n",
        "    print('file is not exisitng')\n"
      ],
      "metadata": {
        "colab": {
          "base_uri": "https://localhost:8080/"
        },
        "id": "yfgsqqciZf3m",
        "outputId": "1020cebe-3410-4273-82a9-c9ca1ffa058f"
      },
      "execution_count": null,
      "outputs": [
        {
          "output_type": "stream",
          "name": "stdout",
          "text": [
            "file is not exisitng\n"
          ]
        }
      ]
    },
    {
      "cell_type": "code",
      "source": [],
      "metadata": {
        "id": "h_ubjkcMZ2PR"
      },
      "execution_count": null,
      "outputs": []
    }
  ]
}