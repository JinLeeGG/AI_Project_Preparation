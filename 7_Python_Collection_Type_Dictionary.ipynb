{
  "nbformat": 4,
  "nbformat_minor": 0,
  "metadata": {
    "colab": {
      "provenance": [],
      "authorship_tag": "ABX9TyNcJ7YNHWmr0zsc19/TepyW",
      "include_colab_link": true
    },
    "kernelspec": {
      "name": "python3",
      "display_name": "Python 3"
    },
    "language_info": {
      "name": "python"
    }
  },
  "cells": [
    {
      "cell_type": "markdown",
      "metadata": {
        "id": "view-in-github",
        "colab_type": "text"
      },
      "source": [
        "<a href=\"https://colab.research.google.com/github/JinLeeGG/AI_Project_Preparation/blob/main/7_Python_Collection_Type_Dictionary.ipynb\" target=\"_parent\"><img src=\"https://colab.research.google.com/assets/colab-badge.svg\" alt=\"Open In Colab\"/></a>"
      ]
    },
    {
      "cell_type": "markdown",
      "source": [
        "https://ryuzyproject.tistory.com/9"
      ],
      "metadata": {
        "id": "q47u1NmUK2QS"
      }
    },
    {
      "cell_type": "markdown",
      "source": [
        "## 1. 딕셔너리\n",
        "파이썬의 딕셔너리는 키-값 쌍을 저장하는 변경 가능한(mutable) 컬렉션입니다."
      ],
      "metadata": {
        "id": "Nuuty6bUKdVo"
      }
    },
    {
      "cell_type": "code",
      "source": [
        "dic1 = {}\n",
        "print(dic1)\n",
        "print(type(dic1))"
      ],
      "metadata": {
        "colab": {
          "base_uri": "https://localhost:8080/"
        },
        "id": "araymYTuK5wQ",
        "outputId": "3b8524a9-e695-43d1-f59a-1adc3807b3a7"
      },
      "execution_count": null,
      "outputs": [
        {
          "output_type": "stream",
          "name": "stdout",
          "text": [
            "{}\n",
            "<class 'dict'>\n"
          ]
        }
      ]
    },
    {
      "cell_type": "code",
      "source": [
        "dic2 = {1: '김사과', 2:'반하나', 3:'오렌지', 4:'이메론'}\n",
        "print(dic2)\n",
        "print(type(dic2))"
      ],
      "metadata": {
        "colab": {
          "base_uri": "https://localhost:8080/"
        },
        "id": "TjjZ0OeRLllj",
        "outputId": "b4e95c31-9a1e-4c3b-b27d-2b7b503945b5"
      },
      "execution_count": null,
      "outputs": [
        {
          "output_type": "stream",
          "name": "stdout",
          "text": [
            "{1: '김사과', 2: '반하나', 3: '오렌지', 4: '이메론'}\n",
            "<class 'dict'>\n"
          ]
        }
      ]
    },
    {
      "cell_type": "code",
      "source": [
        "print(dic2[1])\n",
        "print(dic2[3])"
      ],
      "metadata": {
        "colab": {
          "base_uri": "https://localhost:8080/"
        },
        "id": "94QCS3jqMQnq",
        "outputId": "5ae8df24-7eb9-459f-c54e-6d9767ff3df4"
      },
      "execution_count": null,
      "outputs": [
        {
          "output_type": "stream",
          "name": "stdout",
          "text": [
            "김사과\n",
            "오렌지\n"
          ]
        }
      ]
    },
    {
      "cell_type": "code",
      "source": [
        "dic3 = {'no':1, 'userid':'apple', 'name':'김사과', 'hp':'010-1111-1111'}\n",
        "print(dic3)\n",
        "print(dic3['userid'])\n",
        "print(dic3['hp'])"
      ],
      "metadata": {
        "colab": {
          "base_uri": "https://localhost:8080/"
        },
        "id": "o5V9FpwUMaWk",
        "outputId": "f65547a8-ec57-4310-db01-b86bbceee2d6"
      },
      "execution_count": null,
      "outputs": [
        {
          "output_type": "stream",
          "name": "stdout",
          "text": [
            "{'no': 1, 'userid': 'apple', 'name': '김사과', 'hp': '010-1111-1111'}\n",
            "apple\n",
            "010-1111-1111\n"
          ]
        }
      ]
    },
    {
      "cell_type": "markdown",
      "source": [
        "# 2. 변경 가능\n",
        "딕셔너리는 변경 가능합니다. 따라서, 딕셔너리에 키-값 쌍을 추가하거나 제거하거나, 기존의 키의 값을 변경할 수 있습니다."
      ],
      "metadata": {
        "id": "iMC-NqTmM7eB"
      }
    },
    {
      "cell_type": "code",
      "source": [
        "dic4 = {1:'apple'}\n",
        "print(dic4)\n",
        "\n",
        "dic4[100] = 'banana' # 값이 없으면 생성된다.\n",
        "print(dic4)\n",
        "\n",
        "dic4[100] = 'orange' # 키값이 할당되어 있음으로 값을 변경한다.\n",
        "print(dic4)\n",
        "\n",
        "dic4[50] = 'melon'\n",
        "print(dic4)\n",
        "\n",
        "del dic4[100] # 삭제\n",
        "print(dic4)"
      ],
      "metadata": {
        "colab": {
          "base_uri": "https://localhost:8080/"
        },
        "id": "AP5CF3zWM-hC",
        "outputId": "d4859111-1bad-4ada-afad-27eae874e611"
      },
      "execution_count": null,
      "outputs": [
        {
          "output_type": "stream",
          "name": "stdout",
          "text": [
            "{1: 'apple'}\n",
            "{1: 'apple', 100: 'banana'}\n",
            "{1: 'apple', 100: 'orange'}\n",
            "{1: 'apple', 100: 'orange', 50: 'melon'}\n",
            "{1: 'apple', 50: 'melon'}\n"
          ]
        }
      ]
    },
    {
      "cell_type": "markdown",
      "source": [
        "# 3. 키, 값의 제약\n",
        "딕셔너리의 키는 변경 불가능한(immutable) 타입이어야 합니다. 예를 들어, 문자열, 정수, 튜플은 딕셔너리의 키로 사용할 수 있지만, 리스트는 딕셔너리의 키로 사용할 수 없습니다. 하지만 딕셔너리의 값은 어떤 타입이든 상관없습니다."
      ],
      "metadata": {
        "id": "gjSPIi9qOJDp"
      }
    },
    {
      "cell_type": "code",
      "source": [
        "dic3 = {'no':1, 'userid':'apple', 'name':'김사과', 'hp':'010-1111-1111'}\n",
        "print(dic3)\n",
        "\n",
        "dic3['gender'] = 'female'\n",
        "print(dic3)\n",
        "\n",
        "dic3['no'] = 10\n",
        "print(dic3)"
      ],
      "metadata": {
        "colab": {
          "base_uri": "https://localhost:8080/"
        },
        "id": "SdjsMXTsOLIY",
        "outputId": "e0a0924a-b6f3-40d0-b411-8bcd1a2337e4"
      },
      "execution_count": null,
      "outputs": [
        {
          "output_type": "stream",
          "name": "stdout",
          "text": [
            "{'no': 1, 'userid': 'apple', 'name': '김사과', 'hp': '010-1111-1111'}\n",
            "{'no': 1, 'userid': 'apple', 'name': '김사과', 'hp': '010-1111-1111', 'gender': 'female'}\n",
            "{'no': 10, 'userid': 'apple', 'name': '김사과', 'hp': '010-1111-1111', 'gender': 'female'}\n"
          ]
        }
      ]
    },
    {
      "cell_type": "code",
      "source": [
        "dic3['score'] = [100, 90, 40]\n",
        "print(dic3)"
      ],
      "metadata": {
        "colab": {
          "base_uri": "https://localhost:8080/"
        },
        "id": "thKFVQVdOjJh",
        "outputId": "3dd2cef0-5dcd-488f-8c3c-c8977bf75ec5"
      },
      "execution_count": null,
      "outputs": [
        {
          "output_type": "stream",
          "name": "stdout",
          "text": [
            "{'no': 10, 'userid': 'apple', 'name': '김사과', 'hp': '010-1111-1111', 'gender': 'female', 'score': [100, 90, 40]}\n"
          ]
        }
      ]
    },
    {
      "cell_type": "code",
      "source": [
        "# dic3[[10, 20, 30]] = ['십', '이십', '삼십']\n",
        "# print(dic3)\n",
        "dic3[(10, 20, 30)] = ['십', '이십', '삼십']\n",
        "print(dic3)"
      ],
      "metadata": {
        "colab": {
          "base_uri": "https://localhost:8080/"
        },
        "id": "MChSuSQ4O85W",
        "outputId": "d8bce5a3-3be4-4110-844c-51946c0e7e19"
      },
      "execution_count": null,
      "outputs": [
        {
          "output_type": "stream",
          "name": "stdout",
          "text": [
            "{'no': 10, 'userid': 'apple', 'name': '김사과', 'hp': '010-1111-1111', 'gender': 'female', 'score': [100, 90, 40], (10, 20, 30): ['십', '이십', '삼십']}\n"
          ]
        }
      ]
    },
    {
      "cell_type": "code",
      "source": [
        "dic3['과일'] = {'사과':'🍎', '딸기':'🍓', '수박':'🍉'}\n",
        "print(dic3)"
      ],
      "metadata": {
        "colab": {
          "base_uri": "https://localhost:8080/"
        },
        "id": "Bc9cTp07PbgA",
        "outputId": "f416aabd-9b54-4840-ce26-ca80286ac996"
      },
      "execution_count": null,
      "outputs": [
        {
          "output_type": "stream",
          "name": "stdout",
          "text": [
            "{'no': 10, 'userid': 'apple', 'name': '김사과', 'hp': '010-1111-1111', 'gender': 'female', 'score': [100, 90, 40], (10, 20, 30): ['십', '이십', '삼십'], '과일': {'사과': '🍎', '딸기': '🍓', '수박': '🍉'}}\n"
          ]
        }
      ]
    },
    {
      "cell_type": "markdown",
      "source": [
        "# 4. 함수와 메서드\n",
        "딕셔너리는 여러 함수와 메소드를 가지고 있습니다."
      ],
      "metadata": {
        "id": "Lxdsmnc1PcxJ"
      }
    },
    {
      "cell_type": "code",
      "source": [
        "dic3 = {'no':1, 'userid':'apple', 'name':'김사과', 'hp':'010-1111-1111'}\n",
        "print(dic3)\n",
        "\n",
        "# keys(): 딕셔너리의 모든 키를 반환\n",
        "print(dic3.keys())"
      ],
      "metadata": {
        "colab": {
          "base_uri": "https://localhost:8080/"
        },
        "id": "5cEj6O-APiAG",
        "outputId": "b64de86e-0403-4583-ea60-8fc0ccaaea9f"
      },
      "execution_count": null,
      "outputs": [
        {
          "output_type": "stream",
          "name": "stdout",
          "text": [
            "{'no': 1, 'userid': 'apple', 'name': '김사과', 'hp': '010-1111-1111'}\n",
            "dict_keys(['no', 'userid', 'name', 'hp'])\n"
          ]
        }
      ]
    },
    {
      "cell_type": "code",
      "source": [
        "dic3 = {'no':1, 'userid':'apple', 'name':'김사과', 'hp':'010-1111-1111'}\n",
        "print(dic3)\n",
        "\n",
        "# values(): 딕셔너리의 모든 값을 반환\n",
        "print(dic3.values())"
      ],
      "metadata": {
        "colab": {
          "base_uri": "https://localhost:8080/"
        },
        "id": "kxikpOEmP3pZ",
        "outputId": "415d7740-41ee-496e-a332-4c6b3ba72c87"
      },
      "execution_count": null,
      "outputs": [
        {
          "output_type": "stream",
          "name": "stdout",
          "text": [
            "{'no': 1, 'userid': 'apple', 'name': '김사과', 'hp': '010-1111-1111'}\n",
            "dict_values([1, 'apple', '김사과', '010-1111-1111'])\n"
          ]
        }
      ]
    },
    {
      "cell_type": "code",
      "source": [
        "dic3 = {'no':1, 'userid':'apple', 'name':'김사과', 'hp':'010-1111-1111'}\n",
        "print(dic3)\n",
        "\n",
        "# items(): 딕셔너리의 모든 키-값을 튜플로 반환\n",
        "print(dic3.items())"
      ],
      "metadata": {
        "colab": {
          "base_uri": "https://localhost:8080/"
        },
        "id": "-xUrTcGNQSYQ",
        "outputId": "5d37573d-475d-497e-b006-76ec36c71a92"
      },
      "execution_count": null,
      "outputs": [
        {
          "output_type": "stream",
          "name": "stdout",
          "text": [
            "{'no': 1, 'userid': 'apple', 'name': '김사과', 'hp': '010-1111-1111'}\n",
            "dict_items([('no', 1), ('userid', 'apple'), ('name', '김사과'), ('hp', '010-1111-1111')])\n"
          ]
        }
      ]
    },
    {
      "cell_type": "code",
      "source": [
        "dic3 = {'no':1, 'userid':'apple', 'name':'김사과', 'hp':'010-1111-1111'}\n",
        "print(dic3)\n",
        "\n",
        "# get(): 특정 키에 대한 값을 반환. 만약 키가 딕셔너리에 없으면 None을 반환\n",
        "# None을 치환할 수 있는 문자열을 설정할 수 있음\n",
        "\n",
        "print(dic3['userid'])\n",
        "# print(dic3['gender']) # 이 키의 값이 할당되어 있지 않을경우 에러가 난다.\n",
        "\n",
        "print(dic3.get('userid'))\n",
        "print(dic3.get('gender'))\n",
        "print(dic3.get('gender', '성별 알수없음'))\n",
        "print(dic3.get('name', '이름 알수없음'))"
      ],
      "metadata": {
        "colab": {
          "base_uri": "https://localhost:8080/"
        },
        "id": "e940XQReQnT9",
        "outputId": "73484147-80aa-41b1-d2f2-871d1fdf8112"
      },
      "execution_count": null,
      "outputs": [
        {
          "output_type": "stream",
          "name": "stdout",
          "text": [
            "{'no': 1, 'userid': 'apple', 'name': '김사과', 'hp': '010-1111-1111'}\n",
            "apple\n",
            "apple\n",
            "None\n",
            "성별 알수없음\n",
            "김사과\n"
          ]
        }
      ]
    }
  ]
}